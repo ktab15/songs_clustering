{
 "cells": [
  {
   "cell_type": "code",
   "execution_count": 2,
   "id": "73aefc17",
   "metadata": {},
   "outputs": [],
   "source": [
    "text=\"\"\"%%\n",
    "%% Author: bartek.rydz\n",
    "%% 17.02.2019\n",
    "%%\n",
    "% Preamble\n",
    "\\tytul{Panna Anna}{sł. Bolesław Leśmian, muz. Krzysztof Myszkowski}{Stare Dobre Małżeństwo}\n",
    "\\begin{text}\n",
    "\\footnotesize{\n",
    "    Kiedy wieczór gaśnie i ustaje dzienny znój -\\\\\n",
    "    Panna Anna właśnie najwabniejszy wdziewa strój.\\\\\n",
    "    Palce nurza smukłe w czarnoksięskiej skrzyni mrok,\\\\\n",
    "    I wyciąga kukłę, co ma w nic utkwiony wzrok.\n",
    "\n",
    "    To - jej kochan z drewna, zły, bezmyślny, martwy głuch!\\\\\n",
    "    Moc zaklęcia śpiewna wprawia go w istnienia ruch.\\\\\n",
    "    On nic nie rozumie, lecz za niego działa - czar...\\\\\n",
    "    Panna Anna umie kusić wieczność, trwonić żar...\n",
    "\n",
    "    W dzień od niego stroni, nocą - wielbi sztywny kark,\\\\\n",
    "    Nieugiętość dłoni, natarczywość martwych warg.\\\\\n",
    "    'Bóg zapomniał w niebie, że samotna ginę w śnie!\\\\\n",
    "    Kogóż mam, prócz ciebie? pieść, bo musisz pieścić mnie!'\n",
    "\n",
    "    Pieści ją bezdusznie, pieści właśnie tak a tak -\\\\\n",
    "    A ona posłusznie całym snem omdlewa wznak.\\\\\n",
    "    Śmieszny i niezgrabny, swą drewnianą tężąc dłoń,\\\\\n",
    "    Szarpie włos jedwabny, miażdży piersi, krwawi skroń.\n",
    "\n",
    "    Blada, poraniona panna Anna bólom wbrew\\\\\n",
    "    Od rozkoszy kona, błogosławiąc mgłę i krew!\\\\\n",
    "    Poprzez nocną ciszę idzie cudny, złoty strach...\\\\\n",
    "    A śmierć się kołysze cała w rosach, cała w snach.\n",
    "\n",
    "    Potem nic nie słychać, jakby ktoś na dany znak\\\\\n",
    "    Nie chciał już oddychać - byle istnieć tak a tak...\\\\\n",
    "    A gdy świt się czyni - panna Anna dwojgiem rąk\\\\\n",
    "    Znów zataja w skrzyni drewnianego sprawcę mąk.\n",
    "\n",
    "    Sztuczne wpina róże w czarny, ciężki, wonny szal -\\\\\n",
    "    I po klawiaturze błądząc dłonią - patrzy w dal..\\\\\n",
    "    Dźwięki płyną zdradnie, płyną właśnie tak a tak...\\\\\n",
    "    Chyba nikt nie zgadnie - z kim spędziła noc i jak?\n",
    "}\n",
    "\\end{text}\n",
    "\\begin{chord}\n",
    "\\footnotesize{\n",
    "    H A^{6} H A^{6}\\\\\n",
    "    H A^{6} H A^{6}\\\\\n",
    "    H A^{6} H A^{6}\\\\\n",
    "    H A^{6} H A^{6}\n",
    "\n",
    "    Fis E H\\\\\n",
    "    Fis E H\\\\\n",
    "    Fis E H\\\\\n",
    "    Fis E H A^{6} H\n",
    "\n",
    "    H A^{6} H A^{6}\\\\\n",
    "    H A^{6} H A^{6}\\\\\n",
    "    H A^{6} H A^{6}\\\\\n",
    "    H A^{6} H A^{6}\n",
    "\n",
    "    Fis E H\\\\\n",
    "    Fis E H\\\\\n",
    "    Fis E H\\\\\n",
    "    Fis E H A^{6} H\n",
    "\n",
    "    H A^{6} H A^{6}\\\\\n",
    "    H A^{6} H A^{6}\\\\\n",
    "    H A^{6} H A^{6}\\\\\n",
    "    H A^{6} H A^{6}\n",
    "\n",
    "    Fis E H\\\\\n",
    "    Fis E H\\\\\n",
    "    Fis E H\\\\\n",
    "    Fis E H A^{6} H\n",
    "\n",
    "    Fis E H\\\\\n",
    "    Fis E H\\\\\n",
    "    Fis E H\\\\\n",
    "    Fis E H A^{6} H\n",
    "}\n",
    "\\end{chord}\"\"\""
   ]
  },
  {
   "cell_type": "code",
   "execution_count": 3,
   "id": "4a6747be",
   "metadata": {},
   "outputs": [],
   "source": [
    "import re"
   ]
  },
  {
   "cell_type": "code",
   "execution_count": 5,
   "id": "291c3255",
   "metadata": {},
   "outputs": [
    {
     "data": {
      "text/plain": [
       "[\"\\n\\x0cootnotesize{\\n    Kiedy wieczór gaśnie i ustaje dzienny znój -\\\\\\n    Panna Anna właśnie najwabniejszy wdziewa strój.\\\\\\n    Palce nurza smukłe w czarnoksięskiej skrzyni mrok,\\\\\\n    I wyciąga kukłę, co ma w nic utkwiony wzrok.\\n\\n    To - jej kochan z drewna, zły, bezmyślny, martwy głuch!\\\\\\n    Moc zaklęcia śpiewna wprawia go w istnienia ruch.\\\\\\n    On nic nie rozumie, lecz za niego działa - czar...\\\\\\n    Panna Anna umie kusić wieczność, trwonić żar...\\n\\n    W dzień od niego stroni, nocą - wielbi sztywny kark,\\\\\\n    Nieugiętość dłoni, natarczywość martwych warg.\\\\\\n    'Bóg zapomniał w niebie, że samotna ginę w śnie!\\\\\\n    Kogóż mam, prócz ciebie? pieść, bo musisz pieścić mnie!'\\n\\n    Pieści ją bezdusznie, pieści właśnie tak a tak -\\\\\\n    A ona posłusznie całym snem omdlewa wznak.\\\\\\n    Śmieszny i niezgrabny, swą drewnianą tężąc dłoń,\\\\\\n    Szarpie włos jedwabny, miażdży piersi, krwawi skroń.\\n\\n    Blada, poraniona panna Anna bólom wbrew\\\\\\n    Od rozkoszy kona, błogosławiąc mgłę i krew!\\\\\\n    Poprzez nocną ciszę idzie cudny, złoty strach...\\\\\\n    A śmierć się kołysze cała w rosach, cała w snach.\\n\\n    Potem nic nie słychać, jakby ktoś na dany znak\\\\\\n    Nie chciał już oddychać - byle istnieć tak a tak...\\\\\\n    A gdy świt się czyni - panna Anna dwojgiem rąk\\\\\\n    Znów zataja w skrzyni drewnianego sprawcę mąk.\\n\\n    Sztuczne wpina róże w czarny, ciężki, wonny szal -\\\\\\n    I po klawiaturze błądząc dłonią - patrzy w dal..\\\\\\n    Dźwięki płyną zdradnie, płyną właśnie tak a tak...\\\\\\n    Chyba nikt nie zgadnie - z kim spędziła noc i jak?\\n}\\n\"]"
      ]
     },
     "execution_count": 5,
     "metadata": {},
     "output_type": "execute_result"
    }
   ],
   "source": [
    "x=re.findall(\"{textn?}([\\\\W\\\\w]+)\\\\\\\\end{textn?}\", text)\n",
    "x"
   ]
  },
  {
   "cell_type": "code",
   "execution_count": 6,
   "id": "c7952d75",
   "metadata": {},
   "outputs": [
    {
     "data": {
      "text/plain": [
       "\"\\n\\x0cootnotesize{\\n    Kiedy wieczór gaśnie i ustaje dzienny znój -\\\\\\n    Panna Anna właśnie najwabniejszy wdziewa strój.\\\\\\n    Palce nurza smukłe w czarnoksięskiej skrzyni mrok,\\\\\\n    I wyciąga kukłę, co ma w nic utkwiony wzrok.\\n\\n    To - jej kochan z drewna, zły, bezmyślny, martwy głuch!\\\\\\n    Moc zaklęcia śpiewna wprawia go w istnienia ruch.\\\\\\n    On nic nie rozumie, lecz za niego działa - czar...\\\\\\n    Panna Anna umie kusić wieczność, trwonić żar...\\n\\n    W dzień od niego stroni, nocą - wielbi sztywny kark,\\\\\\n    Nieugiętość dłoni, natarczywość martwych warg.\\\\\\n    'Bóg zapomniał w niebie, że samotna ginę w śnie!\\\\\\n    Kogóż mam, prócz ciebie? pieść, bo musisz pieścić mnie!'\\n\\n    Pieści ją bezdusznie, pieści właśnie tak a tak -\\\\\\n    A ona posłusznie całym snem omdlewa wznak.\\\\\\n    Śmieszny i niezgrabny, swą drewnianą tężąc dłoń,\\\\\\n    Szarpie włos jedwabny, miażdży piersi, krwawi skroń.\\n\\n    Blada, poraniona panna Anna bólom wbrew\\\\\\n    Od rozkoszy kona, błogosławiąc mgłę i krew!\\\\\\n    Poprzez nocną ciszę idzie cudny, złoty strach...\\\\\\n    A śmierć się kołysze cała w rosach, cała w snach.\\n\\n    Potem nic nie słychać, jakby ktoś na dany znak\\\\\\n    Nie chciał już oddychać - byle istnieć tak a tak...\\\\\\n    A gdy świt się czyni - panna Anna dwojgiem rąk\\\\\\n    Znów zataja w skrzyni drewnianego sprawcę mąk.\\n\\n    Sztuczne wpina róże w czarny, ciężki, wonny szal -\\\\\\n    I po klawiaturze błądząc dłonią - patrzy w dal..\\\\\\n    Dźwięki płyną zdradnie, płyną właśnie tak a tak...\\\\\\n    Chyba nikt nie zgadnie - z kim spędziła noc i jak?\\n}\\n\""
      ]
     },
     "execution_count": 6,
     "metadata": {},
     "output_type": "execute_result"
    }
   ],
   "source": [
    "x=re.sub(\"\\\\\\\\[\\w]+({[^}]+})?\",\" \", x[0])\n",
    "x"
   ]
  },
  {
   "cell_type": "code",
   "execution_count": 8,
   "id": "2a48142d",
   "metadata": {},
   "outputs": [
    {
     "data": {
      "text/plain": [
       "\"\\n\\x0cootnotesize{\\n    Kiedy wieczór gaśnie i ustaje dzienny znój -\\\\\\n    Panna Anna właśnie najwabniejszy wdziewa strój.\\\\\\n    Palce nurza smukłe w czarnoksięskiej skrzyni mrok,\\\\\\n    I wyciąga kukłę, co ma w nic utkwiony wzrok.\\n\\n    To - jej kochan z drewna, zły, bezmyślny, martwy głuch!\\\\\\n    Moc zaklęcia śpiewna wprawia go w istnienia ruch.\\\\\\n    On nic nie rozumie, lecz za niego działa - czar...\\\\\\n    Panna Anna umie kusić wieczność, trwonić żar...\\n\\n    W dzień od niego stroni, nocą - wielbi sztywny kark,\\\\\\n    Nieugiętość dłoni, natarczywość martwych warg.\\\\\\n    'Bóg zapomniał w niebie, że samotna ginę w śnie!\\\\\\n    Kogóż mam, prócz ciebie? pieść, bo musisz pieścić mnie!'\\n\\n    Pieści ją bezdusznie, pieści właśnie tak a tak -\\\\\\n    A ona posłusznie całym snem omdlewa wznak.\\\\\\n    Śmieszny i niezgrabny, swą drewnianą tężąc dłoń,\\\\\\n    Szarpie włos jedwabny, miażdży piersi, krwawi skroń.\\n\\n    Blada, poraniona panna Anna bólom wbrew\\\\\\n    Od rozkoszy kona, błogosławiąc mgłę i krew!\\\\\\n    Poprzez nocną ciszę idzie cudny, złoty strach...\\\\\\n    A śmierć się kołysze cała w rosach, cała w snach.\\n\\n    Potem nic nie słychać, jakby ktoś na dany znak\\\\\\n    Nie chciał już oddychać - byle istnieć tak a tak...\\\\\\n    A gdy świt się czyni - panna Anna dwojgiem rąk\\\\\\n    Znów zataja w skrzyni drewnianego sprawcę mąk.\\n\\n    Sztuczne wpina róże w czarny, ciężki, wonny szal -\\\\\\n    I po klawiaturze błądząc dłonią - patrzy w dal..\\\\\\n    Dźwięki płyną zdradnie, płyną właśnie tak a tak...\\\\\\n    Chyba nikt nie zgadnie - z kim spędziła noc i jak?\\n}\\n\""
      ]
     },
     "execution_count": 8,
     "metadata": {},
     "output_type": "execute_result"
    }
   ],
   "source": [
    "x=x.replace(\"\\\\\\\\\",\" \")\n",
    "x"
   ]
  },
  {
   "cell_type": "code",
   "execution_count": null,
   "id": "34fd39b4",
   "metadata": {},
   "outputs": [],
   "source": []
  }
 ],
 "metadata": {
  "kernelspec": {
   "display_name": "Python 3 (ipykernel)",
   "language": "python",
   "name": "python3"
  },
  "language_info": {
   "codemirror_mode": {
    "name": "ipython",
    "version": 3
   },
   "file_extension": ".py",
   "mimetype": "text/x-python",
   "name": "python",
   "nbconvert_exporter": "python",
   "pygments_lexer": "ipython3",
   "version": "3.9.13"
  },
  "toc": {
   "base_numbering": 1,
   "nav_menu": {},
   "number_sections": true,
   "sideBar": true,
   "skip_h1_title": true,
   "title_cell": "Table of Contents",
   "title_sidebar": "Contents",
   "toc_cell": false,
   "toc_position": {},
   "toc_section_display": true,
   "toc_window_display": false
  },
  "varInspector": {
   "cols": {
    "lenName": 16,
    "lenType": 16,
    "lenVar": 40
   },
   "kernels_config": {
    "python": {
     "delete_cmd_postfix": "",
     "delete_cmd_prefix": "del ",
     "library": "var_list.py",
     "varRefreshCmd": "print(var_dic_list())"
    },
    "r": {
     "delete_cmd_postfix": ") ",
     "delete_cmd_prefix": "rm(",
     "library": "var_list.r",
     "varRefreshCmd": "cat(var_dic_list()) "
    }
   },
   "types_to_exclude": [
    "module",
    "function",
    "builtin_function_or_method",
    "instance",
    "_Feature"
   ],
   "window_display": false
  }
 },
 "nbformat": 4,
 "nbformat_minor": 5
}
