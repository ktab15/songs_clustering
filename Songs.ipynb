{
 "cells": [
  {
   "cell_type": "markdown",
   "id": "63ca858e",
   "metadata": {},
   "source": [
    "### Data: \n",
    "\n",
    "* 453? xml files with songs\n",
    "* all these files come from the 21WDW (scouts group) songbook \n",
    "* each song has a title and lyrics, but also (not all of them) artists/ creator and other information\n",
    "* I am interested in the lyrics of the songs and I try split into clusters"
   ]
  },
  {
   "cell_type": "code",
   "execution_count": 3,
   "id": "782d6b0c",
   "metadata": {},
   "outputs": [],
   "source": [
    "#all imports, remove unused on the finish\n",
    "\n",
    "# data manipulation and visualization\n",
    "import pandas as pd\n",
    "import numpy as np\n",
    "import matplotlib.pyplot as plt\n",
    "import plotly.express as px\n",
    "import plotly.figure_factory as ff\n",
    "import seaborn as sns\n",
    "import os\n",
    "\n",
    "# genaral libraries\n",
    "import requests\n",
    "import re\n",
    "from math import sin, cos, sqrt, atan2, radians\n",
    "\n",
    "# algorithms\n",
    "from sklearn.datasets import make_blobs, make_moons, make_circles\n",
    "from sklearn.cluster import KMeans, AgglomerativeClustering, DBSCAN, MiniBatchKMeans\n",
    "from sklearn.neighbors import NearestNeighbors\n",
    "\n",
    "# performance metrics\n",
    "from sklearn.metrics import silhouette_score\n",
    "\n",
    "# for text representation & data preparation\n",
    "from sklearn.preprocessing import MinMaxScaler, StandardScaler\n",
    "from sklearn.feature_extraction.text import TfidfVectorizer\n",
    "from sklearn.decomposition import TruncatedSVD\n",
    "from sklearn.preprocessing import Normalizer\n",
    "from sklearn.metrics.pairwise import cosine_similarity\n",
    "\n",
    "# agglomerative clustering\n",
    "from scipy.spatial.distance import pdist, squareform\n",
    "from scipy.cluster.hierarchy import linkage\n",
    "from scipy.cluster.hierarchy import dendrogram\n",
    "import scipy.cluster.hierarchy as sch\n",
    "import scipy.spatial as ss\n",
    "\n",
    "\n",
    "#to display the entire width of the data frame\n",
    "pd.set_option('display.max_colwidth', None)\n",
    "\n",
    "#to display the diagram\n",
    "from sklearn import set_config\n",
    "set_config(display=\"diagram\")\n"
   ]
  },
  {
   "cell_type": "code",
   "execution_count": 11,
   "id": "8080c312",
   "metadata": {
    "collapsed": true
   },
   "outputs": [
    {
     "data": {
      "text/plain": [
       "['Szesc_blota_stop.xml',\n",
       " 'Balonik.xml',\n",
       " 'niepatrznato.xml',\n",
       " 'Madonna.xml',\n",
       " 'Nierozdziobai.xml',\n",
       " 'Przechyly.xml',\n",
       " 'Znow_wedrujemy.xml',\n",
       " 'Makatka_z_aniolem.xml',\n",
       " 'Bieszczadzki_trakt.xml',\n",
       " 'Ach_kiedy_znowu_rusza.xml',\n",
       " 'Wiatr,_wiosenny_gitarzysta.xml',\n",
       " 'Dokad_nas_zaprowadzisz_Panie.xml',\n",
       " 'Jedyne_co_mam.xml',\n",
       " 'Miedzy_nami_tyle_sniegu.xml',\n",
       " 'Dylan_--_pastisz.xml',\n",
       " 'wasza_wysokosc_kobieto.xml',\n",
       " 'Chlopaki_nie_placza.xml',\n",
       " 'Gonic_marzenia.xml',\n",
       " 'Przyjaciolko.xml',\n",
       " 'Tawerna_pod_pijana_zgraja.xml',\n",
       " 'Pocaluj_noc.xml',\n",
       " 'Zwiewnosc.xml',\n",
       " 'Zegluj.xml',\n",
       " 'Easy_Rider.xml',\n",
       " 'Wielki_Woz.xml',\n",
       " 'Pan_Kmicic.xml',\n",
       " 'Broadway.xml',\n",
       " 'Juz_rozpalilo_sie_ognisko.xml',\n",
       " 'ciwszyscyludzie.xml',\n",
       " 'Jesienne_wspominanki.xml',\n",
       " 'Jaka_cene.xml',\n",
       " 'Lekcja_historii_klasycznej.xml',\n",
       " 'Miasto.xml',\n",
       " 'Placz_moja_wodo.xml',\n",
       " 'Szkic_do_portretu.xml',\n",
       " 'Piosenka_dla_Wojtka_Bellona.xml',\n",
       " 'Wojtka_Bellona_ostatnia_ziemska_podroz_do_Wlodawy.xml',\n",
       " 'Zabierz_mnie_na_stacje.xml',\n",
       " 'Piosenka_dla_juniora_i_jego_gitary.xml',\n",
       " 'Kochac.xml',\n",
       " 'Jestem_maly_mis.xml',\n",
       " 'krajkapelna.xml',\n",
       " 'Bellonika_z_miastem.xml',\n",
       " 'muchawszklancelemoniady.xml',\n",
       " 'plastelina.xml',\n",
       " 'Zawsze_tam_gdzie_ty.xml',\n",
       " 'Szczescie.xml',\n",
       " 'obraciachktorzypytalisie.xml',\n",
       " 'Ukraina.xml',\n",
       " 'Pozegnanie.xml',\n",
       " 'Dym_z_jalowca.xml',\n",
       " 'Bajka.xml',\n",
       " 'Hymn_harcerski.xml',\n",
       " 'idziesobiekrolik.xml',\n",
       " 'Pojdzmy_wszyscy_do_stajenki.xml',\n",
       " 'Mur_1.xml',\n",
       " 'Czarny_blues_o_czwartej_nad_ranem.xml',\n",
       " 'Pacyfik.xml',\n",
       " 'zaciagnijcie_na_oknie_niebieska_zaslone.xml',\n",
       " 'Bal.xml',\n",
       " 'Jak_dobrze_nam.xml',\n",
       " 'spowiedz.xml',\n",
       " 'leluchow.xml',\n",
       " 'Piesn_na_wyjscie.xml',\n",
       " 'Byloby_milo.xml',\n",
       " 'Gdy_mnie_kochac_przestaniesz.xml',\n",
       " 'Chyba_juz_czas_wracac_do_domu.xml',\n",
       " 'Dzis_do_ciebie.xml',\n",
       " 'Zima.xml',\n",
       " 'Zaledwo_wiem.xml',\n",
       " 'Dzielna_Margot.xml',\n",
       " 'List_do_swiata.xml',\n",
       " 'Ballada_o_dziewczynie_co_pila_gorace_mleko.xml',\n",
       " 'moiprzyjaciele.xml',\n",
       " 'Pan_Podbipieta.xml',\n",
       " 'Fiddlers_Green.xml',\n",
       " 'Drzewa.xml',\n",
       " 'Jest_juz_za_pozno,_nie_jest_za_pozno.xml',\n",
       " 'Piechota_do_lata.xml',\n",
       " 'Ballada_majowa.xml',\n",
       " 'W_lesie_listopadowym.xml',\n",
       " 'Chodz_pomaluj_moj_swiat.xml',\n",
       " 'PiosenkaMazowiecka.xml',\n",
       " 'Powroty.xml',\n",
       " 'Gdy_tak_siedzimy.xml',\n",
       " 'Limeryk_o_narodach.xml',\n",
       " 'Mur_2.xml',\n",
       " 'rapsodokroluwarnenczyku.xml',\n",
       " 'Wedrowiec.xml',\n",
       " 'Chory_na_wyobraznie.xml',\n",
       " 'Zegarmistrz_swiatla.xml',\n",
       " 'jasio.xml',\n",
       " 'wloczedzy.xml',\n",
       " 'Kim_wlasciwie_bylas.xml',\n",
       " 'Panna_kminkowa.xml',\n",
       " 'Press_gang.xml',\n",
       " 'U_zrodel_tesknot.xml',\n",
       " 'Goryl.xml',\n",
       " 'Wczoraj_wieczorem.xml',\n",
       " 'pozegnanieO.xml',\n",
       " 'Polow.xml',\n",
       " 'spotkanie_w_porcie.xml',\n",
       " 'Krajka.xml',\n",
       " 'Marinette.xml',\n",
       " 'Koniec.xml',\n",
       " 'Smialy_harpunnik.xml',\n",
       " 'Beskid_jesienia.xml',\n",
       " 'Pijak.xml',\n",
       " 'Biala_sukienka.xml',\n",
       " 'Do_szopy,_hej,_pasterze.xml',\n",
       " 'Bosman.xml',\n",
       " 'Nie_-_prosba_o_reke.xml',\n",
       " 'List_do_Malego_Ksiecia.xml',\n",
       " 'Pejzaze_harasymowiczowskie.xml',\n",
       " 'Modlitwa_o_wschodzie_slonca.xml',\n",
       " 'creutzfeld.xml',\n",
       " 'Mister_Stormalong.xml',\n",
       " 'listoczekaniu.xml',\n",
       " 'Szanta.xml',\n",
       " 'Ambasadorowie.xml',\n",
       " 'Bar_na_stawach.xml',\n",
       " 'Zielona_dolina.xml',\n",
       " 'Jaki_byl_ten_dzien.xml',\n",
       " 'Gdy_sie_Chrystus_rodzi.xml',\n",
       " 'Pamiatka_ze_splywu.xml',\n",
       " 'Piosenka_do_spiewania_przy_pokonywaniu_wzgorz.xml',\n",
       " 'SzaraLilijka.xml',\n",
       " 'Na_blekicie_jest_polana.xml',\n",
       " 'Zapisze_sniegiem_w_kominie.xml',\n",
       " 'Majster_bieda.xml',\n",
       " 'Mury.xml',\n",
       " 'Bog_sie_rodzi.xml',\n",
       " 'Jest_taki_samotny_dom.xml',\n",
       " 'dzungla.xml',\n",
       " 'Ulice_Londyny.xml',\n",
       " 'Ja_mam_tylko_jeden_swiat.xml',\n",
       " 'Swietlany_krzyz.xml',\n",
       " 'Piosenka_bez_tytulu.xml',\n",
       " 'A_my_nie_chcemy_uciekac_stad.xml',\n",
       " 'Zapada_zmrok.xml',\n",
       " 'Tobie_albo_zawieja_w_Michigan.xml',\n",
       " 'Kolysanka.xml',\n",
       " 'Mona.xml',\n",
       " 'czas.xml',\n",
       " 'Kubus_Puchatek.xml',\n",
       " 'Pan_Wolodyjowski.xml',\n",
       " 'Hiszpanskie_dziewczyny.xml',\n",
       " 'Blues_dla_malej.xml',\n",
       " 'Maui2.xml',\n",
       " 'Pod_jodla.xml',\n",
       " 'Mniszek.xml',\n",
       " 'Kantyczka_z_lotu_ptaka.xml',\n",
       " 'Piosenka_dla_piosenki.xml',\n",
       " 'lumberjack.xml',\n",
       " 'Bieszczadzkie_anioly.xml',\n",
       " 'cos.xml',\n",
       " 'Milosc.xml',\n",
       " '10_w_skali_Beauforta.xml',\n",
       " 'Piosenka_o_mojej_ulicy.xml',\n",
       " 'Always_look_on_the_bright_side_of_life.xml',\n",
       " 'Nie_chodz_tam.xml',\n",
       " 'malarze.xml',\n",
       " 'Barka.xml',\n",
       " 'WehikulCzasu.xml',\n",
       " 'Dni_ktorych_nie_znamy.xml',\n",
       " 'Deszcz_jesienny.xml',\n",
       " 'Jalta.xml',\n",
       " 'Marchewkowe_pole.xml',\n",
       " 'Winda_do_nieba.xml',\n",
       " 'motyle_pocalunki.xml',\n",
       " 'Swiadkowie_lata.xml',\n",
       " 'Pszczolka_maja.xml',\n",
       " 'naszaklasa92.xml',\n",
       " 'Basn.xml',\n",
       " 'rajdowa.xml',\n",
       " 'Cicha_noc.xml',\n",
       " 'Pisze_historyczna_powiesc.xml',\n",
       " 'Bawitko.xml',\n",
       " 'Oblawa_2.xml',\n",
       " 'Wiatr_i_strzyga.xml',\n",
       " 'Bukowina_II.xml',\n",
       " 'Przepasc.xml',\n",
       " 'zalzabulatemo.xml',\n",
       " 'czarny_kot.xml',\n",
       " 'wiodawioda.xml',\n",
       " 'Sliczna_higieniczna.xml',\n",
       " 'Tyle_mi_zostalo_co_mi_nakapalo.xml',\n",
       " 'Bartne.xml',\n",
       " 'Nuta_z_Ponidzia.xml',\n",
       " 'Gdybym_mial_gitare.xml',\n",
       " 'List.xml',\n",
       " 'Odeszly_dziewczeta.xml',\n",
       " 'Wsrod_nocnej_ciszy.xml',\n",
       " 'Jak_bede_stary_zgrzybialy.xml',\n",
       " 'Maly_Ksiaze.xml',\n",
       " 'Powrot.xml',\n",
       " 'Ballada_o_czesku_piekarzu.xml',\n",
       " 'Gdy_sliczna_panna.xml',\n",
       " 'Jesienna_zaduma.xml',\n",
       " 'Nie_brooklinski_most.xml',\n",
       " 'rover.xml',\n",
       " 'Sprzysiezeni.xml',\n",
       " 'Zamknij_dom.xml',\n",
       " 'Beskid.xml',\n",
       " 'Wiesiek_idzie.xml',\n",
       " 'Biala_lokomotywa.xml',\n",
       " 'Nasza_klasa.xml',\n",
       " 'Pijany_poeta.xml',\n",
       " 'cosjeszcze.xml',\n",
       " 'Poloniny_niebieskie.xml',\n",
       " 'Kocham_Cie_jak_Irlandie.xml',\n",
       " 'Amsterdam.xml',\n",
       " 'Jesienny_obrazek.xml',\n",
       " 'Piosenka_na_rozgrzanie.xml',\n",
       " 'Koncert.xml',\n",
       " 'Kolysanka_dla_misiakow.xml',\n",
       " 'Piosenka_o_przyjaciolach,_wietrze,_czasie,_sloncu_itd.xml',\n",
       " 'Ballada_o_swietym_Mikolaju.xml',\n",
       " 'Trzej_wodzowie.xml',\n",
       " 'Na_Mazury.xml',\n",
       " 'We_wtorek_po_sezonie.xml',\n",
       " 'Jesien_idzie.xml',\n",
       " 'piosenkadlaprzyjaciela.xml',\n",
       " 'Blue_nose.xml',\n",
       " 'Ballada_o_krzyzowcu.xml',\n",
       " 'Niebo_do_wynajecia.xml',\n",
       " 'Jesien_w_gorach.xml',\n",
       " 'Tesknota.xml',\n",
       " 'dezyderata.xml',\n",
       " 'scarlett.xml',\n",
       " 'Polanka.xml',\n",
       " 'tylkochciec.xml',\n",
       " 'Kolekcja.xml',\n",
       " 'Rozbite_oddzialy.xml',\n",
       " 'PtakiPtakom.xml',\n",
       " 'kiedy_mowisz.xml',\n",
       " 'Samotny.xml',\n",
       " 'Dwudziesty_czwarty_lutego_(bijatyka).xml',\n",
       " 'bruces.xml',\n",
       " 'Czasem_nagle_smutniejesz.xml',\n",
       " 'piesnxxix.xml',\n",
       " 'Jaworzyna.xml',\n",
       " 'Czlowiek_bez_butow.xml',\n",
       " 'Samantha.xml',\n",
       " 'Teksanski.xml',\n",
       " 'Pod_sliwka.xml',\n",
       " 'Lulajze_Jezuniu.xml',\n",
       " 'Rondo_czyli_piosenka_o_kacu_gigancie.xml',\n",
       " 'Slynny_niebieski_prochowiec.xml',\n",
       " 'Wedrowka_zycie_jest_czlowieka.xml',\n",
       " 'pociag.xml',\n",
       " 'Jesienne_wino.xml',\n",
       " 'Jezioro.xml',\n",
       " 'piosenka_o_arbacie.xml',\n",
       " 'Let_it_be.xml',\n",
       " 'wee.xml',\n",
       " 'Pajaczek.xml',\n",
       " 'Uciekali.xml',\n",
       " 'Testament.xml',\n",
       " 'Ballada_o_Dzikim_Zachodzie.xml',\n",
       " 'Blues_niepotrzebnych_powrotow.xml',\n",
       " 'Jeszcze_nie_czas.xml',\n",
       " 'Mily_moj.xml',\n",
       " 'Majka.xml',\n",
       " 'Emeryt.xml',\n",
       " 'Piosenka_dla_starego_wiesniaka.xml',\n",
       " 'ZwawaPiosenkaOZuczku.xml',\n",
       " 'Wloz_plecak.xml',\n",
       " 'Zawirowal_swiat.xml',\n",
       " 'Czarna_Madonna.xml',\n",
       " 'Jezus_malusienki.xml',\n",
       " 'Bedziesz_moja_pania.xml',\n",
       " 'Klasowka_z_fragmentu_wolnosci.xml',\n",
       " 'To_co_bylo_minelo.xml',\n",
       " 'Nie_wierzcie_piechocie.xml',\n",
       " 'obok_ciebie.xml',\n",
       " 'Dom_w_gorach.xml',\n",
       " 'Pozegnanie_3.xml',\n",
       " 'Tolerancja.xml',\n",
       " 'Bez_slow.xml',\n",
       " 'okrok.xml',\n",
       " 'Hiszpanka_z_Callao.xml',\n",
       " 'Gorska_ballada.xml',\n",
       " 'Roza.xml',\n",
       " 'zrodlo_ii.xml',\n",
       " 'Buty.xml',\n",
       " 'Lato_z_ptakami_odchodzi.xml',\n",
       " 'Sen_Katarzyny_II.xml',\n",
       " 'Plonie_ognisko_i_szumia_knieje.xml',\n",
       " 'Miejcie_nadzieje.xml',\n",
       " 'Pozegnanie_2.xml',\n",
       " 'Korowod.xml',\n",
       " 'Gdansk.xml',\n",
       " 'Piesn_na_wejscie.xml',\n",
       " 'Jaka_jestes.xml',\n",
       " 'Opowiesc_pewnego_emigranta.xml',\n",
       " 'Nocny_kawboy.xml',\n",
       " 'Mazurscy_kolumbowie.xml',\n",
       " 'Modlitwa.xml',\n",
       " 'tropiki.xml',\n",
       " 'Piesn_pozegnalna.xml',\n",
       " 'Yellow_submarine.xml',\n",
       " 'AniolIDiable.xml',\n",
       " 'Wedrowanie.xml',\n",
       " 'Wieczor.xml',\n",
       " 'Dobosz.xml',\n",
       " 'Lemkowyna.xml',\n",
       " 'Morskie_opowiesci.xml',\n",
       " 'Tango.xml',\n",
       " 'Przemijanie.xml',\n",
       " 'Zycie_to_nie_teatr.xml',\n",
       " 'Labedzi_puch.xml',\n",
       " 'Zielone_szkielko.xml',\n",
       " 'Pytania_syna_poety.xml',\n",
       " 'Kubus.xml',\n",
       " 'Swierszcz.xml',\n",
       " 'Pozegnanie_Liverpoolu.xml',\n",
       " 'Stary_cowboy.xml',\n",
       " 'Kolysanka_dla_Joanny_I.xml',\n",
       " 'Bieszczadzki_rajd.xml',\n",
       " 'Piosenka_turystyczna_3.xml',\n",
       " 'Sielanka_o_domu.xml',\n",
       " 'osada.xml',\n",
       " 'Sanctus.xml',\n",
       " 'oblawa.xml',\n",
       " 'Skora.xml',\n",
       " 'Rozstaje.xml',\n",
       " 'Glupi_Gienek.xml',\n",
       " 'Bagno.xml',\n",
       " 'piosenkanapisanamimochodem.xml',\n",
       " 'Zamieszkamy_pod_wspolnym_dachem.xml',\n",
       " 'Piosenka_o_zajaczku.xml',\n",
       " 'Ballada_na_urodziny.xml',\n",
       " 'Wrozba.xml',\n",
       " 'Ballada_o_Janku_Wisniewskim.xml',\n",
       " 'Wedrowka_z_cieniem.xml',\n",
       " 'Wspomnienia.xml',\n",
       " 'Kiedy_w_piatek.xml',\n",
       " 'Wrzosowisko.xml',\n",
       " 'Niedokonczona_jesienna_fuga.xml',\n",
       " '1788.xml',\n",
       " 'Rzeka.xml',\n",
       " 'Modlitwa_jesienna.xml',\n",
       " 'Biala_basn.xml',\n",
       " 'Makatka_kuszaca.xml',\n",
       " 'Harcerskie_idealy.xml',\n",
       " 'Ona_sobie_tego_nie_zyczy.xml',\n",
       " 'Jak.xml',\n",
       " 'Oczy_me_pelne.xml',\n",
       " 'jakdobrzenam.xml',\n",
       " 'Przerwa_w_podrozy.xml',\n",
       " 'Ballada_o_rozy.xml',\n",
       " 'Piosenka_turystyczna_2.xml',\n",
       " 'Kaszubskie_noce.xml',\n",
       " 'alpuhara.xml',\n",
       " 'W_malinowym_chrusniaku.xml',\n",
       " 'Krakow,_Piwna_7.xml',\n",
       " 'Wania.xml',\n",
       " 'dwieskaly.xml',\n",
       " 'Ogien.xml',\n",
       " 'odpowiedz_na_ankiete_twoj_system_wartosci.xml',\n",
       " 'ze_szczytu_schodow.xml',\n",
       " 'Sierpien.xml',\n",
       " 'Nina.xml',\n",
       " 'wtakacisze.xml',\n",
       " 'Piosenka_wiosenna.xml',\n",
       " 'katarynka.xml',\n",
       " 'Ballada_Wrzesniowa.xml',\n",
       " 'Muszelki.xml',\n",
       " 'Francois_Villon.xml',\n",
       " 'dla_michasia.xml',\n",
       " 'kara_barabasza.xml',\n",
       " 'Medrcy_swiata.xml',\n",
       " 'piosenka_o_krolu_i_zolnierzach.xml',\n",
       " 'Zbroja.xml',\n",
       " 'Pozegnalny_ton.xml',\n",
       " 'Hej_przyjaciele.xml',\n",
       " 'Na_kredyt_zaufania.xml',\n",
       " 'Noc_albo_oczekiwanie_na_sniadanie.xml',\n",
       " 'Zazdrosc.xml',\n",
       " 'Ballada_antysojowa.xml',\n",
       " 'balladaoczlowiekuzkwiatami.xml',\n",
       " 'Ballada_o_arenie_cyrkowej.xml',\n",
       " 'Piesn_o_snie.xml',\n",
       " 'Morze_Polnocne.xml',\n",
       " 'Piosenka_dla_corki.xml',\n",
       " 'Zielony_plomien.xml',\n",
       " 'Opadly_mgly_wstaje_nowy_dzien.xml',\n",
       " 'Ocean.xml',\n",
       " 'Piosenka_turystyczna_1.xml',\n",
       " 'Ida_skauci.xml',\n",
       " 'Gdziekolwiek.xml',\n",
       " 'Kaganek.xml',\n",
       " 'Imperatyw.xml',\n",
       " 'Whisky.xml',\n",
       " 'gormimalo.xml',\n",
       " 'Pietruszka.xml',\n",
       " 'Bieszczady.xml',\n",
       " 'Leniwa_niedziela.xml',\n",
       " 'Jasnowlosa.xml',\n",
       " 'Bombonierka.xml',\n",
       " 'krag.xml',\n",
       " 'KochamWolnosc.xml',\n",
       " 'leonardo.xml',\n",
       " 'Noc_w_bacowce.xml',\n",
       " 'zuzanna.xml',\n",
       " 'Wiosenna_piesn_radosci.xml',\n",
       " 'Nowa.xml',\n",
       " 'Piosenka_o_mufce.xml',\n",
       " 'Karol_Levittoux.xml',\n",
       " 'Nocna_piosenka_o_miescie.xml',\n",
       " 'Zbik.xml',\n",
       " 'Moje_miasto.xml',\n",
       " 'Wizyta_u_malarki.xml',\n",
       " 'Zrodlo.xml',\n",
       " 'Dom_wschodzacego_slonca.xml',\n",
       " 'Bialy_kaftanik.xml',\n",
       " 'Burza.xml',\n",
       " 'prawodzungli.xml',\n",
       " 'Michal_Wolodyjowski.xml',\n",
       " 'Poeta_i_pan_Strauss.xml',\n",
       " 'Kochaj_mnie_i_dotykaj.xml',\n",
       " 'fortepian.xml',\n",
       " 'zbieg_okolicznosci_lagodzacych.xml',\n",
       " 'nielubie.xml',\n",
       " 'ksiezniczka_i_pirat.xml',\n",
       " 'Kamienie.xml',\n",
       " 'Nie_lubie_wampirow.xml',\n",
       " 'Raport_z_izby_otrzezwien.xml',\n",
       " 'nadziei_amatorski_zespol.xml',\n",
       " 'Pinokio.xml',\n",
       " 'Autobiografia.xml',\n",
       " 'Modlitwa_wedrownego_grajka.xml',\n",
       " 'Gloria.xml',\n",
       " 'Na_potoczku-m_prala.xml',\n",
       " 'ostatniamruczankaalbospleenkubusiapuchatka.xml',\n",
       " 'Bar_w_Beskidzie.xml',\n",
       " 'Szara_ballada.xml',\n",
       " 'Zolnierzyk.xml',\n",
       " 'najemnicy.xml',\n",
       " 'Niepokoj.xml',\n",
       " 'Pociag_grudniowy.xml',\n",
       " 'mysliwa.xml',\n",
       " 'Cichutko.xml',\n",
       " 'Bukowina_I.xml',\n",
       " 'Ballada_o_trzezwym_diable.xml',\n",
       " 'Niebieska_piosenka.xml',\n",
       " 'Piesn_gruzinska.xml',\n",
       " 'Noc_niespodzianek.xml',\n",
       " 'Idac_zawsze_idz.xml',\n",
       " 'pierscienie.xml',\n",
       " 'Nadaremnosc.xml',\n",
       " 'Ballada_o_smutnym_skinie.xml']"
      ]
     },
     "execution_count": 11,
     "metadata": {},
     "output_type": "execute_result"
    }
   ],
   "source": [
    "songs=os.listdir(\"Data/songs/\")\n",
    "songs=[x for x in songs if os.path.splitext(x)[1]==\".xml\"\n",
    "songs #list of xml files in Data directory"
   ]
  },
  {
   "cell_type": "code",
   "execution_count": 12,
   "id": "2b7f9612",
   "metadata": {},
   "outputs": [
    {
     "data": {
      "text/plain": [
       "453"
      ]
     },
     "execution_count": 12,
     "metadata": {},
     "output_type": "execute_result"
    }
   ],
   "source": [
    "len(songs)"
   ]
  },
  {
   "cell_type": "code",
   "execution_count": 13,
   "id": "66eabbcc",
   "metadata": {},
   "outputs": [],
   "source": [
    "# File parsing song in xml (I created this code to generate a epub songbook)\n",
    "\n",
    "from lxml import etree\n",
    "from enum import Enum\n",
    "from distutils.util import strtobool\n",
    "\n",
    "class RowChunk:  # supports chords\n",
    "    def __init__(self, chord='', content=None):\n",
    "        self.chord = chord\n",
    "        if content is None:\n",
    "            self.content = ''\n",
    "        else:\n",
    "            self.content = content.strip('\\t\\n')\n",
    "\n",
    "\n",
    "class RowType(Enum):\n",
    "    FIRST = 'F'\n",
    "    FIRST_SPECIAL = 'FS'\n",
    "    MIDDLE = 'M'\n",
    "    LAST = 'L'\n",
    "    SINGLE = 'S'\n",
    "\n",
    "\n",
    "class Row:\n",
    "    def __init__(self, row_type=RowType.MIDDLE, new_chords=False, bis=False, chunks=None):\n",
    "        self.row_type = row_type\n",
    "        self.new_chords = new_chords\n",
    "        self.chunks = [] if chunks is None else chunks\n",
    "        self.bis = bis\n",
    "\n",
    "    @staticmethod\n",
    "    def parseDOM(root, bis=False):\n",
    "        if root.text:\n",
    "            chunks = [RowChunk(content=root.text)]\n",
    "        else:\n",
    "            chunks = []\n",
    "        for chunk in root.getchildren():\n",
    "            chunks.append(RowChunk(chord=chunk.attrib['a'], content=chunk.tail))\n",
    "        return Row(new_chords=bool(strtobool(root.attrib.get('important_over', 'false'))), bis=bis, chunks=chunks)\n",
    "\n",
    "\n",
    "class BlockType(Enum):\n",
    "    VERSE = 'V'\n",
    "    CHORUS = 'C'\n",
    "    INSTRUMENTAL = 'I'\n",
    "    OTHER = 'O'\n",
    "\n",
    "    @staticmethod\n",
    "    def parse(s):\n",
    "        return {\n",
    "            'verse': BlockType.VERSE,\n",
    "            'chorus': BlockType.CHORUS,\n",
    "            'instrumental': BlockType.INSTRUMENTAL,\n",
    "            'other': BlockType.OTHER\n",
    "        }[s]\n",
    "\n",
    "\n",
    "class Block:\n",
    "    def __init__(self, block_type=BlockType.VERSE, rows=None):\n",
    "        self.block_type = block_type\n",
    "        self.rows = [] if rows is None else rows\n",
    "\n",
    "    @staticmethod\n",
    "    def parseDOM(root, linked=False):\n",
    "        block_type = BlockType.parse(root.attrib['type'])\n",
    "        rows = []\n",
    "        for child in root.getchildren():\n",
    "            if child.tag == '{http://21wdh.staszic.waw.pl}bis':\n",
    "                bis_rows = [Row.parseDOM(row, bis=True) for row in child.findall('{*}row')]\n",
    "                bis_times = int(child.attrib.get('times', '2'))\n",
    "                bis_rows[-1].bis = bis_times\n",
    "                rows += bis_rows\n",
    "            else:\n",
    "                rows.append(Row.parseDOM(child))\n",
    "        if len(rows) == 1:\n",
    "            rows[0].row_type = RowType.SINGLE\n",
    "        elif len(rows) > 1:\n",
    "            rows[0].row_type = RowType.FIRST_SPECIAL\n",
    "            rows[-1].row_type = RowType.LAST\n",
    "        if linked:\n",
    "            for row in rows:\n",
    "                row.new_chords = False\n",
    "        return Block(block_type=block_type, rows=rows)\n",
    "\n",
    "\n",
    "class Song:\n",
    "    def __init__(self, title='', text_author='', composer='', artist='', original_title='', translator='', alias='',\n",
    "                 comment='', music_source='', album='', blocks=None, metre='', barre=''):\n",
    "        self.title = title if title else ''\n",
    "        self.text_author = text_author if text_author else ''\n",
    "        self.composer = composer if composer else ''\n",
    "        self.artist = artist if artist else ''\n",
    "        self.original_title = original_title if original_title else ''\n",
    "        self.translator = translator if translator else ''\n",
    "        self.alias = alias if alias else ''\n",
    "        self.comment = comment if comment else ''\n",
    "        self.blocks = [] if blocks is None else blocks\n",
    "        self.music_source = music_source if music_source else ''\n",
    "        self.album = album if album else ''\n",
    "        self.metre = metre if metre else ''\n",
    "        self.barre = barre if barre else ''\n",
    "\n",
    "    @staticmethod\n",
    "    def parseDOM(root):\n",
    "        # A child of 'lyric' element may either be a text block, a reference to a text block (e.g. to a chorus), or a tablature.\n",
    "        text_blocks = root.findall('{*}lyric/{*}block')\n",
    "\n",
    "        def elementTextOrNone(elem):\n",
    "            return elem.text if elem is not None else None\n",
    "\n",
    "        def get_attrib(elem, a):\n",
    "            return elem.attrib.get(a) if elem is not None else None\n",
    "\n",
    "        def flatten(block):\n",
    "            return Block.parseDOM(block) if 'blocknb' not in block.attrib else Block.parseDOM(\n",
    "                text_blocks[int(block.attrib['blocknb']) - 1], linked=True)\n",
    "\n",
    "        blocks = [flatten(block) for block in root.find('{*}lyric').getchildren() if\n",
    "                  block.tag != '{http://21wdh.staszic.waw.pl}tabbs']\n",
    "\n",
    "        x = root.xpath(\"./s:music/s:guitar/@barre\", namespaces={\"s\": \"http://21wdh.staszic.waw.pl\"})\n",
    "        return Song(\n",
    "            title=root.get('title'),\n",
    "            text_author=elementTextOrNone(root.find('{*}text_author')),\n",
    "            composer=elementTextOrNone(root.find('{*}composer')),\n",
    "            artist=elementTextOrNone(root.find('{*}artist')),\n",
    "            original_title=elementTextOrNone(root.find('{*}original_title')),\n",
    "            translator=elementTextOrNone(root.find('{*}translator')),\n",
    "            comment=elementTextOrNone(root.find('{*}comment')),\n",
    "            alias=elementTextOrNone(root.find('{*}alias')),\n",
    "            blocks=blocks,\n",
    "            metre=get_attrib(root.find('{*}music'), 'metre'),\n",
    "            barre=x[0] if x else None,\n",
    "            album=elementTextOrNone(root.find('{*}album')),\n",
    "            music_source=elementTextOrNone(root.find('{*}music_source'))\n",
    "        )\n",
    "\n",
    "\n",
    "def parse_song_xml(path):\n",
    "    tree = etree.parse(path)\n",
    "    song = Song.parseDOM(tree.getroot())\n",
    "    return song\n"
   ]
  },
  {
   "cell_type": "code",
   "execution_count": 14,
   "id": "f032da7e",
   "metadata": {},
   "outputs": [
    {
     "data": {
      "text/html": [
       "<div>\n",
       "<style scoped>\n",
       "    .dataframe tbody tr th:only-of-type {\n",
       "        vertical-align: middle;\n",
       "    }\n",
       "\n",
       "    .dataframe tbody tr th {\n",
       "        vertical-align: top;\n",
       "    }\n",
       "\n",
       "    .dataframe thead th {\n",
       "        text-align: right;\n",
       "    }\n",
       "</style>\n",
       "<table border=\"1\" class=\"dataframe\">\n",
       "  <thead>\n",
       "    <tr style=\"text-align: right;\">\n",
       "      <th></th>\n",
       "      <th>title</th>\n",
       "      <th>lyrics</th>\n",
       "      <th>text_author</th>\n",
       "      <th>composer</th>\n",
       "      <th>artist</th>\n",
       "    </tr>\n",
       "  </thead>\n",
       "  <tbody>\n",
       "  </tbody>\n",
       "</table>\n",
       "</div>"
      ],
      "text/plain": [
       "Empty DataFrame\n",
       "Columns: [title, lyrics, text_author, composer, artist]\n",
       "Index: []"
      ]
     },
     "execution_count": 14,
     "metadata": {},
     "output_type": "execute_result"
    }
   ],
   "source": [
    "df_songs=pd.DataFrame(columns=[\"title\", \"lyrics\", \"text_author\", \"composer\", \"artist\"])\n",
    "df_songs"
   ]
  },
  {
   "cell_type": "code",
   "execution_count": 15,
   "id": "a303b8bf",
   "metadata": {},
   "outputs": [],
   "source": [
    "# creating Data Frame df_songs with title amd lyrics, each song in \n",
    "for song in songs:\n",
    "    \n",
    "    song=parse_song_xml('Data/songs/'+song)\n",
    "    title=song.title\n",
    "\n",
    "    lyrics=\"\"\n",
    "    for block in song.blocks:\n",
    "        for row in block.rows:\n",
    "            for chunk in row.chunks:\n",
    "                lyrics+=chunk.content\n",
    "            lyrics+=' '\n",
    "    text_author=song.text_author\n",
    "    composer=song.composer\n",
    "    artist=song.artist\n",
    "    \n",
    "    new_row={\"title\": [title], \"lyrics\": [lyrics], \"text_author\": [text_author], \"composer\": [composer], \"artist\": [artist]}\n",
    "    \n",
    "    df_songs=pd.concat([df_songs,pd.DataFrame(new_row)], ignore_index=True)\n",
    "    "
   ]
  },
  {
   "cell_type": "code",
   "execution_count": 16,
   "id": "9bbd688e",
   "metadata": {},
   "outputs": [
    {
     "data": {
      "text/html": [
       "<div>\n",
       "<style scoped>\n",
       "    .dataframe tbody tr th:only-of-type {\n",
       "        vertical-align: middle;\n",
       "    }\n",
       "\n",
       "    .dataframe tbody tr th {\n",
       "        vertical-align: top;\n",
       "    }\n",
       "\n",
       "    .dataframe thead th {\n",
       "        text-align: right;\n",
       "    }\n",
       "</style>\n",
       "<table border=\"1\" class=\"dataframe\">\n",
       "  <thead>\n",
       "    <tr style=\"text-align: right;\">\n",
       "      <th></th>\n",
       "      <th>title</th>\n",
       "      <th>lyrics</th>\n",
       "      <th>text_author</th>\n",
       "      <th>composer</th>\n",
       "      <th>artist</th>\n",
       "    </tr>\n",
       "  </thead>\n",
       "  <tbody>\n",
       "    <tr>\n",
       "      <th>0</th>\n",
       "      <td>Sześć błota stóp</td>\n",
       "      <td>Sześć błota stóp Sześć błota stóp Uderz w bęben już Bo nadszedł mój czas Wrzućcie mnie do wody Na wieczną wachcę trza nam gdzie Sześć błota stóp Sześć błota stóp Dziewięć sążni wody I sześć błota stóp Ściągnijcie flagę w dół Uszyjcie worek mi Dwie kule przy nogach Ostatni ścieg bez krwi no i Sześć błota stóp Sześć błota stóp Dziewięć sążni wody I sześć błota stóp Na wachcie więcej już Nie ujrzycie chyba mnie Kończę ziemską podróż Do Hilo dotrę wnet tam gdzie Sześć błota stóp Sześć błota stóp Dziewięć sążni wody I sześć błota stóp A ląd daleko jest Przed wami setki mil A mnie pozostało Do lądu kilka chwil no i Sześć błota stóp Sześć błota stóp Dziewięć sążni wody I sześć błota stóp Sześć błota stóp, sześć błota stóp, sześć błota stóp</td>\n",
       "      <td>Henryk Czekała</td>\n",
       "      <td>Cyril Tawney</td>\n",
       "      <td>Mechanicy Shanty</td>\n",
       "    </tr>\n",
       "    <tr>\n",
       "      <th>1</th>\n",
       "      <td>Balonik</td>\n",
       "      <td>Płacze dziewczynka, Balon uciekł jej, Ludzie mówią -- nie płacz, A balonik hen. Płacze dziewczyna, Chłopca trzeba jej, Ludzie mówią -- nie płacz, A balonik hen. Płacze kobieta, Mąż porzucił ją, Ludzie mówią -- nie płacz, A balonik hen. Płacze staruszka, Życie moje wróć! A balonik wrócił I błękitny jest.</td>\n",
       "      <td>Bułat Okudżawa</td>\n",
       "      <td>Bułat Okudżawa</td>\n",
       "      <td>Bułat Okudżawa</td>\n",
       "    </tr>\n",
       "    <tr>\n",
       "      <th>2</th>\n",
       "      <td>Nie patrz na to miła</td>\n",
       "      <td>Świat jest taki a nie inny i zapewne się nie zmieni ogłosili wczoraj słynni dwaj uczeni a w przypadku słynnych ludzi każda myśl jest całkiem dobra więc ci goście otrzymali zaraz Nobla Mieli rację jest jak było czyli całkiem nieciekawie w rowie leży pierwsza miłość po zabawie jak się bawić to się bawić krzyż na szyi w dłoni \"seta\" i na niebie czasem zjawi się kometa Zamknij oczy nie patrz na to moja miła pod powieką znaczenie lepsze są widoki i w tym nasza siła i w tym nasza siła że umiemy jeszcze czasem marzyć Jak się bawić to się bawić a tu biedy coraz więcej i ważniejszy jest karabin niźli serce tutaj się zabawą żyje za to tępe rządzą głowy a czasami kretyn z kijem bejsbolowym Nie patrz miła na to wszystko człowiek musi się szanować niech nie schyla się za nisko twoja głowa lecz na chwilę moment jeden za to z góry ci dziękuję otwórz oczy tylko kiedy mnie całujesz A na resztę zamknij oczy moja miła pod powieką znaczenie lepsze są widoki i w tym nasza siła i w tym nasza siła że umiemy jeszcze czasem marzyć A na resztę zamknij oczy moja miła pod powieką znaczenie lepsze są obrazy i w tym nasza siła i w tym nasza siła że umiemy jeszcze czasem marzyć</td>\n",
       "      <td>Andrzej Sikorowski</td>\n",
       "      <td>Andrzej Sikorowski</td>\n",
       "      <td>Pod Budą</td>\n",
       "    </tr>\n",
       "    <tr>\n",
       "      <th>3</th>\n",
       "      <td>Madonna</td>\n",
       "      <td>Polsko--ruska madonna Polsko--starocerkiewna  Z gorejącego złota Z żywego drewna, srebra  Bizantyjsko--słowiańska  W śnieżnobiałych sukienkach  Nie na bielonych płótnach  Na trumiennych deskach Polsko--ruska madonna Polsko--starocerkiewna  Z gorejącego złota Z żywego drewna, srebra  Nie bojarska, nie carska  Zasmucona, kamienna twarz  Nie bojarska, nie carska Zasmucona, chłopska ikona Polsko--ruska madonna Polsko--starocerkiewna  Z gorejącego złota Z żywego drewna, srebra</td>\n",
       "      <td></td>\n",
       "      <td></td>\n",
       "      <td></td>\n",
       "    </tr>\n",
       "    <tr>\n",
       "      <th>4</th>\n",
       "      <td>Nie rozdziobią nas kruki</td>\n",
       "      <td>Nie rozdziobią nas kruki Ni wrony, ani nic! Nie rozszarpią na sztuki Poezji wściekłe kły!  Ruszaj się Bruno, idziemy na piwo; Niechybnie brakuje tam nas! Od stania w miejscu niejeden już zginął, Niejeden zginął już kwiat!  Nie omami nas forsa Ni sławy pusty dźwięk! Inną ścigamy postać: Realnej zjawy tren! Ruszaj się Bruno, idziemy na piwo; Niechybnie brakuje tam nas! Od stania w miejscu niejeden już zginął, Niejeden zginął już kwiat!  Nie zdechniemy tak szybko, Jak sobie roi śmierć! Ziemia dla nas za płytka, Fruniemy w góry gdzieś!  Ruszaj się Bruno, idziemy na piwo; Niechybnie brakuje tam nas! Od stania w miejscu niejeden już zginął, Niejeden zginął już kwiat!</td>\n",
       "      <td>Edward Stachura</td>\n",
       "      <td>Krzysztof Myszkowski</td>\n",
       "      <td>Stare Dobre Małżeństwo</td>\n",
       "    </tr>\n",
       "    <tr>\n",
       "      <th>...</th>\n",
       "      <td>...</td>\n",
       "      <td>...</td>\n",
       "      <td>...</td>\n",
       "      <td>...</td>\n",
       "      <td>...</td>\n",
       "    </tr>\n",
       "    <tr>\n",
       "      <th>448</th>\n",
       "      <td>Noc niespodzianek</td>\n",
       "      <td>Opowieść będzie to prawdziwa chociaż dziwna Legliśmy w sianie obok legła płeć przeciwna A wiatr złowrogi nucił pieśni swe złowieszcze Że tu się mogą zdarzyć dziwne rzeczy jeszcze To będzie noc pełna niespodzianek W stodole tej na słomie i na sianie Lecz chłopcom utrudzonym dziewcząt holowaniem Nie w głowie były figle tylko spanie A że dzieczęta to wrażliwe są stworzenia Nie spały pogrążone w sianie i marzeniach To będzie noc pełna niespodzianek W stodole tej na słomie i na sianie Więc znawca kobiet wielki Szczypaw wódz szczypawek Zawezwał uszczypliwy naród na naradę By każdy w pracy mógł się wspiąć na wyżyny To będzie piękne do szczypania miał dziewczyny To będzie noc pełna niespodzianek W stodole tej na słomie i na sianie Nic dziwnego że niejeden chłopak musiał Zabawić się tej nocy w pana Tadeusza A że niejeden całkiem niezłą miał w tym wprawę Więc stracił armię wielki Szczypaw, wódz szczypawek To będzie noc pełna niespodzianek W stodole tej na słomie i na sianie</td>\n",
       "      <td></td>\n",
       "      <td></td>\n",
       "      <td></td>\n",
       "    </tr>\n",
       "    <tr>\n",
       "      <th>449</th>\n",
       "      <td>Idąc zawsze idź</td>\n",
       "      <td>Przyszedł do mnie, jak do swego Twarz z powieści Witkacego miał  I dwie książki. Jak nie patrzeć Bursa Andrzej i Wojaczek Rafał  W oczach miał zmęczenie światem I chciał ze mną, tak jak z bratem iść w rozmowy szał  Więc od razu bez przymiarki Takie słowne dwa ogarki mi dał Siedząc, zawsze siedź Idąc, zawsze idź Pierwsze kroki stawiaj w chmurach Choćbyś wiedział, że nie wskórasz W takich chmurach nic Absolutnie nic Kiedy mówisz, mów Kiedy milczysz, milcz Niechaj wielka będzie cisza Tak by każdy ją usłyszał Głośniej niż twój krzyk Więc: kiedy milczysz, milcz  Milczeliśmy przez godzinę Popijając połowinę pod kwas  Gdy byliśmy już w rozpędzie Wstał, powiedział: na mnie będzie już czas  Jeszcze na mnie spojrzał, jak ten Który miał miasteczka każdy wie, gdzie  Na odchodnym, bez przymiarki Rzucił słowne dwa ogarki bym pamiętał, że Siedząc, zawsze siedź Idąc, zawsze idź Pierwsze kroki stawiaj w chmurach Choćbyś wiedział, że nie wskórasz W takich chmurach nic Absolutnie nic Kiedy mówisz, mów Kiedy milczysz, milcz Niechaj wielka będzie cisza Tak by każdy ją usłyszał Głośniej niż twój krzyk Więc: kiedy milczysz, milcz</td>\n",
       "      <td>Grzegorz Tomczak</td>\n",
       "      <td>Grzegorz Tomczak</td>\n",
       "      <td>Grzegorz Tomczak</td>\n",
       "    </tr>\n",
       "    <tr>\n",
       "      <th>450</th>\n",
       "      <td>Trzy pierścienie dla królów elfów...</td>\n",
       "      <td>Trzy Pierścienie dla królów elfów pod otwartym niebem, Siedem dla władców krasnali w ich kamiennych pałacach, Dziewięć dla śmiertelników, ludzi śmiedci podległych, Jeden dla Wladcy Ciemności na czarnym tronie W krainie Mordor, gdzie zaległy cienie, Jeden, by wszystkimi rządzić, Jeden, by wszystkie odnaleźć, Jeden, by wszystkie zgromadzić i w ciemności związać W krainie Mordor, gdzie zaległy cienie.</td>\n",
       "      <td>John Ronald Reuel Tolkien</td>\n",
       "      <td>Michał Korch</td>\n",
       "      <td>21. WDHy „Żbiki”</td>\n",
       "    </tr>\n",
       "    <tr>\n",
       "      <th>451</th>\n",
       "      <td>Nadaremność</td>\n",
       "      <td>W znoju słońca mozolnie razem z ciszą dzwoni Rozgrzanych płotów chrust. Pocałunek sam siebie składa mi na skroni, Sam - bez pomocy ust... Z rozwalonej stodoły brzmi niebu przez szpary Jaskółek płacz i śmiech - Do pokoju, spłowiałe wzdymając kotary, Wyrywa się wiosny dech! Boże, coś pod mym oknem na czarną godzinę  Wonny rozkwiecił bez, Przebacz, że wbrew twej wiedzy i przed czasem ginę  Z woli mych własnych łez!...</td>\n",
       "      <td>Bolesław Leśmian</td>\n",
       "      <td>Adam Kalus</td>\n",
       "      <td>Małżeństwo z Rozsądku</td>\n",
       "    </tr>\n",
       "    <tr>\n",
       "      <th>452</th>\n",
       "      <td>Ballada o smutnym skinie</td>\n",
       "      <td>Skin jest całkem łysy, włosków on nie nosi Glaca w słońcu błyszczy jakby kombajn kosił Pejsów nie ma skin, kitek nienawidzi Boją się go Rabi Murzyni i Żydzi Najgorsza dla skina jest co roku zima Jak on ją przetrzyma przecież włosków ni ma Nałóż czapkę skinie, skinie nałóz czapkę Kiedy wicher wieje, gdy pogoda w kratkę Uszka ci się przeziębią, kark zlodowaceje Resztki myśli z mózgu wiaterek przewieje Mamusia na drutach czapkę z wełny robi Nałuż ją skinie gdy się ochłodzi Wełna główkę grzeje, ciepło jest pod czaszką I komórki szare wówczas nie zamarzną Nasz skin był odważny, czapki nie nałożył Całą zimę biegał łysy, wiosny już nie dożył Główka mu zsiniała, uszka odmroziły Czaszka na pół pękła, szwy wewnątrz puściły Nałóż czapkę skinie, skinie nałóz czapkę Kiedy wicher wieje, gdy pogoda w kratkę Uszka ci się przeziębią, kark zlodowaceje Resztki myśli z mózgu wiaterek przewieje</td>\n",
       "      <td></td>\n",
       "      <td></td>\n",
       "      <td>Big Cyc</td>\n",
       "    </tr>\n",
       "  </tbody>\n",
       "</table>\n",
       "<p>453 rows × 5 columns</p>\n",
       "</div>"
      ],
      "text/plain": [
       "                                    title  \\\n",
       "0                        Sześć błota stóp   \n",
       "1                                 Balonik   \n",
       "2                    Nie patrz na to miła   \n",
       "3                                 Madonna   \n",
       "4                Nie rozdziobią nas kruki   \n",
       "..                                    ...   \n",
       "448                     Noc niespodzianek   \n",
       "449                       Idąc zawsze idź   \n",
       "450  Trzy pierścienie dla królów elfów...   \n",
       "451                           Nadaremność   \n",
       "452              Ballada o smutnym skinie   \n",
       "\n",
       "                                                                                                                                                                                                                                                                                                                                                                                                                                                                                                                                                                                                                                                                                                                                                                                                                                                                                                                                                                                                                                                                                                                                                                                                             lyrics  \\\n",
       "0                                                                                                                                                                                                                                                                                                                                                                                                                                           Sześć błota stóp Sześć błota stóp Uderz w bęben już Bo nadszedł mój czas Wrzućcie mnie do wody Na wieczną wachcę trza nam gdzie Sześć błota stóp Sześć błota stóp Dziewięć sążni wody I sześć błota stóp Ściągnijcie flagę w dół Uszyjcie worek mi Dwie kule przy nogach Ostatni ścieg bez krwi no i Sześć błota stóp Sześć błota stóp Dziewięć sążni wody I sześć błota stóp Na wachcie więcej już Nie ujrzycie chyba mnie Kończę ziemską podróż Do Hilo dotrę wnet tam gdzie Sześć błota stóp Sześć błota stóp Dziewięć sążni wody I sześć błota stóp A ląd daleko jest Przed wami setki mil A mnie pozostało Do lądu kilka chwil no i Sześć błota stóp Sześć błota stóp Dziewięć sążni wody I sześć błota stóp Sześć błota stóp, sześć błota stóp, sześć błota stóp    \n",
       "1                                                                                                                                                                                                                                                                                                                                                                                                                                                                                                                                                                                                                                                                                                                                                                                                                                                                                                 Płacze dziewczynka, Balon uciekł jej, Ludzie mówią -- nie płacz, A balonik hen. Płacze dziewczyna, Chłopca trzeba jej, Ludzie mówią -- nie płacz, A balonik hen. Płacze kobieta, Mąż porzucił ją, Ludzie mówią -- nie płacz, A balonik hen. Płacze staruszka, Życie moje wróć! A balonik wrócił I błękitny jest.    \n",
       "2    Świat jest taki a nie inny i zapewne się nie zmieni ogłosili wczoraj słynni dwaj uczeni a w przypadku słynnych ludzi każda myśl jest całkiem dobra więc ci goście otrzymali zaraz Nobla Mieli rację jest jak było czyli całkiem nieciekawie w rowie leży pierwsza miłość po zabawie jak się bawić to się bawić krzyż na szyi w dłoni \"seta\" i na niebie czasem zjawi się kometa Zamknij oczy nie patrz na to moja miła pod powieką znaczenie lepsze są widoki i w tym nasza siła i w tym nasza siła że umiemy jeszcze czasem marzyć Jak się bawić to się bawić a tu biedy coraz więcej i ważniejszy jest karabin niźli serce tutaj się zabawą żyje za to tępe rządzą głowy a czasami kretyn z kijem bejsbolowym Nie patrz miła na to wszystko człowiek musi się szanować niech nie schyla się za nisko twoja głowa lecz na chwilę moment jeden za to z góry ci dziękuję otwórz oczy tylko kiedy mnie całujesz A na resztę zamknij oczy moja miła pod powieką znaczenie lepsze są widoki i w tym nasza siła i w tym nasza siła że umiemy jeszcze czasem marzyć A na resztę zamknij oczy moja miła pod powieką znaczenie lepsze są obrazy i w tym nasza siła i w tym nasza siła że umiemy jeszcze czasem marzyć    \n",
       "3                                                                                                                                                                                                                                                                                                                                                                                                                                                                                                                                                                                                                                                                                                                     Polsko--ruska madonna Polsko--starocerkiewna  Z gorejącego złota Z żywego drewna, srebra  Bizantyjsko--słowiańska  W śnieżnobiałych sukienkach  Nie na bielonych płótnach  Na trumiennych deskach Polsko--ruska madonna Polsko--starocerkiewna  Z gorejącego złota Z żywego drewna, srebra  Nie bojarska, nie carska  Zasmucona, kamienna twarz  Nie bojarska, nie carska Zasmucona, chłopska ikona Polsko--ruska madonna Polsko--starocerkiewna  Z gorejącego złota Z żywego drewna, srebra    \n",
       "4                                                                                                                                                                                                                                                                                                                                                                                                                                                                                                                   Nie rozdziobią nas kruki Ni wrony, ani nic! Nie rozszarpią na sztuki Poezji wściekłe kły!  Ruszaj się Bruno, idziemy na piwo; Niechybnie brakuje tam nas! Od stania w miejscu niejeden już zginął, Niejeden zginął już kwiat!  Nie omami nas forsa Ni sławy pusty dźwięk! Inną ścigamy postać: Realnej zjawy tren! Ruszaj się Bruno, idziemy na piwo; Niechybnie brakuje tam nas! Od stania w miejscu niejeden już zginął, Niejeden zginął już kwiat!  Nie zdechniemy tak szybko, Jak sobie roi śmierć! Ziemia dla nas za płytka, Fruniemy w góry gdzieś!  Ruszaj się Bruno, idziemy na piwo; Niechybnie brakuje tam nas! Od stania w miejscu niejeden już zginął, Niejeden zginął już kwiat!     \n",
       "..                                                                                                                                                                                                                                                                                                                                                                                                                                                                                                                                                                                                                                                                                                                                                                                                                                                                                                                                                                                                                                                                                                                                                                                                              ...   \n",
       "448                                                                                                                                                                                             Opowieść będzie to prawdziwa chociaż dziwna Legliśmy w sianie obok legła płeć przeciwna A wiatr złowrogi nucił pieśni swe złowieszcze Że tu się mogą zdarzyć dziwne rzeczy jeszcze To będzie noc pełna niespodzianek W stodole tej na słomie i na sianie Lecz chłopcom utrudzonym dziewcząt holowaniem Nie w głowie były figle tylko spanie A że dzieczęta to wrażliwe są stworzenia Nie spały pogrążone w sianie i marzeniach To będzie noc pełna niespodzianek W stodole tej na słomie i na sianie Więc znawca kobiet wielki Szczypaw wódz szczypawek Zawezwał uszczypliwy naród na naradę By każdy w pracy mógł się wspiąć na wyżyny To będzie piękne do szczypania miał dziewczyny To będzie noc pełna niespodzianek W stodole tej na słomie i na sianie Nic dziwnego że niejeden chłopak musiał Zabawić się tej nocy w pana Tadeusza A że niejeden całkiem niezłą miał w tym wprawę Więc stracił armię wielki Szczypaw, wódz szczypawek To będzie noc pełna niespodzianek W stodole tej na słomie i na sianie    \n",
       "449                                           Przyszedł do mnie, jak do swego Twarz z powieści Witkacego miał  I dwie książki. Jak nie patrzeć Bursa Andrzej i Wojaczek Rafał  W oczach miał zmęczenie światem I chciał ze mną, tak jak z bratem iść w rozmowy szał  Więc od razu bez przymiarki Takie słowne dwa ogarki mi dał Siedząc, zawsze siedź Idąc, zawsze idź Pierwsze kroki stawiaj w chmurach Choćbyś wiedział, że nie wskórasz W takich chmurach nic Absolutnie nic Kiedy mówisz, mów Kiedy milczysz, milcz Niechaj wielka będzie cisza Tak by każdy ją usłyszał Głośniej niż twój krzyk Więc: kiedy milczysz, milcz  Milczeliśmy przez godzinę Popijając połowinę pod kwas  Gdy byliśmy już w rozpędzie Wstał, powiedział: na mnie będzie już czas  Jeszcze na mnie spojrzał, jak ten Który miał miasteczka każdy wie, gdzie  Na odchodnym, bez przymiarki Rzucił słowne dwa ogarki bym pamiętał, że Siedząc, zawsze siedź Idąc, zawsze idź Pierwsze kroki stawiaj w chmurach Choćbyś wiedział, że nie wskórasz W takich chmurach nic Absolutnie nic Kiedy mówisz, mów Kiedy milczysz, milcz Niechaj wielka będzie cisza Tak by każdy ją usłyszał Głośniej niż twój krzyk Więc: kiedy milczysz, milcz    \n",
       "450                                                                                                                                                                                                                                                                                                                                                                                                                                                                                                                                                                                                                                                                                                                                                                                              Trzy Pierścienie dla królów elfów pod otwartym niebem, Siedem dla władców krasnali w ich kamiennych pałacach, Dziewięć dla śmiertelników, ludzi śmiedci podległych, Jeden dla Wladcy Ciemności na czarnym tronie W krainie Mordor, gdzie zaległy cienie, Jeden, by wszystkimi rządzić, Jeden, by wszystkie odnaleźć, Jeden, by wszystkie zgromadzić i w ciemności związać W krainie Mordor, gdzie zaległy cienie.    \n",
       "451                                                                                                                                                                                                                                                                                                                                                                                                                                                                                                                                                                                                                                                                                                                                                                             W znoju słońca mozolnie razem z ciszą dzwoni Rozgrzanych płotów chrust. Pocałunek sam siebie składa mi na skroni, Sam - bez pomocy ust... Z rozwalonej stodoły brzmi niebu przez szpary Jaskółek płacz i śmiech - Do pokoju, spłowiałe wzdymając kotary, Wyrywa się wiosny dech! Boże, coś pod mym oknem na czarną godzinę  Wonny rozkwiecił bez, Przebacz, że wbrew twej wiedzy i przed czasem ginę  Z woli mych własnych łez!...    \n",
       "452                                                                                                                                                                                                                                                                                         Skin jest całkem łysy, włosków on nie nosi Glaca w słońcu błyszczy jakby kombajn kosił Pejsów nie ma skin, kitek nienawidzi Boją się go Rabi Murzyni i Żydzi Najgorsza dla skina jest co roku zima Jak on ją przetrzyma przecież włosków ni ma Nałóż czapkę skinie, skinie nałóz czapkę Kiedy wicher wieje, gdy pogoda w kratkę Uszka ci się przeziębią, kark zlodowaceje Resztki myśli z mózgu wiaterek przewieje Mamusia na drutach czapkę z wełny robi Nałuż ją skinie gdy się ochłodzi Wełna główkę grzeje, ciepło jest pod czaszką I komórki szare wówczas nie zamarzną Nasz skin był odważny, czapki nie nałożył Całą zimę biegał łysy, wiosny już nie dożył Główka mu zsiniała, uszka odmroziły Czaszka na pół pękła, szwy wewnątrz puściły Nałóż czapkę skinie, skinie nałóz czapkę Kiedy wicher wieje, gdy pogoda w kratkę Uszka ci się przeziębią, kark zlodowaceje Resztki myśli z mózgu wiaterek przewieje    \n",
       "\n",
       "                   text_author              composer                  artist  \n",
       "0               Henryk Czekała          Cyril Tawney        Mechanicy Shanty  \n",
       "1               Bułat Okudżawa        Bułat Okudżawa          Bułat Okudżawa  \n",
       "2           Andrzej Sikorowski    Andrzej Sikorowski                Pod Budą  \n",
       "3                                                                             \n",
       "4              Edward Stachura  Krzysztof Myszkowski  Stare Dobre Małżeństwo  \n",
       "..                         ...                   ...                     ...  \n",
       "448                                                                           \n",
       "449           Grzegorz Tomczak      Grzegorz Tomczak        Grzegorz Tomczak  \n",
       "450  John Ronald Reuel Tolkien          Michał Korch        21. WDHy „Żbiki”  \n",
       "451           Bolesław Leśmian            Adam Kalus   Małżeństwo z Rozsądku  \n",
       "452                                                                  Big Cyc  \n",
       "\n",
       "[453 rows x 5 columns]"
      ]
     },
     "execution_count": 16,
     "metadata": {},
     "output_type": "execute_result"
    }
   ],
   "source": [
    " df_songs"
   ]
  },
  {
   "cell_type": "code",
   "execution_count": 17,
   "id": "698c00a6",
   "metadata": {},
   "outputs": [],
   "source": [
    "# text cleaning function\n",
    "def clean_text(text):\n",
    "    res = re.sub(r'[^\\w\\s]', '', text) # removes what is not letter, digit or space\n",
    "    res = re.sub(r'\\d', '', res) # removes digits\n",
    "    res = re.sub(r'\\n', '', res) # removes newlines\n",
    "    res = re.sub(r' +', ' ', res) # removes unnecessary spaces\n",
    "    res = res.lower() # changes letters to lowercase\n",
    "    return res"
   ]
  },
  {
   "cell_type": "code",
   "execution_count": 24,
   "id": "6a69fc48",
   "metadata": {},
   "outputs": [
    {
     "data": {
      "text/plain": [
       "(453, 5)"
      ]
     },
     "execution_count": 24,
     "metadata": {},
     "output_type": "execute_result"
    }
   ],
   "source": [
    "df_songs1= df_songs\n",
    "df_songs1.shape"
   ]
  },
  {
   "cell_type": "code",
   "execution_count": 25,
   "id": "c5359de9",
   "metadata": {},
   "outputs": [],
   "source": [
    "#Executing the clean_text function on song lyrics\n",
    "for i in range(0,df_songs1.shape[0]):\n",
    "    df_songs1.lyrics[i]=clean_text(df_songs1.lyrics[i])"
   ]
  },
  {
   "cell_type": "code",
   "execution_count": 26,
   "id": "71f76f04",
   "metadata": {},
   "outputs": [
    {
     "data": {
      "text/html": [
       "<div>\n",
       "<style scoped>\n",
       "    .dataframe tbody tr th:only-of-type {\n",
       "        vertical-align: middle;\n",
       "    }\n",
       "\n",
       "    .dataframe tbody tr th {\n",
       "        vertical-align: top;\n",
       "    }\n",
       "\n",
       "    .dataframe thead th {\n",
       "        text-align: right;\n",
       "    }\n",
       "</style>\n",
       "<table border=\"1\" class=\"dataframe\">\n",
       "  <thead>\n",
       "    <tr style=\"text-align: right;\">\n",
       "      <th></th>\n",
       "      <th>title</th>\n",
       "      <th>lyrics</th>\n",
       "      <th>text_author</th>\n",
       "      <th>composer</th>\n",
       "      <th>artist</th>\n",
       "    </tr>\n",
       "  </thead>\n",
       "  <tbody>\n",
       "    <tr>\n",
       "      <th>0</th>\n",
       "      <td>Sześć błota stóp</td>\n",
       "      <td>sześć błota stóp sześć błota stóp uderz w bęben już bo nadszedł mój czas wrzućcie mnie do wody na wieczną wachcę trza nam gdzie sześć błota stóp sześć błota stóp dziewięć sążni wody i sześć błota stóp ściągnijcie flagę w dół uszyjcie worek mi dwie kule przy nogach ostatni ścieg bez krwi no i sześć błota stóp sześć błota stóp dziewięć sążni wody i sześć błota stóp na wachcie więcej już nie ujrzycie chyba mnie kończę ziemską podróż do hilo dotrę wnet tam gdzie sześć błota stóp sześć błota stóp dziewięć sążni wody i sześć błota stóp a ląd daleko jest przed wami setki mil a mnie pozostało do lądu kilka chwil no i sześć błota stóp sześć błota stóp dziewięć sążni wody i sześć błota stóp sześć błota stóp sześć błota stóp sześć błota stóp</td>\n",
       "      <td>Henryk Czekała</td>\n",
       "      <td>Cyril Tawney</td>\n",
       "      <td>Mechanicy Shanty</td>\n",
       "    </tr>\n",
       "    <tr>\n",
       "      <th>1</th>\n",
       "      <td>Balonik</td>\n",
       "      <td>płacze dziewczynka balon uciekł jej ludzie mówią nie płacz a balonik hen płacze dziewczyna chłopca trzeba jej ludzie mówią nie płacz a balonik hen płacze kobieta mąż porzucił ją ludzie mówią nie płacz a balonik hen płacze staruszka życie moje wróć a balonik wrócił i błękitny jest</td>\n",
       "      <td>Bułat Okudżawa</td>\n",
       "      <td>Bułat Okudżawa</td>\n",
       "      <td>Bułat Okudżawa</td>\n",
       "    </tr>\n",
       "    <tr>\n",
       "      <th>2</th>\n",
       "      <td>Nie patrz na to miła</td>\n",
       "      <td>świat jest taki a nie inny i zapewne się nie zmieni ogłosili wczoraj słynni dwaj uczeni a w przypadku słynnych ludzi każda myśl jest całkiem dobra więc ci goście otrzymali zaraz nobla mieli rację jest jak było czyli całkiem nieciekawie w rowie leży pierwsza miłość po zabawie jak się bawić to się bawić krzyż na szyi w dłoni seta i na niebie czasem zjawi się kometa zamknij oczy nie patrz na to moja miła pod powieką znaczenie lepsze są widoki i w tym nasza siła i w tym nasza siła że umiemy jeszcze czasem marzyć jak się bawić to się bawić a tu biedy coraz więcej i ważniejszy jest karabin niźli serce tutaj się zabawą żyje za to tępe rządzą głowy a czasami kretyn z kijem bejsbolowym nie patrz miła na to wszystko człowiek musi się szanować niech nie schyla się za nisko twoja głowa lecz na chwilę moment jeden za to z góry ci dziękuję otwórz oczy tylko kiedy mnie całujesz a na resztę zamknij oczy moja miła pod powieką znaczenie lepsze są widoki i w tym nasza siła i w tym nasza siła że umiemy jeszcze czasem marzyć a na resztę zamknij oczy moja miła pod powieką znaczenie lepsze są obrazy i w tym nasza siła i w tym nasza siła że umiemy jeszcze czasem marzyć</td>\n",
       "      <td>Andrzej Sikorowski</td>\n",
       "      <td>Andrzej Sikorowski</td>\n",
       "      <td>Pod Budą</td>\n",
       "    </tr>\n",
       "    <tr>\n",
       "      <th>3</th>\n",
       "      <td>Madonna</td>\n",
       "      <td>polskoruska madonna polskostarocerkiewna z gorejącego złota z żywego drewna srebra bizantyjskosłowiańska w śnieżnobiałych sukienkach nie na bielonych płótnach na trumiennych deskach polskoruska madonna polskostarocerkiewna z gorejącego złota z żywego drewna srebra nie bojarska nie carska zasmucona kamienna twarz nie bojarska nie carska zasmucona chłopska ikona polskoruska madonna polskostarocerkiewna z gorejącego złota z żywego drewna srebra</td>\n",
       "      <td></td>\n",
       "      <td></td>\n",
       "      <td></td>\n",
       "    </tr>\n",
       "    <tr>\n",
       "      <th>4</th>\n",
       "      <td>Nie rozdziobią nas kruki</td>\n",
       "      <td>nie rozdziobią nas kruki ni wrony ani nic nie rozszarpią na sztuki poezji wściekłe kły ruszaj się bruno idziemy na piwo niechybnie brakuje tam nas od stania w miejscu niejeden już zginął niejeden zginął już kwiat nie omami nas forsa ni sławy pusty dźwięk inną ścigamy postać realnej zjawy tren ruszaj się bruno idziemy na piwo niechybnie brakuje tam nas od stania w miejscu niejeden już zginął niejeden zginął już kwiat nie zdechniemy tak szybko jak sobie roi śmierć ziemia dla nas za płytka fruniemy w góry gdzieś ruszaj się bruno idziemy na piwo niechybnie brakuje tam nas od stania w miejscu niejeden już zginął niejeden zginął już kwiat</td>\n",
       "      <td>Edward Stachura</td>\n",
       "      <td>Krzysztof Myszkowski</td>\n",
       "      <td>Stare Dobre Małżeństwo</td>\n",
       "    </tr>\n",
       "    <tr>\n",
       "      <th>...</th>\n",
       "      <td>...</td>\n",
       "      <td>...</td>\n",
       "      <td>...</td>\n",
       "      <td>...</td>\n",
       "      <td>...</td>\n",
       "    </tr>\n",
       "    <tr>\n",
       "      <th>448</th>\n",
       "      <td>Noc niespodzianek</td>\n",
       "      <td>opowieść będzie to prawdziwa chociaż dziwna legliśmy w sianie obok legła płeć przeciwna a wiatr złowrogi nucił pieśni swe złowieszcze że tu się mogą zdarzyć dziwne rzeczy jeszcze to będzie noc pełna niespodzianek w stodole tej na słomie i na sianie lecz chłopcom utrudzonym dziewcząt holowaniem nie w głowie były figle tylko spanie a że dzieczęta to wrażliwe są stworzenia nie spały pogrążone w sianie i marzeniach to będzie noc pełna niespodzianek w stodole tej na słomie i na sianie więc znawca kobiet wielki szczypaw wódz szczypawek zawezwał uszczypliwy naród na naradę by każdy w pracy mógł się wspiąć na wyżyny to będzie piękne do szczypania miał dziewczyny to będzie noc pełna niespodzianek w stodole tej na słomie i na sianie nic dziwnego że niejeden chłopak musiał zabawić się tej nocy w pana tadeusza a że niejeden całkiem niezłą miał w tym wprawę więc stracił armię wielki szczypaw wódz szczypawek to będzie noc pełna niespodzianek w stodole tej na słomie i na sianie</td>\n",
       "      <td></td>\n",
       "      <td></td>\n",
       "      <td></td>\n",
       "    </tr>\n",
       "    <tr>\n",
       "      <th>449</th>\n",
       "      <td>Idąc zawsze idź</td>\n",
       "      <td>przyszedł do mnie jak do swego twarz z powieści witkacego miał i dwie książki jak nie patrzeć bursa andrzej i wojaczek rafał w oczach miał zmęczenie światem i chciał ze mną tak jak z bratem iść w rozmowy szał więc od razu bez przymiarki takie słowne dwa ogarki mi dał siedząc zawsze siedź idąc zawsze idź pierwsze kroki stawiaj w chmurach choćbyś wiedział że nie wskórasz w takich chmurach nic absolutnie nic kiedy mówisz mów kiedy milczysz milcz niechaj wielka będzie cisza tak by każdy ją usłyszał głośniej niż twój krzyk więc kiedy milczysz milcz milczeliśmy przez godzinę popijając połowinę pod kwas gdy byliśmy już w rozpędzie wstał powiedział na mnie będzie już czas jeszcze na mnie spojrzał jak ten który miał miasteczka każdy wie gdzie na odchodnym bez przymiarki rzucił słowne dwa ogarki bym pamiętał że siedząc zawsze siedź idąc zawsze idź pierwsze kroki stawiaj w chmurach choćbyś wiedział że nie wskórasz w takich chmurach nic absolutnie nic kiedy mówisz mów kiedy milczysz milcz niechaj wielka będzie cisza tak by każdy ją usłyszał głośniej niż twój krzyk więc kiedy milczysz milcz</td>\n",
       "      <td>Grzegorz Tomczak</td>\n",
       "      <td>Grzegorz Tomczak</td>\n",
       "      <td>Grzegorz Tomczak</td>\n",
       "    </tr>\n",
       "    <tr>\n",
       "      <th>450</th>\n",
       "      <td>Trzy pierścienie dla królów elfów...</td>\n",
       "      <td>trzy pierścienie dla królów elfów pod otwartym niebem siedem dla władców krasnali w ich kamiennych pałacach dziewięć dla śmiertelników ludzi śmiedci podległych jeden dla wladcy ciemności na czarnym tronie w krainie mordor gdzie zaległy cienie jeden by wszystkimi rządzić jeden by wszystkie odnaleźć jeden by wszystkie zgromadzić i w ciemności związać w krainie mordor gdzie zaległy cienie</td>\n",
       "      <td>John Ronald Reuel Tolkien</td>\n",
       "      <td>Michał Korch</td>\n",
       "      <td>21. WDHy „Żbiki”</td>\n",
       "    </tr>\n",
       "    <tr>\n",
       "      <th>451</th>\n",
       "      <td>Nadaremność</td>\n",
       "      <td>w znoju słońca mozolnie razem z ciszą dzwoni rozgrzanych płotów chrust pocałunek sam siebie składa mi na skroni sam bez pomocy ust z rozwalonej stodoły brzmi niebu przez szpary jaskółek płacz i śmiech do pokoju spłowiałe wzdymając kotary wyrywa się wiosny dech boże coś pod mym oknem na czarną godzinę wonny rozkwiecił bez przebacz że wbrew twej wiedzy i przed czasem ginę z woli mych własnych łez</td>\n",
       "      <td>Bolesław Leśmian</td>\n",
       "      <td>Adam Kalus</td>\n",
       "      <td>Małżeństwo z Rozsądku</td>\n",
       "    </tr>\n",
       "    <tr>\n",
       "      <th>452</th>\n",
       "      <td>Ballada o smutnym skinie</td>\n",
       "      <td>skin jest całkem łysy włosków on nie nosi glaca w słońcu błyszczy jakby kombajn kosił pejsów nie ma skin kitek nienawidzi boją się go rabi murzyni i żydzi najgorsza dla skina jest co roku zima jak on ją przetrzyma przecież włosków ni ma nałóż czapkę skinie skinie nałóz czapkę kiedy wicher wieje gdy pogoda w kratkę uszka ci się przeziębią kark zlodowaceje resztki myśli z mózgu wiaterek przewieje mamusia na drutach czapkę z wełny robi nałuż ją skinie gdy się ochłodzi wełna główkę grzeje ciepło jest pod czaszką i komórki szare wówczas nie zamarzną nasz skin był odważny czapki nie nałożył całą zimę biegał łysy wiosny już nie dożył główka mu zsiniała uszka odmroziły czaszka na pół pękła szwy wewnątrz puściły nałóż czapkę skinie skinie nałóz czapkę kiedy wicher wieje gdy pogoda w kratkę uszka ci się przeziębią kark zlodowaceje resztki myśli z mózgu wiaterek przewieje</td>\n",
       "      <td></td>\n",
       "      <td></td>\n",
       "      <td>Big Cyc</td>\n",
       "    </tr>\n",
       "  </tbody>\n",
       "</table>\n",
       "<p>453 rows × 5 columns</p>\n",
       "</div>"
      ],
      "text/plain": [
       "                                    title  \\\n",
       "0                        Sześć błota stóp   \n",
       "1                                 Balonik   \n",
       "2                    Nie patrz na to miła   \n",
       "3                                 Madonna   \n",
       "4                Nie rozdziobią nas kruki   \n",
       "..                                    ...   \n",
       "448                     Noc niespodzianek   \n",
       "449                       Idąc zawsze idź   \n",
       "450  Trzy pierścienie dla królów elfów...   \n",
       "451                           Nadaremność   \n",
       "452              Ballada o smutnym skinie   \n",
       "\n",
       "                                                                                                                                                                                                                                                                                                                                                                                                                                                                                                                                                                                                                                                                                                                                                                                                                                                                                                                                                                                                                                                                                                                                                                                                           lyrics  \\\n",
       "0                                                                                                                                                                                                                                                                                                                                                                                                                                           sześć błota stóp sześć błota stóp uderz w bęben już bo nadszedł mój czas wrzućcie mnie do wody na wieczną wachcę trza nam gdzie sześć błota stóp sześć błota stóp dziewięć sążni wody i sześć błota stóp ściągnijcie flagę w dół uszyjcie worek mi dwie kule przy nogach ostatni ścieg bez krwi no i sześć błota stóp sześć błota stóp dziewięć sążni wody i sześć błota stóp na wachcie więcej już nie ujrzycie chyba mnie kończę ziemską podróż do hilo dotrę wnet tam gdzie sześć błota stóp sześć błota stóp dziewięć sążni wody i sześć błota stóp a ląd daleko jest przed wami setki mil a mnie pozostało do lądu kilka chwil no i sześć błota stóp sześć błota stóp dziewięć sążni wody i sześć błota stóp sześć błota stóp sześć błota stóp sześć błota stóp    \n",
       "1                                                                                                                                                                                                                                                                                                                                                                                                                                                                                                                                                                                                                                                                                                                                                                                                                                                                                                                       płacze dziewczynka balon uciekł jej ludzie mówią nie płacz a balonik hen płacze dziewczyna chłopca trzeba jej ludzie mówią nie płacz a balonik hen płacze kobieta mąż porzucił ją ludzie mówią nie płacz a balonik hen płacze staruszka życie moje wróć a balonik wrócił i błękitny jest    \n",
       "2    świat jest taki a nie inny i zapewne się nie zmieni ogłosili wczoraj słynni dwaj uczeni a w przypadku słynnych ludzi każda myśl jest całkiem dobra więc ci goście otrzymali zaraz nobla mieli rację jest jak było czyli całkiem nieciekawie w rowie leży pierwsza miłość po zabawie jak się bawić to się bawić krzyż na szyi w dłoni seta i na niebie czasem zjawi się kometa zamknij oczy nie patrz na to moja miła pod powieką znaczenie lepsze są widoki i w tym nasza siła i w tym nasza siła że umiemy jeszcze czasem marzyć jak się bawić to się bawić a tu biedy coraz więcej i ważniejszy jest karabin niźli serce tutaj się zabawą żyje za to tępe rządzą głowy a czasami kretyn z kijem bejsbolowym nie patrz miła na to wszystko człowiek musi się szanować niech nie schyla się za nisko twoja głowa lecz na chwilę moment jeden za to z góry ci dziękuję otwórz oczy tylko kiedy mnie całujesz a na resztę zamknij oczy moja miła pod powieką znaczenie lepsze są widoki i w tym nasza siła i w tym nasza siła że umiemy jeszcze czasem marzyć a na resztę zamknij oczy moja miła pod powieką znaczenie lepsze są obrazy i w tym nasza siła i w tym nasza siła że umiemy jeszcze czasem marzyć    \n",
       "3                                                                                                                                                                                                                                                                                                                                                                                                                                                                                                                                                                                                                                                                                                                                                  polskoruska madonna polskostarocerkiewna z gorejącego złota z żywego drewna srebra bizantyjskosłowiańska w śnieżnobiałych sukienkach nie na bielonych płótnach na trumiennych deskach polskoruska madonna polskostarocerkiewna z gorejącego złota z żywego drewna srebra nie bojarska nie carska zasmucona kamienna twarz nie bojarska nie carska zasmucona chłopska ikona polskoruska madonna polskostarocerkiewna z gorejącego złota z żywego drewna srebra    \n",
       "4                                                                                                                                                                                                                                                                                                                                                                                                                                                                                                                                               nie rozdziobią nas kruki ni wrony ani nic nie rozszarpią na sztuki poezji wściekłe kły ruszaj się bruno idziemy na piwo niechybnie brakuje tam nas od stania w miejscu niejeden już zginął niejeden zginął już kwiat nie omami nas forsa ni sławy pusty dźwięk inną ścigamy postać realnej zjawy tren ruszaj się bruno idziemy na piwo niechybnie brakuje tam nas od stania w miejscu niejeden już zginął niejeden zginął już kwiat nie zdechniemy tak szybko jak sobie roi śmierć ziemia dla nas za płytka fruniemy w góry gdzieś ruszaj się bruno idziemy na piwo niechybnie brakuje tam nas od stania w miejscu niejeden już zginął niejeden zginął już kwiat    \n",
       "..                                                                                                                                                                                                                                                                                                                                                                                                                                                                                                                                                                                                                                                                                                                                                                                                                                                                                                                                                                                                                                                                                                                                                                                                            ...   \n",
       "448                                                                                                                                                                                            opowieść będzie to prawdziwa chociaż dziwna legliśmy w sianie obok legła płeć przeciwna a wiatr złowrogi nucił pieśni swe złowieszcze że tu się mogą zdarzyć dziwne rzeczy jeszcze to będzie noc pełna niespodzianek w stodole tej na słomie i na sianie lecz chłopcom utrudzonym dziewcząt holowaniem nie w głowie były figle tylko spanie a że dzieczęta to wrażliwe są stworzenia nie spały pogrążone w sianie i marzeniach to będzie noc pełna niespodzianek w stodole tej na słomie i na sianie więc znawca kobiet wielki szczypaw wódz szczypawek zawezwał uszczypliwy naród na naradę by każdy w pracy mógł się wspiąć na wyżyny to będzie piękne do szczypania miał dziewczyny to będzie noc pełna niespodzianek w stodole tej na słomie i na sianie nic dziwnego że niejeden chłopak musiał zabawić się tej nocy w pana tadeusza a że niejeden całkiem niezłą miał w tym wprawę więc stracił armię wielki szczypaw wódz szczypawek to będzie noc pełna niespodzianek w stodole tej na słomie i na sianie    \n",
       "449                                                                       przyszedł do mnie jak do swego twarz z powieści witkacego miał i dwie książki jak nie patrzeć bursa andrzej i wojaczek rafał w oczach miał zmęczenie światem i chciał ze mną tak jak z bratem iść w rozmowy szał więc od razu bez przymiarki takie słowne dwa ogarki mi dał siedząc zawsze siedź idąc zawsze idź pierwsze kroki stawiaj w chmurach choćbyś wiedział że nie wskórasz w takich chmurach nic absolutnie nic kiedy mówisz mów kiedy milczysz milcz niechaj wielka będzie cisza tak by każdy ją usłyszał głośniej niż twój krzyk więc kiedy milczysz milcz milczeliśmy przez godzinę popijając połowinę pod kwas gdy byliśmy już w rozpędzie wstał powiedział na mnie będzie już czas jeszcze na mnie spojrzał jak ten który miał miasteczka każdy wie gdzie na odchodnym bez przymiarki rzucił słowne dwa ogarki bym pamiętał że siedząc zawsze siedź idąc zawsze idź pierwsze kroki stawiaj w chmurach choćbyś wiedział że nie wskórasz w takich chmurach nic absolutnie nic kiedy mówisz mów kiedy milczysz milcz niechaj wielka będzie cisza tak by każdy ją usłyszał głośniej niż twój krzyk więc kiedy milczysz milcz    \n",
       "450                                                                                                                                                                                                                                                                                                                                                                                                                                                                                                                                                                                                                                                                                                                                                                                                         trzy pierścienie dla królów elfów pod otwartym niebem siedem dla władców krasnali w ich kamiennych pałacach dziewięć dla śmiertelników ludzi śmiedci podległych jeden dla wladcy ciemności na czarnym tronie w krainie mordor gdzie zaległy cienie jeden by wszystkimi rządzić jeden by wszystkie odnaleźć jeden by wszystkie zgromadzić i w ciemności związać w krainie mordor gdzie zaległy cienie    \n",
       "451                                                                                                                                                                                                                                                                                                                                                                                                                                                                                                                                                                                                                                                                                                                                                                                                w znoju słońca mozolnie razem z ciszą dzwoni rozgrzanych płotów chrust pocałunek sam siebie składa mi na skroni sam bez pomocy ust z rozwalonej stodoły brzmi niebu przez szpary jaskółek płacz i śmiech do pokoju spłowiałe wzdymając kotary wyrywa się wiosny dech boże coś pod mym oknem na czarną godzinę wonny rozkwiecił bez przebacz że wbrew twej wiedzy i przed czasem ginę z woli mych własnych łez    \n",
       "452                                                                                                                                                                                                                                                                                                    skin jest całkem łysy włosków on nie nosi glaca w słońcu błyszczy jakby kombajn kosił pejsów nie ma skin kitek nienawidzi boją się go rabi murzyni i żydzi najgorsza dla skina jest co roku zima jak on ją przetrzyma przecież włosków ni ma nałóż czapkę skinie skinie nałóz czapkę kiedy wicher wieje gdy pogoda w kratkę uszka ci się przeziębią kark zlodowaceje resztki myśli z mózgu wiaterek przewieje mamusia na drutach czapkę z wełny robi nałuż ją skinie gdy się ochłodzi wełna główkę grzeje ciepło jest pod czaszką i komórki szare wówczas nie zamarzną nasz skin był odważny czapki nie nałożył całą zimę biegał łysy wiosny już nie dożył główka mu zsiniała uszka odmroziły czaszka na pół pękła szwy wewnątrz puściły nałóż czapkę skinie skinie nałóz czapkę kiedy wicher wieje gdy pogoda w kratkę uszka ci się przeziębią kark zlodowaceje resztki myśli z mózgu wiaterek przewieje    \n",
       "\n",
       "                   text_author              composer                  artist  \n",
       "0               Henryk Czekała          Cyril Tawney        Mechanicy Shanty  \n",
       "1               Bułat Okudżawa        Bułat Okudżawa          Bułat Okudżawa  \n",
       "2           Andrzej Sikorowski    Andrzej Sikorowski                Pod Budą  \n",
       "3                                                                             \n",
       "4              Edward Stachura  Krzysztof Myszkowski  Stare Dobre Małżeństwo  \n",
       "..                         ...                   ...                     ...  \n",
       "448                                                                           \n",
       "449           Grzegorz Tomczak      Grzegorz Tomczak        Grzegorz Tomczak  \n",
       "450  John Ronald Reuel Tolkien          Michał Korch        21. WDHy „Żbiki”  \n",
       "451           Bolesław Leśmian            Adam Kalus   Małżeństwo z Rozsądku  \n",
       "452                                                                  Big Cyc  \n",
       "\n",
       "[453 rows x 5 columns]"
      ]
     },
     "execution_count": 26,
     "metadata": {},
     "output_type": "execute_result"
    }
   ],
   "source": [
    "df_songs1"
   ]
  },
  {
   "cell_type": "code",
   "execution_count": 21,
   "id": "2bb897b5",
   "metadata": {},
   "outputs": [],
   "source": [
    "df_songs1.lyrics=df_songs1.lyrics.apply(clean_text)"
   ]
  },
  {
   "cell_type": "code",
   "execution_count": 22,
   "id": "c9820052",
   "metadata": {},
   "outputs": [
    {
     "data": {
      "text/html": [
       "<div>\n",
       "<style scoped>\n",
       "    .dataframe tbody tr th:only-of-type {\n",
       "        vertical-align: middle;\n",
       "    }\n",
       "\n",
       "    .dataframe tbody tr th {\n",
       "        vertical-align: top;\n",
       "    }\n",
       "\n",
       "    .dataframe thead th {\n",
       "        text-align: right;\n",
       "    }\n",
       "</style>\n",
       "<table border=\"1\" class=\"dataframe\">\n",
       "  <thead>\n",
       "    <tr style=\"text-align: right;\">\n",
       "      <th></th>\n",
       "      <th>title</th>\n",
       "      <th>lyrics</th>\n",
       "      <th>text_author</th>\n",
       "      <th>composer</th>\n",
       "      <th>artist</th>\n",
       "    </tr>\n",
       "  </thead>\n",
       "  <tbody>\n",
       "    <tr>\n",
       "      <th>0</th>\n",
       "      <td>Sześć błota stóp</td>\n",
       "      <td>sześć błota stóp sześć błota stóp uderz w bęben już bo nadszedł mój czas wrzućcie mnie do wody na wieczną wachcę trza nam gdzie sześć błota stóp sześć błota stóp dziewięć sążni wody i sześć błota stóp ściągnijcie flagę w dół uszyjcie worek mi dwie kule przy nogach ostatni ścieg bez krwi no i sześć błota stóp sześć błota stóp dziewięć sążni wody i sześć błota stóp na wachcie więcej już nie ujrzycie chyba mnie kończę ziemską podróż do hilo dotrę wnet tam gdzie sześć błota stóp sześć błota stóp dziewięć sążni wody i sześć błota stóp a ląd daleko jest przed wami setki mil a mnie pozostało do lądu kilka chwil no i sześć błota stóp sześć błota stóp dziewięć sążni wody i sześć błota stóp sześć błota stóp sześć błota stóp sześć błota stóp</td>\n",
       "      <td>Henryk Czekała</td>\n",
       "      <td>Cyril Tawney</td>\n",
       "      <td>Mechanicy Shanty</td>\n",
       "    </tr>\n",
       "    <tr>\n",
       "      <th>1</th>\n",
       "      <td>Balonik</td>\n",
       "      <td>płacze dziewczynka balon uciekł jej ludzie mówią nie płacz a balonik hen płacze dziewczyna chłopca trzeba jej ludzie mówią nie płacz a balonik hen płacze kobieta mąż porzucił ją ludzie mówią nie płacz a balonik hen płacze staruszka życie moje wróć a balonik wrócił i błękitny jest</td>\n",
       "      <td>Bułat Okudżawa</td>\n",
       "      <td>Bułat Okudżawa</td>\n",
       "      <td>Bułat Okudżawa</td>\n",
       "    </tr>\n",
       "    <tr>\n",
       "      <th>2</th>\n",
       "      <td>Nie patrz na to miła</td>\n",
       "      <td>świat jest taki a nie inny i zapewne się nie zmieni ogłosili wczoraj słynni dwaj uczeni a w przypadku słynnych ludzi każda myśl jest całkiem dobra więc ci goście otrzymali zaraz nobla mieli rację jest jak było czyli całkiem nieciekawie w rowie leży pierwsza miłość po zabawie jak się bawić to się bawić krzyż na szyi w dłoni seta i na niebie czasem zjawi się kometa zamknij oczy nie patrz na to moja miła pod powieką znaczenie lepsze są widoki i w tym nasza siła i w tym nasza siła że umiemy jeszcze czasem marzyć jak się bawić to się bawić a tu biedy coraz więcej i ważniejszy jest karabin niźli serce tutaj się zabawą żyje za to tępe rządzą głowy a czasami kretyn z kijem bejsbolowym nie patrz miła na to wszystko człowiek musi się szanować niech nie schyla się za nisko twoja głowa lecz na chwilę moment jeden za to z góry ci dziękuję otwórz oczy tylko kiedy mnie całujesz a na resztę zamknij oczy moja miła pod powieką znaczenie lepsze są widoki i w tym nasza siła i w tym nasza siła że umiemy jeszcze czasem marzyć a na resztę zamknij oczy moja miła pod powieką znaczenie lepsze są obrazy i w tym nasza siła i w tym nasza siła że umiemy jeszcze czasem marzyć</td>\n",
       "      <td>Andrzej Sikorowski</td>\n",
       "      <td>Andrzej Sikorowski</td>\n",
       "      <td>Pod Budą</td>\n",
       "    </tr>\n",
       "    <tr>\n",
       "      <th>3</th>\n",
       "      <td>Madonna</td>\n",
       "      <td>polskoruska madonna polskostarocerkiewna z gorejącego złota z żywego drewna srebra bizantyjskosłowiańska w śnieżnobiałych sukienkach nie na bielonych płótnach na trumiennych deskach polskoruska madonna polskostarocerkiewna z gorejącego złota z żywego drewna srebra nie bojarska nie carska zasmucona kamienna twarz nie bojarska nie carska zasmucona chłopska ikona polskoruska madonna polskostarocerkiewna z gorejącego złota z żywego drewna srebra</td>\n",
       "      <td></td>\n",
       "      <td></td>\n",
       "      <td></td>\n",
       "    </tr>\n",
       "    <tr>\n",
       "      <th>4</th>\n",
       "      <td>Nie rozdziobią nas kruki</td>\n",
       "      <td>nie rozdziobią nas kruki ni wrony ani nic nie rozszarpią na sztuki poezji wściekłe kły ruszaj się bruno idziemy na piwo niechybnie brakuje tam nas od stania w miejscu niejeden już zginął niejeden zginął już kwiat nie omami nas forsa ni sławy pusty dźwięk inną ścigamy postać realnej zjawy tren ruszaj się bruno idziemy na piwo niechybnie brakuje tam nas od stania w miejscu niejeden już zginął niejeden zginął już kwiat nie zdechniemy tak szybko jak sobie roi śmierć ziemia dla nas za płytka fruniemy w góry gdzieś ruszaj się bruno idziemy na piwo niechybnie brakuje tam nas od stania w miejscu niejeden już zginął niejeden zginął już kwiat</td>\n",
       "      <td>Edward Stachura</td>\n",
       "      <td>Krzysztof Myszkowski</td>\n",
       "      <td>Stare Dobre Małżeństwo</td>\n",
       "    </tr>\n",
       "    <tr>\n",
       "      <th>...</th>\n",
       "      <td>...</td>\n",
       "      <td>...</td>\n",
       "      <td>...</td>\n",
       "      <td>...</td>\n",
       "      <td>...</td>\n",
       "    </tr>\n",
       "    <tr>\n",
       "      <th>448</th>\n",
       "      <td>Noc niespodzianek</td>\n",
       "      <td>opowieść będzie to prawdziwa chociaż dziwna legliśmy w sianie obok legła płeć przeciwna a wiatr złowrogi nucił pieśni swe złowieszcze że tu się mogą zdarzyć dziwne rzeczy jeszcze to będzie noc pełna niespodzianek w stodole tej na słomie i na sianie lecz chłopcom utrudzonym dziewcząt holowaniem nie w głowie były figle tylko spanie a że dzieczęta to wrażliwe są stworzenia nie spały pogrążone w sianie i marzeniach to będzie noc pełna niespodzianek w stodole tej na słomie i na sianie więc znawca kobiet wielki szczypaw wódz szczypawek zawezwał uszczypliwy naród na naradę by każdy w pracy mógł się wspiąć na wyżyny to będzie piękne do szczypania miał dziewczyny to będzie noc pełna niespodzianek w stodole tej na słomie i na sianie nic dziwnego że niejeden chłopak musiał zabawić się tej nocy w pana tadeusza a że niejeden całkiem niezłą miał w tym wprawę więc stracił armię wielki szczypaw wódz szczypawek to będzie noc pełna niespodzianek w stodole tej na słomie i na sianie</td>\n",
       "      <td></td>\n",
       "      <td></td>\n",
       "      <td></td>\n",
       "    </tr>\n",
       "    <tr>\n",
       "      <th>449</th>\n",
       "      <td>Idąc zawsze idź</td>\n",
       "      <td>przyszedł do mnie jak do swego twarz z powieści witkacego miał i dwie książki jak nie patrzeć bursa andrzej i wojaczek rafał w oczach miał zmęczenie światem i chciał ze mną tak jak z bratem iść w rozmowy szał więc od razu bez przymiarki takie słowne dwa ogarki mi dał siedząc zawsze siedź idąc zawsze idź pierwsze kroki stawiaj w chmurach choćbyś wiedział że nie wskórasz w takich chmurach nic absolutnie nic kiedy mówisz mów kiedy milczysz milcz niechaj wielka będzie cisza tak by każdy ją usłyszał głośniej niż twój krzyk więc kiedy milczysz milcz milczeliśmy przez godzinę popijając połowinę pod kwas gdy byliśmy już w rozpędzie wstał powiedział na mnie będzie już czas jeszcze na mnie spojrzał jak ten który miał miasteczka każdy wie gdzie na odchodnym bez przymiarki rzucił słowne dwa ogarki bym pamiętał że siedząc zawsze siedź idąc zawsze idź pierwsze kroki stawiaj w chmurach choćbyś wiedział że nie wskórasz w takich chmurach nic absolutnie nic kiedy mówisz mów kiedy milczysz milcz niechaj wielka będzie cisza tak by każdy ją usłyszał głośniej niż twój krzyk więc kiedy milczysz milcz</td>\n",
       "      <td>Grzegorz Tomczak</td>\n",
       "      <td>Grzegorz Tomczak</td>\n",
       "      <td>Grzegorz Tomczak</td>\n",
       "    </tr>\n",
       "    <tr>\n",
       "      <th>450</th>\n",
       "      <td>Trzy pierścienie dla królów elfów...</td>\n",
       "      <td>trzy pierścienie dla królów elfów pod otwartym niebem siedem dla władców krasnali w ich kamiennych pałacach dziewięć dla śmiertelników ludzi śmiedci podległych jeden dla wladcy ciemności na czarnym tronie w krainie mordor gdzie zaległy cienie jeden by wszystkimi rządzić jeden by wszystkie odnaleźć jeden by wszystkie zgromadzić i w ciemności związać w krainie mordor gdzie zaległy cienie</td>\n",
       "      <td>John Ronald Reuel Tolkien</td>\n",
       "      <td>Michał Korch</td>\n",
       "      <td>21. WDHy „Żbiki”</td>\n",
       "    </tr>\n",
       "    <tr>\n",
       "      <th>451</th>\n",
       "      <td>Nadaremność</td>\n",
       "      <td>w znoju słońca mozolnie razem z ciszą dzwoni rozgrzanych płotów chrust pocałunek sam siebie składa mi na skroni sam bez pomocy ust z rozwalonej stodoły brzmi niebu przez szpary jaskółek płacz i śmiech do pokoju spłowiałe wzdymając kotary wyrywa się wiosny dech boże coś pod mym oknem na czarną godzinę wonny rozkwiecił bez przebacz że wbrew twej wiedzy i przed czasem ginę z woli mych własnych łez</td>\n",
       "      <td>Bolesław Leśmian</td>\n",
       "      <td>Adam Kalus</td>\n",
       "      <td>Małżeństwo z Rozsądku</td>\n",
       "    </tr>\n",
       "    <tr>\n",
       "      <th>452</th>\n",
       "      <td>Ballada o smutnym skinie</td>\n",
       "      <td>skin jest całkem łysy włosków on nie nosi glaca w słońcu błyszczy jakby kombajn kosił pejsów nie ma skin kitek nienawidzi boją się go rabi murzyni i żydzi najgorsza dla skina jest co roku zima jak on ją przetrzyma przecież włosków ni ma nałóż czapkę skinie skinie nałóz czapkę kiedy wicher wieje gdy pogoda w kratkę uszka ci się przeziębią kark zlodowaceje resztki myśli z mózgu wiaterek przewieje mamusia na drutach czapkę z wełny robi nałuż ją skinie gdy się ochłodzi wełna główkę grzeje ciepło jest pod czaszką i komórki szare wówczas nie zamarzną nasz skin był odważny czapki nie nałożył całą zimę biegał łysy wiosny już nie dożył główka mu zsiniała uszka odmroziły czaszka na pół pękła szwy wewnątrz puściły nałóż czapkę skinie skinie nałóz czapkę kiedy wicher wieje gdy pogoda w kratkę uszka ci się przeziębią kark zlodowaceje resztki myśli z mózgu wiaterek przewieje</td>\n",
       "      <td></td>\n",
       "      <td></td>\n",
       "      <td>Big Cyc</td>\n",
       "    </tr>\n",
       "  </tbody>\n",
       "</table>\n",
       "<p>453 rows × 5 columns</p>\n",
       "</div>"
      ],
      "text/plain": [
       "                                    title  \\\n",
       "0                        Sześć błota stóp   \n",
       "1                                 Balonik   \n",
       "2                    Nie patrz na to miła   \n",
       "3                                 Madonna   \n",
       "4                Nie rozdziobią nas kruki   \n",
       "..                                    ...   \n",
       "448                     Noc niespodzianek   \n",
       "449                       Idąc zawsze idź   \n",
       "450  Trzy pierścienie dla królów elfów...   \n",
       "451                           Nadaremność   \n",
       "452              Ballada o smutnym skinie   \n",
       "\n",
       "                                                                                                                                                                                                                                                                                                                                                                                                                                                                                                                                                                                                                                                                                                                                                                                                                                                                                                                                                                                                                                                                                                                                                                                                           lyrics  \\\n",
       "0                                                                                                                                                                                                                                                                                                                                                                                                                                           sześć błota stóp sześć błota stóp uderz w bęben już bo nadszedł mój czas wrzućcie mnie do wody na wieczną wachcę trza nam gdzie sześć błota stóp sześć błota stóp dziewięć sążni wody i sześć błota stóp ściągnijcie flagę w dół uszyjcie worek mi dwie kule przy nogach ostatni ścieg bez krwi no i sześć błota stóp sześć błota stóp dziewięć sążni wody i sześć błota stóp na wachcie więcej już nie ujrzycie chyba mnie kończę ziemską podróż do hilo dotrę wnet tam gdzie sześć błota stóp sześć błota stóp dziewięć sążni wody i sześć błota stóp a ląd daleko jest przed wami setki mil a mnie pozostało do lądu kilka chwil no i sześć błota stóp sześć błota stóp dziewięć sążni wody i sześć błota stóp sześć błota stóp sześć błota stóp sześć błota stóp    \n",
       "1                                                                                                                                                                                                                                                                                                                                                                                                                                                                                                                                                                                                                                                                                                                                                                                                                                                                                                                       płacze dziewczynka balon uciekł jej ludzie mówią nie płacz a balonik hen płacze dziewczyna chłopca trzeba jej ludzie mówią nie płacz a balonik hen płacze kobieta mąż porzucił ją ludzie mówią nie płacz a balonik hen płacze staruszka życie moje wróć a balonik wrócił i błękitny jest    \n",
       "2    świat jest taki a nie inny i zapewne się nie zmieni ogłosili wczoraj słynni dwaj uczeni a w przypadku słynnych ludzi każda myśl jest całkiem dobra więc ci goście otrzymali zaraz nobla mieli rację jest jak było czyli całkiem nieciekawie w rowie leży pierwsza miłość po zabawie jak się bawić to się bawić krzyż na szyi w dłoni seta i na niebie czasem zjawi się kometa zamknij oczy nie patrz na to moja miła pod powieką znaczenie lepsze są widoki i w tym nasza siła i w tym nasza siła że umiemy jeszcze czasem marzyć jak się bawić to się bawić a tu biedy coraz więcej i ważniejszy jest karabin niźli serce tutaj się zabawą żyje za to tępe rządzą głowy a czasami kretyn z kijem bejsbolowym nie patrz miła na to wszystko człowiek musi się szanować niech nie schyla się za nisko twoja głowa lecz na chwilę moment jeden za to z góry ci dziękuję otwórz oczy tylko kiedy mnie całujesz a na resztę zamknij oczy moja miła pod powieką znaczenie lepsze są widoki i w tym nasza siła i w tym nasza siła że umiemy jeszcze czasem marzyć a na resztę zamknij oczy moja miła pod powieką znaczenie lepsze są obrazy i w tym nasza siła i w tym nasza siła że umiemy jeszcze czasem marzyć    \n",
       "3                                                                                                                                                                                                                                                                                                                                                                                                                                                                                                                                                                                                                                                                                                                                                  polskoruska madonna polskostarocerkiewna z gorejącego złota z żywego drewna srebra bizantyjskosłowiańska w śnieżnobiałych sukienkach nie na bielonych płótnach na trumiennych deskach polskoruska madonna polskostarocerkiewna z gorejącego złota z żywego drewna srebra nie bojarska nie carska zasmucona kamienna twarz nie bojarska nie carska zasmucona chłopska ikona polskoruska madonna polskostarocerkiewna z gorejącego złota z żywego drewna srebra    \n",
       "4                                                                                                                                                                                                                                                                                                                                                                                                                                                                                                                                               nie rozdziobią nas kruki ni wrony ani nic nie rozszarpią na sztuki poezji wściekłe kły ruszaj się bruno idziemy na piwo niechybnie brakuje tam nas od stania w miejscu niejeden już zginął niejeden zginął już kwiat nie omami nas forsa ni sławy pusty dźwięk inną ścigamy postać realnej zjawy tren ruszaj się bruno idziemy na piwo niechybnie brakuje tam nas od stania w miejscu niejeden już zginął niejeden zginął już kwiat nie zdechniemy tak szybko jak sobie roi śmierć ziemia dla nas za płytka fruniemy w góry gdzieś ruszaj się bruno idziemy na piwo niechybnie brakuje tam nas od stania w miejscu niejeden już zginął niejeden zginął już kwiat    \n",
       "..                                                                                                                                                                                                                                                                                                                                                                                                                                                                                                                                                                                                                                                                                                                                                                                                                                                                                                                                                                                                                                                                                                                                                                                                            ...   \n",
       "448                                                                                                                                                                                            opowieść będzie to prawdziwa chociaż dziwna legliśmy w sianie obok legła płeć przeciwna a wiatr złowrogi nucił pieśni swe złowieszcze że tu się mogą zdarzyć dziwne rzeczy jeszcze to będzie noc pełna niespodzianek w stodole tej na słomie i na sianie lecz chłopcom utrudzonym dziewcząt holowaniem nie w głowie były figle tylko spanie a że dzieczęta to wrażliwe są stworzenia nie spały pogrążone w sianie i marzeniach to będzie noc pełna niespodzianek w stodole tej na słomie i na sianie więc znawca kobiet wielki szczypaw wódz szczypawek zawezwał uszczypliwy naród na naradę by każdy w pracy mógł się wspiąć na wyżyny to będzie piękne do szczypania miał dziewczyny to będzie noc pełna niespodzianek w stodole tej na słomie i na sianie nic dziwnego że niejeden chłopak musiał zabawić się tej nocy w pana tadeusza a że niejeden całkiem niezłą miał w tym wprawę więc stracił armię wielki szczypaw wódz szczypawek to będzie noc pełna niespodzianek w stodole tej na słomie i na sianie    \n",
       "449                                                                       przyszedł do mnie jak do swego twarz z powieści witkacego miał i dwie książki jak nie patrzeć bursa andrzej i wojaczek rafał w oczach miał zmęczenie światem i chciał ze mną tak jak z bratem iść w rozmowy szał więc od razu bez przymiarki takie słowne dwa ogarki mi dał siedząc zawsze siedź idąc zawsze idź pierwsze kroki stawiaj w chmurach choćbyś wiedział że nie wskórasz w takich chmurach nic absolutnie nic kiedy mówisz mów kiedy milczysz milcz niechaj wielka będzie cisza tak by każdy ją usłyszał głośniej niż twój krzyk więc kiedy milczysz milcz milczeliśmy przez godzinę popijając połowinę pod kwas gdy byliśmy już w rozpędzie wstał powiedział na mnie będzie już czas jeszcze na mnie spojrzał jak ten który miał miasteczka każdy wie gdzie na odchodnym bez przymiarki rzucił słowne dwa ogarki bym pamiętał że siedząc zawsze siedź idąc zawsze idź pierwsze kroki stawiaj w chmurach choćbyś wiedział że nie wskórasz w takich chmurach nic absolutnie nic kiedy mówisz mów kiedy milczysz milcz niechaj wielka będzie cisza tak by każdy ją usłyszał głośniej niż twój krzyk więc kiedy milczysz milcz    \n",
       "450                                                                                                                                                                                                                                                                                                                                                                                                                                                                                                                                                                                                                                                                                                                                                                                                         trzy pierścienie dla królów elfów pod otwartym niebem siedem dla władców krasnali w ich kamiennych pałacach dziewięć dla śmiertelników ludzi śmiedci podległych jeden dla wladcy ciemności na czarnym tronie w krainie mordor gdzie zaległy cienie jeden by wszystkimi rządzić jeden by wszystkie odnaleźć jeden by wszystkie zgromadzić i w ciemności związać w krainie mordor gdzie zaległy cienie    \n",
       "451                                                                                                                                                                                                                                                                                                                                                                                                                                                                                                                                                                                                                                                                                                                                                                                                w znoju słońca mozolnie razem z ciszą dzwoni rozgrzanych płotów chrust pocałunek sam siebie składa mi na skroni sam bez pomocy ust z rozwalonej stodoły brzmi niebu przez szpary jaskółek płacz i śmiech do pokoju spłowiałe wzdymając kotary wyrywa się wiosny dech boże coś pod mym oknem na czarną godzinę wonny rozkwiecił bez przebacz że wbrew twej wiedzy i przed czasem ginę z woli mych własnych łez    \n",
       "452                                                                                                                                                                                                                                                                                                    skin jest całkem łysy włosków on nie nosi glaca w słońcu błyszczy jakby kombajn kosił pejsów nie ma skin kitek nienawidzi boją się go rabi murzyni i żydzi najgorsza dla skina jest co roku zima jak on ją przetrzyma przecież włosków ni ma nałóż czapkę skinie skinie nałóz czapkę kiedy wicher wieje gdy pogoda w kratkę uszka ci się przeziębią kark zlodowaceje resztki myśli z mózgu wiaterek przewieje mamusia na drutach czapkę z wełny robi nałuż ją skinie gdy się ochłodzi wełna główkę grzeje ciepło jest pod czaszką i komórki szare wówczas nie zamarzną nasz skin był odważny czapki nie nałożył całą zimę biegał łysy wiosny już nie dożył główka mu zsiniała uszka odmroziły czaszka na pół pękła szwy wewnątrz puściły nałóż czapkę skinie skinie nałóz czapkę kiedy wicher wieje gdy pogoda w kratkę uszka ci się przeziębią kark zlodowaceje resztki myśli z mózgu wiaterek przewieje    \n",
       "\n",
       "                   text_author              composer                  artist  \n",
       "0               Henryk Czekała          Cyril Tawney        Mechanicy Shanty  \n",
       "1               Bułat Okudżawa        Bułat Okudżawa          Bułat Okudżawa  \n",
       "2           Andrzej Sikorowski    Andrzej Sikorowski                Pod Budą  \n",
       "3                                                                             \n",
       "4              Edward Stachura  Krzysztof Myszkowski  Stare Dobre Małżeństwo  \n",
       "..                         ...                   ...                     ...  \n",
       "448                                                                           \n",
       "449           Grzegorz Tomczak      Grzegorz Tomczak        Grzegorz Tomczak  \n",
       "450  John Ronald Reuel Tolkien          Michał Korch        21. WDHy „Żbiki”  \n",
       "451           Bolesław Leśmian            Adam Kalus   Małżeństwo z Rozsądku  \n",
       "452                                                                  Big Cyc  \n",
       "\n",
       "[453 rows x 5 columns]"
      ]
     },
     "execution_count": 22,
     "metadata": {},
     "output_type": "execute_result"
    }
   ],
   "source": [
    "df_songs1"
   ]
  },
  {
   "cell_type": "code",
   "execution_count": 15,
   "id": "fa9658e6",
   "metadata": {},
   "outputs": [],
   "source": [
    "df_songs1.to_csv(\"Data/df_songs1.csv\")"
   ]
  },
  {
   "cell_type": "code",
   "execution_count": 16,
   "id": "a3288238",
   "metadata": {},
   "outputs": [],
   "source": [
    "DF=pd.read_csv(\"Data/df_songs1.csv\", index_col=\"Unnamed: 0\")"
   ]
  },
  {
   "cell_type": "code",
   "execution_count": 17,
   "id": "0d3bb3f5",
   "metadata": {},
   "outputs": [
    {
     "data": {
      "text/html": [
       "<div>\n",
       "<style scoped>\n",
       "    .dataframe tbody tr th:only-of-type {\n",
       "        vertical-align: middle;\n",
       "    }\n",
       "\n",
       "    .dataframe tbody tr th {\n",
       "        vertical-align: top;\n",
       "    }\n",
       "\n",
       "    .dataframe thead th {\n",
       "        text-align: right;\n",
       "    }\n",
       "</style>\n",
       "<table border=\"1\" class=\"dataframe\">\n",
       "  <thead>\n",
       "    <tr style=\"text-align: right;\">\n",
       "      <th></th>\n",
       "      <th>title</th>\n",
       "      <th>lyrics</th>\n",
       "      <th>text_author</th>\n",
       "      <th>composer</th>\n",
       "      <th>artist</th>\n",
       "    </tr>\n",
       "  </thead>\n",
       "  <tbody>\n",
       "    <tr>\n",
       "      <th>0</th>\n",
       "      <td>Sześć błota stóp</td>\n",
       "      <td>sześć błota stóp sześć błota stóp uderz w bęben już bo nadszedł mój czas wrzućcie mnie do wody na wieczną wachcę trza nam gdzie sześć błota stóp sześć błota stóp dziewięć sążni wody i sześć błota stóp ściągnijcie flagę w dół uszyjcie worek mi dwie kule przy nogach ostatni ścieg bez krwi no i sześć błota stóp sześć błota stóp dziewięć sążni wody i sześć błota stóp na wachcie więcej już nie ujrzycie chyba mnie kończę ziemską podróż do hilo dotrę wnet tam gdzie sześć błota stóp sześć błota stóp dziewięć sążni wody i sześć błota stóp a ląd daleko jest przed wami setki mil a mnie pozostało do lądu kilka chwil no i sześć błota stóp sześć błota stóp dziewięć sążni wody i sześć błota stóp sześć błota stóp sześć błota stóp sześć błota stóp</td>\n",
       "      <td>Henryk Czekała</td>\n",
       "      <td>Cyril Tawney</td>\n",
       "      <td>Mechanicy Shanty</td>\n",
       "    </tr>\n",
       "    <tr>\n",
       "      <th>1</th>\n",
       "      <td>Balonik</td>\n",
       "      <td>płacze dziewczynka balon uciekł jej ludzie mówią nie płacz a balonik hen płacze dziewczyna chłopca trzeba jej ludzie mówią nie płacz a balonik hen płacze kobieta mąż porzucił ją ludzie mówią nie płacz a balonik hen płacze staruszka życie moje wróć a balonik wrócił i błękitny jest</td>\n",
       "      <td>Bułat Okudżawa</td>\n",
       "      <td>Bułat Okudżawa</td>\n",
       "      <td>Bułat Okudżawa</td>\n",
       "    </tr>\n",
       "    <tr>\n",
       "      <th>2</th>\n",
       "      <td>Nie patrz na to miła</td>\n",
       "      <td>świat jest taki a nie inny i zapewne się nie zmieni ogłosili wczoraj słynni dwaj uczeni a w przypadku słynnych ludzi każda myśl jest całkiem dobra więc ci goście otrzymali zaraz nobla mieli rację jest jak było czyli całkiem nieciekawie w rowie leży pierwsza miłość po zabawie jak się bawić to się bawić krzyż na szyi w dłoni seta i na niebie czasem zjawi się kometa zamknij oczy nie patrz na to moja miła pod powieką znaczenie lepsze są widoki i w tym nasza siła i w tym nasza siła że umiemy jeszcze czasem marzyć jak się bawić to się bawić a tu biedy coraz więcej i ważniejszy jest karabin niźli serce tutaj się zabawą żyje za to tępe rządzą głowy a czasami kretyn z kijem bejsbolowym nie patrz miła na to wszystko człowiek musi się szanować niech nie schyla się za nisko twoja głowa lecz na chwilę moment jeden za to z góry ci dziękuję otwórz oczy tylko kiedy mnie całujesz a na resztę zamknij oczy moja miła pod powieką znaczenie lepsze są widoki i w tym nasza siła i w tym nasza siła że umiemy jeszcze czasem marzyć a na resztę zamknij oczy moja miła pod powieką znaczenie lepsze są obrazy i w tym nasza siła i w tym nasza siła że umiemy jeszcze czasem marzyć</td>\n",
       "      <td>Andrzej Sikorowski</td>\n",
       "      <td>Andrzej Sikorowski</td>\n",
       "      <td>Pod Budą</td>\n",
       "    </tr>\n",
       "    <tr>\n",
       "      <th>3</th>\n",
       "      <td>Madonna</td>\n",
       "      <td>polskoruska madonna polskostarocerkiewna z gorejącego złota z żywego drewna srebra bizantyjskosłowiańska w śnieżnobiałych sukienkach nie na bielonych płótnach na trumiennych deskach polskoruska madonna polskostarocerkiewna z gorejącego złota z żywego drewna srebra nie bojarska nie carska zasmucona kamienna twarz nie bojarska nie carska zasmucona chłopska ikona polskoruska madonna polskostarocerkiewna z gorejącego złota z żywego drewna srebra</td>\n",
       "      <td>NaN</td>\n",
       "      <td>NaN</td>\n",
       "      <td>NaN</td>\n",
       "    </tr>\n",
       "    <tr>\n",
       "      <th>4</th>\n",
       "      <td>Nie rozdziobią nas kruki</td>\n",
       "      <td>nie rozdziobią nas kruki ni wrony ani nic nie rozszarpią na sztuki poezji wściekłe kły ruszaj się bruno idziemy na piwo niechybnie brakuje tam nas od stania w miejscu niejeden już zginął niejeden zginął już kwiat nie omami nas forsa ni sławy pusty dźwięk inną ścigamy postać realnej zjawy tren ruszaj się bruno idziemy na piwo niechybnie brakuje tam nas od stania w miejscu niejeden już zginął niejeden zginął już kwiat nie zdechniemy tak szybko jak sobie roi śmierć ziemia dla nas za płytka fruniemy w góry gdzieś ruszaj się bruno idziemy na piwo niechybnie brakuje tam nas od stania w miejscu niejeden już zginął niejeden zginął już kwiat</td>\n",
       "      <td>Edward Stachura</td>\n",
       "      <td>Krzysztof Myszkowski</td>\n",
       "      <td>Stare Dobre Małżeństwo</td>\n",
       "    </tr>\n",
       "    <tr>\n",
       "      <th>...</th>\n",
       "      <td>...</td>\n",
       "      <td>...</td>\n",
       "      <td>...</td>\n",
       "      <td>...</td>\n",
       "      <td>...</td>\n",
       "    </tr>\n",
       "    <tr>\n",
       "      <th>442</th>\n",
       "      <td>Noc niespodzianek</td>\n",
       "      <td>opowieść będzie to prawdziwa chociaż dziwna legliśmy w sianie obok legła płeć przeciwna a wiatr złowrogi nucił pieśni swe złowieszcze że tu się mogą zdarzyć dziwne rzeczy jeszcze to będzie noc pełna niespodzianek w stodole tej na słomie i na sianie lecz chłopcom utrudzonym dziewcząt holowaniem nie w głowie były figle tylko spanie a że dzieczęta to wrażliwe są stworzenia nie spały pogrążone w sianie i marzeniach to będzie noc pełna niespodzianek w stodole tej na słomie i na sianie więc znawca kobiet wielki szczypaw wódz szczypawek zawezwał uszczypliwy naród na naradę by każdy w pracy mógł się wspiąć na wyżyny to będzie piękne do szczypania miał dziewczyny to będzie noc pełna niespodzianek w stodole tej na słomie i na sianie nic dziwnego że niejeden chłopak musiał zabawić się tej nocy w pana tadeusza a że niejeden całkiem niezłą miał w tym wprawę więc stracił armię wielki szczypaw wódz szczypawek to będzie noc pełna niespodzianek w stodole tej na słomie i na sianie</td>\n",
       "      <td>NaN</td>\n",
       "      <td>NaN</td>\n",
       "      <td>NaN</td>\n",
       "    </tr>\n",
       "    <tr>\n",
       "      <th>443</th>\n",
       "      <td>Idąc zawsze idź</td>\n",
       "      <td>przyszedł do mnie jak do swego twarz z powieści witkacego miał i dwie książki jak nie patrzeć bursa andrzej i wojaczek rafał w oczach miał zmęczenie światem i chciał ze mną tak jak z bratem iść w rozmowy szał więc od razu bez przymiarki takie słowne dwa ogarki mi dał siedząc zawsze siedź idąc zawsze idź pierwsze kroki stawiaj w chmurach choćbyś wiedział że nie wskórasz w takich chmurach nic absolutnie nic kiedy mówisz mów kiedy milczysz milcz niechaj wielka będzie cisza tak by każdy ją usłyszał głośniej niż twój krzyk więc kiedy milczysz milcz milczeliśmy przez godzinę popijając połowinę pod kwas gdy byliśmy już w rozpędzie wstał powiedział na mnie będzie już czas jeszcze na mnie spojrzał jak ten który miał miasteczka każdy wie gdzie na odchodnym bez przymiarki rzucił słowne dwa ogarki bym pamiętał że siedząc zawsze siedź idąc zawsze idź pierwsze kroki stawiaj w chmurach choćbyś wiedział że nie wskórasz w takich chmurach nic absolutnie nic kiedy mówisz mów kiedy milczysz milcz niechaj wielka będzie cisza tak by każdy ją usłyszał głośniej niż twój krzyk więc kiedy milczysz milcz</td>\n",
       "      <td>Grzegorz Tomczak</td>\n",
       "      <td>Grzegorz Tomczak</td>\n",
       "      <td>Grzegorz Tomczak</td>\n",
       "    </tr>\n",
       "    <tr>\n",
       "      <th>444</th>\n",
       "      <td>*** [Trzy pierścienie dla królów elfów...]</td>\n",
       "      <td>trzy pierścienie dla królów elfów pod otwartym niebem siedem dla władców krasnali w ich kamiennych pałacach dziewięć dla śmiertelników ludzi śmiedci podległych jeden dla wladcy ciemności na czarnym tronie w krainie mordor gdzie zaległy cienie jeden by wszystkimi rządzić jeden by wszystkie odnaleźć jeden by wszystkie zgromadzić i w ciemności związać w krainie mordor gdzie zaległy cienie</td>\n",
       "      <td>John Ronald Reuel Tolkien</td>\n",
       "      <td>Michał Korch</td>\n",
       "      <td>21. WDHy „Żbiki”</td>\n",
       "    </tr>\n",
       "    <tr>\n",
       "      <th>445</th>\n",
       "      <td>Nadaremność</td>\n",
       "      <td>w znoju słońca mozolnie razem z ciszą dzwoni rozgrzanych płotów chrust pocałunek sam siebie składa mi na skroni sam bez pomocy ust z rozwalonej stodoły brzmi niebu przez szpary jaskółek płacz i śmiech do pokoju spłowiałe wzdymając kotary wyrywa się wiosny dech boże coś pod mym oknem na czarną godzinę wonny rozkwiecił bez przebacz że wbrew twej wiedzy i przed czasem ginę z woli mych własnych łez</td>\n",
       "      <td>Bolesław Leśmian</td>\n",
       "      <td>Adam Kalus</td>\n",
       "      <td>Małżeństwo z Rozsądku</td>\n",
       "    </tr>\n",
       "    <tr>\n",
       "      <th>446</th>\n",
       "      <td>Ballada o smutnym skinie</td>\n",
       "      <td>skin jest całkem łysy włosków on nie nosi glaca w słońcu błyszczy jakby kombajn kosił pejsów nie ma skin kitek nienawidzi boją się go rabi murzyni i żydzi najgorsza dla skina jest co roku zima jak on ją przetrzyma przecież włosków ni ma nałóż czapkę skinie skinie nałóz czapkę kiedy wicher wieje gdy pogoda w kratkę uszka ci się przeziębią kark zlodowaceje resztki myśli z mózgu wiaterek przewieje mamusia na drutach czapkę z wełny robi nałuż ją skinie gdy się ochłodzi wełna główkę grzeje ciepło jest pod czaszką i komórki szare wówczas nie zamarzną nasz skin był odważny czapki nie nałożył całą zimę biegał łysy wiosny już nie dożył główka mu zsiniała uszka odmroziły czaszka na pół pękła szwy wewnątrz puściły nałóż czapkę skinie skinie nałóz czapkę kiedy wicher wieje gdy pogoda w kratkę uszka ci się przeziębią kark zlodowaceje resztki myśli z mózgu wiaterek przewieje</td>\n",
       "      <td>NaN</td>\n",
       "      <td>NaN</td>\n",
       "      <td>Big Cyc</td>\n",
       "    </tr>\n",
       "  </tbody>\n",
       "</table>\n",
       "<p>447 rows × 5 columns</p>\n",
       "</div>"
      ],
      "text/plain": [
       "                                          title  \\\n",
       "0                              Sześć błota stóp   \n",
       "1                                       Balonik   \n",
       "2                          Nie patrz na to miła   \n",
       "3                                       Madonna   \n",
       "4                      Nie rozdziobią nas kruki   \n",
       "..                                          ...   \n",
       "442                           Noc niespodzianek   \n",
       "443                             Idąc zawsze idź   \n",
       "444  *** [Trzy pierścienie dla królów elfów...]   \n",
       "445                                 Nadaremność   \n",
       "446                    Ballada o smutnym skinie   \n",
       "\n",
       "                                                                                                                                                                                                                                                                                                                                                                                                                                                                                                                                                                                                                                                                                                                                                                                                                                                                                                                                                                                                                                                                                                                                                                                                           lyrics  \\\n",
       "0                                                                                                                                                                                                                                                                                                                                                                                                                                           sześć błota stóp sześć błota stóp uderz w bęben już bo nadszedł mój czas wrzućcie mnie do wody na wieczną wachcę trza nam gdzie sześć błota stóp sześć błota stóp dziewięć sążni wody i sześć błota stóp ściągnijcie flagę w dół uszyjcie worek mi dwie kule przy nogach ostatni ścieg bez krwi no i sześć błota stóp sześć błota stóp dziewięć sążni wody i sześć błota stóp na wachcie więcej już nie ujrzycie chyba mnie kończę ziemską podróż do hilo dotrę wnet tam gdzie sześć błota stóp sześć błota stóp dziewięć sążni wody i sześć błota stóp a ląd daleko jest przed wami setki mil a mnie pozostało do lądu kilka chwil no i sześć błota stóp sześć błota stóp dziewięć sążni wody i sześć błota stóp sześć błota stóp sześć błota stóp sześć błota stóp    \n",
       "1                                                                                                                                                                                                                                                                                                                                                                                                                                                                                                                                                                                                                                                                                                                                                                                                                                                                                                                       płacze dziewczynka balon uciekł jej ludzie mówią nie płacz a balonik hen płacze dziewczyna chłopca trzeba jej ludzie mówią nie płacz a balonik hen płacze kobieta mąż porzucił ją ludzie mówią nie płacz a balonik hen płacze staruszka życie moje wróć a balonik wrócił i błękitny jest    \n",
       "2    świat jest taki a nie inny i zapewne się nie zmieni ogłosili wczoraj słynni dwaj uczeni a w przypadku słynnych ludzi każda myśl jest całkiem dobra więc ci goście otrzymali zaraz nobla mieli rację jest jak było czyli całkiem nieciekawie w rowie leży pierwsza miłość po zabawie jak się bawić to się bawić krzyż na szyi w dłoni seta i na niebie czasem zjawi się kometa zamknij oczy nie patrz na to moja miła pod powieką znaczenie lepsze są widoki i w tym nasza siła i w tym nasza siła że umiemy jeszcze czasem marzyć jak się bawić to się bawić a tu biedy coraz więcej i ważniejszy jest karabin niźli serce tutaj się zabawą żyje za to tępe rządzą głowy a czasami kretyn z kijem bejsbolowym nie patrz miła na to wszystko człowiek musi się szanować niech nie schyla się za nisko twoja głowa lecz na chwilę moment jeden za to z góry ci dziękuję otwórz oczy tylko kiedy mnie całujesz a na resztę zamknij oczy moja miła pod powieką znaczenie lepsze są widoki i w tym nasza siła i w tym nasza siła że umiemy jeszcze czasem marzyć a na resztę zamknij oczy moja miła pod powieką znaczenie lepsze są obrazy i w tym nasza siła i w tym nasza siła że umiemy jeszcze czasem marzyć    \n",
       "3                                                                                                                                                                                                                                                                                                                                                                                                                                                                                                                                                                                                                                                                                                                                                  polskoruska madonna polskostarocerkiewna z gorejącego złota z żywego drewna srebra bizantyjskosłowiańska w śnieżnobiałych sukienkach nie na bielonych płótnach na trumiennych deskach polskoruska madonna polskostarocerkiewna z gorejącego złota z żywego drewna srebra nie bojarska nie carska zasmucona kamienna twarz nie bojarska nie carska zasmucona chłopska ikona polskoruska madonna polskostarocerkiewna z gorejącego złota z żywego drewna srebra    \n",
       "4                                                                                                                                                                                                                                                                                                                                                                                                                                                                                                                                               nie rozdziobią nas kruki ni wrony ani nic nie rozszarpią na sztuki poezji wściekłe kły ruszaj się bruno idziemy na piwo niechybnie brakuje tam nas od stania w miejscu niejeden już zginął niejeden zginął już kwiat nie omami nas forsa ni sławy pusty dźwięk inną ścigamy postać realnej zjawy tren ruszaj się bruno idziemy na piwo niechybnie brakuje tam nas od stania w miejscu niejeden już zginął niejeden zginął już kwiat nie zdechniemy tak szybko jak sobie roi śmierć ziemia dla nas za płytka fruniemy w góry gdzieś ruszaj się bruno idziemy na piwo niechybnie brakuje tam nas od stania w miejscu niejeden już zginął niejeden zginął już kwiat    \n",
       "..                                                                                                                                                                                                                                                                                                                                                                                                                                                                                                                                                                                                                                                                                                                                                                                                                                                                                                                                                                                                                                                                                                                                                                                                            ...   \n",
       "442                                                                                                                                                                                            opowieść będzie to prawdziwa chociaż dziwna legliśmy w sianie obok legła płeć przeciwna a wiatr złowrogi nucił pieśni swe złowieszcze że tu się mogą zdarzyć dziwne rzeczy jeszcze to będzie noc pełna niespodzianek w stodole tej na słomie i na sianie lecz chłopcom utrudzonym dziewcząt holowaniem nie w głowie były figle tylko spanie a że dzieczęta to wrażliwe są stworzenia nie spały pogrążone w sianie i marzeniach to będzie noc pełna niespodzianek w stodole tej na słomie i na sianie więc znawca kobiet wielki szczypaw wódz szczypawek zawezwał uszczypliwy naród na naradę by każdy w pracy mógł się wspiąć na wyżyny to będzie piękne do szczypania miał dziewczyny to będzie noc pełna niespodzianek w stodole tej na słomie i na sianie nic dziwnego że niejeden chłopak musiał zabawić się tej nocy w pana tadeusza a że niejeden całkiem niezłą miał w tym wprawę więc stracił armię wielki szczypaw wódz szczypawek to będzie noc pełna niespodzianek w stodole tej na słomie i na sianie    \n",
       "443                                                                       przyszedł do mnie jak do swego twarz z powieści witkacego miał i dwie książki jak nie patrzeć bursa andrzej i wojaczek rafał w oczach miał zmęczenie światem i chciał ze mną tak jak z bratem iść w rozmowy szał więc od razu bez przymiarki takie słowne dwa ogarki mi dał siedząc zawsze siedź idąc zawsze idź pierwsze kroki stawiaj w chmurach choćbyś wiedział że nie wskórasz w takich chmurach nic absolutnie nic kiedy mówisz mów kiedy milczysz milcz niechaj wielka będzie cisza tak by każdy ją usłyszał głośniej niż twój krzyk więc kiedy milczysz milcz milczeliśmy przez godzinę popijając połowinę pod kwas gdy byliśmy już w rozpędzie wstał powiedział na mnie będzie już czas jeszcze na mnie spojrzał jak ten który miał miasteczka każdy wie gdzie na odchodnym bez przymiarki rzucił słowne dwa ogarki bym pamiętał że siedząc zawsze siedź idąc zawsze idź pierwsze kroki stawiaj w chmurach choćbyś wiedział że nie wskórasz w takich chmurach nic absolutnie nic kiedy mówisz mów kiedy milczysz milcz niechaj wielka będzie cisza tak by każdy ją usłyszał głośniej niż twój krzyk więc kiedy milczysz milcz    \n",
       "444                                                                                                                                                                                                                                                                                                                                                                                                                                                                                                                                                                                                                                                                                                                                                                                                         trzy pierścienie dla królów elfów pod otwartym niebem siedem dla władców krasnali w ich kamiennych pałacach dziewięć dla śmiertelników ludzi śmiedci podległych jeden dla wladcy ciemności na czarnym tronie w krainie mordor gdzie zaległy cienie jeden by wszystkimi rządzić jeden by wszystkie odnaleźć jeden by wszystkie zgromadzić i w ciemności związać w krainie mordor gdzie zaległy cienie    \n",
       "445                                                                                                                                                                                                                                                                                                                                                                                                                                                                                                                                                                                                                                                                                                                                                                                                w znoju słońca mozolnie razem z ciszą dzwoni rozgrzanych płotów chrust pocałunek sam siebie składa mi na skroni sam bez pomocy ust z rozwalonej stodoły brzmi niebu przez szpary jaskółek płacz i śmiech do pokoju spłowiałe wzdymając kotary wyrywa się wiosny dech boże coś pod mym oknem na czarną godzinę wonny rozkwiecił bez przebacz że wbrew twej wiedzy i przed czasem ginę z woli mych własnych łez    \n",
       "446                                                                                                                                                                                                                                                                                                    skin jest całkem łysy włosków on nie nosi glaca w słońcu błyszczy jakby kombajn kosił pejsów nie ma skin kitek nienawidzi boją się go rabi murzyni i żydzi najgorsza dla skina jest co roku zima jak on ją przetrzyma przecież włosków ni ma nałóż czapkę skinie skinie nałóz czapkę kiedy wicher wieje gdy pogoda w kratkę uszka ci się przeziębią kark zlodowaceje resztki myśli z mózgu wiaterek przewieje mamusia na drutach czapkę z wełny robi nałuż ją skinie gdy się ochłodzi wełna główkę grzeje ciepło jest pod czaszką i komórki szare wówczas nie zamarzną nasz skin był odważny czapki nie nałożył całą zimę biegał łysy wiosny już nie dożył główka mu zsiniała uszka odmroziły czaszka na pół pękła szwy wewnątrz puściły nałóż czapkę skinie skinie nałóz czapkę kiedy wicher wieje gdy pogoda w kratkę uszka ci się przeziębią kark zlodowaceje resztki myśli z mózgu wiaterek przewieje    \n",
       "\n",
       "                   text_author              composer                  artist  \n",
       "0               Henryk Czekała          Cyril Tawney        Mechanicy Shanty  \n",
       "1               Bułat Okudżawa        Bułat Okudżawa          Bułat Okudżawa  \n",
       "2           Andrzej Sikorowski    Andrzej Sikorowski                Pod Budą  \n",
       "3                          NaN                   NaN                     NaN  \n",
       "4              Edward Stachura  Krzysztof Myszkowski  Stare Dobre Małżeństwo  \n",
       "..                         ...                   ...                     ...  \n",
       "442                        NaN                   NaN                     NaN  \n",
       "443           Grzegorz Tomczak      Grzegorz Tomczak        Grzegorz Tomczak  \n",
       "444  John Ronald Reuel Tolkien          Michał Korch        21. WDHy „Żbiki”  \n",
       "445           Bolesław Leśmian            Adam Kalus   Małżeństwo z Rozsądku  \n",
       "446                        NaN                   NaN                 Big Cyc  \n",
       "\n",
       "[447 rows x 5 columns]"
      ]
     },
     "execution_count": 17,
     "metadata": {},
     "output_type": "execute_result"
    }
   ],
   "source": [
    "DF"
   ]
  },
  {
   "cell_type": "code",
   "execution_count": 18,
   "id": "ac453c52",
   "metadata": {},
   "outputs": [
    {
     "data": {
      "text/plain": [
       "['Sześć błota stóp',\n",
       " 'Balonik',\n",
       " 'Nie patrz na to miła',\n",
       " 'Madonna',\n",
       " 'Nie rozdziobią nas kruki',\n",
       " 'Przechyły',\n",
       " 'Znów wędrujemy',\n",
       " 'Makatka z aniołem',\n",
       " 'Bieszczadzki trakt',\n",
       " 'Ach, kiedy znowu ruszą dla mnie dni',\n",
       " 'Wiatr, wiosenny gitarzysta',\n",
       " 'Dokąd nas zaprowadzisz Panie',\n",
       " 'Jedyne co mam',\n",
       " 'Między nami tyle śniegu',\n",
       " 'Dylan -- pastisz',\n",
       " 'Wasza Wysokość Kobieto',\n",
       " 'Chłopaki nie płaczą',\n",
       " 'Gonić marzenia',\n",
       " 'Przyjaciółko',\n",
       " 'Tawerna pod pijaną zgrają',\n",
       " 'Pocałuj noc',\n",
       " 'Zwiewność',\n",
       " 'Żegluj',\n",
       " 'Easy Rider',\n",
       " 'Wielki Wóz',\n",
       " 'Pan Kmicic',\n",
       " 'Broadway',\n",
       " 'Już rozpaliło się ognisko',\n",
       " 'Ci wszyscy ludzie',\n",
       " 'Jesienne wspominanki',\n",
       " 'Jaką cenę...',\n",
       " 'Lekcja historii klasycznej',\n",
       " 'Miasto',\n",
       " 'Płacz moja wodo',\n",
       " 'Szkic do portretu',\n",
       " 'Piosenka dla Wojtka Bellona',\n",
       " 'Wojtka Bellona ostatnia ziemska pod',\n",
       " 'Zabierz mnie na stację',\n",
       " 'Piosenka dla juniora i jego gitary',\n",
       " 'Kochać',\n",
       " 'Jestem mały miś',\n",
       " 'Krajka (pełna wersja)',\n",
       " 'Bellonika z miastem',\n",
       " 'Mucha w szklance lemoniady',\n",
       " 'Plastelina',\n",
       " 'Zawsze tam gdzie ty',\n",
       " 'Szczęście',\n",
       " 'O braciach którzy pytali się',\n",
       " 'Ukraina',\n",
       " 'Pożegnanie',\n",
       " 'Dym z jałowca',\n",
       " 'Piosenka do przyjaciela',\n",
       " 'Bajka',\n",
       " 'Hymn harcerski',\n",
       " 'Idzie sobie królik',\n",
       " 'Pójdźmy wszyscy do stajenki',\n",
       " 'Mur 1',\n",
       " 'Czarny blues o czwartej nad ranem',\n",
       " 'Pacyfik',\n",
       " '*** [Zaciągnijcie na oknie niebiesk',\n",
       " 'Bal',\n",
       " 'Jak dobrze nam',\n",
       " 'Spowiedź u księdza Bernardyna',\n",
       " 'Leluchów',\n",
       " 'Pieśń na wyjście',\n",
       " 'Byłoby miło',\n",
       " 'Gdy mnie kochać przestaniesz',\n",
       " 'Chyba już czas wracać do domu',\n",
       " 'Dziś do ciebie',\n",
       " 'Zima',\n",
       " 'Zaledwo wiem',\n",
       " 'Dzielna Margot',\n",
       " 'List do świata',\n",
       " 'Ballada o dziewczynie co piła gorąc',\n",
       " 'Moi przyjaciele',\n",
       " 'Pan Podbipięta',\n",
       " \"Fiddler's Green\",\n",
       " 'Drzewa',\n",
       " 'Jest już za późno, nie jest za późn',\n",
       " 'Piechotą do lata',\n",
       " 'Ballada majowa',\n",
       " 'W lesie listopadowym',\n",
       " 'Chodź pomaluj mój świat',\n",
       " 'Piosenka mazowiecka',\n",
       " 'Powroty',\n",
       " 'Gdy tak siedzimy',\n",
       " 'Limeryk o narodach',\n",
       " 'Mur 2',\n",
       " 'Rapsod o królu Warneńczyku',\n",
       " 'Wędrowiec',\n",
       " 'Chory na wyobraźnię',\n",
       " 'Zegarmistrz światła',\n",
       " 'Bajka o głupim Jasiu',\n",
       " 'Włóczędzy',\n",
       " 'Kim właściwie była ta piękna pani, ',\n",
       " 'Panna kminkowa',\n",
       " 'Press gang',\n",
       " 'U źródeł tęsknot',\n",
       " 'Goryl',\n",
       " 'Wczoraj wieczorem',\n",
       " 'Pożegnanie Okudżawy',\n",
       " 'Połów',\n",
       " 'Spotkanie w porcie',\n",
       " 'Krajka',\n",
       " 'Marinette',\n",
       " 'Koniec',\n",
       " 'Śmiały Harpunnik',\n",
       " 'Beskid jesienią',\n",
       " 'Pijak',\n",
       " 'Biała sukienka',\n",
       " 'Do szopy, hej, pasterze',\n",
       " 'Bosman',\n",
       " 'Nie -- prośba o rękę',\n",
       " 'List do Małego Księcia',\n",
       " 'Pejzaże harasymowiczowskie',\n",
       " 'Modlitwa o wschodzie słońca',\n",
       " 'Creutzfeldt-Jakob',\n",
       " 'Mister Stormalong',\n",
       " 'List o czekaniu',\n",
       " 'Szanta dziewicy',\n",
       " 'Ambasadorowie',\n",
       " 'Bar na stawach',\n",
       " 'Zielona dolina',\n",
       " 'Jaki był ten dzień',\n",
       " 'Gdy się Chrystus rodzi',\n",
       " 'Pamiątka ze spływu',\n",
       " 'Piosenka do śpiewania przy pokonywa',\n",
       " 'Szara lilijka',\n",
       " 'Na błękicie jest polana',\n",
       " 'Zapiszę śniegiem w kominie',\n",
       " 'Majster bieda',\n",
       " 'Mury',\n",
       " 'Bóg się rodzi',\n",
       " 'Jest taki samotny dom',\n",
       " 'Dżungla',\n",
       " 'Ulice Londynu',\n",
       " 'Ja mam tylko jeden świat',\n",
       " 'Świetlany krzyż',\n",
       " 'Piosenka bez tytułu',\n",
       " 'A my nie chcemy uciekać stąd',\n",
       " 'Zapada zmrok',\n",
       " 'Tobie albo zawieja w Michigan',\n",
       " 'Kołysanka',\n",
       " 'Mona',\n",
       " 'Czas',\n",
       " 'Kubuś Puchatek',\n",
       " 'Pan Wołodyjowski',\n",
       " 'Hiszpańskie dziewczyny',\n",
       " 'Blues dla małej',\n",
       " 'Płyńmy w dół do starej maui',\n",
       " 'Pod jodłą',\n",
       " 'Mniszek',\n",
       " 'Kantyczka z lotu ptaka',\n",
       " 'Piosenka dla piosenki',\n",
       " 'Bieszczadzkie anioły',\n",
       " 'Coś',\n",
       " 'Miłość',\n",
       " 'Dziesięć w skali Beauforta',\n",
       " 'Piosenka o mojej ulicy',\n",
       " 'Nie chodź tam',\n",
       " 'Malarze',\n",
       " 'Barka',\n",
       " 'Wehikuł czasu',\n",
       " 'Dni których nie znamy',\n",
       " 'Deszcz jesienny',\n",
       " 'Jałta',\n",
       " 'Marchewkowe pole',\n",
       " 'Windą do nieba',\n",
       " 'Motyle pocałunki',\n",
       " 'Świadkowie lata',\n",
       " 'Pszczółka maja',\n",
       " \"Nasza klasa '92\",\n",
       " 'Baśń',\n",
       " 'Ballada rajdowa',\n",
       " 'Cicha noc',\n",
       " 'Piszę historyczną powieść',\n",
       " 'Bawitko',\n",
       " 'Obława 2',\n",
       " 'Wiatr i strzyga',\n",
       " 'Bukowina II',\n",
       " 'Przepaść',\n",
       " 'Żal za Bułatem O.',\n",
       " 'Czarny kot',\n",
       " '*** [Wiodą, wiodą drogi w świat...]',\n",
       " 'Śliczna higieniczna',\n",
       " 'Tyle mi zostało co mi nakapało',\n",
       " 'Bartne',\n",
       " 'Nuta z Ponidzia',\n",
       " 'Gdybym miał gitarę',\n",
       " 'List',\n",
       " 'Odeszły dziewczęta',\n",
       " 'Wśród nocnej ciszy',\n",
       " 'Jak będę stary zgrzybiały...',\n",
       " 'Mały Książę (3)',\n",
       " 'Powrót',\n",
       " 'Ballada o cześku piekarzu',\n",
       " 'Gdy śliczna panna',\n",
       " 'Jesienna zaduma',\n",
       " 'Nie brookliński most',\n",
       " 'Sprzysiężeni',\n",
       " 'Zamknij dom',\n",
       " 'Beskid',\n",
       " 'Wiesiek idzie',\n",
       " 'Biała lokomotywa',\n",
       " 'Nasza klasa',\n",
       " 'Pijany poeta',\n",
       " 'Coś jeszcze',\n",
       " 'Połoniny niebieskie',\n",
       " 'Kocham Cię jak Irlandię',\n",
       " 'Amsterdam',\n",
       " 'Jesienny obrazek',\n",
       " 'Piosenka na rozgrzanie',\n",
       " 'Koncert',\n",
       " 'Kołysanka dla misiaków',\n",
       " 'Piosenka o przyjaciołach, wietrze, ',\n",
       " 'Ballada o świętym Mikołaju',\n",
       " 'Trzej wodzowie',\n",
       " 'Na Mazury',\n",
       " 'We wtorek w schronisku po sezonie',\n",
       " 'Jesień idzie',\n",
       " 'Piosenka dla przyjaciela',\n",
       " 'Blue nose',\n",
       " 'Ballada o krzyżowcu',\n",
       " 'Niebo do wynajęcia',\n",
       " 'Jesień w górach',\n",
       " 'Tęsknota',\n",
       " 'Dezyderata',\n",
       " 'Scarlett',\n",
       " 'Polanka',\n",
       " 'Tylko chcieć',\n",
       " 'Kolekcja',\n",
       " 'Rozbite oddziały',\n",
       " 'Ptaki ptakom',\n",
       " 'Kiedy mówisz',\n",
       " 'Samotny',\n",
       " 'Dwudziesty czwarty lutego',\n",
       " 'Czasem nagle smutniejesz',\n",
       " 'Pieśń XXIX',\n",
       " 'Jaworzyna',\n",
       " 'Człowiek bez butów',\n",
       " 'Samantha',\n",
       " 'Teksański',\n",
       " 'Pod śliwką',\n",
       " 'Lulajże Jezuniu',\n",
       " 'Rondo czyli piosenka o kacu giganci',\n",
       " 'Słynny niebieski prochowiec',\n",
       " 'Wędrówką życie jest człowieka',\n",
       " 'Piosenka z pociągu pośpiesznego \"Bi',\n",
       " 'Jesienne wino',\n",
       " 'Jezioro',\n",
       " 'Piosenka o Arbacie',\n",
       " 'Pajączek',\n",
       " 'Kolęda',\n",
       " 'Testament',\n",
       " 'Ballada o Dzikim Zachodzie',\n",
       " 'Blues niepotrzebnych powrotów',\n",
       " 'Jeszcze nie czas',\n",
       " 'Miły mój',\n",
       " 'Majka',\n",
       " 'Emeryt',\n",
       " 'Piosenka dla starego wieśniaka',\n",
       " 'Żwawa piosenka o żuczku',\n",
       " 'Włóż plecak',\n",
       " 'Zawirował świat',\n",
       " 'Czarna Madonna',\n",
       " 'Jezus malusieńki',\n",
       " 'Będziesz moją panią',\n",
       " 'Klasówka z fragmentu wolności',\n",
       " 'To co było minęło',\n",
       " 'Nie wierzcie piechocie',\n",
       " 'Obok Ciebie',\n",
       " 'Dom w górach',\n",
       " 'Pożegnanie',\n",
       " 'Tolerancja',\n",
       " 'Bez słów',\n",
       " 'O krok',\n",
       " 'Hiszpanka z Callao',\n",
       " 'Górska ballada',\n",
       " 'Róża',\n",
       " 'Źródło II',\n",
       " 'Buty',\n",
       " 'Lato z ptakami odchodzi',\n",
       " 'Sen Katarzyny II',\n",
       " 'Płonie ognisko i szumią knieje',\n",
       " 'Miejcie nadzieję',\n",
       " 'Pożegnanie 2',\n",
       " 'Korowód',\n",
       " 'Gdańsk',\n",
       " 'Pieśń na wejście',\n",
       " 'Jaka jesteś',\n",
       " 'Opowieść pewnego emigranta',\n",
       " 'Nocny kawboy',\n",
       " 'Mazurscy kolumbowie',\n",
       " 'Modlitwa',\n",
       " 'Tropiki',\n",
       " 'Pieśń pożegnalna',\n",
       " 'Anioł i diabeł',\n",
       " 'Wędrowanie',\n",
       " 'Wieczór',\n",
       " 'Dobosz',\n",
       " 'Łemkowyna',\n",
       " 'Morskie opowieści',\n",
       " 'Tango na głos, orkiestrę i jeszcze ',\n",
       " 'Przemijanie',\n",
       " 'Życie to nie teatr',\n",
       " 'Łabędzi puch',\n",
       " 'Zielone szkiełko',\n",
       " 'Pytania syna poety',\n",
       " 'Kubuś',\n",
       " 'Świerszcz',\n",
       " 'Pożegnanie Liverpoolu',\n",
       " 'Stary cowboy',\n",
       " 'Kołysanka dla Joanny I',\n",
       " 'Bieszczadzki rajd',\n",
       " 'Piosenka turystyczna 3',\n",
       " 'Sielanka o domu',\n",
       " 'Osada',\n",
       " 'Sanctus',\n",
       " 'Obława',\n",
       " 'Skóra',\n",
       " 'Rozstaje',\n",
       " 'Głupi Gienek',\n",
       " 'Bagno',\n",
       " 'Piosenka napisana mimochodem',\n",
       " 'Zamieszkamy pod wspólnym dachem',\n",
       " 'Piosenka o zajączku',\n",
       " 'Ballada na urodziny',\n",
       " 'Wróżba',\n",
       " 'Ballada o Janku Wiśniewskim',\n",
       " 'Wędrówka z cieniem',\n",
       " 'Wspomnienia',\n",
       " 'Kiedy w piątek',\n",
       " 'Wrzosowisko',\n",
       " 'Niedokończona jesienna fuga',\n",
       " '1788',\n",
       " 'Rzeka',\n",
       " 'Modlitwa jesienna',\n",
       " 'Biała baśń',\n",
       " 'Makatka kusząca',\n",
       " 'Harcerskie ideały',\n",
       " 'Ona sobie tego nie życzy',\n",
       " 'Jak',\n",
       " 'Oczy me pełne...',\n",
       " 'Jak dobrze nam',\n",
       " 'Przerwa w podróży',\n",
       " 'Ballada o róży',\n",
       " 'Piosenka turystyczna 2',\n",
       " 'Kaszubskie noce',\n",
       " 'Alpuhara',\n",
       " 'W malinowym chruśniaku',\n",
       " 'Kraków, Piwna 7',\n",
       " 'Wańka Morozow',\n",
       " 'Dwie skały',\n",
       " 'Ogień',\n",
       " 'Odpowiedź na ankietę ,,Twój system ',\n",
       " 'Ze szczytu schodów',\n",
       " 'Sierpień',\n",
       " 'Nina',\n",
       " 'W taką ciszę',\n",
       " 'Piosenka wiosenna',\n",
       " 'Katarynka',\n",
       " 'Ballada wrześniowa',\n",
       " 'Wakacyjna przypowieść z metafizyczn',\n",
       " 'Francois Villon',\n",
       " 'Dla Michasia',\n",
       " 'Kara Barabasza',\n",
       " 'Mędrcy świata',\n",
       " 'Piosenka o królu i żołnierzach',\n",
       " 'Zbroja',\n",
       " 'Pożegnalny ton',\n",
       " 'Hej przyjaciele',\n",
       " 'Na kredyt zaufania',\n",
       " 'Noc albo oczekiwanie na śniadanie',\n",
       " 'Zazdrość',\n",
       " 'Ballada antysojowa',\n",
       " 'Ballada o człowieku z kwiatami',\n",
       " 'Ballada o arenie cyrkowej',\n",
       " 'Pieśń o śnie',\n",
       " 'Morze Północne',\n",
       " 'Piosenka dla córki',\n",
       " 'Zielony płomień',\n",
       " 'Opadły mgły wstaje nowy dzień',\n",
       " 'Ocean',\n",
       " 'Piosenka turystyczna 1',\n",
       " 'Idą skauci',\n",
       " 'Gdziekolwiek',\n",
       " 'Kaganek',\n",
       " 'Imperatyw',\n",
       " 'Whisky',\n",
       " 'Gór mi mało',\n",
       " 'Pietruszka',\n",
       " 'Bieszczady',\n",
       " 'Leniwa niedziela',\n",
       " 'Jasnowłosa',\n",
       " 'Bombonierka',\n",
       " 'Krąg',\n",
       " 'Kocham wolność',\n",
       " 'Leonardo',\n",
       " 'Noc w bacówce',\n",
       " 'Zuzanna',\n",
       " 'Wiosenna pieśń radości',\n",
       " 'Nowa',\n",
       " 'Piosenka o mufce',\n",
       " 'Karol Levittoux',\n",
       " 'Nocna piosenka o mieście',\n",
       " 'Żbik',\n",
       " 'Moje miasto',\n",
       " 'Wizyta u malarki',\n",
       " 'Źródło',\n",
       " 'Dom wschodzącego słońca',\n",
       " 'Biały kaftanik',\n",
       " 'Burza',\n",
       " 'Prawo dżungli',\n",
       " 'Michał Wołodyjowski',\n",
       " 'Poeta i pan Strauss',\n",
       " 'Kochaj mnie i dotykaj',\n",
       " 'Fortepian Szopena',\n",
       " 'Zbieg okoliczności łagodzących',\n",
       " 'Nie lubię',\n",
       " 'Księżniczka i pirat',\n",
       " 'Kamienie',\n",
       " 'Nie lubię wampirów',\n",
       " 'Raport z izby otrzeźwień',\n",
       " 'Nadziei amatorski zespół',\n",
       " 'Śmiech',\n",
       " 'Autobiografia',\n",
       " 'Modlitwa wędrownego grajka',\n",
       " 'Gloria',\n",
       " 'Na potoczku-m prała',\n",
       " 'Ostatnia mruczanka albo spleen Kubu',\n",
       " 'Bar w Beskidzie',\n",
       " 'Szara ballada',\n",
       " 'Piosenka o papierowym żołnierzyku',\n",
       " 'Najemnicy',\n",
       " 'Niepokój',\n",
       " 'Pociąg grudniowy',\n",
       " 'Myśliwa',\n",
       " 'Cichutko',\n",
       " 'Bukowina I',\n",
       " 'Ballada o trzeźwym diable',\n",
       " 'Niebieska piosenka',\n",
       " 'Pieśń gruzińska',\n",
       " 'Noc niespodzianek',\n",
       " 'Idąc zawsze idź',\n",
       " '*** [Trzy pierścienie dla królów el',\n",
       " 'Nadaremność',\n",
       " 'Ballada o smutnym skinie']"
      ]
     },
     "execution_count": 18,
     "metadata": {},
     "output_type": "execute_result"
    }
   ],
   "source": [
    "song_names=list(DF.title)\n",
    "song_names=[x[:35] for x in song_names]\n",
    "song_names"
   ]
  },
  {
   "cell_type": "code",
   "execution_count": 19,
   "id": "876faf72",
   "metadata": {},
   "outputs": [
    {
     "data": {
      "text/plain": [
       "['ach',\n",
       " 'aj',\n",
       " 'albo',\n",
       " 'bardzo',\n",
       " 'bez',\n",
       " 'bo',\n",
       " 'być',\n",
       " 'ci',\n",
       " 'cię',\n",
       " 'ciebie',\n",
       " 'co',\n",
       " 'czy',\n",
       " 'daleko',\n",
       " 'dla',\n",
       " 'dlaczego',\n",
       " 'dlatego',\n",
       " 'do',\n",
       " 'dobrze',\n",
       " 'dokąd',\n",
       " 'dość',\n",
       " 'dużo',\n",
       " 'dwa',\n",
       " 'dwaj',\n",
       " 'dwie',\n",
       " 'dwoje',\n",
       " 'dziś',\n",
       " 'dzisiaj',\n",
       " 'gdyby',\n",
       " 'gdzie',\n",
       " 'go',\n",
       " 'ich',\n",
       " 'ile',\n",
       " 'im',\n",
       " 'inny',\n",
       " 'ja',\n",
       " 'ją',\n",
       " 'jak',\n",
       " 'jakby',\n",
       " 'jaki',\n",
       " 'je',\n",
       " 'jeden',\n",
       " 'jedna',\n",
       " 'jedno',\n",
       " 'jego',\n",
       " 'jej',\n",
       " 'jemu',\n",
       " 'jeśli',\n",
       " 'jest',\n",
       " 'jestem',\n",
       " 'jeżeli',\n",
       " 'już',\n",
       " 'każdy',\n",
       " 'kiedy',\n",
       " 'kierunku',\n",
       " 'kto',\n",
       " 'ku',\n",
       " 'lub',\n",
       " 'ma',\n",
       " 'mają',\n",
       " 'mam',\n",
       " 'mi',\n",
       " 'mną',\n",
       " 'mnie',\n",
       " 'moi',\n",
       " 'mój',\n",
       " 'moja',\n",
       " 'moje',\n",
       " 'może',\n",
       " 'mu',\n",
       " 'my',\n",
       " 'na',\n",
       " 'nam',\n",
       " 'nami',\n",
       " 'nas',\n",
       " 'nasi',\n",
       " 'nasz',\n",
       " 'nasza',\n",
       " 'nasze',\n",
       " 'natychmiast',\n",
       " 'nią',\n",
       " 'nic',\n",
       " 'nich',\n",
       " 'nie',\n",
       " 'niego',\n",
       " 'niej',\n",
       " 'niemu',\n",
       " 'nigdy',\n",
       " 'nim',\n",
       " 'nimi',\n",
       " 'niż',\n",
       " 'obok',\n",
       " 'od',\n",
       " 'około',\n",
       " 'on',\n",
       " 'ona',\n",
       " 'one',\n",
       " 'oni',\n",
       " 'ono',\n",
       " 'owszem',\n",
       " 'po',\n",
       " 'pod',\n",
       " 'ponieważ',\n",
       " 'przed',\n",
       " 'przedtem',\n",
       " 'są',\n",
       " 'sam',\n",
       " 'sama',\n",
       " 'się',\n",
       " 'skąd',\n",
       " 'tak',\n",
       " 'taki',\n",
       " 'tam',\n",
       " 'ten',\n",
       " 'to',\n",
       " 'tobą',\n",
       " 'tobie',\n",
       " 'tu',\n",
       " 'tutaj',\n",
       " 'twoi',\n",
       " 'twój',\n",
       " 'twoja',\n",
       " 'twoje',\n",
       " 'ty',\n",
       " 'wam',\n",
       " 'wami',\n",
       " 'was',\n",
       " 'wasi',\n",
       " 'wasz',\n",
       " 'wasza',\n",
       " 'wasze',\n",
       " 'we',\n",
       " 'więc',\n",
       " 'wszystko',\n",
       " 'wtedy',\n",
       " 'wy',\n",
       " 'żaden',\n",
       " 'zawsze',\n",
       " 'że',\n",
       " 'a',\n",
       " 'aby',\n",
       " 'acz',\n",
       " 'aczkolwiek',\n",
       " 'ale',\n",
       " 'ależ',\n",
       " 'aż',\n",
       " 'bardziej',\n",
       " 'bowiem',\n",
       " 'by',\n",
       " 'byli',\n",
       " 'bynajmniej',\n",
       " 'był',\n",
       " 'była',\n",
       " 'było',\n",
       " 'były',\n",
       " 'będzie',\n",
       " 'będą',\n",
       " 'cali',\n",
       " 'cała',\n",
       " 'cały',\n",
       " 'cokolwiek',\n",
       " 'coś',\n",
       " 'czasami',\n",
       " 'czasem',\n",
       " 'czemu',\n",
       " 'czyli',\n",
       " 'gdy',\n",
       " 'gdyż',\n",
       " 'gdziekolwiek',\n",
       " 'gdzieś',\n",
       " 'i',\n",
       " 'inna',\n",
       " 'inne',\n",
       " 'innych',\n",
       " 'iż',\n",
       " 'jakaś',\n",
       " 'jakichś',\n",
       " 'jakie',\n",
       " 'jakiś',\n",
       " 'jakiż',\n",
       " 'jakkolwiek',\n",
       " 'jako',\n",
       " 'jakoś',\n",
       " 'jednak',\n",
       " 'jednakże',\n",
       " 'jeszcze',\n",
       " 'kilka',\n",
       " 'kimś',\n",
       " 'ktokolwiek',\n",
       " 'ktoś',\n",
       " 'która',\n",
       " 'które',\n",
       " 'którego',\n",
       " 'której',\n",
       " 'który',\n",
       " 'których',\n",
       " 'którym',\n",
       " 'którzy',\n",
       " 'lat',\n",
       " 'lecz',\n",
       " 'mimo',\n",
       " 'między',\n",
       " 'mogą',\n",
       " 'moim',\n",
       " 'możliwe',\n",
       " 'można',\n",
       " 'musi',\n",
       " 'nad',\n",
       " 'naszego',\n",
       " 'naszych',\n",
       " 'natomiast',\n",
       " 'nawet',\n",
       " 'no',\n",
       " 'o',\n",
       " 'oraz',\n",
       " 'pan',\n",
       " 'pana',\n",
       " 'pani',\n",
       " 'podczas',\n",
       " 'pomimo',\n",
       " 'ponad',\n",
       " 'powinien',\n",
       " 'powinna',\n",
       " 'powinni',\n",
       " 'powinno',\n",
       " 'poza',\n",
       " 'prawie',\n",
       " 'przecież',\n",
       " 'przede',\n",
       " 'przez',\n",
       " 'przy',\n",
       " 'roku',\n",
       " 'również',\n",
       " 'sobie',\n",
       " 'sobą',\n",
       " 'sposób',\n",
       " 'swoje',\n",
       " 'ta',\n",
       " 'taka',\n",
       " 'takie',\n",
       " 'także',\n",
       " 'te',\n",
       " 'tego',\n",
       " 'tej',\n",
       " 'teraz',\n",
       " 'też',\n",
       " 'totobą',\n",
       " 'toteż',\n",
       " 'trzeba',\n",
       " 'twoim',\n",
       " 'twym',\n",
       " 'tych',\n",
       " 'tylko',\n",
       " 'tym',\n",
       " 'u',\n",
       " 'w',\n",
       " 'według',\n",
       " 'wiele',\n",
       " 'wielu',\n",
       " 'więcej',\n",
       " 'wszyscy',\n",
       " 'wszystkich',\n",
       " 'wszystkie',\n",
       " 'wszystkim',\n",
       " 'właśnie',\n",
       " 'z',\n",
       " 'za',\n",
       " 'zapewne',\n",
       " 'zeznowu',\n",
       " 'znów',\n",
       " 'został',\n",
       " 'żadna',\n",
       " 'żadne',\n",
       " 'żadnych']"
      ]
     },
     "execution_count": 19,
     "metadata": {},
     "output_type": "execute_result"
    }
   ],
   "source": [
    "#polish stopwords from: https://countwordsfree.com/stopwords/polish\n",
    "\n",
    "f = open(\"Data/stop_words_polish.txt\", \"r\")\n",
    "polish_stopwords = f.readlines()\n",
    "f.close()\n",
    "polish_stopwords=[x[:-1] for x in polish_stopwords if x[-1:]=='\\n']\n",
    "polish_stopwords"
   ]
  },
  {
   "cell_type": "code",
   "execution_count": 20,
   "id": "1b428c89",
   "metadata": {},
   "outputs": [
    {
     "data": {
      "text/plain": [
       "['sześć błota stóp sześć błota stóp uderz w bęben już bo nadszedł mój czas wrzućcie mnie do wody na wieczną wachcę trza nam gdzie sześć błota stóp sześć błota stóp dziewięć sążni wody i sześć błota stóp ściągnijcie flagę w dół uszyjcie worek mi dwie kule przy nogach ostatni ścieg bez krwi no i sześć błota stóp sześć błota stóp dziewięć sążni wody i sześć błota stóp na wachcie więcej już nie ujrzycie chyba mnie kończę ziemską podróż do hilo dotrę wnet tam gdzie sześć błota stóp sześć błota stóp dziewięć sążni wody i sześć błota stóp a ląd daleko jest przed wami setki mil a mnie pozostało do lądu kilka chwil no i sześć błota stóp sześć błota stóp dziewięć sążni wody i sześć błota stóp sześć błota stóp sześć błota stóp sześć błota stóp ',\n",
       " 'płacze dziewczynka balon uciekł jej ludzie mówią nie płacz a balonik hen płacze dziewczyna chłopca trzeba jej ludzie mówią nie płacz a balonik hen płacze kobieta mąż porzucił ją ludzie mówią nie płacz a balonik hen płacze staruszka życie moje wróć a balonik wrócił i błękitny jest ',\n",
       " 'świat jest taki a nie inny i zapewne się nie zmieni ogłosili wczoraj słynni dwaj uczeni a w przypadku słynnych ludzi każda myśl jest całkiem dobra więc ci goście otrzymali zaraz nobla mieli rację jest jak było czyli całkiem nieciekawie w rowie leży pierwsza miłość po zabawie jak się bawić to się bawić krzyż na szyi w dłoni seta i na niebie czasem zjawi się kometa zamknij oczy nie patrz na to moja miła pod powieką znaczenie lepsze są widoki i w tym nasza siła i w tym nasza siła że umiemy jeszcze czasem marzyć jak się bawić to się bawić a tu biedy coraz więcej i ważniejszy jest karabin niźli serce tutaj się zabawą żyje za to tępe rządzą głowy a czasami kretyn z kijem bejsbolowym nie patrz miła na to wszystko człowiek musi się szanować niech nie schyla się za nisko twoja głowa lecz na chwilę moment jeden za to z góry ci dziękuję otwórz oczy tylko kiedy mnie całujesz a na resztę zamknij oczy moja miła pod powieką znaczenie lepsze są widoki i w tym nasza siła i w tym nasza siła że umiemy jeszcze czasem marzyć a na resztę zamknij oczy moja miła pod powieką znaczenie lepsze są obrazy i w tym nasza siła i w tym nasza siła że umiemy jeszcze czasem marzyć ',\n",
       " 'polskoruska madonna polskostarocerkiewna z gorejącego złota z żywego drewna srebra bizantyjskosłowiańska w śnieżnobiałych sukienkach nie na bielonych płótnach na trumiennych deskach polskoruska madonna polskostarocerkiewna z gorejącego złota z żywego drewna srebra nie bojarska nie carska zasmucona kamienna twarz nie bojarska nie carska zasmucona chłopska ikona polskoruska madonna polskostarocerkiewna z gorejącego złota z żywego drewna srebra ',\n",
       " 'nie rozdziobią nas kruki ni wrony ani nic nie rozszarpią na sztuki poezji wściekłe kły ruszaj się bruno idziemy na piwo niechybnie brakuje tam nas od stania w miejscu niejeden już zginął niejeden zginął już kwiat nie omami nas forsa ni sławy pusty dźwięk inną ścigamy postać realnej zjawy tren ruszaj się bruno idziemy na piwo niechybnie brakuje tam nas od stania w miejscu niejeden już zginął niejeden zginął już kwiat nie zdechniemy tak szybko jak sobie roi śmierć ziemia dla nas za płytka fruniemy w góry gdzieś ruszaj się bruno idziemy na piwo niechybnie brakuje tam nas od stania w miejscu niejeden już zginął niejeden zginął już kwiat ',\n",
       " 'pierwszy raz przy pełnym takielunku biorę ster i trzymam kurs na wiatr i jest jak przy pierwszym pocałunku w ustach sól gorącej wody smak o ho ho przechyły i przechyły o ho ho za falą fala mknie o ho ho trzymajcie się dziewczyny ale wiatr ósemka chyba dmie zwrot przez sztag ok zaraz zrobię słyszę jak kapitan cicho klnie gubię wiatr i zamiast w niego dziobem to on mnie od tyłu kumple w śmiech o ho ho przechyły i przechyły o ho ho za falą fala mknie o ho ho trzymajcie się dziewczyny ale wiatr ósemka chyba dmie hej ty tam za burtę wychylony tu naprawdę się nie ma z czego śmiać cicho siedź i lepiej proś neptuna żeby coś nie spadło ci na kark o ho ho przechyły i przechyły o ho ho za falą fala mknie o ho ho trzymajcie się dziewczyny ale wiatr ósemka chyba dmie krople mgły w tęczowym kropel pyle tańczy jacht po deskach spływa dzień jutro znów wypłynę bo odkryłem morze noc żeglarską starą pieśń o ho ho przechyły i przechyły o ho ho za falą fala mknie o ho ho trzymajcie się dziewczyny ale wiatr ósemka chyba dmie ',\n",
       " ' znów wędrujemy ciepłym krajem malachitową łąką morza ptaki powrotne umierają wśród pomarańczy na rozdrożach na fioletowoszarych łąkach niebo rozpina płynność arkad pejzaż w powieki miękko wsiąka zakrzepła sól na nagich wargach a wiczorami w prądach zatok noc liże morze słodką grzywą jak miękkie gruszki brzmieje lato wiatrem sparzone jak pokrzywą przed fontannami perłowymi noc winogrona gwiazd rozdaje znów wędrujemy ciepłą ziemią znów wędrujemy ciepłym krajem malachitową łąką morza ptaki powrotne umierają wśród pomarańczy na rozdrożach znów wędrujemy ciepłym krajem malachitową łąką morza ptaki powrotne umierają wśród pomarańczy na rozdrożach przed fontannami perłowymi noc winogrona gwiazd rozdaje znów wędrujemy ciepłą ziemią znów wędrujemy ciepłym krajem malachitową łąką morza ',\n",
       " 'na twarzy twej rumieńce jakbyś był uduchowiony przez gruźlicę płuc a dobroć twą nieziemską zamykasz na niebieski klucz zamykasz na niebieski klucz najczęściej można spotkać cię nad przepaścią lukrowaną gdy przez dziurawą kładkę przeprowadzasz swoje dzieci nocą może chciałbyś oderwać się od ściany ale jedno skrzydło gwóźdź ci przedziurawił więc zostajesz z nami na wieki wieków amen najczęściej można spotkać cię nad przepaścią lukrowaną gdy przez dziurawą kładkę przeprowadzasz swoje dzieci ',\n",
       " 'kiedy nadejdzie czas wabi nas ognia blask na polanie gdzie króluje zły gwiezdny pył w ogniu tym łzy wyciśnie nam dym tańczą iskry z gwiazdami a my śpiewajmy wszyscy w ten radosny czas śpiewajmy razem ilu jest tu nas choć lata młode szybko płyną wiemy że nie starzejemy się w lesie gdzie licho śpi ma przygoda swe drzwi chodźmy tam gdzie na ścianie lasu lśnią oczy sów wilcze kły rykiem powietrze drży tylko gwiazdy przyjazne są dziś śpiewajmy wszyscy w ten radosny czas śpiewajmy razem ilu jest tu nas choć lata młode szybko płyną wiemy że nie starzejemy się dorzuć do ognia drew w górę niech płynie śpiew wiatr poniesie go wilgotny świat każdy z nas o tym wie znowu spotkamy się a połączy nas bieszczadzki trakt śpiewajmy wszyscy w ten radosny czas śpiewajmy razem ilu jest tu nas choć lata młode szybko płyną wiemy że nie starzejemy się ',\n",
       " 'minęło wiele miesięcy ale mnie nic nie minęło czas dla mnie w miejscu przystanął takie jest chłopcy takie jest piekło na odgłos kroków po schodach serce wciąż skacze do gardła że może to jednak to ona ona to piękna moja zagłada ach kiedy znowu ruszą dla mnie dni noce i dni i pory roku krążyć zaczną znów jak obieg krwi lato jesień zima wiosna do boliwii droga prosta wiosna lato jesień zima nic mi nie przypomina ni żyć już można mi umrzeć wypłakane łzy doszczętnie oddycham ledwie i z bólem kością mi w gardle staje powietrze czy tak już będzie i będzie boże mój boże mój boże zawsze i wszędzie w obłędzie boże mój wbiłeś we mnie wszytkie noże ach kiedy znowu ruszą dla mnie dni noce i dni i pory roku krążyć zaczną znów jak obieg krwi lato jesień zima wiosna do boliwii droga prosta wiosna lato jesień zima nic mi nie przypomina ',\n",
       " 'wiatr to jest taki gitarzysta co gra na akacjowych listkach pogra odchodzi i nie wraca i bardzo smuci się akacja więc gdy zapadnie noc i nawet róża się chowa w senną trawę ptak składa skrzydła w twardej sośnie akacja skarży się żałośnie dokąd poleciał ten szaleniec na czyich liściach szumi gdziejest czemu nie wraca srebrny wariat srebrny i ciepły jak latarnia wietrze ach wietrze jaka pustka ty zawsze będziesz na mych ustach ty zawsze będziesz na mych listkach listkiem do listka cię przyciskam wietrze wiosenny gitarzysto mój każdy kwiat dla ciebie wszystko wietrze wiosenny z leśnych ścieżek mój gitarzysto gondolierze wietrze wiosenny piosenkarzu jak długo będę twoja marząc aż wróci wiatr zimowy wicher ',\n",
       " 'dokąd nas zaprowadzisz panie bez bagażu i bólu głowy i gdy nic nam na drodze nie stanie czy będziemy mogli zacząć na nowo bo wiesz u nas nie zawsze jest słońce choć przed deszczem nas chroni parasol czasem jednak przemoczy nam serca inny deszcz co spływa po twarzy więc nas zabierz bez tych uśmiechów co dzień rano zostawianych w lustrze i bez śniadań w pośpiechu by zdążyć na kolejny autobus do jutra bo my tu tak do jutra do zaraz do pierwszego i do wakacji rozliczając geniuszy z geniuszu a zjadaczy chleba z kolacji więc już jutro zaprowadź nas panie bez bagażu i bólu głowy i gdy nic nam na drodze nie stanie spróbujemy zacząć od nowa dokąd nas zaprowadzisz panie bez bagażu i bólu głowy i gdy nic nam na drodze nie stanie czy będziemy mogli zacząć na nowo ',\n",
       " 'jedyne co mam to złudzenia że mogę mieć własne pragnienia jedyne co mam to złudzenia że mogę je mieć miałem siebie na własność ktoś zabrał mi prywatność co mam zrobić bez siebie jak żyć bez siebie jak żyć jedyne co mam to złudzenia że mogę mieć własne pragnienia jedyne co mam to złudzenia że mogę je mieć miałem słowa własne ktoś stwierdził że zbyt ciasne co mam zrobić bez słów jak żyć bez słów jak żyć jedyne co mam to złudzenia że mogę mieć własne pragnienia jedyne co mam to złudzenia że mogę je mieć miałem serce dla wszystkich ktoś klucz do niego wymyślił co mam zrobić bez serca jak żyć bez serca jak żyć jedyne co mam to złudzenia że mogę mieć własne pragnienia jedyne co mam to złudzenia że mogę je mieć miałem myśli spokojne lecz ktoś wywołał w nich wojnę co mam zrobić teraz jak żyć jak teraz żyć jedyne co mam to złudzenia że mogę mieć własne pragnienia jedyne co mam to złudzenia że mogę je mieć ',\n",
       " 'ślady twoje zasypało w śniegu całkiem się zgubiły szukać trudno wszędzie biało czekać też nad moje siły gdzie cię poniosło na tych saniach co ci się stało w środku zimy a jeszcze latem byłaś ze mną czy w twoje życie wszedł ktoś inny między nami tyle śniegu między nami tyle lodu czy trafimy znów na siebie w naszych oknach szyby chłodu może wiosna cię odmieni może lato da zapomnieć czekam tylko do jesieni więc przypomnij sobie o mnie mam po tobie listów kilka i krzyżówkę bez dwóch haseł pięć biletów tramwajowych pewnie dzisiaj też nie zasnę bo wciąż w myślach biję się ze sobą gdybyś dziś znów stanęła na progu ze śniegu pewnie bym cię otrzepał i dziękował sam nie wiem komu między nami tyle śniegu między nami tyle lodu czy trafimy znów na siebie w naszych oknach szyby chłodu może wiosna cię odmieni może lato da zapomnieć czekam tylko do jesieni więc przypomnij sobie o mnie ',\n",
       " 'ocean w nas śpi i horyzont z nas drwi płytka fala fałszywie się mieni a prawdziwy jest rejs do nieznanych miejsc kiedy płyniesz na przekór przestrzeni i na tej z wielu dróg po co ci para nóg i tak dotrzesz na pewno do końca nie potrzebny ci wzrok żeby wyczuć swój krok i nie musisz wciąż radzisz się słońca wielbicieli i sług tłum ci zawisł u nóg to wolności twej chciwi strażnicy zaprowadzisz ich tam gdzie powinieneś być sam z nimi żadnej nie przejdziesz granicy zlekceważą twój głos którym wróżysz im los od jakiego ich nic nie wyzwoli bo zabije ich las rąk co klaszczą na czas w marsza rytm co śmierć niosąc nie boli patrz jak piją i żrą twoją żywią się krwią i żonglują słowami twych pieśni lecz nic nie śni się im a najlepiej wiesz że nie istnieje wszak to co się nie śni by przy śmierci twej być płakać śmiać się i drwić to jedyny cel twojej eskorty oddaj komuś rząd dusz i na własny szlak rusz tam gdzie żadne nie zdarzą się porty mówić będą żeś zbiegł ale wyjdą na brzeg i zdradzieckie ci lampy zapalą ale ty patrząc w dal płynąc będziesz wśród fal aż sam wreszcie staniesz się falą ',\n",
       " 'ciemnością ciszą jak biedą osnute wszystko w tym domu wasza wysokość kobieto czy pani naprawdę do mnie żarówki pełga tu oko kroplami mur spływa nagi kobieto wasza wysokość skąd w pani tyle odwagi to przyjście pani jak pożar zapiera dech huczy wokół lecz proszę do środka proszę nie warto tak stać na progu więc do mnie naprawdę miła ach co też mi się znów plecie wiem pani drzwi pomyliła ulicę miasto stulecie ',\n",
       " 'mówisz życie jak cukierek gorzkie jest czasami mówisz panna zostawiła kumple dawno cię olali ale nie bój nic minie jakiś czas poczuj chłodny świt wszystko przejdzie ci uuu chłopaki uuu nie płaczą uuu chłopaki uuu nie płaczą nie nie nie nie nie nie nie masz kaski odpuść sobie jutro przecież też jest dzień może kiedyś ci pomogę może ty nie wystawisz mnie ale nie bój nic minie jakiś czas poczuj chłodny świt wszystko przejdzie ci uuu chłopaki uuu nie płaczą uuu chłopaki uuu nie płaczą nie nie nie nie nie nie ',\n",
       " 'na włóczęgę dziś wyruszyć przyszła pora las nas woła śpiewem ptaków szumem drzew i wołają nas już pola i jeziora zeszłoroczny nasz wesoły pomnąc śpiew ludzie mają swoje prace ludzie lubią się bogacić pełne brzuchy mają chcą mieć pełen trzos a ja gonię a ja gonię swe marzenia szukam szczęścia gdzie kaczeńce i gdzie wrzos tak to proste że i gadać szkoda czasu tylko plecak wziąć i iść przed siebie tak szukać wiatru i zapachu szukać lasu jak najdalej z zadymionych wielkich miast zrozum bracie to tak trzeba łóżkiem trawa dachem drzewa z wiatrem gonić i z ptakami śpiewać w głos trzeba gonić trzeba gonić swe marzenia i nie czekać ile trosk przyniesie los tym co iść nie lubią mówię do widzenia za dni kilka może się spotkamy znów idę w świat by tam dogonić swe marzenia aby spełnić kilka swoich złotych snów więc z dziewczyną swą pod rękę i z gitarą i z piosenką precz mi smutki precz przykrości słońce świeć idę gonić idę gonić swe marzenia i spokoju szukać pośród starch drzew ',\n",
       " 'przyjdź znasz ten dom i drzwi materac zmęczony i fotel wysiedziany nie musisz dzwonić pukać wejdź posiedzimy pomyślimy pogadamy o tym że miłość nie chce przyjść o tym że przyjaźń nie wystarczy o tym że ciężko nam bywa i źle o walkach przegranych i powrotach na tarczy też o tym że my że ty i ja że łatwiej martwić się we dwoje o tym że przyjaźń jednak trwa choć świata choć jutra tak bardzo się boję wyjdziesz rano zmęczona bo trudna jak zawsze ta nasza rozmowa za nami zostaną wspólne łzy a w duszy zostaną nam słowa że chociaż miłość nie chce przyjść i przyjaźń czasem nie wystarczy że chociaż ciężko nam bywa i źle choć zdarza się czasem powrócić na tarczy to jednak trwamy ty i ja i lepiej zmieniać świat we dwoje i przyjaźń żyje rośnie trwa i dzięki niej trochę mniej świata się boję ',\n",
       " 'kiedy niebo do morza przytula się z płaczem licho sosny garbate do reszty wykrzywia brzegiem morza wędrują bezdomni tułacze i nikt nie wie skąd idą jaki wiatr ich przywiał do tawerny pod pijaną zgrają do tańczących rozhukanych ścian i do dziewcząt które serca za złamany grosz oddają nie pytając czy kto kiep czy drań kiedy wiatry noc chmurną przegonią za wodę gdy półsłońce pół nieba pół morza rozpali opuszczają wędrowcy uśpioną gospodę z pierwszą bryzą znikają w pomarszczonej dali a w tawernie pod pijaną zgrają spływa smutek z okopconych ścian a dziewczyny z półgrosików amulety układają na kochanie na tęsknotę i na żal kiedy chandra jesienna jak mgła cię otoczy kiedy wszystko postawisz na kartę przegraną zamiast siedzieć bezczynnie i płakać lub psioczyć weź węzełek na plecy ruszaj w świat w nieznane do tawerny pod pijaną zgrają do tańczących rozhukanych ścian i do dziewcząt które serca za złamany grosz oddają nie pytając czyś ty kiep czy drań nie pytają czyś ty kiep czy drań nie pytają czyś ty kiep ',\n",
       " 'przez palce zwykłych dni oglądasz świat w pośpiechu gubiąc sny twój śmiech zawstydza cię więc wolisz nie śmiać się niż chwilę śmiesznym być spróbuj choć raz odsłonić twarz i spojrzeć prosto w słońce zachwycić się po prostu tak i wzruszyć jak najmocniej nie bój się bać gdy chcesz to płacz idź szukać wiatru w polu pocałuj noc w najwyższą z gwiazd zapomnij się i tańcz zakładasz szary płaszcz łatwo wtapiasz się w upiornie trzeźwy świt obmyślasz każdy gest na wypadek by nikt nie odkrył kim naprawdę jesteś spróbuj choć raz odsłonić twarz i spojrzeć prosto w słońce zachwycić się po prostu tak i wzruszyć jak najmocniej nie bój się bać gdy chcesz to płacz idź szukać wiatru w polu pocałuj noc w najwyższą z gwiazd zapomnij się i tańcz ',\n",
       " ' brzęk muchy w pustym dzbanie co stoi na półce smuga w oczach po znikłej za oknem jaskółce cień ręki na murawie a wszystko niczyje ledwo się zazieleni już ufa że żyje a jak dumnie się modrzy u ciszy podnóża jak buńczucznie do boju z mgłą się napurpurza a jest go tak niewiele że mniej niż niebiesko nic prócz tła biały obłok z liliową przekreską dal światła w ślepiach wróbla spotkanie trwa z ciałem szmer w studni ja w lesie mgłą byłeś bywałem usta twoje w alei świt pod groblą w młynie niebo w bramie na oścież zgon pszczół w koniczynie brzęk muchy w pustym dzbanie co stoi na półce smuga w oczach po znikłej za oknem jaskółce cień ręki na murawie a wszystko niczyje ledwo się zazieleni już ufa że żyje chód po ziemi człowieka co na widnokresie malejąc łatwo zwiewną gęstwe ciała niesie i w tej gęstwie się modli i gmatwa co chwila i wyziera z tej gęstwy w świat i na motyla brzęk muchy w pustym dzbanie co stoi na półce smuga w oczach po znikłej za oknem jaskółce cień ręki na murawie a wszystko niczyje ledwo się zazieleni już ufa że żyje ',\n",
       " 'żegluj żegluj tam gdzie nowa szkocja żegluj żegluj gdzie wstaje nowy dzień głos nowej szkocji nam przynosi wiatr to zapowiedz nowych dni znowu woła do nas rykiem fal tam znajdziecie nowy świat znów dumny brzeg będzie witał was majestatem groźnych skał każdy dzień znów świtem przywita was coraz bliższym stanie się twoim własnym domem stanie się żegluj żegluj tam gdzie nowa szkocja atlantyk bije falą w stromy brzeg wściekle ryczy pośród skał w górze dzikich ptaków słychać śpiew głos ich płynie z wiatrem w dal tam bujnej trawy się kołysze łan i strumyków cichy szept w mej pamięci zawsze będzie trwał lecz niedługo powiem wam lecz niedługo wszystkim powiem wam żegluj żegluj tam gdzie nowa szkocja żegluj żegluj tam gdzie nowa szkocja ',\n",
       " 'a kiedy nic już nie miałem w mieście do roboty bo na większość poetów skończył się tu popyt wsiadłem w auto i rzekłem pora mi uciekać do tej polski gdzie jeszcze kocha się człowieka tam gdzie rowy przydrożne ubarwione mleczem zapraszają wędrowca wstąpcie do miasteczek easy rider przeszło mi przez głowę easy rider głupiec jednym słowem lecz ciagnęły mnie panny ciepłe jak poranek kiedy mleko skwaszone wnoszą mi na ganek easy rider easy rider w miasteczku pierwszym zamknięty był jedyny hotel bo personel miał wolne właśnie w tę sobotę a w prywatnym mieszkaniu drzwi otworzył blondyn i zapytał mnie z miejsca jakie masz poglądy sprawiedliwość i prawda to jest dla mnie wszystko wtedy padła odpowiedź zjeżdżaj aktywisto easy rider przeszło mi przez głowę easy rider głupiec jednym słowem lecz ciągnęły mnie dalej wierzby malowane i te nasze dziewczyny ładne jak z pisanek easy rider easy rider w następnym domku z ogródkiem miejski prokurator różom kolce przycinał równo ciął sekator przywitałem się grzecznie prosząc o mieszkanie on zapytał mnie tylko jakie ma pan zdanie sprawiedliwość i prawda to jest dla mnie wszystko wtedy padła odpowiedź odejdź ekstremisto easy rider przeszło mi przez głowę easy rider głupiec jednym słowem lecz ciągnęło mnie jeszcze do gościnnych wiosek gdzie częstują każdego miodem i bigosem easy rider easy rider solidny dom z pruskiej cegły siatką ogrodzony i na bramie tabliczka obcym wstęp wzbroniony i na ganku gospodarz czerstwy jak bochenek wziął przywitał pytaniem co najbardziej cenię sprawiedliwość i prawda to jest dla mnie wszystko burek bierz miastowego będzie widowisko easy rider przeszło mi przez głowę easy rider głupiec jednym słowem lecz ciągnęło mnie jeszcze w strony te dalekie gdzie tak swojsko nam pachnie sianem i człowiekiem easy rider easy rider a kiedy minął już miesiąc w mej samotnej drodze gdzieś na szlaku zatrzymał pojazd mój wędrowiec sprawiedliwość i prawda rzekłem do rodaka i był pierwszym co spytał dobrze ale jaka i podzielił się ze mną chlebem i kłopotem to był też easy rider tylko na piechotę easy rider ',\n",
       " 'noce ciemne świerkowe nam spadają na głowy gdy idziemy zmierzchami ociemniali blaskiem dnia księżycowa latarnia niebo mroki ogarnia płoną gwiezdne latarki żeby jaśniej było nam żeby jaśniej było nam wędrujemy cygańskim obozem nocujemy w gwiaździstym gronie dzisiaj pod wielkim wozem jutro na wielkim wozie wielki wóz z małym wozem jadą po mlecznej drodze który dziś nas będzie wiózł mały wóz czy wielki wóz szczyty gór kryje całun rzeki mgły roznuwają gdy idziemy zmierzchami ociemniali blaskiem dnia zorza karmin wypala jaśnieć gwiazdom pozwala płoną gwiezdne latarki żeby jaśniej było nam żeby jaśniej było nam wędrujemy cygańskim obozem nocujemy w gwiaździstym gronie dzisiaj pod wielkim wozem jutro na wielkim wozie wielki wóz z małym wozem jadą po mlecznej drodze który dziś nas będzie wiózł mały wóz czy wielki wóz ciepły dotyk twej dłoni chłód wieczorny przegoni gdy idziemy zmierzchami ociemniali blaskiem dnia ścieżka wije się kręta szlak na drzewach pamięta płoną gwiezdne latarki żeby jaśniej było nam żeby jaśniej było nam wędrujemy cygańskim obozem nocujemy w gwiaździstym gronie dzisiaj pod wielkim wozem jutro na wielkim wozie wielki wóz z małym wozem jadą po mlecznej drodze który dziś nas będzie wiózł mały wóz czy wielki wóz ',\n",
       " 'wilcze zęby oczy siwe groźnie garść obuszkiem furczy gniew w zawody z wichru zrywem dzika radość lot jaskółczy czyn to czyn zapadła klamka puścić kura po zaściankach hej kto szlachta za kmicicem hajda na wołmontowicze przodkom kule między oczy krótką rozkosz dać sikorkom po łbie kto się napatoczy kijów sto chudopachołkom potem picie do obłędu studnia śnieg my z tobą jędruś hej kto szlachta za kmicicem hajda na wołmontowicze zdrada krzyż na krzyż przysięga tak krucyfiks cyrografem i oddala się oleńka żądze się wychłoszcze batem za to swoich siec czy obcych jedna sprawa za mną chłopcy hej kto szlachta za kmicicem hajda na wołmontowicze wreszcie lek na duszy blizny polska suknem radziwiła wróg prywatny wróg ojczyzny niespodzianka jakże miła los sumienie panny stratę wynagrodzi spór z magnatem hej kto szlachta za kmicicem hajda na wołmontowicze jasna góra czas pokuty trup trup kmicic strzela z łuku klasztor płaszczem mgieł zasnuty w szwedzkich armat strasznym huku jędrek się granatem bawi ksiądz kordecki błogosławi hej kto szlachta za kmicicem hajda na wołmontowicze jest nagroda za cierpienie kto się śmieli ten korzysta dawnych grzechów odpuszczenie król jędrkowi skronie ściska masz tatarów w drogę ruszaj raduj boga rzeźą w prusach hej kto szlachta za kmicicem hajda na wołmontowicze krzyż ojczyzna bóg prywata warchoł w oczach zmienia skórę wierny jest jak topór kata i podobną ma naturę więc za słuszną sprawność ręki będzie ręka i oleńki łaska króla dworek dzieci szlachcic co przykładem świeci hej kto szlachta za kmicicem hajda na wołmontowicze ',\n",
       " 'po ulicy przetaczał się bajecznie barwny tłum migotała reklama jakiejś wody silver moon i drapacze drapały wierzchołkami brzuchy chmur kiedy dołem przejeżdżał gigantyczny wozów sznur taki broadway to broadway z kolorowych pięknych kart taki broadway to broadway którym się zachwyca świat a na rogu ulicy może być czterdzieści dwa stary murzyn wirtuoz na gitarze bluesa grał tak namiętnie jak tylko czarny umie bluesa grać całe serce w to włożył żeby innym ludziom dać taki broadway ten broadway z kolorowych pięknych kart taki broadway ten broadway którym się zachwyca świat czasem ktoś się zatrzymał i na życie quartra dał czasem słyszał jak mówią że ten czarny dobrze gra wtedy ruszał do baru bo już nie mógł tego znieść że nie czują przechodnie jaka w bluesach drzemie treść taki broadway ten broadway z kolorowych pięknych kart taki broadway ten broadway którym się zachwyca świat aż któregoś popołudnia kiedy grał za marny grosz stanął przy nim z gitarą niepozorny biały gość i choć na tej gitarze prawie jak amator grał to wyśpiewał genialnie to co czarny w sercu miał taki broadway ten broadway z kolorowych pięknych kart taki broadway ten broadway którym się zachwyca świat a gdy skończył się koncert stary murzyn go zaprosił na kolejne popołudnie i te bluesy na dwa głosy potem spytał go jeszcze skąd znasz me niedole i usłyszał odpowiedź bracie im from poland taki broadway ten broadway z kolorowych pięknych kart taki broadway ten broadway którym się zachwyca świat ',\n",
       " 'już rozpaliło się ognisko dając nam dobrej wróżby znak siedliśmy wszyscy przy nim blisko bo w całej polsce siedzą tak siedzą harcerki przy płomieniach ciepły blask ognia skupia je wszystko co złe to szuka cienia do światła dobro garnie się mówiłaś druhno komendantko że zaufanie do nas masz że wierzysz w nasze dobre chęci że ty harcerskie serca znasz warunki tylko warunkami od dawna wszak słyszymy to lecz my jesteśmy harcerkami i zwyciężymy wszelkie zło ',\n",
       " 'ci wszyscy ludzie którzy poszli precz z naszego życia z naszego życia to także nasza rzecz nie tylko ich to rzecz to stawka winy nie do przebicia to także nasza rzecz nie tylko ich to rzecz to stawka winy nie do przebicia ci wszyscy ludzie których kazał minąć nasz pośpiech nagły nasz pośpiech nagły nieodwracalnie z pamięci naszej giną i całych światów kształt odchodzi w diabły nieodwracalnie z pamięci naszej giną i całych światów kształt odchodzi w diabły ci wszyscy ludzie których nie ma już nas dla nich nie ma też nas dla nich nie ma wiedzą że nawet nie wiemy gdzie ich grób że oni dla nas to tylko rozmów temat wiedzą że nawet nie wiemy gdzie ich grób że oni dla nas to tylko rozmów temat ci wszyscy ludzie którzy wokół nas zawsze nie tacy zawsze nie tacy niegodni rozmów i niegodni łask są żyją błądzą więc nie mają racji niegodni rozmów i niegodni łask są żyją błądzą więc nie mają racji ci wszyscy ludzie czyli wszyscy my my pominięci my pochowani żyjemy jak pozwalaliśmy żyć niepamiętanym niewysłuchanym żyjemy jak pozwalaliśmy żyć niepamiętanym niewysłuchanym ',\n",
       " 'letnich wieczorów wspomnienie wraca jak bumerang wygasłych ognisk płomienie tlą się jeszcze we snach na twarzy ślad opalenizny po każdym myciu bledszy zaczynamy się wstydzić golizny zaczynamy ubierać się cieplej odwijamy wspomnienia ze szpulek wyświetlamy na ścianie kolory przekładamy z plecaków do biurek długie wieczory cieplej ubrani w swetry w grube skarpety wełniane niespokojnie w kaloryfer wpatrzeni a nuż grzać nie będzie wcale na pociechę sięgamy do pudeł wyciągamy stare fotografie zapatrzeni w nie cicho myślimy o lecie które będzie jakie odwijamy wspomnienia ze szpulek wyświetlamy na ścianie kolory przekładamy z plecaków do biurek długie wieczory za oknem pierwsze płatki śniegu choć to jeszcze nie zima mieszkanie zimne jak biegun a my ciągle myślimy co czeka nas w przyszłym roku jakie nam dane przygody widzimy sznur ptaków na niebie jesień znów straszy niepogodą odwijamy wspomnienia ze szpulek wyświetlamy na ścianie kolory przekładamy z plecaków do biurek długie wieczory ',\n",
       " 'ilu ludzi nasz świat uniesie aby wciąż jeszcze mógł się kręcić ilu trzeba dzisiaj poetów by choć wiersz pozostał w pamięci jak nazwać co jeszcze nie nazwane i co jeszcze może czekać na człowieka jaką tajemnicę dźwiga każdy kamień że nie wie o niej nawet rzeka tamdamdaradaj czy poto tutaj tylko jesteśmy by przed nocą bardziej się zmęczyć czy liść z twego wielkiego drzewa jest zaledwie kaprysem gałęzi zostawiłeś nam ślady swych stóp na nieba niebieskiej korze tak mało ich i tak bardzo wiele bo przecież ty wszystko możesz tamdamdaradaj jaką cenę trzeba zapłacić za to ziemske ciche przebywanie jakie skrzypce trzeba usłyszeć aby wiedzieć co jeszcze jest grane ile śliwek rozebrać do pestki aby poznać ten śliwkowy błękit ile spotkać kamieni nad rzeką by się znudzić jeszcze poetą tamdamdaradaj z której strony czekać na sen i gdzie sny chować na dzień ile musi dojrzeć poziomek aby lato miało swój koniec jak opisać porannego wróbla który w szare piórka się ubrał jak podejść koło po kamieniu w wodzie jak z tym dziwnym światem być w zgodzie tamdamdaradaj ',\n",
       " 'galia est omnis divisa in partes tres quorum unam incolunt belgae aliam aquitani tertiam qui ipsorum lingua celtae nostra gali apelantur o ave caesar morituri te salutant nad europą twardy krok legionów grzmi nieunikniony wróży koniec republiki gniją wzgórza galijskie w pomieszanej krwi a juliusz cezar pisze swoje pamiętniki galia est omnis divisa in partes tres quorum unam incolunt belgae aliam aquitani tertiam qui ipsorum lingua celtae nostra gali apelantur o ave caesar morituri te salutant pozwól cezarze gdy zdobędziemy cały świat gwałcić rabować sycić wszelkie pożądania proste prośby żołnierzy te same są od lat a juliusz cezar milcząc zabaw nie zabrania galia est omnis divisa in partes tres quorum unam incolunt belgae aliam aquitani tertiam qui ipsorum lingua celtae nostra gali apelantur o ave caesar morituri te salutant cywilizuje podbite narody nowy ład rosną krzyże przy drogach od renu do nilu skargą krzykiem i płaczem rozbrzmiewa cały świat a juliusz cezar ćwiczy lapidarność stylu galia est omnis divisa in partes tres quorum unam incolunt belgae aliam aquitani tertiam qui ipsorum lingua celtae nostra gali apelantur o ave caesar morituri te salutant ',\n",
       " ' ciemną nocą po schodach uliczek po gorących mostu kamieniach pełen piwa łeb niosę w chmurach i gitarę i pustkę w kieszeniach żegnam się z miastem które stało się moje jego wieże jego drogi kroki moje żegnam się z miastem jego mostem gdzie wieczorem spadały gwiazdy monet za muzykę nazbierałem po całym mieście sprawy ważne i te nic nie warte ot w podeszwach dziury na wylot bicie dzwonów bramy otwarte gwiazdy w rzece tu się zaczyna i tu kończy opowieść moja chciałbym dzisiaj jak wtedy wieczorem siedzieć z tobą na moście karola ',\n",
       " 'powiedz jak można tak długo wytrzymać gdy zima i mrozy i mrozy i zima a ty znowu jesteś za wodą za rzeką i nie wiem znów nie wiem jak bardzo daleko stoję na brzegu a przepaść jest blisko i tłum się gromadzi jak na widowisko dlaczego tak nagle się wszyscy zjawili i po co też mają kamienie u szyi bo kto mnie pożegna gdy tylu nas jest płacz moja wodo rzeko łez stoi kolejka szeregiem dalekim i każdy z kamieniem i każdy do rzeki i nikt tu nie płacze nie krzyczy nie woła bo łzy się skończyły już wczoraj z wieczora a z tyłu ktoś ludzi bezprzerwy pociesza że spotkał na drodze nowego mojżesza że pewnie podąża już do nas w tę strony i przyszedł i stanął i też był znużony więc mu nie wierzył choć tylu nas jest płacz moja wodo rzeko łez wtedy na brzegu pojawił się diabeł do ciebie nad wodą zbudował przeprawę tłumacząc się skromnie przed smutnym że w tej sytuacji nie będzie judaszem i każdy z nas ruszył przez most ten nad rzeką lecz ciebie nie było a świat za daleko więc diabeł raz jeszcze w niedoli dopomógł i każdy powrócił z kamieniem do domu lecz nikt nas nie witał choć tylu nas jest płacz moja wodo rzeko łez ',\n",
       " 'nikt nie grał na gitarze tak jak on często przy ogniu pośród nas patrząc w gwiaździsty nieba skłon siadał śpiewając aż po brzask piosenek swoich szukał w szumie traw wsłuchiwał się w potoków śpiew w dźwięki zasypiających miast i wiatru szept w koronach drzew graj graj jeszcze graj wołaliśmy gdy zbliżał się świt graj graj jeszcze graj tych nocy nie zapomni nikt nie dbał o wygląd ni o szmal daleki był mu wszelki szpan wciąż zapatrzony w siną dal włóczył się z pudłem tu i tam minęło ładnych parę lat odkąd już nie widziałem go podobno zginął po nim szlak gdy odszedł razem z ranną mgłą graj graj jeszcze graj wołaliśmy gdy zbliżał się świt graj graj jeszcze graj tych nocy nie zapomni nikt ',\n",
       " 'powiedz dokąd znów wędrujesz czy daleko jest twój sad hen w krainy buczynowe ze mną tam układa pieśni wiatr hen w krainy buczynowe ze mną tam nikogo tylko wiatr zmierzchy grają a przestrzenie własny im podają dźwięk takie śpiewy z nimi lub milczenie w którym znika każdy dawny lęk w takich śpiewach i milczeniu w szumie świętych buków zginął lęk zaszumiały cię powietrza i ruszyłeś sam na szlak ten ostatni ten najlepszy przyszedł czas pan dał ci znak ten ostatni ten najlepszy przyszedł czas pan dał ci znak ',\n",
       " 'z gitarą i z piórem kwietniowym wieczorem jedziemy z wojtkiem razem do włodawy stary bieszczadnik majster bieda wciąż wierny górom jak zwykle jest z nami i mówisz wszystko się uda o to nie ma żadnej obawy przecież jedziemy dziś na dwa dni do włodawy w przedziale po oczach mdli mleczna żarówka mała gwiazda betlejemska i pociąg lubelski noc długą przecina buntując się na ostrych zakrętach i mówisz wszystko będzie dobrze opowiemy im nasze sprawy przecież po to jedziemy na dwa dni do włodawy z plecaka chleb wyjęty garść soli kawałek sprytem zdobytej kiełbasy chcemy noc przeskoczyć ciemną i niepewną z biletem kupionym w nieznane lecz mówisz znów musi się udać choć tyle podróży za nami przecież jedziemy dziś na dwa dni do włodawy dzisiaj się buntuje czesiek król nad króle piekarz rodem z buska wchodzi w układ stawia pasjans z bułek i gorzej się czuje a w drewnie cierpliwym został ślad a ty na przekór wszystkim mówisz że się uda nie ma obawy przecież jedziemy dziś na dwa dni do włodawy i są wciąż pytania i są wciąż rozmowy ważne choć tylko przedziałowe i jak z każdej wspólnej nam posiady wygląda w przeszłość zatroskany człowiek wyciągasz wiersz ciepły jeszcze wczoraj bodajże napisany i czytasz głośno go w przedziale w naszej podróży do włodawy ',\n",
       " 'zabierz mnie na stację daj mi bilet w garść czas na medytację nadszedł bo nie mam już żadnych szans miałem kiedyś wszystko mogłem krzyczeć mam dziś jak bańka sen mój prysnął i jestem sam całkiem sam miałem stu przyjaciół i otwarte wszędzie drzwi dzisiaj nie wiem czy majaczę czy życie moje mi się śni miałem kiedyś ciebie miasta zgiełk i blask dziś na moim niebie nie ma nie nie ma nawet gwiazd zabierz mnie na stację daj mi bilet w garść czas na medytację nadszedł bo jestem sam i nie mam żadnych szans ',\n",
       " 'gdy pokłócisz się z dziewczyną nie życzę ci lecz różnie jest nie chciej zaraz marnie ginąć zaufaj mi przekonasz się wskocz w pudło gitary i tam rozłóż się obozem skocz w pudło gitary ratunkowym ona kołem przeczekaj nachalną nawałnicę wyjdź potem ze słońcem na ulicę wyjdź potem ze słońcem na ulicę gdy ci będzie jakoś nie tak nie życzę ci lecz różnie jest gdy ta słynna smuga cienia przypęta się przerazi cię wskocz w pudło gitary i tam rozłóż się obozem skocz w pudło gitary ratunkowym ona kołem przeczekaj nachalną nawałnicę wyjdź potem ze słońcem na ulicę wyjdź potem ze słońcem na ulicę aż cię znowu noc dopadnie nie życzę ci lecz różnie jest ciemny bóg się tobą zajmie lecz wtedy ty wywijasz się wskocz w pudło gitary i tam rozłóż się obozem skocz w pudło gitary ratunkowym ona kołem przeczekaj nachalną nawałnicę wyjdź potem ze słońcem na ulicę wyjdź potem ze słońcem na ulicę i pomóż słońcu i pomóż słońcu pomóż słońcu lśnić i pomóż słońcu i pomóż słońcu pomóż słońcu lśnić ',\n",
       " 'kochać jak to łatwo powiedzieć kochać to nie pytać o nic bo miłość jest niepokojem nie zna dnia który da się powtórzyć nagle świat się mieści w twoich oczach już nie wiem czy ciebie znam chwile kolorowe przeźrocza więdną szybko zmienia je czas kochać jak to łatwo powiedzieć kochać tylko to więcej nic w tym słowie jest kolor nieba ale także rdzawy pył gorzkich dni jeszcze obok ciebie moje ramię a jednak szukamy się może nie pójdziemy już razem słowa z wolna tracą swój sens kochać jak to łatwo powiedzieć kochać to nie pytać o nic bo miłość jest niewiadomą lecz chcę wiedzieć czy wiary starczy mi ',\n",
       " 'nigdy w życiu mym nie umiałem zdjąć czapki przed nikim a teraz na twarz na kolana ryms przed jej bucikiem byłem wściekłym psem ona uczy mnie jak jeść z jej rączki miałem wilcze kły zamieniłem je na mleczne ząbki jestem mały miś własność lali tej co palec ssie kiedy zasypia jestem mały miś własność lali tej co mamy chce gdy jej dotykam byłem twardy drań ona sprawia że jak z makiem kluska smaczny słodki ciepluteńki wciąż wpadam w jej usta mleczne ząbki ma kiedy śmieje się i kiedy śpiewa lecz ma wilcze kły gdy jest na mnie zła i gdy się gniewa jestem mały miś własność lali tej co palec ssie kiedy zasypia jestem mały miś własność lali tej co mamy chce gdy jej dotykam siedzę w kącie mym i cichutko łkam pod jej pantoflem kiedy wścieka się choć powodów brak bo jest zazdrosna pewiem śliczny kwiat wydał mi się raz ładniejszy od niej pewien śliczny kwiat zginąć musiał więc pod jej pantoflem jestem mały miś własność lali tej co palec ssie kiedy zasypia jestem mały miś własność lali tej co mamy chce gdy jej dotykam wszyscy mędrcy wciąż wykrzykują mi że w jej ramionach gdy skrzyżują się i oplotą mnie niechybnie skonam może będzie tak może będzie siak ale dość krzyków jeśli zginąć mam jeśli wisieć mam to na jej krzyżu jestem mały miś własność lali tej co palec ssie kiedy zasypia jestem mały miś własność lali tej co mamy chce gdy jej dotykam ',\n",
       " 'chorałem dzwonków dzień rozkwita jeszcze od rosy rzęsy mokre we mgle turkoce pierwsza bryka słońce wyrusza na włóczęgę drogą pylistą drogą polną jak kolorowa panny krajka słońce się wznosi nad stodołą będzie tańczyć walca a ja mam swoją gitarę spodnie wytarte i buty stare wiatry niosą mnie daleko a ja mam swoją gitarę spodnie wytarte i buty stare wiatry niosą mnie schrypnięte skrzypki stroją świerszcze żuraw się wsparł o cembrowinę wiele nanosi wody jeszcze wielu się ludzi z niej napije helios dojechał na południe od potu ludzkie karki mokre w kurzu terkoce druga bryka słońce w zenicie nad stodołą drogą pylistą drogą polną jak kolorowa panny krajka słońce w zenicie nad stodołą dalej tańczy walca a ja mam swoją gitarę spodnie wytarte i buty stare wiatry niosą mnie daleko a ja mam swoją gitarę spodnie wytarte i buty stare wiatry niosą mnie zapachem siana gra muzyka wieczorną rosą zioła mokre drogą przemknęła trzecia bryka purpurą płoną strzechy złote drogą pylistą drogą polną jak kolorowa panny krajka słońce zachodzi za stodołę kończy tańczyć walca a ja mam swoją gitarę spodnie wytarte i buty stare wiatry niosą mnie daleko a ja mam swoją gitarę spodnie wytarte i buty stare wiatry niosą mnie poszumem mgły się dzień zamyka ostatni świerszcz już schował skrzypce w ciszy terkoce czwarta bryka słońce już zaszło za stodołę drogą pylistą drogą polną jak kolorowa panny krajka słońce już zaszło za stodołą zakończyło walca a ja mam swoją gitarę spodnie wytarte i buty stare wiatry niosą mnie daleko a ja mam swoją gitarę spodnie wytarte i buty stare wiatry niosą mnie ',\n",
       " 'która to znów piosenka dla której joanny za oknem pierwszy tramwaj oddzwonił nowy dzień która to noc bezsenna która kartka biała na wątłym płatku niesie jak ołów ciężką treść za oknem wielkiego miasta szum i uciec by się chciało w ramionach twoich jak w górach bezpiecznie schronić się za oknem wielkiego miasta chłód i tylko twoje ciało w półmroku obiecuje spokojny ciepły sen która to znowu wojna za jaką znów sprawę co nic nam nie przyniesie prócz paru smutnych dat która to noc bezsenna prześcieradło blade całując twoje włosy powoli zmieniam świat za oknem wielkiego miasta szum i uciec by się chciało w ramionach twoich jak w górach bezpiecznie schronić się za oknem wielkiego miasta chłód i tylko twoje ciało w półmroku obiecuje spokojny ciepły sen ',\n",
       " ' oliwnej lampy płomyk się wypalił w rodzynki się zmarszczyły winogrona wbrew sobie syty baśni usnął kalif za włos go szarpie małpka oswojona śnij nieszczęsny śnij szczęściarzu o swej wierze i zwątpieniu śnij o łasce śnij o karze o oazie i pragnieniu o pustyni i wielbłądzie o bogactwie i o nędzy kołowrotek śnij i kądziel ład dywanu chaos przędzy wyśnij skrzydlatego konia wyśnij osła pod kieratem labiryntu sieć na dłoniach każdą zdobycz i utratę śnij korzenie śnij owoce śnij pałace śnij ruiny dni milczące gwarne noce góry mrok i blask kotliny we śnie nie śpiesz się masz czas snom daj płynąć a nie płonąć śnij jak śni się tylko raz swą maleńką nieskończoność i tak minęła noc tysięczna pierwsza odpłynął śpiewny głos szeherezady nie słychać w palenisku śmiechu świerszcza trup muchy pływa w szklance lemoniady śnij nieszczęsny śnij szczęściarzu o swej wierze i zwątpieniu śnij o łasce śnij o karze o oazie i pragnieniu o pustyni i wielbłądzie o bogactwie i o nędzy kołowrotek śnij i kądziel ład dywanu chaos przędzy wyśnij skrzydlatego konia wyśnij osła pod kieratem labiryntu sieć na dłoniach każdą zdobycz i utratę śnij korzenie śnij owoce śnij pałace śnij ruiny dni milczące gwarne noce góry mrok i blask kotliny we śnie nie śpiesz się masz czas snom daj płynąć a nie płonąć śnij jak śni się tylko raz swą maleńką nieskończoność ',\n",
       " 'ulepiłem sobie domek z niewidzialnej plasteliny dwa okienka dwa kominy z niewidzialnej plasteliny a w okienku kwiatki bratki z niewidzialnej plasteliny a dla taty krawat w kratkę z niewidzialnej plasteliny la ulepiłem sobie pieska mięciutkiego z czarnym pyszczkiem lalę kasie i tereskę i pistolet i siostrzyczkę namęczyłem się ogromnie stłukłem łokieć zbiłem szklanke mamo tato chodźcie do mnie mam tu dla was niespodziankę la czemu na mnie tak patrzycie i zdziwione macie miny czyście nigdy nie widzieli niewidzialnej plasteliny la ',\n",
       " 'zamienie każdy oddech w niespokony wiatr by zabrał mnie z powrotem tam gdzie masz swój świat poskładam wszystkie szepty w jeden ciepły krzyk żeby znalazł cię aż tam gdzie pochowałaś sny już teraz wiem że dni są tylko po to by do ciebie wracać każdą nocą złotą nie znam słów co mają jakiś większy sens jeśli tylko jedno jedno tylko wiem być zawsze tam gdzie ty nie pytaj mnie o jutro to za tysiąc lat płyniemy białą łódką w niezbadany czas poskładam nasze szepty w jeden ciepły krzyk by już nie uciekły nam by wysuszyły łzy już teraz wiem że dni są tylko po to by do ciebie wracać każdą nocą złotą nie znam słów co mają jakiś większy sens jeśli tylko jedno jedno tylko wiem być zawsze tam gdzie ty budzić się i chodzić spać we własnym niebie być zawsze tam gdzie ty żegnać się co świt i wracać znów do ciebie być zawsze tam gdzie ty budzić się i chodzić spać we własnym niebie być zawsze tam gdzie ty zawsze tam gdzie ty ',\n",
       " ' coś srebrnego dzieje się w chmur dali wicher do drzwi puka jakby przyniósł list myśmy długo na siebie czekali jaki ruch w niebiosach słyszysz burzy świst ty masz duszę gwiezdną i rozrzutną czy rozumiesz pośpiech pomieszanych tchnień szczęście przyszło czemóż nam tak smutno że przed jego blaskiem uchodzimy w cień czemóż ono w mroku szuka treści i rozgrzesza nicość i zatraca kres jego bezmiar wszystko w sobie zmieści oprócz twego lęku oprócz twoich łez ',\n",
       " 'wyszli bracia wiatr we włosach co za czas w oczach gwiazdy i drzewa na spodzie pochyleni zanurzeni po pas brodzą w nocy czerwcowej jak w wodzie zatrzaśnięte na krzyż okiennice nieskoszony jescze zapach łąk i już płoną pozrywane księżyce w białych lampach zamkniętych rąk a z miłością się nie jest czy jest powiedz pierwszy z kochania słyniesz jeśli nie ma to i tak szkoda łez jeśli jest to i tak kiedyś minie wędrowali tak pewnego dnia wędrowali tak w głębokie sny pierwszym bratem chyba byłem ja drugim bratem pewnie byłeś ty czy to życie jest czy tylko sen pomyśl pierwszy potem ja pomyślę i dziwili się to tamten to ten las się chwieje jakby stał na wiśle mamy umrzeć czy żyć dalej może wiesz rozważ pierwszy potem ja rozważę a już spadał powoli jak zmierzch odgłos dzwonów bijących na twarze a z miłością się nie jest czy jest powiedz pierwszy z kochania słyniesz jeśli nie ma to i tak szkoda łez jeśli jest to i tak kiedyś minie wędrowali tak pewnego dnia wędrowali tak w głębokie sny pierwszym bratem chyba byłem ja drugim bratem pewnie byłeś ty ',\n",
       " 'hej tam gdzieś znad czarnej wody siada na koń kozak młody czule żegna się z dziewczyną jeszcze czulej z ukrainą a g hej hej hej sokoły omijajcie góry lasy pola doły dzwoń dzwoń dzwoń dzwoneczku mój stepowy skowroneczku mój stepowy dzwoń dzwoń dzwoń ładnych dziewcząt jest nie mało lecz najwięcej w ukrainie tam me serce pozostało przy kochanej mej dziewczynie hej hej hej sokoły omijajcie góry lasy pola doły dzwoń dzwoń dzwoń dzwoneczku mój stepowy skowroneczku mój stepowy dzwoń dzwoń dzwoń ona jedna tam została jaskółeczka moja miła mała a ja jeden w obcej stronie dniem i nocą tęsknię do niej hej hej hej sokoły omijajcie góry lasy pola doły dzwoń dzwoń dzwoń dzwoneczku mój stepowy skowroneczku mój stepowy dzwoń dzwoń dzwoń żal żal za dziewczyną za kochaną ukrainą żal żal serce płacze już cię więcej nie zobaczę hej hej hej sokoły omijajcie góry lasy pola doły dzwoń dzwoń dzwoń dzwoneczku mój stepowy skowroneczku mój stepowy dzwoń dzwoń dzwoń wina wina wina dajcie a jak umrę pochowajcie na zielonej ukrainie przy kochanej mej dziewczynie hej hej hej sokoły omijajcie góry lasy pola doły dzwoń dzwoń dzwoń dzwoneczku mój stepowy skowroneczku mój stepowy dzwoń dzwoń dzwoń ',\n",
       " 'spójrz przez okno wiosna śniegi rozgania coraz dłuższe dnie wiatr cieplejszy na mnie czas przyszła pora rozstania worek gotów do drogi w kącie leży nie idź jeszcze jeszcze czas jeszcze zdążysz jeszcze wiosna zbyt krótka by jej wierzyć jeszcze śnieg dość głęboki jeszcze błoto na drogach jeszcze mróz wieczorami się jeży daj mi jeszcze kilka dni proszę o to pozwól się jeszcze sobą nacieszyć ty wyruszysz gnany swoją tęsknotą ja zostanę samotna jak księżyc już jaskółki gniazdo w oknie budują słyszysz bocian na łące klekocze dzikie gęsi po obłokach wędrują spałaś już pierwsza burza była w nocy popatrz wiatr ciemne chmury nawiewa dzisiaj nie idź posiedź ze mną jeszcze tyle miałam ci do powiedzenia widzisz pada nie zdążysz przed deszczem daj mi jeszcze kilka dni proszę o to pozwól się jeszcze sobą nacieszyć ty wyruszysz gnany swoją tęsknotą ja zostanę samotna jak księżyc muszę iść woła mnie chmurna przestrzeń w przyszłym roku mogę nie dać już rady przecież wrócę tu z ostatnim deszczem przecież wrócę do ciebie jak zawsze wiem że wrócisz ale zrozum obawę przecież ciebie nie będzie pół roku tyle czasu nie widzieć twej twarzy idź już może ten deszcz przejdzie bokiem ',\n",
       " ' dym z jałowca łzy wyciska noc się coraz wyżej wznosi strumień srebrną falą błyska czyjś głos w leśnej ciszy prosi ciszy prosi ciszy prosi żeby była taka noc kiedy myśli mkną do boga żeby były takie dni że się przy nim ciągle jest żeby był przy tobie ktoś kogo nie zniechęci droga abyś plecak swoich win stromą ścieżką umiał nieść usiądź z nami przy ognisku płomień twarz ci zarumieni usiądziemy przy nim blisko jedną myślą połączeni połączeni połączeni żeby była taka noc kiedy myśli mkną do boga żeby były takie dni że się przy nim ciągle jest żeby był przy tobie ktoś kogo nie zniechęci droga abyś plecak swoich win stromą ścieżką umiał nieść tuż za szczytem się zatrzymaj spójrz jak gwiazdy w dół spadają spójrz jak drży kosodrzewina góry z tobą wraz wołają wraz wołają wraz wołają żeby była taka noc kiedy myśli mkną do boga żeby były takie dni że się przy nim ciągle jest żeby był przy tobie ktoś kogo nie zniechęci droga abyś plecak swoich win stromą ścieżką umiał nieść ',\n",
       " 'przeczeka jeszcze jedną zimę żeby znów móc się spotkać przyjacielu opowiedzieć coś dobrego i zapomnieć o tych złych chwilach przeczekamy a gdy wiosną wyschną drogi dogonimy tych co przeszli obok przeczekamy jeszcze jedno lato wciąż nie wierząc że na karku mamy jesień a dziewczynom co odeszły odeślemy list z deszczu przeczekamy żeby życia zbyt nie trudzić a epilog dopiszemy garścią złudzeń przeczekamy ciszę między nami płoche słowa i rozmowy nieskończone chleba nigdy nam nie zabrakło popatrz znowu kwitnie jabłoń przyjacielu gwiazda spadła ',\n",
       " 'żył raz kiedyś król o wzroku jak nikt na świecie lecz było to powodem że kłopot wielki miał gdy rano przetarł oczy przez okno z zamku wyjżał gdzieś na krańcach świata widział łańcuch wielkich gór źle to kiedy coś przeciw królewskiej woli staje i powstrzymuje bieg jego spojrzenia posłał więc król po dwóch swoich synów a gdy stanęli przed nim do starszeg rzekł gdzieś na krańcach świata są wysokie góry idź tam i powiedz mi co za nimi jest spełnił wolę ojca pierwszy jego syn szedł długo na kamieniach raniąc swoje stopy wspinał się wytrwale a gdy na szczycie był mógł zobaczyć ogromne spienione fale morza gdy wrócił znów do domu w ramiona ojca wpadł mów szybko co jest dalej chcę to wiedzieć teraz a gdy zdyszany syn powiedział co jest za górami do drugiego z nich rzecze ojciec tak tam gdzie kończy się świat jest ogromne morze płyń tam i powiedz mi co też za nim jest choć drogę miał trudniejszą ojca prośbę spełnił przemykał się swym statkiem przez cisze i sztormy aż nadzszedł wreszcie dzień i marynarz z masztu krzyknął kapitanie ląd przed nami widzę łańcuch wielkich gór więc wyprawił swoje sługi by niosły wieść do króla a kiedy sam się zjawił jak wryty stanął w drzwiach król prawie cały był zżarty przez ciekawość usta tylko drgały mówiąc rozkaz ten gdzieś na krańcach świata są wysokie góry idź tam i powiedz mi co za nimi jest ',\n",
       " 'wszystko co nasze polsce oddamy w niej tylko życie więc idziem żyć świty się bielą otwórzmy bramy rozkaz wydany wstań w słońce idź ramię pręż słabość krusz ducha tęż ojczyźnie miłej służ na jej zew w bój czy w trud pójdzie rad harcerzy polskich ród harcerzy polskich ród ',\n",
       " 'idzie sobie królik słychać kroki bolka bolo idzie z nożem będzie rozpierdolka już przyleciał bolek i w króliku dłubie królik już nie żyje bolo ma to w dupie aa już jest bolo aa nożem tnie aa flaki trysną aa fajnie co słońce raźniej świeci swąd się w polu snuje bolo dalej pruje królik już się psuje spróbował go bolo już zielony wszędzie uwaga uwaga bolo bekać będzie aa już jest bolo aa nożem tnie aa flaki trysną aa fajnie co mnoża się króliki patroszyć je można sytuacja niezła tylko trochę gorzej z rytmem króliki na polu już się cieszy bolek bo dla niego mięso dla nas zaś rosołek aa już jest bolo aa nożem tnie aa flaki trysną aa fajnie co patroszyć króliki w myśl ludowych przysłów to jeden z największych ludzkich idiotyzmów skończył się już królik flaków nie ma prawie bolo niedomyty zaczął dłubać w trawie aa już jest bolo aa nożem tnie aa flaki trysną aa fajnie co ',\n",
       " 'pójdźmy wszyscy do stajenki do jezusa i panienki powitajmy maleńkiego i maryję matkę jego witaj jezu ukochany od patriarchów czekany od proroków ogłoszony od narodów upragniony witaj dzieciąteczko w żłobie wyznajemy boga w tobie coś się narodził tej nocy byś nas wyrwał z czarta mocy ',\n",
       " 'stoimy pod murem zdjęto to nam młodość jak koszulę skazańcom czekamy zanim tłusta kula usiądzie na karku mija lat mur jest wysoki i mocny za murem jest drzewo i gwiazda drzewo podważa mur korzeniami gwiazda nagryza kamień jak mysz za lat będzie już małe okienko będzie już małe okienko już małe okienko małe okienko ',\n",
       " 'czwarta nad ranem może sen przyjdzie może mnie odwiedzisz czwarta nad ranem może sen przyjdzie może mnie odwiedzisz czemu cię nie ma na odległość ręki czemu mówimy do siebie listami gdy ci to śpiewam u mnie pełnia lata gdy to usłyszysz będzie środek zimy czemu się budzę o czwartej nad ranem i włosy twoje próbuję ugłaskać lecz nigdzie nie ma twoich włosów jest tylko blada nocna lampka łysa śpiewaczka śpiewamy bluesa bo czwarta nad ranem tak cicho żeby nie zbudzić sąsiadów czajnik z gwizdkiem świruje na gazie myślałby kto że rodem z manhattanu czwarta nad ranem może sen przyjdzie może mnie odwiedzisz czwarta nad ranem może sen przyjdzie może mnie odwiedzisz herbata czarna myśli rozjaśnia a list twój sam się czyta że można go śpiewać za oknem mruczą bluesa topole z krupniczej i jeszcze strażak wszedł na solo ten z mariackiej wieży jego trąbka jak księżyc biegnie nad topolą nigdzie się jej nie spieszy już piąta może sen przyjdzie może mnie odwiedzisz już piąta może sen przyjdzie może mnie odwiedzisz ',\n",
       " 'kiedy szliśmy przez pacyfik way hej roluj go zwiało nam z pokładu skrzynki pełne śledzia i sardynki kosze krabów beczkę sera kalesony oficera sieć jeżowców jedną żabę kapitańską zmyło babę beczki rumu nam nie zwiało pół załogi ją trzymało taki był cholerny sztorm hej znowu zmyło coś zniknął w morzu jakiś gość hej policz który tam jaki znowu zmyło kram hej znowu zmyło coś zniknął w morzu jakiś gość postawcie wina dzban opowiemy dalej wam ',\n",
       " 'zaciągnijcie na oknie niebieską zasłonę siostro leki stąd weź niepotrzebne mi są wiara nadzieja miłość poznaję to one moje trzy wierzycielki odwiedzić mnie chcą krótki pobyt na ziemi opłacić przystoi ale pustą sakiewkę dziś mam jak na złość nie zamartwiaj się nie smuć o wiaro ty moja pewnie jeszcze dłużników zostalo ci dość resztką sił się obrócę do drugiej z kolei by w ramionach jej ukryć skruszoną swą twarz nie zamartwiaj się nie smuć o matko nadziejo nie jednego wszak syna na ziemi tu masz a gdy usta przycisnę do dłoni tej trzeciej słyszę jaką czułością głos cichy jej drga nie zamartwiaj się nie smuć ja sama się przecież zamiast ciebie musiałam roztrwonić do cna czyjekolwiek cię w życiu ramiona tuliły jakikolwiek nieziemski ogarnąłby żar dług twój ludzkie oszczerstwa w trójnasób spłaciły więc oczyszczam cię z win i uwalniam od kar leżę czysty jak łza w pierwszym świtu przypływie biała flaga pościeli powita mdły brzask trzy sędziny trzy matki trzy siostry cierpliwe otwierają mi kredyt ostatni już raz ',\n",
       " 'moje myśli proszę was siądźcie jak kruki koło mnie i z wierszami wraz zapytajcie co słychać u mnie ściany przyjaciółki mego domu jeżeli potraficie zapytajcie chociaż raz jak tam świat mój jak moje życie a u mnie wir a u mnie bal trwa stypa po miłości i od toastów huczy stół i ja jedyny z moich gości dziś nic dla ciebie moja pani nie pogrążysz mnie w żadnym grobie odnalazłem dłoń własną dłoń wyciągniętą ku sobie rano wyjdę już spokojny z uśmiechem przyklejonym do twarzy i rozdam krukom wesołe wiersze na sen na spełnienie marzeń a u mnie wir a u mnie bal trwa stypa po miłości i od toastów huczy stół i ja jedyny z moich gości ',\n",
       " 'jak dobrze nam zdobywać góry i młodą piersią chłonąć wiatr prężnymi stopy deptać chmury i palce ranić o szczyt tatr mieć w uszach szum strumieni śpiew a w żyłach roztętnioną krew hejże hej hejże ha żyjmy więc póki czas bo kto wie bo kto wie kiedy znowu ujrzę was jak dobrze nam głęboką nocą wędrować jasną wstęgą szos patrzeć jak gwiazdy niebo złocą i czekać co przyniesie los mieć w uszach szum strumieni śpiew a w żyłach roztętnioną krew hejże hej hejże ha żyjmy więc póki czas bo kto wie bo kto wie kiedy znowu ujrzę was jak dobrze nam po wielkich szczytach w doliny w progi wracać swe przyjaciół jasne twarze witać o młoda duszo raduj się mieć w uszach szum strumieni śpiew a w żyłach roztętnioną krew hejże hej hejże ha żyjmy więc póki czas bo kto wie bo kto wie kiedy znowu ujrzę was jak dobrze nam tak przy ognisku tęczową wstęgę marzeń snuć patrzeć jak w niebo iskra tryska i wokół siebie przyjaźń czuć mieć w oczach blask i ognia żar a w duszy mieć młodości czar hejże hej hejże ha żyjmy więc póki czas bo kto wie bo kto wie kiedy znowu ujrzę was ',\n",
       " 'raz do księdza bernardyna jedzie czarna limuzyna z niej wysiada ten chłopczyna i tak spowiedź swą zaczyna proszę księdza bernardyna całowałem się z dziewczyną o mój chłopcze to rozpusta całowałeś dziewcze w usta trochę niżej trochę niżej trochę niżej proszę księdza trochę niżej trochę niżej proszę księdza bernardyna o mój chłopcze nie przeżyję całowałeś dziewcze w szyję trochę niżej trochę niżej trochę niżej proszę księdza trochę niżej trochę niżej proszę księdza bernardyna o mój chłopcze to mnie mierzi całowałeś dziewcze w piersi trochę niżej trochę niżej trochę niżej proszę księdza trochę niżej trochę niżej proszę księdza bernardyna o mój chłopcze to występek całowałeś dziewcze w pępek trochę niżej trochę niżej trochę niżej proszę księdza trochę niżej trochę niżej proszę księdza bernardyna o mój chłopcze co za psoty całowałeś dziewcze w stopy trochę wyżej trochę wyżej trochę wyżej proszę księdza trochę wyżej trochę wyżej proszę księdza bernardyna o mój chłopcze co za zbytki całowałeś dziewcze w łydki trochę wyżej trochę wyżej trochę wyżej proszę księdza trochę wyżej trochę wyżej proszę księdza bernardyna o mój chłopcze czy to złuda całowałeś dziewcze w uda trochę wyżej trochę wyżej trochę wyżej proszę księdza trochę wyżej trochę wyżej proszę księdza bernardyna o mój chłopcze ja cię zduszę całowałeś dziewcze w pupę z drugiej strony z drugiej strony z drugiej strony proszę księdza z drugiej strony z drugiej strony proszę księdza bernardyna ',\n",
       " ' wyjedź ze mną dziś jeszcze przecież blisko jest dworzec wyjedź ze mną natychmiast tylko to nam pomoże w leluchowie miła czereśnie dziko krwawią tam granicy pilnuje całkiem wesoły anioł w leluchowie miła zaczyna się koniec świata tam anioł traci głowę z brzozami się brata wyjedź ze mną do lata przecież jeszcze nie koniec schowaj trochę uśmiechu na naszą wspólną drogę w leluchowie miła czereśnie dziko krwawią tam granicy pilnuje całkiem wesoły anioł w leluchowie miła zaczyna się koniec świata tam anioł traci głowę z brzozami się brata kiedy będziesz już ze mną to nikomu nie powiem że szczęśliwi byliśmy kiedyś w leluchowie w leluchowie miła czereśnie dziko krwawią tam granicy pilnuje całkiem wesoły anioł w leluchowie miła zaczyna się koniec świata tam anioł traci głowę z brzozami się brata ',\n",
       " 'idź człowieku idź rozpowiedz idźcie wszystkie stany kolorowi biali czarni idźcie zwłaszcza wy ludkowie przez na oścież bramy dla wszystkich starczy miejsca pod wielkim dachem nieba rozejdźcie się po drogach po łąkach po rozłogach po polach błoniach i wygonach w blasku słońca w cieniu chmur rozejdźcie się po niżu rozejdźcie się po wyżu rozejdźcie się po płaskowyżu w blasku słońca w cieniu chmur dla wszystkich starczy miejsca pod wielkim dachem nieba na ziemi której ja i ty nie zamienimy w bagno krwi ',\n",
       " 'byłem jak płyta przegrany złość zdrapywałem ze ścian gdy usłyszałem kochany spróbuj od dzisiaj być z sobą sam nie wiem jak to się stało bo jeszcze wczoraj nasz świat był jednym z tych których mało dziś jednym z tych których brak byłoby miło gdyby ta miłość nie znała gorzkich słow byłoby miło gdyby ta miłość umiała wrócić znów kładę się później niż wstaję zawsze gdzie indziej niż ty świat pełen jest takich bajek ktośbywa dobry ktoś zły byłoby miło gdyby ta miłość nie znała gorzkich słow byłoby miło gdyby ta miłość umiała wrócić znów wiem że już nic nas nie zmieni i znowu starczy mi sił by tak jak tamtej jesieni wstać trzasnąć drzwiami i wyjść ',\n",
       " 'gdy mnie kochać przestaniesz to powiedz powiedz kiedy mnie kochać przestaniesz to się człowiek wypłacze jak człowiek w białym łóżku nad ranem nie przysyłaj mi listów ostatnich nie owijaj w bawełnę słów paru lepiej siądźmy do ciepłej kolacji pod okapem wieczoru na talerzach świecy blask dymi waza pełna gwiazd a pod stołem kot się łasi coś stuknęło na tarasie może wiatr piętro wyżej ćwiczą liszta a zawiane towarzystwo gdzieś pod bramą wykrzykuje stróż im tego nie daruje stróż artysta posiedzimy tak sobie we dwoje pośród spraw których nigdy nie było potem w starym zacisznym pokoju znowu wyznasz mi miłość gdy mnie kochać przestaniesz bez racji powiedz o tym od razu kochany wtedy zjemy kolejną kolację na wieczoru dywanie na talerzach świecy blask dymi waza pełna gwiazd a pod stołem kot się łasi coś stuknęło na tarasie może wiatr piętro wyżej ćwiczą liszta a zawiane towarzystwo gdzieś pod bramą wykrzykuje stróż im tego nie daruje stróż artysta ',\n",
       " ' zawinięte w kłębek drogi liczą na twój czas zamieniony w wielkie słońce dzień powoli gasł chyba już czas wracać do domu w słońcu się chyli wierzbiny liść chyba już czas wracać do domu w ciszy powrotu tak iść i iść o zielonej mokrej ziemi głośniej śpiewa wiatr by najkrótszą drogę wybrać wróży z liści kart chyba już czas wracać do domu w słońcu się chyli wierzbiny liść chyba już czas wracać do domu w ciszy powrotu tak iść i iść światło dnia już pobłądziło w drzewach i na ścieżce nie okryty mrokiem został tylko wyraz jeszcze chyba już czas wracać do domu w słońcu się chyli wierzbiny liść chyba już czas wracać do domu w ciszy powrotu tak iść i iść ',\n",
       " 'dziś do ciebie przyjść nie mogę idę zaraz w nocny mrok nie wyglądaj za mną oknem we mgle tonie próżno wzrok po cóż ci kochanie wiedzieć że do lasu idę spać dłużej tu nie mogę siedzieć na mnie czeka leśna brać księżyc zaszedł hen za lasem we wsi gdzieś szczekają psy a nie pomyśl sobie czasem że do innej tęskno mi kiedy wrócę znów do ciebie może w dzień a może w noc dobrze będzie nam jak w niebie pocałunków dasz mi moc gdy nie wrócę niechaj wiosną rolę moją sieje brat kości moje mchem porosną i użyźnią ziemi szmat w pole wyjdź któregoś ranka na snop żyta ręce złóż i ucałuj jak kochanka ja żyć będę w kłosach zbóż ',\n",
       " 'zima znów się zaczyna tak samo wtedy padał śnieg zima dziś przypomina jak pierwszy raz spotkali się jak strumień płynął śpiew i jej niewinny śmiech a ich oczy po niebie szukając wciąż siebie błądziły jak gwiazdy we śnie zima już przyszła zima za szybą zimny wicher dmie zima znów mrozi klimat a w sercach ogień pali się jak strumień płynie śpiew i jej niewinny śmiech a ich oczy po niebie szukając wciąż siebie dziś błądzą jak gwiazdy we śnie zima już wiedzie prymat wokół niej wszystko kręci się zima ta sama zima wyłoni z chłodu chwile te jak strumień płynął śpiew i jej niewinny śmiech a ich oczy po niebie szukając wciąż siebie ',\n",
       " 'zaledwo wiem czy byłaś snem czy prawdą z krwi i ciała przez dróg mych szlak przeleciał ptak i dusza ma śpiewała słuchałem fal płynących w dal i czułem jak łzy w sobie padło mi iść przez zwiędły liść i szedłem jak po grobie kto szczęścia zna przyczynę kto zna miłości początek i kres zaledwo wiem czy było snem czy prawdą me kochanie czym szczęśliw był czy ptak się wzbił szczęśliwy w nieb otchłanie czy fali bieg omijał brzeg czym ja cię stracił zdradnie czy to liść zmarł czy serca żar ach któż to któż odgadnie kto szczęścia zna przyczynę kto zna miłości początek i kres ',\n",
       " 'w naszej wsi bezbronnego kotka znalazła w trawie raz margot a że sama była sierotką wzięła go był malutki jeszcze więc chciała jakąś poduszkę zdobyć mu a jedyną jaką znalazła był jej biust kotet wziął ją za swoją mamę i ssać zaczął dzielną margot ona zaś ze wzruszenia nagle straciła głos syn sołtysa właśnie przechodził ujrzał rzadki obrazek ten i poleciał z nowiną do wsi a na drugi dzień gdy margot stanik swój rozpinała by miał kotek biedactwo co ssać biegła nas biegła nas cała zgraja by po pa pa pa pa pa patrzeć by po pa pa pa pa pa pa a niewinna margot przypuszczała że do kotka co z jej piersi ssał biegła nas biegła nas cała zgraja by po pa pa pa pa pa patrzeć by po pa pa pa pa pa pa nauczyciel lekcje porzucił kowal podkowy pole kmieć i pognali prędko na skróty na tę wieść nasz listonosz taki uczciwy na tę wieść listy ciepną w mig których czytać i tak w tej chwili nie chciał nikt na tę wieść zaufawszy bogu że im odpuści grzeszną myśl ministranci w lot dali nogę w środku mszy nawet glinaiarz postrach ludności tak z natury tępy jak słup staną opodal oszołomiony sceną jak ze snu gdy margot stanik swój rozpinała by miał kotek biedactwo co ssać biegła nas biegła nas cała zgraja by po pa pa pa pa pa patrzeć by po pa pa pa pa pa pa a niewinna margot przypuszczała że do kotka co z jej piersi ssał biegła nas biegła nas cała zgraja by po pa pa pa pa pa patrzeć by po pa pa pa pa pa pa ale w pozostałych niewiastach wszak każdej zwiał i i mąż powolutku jęła narastać dzika złość wreszcie przyszedł we wsi dzień gniewu każda chwyciła tęgi kij i zatłukłu biedne maleństwo z żądzy krwi a margot po roku lamentów by się pocieszyć wzięła ślub i już tylko się mąż z jej wdzięków cieszyć mógł z czasem o tym pozapominano oprócz starców już mało kto mówi dzieciom dziś na dobranoc o dzielnej margot gdy margot stanik swój rozpinała by miał kotek biedactwo co ssać biegła nas biegła nas cała zgraja by po pa pa pa pa pa patrzeć by po pa pa pa pa pa pa a niewinna margot przypuszczała że do kotka co z jej piersi ssał biegła nas biegła nas cała zgraja by po pa pa pa pa pa patrzeć by po pa pa pa pa pa pa ',\n",
       " 'na moim podwórzu jest ściana łaciata na ścianie tej dzieci list piszą do świata ogromny zbiorowy list w tym liście są żale i skargi dziecięce pisane niedbale bazgrane naprędce gdy z okien nie patrzy nikt gdy z okien nie patrzy nikt gdyby te listy czytał świat to pewnie by się zmienił a mędrcy mądrzy że aż strach milczeli zawstydzeni na moim podwórzu jest ściana łaciata na ścianie tej dzieci list piszą do świata ogromny zbiorowy list a ja wam stokrotnie powiedzieć chcę dzięki bo wasze pisanie i moje piosenki to w mroku zapałki błysk to w mroku zapałki błysk gdyby piosenek słuchał świat to pewnie by się zmienił a mędrcy mądrzy że aż strach milczeli zawstydzeni ',\n",
       " 'są małe stacje wielkich kolei nieznane jak obce imiona małe stacje wielkich kolei jakiś napis i lampa zielona na takiej stacji dawno już temu z daleka jadąc z daleka widziałem dziewczynę w niebieskim szaliku jak piła gorące mleko teraz tamtędy już nigdy nie jeżdżę a miasto moje daleko lecz myślę czasem o tamtej dziewczynie jak piła gorące mleko i nieraz chciałbym aby tu była może to miałoby sens jak ona śmiesznie to mleko piła gapiąc się na mnie spod rzęs mam swoje sprawy inne podróże i nie tamtędy mi droga lubię ulice wesołe i długie i kolorowe światła na rogach może ma chłopca tamta dziewczyna a może wybrała się w świat albo po prostu może jest głupia jak jej siedemnaście lat z resztą to przecież nie ma znaczenia mieszkam naprawdę daleko lecz myślę czasem o tamtej dziewczynie jak piła gorące mleko i nieraz chciałbym aby tu była może to miałoby sens jak ona śmiesznie to mleko piła gapiąc się na mnie spod rzęs ',\n",
       " 'kiedy was nie ma to jakby nagle zabrakło w moim życiu muzyki kiedy was nie ma to czas mnie straszy że przeminę że będę chwilą kiedy was nie ma to jakby niebo miało się rozstać na zawsze ze słońcem kiedy was nie ma dość mam wszystkiego i pragnę z stąd na zawsze odejść moi przyjaciele moi przyjaciele moi przyjaciele bądźcie zawsze ze mną moi przyjaciele moi przyjaciele z wami wiem że wszystko mogę że wystarczy tylko chcieć jak mam wyśpiewać jak mam dziękować jak wytłumaczyć że bez was mnie nie ma przytulam do was swoją miłość i wdzięczność swą w modlitwę zamieniam milion aniołków narysuje i wszystkie razem postrącam z nieba dom na górze wybuduje i zagram dla was kiedy trzeba moi przyjaciele moi przyjaciele moi przyjaciele bądźcie zawsze ze mną moi przyjaciele moi przyjaciele z wami wiem że wszystko mogę że wystarczy tylko chcieć ',\n",
       " 'krwi krwi krwi krzyczał pan zagłoba na widok trupa pana podbipięty krwi zawrzasnęła zbarska załoga a litwin chwiał się do krzyża przybity święty sebastian strzałami przeszyty słodki niewinny cichy obojętny rycerz bez skazy co jak smok gruchotał czerń co jest czerń dzisiaj nie ma czerni na jasnej twarzy ślad grotu i cnota której się longin radośnie wyzbyłby po tym jak ciosem jednym zerwał trzy łby ludzi o których wierzył że niewierni lecz przecież krew ta jest tak miła bogu że zaraz kreskę w niebieskim rejestrze zarabiał szlachcic siekąc tępych wrogów co tylko po to wschodzili w granice słabej lecz wiecznej rzeczypospolitej aby się mogła na ich trupach wesprzeć kiedy zagłoba pił miód nie dla chamów picie to było inne niż bohuna horyłka beczka dziegciu wymiar stanu nieszczęśliwego dzielnego kozaka co śmiał kniaziównę kochać zawadiaka cham co boskiego się nie zląkł pioruna i na paliki zaostrzone świeżo gładko nizali się stron cierpiętnicy król płakał modlił się głęboko wierząc że hekatomba historię oczyści jak wiatr las czyści ze sczerniałych liści by pole bitwy gniło dla winnicy krwi krwi krwi krzyczał pan zagłoba i krew się lała sprawiedliwie szczodrze lecz pan longinus rycerstwa ozdoba nie mógł pozornych tryumfów być już świadkiem grymasem śmierci dając znak ukradkiem że wie zbyt wiele by było mu dobrze ',\n",
       " ' stary port się powoli układał do snu świeża bryza zmarszczyła morze gładkie jak stół stary rybak na kei zaczął śpiewać swą pieśń zabierzczie mnie chłopcy mój czas skończył się tyko wezmę swój sztormiak i sweter ostatni raz spojrzę na pirs pozdrów moich kolegów powiedz że dnia pewnego spotkamy się wszyscy tam w fiddelers green fiddelers green szłyszłem nie raz jeśli piekło ominę dopłynąć chcę tam gdzie delfiny figlują w wodzie czystej jak łza o mroźnej grenlandii zapomina się tam stary port się powoli układał do snu świeża bryza zmarszczyła morze gładkie jak stół stary rybak na kei zaczął śpiewać swą pieśń zabierzczie mnie chłopcy mój czas skończył się kiedy już tam dopłynę oddam cumy na ląd różne bary są czynne cały dzień i całą noc piwo nic nie kosztuje a dziewczęta jak sen rum w butelkach rośnie na każdym z drzew stary port się powoli układał do snu świeża bryza zmarszczyła morze gładkie jak stół stary rybak na kei zaczął śpiewać swą pieśń zabierzczie mnie chłopcy mój czas skończył się aureola i harfa to nie to o czym śnię o morza rozkołys i wiatr modlę się stare pudło wyciągnę zagram coś w cichą noc wiatr w takielunku zaśpiewa swój song tyko wezmę swój sztormiak i sweter ostatni raz spojrzę na pirs pozdrów moich kolegów powiedz że dnia pewnego spotkamy się wszyscy tam w fiddelers green ',\n",
       " ' dany jest drzewom taki sen co korę w puchu mgieł zanurza przegina wiatry zgiętym pniem i twardnieć każe w letnich burzach dlatego człowiek marszcząc brwi powalił pień żelaza błyskiem by pierworodny jego syn z drzewa wyciętą miał kołyskę dany jest drzewom taki szum co liśćmi w struny głosu ścieka po to by żywy głos z tych strun gałęzie drzewom pooblekał dlatego człowiek ujął nóż odciął szumiącą gałąź drzewa by głos fujarki łanom zbóż radość i smutek mógł wyśpiewać dana jest drzewom taka moc w ziemię i w niebo ciałem wrastać gałęziom dzień korzeniom noc na poły w mrokach tkwić i blaskach dlatego człowiek topór wzniósł uderzył w drzewo jak w kolumnę by na ostatniej drodze wóz drewnianą mu potoczył trumnę ',\n",
       " 'jeszcze zdążymy w dżungli ludzkości siebie odnaleźć tęskność zawrotna przybliża nas zbiegną się wreszcie tory sieroce naszych dwu planet cudnie spokrewnią się ciała nam jest już za późno nie jest za późno jest już za późno nie jest za późno jest już za późno nie jest za późno jeszcze zdążymy tanio wynająć małą mansardę z oknem na rzekę lub też na park z łożem szerokim piecem wysokim ściennym zegarem schodzić będziemy codziennie w świat jest już za późno nie jest za późno jest już za późno nie jest za późno jest już za późno nie jest za późno jeszcze zdążymy naszą miłością siebie zachwycić siebie zachwycić i wszystko w krąg wojna to będzie straszna bo czas nas będzie chciał zniszczyć lecz nam się uda zachwycić go jest już za późno nie jest za późno jest już za późno nie jest za późno jest już za późno nie jest za późno ',\n",
       " 'znów przyjdzie maj a z majem bzy i czekać mam na lepsze dni znów przyjdzie mi nosić przykrótkie sny i do lata do lata do lata piechotą będę szła ah ah ah ah yeah yeah yeah uh uh uh znów kupisz mi coś na imieniny mmmm ja to wiem i czuję że znów przyjdzie mi nosić przykrótkie sny i do lata do lata do lata piechotą będę szła ah ah ah ah yeah yeah yeah uh uh uh przykrótkie sny nie w porę zbyt lekko się ubiorę noc długa świt w szronach i wiosna spóźniona i twoje słowa zimne że nie ma drogi innej do lata do lata do lata tak dłuży się czas gdybyś tylko chciał to było by to lato już i słońce i szaleństwo burz lecz dajesz mi tylko przykrótkie sny więc do lata do lata do lata piechotą będę szła ah ah ah ah yeah yeah yeah uh uh uh ',\n",
       " 'brnąłem do ciebie maju przez mrozy i biele przez śnieżyce i zaspy i lute zawieje przez bezbarwne szpitalne korytarze stycznia w tych korytarzach słońce gasło ustawicznie a teraz maj dokoła maj wyświęca ogrody i cały ja i cały ja zanurzony w jordanie pogody a teraz maj i maj i maj dokoła się święci od wonnych bzów szalonych bzów wprost w głowie się kręci i płyną przeze mnie dmuchawce jak dzieciństwa echa i wielka jest majowa moc kiedy niebo się do ziemi uśmiecha śpi w twoim wnętrzu chłopiec w chłopcu pierwszy zachwyt poznaję z twoich ziaren wyrosną sady strudzonemu pielgrzymką ulżyj dodaj wiary a teraz maj dokoła maj wyświęca ogrody i cały ja i cały ja zanurzony w jordanie pogody a teraz maj i maj i maj dokoła się święci od wonnych bzów szalonych bzów wprost w głowie się kręci ',\n",
       " 'wokół góry góry i góry i całe moje życie w górach ileż piękniej drozdy leśne śpiewają niż śpiewak płatny na chórach wokół lasy lasy i wiatr i całe życie w wiatru świstach wszyscy których kocham wita was modrzewia ikona złocista jak łasiczki ścieżka w śniegu droga życia była kręta teraz z góry zeszła na mnie młodych jodeł zieleń święta nieludzką ręką malowany jest wielki smutek duszy mojej lecz nawet złockiej ikonie ja nigdy nic nie powiem wokół góry góry i góry i całe moje życie w górach ileż piękniej drozdy leśne śpiewają niż śpiewak płatny na chórach wokół lasy lasy i wiatr i całe życie w wiatru świstach wszyscy których kocham wita was modrzewia ikona złocista ważne są tylko kopuły pieśni które na górze wysokiej zostaną i nikt nie szuka inicjałów cieśli gdy cieśle dom postawią przyjaciele którzy jemiołę czcicie dobrze że chodzicie światem wkrótce jodełkę zieloną spalicie by darzyła was ciepłym latem wokół góry góry i góry i całe moje życie w górach ileż piękniej drozdy leśne śpiewają niż śpiewak płatny na chórach wokół lasy lasy i wiatr i całe życie w wiatru świstach wszyscy których kocham wita was modrzewia ikona złocista ',\n",
       " 'piszesz mi w liście że kiedy pada kiedy nasturcje na deszczu mokną siadasz przy stole wyjmujesz farby i kolorowe otwierasz okno trawa i drzewa są takie szare barwę popiołu przybrało niebo w ciszy tak smutno szepce zegarek o czasie co mi go wcale nie trzeba więc chodź pomaluj mi świat na żółto i na niebiesko niech na niebie stanie tęcza malowana twoja kredką więc chodź pomaluj mi życie niech świat mój się zarumieni niech na niebie zalśni tęcza kolorami całej ziemi za siódmą górą i siódmą rzeka swoje sny zamieniasz na pejzaże niebem się wlecze wyblakłe słońce oświetla ludzkie wyblakle twarze ',\n",
       " 'a jeżeli wiosną przejdę nad głębinę a bodaj się wszyscy uśmieli pewnie gdzieś popłynę między wierzby krzywe co się słońcem mienią albo wyspy wikliny szumiące zielenią zaraz się zachwycę zaraz się zasłucham w jakieś bajdy zaplątane w barokowych słuchach swoje dzieje spiszę na piaszczystym trakcie wyślę pocztą gołębią cztery mile za piec i nic więcej bo przecież nad taką równiną no jak tu nie lecieć no jak tu nie płynąć od końca do końca na teraz na teraz i zawsze no jak tu nie słuchać no jak tu nie patrzeć a gdy stąd odejdę zasmuconym sadem będę długo spać jesienią w kącie pod obrazem a gdy się obudzę choćby mróz był wielki wrócę przecież jak inni drugim brzegiem rzeki i nic więcej bo przecież nad taką równiną no jak tu nie lecieć no jak tu nie płynąć od końca do końca na teraz na teraz i zawsze no jak tu nie słuchać no jak tu nie patrzeć ',\n",
       " 'boję się nieba w twoich oczach jeszcze drżysz ze zmęczenia i potu świat chcesz dzielić na białe i czarne miły boję się twoich powrotów boję się chmur nad twoim czołem kiedy ręce do krwi otarte dumnie kładziesz przede mną na stole miły boję się twoich powrotów drżysz jeszcze oczy zamglone zrobisz wszystko o co poproszę muszę wierzyć przecież mnie kochasz krótka chwila i wracasz krótka chwila i wracasz krótka chwila i wracasz na morze boję się morza w twoich myślach kiedy jesteś do drogi już gotów leżysz przy mnie oczy otwarte miły boję się twoich powrotów drżysz jeszcze oczy zamglone zrobisz wszystko o co poproszę muszę wierzyć przecież mnie kochasz krótka chwila i wracasz krótka chwila i wracasz krótka chwila i wracasz na morze ',\n",
       " 'gdy tak siedzimy nad bimbrem ojczyzna nam umiera gniją w celach koledzy wolno się kręci powielacz drukujemy ulotki o tym że jeszcze żyjemy grozi nam za to wyrok dziesięciu lat więzienia gdzieś niedaleko patrol jednego z nas zatrzymał pijemy jego zdrowie w więzieniu to mu się przyda ',\n",
       " 'był anglik co przyjaźń nawiązał z hindusem z najczystszej sympatii a nie pod przymusem do dzisiaj by trwała ta przyjaźń wspaniała lecz hindus nieświeży dał mu ser pretensje mieć trudno do tego anglika gdy druh w narodowej go dumie dotyka więc wzgardził pariasem i przyjaźń swą z czasem położył u stóp irlandczyka narody narody po diabła narody stojące na drodze do szczęścia i zgody historia nam daje dobite dowody pragniecie pokoju usuńcie przeszkody narody narody narody raz francuz sąsiada miał co był z somalii w tuluzie mieszkali i pastis pijali lecz wnet się przekonał potomek daltona że druh jego łeb ma ze stali nie mieli pretensji koledzy francuza że przepić nie umiał czarnego łobuza lecz rzekli mon ami jak pić chcesz to z nami bo nie dla przybłędów tuluza narody narody po diabła narody stojące na drodze do szczęścia i zgody historia nam daje dobite dowody pragniecie pokoju usuńcie przeszkody narody narody narody raz chińczyk w japonce się tak zauroczył że wizje małżeństwa był przed nią roztoczył lecz kwiat kraju wiśni rzekł ani się mi śni spójrz w lustro wszak skośne masz oczy cóż z sercem złamanym uczynić na świecie więc poszedł do wojska i śnił o odwecie lecz losu ironio brak wojny z japonią do mnichów dziś strzela w tybecie narody narody po diabła narody stojące na drodze do szczęścia i zgody historia nam daje dobite dowody pragniecie pokoju usuńcie przeszkody narody narody narody sympatię singalez raz czuł do tamila choć wrogość dzieliła ich ludy na srila nce dawnym cejlonie gdzie nawet są słonie w polityce mądre nad wyraz lecz słoń singaleza tamilów sympatyk zwykł noc mu po nocy wykradać granaty i pojął singalez że musi choć z żalem sympatie swe spisać na straty narody narody po diabła narody stojące na drodze do szczęścia i zgody historia nam daje dobite dowody pragniecie pokoju usuńcie przeszkody narody narody narody był też palestyńczyk co z żydem się bratał w przyjaźni tej widząc nadzieję dla świata strzelając do niego powtarzał kolego ta krew nas połączy na lata lecz w takiej przyjaźni nie widział żyd cnoty bo nie miał ochoty na nowe golgoty więc rzekł przyjacielu my tu w izraelu nie mamy dla ciebie roboty narody narody po diabła narody stojące na drodze do szczęścia i zgody historia nam daje dobite dowody pragniecie pokoju usuńcie przeszkody narody narody narody libijczyk choć żony miał trzy muzułmanki czadyjkę sprowadził do swojej lepianki i rzekł dla przykładu dam ja z tobą czadu i brał ją wieczory i ranki choć miłość przeszkody pokonać potrafi nie zebrał za czyn swój libijczyk ów braw i dla dobra socjali zmu ją mu zabrali ci których wychował kadafi narody narody po diabła narody stojące na drodze do szczęścia i zgody historia nam daje dobite dowody pragniecie pokoju usuńcie przeszkody narody narody narody bez tchu w herbaciarni wypiwszy pięć herbat albańczyk zapałał przyjaźnią do serba lecz serb po śliwowi cy albańczykowi na zębach wypisał swój herbarz szczerbaty albańczyk to pół albańczyka niejeden polityk się na tym potyka choć jęczy duch tity że zbędny polityk gdzie trzeba dentysty praktyka narody narody po diabła narody stojące na drodze do szczęścia i zgody historia nam daje dobite dowody pragniecie pokoju usuńcie przeszkody narody narody narody na cyprze był turek co druha miał greka obydwu zabrała rodzima bezpieka przy więźniów wymianie spotkali się w bramie bez słowa minęli człek człeka wnet greczyn u turków u greków zaś turek o jednej godzinie stanęli pod murek w czas potem niedługi na jednym i drugim piaszczysty się wznosił pagórek narody narody po diabła narody stojące na drodze do szczęścia i zgody historia nam daje dobite dowody pragniecie pokoju usuńcie przeszkody narody narody narody rosjanin był który nie jego to wina za brata uważał pewnego gruzina czas drużby był krótki bo ów nie pił wódki rosjanin nie pijał zaś wina napisał na niego gdzie trzeba więc donos i łzę nad przyjaźnią utoczył wzmocnioną w obozie zaś gruzin odsiedział lat tuzin lecz przecież go w końcu zwolniono narody narody po diabła narody stojące na drodze do szczęścia i zgody historia nam daje dobite dowody pragniecie pokoju usuńcie przeszkody narody narody narody ci wszyscy o których tak długo ty mendzę co dzień się widują na forum oenzet i skarżą się wzajem na ludy i kraje nie skarżąc się jednak na nędzę bo mają do siebie już to kuluary gdzie naród z narodem się chwyta za bary że nie o to chodzi kto komu gdzie szkodzi lecz o to po ile dolary narody narody po diabła narody stojące na drodze do szczęścia i zgody historia nam daje dobite dowody pragniecie pokoju usuńcie przeszkody narody narody narody był polakpatriota co przy wódki skrzynce zawierał przyjaźni pakt z ukraińcem od słowa do słowa dotarli do lwowa ścierając się jak dwa odyńce gdy bić się skończyli trafili za kraty podarłszy w pamięci doniosłe traktaty bo gdy przyjdzie czas wy nas a my was po brzuchach i budem rezaty narody narody po diabła narody stojące na drodze do szczęścia i zgody historia nam daje dobite dowody pragniecie pokoju usuńcie przeszkody narody narody narody ach gdybyż narodów na świecie nie było jak nam by się wtedy szczęśliwie tu żyło dla dobra człowieka dla szczęścia ludzkości złączonej w potężnym uścisku miłości aż z trzaskiem pękałyby kości ',\n",
       " 'stary swiset kiedyś mówił mi staliśmy w bramie był świt gdy oczekiwaliśmy na słońca wschód i samochodów rósł szum mówił mi czy muru nie widzisz wszystkich nas trzyma ten mur gdy nie będziemy bronić się zagrodzi nam każdą z dróg gdy uderzymy runie mur nie może przecież wiecznie trwać na pewno runie runie runie nie pozostanie po nim ślad jeśli uderzysz mocno tu a ja uderzę mocno tam na pewno runie runie runie i wolny będzie cały świat lecz minęło już wiele lat ręce mam starte do krwi a gdy czuję że sił mi brak mur rośnie wyższy niż był wiem już że ledwo się trzyma lecz ciężko ruszyć go stąd nawet gdy czuję przypływ sił powtórz swisecie pieśń swą gdy uderzymy runie mur nie może przecież wiecznie trwać na pewno runie runie runie nie pozostanie po nim ślad jeśli uderzysz mocno tu a ja uderzę mocno tam na pewno runie runie runie i wolny będzie cały świat stary swiset nie mówi nic słowa porwał zły wiatr dokąd on jeden tylko wie ja w bramie tkwię cały czas i gdy przychodzę mówi wciąż słyszę jak rośnie mój głos śpiewamy ostatnią swiseta pieśń tę której nauczył nas on gdy uderzymy runie mur nie może przecież wiecznie trwać na pewno runie runie runie nie pozostanie po nim ślad jeśli uderzysz mocno tu a ja uderzę mocno tam na pewno runie runie runie i wolny będzie cały świat ',\n",
       " 'lśni chorągiew pozłocista chrzęści zbroja szmelcowana jedzie jedzie król władysław by poskromić bisurmana po wąwozach brzmią cykady koń królewski raźnie parska dzielny węgier jan hunyady sprawdza szyki klnąc z madziarska nad wzgórzami wstają zorze wojsko w marszu rumor czyni o już widać czarne morze mówi legat cesarini król naprędce je śniadanie jan hunyady wszedł z łoskotem nawalili wenecjanie wycofali swoją flotę król odstawił kubek z winem blask mu strzelił spod powieki uderzamy za godzinę a wenecji wstyd na wieki jeszcze warna w dali drzemie jeszcze nisko stoi słońce a pancerni strzemię w strzemię a pancerni koncerz w koncerz a pancerni kopia w kopię ku piaszczystym patrzą brzegom no to cześć daj pyska chłopie mówi król do hunyadego i błysnęły jednym blaskiem setki mieczy wyszarpniętych i zgrzytnęły jednym trzaskiem setki przyłbic zatrzaśniętych i zadrżała ziemia święta i huknęły dzwony w mieście i ruszyli najpierw stępa potem kłusem cwałem wreszcie poszła dzielna polska jazda poszli węgrzy niczym diabli jak stalowa ostra drzazga jak błyszczące ostrze szabli i widziano jak lecieli pędem wielkim i szalonym i widziano jak tonęli w morzu turków niezmierzonym po czym z piórem siadł nad kartą mnich uczony stary skryba warto było czy nie warto odwrót byłby lepszy chyba chrzanił zacny zjadacz chleba czas nad nami wartko goni i tak kiedyś umrzeć trzeba to już lepiej tak jak oni z resztą koniec dzieło wieńczy mnich w klasztorze kipnął marnie a szalony król warneńczyk ma grobowiec w pięknej warnie i szanują go bułgarzy i nas dzięki niemu cenią więc na czarnomorskiej plaży kłaniam się królewskim cieniom ',\n",
       " 'nie oglądaj się za siebie kiedy wstaje brzask ruszaj dalej w świat nie zatrzymuj się sam wybierasz swoją drogę z wiatrem czy pod wiatr znasz tu każdy szlak przestrzeń woła cię przecież wiesz że dla ciebie każdy nowy dzień przecież wiesz że dla ciebie chłodny lasu cień przecież wiesz jak upalna bywa letnia noc przecież wiesz że wędrowca los to twój los lśni w oddali toń jeziora słyszysz ptaków krzyk tu odpoczniesz dziś i nabierzesz sił ale jutro znów wyruszysz na swój stary szlak będziesz dalej szedł tam gdzie pędzi wiatr przecież wiesz że dla ciebie każdy nowy dzień przecież wiesz że dla ciebie chłodny lasu cień przecież wiesz jak upalna bywa letnia noc przecież wiesz że wędrowca los to twój los ',\n",
       " ' dawno już w mieście drwił z niego każdy pośmiewiskiem był ludziom na co dzień ot wariat chory na wyobraźnię wiecznie w drodze spóźniony przechodzień dokąd idziesz pytali go bliscy z tego bracie to trzeba się leczyć a on brał tekturową walizkę i wychodził swym obrazom naprzeciw mówiąc idę tam gdzie bezmiar błękitu światłocienie cyprysów przy drodze feerią barw każdy ranek rozkwita chociaż wiem że do celu nie dojdę gdy malował świat milkł jak zaklęty kurczył się w skrawek płótna na ramach a on pieścił je jak pierś kobiety w siedmiobarwnych tęcz kreskach i plamach kiedy skończył wpatrywał się w ciszę by natchnieniem nasycić znów duszę a gdy już dał się marszandom wykpić pił noc całą by z brzaskiem wyruszyć mówiąc dawno już w mieście drwił z niego każdy pośmiewiskiem był ludziom na co dzień ot wariat chory na wyobraźnię wiecznie w drodze spóźniony przechodzień dokąd idziesz pytali go bliscy z tego bracie to trzeba się leczyć a on brał tekturową walizkę i wychodził swym obrazom naprzeciw mówiąc ',\n",
       " ' a kiedy przyjdzie także po mnie zegamistrz światła purpurowy by mi zabełtać błękit w głowie to będę jasny i gotowy spłyną przeze mnie dni na przestrzał zgasną podłogi i powietrza na wszystko jeszcze raz popatrzę i pójdę nie wiem gdzie na zawsze ',\n",
       " 'ojców dom pożegnał głupi jasio szukać wody życia rad nierad stopy ścisnął swym niedobrym braciom którzy siłą go wysłali w świat schedę jego wezmą i zmarnują nic powiedzieć nie mógł choćby chciał więc wyruszył w drogę pogwizdując starczy mu że mowę zwierząt znał starczy mu że mowę zwierząt znał głupi jasiu głupi jasiu śmiał się w lesie szczebiot ptasi prawda to że ci rozumu brak woda życia nie istnieje a w obczyźnie nam zmarniejesz ale on przed siebie szedł i tak ale on przed siebie szedł i tak szedł za słonkiem tam gdzie zachodziło pod stopami chrzęścił złoty żwir ale złoto jasia nie olśniło wsłuchał się w wieczorny ptaków tryl idź ćwierkały ptaki do stolicy gdzie umiera król na łożu z piór uzdrów go wywarem z ziarn pszenicy on ci władzę da i jedną z cór on ci władzę da i jedną z cór głupi jasiu głupi jasiu wabił w lesie szczebiot ptasi wszak bogactwo lepsze jest od biedy nie istnieje woda życia więc przynajmniej miej coś z życia ale on i tak przed siebie szedł ale on i tak przed siebie szedł nie chciał władzy jasio bo był głupi i nie myślał o najsłodszym z ciał bo by się miłością władzą upił a on wodę życia znaleźć miał zawędrował w osypiska dzikie gdzie się węże wiły mu u nóg uciekłby kto mądry przed ich sykiem ale jasio syk zrozumieć mógł ale jasio syk zrozumieć mógł głupi jasiu głupi jasiu jeśliś nas się nie przestraszył idź przed siebie ścieżką na sam szczyt lecz uważaj na uroki nie oglądaj się na boki bo cię wtedy nie ocali nikt bo cię wtedy nie ocali nikt pnie się w górę ścieżką kamienistą wśród upiorów widm bezgłowych ciał ale nie przeraża go to wszystko bo nie takie strachy z domu znał widzi już na szczycie jak ze źródła woda życia tryska srebrną mgłą a przy źródle jeden z braci mruga popatrz jasiu w dół tam jest twój dom popatrz jasiu w dół tam jest twój dom głupi jasiu głupi jasiu coś na złudę się połasił raz spojrzałeś w dół jedyny raz na nic trud i droga krwawa zniknął dom i brata zjawa i zmieniłeś się pod szczytem w głaz i zmieniłeś się pod szczytem w głaz wraca teraz głupi jaś z kamienia pełznie drogą rok po roku cal lecz przeminą całe pokolenia nim pokonać zdoła złota dal a gdy dotrze już do domu kamień dzieciom ktoś opowie o nim baśń i pojawi się przy starej bramie ożywiony baśnią głupi jaś ożywiony baśnią głupi jaś głupi jasiu głupi jasiu rozumiałeś mowę ptasią ale więcej już rozumiesz dziś w baśniach śpią prawdziwe dzieje woda życia nie istnieje ale zawsze warto po nią iść ale zawsze warto po nią iść ',\n",
       " 'wchodzimy z twarzami zdrowymi od mrozu siadamy przy ogniu tańczącym z radości ścieramy z nadgarstków odciski powrozów wołamy o wino i chleb i tłustości spod ścian patrzą na nas w milczeniu miejscowi napięci na wszystko gotowi wchłaniamy łapczywie wielkimi kęsami łykamy alkohol aż warczy nam w grdykach bekniemy czasami pierdniemy czasami aż z ław w ciepło wzbija się woń wędrownika i płynie pod ściany miejscowych jak ręka co mówi przestańcie się lękać co mówi przestańcie się lękać śpiewamy piosenki o drodze i pracy o braku pieniędzy i braku miłości podnoszą się ze snu miejscowi pijacy słuchają oczami rozumnej przeszłości ktoś wstanie podejdzie zapyta kto my my dzieci wolności bezdomne my psy przysiądą się stawiać i pytać nieśmiale gdzie dobrze gdzie lepiej a gdzie pieniądz rośnie i plączą się cienie pod niską powałą i coraz jest ciaśniej i duszniej i głośniej bo oto włóczędzy z przeszłością swą mroczną dla ludu się stają wyrocznią dla ludu się stają wyrocznią mówimy o wojnach w dalekich krainach zmyślamy bogactwa zdobyte stracone słuchają jak mszy dolewają nam wina i dziewki przysiądą się też ośmielone do ognia dorzuci przebiegły gospodarz noc długa korzyści mu doda rozgrzani snujemy niezwykłą opowieść zazdroszcząc im tego że tacy ciekawi choć mają co każdy tak chciałby mieć człowiek a za byle co już gotowi zastawić by włóczyć się szukać i błądzić jak my i żyć bez wytchnienia bez nocy i dni i żyć bez wytchnienia bez nocy i dni pijemy i każdy już ma coś na oku ten nocleg w piekarni ten pannę piersiastą świt znajdzie nas znowu za miastem na stoku gdzie nikt tak naprawdę nic nie ma na własność a wam pozostanie piosenka i sny my dzieci wolności bezdomne my psy dzieci wolności dzieci wolności psy ',\n",
       " ' lalalala lalalalala lalalala lalalala lalala lalala lalala nikt nie zna ścieżek gwiazd wybrańcem kto wśród nas zapukał ktoś to do mnie gość włóczyłem się jak cień czekałem na ten dzień już stoisz w drzwiach jak dziwny ptak więc bardzo proszę wejdź tu siadaj rozgość się i zdradź mi kim tyś jest madame albo nie zdradzaj mi lepiej nie mówmy nic lepiej nie mówmy nic nieśmiało sunie brzask zatrzymać chciałbym czas inaczej jest czas musi biec gdzieś w dali zapiał kur niemodny wdziewasz strój już stoisz w drzwiach jak dziwny ptak więc jednak musisz pójść posyłasz mi przez próg ulotny uśmiech swój madame lecz będę czekać przyjdź gdy tylko zechcesz przyjdź będziemy razem żyć ja będę czekać przyjdź gdy tylko zechcesz przyjdź będziemy razem żyć lalalala lalalalala lalalala lalalala lalala lalala lalala ',\n",
       " ' obróciła się wiosna na pięcie wyminęła się z latem we drzwiach wpatrywałaś się w okno zawzięcie może wyjdzie kominarz na dach potem jechał gdzieś pociąg spóźniony ktoś trzy asy wyłożył na stół a ty kwiaty wkładałaś w wazony i słyszałaś z daleka stuk kół a tymczasem rozgościł się lipiec na wesele zaprosił ze stu pasikonik pożyczył mu skrzypiec i w tym graniu tak biegłaś bez tchu panno kminkowa panno lipcowa twoje są łąki twoje skowronki wszystkich łąk idziesz polami w palcach łodyżkę masz i gryziesz kminek czarny przecinek nasz panna kminkowa panna lipcowa śmiać się gotowa letnia królow kwietnych łąk idzie polami w palcach łodyżkę ma i gryzie kminek czarny przecinek dnia noce śniły budziły się ranki koniczyny poczwórny był liść rwałaś groszek zielony przed gankiem kiedy przyszło polami nam iść trwało lato i trwała muzyka rumieniłaś się wiśnią z mych ust las na wzgórzu horyzont zamykał a ty biegłaś ku niemu bez tchu panno kminkowa panno lipcowa twoje są łąki twoje skowronki wszystkich łąk idziesz polami w palcach łodyżkę masz i gryziesz kminek czarny przecinek nasz panna kminkowa panna lipcowa śmiać się gotowa letnia królow kwietnych łąk idzie polami w palcach łodyżkę ma i gryzie kminek czarny przecinek dnia a gdy lipiec się w drogę spakował oddał skrzypce i poszedł gdzieś w świat ty zostałaś mi panno kminkowa i łodyżki rzucone na wiatr jesień deszczem twe łąki przemoczy zima śniegiem okryje na mróz a gdy lipiec zaglądnie ci w oczy znowu będziesz tak biegła bez tchu panno kminkowa panno lipcowa twoje są łąki twoje skowronki wszystkich łąk idziesz polami w palcach łodyżkę masz i gryziesz kminek czarny przecinek nasz panna kminkowa panna lipcowa śmiać się gotowa letnia królow kwietnych łąk idzie polami w palcach łodyżkę ma i gryzie kminek czarny przecinek dnia i gryzie kminek czarny przecinek dnia ',\n",
       " 'w dół od rzeki poprzez london street psów królewskich zwarty oddział szedł ojczyźnie trzeba dziś świeżej krwi marynarzy floty wojennej a że byłem wtedy dość silny chłop w tłumie złowił mnie sierżanta wzrok w kajdanach z bramy wywlekli mnie marynarza floty wojennej jak o prawa upominać się na gretingu nauczyli mnie niejeden krwią wtedy spłynął grzbiet marynarza floty wojennej nikt nie zliczy ile krwi i łez wsiąka w pokład nim się skończy rejs dla chwały twej słodki kraju mój marynarzy floty wojennej hej za rufą miło został dom jesteś tylko parą silnych rąk dowódca tu twoim bogiem jest marynarzu floty wojennej gdy łapaczy szyk formuje się w pierwszym rzędzie możesz ujrzeć mnie kto stanie na mojej drodze dziś łup stanowi floty wojennej ',\n",
       " 'pamiętam nasze rozstanie smutniejsze przez jesienne deszcze oczy szepczące pożegnanie i twoje słowa kochasz mnie jeszcze w gardle uwiera grudka żali wciśnięta przez złośliwe duchy w uszach słyszalny gdzieś w oddali jazzowy bzyk spóźnionej muchy ledwie słyszalne obwieszczenie przez deszczu szemrzące strugi pociąg ze stacji spóźnione nadzieje wjedzie na peron drugi mimo mych zaklęć nie milknie burza walizki pudło mokre deszczem w spoconej dłoni wyblakła róża napięte nerwy przenoszą dreszcze w zmokniętych włosach szare wstążki trudno o słowa radości i nawet czary dobrej wróżki nie zwrócą pierwszej miłości tak zapamiętam cię już zawsze w żółtawym świetle reflektorów połyka cię wagonu wnętrze proszę odsunąć się od torów ',\n",
       " 'w naszym zoo trzymali goryla w klatce z bardzo grubych krat zaś przed nią baby stawały co chwila i podziwiały samca bez szat zwłaszcza na jedną część jego ciała wszystkie bezwstydnie gapiły się wciąż nie powiem na co lecz nie było to małe każda wzdychała gdzie przy nim mój mąż strzeż się goryla lecz oto małpa wychodzi ukradkiem ku zaskoczeniu szacownych pań chyba ktoś źle zamknął klatkę jak to się stało nie wiem sam goryl stanął wolnością zachwycon i odezwał się słowem tym od dziś nie będę już dziewicą a oto jak słowo przeszło w czyn strzeż się goryla dyrektor zoo postradał zmysły i powtarzał ciągle bez tchu mój goryl nie miał nigdy samicy on jest silniejszy niż ludzi stu gdy dowiedziały się o tym niewiasty zaraz podniosły straszliwy krzyk i zamiast skorzystać z wielkiej szansy idiotki dały drapaka w mig strzeż się goryla nawet te z nich co jeszcze przed chwilą marzyły o małpim supermanie teraz zwiewały aż się kurzyło a więc to były tylko marzenia ten ich strach był tym mniej zrozumiały że przecież goryl to na schwał chłop bo nawet don juan nie dałby mu rady szczęście było dosłownie o krok strzeż się goryla ludzie pierzchnęli we wszystkie strony bo dziki samiec przeraził ich tak pozostał tylko pewien sędzia młody i jakaś staruszka stuletni wrak goryl widząc jedynie tych dwoje poczuł gwałtowny erotyki głód więc aby żądze swe zaspokoić ku nim skierował swój kaczy chód strzeż się goryla starucha czując nagłą ochotę westchnęła więc jednak zdarzył się cud ktoś jeszcze miewa do mnie ciągoty już nie liczyłam na szczęścia łut ciekawe jaką samicę tu znajdzie chyba tę starą przecież nie mnie pomyślał sędzia lecz przyszłość zasię dowiodła jak bardzo mylił się strzeż się goryla bo zastanówmy się w tym momencie gdyby ktoś inny na miejscu małpy musiał tu wybrać starucha czy sędzia komu z nich szczęścia spróbować dałby ja gdybym rozwiązać miał osobiście alternatywę taką już dziś bym wybrał babinę oczywiście choć włos się jeży na samą myśl strzeż się goryla ale niestety co prawda goryl jest arcymistrzem w miłosnej grze lecz jeśli chodzi o smak czy urodę wiadomo powszechnie raczej nie albowiem zamiast zgwałcić staruchę jak to uczynił by byle kto ten sędziego ułapił za ucho i w jakieś krzaki zaciągnął go strzeż się goryla dalszego ciągu zdradzić nie mogę chociaż i miejsce na to i czas lecz mi nie wolno a wielka szkoda bo ubawiło by to was jako że sędzia w szczytowym momencie zapłakał głośno i krzyknął mamo zupełnie jak człowiek którego na ścięcie skazał był właśnie tego dnia rano strzeż się goryla ',\n",
       " 'wczoraj wieczorem serwus rzekł mi pan wczoraj wieczorem rzekł mi pan rzuciła mnie robota ot i cały kram w kieszeni może dwa w kieszeni może dwa wypije ze mną i drinka bieda siostra zła na łbie siwe kłaki i niepewny los na łbie siwe kłaki i niepewny los jak sznur stary dzień kiedy pusty trzos wczoraj wieczorem serwus rzekł mi pan wczoraj wieczorem serwus rzekł mi pan rzuciła mnie robota ot i cały kram rzuciła mnie robota ot i cały kram ',\n",
       " 'na ile wiary brak gorącej że jest na niebie jakiś bóg na tyle wiąże koniec z końcem łańcucha katorżnika nóg na ile wciąż nadzieja szarpie że coś się dla nas w mrokach tli na tyle wigilijne karpie śnią smacznie swe beztroskie sny piosenka pożegnania piosenką jest utraty żegnałem ludzi i zdania traciłem całe światy i nic nie pozostało prócz tego co nucicie to wcale nie jest mało tak żegnać całe życie na ile trwa co odchodzi nabite na historii hak na tyle zauważą młodzi że jednak czegoś jest im brak na ile ufa młody dureń w niewyczerpany zapas lat na tyle mu bezbronną skórę tnie raz po raz bezwzględny bat piosenka pożegnania piosenką jest utraty żegnałem ludzi i zdania traciłem całe światy i nic nie pozostało prócz tego co nucicie to wcale nie jest mało tak żegnać całe życie na ile zdolny jest do krzyku w obronie innych każdy z nas na tyle trwa ten kraj pomników strumieniem podmywany głaz na ile skory do ofiary jest ten co bluźnił łgał i kradł na tyle wierzy człowiek stary w to że ocali własny świat piosenka pożegnania piosenką jest utraty żegnałem ludzi i zdania traciłem całe światy i nic nie pozostało prócz tego co nucicie to wcale nie jest mało tak żegnać całe życie ach świat przebrzmiałych dźwięków jakąż melodię wiódł już jej nie wskrzesisz ręką już nie ma tamtych nut ach z tego czego już nie ma jakiż by mógł być świat ale to inny temat nam już nie starczy lat ',\n",
       " 'kiedy morze burzy swój spokojny sen białę grzywą wdziera się na ląd my jak drzewa sennie pochylamy się wokół morza zacieśniamy krąg niespokojne nasze myśli szarpie wiatr unosi prąd pośród ryku wichrów salejących burz słychać pieść o pracy rąk w lampie sennie skwierczy wielorybi tłuszcz biały dym unosi wiatr niespokojny przybój szarpie smukłą łódź już na łowy ruszać czas z rozchuaknej morskiej toni czai cielsko cenny łup kiedy morzemy pomknie zwinnej włóczni cień biały narwal straci róg wielki duchu oceanów nasze łodzie wiecznie chroń myśliwemu kieruj w sieci cenny łup celnie prowadź jego dłoń groźną dzielą gór lodowych nie zwodź naszych morskich dróg przed narwala strzeż ogonem chroń od morsa groźnych kłów kiedy morze burzy swój spokojny sen białą grzywą wdziera się na ląd my jak drzewa senne pochylamy się wokół morza zacieśniamy krąg niespokojne nasze myśli szarpie wiatr unosi prąd pośród ryku wichrów szalejących burz słychać pieśń o pracy rąk ',\n",
       " 'w amsterdamie statek nasz na wyładunku był człowiek do roboty nie miał nic więc w porcie pił piję po obcemu nie rozumiem nudzę się kiedy jakiś czarny siada koło mnie america mówi do mnie zrozumiałem rozejrzałem się i mówię sowietskij sojuz soviet union on się cieszy ja do pełna mu nalałem jak raz swoich nie było więc był pełny luz po ichniemu nie rozumiem on po ludzku też lecz jest wódka więc jest tłumacz przy niej mów co chcesz postawiłem po sto gram niech negr widzi że gest mam jemu przecież w ameryce ciężko jest on tymczasem mówi stany zjednoczone to największe państwo z wszystkich świata państw w bankach złota ma zasoby niezliczone chcesz z nim zacząć to już nie masz żadnych szans a ja na to kreml w niebo śle rakiety bez wysiłku wielkich rzek zawraca bieg żal mi ciebie lecz niestety również trudny kunszt baletu najlepiej posiadł on na planecie tej przyszło potem po gram dwieście do rozmowy chęć wyjaśniłem mu że jest ofiarą klasowych spięć lecz murzyna marynarski umysł wciąż w ciemnościach trwał i na światły wywód mój odpowiedź dał u nas jest na głowę po dwa samochody zbudowaliśmy największy świata gmach nasza demokracja daje nam swobody których oczekuje cały świat we łzach a ja na to my w niebo ślem rakiety bez wysiłku wielkich rzek cofamy bieg żal mi ciebie lecz niestety również trudny kunszt baletu najlepiej posiedliśmy na planecie tej szybko nabierała tempa ta wymiana zdań ale nie chciał negr zrozumieć co jest dobre dlań postawiłem po gram trzysta myślę teraz zgodzi się ale on choć ledwie mówi jednak mówi że ja posiadam wielki kanion colorado delfinów język też rozszyfrowałem ja u mnie niagara jest największy z wodospadów i gwiazd pięćdziesiąt moja flaga ma a ja na to ja w niebo ślę rakiety bez wysiłku wielkich rzek zawracam bieg żal mi ciebie lecz niestety również trudny kunszt baletu najlepiej ja posiadłem na planecie tej ',\n",
       " 'chorałem dzwonków dzień rozkwita jeszcze od rosy rzęsy mokre we mgle turkoce pierwsza bryka słońce wyrusza na włóczęgę drogą pylistą drogą polną jak kolorowa panny krajka słońce się wznosi nad stodołą będzie tańczyć walca a ja mam swoją gitarę spodnie wytarte i buty stare wiatry niosą mnie na skrzydłach zmoknięte świerszcze stroją skrzypce żuraw się wsparł o cembrowinę wiele nanosi wody jeszcze wielu się ludzi z niej napije drogą pylistą drogą polną jak kolorowa panny krajka słońce się wznosi nad stodołą będzie tańczyć walca a ja mam swoją gitarę spodnie wytarte i buty stare wiatry niosą mnie na skrzydłach ',\n",
       " 'ujrzałem po raz pierwszy ją gdzieś w tłumie na ulicy i pierwszym już spojrzeniem do swych stóp rzuciła mnie zdumiony tylko gębę głupio rozdziawiłem wybałuszyłem durne ślepia swe poszedłem potem do niej by zaśpiewać jej piosenkę lecz powiedziano mi że w filcharmonii właśnie jest z gitarą w rękach gębę głupio rozdziawiłem wybałuszyłem durne ślepia swe gdy w któreś popołudnie słój z musztardą jej przyniosłem ma miła chwilę przedtem już raczyła skończyć jeść na słój gapiąc się gębę tylko rozdziawiłem wybałuszyłem durne ślepia swe gdy w dniu urodzin rower jej w prezencie chciałem oddać jej kochający tatuś właśnie auto sprawił jej więc na rowerze siedząc gębę rozdziawiłem wybałuszyłem durne ślepia swe a kiedy się z mą miłą pewnej nocy umówiłem po ciemku z jakimś typem strasznym pomyliła mnie na ich umizgi patrząc gębę rozdziawiłem wybałuszyłem durne ślepia swe następnym razem nóż zabrałem by z nią wreszczie skończyć lecz powiedziano mi że śmierć przerwała życie jej więc z majchrem w garści gębę głupio rozdziawiłem wybałuszyłem durne ślepia swe nieotulony w żalu więc poszedłem na jej pogrzeb lecz ją cudownym trafem odratować dało się z żałobnym wieńcem w dłoniach gębę rozdziawiłem wybałuszyłem durne ślepia swe ',\n",
       " 'już ostatni płomień zgasł trzeba odejść kryjąc twarz przez życzliwie uchylone drzwi ktoś powiedział nazbyt wiele ktoś się poczuł przyjacielem i z dnia na dzień nie zostało nic ktoś powiedział nazbyt wiele ktoś się poczuł przyjacielem i z dnia na dzień nie zostało nic jutro wstanie nowy dzień po staremu dzwoni mleczarz butelkami daje znać i na pewno nic na zewnątrz się nie zmieni trzeba sobie tylko jakoś z sobą samym radę dać już ostatni płomień zgasł to już koniec na mnie czas drugi brzeg w oddali dawno znikł tyle serca kosztowało jak wyjść teraz z tego cało gdy z dnia na dzień nie zostało nic tyle serca kosztowało jak wyjść teraz z tego cało gdy z dnia na dzień nie zostało nic jutro wstanie nowy dzień po staremu dzwoni mleczarz butelkami daje znać i na pewno nic na zewnątrz się nie zmieni trzeba sobie tylko jakoś z sobą samym radę dać ',\n",
       " 'nasz diament prawie gotów już w cieśninach nie ma kry na kei piękne panny stoją w oczach błyszczą łzy kapitan w niebo wlepia wzrok ruszamy lada dzień płyniemy tam gdzie słońca blask nie mąci nocy cień a więc krzycz oho ho odwagę w sercu miej wielorybów cielska groźne są lecz dostaniemy je hej panno powiedz po co łzy nic nie zatrzyma mnie bo prędzej w lodach kwiat zakwitnie niż wycofam się no nie płacz mała wrócę tu nasz los nie taki zły bo da dukatów wór za tran i wielorybie kły a więc krzycz oho ho odwagę w sercu miej wielorybów cielska groźne są lecz dostaniemy je na decku stary wąchał wiatr lunetę w ręku miał na łodziach co zwisały już z harpunem każdy stał i dmucha tu i dmucha tam ogromne stado wkrąg harpuny wiosła liny brać i ciągaj brachu ciąg a więc krzycz oho ho odwagę w sercu miej wielorybów cielska groźne są lecz dostaniemy je i dla wieloryba już ostatni to dzień bo śmiały harpunnik uderza weń a więc krzycz oho ho odwagę w sercu miej wielorybów cielska groźne są lecz dostaniemy je ',\n",
       " 'już pustką świecą hale samotny gnie się świerk na granitowej skale zmęczony rogacz legł słoneczko ledwie wstaje a już się kładzie spać już tylko wiatr po polanie zaczyna liście gnać o już się złoci hora gromadki szuka ptak już to jesienna pora i bliskiej zimy znak buki jak ogień gorzą modrzewiom żółknie włos rano wschodzącą zorzę liliowy wita wrzos szałasy smutne stoją ogień nie trzaska w nich pasterze już nie poją w źródłach owieczek swych o już się złoci hora gromadki szuka ptak już to jesienna pora i bliskiej zimy znak ucichła już trąbita juhasów zamilkł śpiew tylko na skalnych szczytach wiatr śpiewa pośród drzew z południa tatry dumne patrzą na beskid swój a chmurki jak rozumne zdobią go w złoty strój o już się złoci hora gromadki szuka ptak już to jesienna pora i bliskiej zimy znak ',\n",
       " 'napełnij szklankę mi ostatni nalej raz napełnij szklankę mi i pójdę bo już czas nie płaczę pozwól pić bo wstyd mi sobą być napełnij szklankę mi napełnij szklankę mi pijemy zdrowie twe bo łatwo mówić że ułoży wszystko się że już nie będzie źle tym lepiej jeśli te proroctwa kłamstwem są upiję wkrótce się i zgubię ufność swą pijemy zdrowie tych co dziś weseli są przyjaciół krewnych złych co z mego życia drwią tym lepiej jeśli mnie rozdrażnią drwiną swą upiję wkrótce się i zgubię nienawiść swą napełnij szklankę mi ostatni nalej raz napełnij szklankę mi i pójdę bo już czas tym lepiej jeśli mnie rozdrażni wino twe upiję wkrótce się upiję wkrótce się za moje zdrowie pij pijemy z winy mnie i jeśli chcesz to bij a jeśli nie to nie tym lepiej jeśli mnie cios dosięgnie twój upiję wkrótce się i żal zgubię mój za te dziewczyny pij co będą kochać mnie za te dziewczyny pij co mówią o mnie źle tym lepiej jeśli te dziewczyny zimne są upiję wkrótce się i zgubię miłość swą więc pijmy póki czas aż zwalę się pod stół bym nie czuł to com czuł bym zgubił to com czuł więc pijmy póki źle więc pijmy żeby pić upiję wkrótce się nadziei zerwę nić napełnij szklankę mi ostatni nalej raz napełnij szklankę mi i pójdę bo już czas nie płaczę zostaw mnie rozjaśnia wszystko się napełnij szklankę mi napełnij szklankę mi ',\n",
       " 'czasami gdy mam chandrę i jestem sam kieruję wzrok za okno wysoko tam gdzie nad dachami domów i w noc i dniem nadpływa kołysząca marzeniem snem i ona taka w tej białej sukience jak piękny ptak który zapiera w piersi dech chwyciłem mocno jej obie ręce oczarowany zasłuchany w słodki śmiech i cała w żaglach jak w białej sukience jak piękny ptak który zapiera w piersi dech chwyciłem mocno ster w obie ręce i żeglowałem zasłuchany w fali śpiew wspomnienia przemijają w sercu żal wciąż w łajbę się przemienia dziewczęcy czar jeśli mi nie wierzysz to gnaj co tchu tam w kei możesz ujrzeć coś z mego snu i ona taka w tej białej sukience jak piękny ptak który zapiera w piersi dech chwyciłem mocno jej obie ręce oczarowany zasłuchany w słodki śmiech i cała w żaglach jak w białej sukience jak piękny ptak który zapiera w piersi dech chwyciłem mocno ster w obie ręce i żeglowałem zasłuchany w fali śpiew nie wiem czy jeszcze kiedyś zobaczę ją czy tylko w moich myślach jej oczy lśnią gdy pochylona ostro do wiatru szła znowu się przeplatają obrazy dwa i ona taka w tej białej sukience jak piękny ptak który zapiera w piersi dech chwyciłem mocno jej obie ręce oczarowany zasłuchany w słodki śmiech i cała w żaglach jak w białej sukience jak piękny ptak który zapiera w piersi dech chwyciłem mocno ster w obie ręce i żeglowałem zasłuchany w fali śpiew ',\n",
       " 'do szopy hej pasterze do szopy bo tam cud syn boży w żłobie leży by zbawić ludzki ród śpiewajcie aniołowie pasterze grajcie mu kłaniajcie się królowie nie zbudźcie go ze snu padnijmy na kolana to dziecię to nasz bóg witajmy swego pana miłości złóżmy dług śpiewajcie aniołowie pasterze grajcie mu kłaniajcie się królowie nie zbudźcie go ze snu ',\n",
       " 'na pokładzie od rana ciągle słychać bosmana bez potrzeby cholernie się drze choćbyś ręce poranił bosman zawsze cię zgani i powiada zrobione jest źle jeszcze raz czyścić działo cóż wam chłopcy się stało jak do żarcia to każdy się rwie to nie balia niemiecka trzeba wiedzieć od dziecka że to okręt wojenny rp ale czasem się zdarzy że się bosman rozmarzy każdy bosman uczucie to zna gdy go wtedy poprosisz swą harmonię przynosi siada w kącie na rufie i gra opowiada o morzach o bezkresnych przestworzach i o walkach co przeżył on sam o dziewczętach z bombaju co namiętnie kochają i całują tak mocno do krwi a gdy spytasz go tylko o czym marzył przed chwilką czemu nagle pojaśniał mu wzrok mówi w gdyni w orłowie będę chodził na głowie tak mi przypadł do serca ten port bosman skończył wiatr ścicha aż tu nagle u licha pojaśniało coś nagle we mgle poznał bosman jak cała polska w blaskach wstawała na pokładzie okrętu rp ',\n",
       " 'łaskawie chciej oszczędzić strzał wprost w plecy tego który dał nam tyle szczęścia kupidyn żartem napiął łuk a ty byś chciała zaraz już ustrzelić męża mam zaszczy więc nie prosić cię o rękę twą i zamiast niej wyciągnij ku mnie swoją dłoń chcę aby dzikich ptaków klucz otwierać wolność zawsze mógł bez której zginę precz z marynatą która ma zakonserwować serca dwa na wieczną zimę mam zaszczy więc nie prosić cię o rękę twą i zamiast niej wyciągnij ku mnie swoją dłoń czar wenus często traci moc gdy okazuje się że noc poświęca praniu za żadną cenę nie chcę by mej róży płatki w sosie szły na drugie danie mam zaszczy więc nie prosić cię o rękę twą i zamiast niej wyciągnij ku mnie swoją dłoń syreni blednie rychło blask gdy nim szafujesz raz po raz wszędzie i ciągle zatłuścić łatwo czuły list gdy wśród kotletów jarskich tkwi w kucharskiej księdze mam zaszczy więc nie prosić cię o rękę twą i zamiast niej wyciągnij ku mnie swoją dłoń może wydawać komuś się że puszka to odkrycie jest rewolucyjne lecz ja mam swój prywatny sąd i nie dam siebie wsadzić do konserwy rybnej mam zaszczy więc nie prosić cię o rękę twą i zamiast niej wyciągnij ku mnie swoją dłoń kucharki w tobie nie chcę mieć gosposia marna z ciebie jest więc daruj sobie zechciej mi tylko służyć tam gdzie miejsce jest dla wielkich dam i mnie pocałuj mam zaszczy więc nie prosić cię o rękę twą i zamiast niej wyciągnij ku mnie swoją dłoń ',\n",
       " ' zagubieni książę jesteśmy pod gwiazdami grzejemy ręce niebo śmieje się szeroko nasze niebo to jednak coś więcej niespokojnie książe żyjemy wśród szeptanych krucho skarg dzień do dnia się dodaje w dobrą gwiazdę trzeba wierzyć nam nasze wieczne ucieczki wycieczki nasze wzdychanie w nieznane kiedy niebo cię olśni wiesz że zaczął się wielki taniec pod gwiazdami książe jesteśmy pod gwiazdami grzejemy ręce niebo śmieje się otwarcie i nie trzeba wtedy nic więcej ',\n",
       " ' kiedy stałem w przedświcie a synaj prawdę głosił przez trąby wiatru zasmerczyły się chmury igliwiem bure świerki o góry wsparte i na niebie byłem ja jeden plotąc pieśni w warkocze bukowe i schodziłem na ziemię za kwestą przez skrzydlącą się bramę lackowej i był beskid i były słowa zanurzone po pępki w cerkwi baniach rozłożyście złotych smagających się wiatrem do krwi moje myśli biegały końmi po niebieskich mokrych połoninach i modliłem się złożywszy dłonie do gór do madonny brunatnolicej a gdy serce kroplami tęsknoty jęło spadać na góry sine czarodziejskim kwiatem paproci rozgwieździła się bukowina i był beskid i były słowa zanurzone po pępki w cerkwi baniach rozłożyście złotych smagających się wiatrem do krwi ',\n",
       " 'każdy twój wyrok przyjmę twardy przed mocą twoją się ukorzę ale chroń mnie panie od pogardy przed nienawiścią strzeż mnie boże wszak tyś jest niezmierzone dobro którego nie wyrażą słowa więc mnie od nienawiści obroń i od pogardy mnie zachowaj co postanowisz niech się ziści niechaj się wola twoja stanie ale zbaw mnie od nienawiści ocal mnie od pogardy panie ',\n",
       " 'creutzfeld jakob naszym przyjacielem jest ',\n",
       " ' nie żyje stary stormy już way hej mister stormalong nie żyje stary stormy już hej mister stormalong najlepszy ze wszystkich szyprów był lecz teraz śmierci cień go skrył urodził się gdzieś pod cape horn gdy szalał w morzu wielki sztorm pod cape horn gdzie potargał wiatr nam żagle i potrzaskał maszt z łańcuchem złotym aż na dno rzewnie płacząc spuśćmy go pół wieku pod żaglami trwał czy bryza wiała czy też szkwał nie krzyknie więcej żagle staw nie grożą mu już zęby raf bo już skończone jego dni i jak kotwica w morzu tkwi ciało rekiny będą mieć stormyego dusza diabła rzecz hej umarł stormy dzielny chwat way hej mister stormalong wielki kapitan z dawnych lat hej mister stormalong hej mister stormalong ',\n",
       " ' śmiechem pisane z kalendarza kartki rozwiały się po świecie u obcych ludzi śpią w rupieciach pamiątki niegdysiejszych zdarzeń leniwie daty chat się chylą przed karczmą w stylu nowoczesnym a tej dla ciebie słowa pieśni którego nie ma który byłeś znów pora nasza górska jesieni powietrze liśćmi rozzłocone pachnie drewnianym ciepłem domu i mrokiem starych opowieści przyjdzie rzuci twoje imię ze śmiechem spyta jak ci leci a tej dla ciebie słowa pieśni którego nie ma który byłeś dni na okrągło jak kapusta czas ani miodem ani mlekiem może czekaniem na człowieka wypełnić miejsce po nim puste znów pora nasza górska jesieni powietrze liśćmi rozzłocone pachnie drewnianym ciepłem domu i mrokiem starych opowieści znów pora nasza górska jesieni powietrze liśćmi rozzłocone pachnie drewnianym ciepłem domu i mrokiem starych opowieści ',\n",
       " 'mam ci pełną marzeń główkę morze myśli mnie rozmarza mam prześliczną małą łódkę tylko brak mi marynarza w łódce małej i ciaśniutkiej by rozszerzyć krąg podróży niech marynarz wetknie w łódkę jakiś maszt możliwie duży jestem bardzo młoda jeszcze obca morska mi robota och cudowne czuję dreszcze gdy mnie uczy trzymać szota i nie było wcale smutno gdy w około wody tafla a marynarz podniósł płótno żagla wzwyż stawiając gafla aż się rozszalało morze w górę w dół ja ptakiem rybką sztorm och błagam dobry boże niech się skończy nie za szybko gdy ucichły w końcu fale drżąc zmęczona się rozmarzam nie jest takie smutne wcale ciężkie życie marynarza ',\n",
       " 'jeszcze pod ręką globus z taką mapą świata na jaką stać strategię plany i marzenia jeszcze insygnia władzy sobolowa szata gęsty trefiony włos i ręki gest bez drżenia jeszcze w zasięgu dłoni zegar jeszcze wcześnie pewności siebie ruch wskazówki nie odbiera wzrok lustro duszy widzi wszystko nawet we śnie któremu spokój niesie cyfra i litera tyle zrobili już jak na swe młode lata ulega dziejów wosk ich nieomylnym śladom to george de selve obiecujący dyplomata i jean de dinteville francuski ambasador dyskretny przepych tylko echem dostojeństwa turecki dywan włoska lutnia znak obycia w milczących ustach bezwzględnego smak zwycięstwa w postawach wielkość osiągnięta już za życia ciężka kotara obu wspiera tym co kryje patrzą przed siebie śmiało pewni swoich racji wszak dyplomacja włada wszystkim dziś co żyje a oni kwiat szesnastowiecznej dyplomacji nie wiedzą co to ból co dżuma albo katar zachciankom wielkich świat uczyni zawsze zadość to george de selve obiecujący dyplomata i jean de dinteville francuski ambasador lecz w nastrojonej lutni nagle struna pęka i żółkną brzegi kart w otwartej wiedzy księdze za krucyfiksem błądzi mimowolnie ręka strzałka zegara iść zaczyna coraz prędzej straszliwy kształt przed nimi zjawia się w pół kroku i niszczy spokój czy artysta się wygłupia nie to nie żart na kształt ten trzeba spojrzeć z boku żeby zobaczyć jasno że to czaszka trupia byli i nie ma ich ach cóż za wielka strata jak nazywali się któż dzisiaj tego świadom ach george de selve obiecujący dyplomata ach jean de dinteville francuski ambasador ',\n",
       " ' jeszcze się w nocy kołysze miasto na stawach bar bramę otwiera wchodzimy tedy ja i hnatowicz jan co tu zostało z wierszy mistrza klasa robotnicza fasolka z bufetu a smak poranny piwa łapczywie poznają poematy w beretach wszedł dzielnicowy krokiem szeryfa tępo spod dacha popatrzył nie mieści mu się w głowie służbowej że można wypić na czczo co tu zostało z wierszy mistrza kiedy trzeba wyjść na papierosa a bufetowa grozi gliną gdy ktoś coś powie głośniej pod ścianą zaraz przy wejściu paląc sporty z rękawa siedli goście wprost z wierszy mistrza bubu makino wypisz wymaluj słuchaliśmy ich z hnatowiczem jak żywy poemat stawów poezją był brzęk ich kufli kosmiczny wymiar miały słowa lecz chłopakom od sąsiedniego stolika chyba z podstawówki pobliskiej nagle się dziwnie zachciało żeby te zgredy wyszli co tu zostało z wierszy mistrza chłodem powiało od drzwi niedomkniętych i wyszliśmy z hnatowiczem gdzie indziej szukać poezji ',\n",
       " 'chcę dzień nowy zawsze witać gdzieś daleko razem z tobą zapach siana w stajni wdychać kurz przebytej drogi chcę mieć z tobą piec kaflowy dwoje dzieci i podróże trochę słońca a gdy trzeba z piorunami burze czeka nas w dolinie gdzieś na końcu świata zima sroga a daleka i jesienna chlapa czeka nas w dolinie drewniane poddasze dzikie wino na murze i senny bieg zdarzeń czeka nas w dolinie urwana rozmowa i kołyska pod ścianą buk klon i brzoza chcę dla ciebie słów i ciszy niepokojów które łamią wierszy które ukołyszą i nie będą kłamać chcę dla ciebie wrarzeń myśli tych nie dokończonch nocy które ukołyszą miłość twą szaloną czeka nas w dolinie gdzieś na końcu świata zima sroga a daleka i jesienna chlapa czeka nas w dolinie drewniane poddasze dzikie wino na murze i senny bieg zdarzeń czeka nas w dolinie urwana rozmowa i kołyska pod ścianą buk klon i brzoza ',\n",
       " 'późno już otwiera się mrok sen podchodzi do drzwi na palcach jak kot nadchodzi czas ucieczki na aut gdy kolejny mój dzień wspomieniem się stał jaki był ten dzień co darował co wziął czy mnie wyniósł pod niebo czy rzucił na dno jaki był ten dzień czy coś zmienił czy nie czy był tylko nadzieją na dobre i złe łagodny mrok zasłania mi twarz jakby przeczuł że chcę być sobą choć raz nie skarżę się że mam to co mam że przegrałem coś znów że jestem znów sam jaki był ten dzień co darował co wziął czy mnie wyniósł pod niebo czy rzucił na dno jaki był ten dzień czy coś zmienił czy nie czy był tylko nadzieją na dobre i złe ',\n",
       " 'gdy się chrustus rodzi i na świat przychodzi ciemna noc w jasności promienistej brodzi aniołowie się radują pod niebiosy wyśpiewują gloria gloria gloria in exelsis deo mówią do pasterzy którzy trzód swych strzegli aby do betlejem czem prędzej pobiegli bo się narodził zbawiciel wszego świata odkupiciel gloria gloria gloria in exelsis deo o niebieskie duchy i posłowie nieba powiedzcie wyraźnie co nam czynić trzeba bo my nic nie pojmujemy ledwo od strachu żyjemy gloria gloria gloria in exelsis deo idźcie do betlejem gdzie dziecię zrodzone w pieluszki powite w żłobie położone oddajcie mu pokłon boski on osłodzi wasze troski gloria gloria gloria in exelsis deo ',\n",
       " 'żegnamy gasnący dzień i mgły co nad wodą i wiatr co w szuwarach zaplątał się tak jak mucha we włosach rozczochranych i cień lipcowej nocy co błądzi gdzieś po dnie z parą pasiastych okoni dobranoc niebo dobranoc wodo dobranoc już dobranoc już pora rozbijać namioty i zbierać chrust na ognisko chleb kroić powszedni i z wiadrem po wodę iść do zagrody lecz jeszcze popatrzymy jezioro się złoci słońce czerwono tak nisko dobranoc niebo dobranoc wodo dobranoc już dobranoc ',\n",
       " 'tam gdzie szkoła na nowowiejskiej street harcerzyków luźny oddział szedł drużynie trzeba dziś świeżej krwi harcerzyków dwudziestej pierwszej a że byłem wtedy durny kiep kota szybko wzięła mnie za łeb w słoniowe trepy obuli mnie harcerzyki z dwudziestej pierwszej jak o prawa upominać się lech z magnudem nauczyli mnie niejeden zuch dzięki temu wył mały zuch z dwudziestej pierwszej nikt nie zliczy ile forsy dał parking na który ekspert wszystkich gnał dla chwały twej o drużyno ma dla kochanej dwudziestej pierwszej hen daleko miły został dom kiedyś dostał kopertę do swych rąk komendant ten numer wyciął ci adaś foland z dwudziestej pierwszej gdy harcerzy szyk formuje się w żadnym rzędzie nie zobaczysz mnie w nieznane podły wiedzie los los bs z dwudziestej pierwszej ',\n",
       " 'gdy zakochasz się w szarej lilijce i w świetlanym harcerskim krzyżu kiedy olśni cię blask ogniska jedną radę ci dam załóż mundur i przypnij lilijkę czapkę na bakier włóż w szeregu stań wśród harcerzy i razem z nimi w świat rusz razem z nimi będziesz wędrował po łysicy i świętym krzyżu poznasz piękno gór świętokrzyskich które powiedzą ci tak załóż mundur i przypnij lilijkę czapkę na bakier włóż w szeregu stań wśród harcerzy i razem z nimi w świat rusz gdy po latach będziesz wspominał swą przygodę w harcerskiej drużynie swemu dziecku co dorastać zaczyna jedną radę mu dasz załóż mundur i przypnij lilijkę czapkę na bakier włóż w szeregu stań wśród harcerzy i razem z nimi w świat rusz ',\n",
       " ' powiedz mi powiedz co byś chciała cuda ja czynię cuda moja mała martwe zamieniam w żywe zgasłe w płonącą grzywę powiedz mi co byś chciała na błękicie jest polana dwa obłoki to hosanna jeden chłopak drugi panna jeśli chcesz jeszcze więcej wezmę cię ja wezmę na ręce w góry uniosę dzikie zastęp latawców skrzyknę jeśli chcesz jeszcze wyżej na błękicie jest polana dwa obłoki to hosanna jeden chłopak drugi panna powiedz mi powiedz co byś chciała cuda ja czynię cuda moja mała masz chęć na lody może albo na młode zboże wszystko dla ciebie dziś zrobię mój ty mały wielki boże na błękicie jest polana dwa obłoki to hosanna jeden chłopak drugi panna ',\n",
       " 'a jeśli zabraknie na koncie pieniędzy i w kącie zagnieździ się bieda po rozum do głowy pobiegnę niech powie co sprzedać by siebie nie sprzedać zapiszę śniegiem w kominie zaplotę z dymu warkoczyk i zanim zima z gór spłynie wrócę zapiszę śniegiem w kominie zaplotę z dymu warkoczyk i zanim zima z gór spłynie wrócę i będę z powrotem a jeśli nie znajdę w swej głowie rozumu to paszport odnajdę w szufladzie zapytam go może on pewnie pomoże poradzi jak sobie poradzić zapiszę śniegiem w kominie zaplotę z dymu warkoczyk i zanim zima z gór spłynie wrócę zapiszę śniegiem w kominie zaplotę z dymu warkoczyk i zanim zima z gór spłynie wrócę i będę z powrotem a jeśli zabraknie ci w sercu nadziei bo powrót jest zawsze daleko przypomnij te słowa wyśpiewaj od nowa bym wiedział że ktoś na mnie czeka zapiszę śniegiem w kominie zaplotę z dymu warkoczyk i zanim zima z gór spłynie wrócę zapiszę śniegiem w kominie zaplotę z dymu warkoczyk i zanim zima z gór spłynie wrócę i będę z powrotem ',\n",
       " ' skąd przychodził kto go znał kto mu rękę podał kiedy nad rowem siadał wyjmował chleb serem przekładał i dzielił się z psem tyle wszystkiego co z sobą miał majster bieda czapkę z głowy ściągał gdy wiatr gałęzie chylił drzewom śmiał się do słońca i śpiewał do gwiazd drogę bez końca co przed nim szła znał jak pięć palców jak szeląg zły majster bieda nikt nie pytał skąd się wziął gdy do ognia się przysiadał wtulał się w krąg ciepła jak w kożuch znużony drogą wędrowiec boży zasypiał długo gapiąc się w noc majster bieda aż nastąpił taki rok smutny rok tak widać trzeba nie przyszedł bieda zieloną wiosną miejsce gdzie siadał zielskiem zarosło i choć niejeden wytężał wzrok choć lato pustym gościńcem przeszło z rudymi liśćmi jesieni schedą wiatrem niesiony popłynął w przeszłość wiatrem niesiony popłynął w przeszłość wiatrem niesiony popłynął w przeszłość majster bieda ',\n",
       " 'on natchniony i młody był ich nie policzyłby nikt on im pieśnią dodawał sił śpiewał że blisko już świt świec tysiące palili mu znad głów podnosił się dym śpiewał że czas by runął mur oni śpiewali wraz z nim wyrwij murom zęby krat zerwij kajdany połam bat a mury runą runą runą i pogrzebią stary świat wkrótce na pamięć znali pieśń i sama melodia bez słów niosła ze sobą starą treść dreszcze na wskroś serc i głów śpiewali więc klaskali w rytm jak wystrzał poklask ich brzmiał i ciążył łańcuch zwlekał świt on wciąż śpiewał i grał wyrwij murom zęby krat zerwij kajdany połam bat a mury runą runą runą i pogrzebią stary świat aż zobaczyli ilu ich poczuli siłę i czas i z pieśnią że już blisko świt szli ulicami miast zwalali pomniki i rwali bruk ten z nami ten przeciw nam kto sam ten nasz najgorszy wróg a śpiewak także był sam patrzył na równy tłumów marsz milczał wsłuchany w kroków huk a mury rosły rosły rosły łańcuch kołysał się u nóg ',\n",
       " 'bóg się rodzi moc truchleje pan niebiosów obnażony ogień krzepnie blask ciemnieje ma granicę nieskończony wzgardzony okryty chwałą śmiertelny król nad wiekami a słowo ciałem się stało i mieszkało między nami cóż masz niebo nad ziemiany bóg porzucił szczęście twoje wszedł między lud ukochany dzieląc z nim trudy i znoje niemało cierpiał niemało żeśmy byli winni sami a słowo ciałem się stało i mieszkało między nami w nędznej szopie urodzony żłób mu za kolebkę dano cóż jest czym był otoczony bydło pasterze i siano ubodzy was to spotkało witać go przed bogaczami a słowo ciałem się stało i mieszkało między nami podnieś rękę boże dziecię błogosław ojczyznę miłą w dobrych radach w dobrym bycie wspieraj jej siłę swą siłą dom nasz i majętność całą i wszystkie wioski z miastami a słowo ciałem się stało i mieszkało między nami ',\n",
       " 'uderzył deszcz wybuchła noc przy drodze pusty dwór w katedrach drzew w przyłbicach gór wagnerowski ton za witraża dziwnym szkłem pustych komnat chłód w szary pył rozbity czas martwy pusty dwór dorzucam drew bo ogień zgasł ciągle burza trwa nagle feeria barw i mnóstwo świec ktoś na skrzypcach gra gotyckie odrzwia chylą się i skrzypiąc suną w bok i biała pani płynie z nich w brylantowej mgle zawirował z nami dwór rudych włosów płomień nad górami lecę lecę z nią różę trzyma w dłoni a po nocy przychodzi dzień a po burzy spokój nagle ptaki budzą mnie tłukąc się do okien a po nocy przychodzi dzień a po burzy spokój znowu szary pusty dom gdzie schroniłem się nagle ptaki budzą mnie tłukąc się do okien i najmilsza z wszystkich wszystkich mi na witraża szkle a po nocy przychodzi dzień a po burzy spokój znowu w drogę w drogę trzeba iść w życie się zanurzyć nagle ptaki budzą mnie tłukąc się do okien chociaż w ręce jeszcze tkwi lekko zwiędła róża a po nocy przychodzi dzień a po burzy spokój lecz po nocy przychodzi dzień a po burzy spokój nagle ptaki budzą mnie tłukąc się do okien nagle ptaki budzą mnie tłukąc się do okien ',\n",
       " 'szedłem kiedyś po pustyni tam mnie napadł goryl dziki hej hej hej hej hej a pustynia była wielka więc na drzewo jemu zwiałem hej hej hej hej hej dżungla dżungla pustynia dżungla dżungla pustynia dżungla dżungla pustynia pewnej księżycowej nocy kobra zjadła mi pięć kocy hej hej hej hej hej zawinięty w szósty byłem i dynamit podpaliłem hej hej hej hej hej dżungla dżungla pustynia dżungla dżungla pustynia dżungla dżungla pustynia raz tubylcy mnie złapali no i zjeść mnie zamierzali hej hej hej hej hej ale ja co jeść nie miałem i ich wszystkich pozjadałem hej hej hej hej hej dżungla dżungla pustynia dżungla dżungla pustynia dżungla dżungla pustynia proszę państwa oto miś miś jest bardzo grzeczny dziś hej hej hej hej hej chętnie państwu łapę poda nie chce podać a to szkoda hej hej hej hej hej dżungla dżungla pustynia dżungla dżungla pustynia dżungla dżungla pustynia dzik jest dziki dzik jest zły dzik ma bardzo ostre kły hej hej hej hej hej kto spotyka w lesie dzika ten na drzewo zaraz zmyka hej hej hej hej hej dżungla dżungla pustynia dżungla dżungla pustynia dżungla dżungla pustynia na go na go na gondoli pewna para się całuje hej hej hej hej hej wietrzyk bardzo łajbą buja ona trzyma go za rękę hej hej hej hej hej dżungla dżungla pustynia dżungla dżungla pustynia dżungla dżungla pustynia idzie harcerz borem lasem wymachuje swym kompasem hej hej hej hej hej a harcerka robi zupę harcerz łapię ją za słowa hej hej hej hej hej dżungla dżungla pustynia dżungla dżungla pustynia dżungla dżungla pustynia ',\n",
       " 'czy pamiętasz starca na zamkniętym siedział targu kopał gazety starymi buciorami a jego oczy nie prosiły już o nic sprzedawał czas wczorajszymi nowościami więc jak możesz mówić że jesteś sam że dla ciebie słońce nie świeci już daj mi swą dłoń a pokażę ci londyn i może wtedy zmienisz swoje zdanie czy pamiętasz kobietę która błąka się po mieście w jej pięknej niegdyś sukni nie zliczyłbyś dziś łat już nic nie mówi wzrok ją niesie przed siebie w dwóch starych torbach cały dom swój ma więc jak możesz mówić że jesteś sam że dla ciebie słońce nie świeci już daj mi swą dłoń a pokażę ci londyn i może wtedy zmienisz swoje zdanie czy pamiętasz starego pijaka z dzielnicy slumsów jestcieniem swego życia ulica to jego dom ciepłem darmowej zupy ogrzał dłonie swe pomyśl jeśli umrze dziś czy ktoś uroni łzę więc jak możesz mówić że jesteś sam że dla ciebie słońce nie świeci już daj mi swą dłoń a pokażę ci londyn i może wtedy zmienisz swoje zdanie przed przytułkiem dla biednych żołnierzy stary człowiek siadł blask jego medali czas już dawno skradł i tylko o litość prosi w swej pieśni zimowy wiatr dla bohaterów o których zapomniał bezduszny świat więc jak możesz mówić że jesteś sam że dla ciebie słońce nie świeci już daj mi swą dłoń a pokażę ci londyn i może wtedy zmienisz swoje zdanie ',\n",
       " 'kiedy w piątek świeci słońce serce mi do góry wzlata że w sobotę wezmę plecak w podróż do mojego świata bo ja mam tylko jeden świat słońce góry pola wiatr i nic mnie więcej nie obchodzi bom turystą się urodził dla mnie w mieście jest za ciasno wśród pojazdów kurzu spalin ja w zieloną jadę ciszę w ścieżki pełne słodkich malin bo ja mam tylko jeden świat słońce góry pola wiatr i nic mnie więcej nie obchodzi bom turystą się urodził myślę leżąc pośród kwiatów czy w jęczmienia żółtym łanie czy przypadkiem za pół wieku coś z tym światem się nie stanie bo ja mam tylko jeden świat słońce góry pola wiatr i nic mnie więcej nie obchodzi bom turystą się urodził chciałbym żeby ten mój świat przetrwał jeszcze tysiąc lat żeby mogły nasze dzieci z tego świata też się cieszyć bo ja mam tylko jeden świat słońce góry pola wiatr i nic mnie więcej nie obchodzi bom turystą się urodził ',\n",
       " 'idziemy w jasną z błękitu utkaną dal drogą wśród łąk pól bezkresnych i wśród zbóż szumiących fal cicho szeroko jak okiem spojrzenie śle jakieś się snują marzenia w wieczornej spowitej mgle idziemy naprzód i ciągle pniemy się wzwyż by zdobyć szczyt ideałów świetlany harcerski krzyż ',\n",
       " 'popatrz niebo się kłania niebo różowe wiatrem sypane w kolorze słońce przychodzi jak gość najlepszy wiatr się umila na wietrzyk jeszcze się tyle stanie jeszcze się tyle zmieni rosną nam nowe twarze do słońca popatrz drzewo się czesze drzewo olbrzymie po niebie gałęźmi wiatr pisze rzeka się śmieje dobrą nowiną wszystkie żalw odpłyną jeszcze się tyle stanie jeszcze się tyle zmieni rosną nam nowe twarze do słońca ',\n",
       " 'stanął w ogniu nasz wielki dom dym w korytarzach kręci sznury jest głęboka naprawdę czarna noc z piwnic płonące uciekają szczury krzyczę przez okno czoło w szybę wgniatam haustem powietrza robię w żarze wyłom ten kto mnie słyszy ma mnie za wariata woła co jeszcze świrze ci się śniło więc chwytam kraty rozgrzane do białości twarz swoją widzę twarz w przekleństwach a obok sąsiad patrzy z ciekawością jak płonie na nim kaftan bezpieczeństwa dym w dziurce od klucza a drzwi bez klamek pękają tynki wzdłuż spoconej ściany wsuwam swój język w rozpalony zamek śmieje się za mną ktoś jak obłąkany lecz większość śpi nadal przez sen się uśmiecha a kto się zbudzi nie wierzy w przebudzenie krzyk w wytłumionych salach nie zna echa na rusztach łóżek milczy przerażenie ci przywiązani dymem materacy przepowiadają życia swego słowa nam pod nogami żarzą się posadzki deszcz iskier z sufitu osiada na głowach dym coraz gęstszy obcy ktoś się wdziera a my wciśnięci w najdalszy sali kąt tędy wrzeszczy niech was jasna cholera a my nie chcemy uciekać stąd a my nie chcemy uciekać stąd krzyczymy w szale wściekłości i pokory stanął w ogniu nasz wielki dom dom dla psychicznie i nerwowo chorych ',\n",
       " 'zapada zmrok już świat ukołysany znów jeden dzień odfrunął nam jak ptak panience swej piosenkę na dobranoc zaśpiewać chcę w ostatnią chwilę dnia i chociaż wnet ostatnie światła zgasną opieka twa rozproszy nocy mrok uśpionym wsiom ukołysanym miastom panienko daj szczęśliwą dobrą noc i ludzkim snom błogosław dłonią jasną i oddal od nich cień codziennych trosk i tym co znów nie będą mogli zasnąć panienko daj szczęśliwą dobrą noc a komu noc czuwaniem jest niełatwym na czas bezsenny siłę daj i moc i tym co dzisiaj zasną raz ostatni panienko daj szczęśliwą dobrą noc zasypia świat piosenką kołysany odpłyną dzień by jutro wrócić znów uśmiecham się do ciebie na dobranoc piastunko moich najpiękniejszych snów ',\n",
       " ' zawieja w michigan zapada serce w śnieg pustkowie ciągnie się wysepki żadnej drzew ni domu z domu gest wejdź wejdź wejdź wejdź wejdź pustkowie hen i hen zawieja mróz i biel zawyłem aż po kres czy spodziewać się że a wicher w trąbki dmie nie nie nie nie nie miłości nasze tam są tam gdzie nie ma nas u boga w środku gwiazd pokochał też bym brak i cały słałbym blask w dal w dal w dal w dal w dal ',\n",
       " 'w sierocińcu po dziedzińcu chodzą dzieci w koło a za siatką wróbli stadko bawi się wesoło rozćwierkały w świecie całym stąd i ja wiem o tym że to wprawdzie sierociniec ale nie sieroty moja mama jest w paryżu a mój tata siedzi siostrę miesiąc już w ukryciu trzymają sąsiedzi z łóżka mnie nad ranem wzięli kiedy tatę brali mówiąc teraz my będziemy cię wychowywali twoja stara zwiała szczwana i nieprędko wróci stary wyrok ma nagrany trójkę z karku zrzuci i co począć z takim fantem niech się państwo głowi chcesz być małym milicjantem popraw broń wujkowi kim chcę być ani ja myślę mówić byle komu tylko martwię się kto przyjdzie mieszkać u nas w domu w sierocińcu po dziedzińcu chodzą dzieci w koło a za siatką wróbli stadko bawi się wesoło rozćwierkały w świecie całym stąd i ja wiem o tym że to wprawdzie sierociniec ale nie sieroty tata z mamą są w obozie od pierwszej niedzieli im jest znacznie niż mnie gorzej bo nic nie wiedzieli o tym że ja tutaj jestem nie wie nikt znajomy żebym tak mógł chociaż jeszcze wysłać list do domu ulepiliśmy bałwana w czarnych okularach obsikaliśmy go z rana i stanęli w parach baczność spocznij mówi do nas dziś generał straszak wrona orła nie pokona wiosna będzie nasza w sierocińcu po dziedzińcu chodzą dzieci w koło a za siatką wróbli stadko bawi się wesoło rozćwierkały w świecie całym stąd i ja wiem o tym że to wprawdzie sierociniec ale nie sieroty tato był w kopalni kiedy wojsko szło do boju opowiadał górnik jeden co uciekł z konwoju opowiadał mojej mamie że ich otoczyli tato z szuflą stał przy bramie i go tam zabili mamę wzieli do szpitala i pod drzwiami stoją ale ja nie myślę wcale czekać aż nas zgnoją gdy się skończy już to wszystko gdzieś około lata będę antysocjalistą takim jak mój tata w sierocińcu po dziedzińcu chodzą dzieci w koło a za siatką wróbli stadko bawi się wesoło rzucisz śniegiem zamiast chlebem wróbli sejm odleci a po lodzie tak jak codzień będą chodzić dzieci ',\n",
       " 'był pięćdziesiąty dziewiąty rok pamiętam ten grudniowy dzień gdy ośmiu mężczyzn zabrał sztorm gdzieś w oceanu wieczny cień w grudniowy płaszcz okryta śmierć spod czarnych nieba zeszła chmur przy brzegu konał smukły bryg na pomoc mona poszła mu gdy przyszedł sygnał każdy z nich wpół dojedzonej strawy dzban porzucił by na przystań biec by ruszyć w dziki z morzem tan był pięćdziesiąty dziewiąty rok pamiętam ten grudniowy dzień gdy ośmiu mężczyzn zabrał sztorm gdzieś w oceanu wieczny cień a fale wściekle biły w brzeg ryk morza tłumił chłopców krzyk mona do brygu dzielnie szła lecz brygu już nie widział nikt na brzegu kobiet niemy szloch w ramiona ich nie wrócą już gdy oceanu twarda pięść uderzy w ratowniczą łódź był pięćdziesiąty dziewiąty rok pamiętam ten grudniowy dzień gdy ośmiu mężczyzn zabrał sztorm gdzieś w oceanu wieczny cień i tylko krwawy słońca dysk schyliło już po ciężkim dniu mrok okrył morze niebo brzeg wiecznego całun ścieląc snu wiem dobrze że synowie ich też w morze pójdą kiedy znów do oczu komuś zajrzy śmierć i wezwie ratowniczą łódź był pięćdziesiąty dziewiąty rok pamiętam ten grudniowy dzień gdy ośmiu mężczyzn zabrał sztorm gdzieś w oceanu wieczny cień ',\n",
       " 'czas płynie wciąż tak jak wąż poplątany ogon dnia minionego mgłą ktoś wypatruje nocą gwiazd zimny śmiech wiatru gwizd szary przedsmak świata jest nie ma nic chwil minionych już nie złapiesz tylko czas płynie wciąż tak jak wąż poplątany ogon dnia minionego mgłą ktoś wypatruje nocą gwiazd zimny śmiech wiatru gwizd szary przedsmak świata jest nie ma nic chwil minionych już nie złapiesz spójrz oto życia twego tajemnicza księga pisana piórem gwiazd atramentem tęczy w ozdobnych kartach zatrzymany czas burzowe chmury słoneczny blask świat znany i nieznany czas płynie wciąż tak jak wąż poplątany ogon dnia minionego mgłą ktoś wypatruje nocą gwiazd zimny śmiech wiatru gwizd szary przedsmak świata jest nie ma nic chwil minionych już nie złapiesz tylko czas płynie wciąż tak jak wąż poplątany ogon dnia minionego mgłą ktoś wypatruje nocą gwiazd zimny śmiech wiatru gwizd szary przedsmak świata jest nie ma nic chwil minionych już nie złapiesz patrz w pajęczynę zawiązane twoje drogi poplątane wiatrem pomylone mrokiem w zaułków gąszczu spłoszona myśl iluzja przepaść wątła nić ostrożnie stawiasz kroki czas płynie wciąż tak jak wąż poplątany ogon dnia minionego mgłą ktoś wypatruje nocą gwiazd zimny śmiech wiatru gwizd szary przedsmak świata jest nie ma nic chwil minionych już nie złapiesz tylko czas płynie wciąż tak jak wąż poplątany ogon dnia minionego mgłą ktoś wypatruje nocą gwiazd zimny śmiech wiatru gwizd szary przedsmak świata jest nie ma nic chwil minionych już nie złapiesz spójrz w starym kotle kipi wywar z twoich marzeń pragnienie żądza potrzeba władza w kipieli wiary namiętności błysk w oparach jawy tęsknoty krzyk obejrzyj się za siebie wiedz ja znam wszystkie twoje tajemnice układam twoje myśli niczego nie ukryjesz to moja dłoń układa twój szlak pod nogi piasek czy w plecy wiatr beze mnie nic nie znaczysz czas płynie wciąż tak jak wąż poplątany ogon dnia minionego mgłą ktoś wypatruje nocą gwiazd zimny śmiech wiatru gwizd szary przedsmak świata jest nie ma nic chwil minionych już nie złapiesz tylko czas płynie wciąż tak jak wąż poplątany ogon dnia minionego mgłą ktoś wypatruje nocą gwiazd zimny śmiech wiatru gwizd szary przedsmak świata jest nie ma nic chwil minionych już nie złapiesz ',\n",
       " 'kubuś puchatek był miś malutki sypiał przykładnie nie pijał wódki jedną miał wadę wśród zalet tylu o męskim myślał wciąż seksapilu mmm mmm mruczanka mruczanka kubuś puchatek mała świntusia bo w poniedziałek to zaraz musiał chwytał telefon co stał pod krzaczkiem wołał prosiaczka i żył z prosiaczkiem mmm mmm mruczanka mruczanka we wtorek myślał skrobiąc swą miskę w jakiej pozycji można z tygryskiem a w środę gdy się już zdecydował zwabił tygryska i zdeprawował mmm mmm mruczanka mruczanka w czwartek miał kubuś problem totalny bo się spotkali już naturalnie najpierw ze strachem rzekł potem hardziej to właśnie tygrys lubił najbardziej mmm mmm mruczanka mruczanka w piątek zaś kubuś miał problem z głowy los mu podsunął obiekt gotowy sam kłapouchy rzekł doń kolego weź raz biednego kłapouchego mmm mmm mruczanka mruczanka ktoś opowiadał kawał ladaco że z kangurzycą miał miś co nieco lecz to są plotki zazdrosnych panien bo nie był kubuś erotomanem mmm mmm mruczanka mruczanka ',\n",
       " 'do nieba leci mały rycerz wybuchem rozerwany w strzępy w rzeczypospolitej granice tureckie kładą się zastępy pęka imperium pełne swobód rozerwą je sąsiedzi rychło jak basi rzekł tak powie bogu pan michał swoje credo nic to trzęsie się z płaczu pan zagłoba nad symboliczną polski trumną i krwi nie woła sam nad grobem bo umrzeć łatwo żyć jest trudno więc szloch rycerskie trzęsie piersi kaja bohater się i nicpoń wobec tak niepojętej śmierci o której michał rzekł że nic to lecz nic to śmierć czy nic to życie potyczki zwady i miłostki do nieba leci mały rycerz do nieba jest najbliżej z polski swoje odsłuchał i odsłużył wiatraczkiem sztychem fintą płytką i oto dzieło jego w gruzy więc rację chyba miał że nic to nie znał mądrości swej żołnierzyk zajęty baśką i szabelką nie wątpić w sens ofiary wierzyć jest rzeczą łatwą bywa wielką lecz potem wbrew serc pokrzepieniu łzę cenić tylko na policzku i na niebieskim na sklepieniu wypisać krwią dewizę nic to ',\n",
       " 'żegnajcie nam dziś hiszpańskie dziewczyny żegnajcie nam dziś marzenia ze snów ku brzegom angielskim już ruszać nam pora lecz kiedyś na pewno wrócimy tu znów i smak waszych ust hiszpańskie dziewczyny w noc ciemną i złą nam będzie się śnił leniwie popłyną znów rejsu godziny wspomnienie ust waszych przysporzy nam sił niedługo ujrzymy znów w dali cape deadman i głowę baranią sterczącą wśród wzgórz i statki stojące na redzie przy plymouth klarować kotwicę najwyższy czas już i smak waszych ust hiszpańskie dziewczyny w noc ciemną i złą nam będzie się śnił leniwie popłyną znów rejsu godziny wspomnienie ust waszych przysporzy nam sił a potem znów żagle na masztach rozkwitną kurs szyper wyznaczy na portland i wight i znów stara łajba potoczy się ciężko przez fale w kierunku na beachie fairlie i smak waszych ust hiszpańskie dziewczyny w noc ciemną i złą nam będzie się śnił leniwie popłyną znów rejsu godziny wspomnienie ust waszych przysporzy nam sił zabłysną nam bielą skał zęby spod dover i znów noc w kubryku wśród legend i bajd powoli i znojnie tak płynie nam życie na wodach i w portach south foreland light i smak waszych ust hiszpańskie dziewczyny w noc ciemną i złą nam będzie się śnił leniwie popłyną znów rejsu godziny wspomnienie ust waszych przysporzy nam sił ',\n",
       " 'wystukaj po torach do mnie list wtedy naprawdę nie wyjedziesz cała niech będzie w nim lokomotywy gwizd tylko to zrób jeszcze dla mnie mała wystukaj po torach do mnie list choćby w alfabecie morsea moja ulica jeszcze twardo śpi jeśli tak chcesz w liście zostań a mogliśmy mała razem łąką iść świt witać po kolana w rosie a mogliśmy mała razem piwo pić dom nasz zamienić na sto pociech a mogliśmy mała konie kraść z niebieskiego boskiego pastwiska a mogliśmy mała w środku lata zbudować słoneczną przystań napisz od serca do mnie list i zamieszkaj w tym liście cała niech śmiechu dużo będzie w nim obiecaj mi to dzisiaj mała napisz od serca do mnie list lecz proszę nie wysyłaj go nigdy w szufladzie zamknij go na klucz niech czeka wciąż lepszych dni a mogliśmy mała razem łąką iść świt witać po kolana w rosie a mogliśmy mała razem piwo pić dom nasz zamienić na sto pociech a mogliśmy mała konie kraść z niebieskiego boskiego pastwiska a mogliśmy mała w środku lata zbudować słoneczną przystań ',\n",
       " 'mozolny twardy i trudny jest nasz wielorybniczy znój lecz nie przestraszy nas sztormów ryk i nie zlęknie groza burz dziś powrotnym kursem wracamy znów rejsu chyba to ostatnie dni i każdy w sercu już chyba ma piękne panny ze starej maui płyńmy w dół do starej maui już czas fc płyńmy w dół do starej maui arktyki blask już pożegnać czas płyńmy w dół do starej maui z północnym sztormem już płynąć czas wśród lodowych groźnych gór i dobrze wiemy że nadszedł czas ujrzeć niebo z tropikalnych chmur dziesięć długich miesięcy zostało gdzieś wśród piekielnej kamczackiej mgły żegnamy już arktyki blask i płyniemy do starej maui płyńmy w dół do starej maui za sobą mamy już diamond head no i groźne stare oahu tam maszty i pokład na długo skuł wszechobecny groźny lód jak odrażająca i straszna jest biel arktyki tego nie wie nikt za sobą mamy już setki mil czas wziąć kurs do starej maui płyńmy w dół do starej maui lody zostały za rufą gdzieś ciepła bryza w żagle dmie że piękne dziewczyny czekają już na nasz powrót każdy wie czarne oczy ich wypatrują nas chciałby każdy szybko być wśród nich więc szybciej łajbo nam się tocz tam do dziewczyn ze starej maui płyńmy w dół do starej maui harpuny już odłożyć czas starczy dość już wielorybiej krwi już pełne tranu beczki masz płynne złoto sprzedasz w mig za swój żywot psi za trud i znój kiedyś w niebie dostaniesz złoty tron o dzięki ci boże że każdy mógł wrócić do rodzinnych stron płyńmy w dół do starej maui kotwica mocno trzyma dno wreszcie ujrzysz ukochany dom przed nami główki portów już i kościelny słychać dzwon a na lądzie uciech nas czeka sto wnet zobaczysz dziatki swe na spacer weźmiesz żonę swą i zapomnisz wszystkie chwile złe płyńmy w dół do starej maui ',\n",
       " 'siedzieliśmy pod jodłą dobrze nam się wiodło kapitan farel stary zgred postawić nie chciał whisky trzy razy mu mówiłem uprzejmie go prosiłem lecz pycha rozpierała go a nam już wyschły pyski więc dałem jemu w nos co myśli sobie co myśli wredny typ postawić nie chciał nam wybrałem się do mary chodziłem tam dni cztery ekonom paddy suczysyn wciąż dawał jej robotę trzy razy mu mówiłem uprzejmie go prosiłem lecz nie posłuchał łobuz mnie do dziś ma mary cnotę więc dałem jemu w nos co myśli sobie co myśli wredny typ pozwolić nie chciał nam w dublinie przy niedzieli pięć funtów nam gwizdnęli właściciel pubu tłusty byk chciał funta na zapłatę trzy razy mu mówiłem uprzejmie go prosiłem lecz nerwy ciut poniosły mnie zepsutą ma facjatę bo dałem jemu w nos co myśli sobie co myśli wredny typ odpuścić nie chciał nam na trakcie przez przypadek coś też mnie kopnął w zadek łapaczy oddział wyrwał mnie tak jak borsuka z dziury na okręt mnie zabrali po zadku fest przylali a kiedy drzeć zacząłem pysk padł taki rozkaz z góry a dajcie jemu w nos co myśli sobie co myśli wredny typ przeszkadzać będzie nam ',\n",
       " 'pójdę jak szary brat zakonny albo włóczęga lnianowłosy w tę stronę z której na zagony leje się jasne mleko brzozy chcę ziemię z krańca w kraniec zmierzyć idąc za blaskiem gwiazdy płonnej i w szczęście bliźnich znów uwierzyć na miedzy żytem rozdzwonionej i mówię tak samemu sobie patrząc na wite z łyka kręgi szczęśliwy kogo przyozdobił kijem i torbą los włóczęgi kto w swym ubóstwie nie zna troski ani przyjaciół ani wrogów i może z wioski iść do wioski modląc się do spotkanych stogów świt z ręką pełną chłodnej rosy rumiane jabłka zorzy strąca kosiarze grabiąc traw pokosy pieśnią witają mnie na łące i mówię tak samemu sobie patrząc na wite z łyka kręgi szczęśliwy kogo przyozdobił kijem i torbą los włóczęgi ',\n",
       " ' patrz mój dobrotliwy boże na swój ulubiony ludek jak wychodzi rano w zboże zginać harde karki z trudem patrz jak schyla się nad pracą jak pokornie klęski znosi i nie pyta po co za co czasem o coś cię poprosi ujmij trochę łaski nieba daj spokoju w zamian chleba innym udziel swej miłości nam sprawiedliwości smuć się chryste panie w chmurze widząc jak się naród bawi znowu chciałby być przedmurzem i w pogańskiej krwi się pławić dymią kuźnie i warsztaty lecz nie pracą a skargami że nie taka jak przed laty łaska twoja nad hufcami siły grożą ci nieczyste daj nam wsławić się o chryste kalwin litwin nam ubliża dźwigniem ciężar krzyża załam ręce matko boska upadają obyczaje nie pomogła modłom chłosta młodzież w szranki ciała staje w nędzy gzi się krew gorąca bez sumienia bez oddechu po czym z własnych trzewi strząsa niedojrzały owoc grzechu co zbawienie nam czy piekło byle życie nie uciekło jeszcze będzie czas umierać żyjmy tu i teraz grzmijcie gniewem wszyscy święci handel lud zalewa boży obce kupce i klienci w złote wabią go obroże liczy chciwy żyd i niemiec dziś po ile polska czystość kupi dusze kupi ziemie i zostawi pośmiewisko co nam hańba gdy talary mają lepszy kurs od wiary wymienimy na walutę honor i pokutę jeden naród tyle kwestii wszystkich naraz nie wysłuchasz zadumali się niebiescy w imię ojca syna ducha ',\n",
       " 'w zachwycie dziewczyn dzień przebywszy ten to teraz wędrowcze żeń się z nocką żeń przy nagim ognisku weź wyciągnij się i miłuj się z ogniem dokładając drew już woda w kociołku durli durli wrze ach święta wieczerza też cudowna rzecz nad głową wiatr szumi wiecznie nową pieśń a w tobie cichutko i dlatego wiesz żeś jej źródłem jest ona twoim też ',\n",
       " 'anioły są takie ciche zwłaszcza te w bieszczadach gdy spotkasz takiego w górach wiele z nim nie pogadasz najwyżej na ucho ci powie gdy będzie w dobrym humorze że skrzydła nosi w plecaku nawet przy dobrej pogodzie anioły są całe zielone zwłaszcza te w bieszczadach w trawie łatwo się kryją i w opuszczonych sadach w zielone grają ukradkiem nawet karty mają zielone zielone mają pojęcie a nawet zielony kielonek anioły bieszczadzkie bieszczadzkie anioły dużo w was radości i dobrej pogody bieszczadzkie anioły anioły bieszczadzkie gdy skrzydłem cię dotkną już jesteś ich bratem anioły są całkiem samotne zwłaszcza te w bieszczadach w kapliczkach zimą drzemią choć może im nie wypada czasem taki anioł samotny zapomni dokąd ma lecieć i wtedy całe bieszczady mają szaloną uciechę anioły bieszczadzkie bieszczadzkie anioły dużo w was radości i dobrej pogody bieszczadzkie anioły anioły bieszczadzkie gdy skrzydłem cię trącą już jesteś ich bratem anioły są wiecznie ulotne zwłaszcza te w bieszczadach nas też czasami nosi po ich anielskich śladach one nam przyzwalają i skrzydłem wskazują drogę i wtedy w nas się zapala wieczny bieszczadzki ogień anioły bieszczadzkie bieszczadzkie anioły dużo w was radości i dobrej pogody bieszczadzkie anioły anioły bieszczadzkie gdy skrzydłem cię musną już jesteś ich bratem ',\n",
       " 'był koń zdechł koń fajny był szkoda go ',\n",
       " 'słońce słońce w ramionach czy twego ciała kryształ pełen owoców białych gdzie zdrój zielony tryska gdzie oczy miękkie w mroku tak pół mnie a pół bogu twych kroków korowody w urojonych alejach twe odbicia u wody jak w pragnieniach nadziejach twe usta u źródeł to syte to znów głodne i twój śmiech i płakanie nie odpłynie zostanie uniosę je przeniosę jak ramionami głosem w czas daleki wysoko w obcowanie obłokom tak pół mnie a pół tobie ',\n",
       " 'kołysał nas zachodni wiatr brzeg gdzieś za rufą został i nagle ktoś jak papier zbladł sztorm idzie panie bosman a bosman tylko zapiął płaszcz i zaklął ech do czorta nie daję łajbie żadnych szans dziesięć w skali beauforta z zasłony ołowianych chmur ulewa spadła nagle rzucało nami w górę w dół i fala zmyła żagle o pokład znów uderzył deszcz i padał już od rana diabelnie ciężki to był rejs szczególnie dla bosmana prawdziwe czasem sny się ma dziesięć w skali beauforta ',\n",
       " 'prowadź mnie ulico prowadź za rękę wszystko mnie zachwyca w twym kamiennym piekle bramy co na oścież kwiaty w każdym oknie i ten mój samotny i ten mój samotny marsz pomiędzy domami prowadź mnie ulico trakcie wydeptany ludzi nawałnicą radości aleją gwiazdy ci się śmieją i dla ciebie wieje wiatr i dla ciebie wieje w samym sercu miasta czytam to na twojej twarzy w samym sercu miasta coś się nam przydarzy prowadź mnie ulico i ten nasz ulotny i ten nasz ulotny marsz prowadź mnie ulico bo ja ciągle czekam czy się nie okaże żeś ulico ślepa że mnie okłamałaś że mój cel zabrałaś pokazałaś inną twarz pokazałaś inną w samym sercu miasta czytam to na twojej twarzy w samym sercu miasta coś się nam przydarzy ',\n",
       " ' tak smutno patrzysz przez otwarte okno już się latarnie w mieście zapalają i nic nie mówisz patrzysz tylko w dół nie chodź tam gdzie uliczny obcy tłum usiądź tu obok mnie w fotelu słonecznikowe pestki gryź a ja piosenkę ci zanucę tę której słuchać chciałabyś nie strącaj z biurka kałamarza nie zrywaj z kalendarza dni jeśli nie lubisz tej piosenki inną ładniejszą zagram ci zasnęło słońce gdzieś za antenami wyłażą koty z piwnic i śmietników zadzwonił tramwaj już ostatni kurs nie chodź tam puste place zniknął tłum usiądź tu obok mnie w fotelu słonecznikowe pestki gryź a ja piosenkę ci zanucę tę której słuchać chciałabyś nie strącaj z biurka kałamarza nie zrywaj z kalendarza dni jeśli nie lubisz tej piosenki inną ładniejszą zagram ci a kiedy przyjdziesz do mnie znów pojutrze popatrzysz smutno przez okno otwarte wsłuchasz się w miasta przedwieczorny szum powiem ci nie chodź tam gdzie obcy tłum siądziesz tu obok mnie w fotelu słonecznikowe pestki gryźć a ja piosenkę ci zanucę tę której słuchać chciałabyś może kałamarz strącisz z biurka lub z kalendarza zerwiesz dzień może już lubisz tę piosenkę a może nawet lubisz mnie ',\n",
       " 'hej malarze nuże pędzle zanurzajcie w zorze miasta o wieczorze w nasze dziś niech powtórzą gwar podwórek na arbacie wasze pędzle jak jesienny lotny liść zanurzajcie kładźcie farby jak się patrzy kładźcie błękit kładźcie razem blask i cień namalujcie i z zapałem i z sympatią jak z sympatią przechadzamy się dzień w dzień niech zatłoczą się ulice rozbudzone niech się zacznie niech się ziści to co chce wy malujcie wszystko będzie policzone nie będziemy zgadywali dobrze źle przesądzajcie nasze losy jak sędziowie pokosztować nam przyszłości dajcie kęs choć nie znamy się malujcie nas na zdrowie a ja tym co nie pojmują wskażę sens ',\n",
       " 'pan kiedyś stanął nad brzegiem szukał ludzi gotowych pójść za nim by łowić serca słów bożych prawdą o panie to ty na mnie spojrzałeś twoje usta dziś wyrzekły me imię swoją barkę pozostawiam na brzegu razem z tobą nowy zacznę dziś łów jestem ubogim człowiekiem moim skarbem są ręce gotowe do pracy z tobą i czyste serce o panie to ty na mnie spojrzałeś twoje usta dziś wyrzekły me imię swoją barkę pozostawiam na brzegu razem z tobą nowy zacznę dziś łów ty potrzebujesz moich dłoni mego serca młodego zapałem mych kropli potu i samotności o panie to ty na mnie spojrzałeś twoje usta dziś wyrzekły me imię swoją barkę pozostawiam na brzegu razem z tobą nowy zacznę dziś łów dziś wyjedziemy już razem łowić serca na morzach dusz ludzkich twej prawdy siecią i słowem życia o panie to ty na mnie spojrzałeś twoje usta dziś wyrzekły me imię swoją barkę pozostawiam na brzegu razem z tobą nowy zacznę dziś łów ',\n",
       " 'pamiętam dobrze ideał swój marzeniami żyłem jak król siódma rano to dla mnie noc pracować nie chciałem włóczyłem się za to do puszki zamykano mnie za to zwykle zamykano mnie po knajpach grywałem za piwo i chleb na życiu bluesa tak mijał mi dzień tylko nocą do klubu pójść jam session do rana tak królował blues to już minęło ten klimat ten luz wspaniali ludzie nie powrócą nie powrócą już lecz we mnie zostało coś z tamtych lat mój mały intymny muzyczny świat gdy tak wspominam ten miniony czas wiem jedno że to nie poszło w las dużo bym dał by przeżyć to znów wehikuł czasu to byłby cud mam jeszcze wiarę odmieni się los znów kwiatek do lufy wetknie im ktoś tylko nocą do klubu pójść jam session do rana tak królował blues to już minęło ten klimat ten luz wspaniali ludzie nie powrócą nie powrócą już ',\n",
       " 'tyle było dni do utraty sił do utraty tchu tyle było chwil gdy żałujesz tych z których nie masz nic jedno warto znać jedno tylko wiedz że ważne są tylko te dni d f g których jeszcze nie znamy a f g ważnych jest kilka tych chwil tych na które czekamy pewien znany ktoś kto miał dom i sad zgubił nagle sens i w złe kręgi wpadł choć majątek prysł on nie stoczył się wytłumaczyć umiał sobie wtedy właśnie że że ważne są tylko te dni jak rozpoznać ludzi których już nie znamy jak pozbierać myśli z tych nieposkładanych jak oddzielić nagle serce od rozumu jak usłyszeć siebie pośród śpiewu tłumu bo ważne są tylko te dni jak rozpoznać ludzi których już nie znamy jak pozbierać myśli z tych nieposkładanych jak odnaleźć nagle radość i nadzieję odpowiedzi szukaj czasu jest tak wiele bo ważne są tylko te dni ',\n",
       " 'deszcz jesienny smutne pieśni łka mokną na nim karabiny hełmy kryje rdza nieś po błocie w dal w zapłakany świat przemoczone pod plecakiem osiemnaście lat gdzieś daleko stąd mrok zapada znów ciemna główka twej dziewczyny chyli się do snu może właśnie dziś patrzy w mroczną mgłę modlitwą prosi boga by zachował cię deszcz jesienny deszcz bębni w hełmu stal idziesz młody żołnierzyku gdzieś w nieznaną dal może dobry bóg da że wrócisz znów będziesz tulił ciemną głowę miłej twej do snu da że wrócisz znów da że wrócisz znów będziesz tulił ciemną głowę miłej twej do snu ',\n",
       " 'jak nowa rezydencja carów służba swe obowiązki zna precz wysiedlono stąd tatarów gdzie na świat wyrok zapaść ma okna już widzą słyszą ściany jak kaszle nad cygarem lew jak skrzypi wózek popychany z kalekim demokratą w tle lecz nikt nie widzi i nie słyszy co robi góral w krymską noc gdy gestem w wiernych towarzyszy wpaja swą legendarną moc nie miejcie żalu do stalina nie on się za tym wszystkim krył przecież to nie jest jego wina że roosevelt w jałcie nie miał sił gdy się triumwirat wspólnie brał za świata historyczne kształty wiadomo kto cezara grał i tak rozumieć trzeba jałtę w resztce cygara mdłym ogniku pływała lwa albionu twarz nie rozmawiajmy o bałtyku po co w europie tyle państw polacy chodzi tylko o to żeby gdzieś w końcu mogli żyć z tą polską zawsze są kłopoty kaleka troszczy się i drży lecz uspokaja ich gospodarz pożółkły dłonią głaszcząc wąs mój kraj pomocną dłoń im poda potem niech rządzą się jak chcą nie miejcie żalu do churchilla nie on wszak za tym wszystkim stał wszak tylko po to tylko był tryumwirat by stalin dostał to co chciał komu zależy na pokoju ten zawsze cofnie się przed gwałtem wygra kto się nie boi wojen i tak rozumieć trzeba jałtę ściana pałacu słuch napina gdy do kaleki mówi lew ja wierzę w szczerość słów stalina dba chyba o radziecką krew i potakuje mu kaleka niezłomny demokracji stróż stalin to ktoś na miarę wieku oto mąż stanu oto wódz bo sojusz wielkich to nie zmowa to przyszłość świata wolność ład przy nim i słaby się uchowa i swoją część otrzyma strat nie miejcie żalu do roosevelta pomyślcie ile musiał znieść fajka dym cygar i butelka churchill co miał sojusze gdzieś wszakże radziły trzy imperia nad granicami co zatarte w szczegółach zaś już siedział beria i tak rozumieć trzeba jałtę więc delegacje odleciały ucichł na krymie carski gród gdy na zachodzie działa grzmiały transporty ludzi szły na wschód świat wolny święcił potem tryumf opustoszały nagle fronty w kwiatach już prezydenta grób a tam transporty i transporty czerwony świt się z nocy budzi z woli wyborców odszedł churchill a tam transporty żywych ludzi a tam obozy długiej śmierci nie miejcie więc do trójcy żalu wyrok historii za nią stał opracowany w każdym calu każdy z nich chronił co już miał mógł mylić się zwiedziony chwilą nie był polakiem ani bałtem tylko ofiary się nie mylą i tak rozumieć trzeba jałtę ',\n",
       " 'marchewkowe pole rośnie wokół mnie w marchewkowym polu jak warzywo tkwię głową na dół zakopany niczym struś chcesz mnie spotkać głowę obok w ziemię włóż wszystko się może zdarzyć marchewkowe o ogrodzie miewam sny w marchewkowym stanie jest najlepiej mi rosnę sobie dołem głowa górą nać kto mi powie co się jeszcze może stać wszystko się może zdarzyć ',\n",
       " 'mój piękny panie raz zobaczony w technikolorze piszę do pana ostatni list już mi lusterko z tym pana zdjęciem też nie pomoże pora mi dzisiaj do ślubu iść mój piękny panie ja go nie kocham taka jest prawda pan główną rolę gra w każdym śnie ale dziewczyna przez życie nie może iść całkiem sama życie jest życiem pan przecież wie już mi niosą suknię z welonem już cyganie czekają z muzyką koń do taktu zamiata ogonem mendelsonem stukają kopyta jeszcze ryżem sypną na szczęście gości tłum coś fałszywie odśpiewa złoty krążek mi wcisną na rękę i powiozą mnie windą do nieba mój piękny panie z tego wszystkiego nie mogłam zasnąć więc nie mógł mi się pan przyśnić dziś i tak odchodzę bez pożegnania jakby z nienacka ktoś między nami zatrzasnął drzwi już mi niosą suknię z welonem już cyganie czekają z muzyką koń do taktu zamiata ogonem mendelsonem stukają kopyta ',\n",
       " ' do snu układać twoje pocałunki ciepłymi dlońmi gładzić twoje sny co noc wpatrywać się w twoje oczy aż wreszcie rumieniec zniknie z twoich lic z twoich lic z twoich lic z twoich lic z twoich choćby życie miało trwać tylko chwilę zaraz potem przyszła śmierć jak maleńkie kolorowe motyle będziemy wirować nim przyjdzie jego kres jego kres jego kres jego kres tak bliscy sobie w jednym oddechu wyruszać będziemy w nasze dni czułość zamykać w serdecznym uśmiechu a nocą szukać w ciałach naszych chwil naszych chwil naszych chwil naszych chwil naszych choćby życie miało trwać tylko chwilę zaraz potem przyszła śmierć jak maleńkie kolorowe motyle będziemy wirować nim przyjdzie jego kres jego kres jego kres jego kres choćby życie miało trwać tylko chwilę zaraz potem przyszła śmierć jak maleńkie kolorowe motyle będziemy wirować nim przyjdzie jego kres jego kres jego kres jego kres ',\n",
       " 'ukryci w nieba błękitach złotach i szkarłatach w jeżynowych sadach malinowych chatach wabieni przez leśne echa straszeni przez nocne lęki wszystko takie odległe tylko ty na wyciągnięcie ręki uwięzieni w letnich woniach w lipowych zapachach pieszczeni przez złote żuki w ich kosmatych łapach wpatrzeni w trawioną gorączką purpurową twarz słońca splecione dłonie skóra spierzchnięta od gorąca stąpający po pożądania rozpalonych węglach zamierają słowa na bezbronnych wargach w odwiecznym tańcu pulsuje przyroda uderza do głowy pulsuje w skroniach w rozdrganym powietrzu dźwięczy lot motyla chwila staje się wiecznością a wieczność jak chwila ukryci w nieba błękitach na wierzchołku świata dwoje niemych świadków czeznącego lata stąpający po pożądania rozpalonych węglach zamierają słowa na bezbronnych wargach w odwiecznym tańcu pulsuje przyroda uderza do głowy pulsuje w skroniach ',\n",
       " 'jest gdzieś lecz nie wiadomo gdzie świat w którym baśń ta dzieje się malutka pszczółka mieszka w nim co wśród owadów wiedze prym tę pszczółkę którą tu widzicie zowią mają wszyscy maja znają i kochają maja fruwa tu i tam świat swój pokazując nam dziś spotka nas maleńka zwinna pszczółka śmiała sprytna rezolutna maja mała zwinna przyjaciółka maja maju cóż zobaczymy dziś ',\n",
       " 'osiągnęliśmy dojrzałość zajmujemy stanowiska co się zżarło i wychlało na zmęczonych puchnie pyskach cośmy pozapominali zostawiło w oczach pustkę żar zwycięstwa nas wypalił jak karabinową łuskę jak karabinową łuskę rysiek wreszcie umył ręce dotąd czarne po drukarni procesuje się zawzięcie o nagłówek solidarni julek grać nie umiał w piłkę zwali go pryszczata menda taktyki ujawnił żyłkę w otoczeniu prezydenta w otoczenia prezydenta kopnął źle wszedł do rezerwy ale nawet z ławki kopie nie zawiodą julka nerwy w zjednoczonej europie ela żyje nawet nieźle co rok jeździ do nepalu przekazuje co przywiezie przetrwa z tego co odpalą przetrwa z tego co odpalą lena wyszła nieszczęśliwie za bezwzględne beztalencie co się dziesięć lat nią żywi lena urok ma i wzięcie zdzich uczciwie robi pieniądz więc nerwice ma i wrzody ale mu zazdrości henio niezadbany zły i głodny niezadbany zły i głodny za wzór zawsze robił henio odrzucania trefnych ofert znał pascala i montaignea etyki był filozofem z tej zazdrości i z tej złości znów dziś robi za wyrocznię etykę mu cel uprościł zniszczy zdzicha zanim spocznie zniszczy zdzicha zanim spocznie w sumie przyszłościowy rocznik w wiek xxiwszy wchodzi dzieci marca grudnia stoczni chrzestni bólów przy porodzie kajam się za wstyd i gorycz za niewyważenie racji więc ze skruchą i pokorą uzupełniam obserwacje uzupełniam obserwacje irka z jurkiem gdzieś ugrzęźli na wsi krytej eternitem pewnie się nie odnaleźli w trzeciej rzeczypospolitej zbyszek romek anka paweł są tak prawi że aż łyso i czym żyją nie wiem nawet więc i nie ma o czym pisać więc i nie ma o czym pisać ',\n",
       " ' w zaklętym sadzie barwny sen w wieczornym tchnieniu szepty gwiazd zielony księżyc pośród drzew niebieskie jabłka z kosza kradł zaśnij zaśnij już ucichł miasta gwar zaśnij zaśnij w zegarze starym drzemie czas śnij o wiośnie śnij o lesie w ptasim locie szukaj słów śnij o morzu o bezkresie daj marzeniom mknąć bez tchu w zaklętym sadzie barwny sen w szeptaniu gwiezdnym stara baśń malutki rycerz odpiął miecz z ogromnym smokiem w kości gra zaśnij zaśnij już ucichł miasta gwar zaśnij zaśnij w zegarze starym drzemie czas śnij o wiośnie śnij o lesie w ptasim locie szukaj słów śnij o morzu o bezkresie daj marzeniom mknąć bez tchu w zaklętym sadzie barwny sen w bezmiarze liści wiatru szum w głębokim lesie szary wilk małej dziewczynki strzeże snu zaśnij zaśnij już ucichł miasta gwar zaśnij zaśnij w zegarze starym drzemie czas śnij o wiośnie śnij o lesie w ptasim locie szukaj słów śnij o morzu o bezkresie daj marzeniom mknąć bez tchu w zaklętym sadzie barwny sen w obłoku mglistym skrzaci cień w zamczysku mrocznym stary król biednej sierotce nuci pieśń zaśnij zaśnij już ucichł miasta gwar zaśnij zaśnij w zegarze starym drzemie czas śnij o wiośnie śnij o lesie w ptasim locie szukaj słów śnij o morzu o bezkresie daj marzeniom mknąć bez tchu śnij o wiośnie śnij o lesie niech się wije senna nić śnij o morzu o bezkresie niech marzeniom starczy sił w zaklętym sadzie ',\n",
       " 'naszej ziemi śpiewamy ziemi pokłon składamy taki prosty serdeczny harcerski niechaj echo poniesie tę balladę rajdowa w nowe jutro i przyszłość nową właśnie tu na tej ziemi młody harcerz meldował swą gotowość umierać za polske tak jak ty niesiesz plecak on niósł w ręku karabin w sercu miłość nadzieję i troskę może tu w nowej słupi daleszycach bielicach brzozowymi krzyżami znaczonych swą dziewczynę pozegnał nic nie wiedząc że tylko kilka dni życia mu przeznaczone naszej ziemi śpiewamy ziemi pokłon składamy taki prosty serdeczny harcerski niechaj echo poniesie tę balladę rajdowa w nowe jutro i przyszłość nową na pomniku wyryto ze szesnaście mial wiosen że byl śmialy odważny radosny kiedy padał płakała cała puszcza jodłowa nie doczekal czekanje tak wiosny i choć on nie doczekał to nie zginał tak sobie przetarł szlak którym dzisiaj wedrujesz kiedy tak przy ognisku spiewasz sobie balladę tak jak on w sercu ojczyzne czujesz naszej ziemi śpiewamy ziemi pokłon składamy taki prosty serdeczny harcerski niechaj echo poniesie tę balladę rajdowa w nowe jutro i przyszłość nową ',\n",
       " 'cicha noc święta noc pokój niesie ludziom wszem a u żłóbka matka święta czuwa sama uśmiechnięta nad dzieciątka snem nad dzieciątka snem cicha noc święta noc pastuszkowie od swych trzód biegną wielce zadziwieni za anielskim głosem pieśni gdzie się spełnił cud gdzie się spełnił cud cicha noc święta noc narodzony boży syn pan wielkiego majestatu niesie dziś całemu światu odkupienie win odkupienie win ',\n",
       " 'zdobi mego stołu blat szkło po zagranicznym piwie w nim czerwony róży kwiat z pąka rodzi się cierpliwie więc pod czujnym okiem tym piszę historyczną powieść lecz nie mogę naprzód iść myląc prolog z epilogiem nasłuchuję wypatruję i spisuję to co czuję piszę prozą lub rymuję ale nie chcę schlebiać wam takie są natury prawa zmieniać ich nie mamy prawa czemu piszę nie wiem sam już przede mną kartek sto nieprzebyte śnieżne dale lecz dlaczego i mój los w wątek się wplątuje stale czemu wciąż się pragnę bić z przeciwnikiem wymyślonym bohaterem nie chcąc być w stan spoczynku przeniesionym nasłuchuję wypatruję i spisuję to co czuję piszę prozą lub rymuję ale nie chcę schlebiać wam takie są natury prawa zmieniać ich nie mamy prawa czemu piszę nie wiem sam prawda i w zmyśleniu tkwi ale powieść nie gotowa więc pozwólcie pisać mi aż do ostatniego słowa pragnę póki róży kwiat na mym stole czerwienieje krzyczeć kiedy milczy świat szeptać kiedy świat szaleje nasłuchuję wypatruję i spisuję to co czuję ',\n",
       " 'wagą zabraną temidzie bawimy się w sprawiedliwość na jednej szali zło kładziemy na drugiej dobro i litość wszyscy się cieszą z równowagi gardła zdzieramy w wiwatach wszyscy się cieszą z równowagi wskazówkę puszczamy po latach oj nieładnie człowieku nieładnie oj nieładnie człowieku brzydko ty się całe życie tylko bawisz czasem sobie zmieniasz bawitko księgami bawimy się w mądrość zabawa to dla upartych z ksiąg budujemy nauki i domy a przecież księgi to karty raz huczą brawa raz działa już się gubimy w erratach na ile to mądre na ile starczy ktoś nas osądzi po latach oj nieładnie człowieku nieładnie oj nieładnie człowieku brzydko ty się całe życie tylko bawisz czasem sobie zmieniasz bawitko jest jeszcze jedna zabawa też popularna choć nienowa do niej potrzebne jest dwoje ludzi i słowa i słowa i słowa słowami bawimy się w miłość słowa składamy w kwiatach potem przyprószą je liście jesieni odgrzebujemy po latach oj nieładnie człowieku nieładnie oj nieładnie człowieku brzydko ty się całe życie tylko bawisz czasem sobie zmieniasz bawitko ',\n",
       " 'obce lasy przebiegłem serce szarpie mi krtań nie ze strachu z wściekłości rozpaczy ślad po wilczych gromadach mchy pokryły i darń niedobitki los cierpią sobaczy z gąszczu żaden kudłaty pysk nie wyjrzy na krok w ślepiach obłęd lęk chciwość lub zdrada na otwartych przestrzeniach dawno znikł wilchy trop wilk wie dobrze czym pachnie zagłada słyszę wciąż i uszom nie wierzę lecz potwierdza to wzrok wszystko mi zwierzem jesteś i żyjesz jak zwierze lecz nie wilki nie wilki już wy myśli brat że bezpieczny skoro schronił się w las lecz go ściga nie bóg ściga człowiek śmigieł świst nad głowami grad pocisków i wrzask co wyrywa źrenice spod powiek strzelców twarze pijane w drzew konarach znad luf wrzący deszcz wystrzelonych ładunków to już nie polowanie nie obława nie łów to planowe niszczenie gatunków z rąk w mundurach z helikopterów maszynowa broń wbija we łby czarne kule i wrzask oficerów wy nie wilki nie wilki już wy kto nie popadł w szaleństwo kto nie poszedł pod strzał jeszcze biegnie klucząc po norach lecz już nie ma kryjówek które miał które znał wszędzie wściekła wywęszy go sfora i pomyśleć że kiedyś ją traktował jak łup który nie wart wilczych był kłów dziś krewniaka swym panom zawloką do stóp lub poszarpią na rozkaz bez słów ',\n",
       " ' podkradnę się w twoich włosach zanurzę dłoń pobiegnę dalej zniknę wsiąknę w trawę podejdę chyłkiem szarpnę za sukni skraj zanim obejrzysz się już mnie nie będzie wcale psotniku wietrze gdzie znów ukryłeś się poczekaj chwilę pstro masz tylko w głowie wciąż dokądś pędzisz o nic nie martwisz się przysiądź na chwilę tu smutno mi przecież samej zakręcę w głowie obsypię liśćmi twarz całusa skradnę zanim się opędzisz ciepłą dłonią oplotę cię jak szal tchnieniem szemrzących ust spłynę po twojej piersi szaleńcze zwolnij proszę bo tchu mi brak mój panie hola ręce precz ode mnie twych palców dotyk rozpala moją twarz po plecach biegnie dreszcz cała już się rumienię twe dłonie złapię porwę w szalony tan na progu nocy wplączę się w twoją suknię twój okrzyk zduszę szaleństwem chciwych warg tysiącem zwiewnych rąk wyrzeźbię twą figurę za brodę złapię tupnę ugryzę w nos dotrzymam w tańcu kroku aż się zdziwisz nakręcę uszu przytrzymam cię za wąs zwiodę uwiodę w las wplączę cię w pajęczynę splątani w jedno czmychniemy w leśny gąszcz wszak życie nasze jeno oka mgnienie w strumieniu w trawie nasz zwariowany pląs w krzaku dzikiego bzu cisza już po spełnieniu ',\n",
       " 'dość wytoczyli bań próżnych przed domy kalecy żyją jak żyli bezwolni głusi i ślepi nie współczuj szkoda łez i żalu bezbarwni są bo chcą być szarzy ty wyżej wyżej bądź i dalej niż ci co się wyzbyli marzeń niechaj zalśni bukowina w barwie malin niechaj zabrzmi bukowina w wiatru szumie dzień minął dzień minął nadszedł wieczór świece gwiazd zapalił siadł przy ogniu pieśń posłyszał i umilkł po dniach zgiełkliwych po nocach wyłożonych brukiem w zastygłym szkliwie gwiazd neonowych próżno szukać tego co tylko zielonością na palcach zaplecionych drzemie rozewrzyj dłonie mocniej mocniej za kark chwyć słońce sięgnij w niebo niechaj zalśni bukowina w barwie malin niechaj zabrzmi bukowina w wiatru szumie dzień minął dzień minął nadszedł wieczór świece gwiazd zapalił siadł przy ogniu pieśń posłyszał i umilkł odnaleźć musisz gdzie góry chmurom dłoń podają gdzie deszcz i susza gdzie lipce październiki maje stają się rokiem węzłem życia twój dom bukowy zawieszony u nieba pnia kroplą żywicy błękitny złoty i zielony niechaj zalśni bukowina w barwie malin niechaj zabrzmi bukowina w wiatru szumie dzień minął dzień minął nadszedł wieczór świece gwiazd zapalił siadł przy ogniu pieśń posłyszał i umilkł ',\n",
       " 'tego dnia obcy ludzie zadławili we mnie tak zwaną jasność spojrzenia w kanion strachu zagonili a jemu serce pękło w tej samej chwili a bez jego mocnej dłoni a bez tych pogodnych spojrzeń czeka mnie czeka mnie przepaść studnia dźwięków i mgła przepaść idę do niej tam ',\n",
       " ' zawsze śpiewał po cichu bez złości chociaż czasy leciutkie nie były bo w balladzie im więcej miłości więcej siły zawsze śpiewał po cichu bez złości chociaż statek już walił o dno i dlatego na zawsze zagościł w moim domu pan bułat to jest żal za panem bułatem czyli żal za minioną młodością kiedy jego marzenia skrzydlate pozwalały się łudzić wolnością to jest żal za bułatem pierwszą wódką i pierwszą kobietą kiedy z trudem do przodu się szło ale czasem wierzono poetom dziś podoba się inna piosenka dzisiaj inne potrzeby są w tłumach i dlatego fałszuje panienka o koniku hop siup na biegunach a ja zawsze już będę się spierał z wielkim panem co twarzy ma sto że nam kogoś takiego zabiera jak pan bułat gospodin o to jest żal za panem bułatem czyli żal za minioną młodością kiedy jego marzenia skrzydlate pozwalały się łudzić wolnością to jest żal za bułatem pierwszą wódką i pierwszą kobietą kiedy z trudem do przodu się szło ale czasem wierzono poetom to jest żal za bułatem pierwszą wódką i pierwszą kobietą kiedy z trudem do przodu się szło ale czasem wierzono poetom ',\n",
       " 'na podwórku tuż za bramą czarnej sieni czarny wlot w sieni dzień i noc tak samo rezyduje czarny kot uśmiechając się pod wąsem czai się w ciemnościach łotr drą się koty wniebogłosy ale milczy czarny kot myszy dawno już nie łowi stroszy wąs i śmieje się łapie wszystkich nas za słowo i kiełbasę naszą żre ani żąda ani prosi kryje w ślepiach żółty blask każdy sam mu coś wynosi jeszcze mu się kłania w pas nie zamiauczy ani razu ale z sieni ani rusz o framugę ostrzy pazur jakbyś miał na gardle nóż stąd też wszyscy przygnębieni wszystko w domu byle jak światło by założyć w sieni ale jakoś chętnych brak ',\n",
       " 'wiodą wiodą drogi w świat wśród lesistych gór zieleni w mrocznych grotach znacząc ślad wśród zbłąkanych mknąc strumieni poprzez biały zimny śnieg łąki kwietne i majowe omijając skalny brzeg i pagóry księżycowe wiodą wiodą drogi w świat pod gwiazdami mkną na niebie choć wędrować każdy rad w końcu wraca w dom do siebie oczy które ognia dziw oglądały i pieczary patrzą czule w zieleń niw i kochany domek stary wiodą wiodą drogi w świat ',\n",
       " 'jestem śliczna higieniczna przy tym silna niczym tur rozkochuję w sobie chłopców za mną poszliby pod mur bo ja jestem sprytna i wybitna romantyczna także jestem jak chłopięcy chór bo jesteś sprytna i wybitna romantyczna także jesteś jak chłopięcy chór duża jestem ociupinkę zgrabna chyba nawet też gdy wychodzę na ulicę chłopcom wnet zapiera dech bo jestem sprytna i wybitna romantyczna także jestem jak ludowy wiec bo jesteś sprytna i wybitna romantyczna także jesteś jak ludowy wiec a ja mam w sobie coś takiego co nie daje spać kolegom może oczy może usta może także jestem szczupła może moja dobroć ufność to że czasem jestem smutna chyba to nie daje chłopcom spać ja mam w sobie coś takiego co nie daje jeść kolegom może dłonie może nogi może mój zmęczony profil może moja duma radość może niecodzienna bladość chyba to nie daje chłopcom jeść jeden biedak na mój widok oddał swój ostatni kęs drugi merdał wręcz ogonem niczym wygłodniały pies bo jestem sprytna i wybitna romantyczna także jestem jak hutniczy piec bo jesteś sprytna i wybitna romantyczna także jesteś jak hutniczy piec nienawidzą mnie dziewczęta za mą niedościgłą twarz każdy ją zapamiętuje choćby widział tylko raz bo jestem sprytna i wybitna romantyczna także jestem jak taki tralabam bo jesteś sprytna i wybitna romantyczna także jesteś jak taki tralabam a ja mam w sobie coś takiego co nie daje spać kolegom może oczy może usta może także jestem szczupła może moja dobroć ufność to że czasem jestem smutna chyba to nie daje chłopcom spać ja mam w sobie coś takiego co nie daje jeść kolegom może dłonie może nogi może mój zmęczony profil może moja duma radość może niecodzienna bladość chyba to nie daje chłopcom jeść bo ja mam w sobie coś takiego co nie daje żyć kolegom jestem śliczna higieniczna przy okazji sympatyczna jestem sprytna i wybitna fantastyczna i ambitna więc czemu mnie na miss polonia nie na miss polonia nie chcą wybrać mnie ',\n",
       " ' siedzę w swoim domu w kącie w przytulnych walonkach jeszcze wczoraj było ciepło grzało choć od słońca dzisiaj coś mi nawaliło i się prąd wyłączył tylko zacier jest na chodzie i z rurki się sączy tyle mi zastało co mi nakapało jak przyjdzie milicja będzie prohibicja wody wczoraj mi naciekło prawie pół miednicy dzisiał łup i wywaliło rury w kamienicy tych żeberek co pod oknem ogrzać już nie sposób gdyby one były z mięsa miałbym chociaż rosół tyle mi zastało co mi nakapało jak przyjdzie milicja będzie prohibicja teraz z kranów mi nie leci w łazience mi cuchnie gaz bezwonny to nie włączam bo a nuż wybuchnie w kuchni mrozi się lodówka ale teraz zewnętrznie pralka tylko wtedy chodzi kiedy piorę ręcznie tyle mi zastało co mi nakapało jak przyjdzie milicja będzie prohibicja telewizor wyłączyłem świecił na niebiesko bo samogon gdy wypędzę to chowam w kineskop zresztą może bym i włączył ale nie ma prądu tylko zacier jest na chodzie i dowód do wglądu tyle mi zastało co mi nakapało jak przyjdzie milicja będzie prohibicja i tak jest każdego roku kiedy przyjdzie zima myślę przyjdzie jeszcze jedna i blok nie wytrzyma póki co by ta następna nie dała we znaki kupię drugi telewizor by mieć dwa baniaki tyle mi zastało co mi nakapało jak przyjdzie milicja będzie prohibicja ',\n",
       " 'na zachodzie słońce jeszcze się toczy i butelka nad ławą rzuca cień wojtek bellon zagląda mi w oczy w bartnem pod bacówką gaśnie dzień mówią mi że gdy gram jego song głos mi drży i do oczu płyną łzy wojtek przez głośniki wypiek cześka sławi jego pieśń ponad góry niosą mgły utonęły w zieleni gór i puchu nieba w morzu liści i w wełnianym swetrze z traw moja pamięć moje myśli niezbadane zaklęte w melodii ruskich chat gdzieś na krańcu świata gdzie nie widać piekieł tylko niebo na ikonach srebrem lśni święty spokój ofiaruje nam mikołaj święty spokój w jego skośnych oczach tkwi dobry pan mnie wiedzie wyboistą drogą dobry pan życzenia moje zna w górach myśli poszybują ku pradawnym bogom a w kopułach cerkwi wieczność trwa na tej drodze różne słowa już padały słowa złe i dobre miłość szła i śmierć tylko buki w górach niewzruszone stoją jakby chciały się do nieba wznieść nikt nie spieszy się nie zżyma nie złorzeczy życie musi mieć swój smak i stały takt wprawdzie życia tutaj nie da się zaprzeczyć każde słowo znaczy to co znaczyć ma nie ma miejsca na spojrzenia ukradkowe tutaj ludziom musisz patrzeć prosto w twarz tutaj serce na wszystko masz gotowe tu na szczytach blisko nieba wiecznie trwasz dobry pan mnie wiedzie wyboistą drogą dobry pan życzenia moje zna w górach myśli poszybują ku pradawnym bogom a w kopułach cerkwi wieczność trwa na tej drodze różne słowa już padały słowa złe i dobre miłość szła i śmierć tylko buki w górach niewzruszone stoją jakby chciały się do nieba wznieść ',\n",
       " 'polami polami po miedzach po miedzach po błocku skisłym w mgłę i wiatr nie za szybko kroki drobiąc idzie wiosna idzie nam idzie wiosna idzie rozłożyła wiosna spódnicę zieloną przykryła błota bury łan pachnie ziemia ciałem młodym póki wiosna póki trwa póki wiosna póki trwa rozpuściła wiosna warkocze kwieciste zbarwniały łąki niczym kram będzie odpust pod wiślicą póki wiosna póki trwa póki wiosna póki trwa ponidzie wiosenne ponidzie leniwe pręży się jak do słońca kot rozciągnięte po tych polach lichych lasach pstrych łozinach skałkach słońcem rozognionych nidą w łąkach roziskrzoną na ponidziu wiosna trwa na ponidziu wiosna trwa na ponidziu ',\n",
       " 'gdybym miał gitarę to bym na niej grał opowiedziałbym o swej miłości którą przeżyłem sam a wszystko te czarne oczy gdybym ja je miał za te czarne cudne oczęta serce duszę bym dał fajki ja nie palę wódki nie piję ale z żalu żalu wielkiego ledwo co żyję a wszystko te czarne oczy gdybym ja je miał za te czarne cudne oczęta serce duszę bym dał ludzie mówią głupi po coś ty ją brał po coś to dziewcze czarne figlarne mocno pokochał a wszystko te czarne oczy gdybym ja je miał za te czarne cudne oczęta serce duszę bym dał ',\n",
       " ' list do najpiękniejszej kobiety jaką znałem serce miałem kiedyś jedno i mi się potrzaskało staraszliwie i doszczętnie i nie udało mi się posklejać skorupek tego dzbanka ani łzami tym klejem białym ani krwią tym klejem czerwonym nie udało mi się i myślałem że już zawsze będę tak żyć bez serca lecz nagle zjawiłaś się ty i pomóc chciałaś mi czemu nie wiem do dziś przygarnęłaś mnie bo byłem jak bezpański pies i nie wiem skąd wzięłaś do serca mego klej dałaś mi ciepło swe dałaś mi dobroć swą twe piękno było dla mnie i serce twe przygarnęłaś mnie bo byłem jak bezpański pies i nie wiem skąd wzięłaś do serca mego klej byłem tak szczęśliwy mało szczęścia przedtem miałem skleiłaś serce me kochać zacząłem cię przygarnęłaś mnie bo byłem jak bezpański pies i nie wiem skąd wzięłaś do serca mego klej lecz wielkie szczęście tak już jest nie może dla mnie wiecznie trwać gdy już kochałem cię ode mnie odwróciłaś się to moja wina tak ja wiem miłości mojej nie można znieść lecz za te chwile szczęścia dziękuję ci przygarnęłaś mnie bo byłem jak bezpański pies i nie wiem skąd wzięłaś do serca mego klej ten list piszę teraz bo rozmawiać ze mną nie chcesz już może zaśpiewam kiedyś go by go wysłuchać ktoś mógł może ten ktoś gdzieś spotka cię opowie dziękczynienie me w ten sposób dowiesz się jak bardzo wciąż niestety kocham cię przygarnęłaś mnie bo byłem jak bezpański pies i nie wiem skąd wzięłaś do serca mego klej ps naprawdę dziękuję ci za to że dzięki tobie mogę znowu kochać ludzi że mogę śpiewać im o szczęściu którego zasmakowałem przy tobie ',\n",
       " 'odeszły dziewczęta zostały wspomnienia które goni wiatr odeszli koledzy pozostał wsród jodeł obozowisk ślad przy blasku ogniska gdy dzień kończy się wschodzi mrok płynie pieśń smutna pieśń o dziewczętach z którymi nie można już iść o piosenkach śpiewanych płynących jak ogniska dym wspominasz czasami dzień smutnych pożegnań urok tamtych chwil wspominasz przyjaciół przebytych wędrówek polnej drogi pył ',\n",
       " 'wśród nocnej ciszy głos się rozchodzi wstańcie pasterze bóg się wam rodzi czem prędzej się wybierajcie do betlejem pospieszajcie przywitać pana poszli znaleźli dzieciątko w żłobie z wszystkimu znaki danymi sobie jako bogu cześć oddali a witając zawołali z wielkiej radości ach witaj zbawco z dawna żądany wiele tysięcy lat wyglądany na ciebie króle prorocy czekali a tyś tej nocy nam się objawił i my czekamy na ciebie pana a skoro przyjdziesz na głos kapłana padniemy na twarz przed tobą wieżąc żeś jest pod osobą chleba i wina ',\n",
       " 'a jak będę już stary zgrzybiały to pozwól mi raz ostatni na górskie szlaki samotnie wyjść siądę sobie spokojnie na reglu w promieniach dnia wtedy kostuchę z komurki wypuść by po mnie szła i mgłą jak płaszczem królewskim otuliła bóg mi na siwe włosy koronę da gdy jesienią zobaczysz na niebie żurawi klucz wtedy cichutko do ciebie pójdę po szczytach gór ',\n",
       " 'gdzie jesteś mały książę gdzie odszedłeś z mej książeczki kart czy po pustyni błądzisz znów rozmawiasz z echem pośród skał czy tam gdzie świecie złoty wóz oglądasz ziemię w swoich snach czy pozostała z dawnych dni niby wspomnienie bajka ta w maleńkiej róży kochał się książę na jednej wielu gwiazd nie widział jeszcze innych róż kiedy w daleki poszedł świat na ziemi zwątpił w miłość swą ten najpiękniejszy z wszystkich snów bo jak miał w jednej kochać się gdy ujrzał park z tysiącem róż nie wierz swym oczom szepną wiatr jeżeli kochasz sercem patrz zrozumiał wtedy książe to że tylko jedna w świecie jest ta którą kochał z wszystkich sił i wrócił znów do róży swej gdzie jesteś mały książe gdzie odszedłeś z mej książeczki kart w świecie gdzie nikt nie kocha róż na zawsze ktoś pozostał sam ',\n",
       " 'na twój powrót zgotowałam w beczce kąpiel kilka kwiatów z łąki wplotłam w długie włosy jagód kosz największy uzbierałam w lesie czekam ciebie spoglądając wzdłuż drogi jeszcze noce takie ciepłe i gwiaździste jeszcze w worku trochę chleba pozostało jeszcze świerszcze koncert grają na równinie jeszcze lata tyle w górach choć tak mało żółte liście znaczą twój szlak zimny wiatr czesze trawy na szczytach tyle razy przemierzałeś ten świat tyle lat się tym światem zachwycasz na twój powrót upiekłam świeży bochen ciepły sweter zrobiłam na drutach rozpaliłam na kominku jasny płomień jeszcze dzisiaj powinieneś przecież wrócić znowuż wiatr odprowadza mnie w doliny słońce żegna odbijając się w strumienu stare drzewa pochylają swe korony jeszcze chwilę odpocznę na kamieniu żółte liście znaczą twój szlak zimny wiatr czesze trawy na szczytach tyle razy przemierzałeś ten świat tyle lat się tym światem zachwycasz na twój powrót cieszę się już od tygodnia pojaśniało z tej radości w całej izbie pachnie kawa słońce skrzy się w starym lustrze idzie ktoś serce mocniej bije koniec lasu widać dach starego domu domu w którym tyle już się wydarzyło wracam tu do ciebie jak co roku może z wiosną razem wyruszymy żółte liście znaczą twój szlak zimny wiatr czesze trawy na szczytach tyle razy przemierzałeś ten świat tyle lat się tym światem zachwycasz ',\n",
       " ' chleba takiego jak ten od cześka nie kupisz nigdzie nawet w warszawie bo czesiek piekarz nie piekł lecz tworzył bochny jak z mąki słonecznej kołacze kłaniali mu się ludzie gdy wyjrzał przez okno w kitlu łyknąć powietrza a kromkę masłem smarując każdy mówił nad chleby ten chleb od cześka chleb się chlebie chleb się chlebie bo nad chleb być może co chleb się chlebie chleb się chlebie niech ci nigdy nie zabraknie drożdży wody rąk i ziarna mruczał czesiek tak noc w noc a o porankach chlebem pachnących gdy pora idzie spać na piekarzy zaczerwienione przymykał oczy czesiek i siadał z dłutem przy stole ciągle te same oczy i trochę za duły nos w drewnie cierpliwym pieściły ręce dziesiątki razy w poranki świeżym chlebem pachnące chleb się chlebie chleb się nikt takich słów jak miasto miastem nie znał i źle się dzieje mówili na obraz czerniał czesiek razowca kruszał podobnie bułce zleżałej gdy go znaleźli na pasku z wojska dłuto jak w bochen wbite miał w garści i nie wie nikt co cześka wzięło lecz śpiewa każdy jak miasto miastem chleb się chlebie chleb się chlebie x ',\n",
       " 'gdy śliczna panna syna kołysała z wielkim weselem tak jemu śpiewała li li li li laj moje dzieciąteczko li li li li laj śliczne paniąteczko wszystko stworzenie śpiewaj panu swemu pomóż radości wielkiej sercu memu li li li li laj wielki królewiczu li li li li laj niebieski dziedzicu sypcie się z nieba śliczni aniołowie śpiewajcie panu niebiescy duchowie li li li li laj mój wonny kwiateczku li li li li laj w ubogim żłóbeczku ',\n",
       " ' nic nie mam zdmuchnęła mnie ta jesień całkiem nawet nie wiem jak tam sprawy za lasem rano wstaję poemat chwalę biorę się za słowo jak za chleb rzeczywiście tak jak księżyc ludzie znają mnie tylko z jednej jesiennej strony nic nie mam tylko z daszkiem nieba zamyślony kaszkiet nie zważam na mody byle jakie piszę wyłącznie piszę wyłącznie uczuć starym drapakiem rzeczywiście tak jak księżyc ludzie znają mnie tylko z jednej jesiennej strony ',\n",
       " 'rozdzierający jak tygrysa pazur antylopy plecy jest smutek człowieczy nie brookliński most ale przemienić w jasny nowy dzień najsmutniejszą noc to jest dopiero coś przerażający jak ozdoba świata co w malignie bredzi jest obłęd człowieczy nie brookliński most lecz na drugą stronę głową przebić się przez obłędu los to jest dopiero coś będziemy smucić się starannie będziemy szaleć nienagannie będziemy naprzód niesłychanie ku polanie nie brookliński most ale przemienić w jasny nowy dzień najsmutniejszą noc to jest dopiero coś ',\n",
       " 'sprzysiężeni budząc się świtem przykrywają palcami oczy by zatrzymać chociaż przez chwilę nić wysnutą z osnowy nocy nić co nieba barwą się mieniąc diretissimę w ścianie kreśli potem dnia zakładają brzemię i ruszają w drogę ku szczęściu mija dzień koło się toczy marzeniami kładą się cienie i odradza się każdej nocy i odradza się każdej nocy sprzysiężenie górskiego kamienia sprzysiężeni przyjazne dłonie plotą węzeł nad ogniem watry i wpatrzeni w gasnący płomień nucą pieśni pachnące wiatrem nie rozplotą ni burze ni waśnie tego co złączone przez ogień słońce wokół wciąż jaśniej jaśniej zakwitł kamień dziś górskim głogiem mija dzień koło się toczy marzeniami kładą się cienie i odradza się każdej nocy i odradza się każdej nocy sprzysiężenie górskiego kamienia a gdy wiatr sprzysiężonym w oczy zawieje bliski uśmiech w cień nocy odejdzie bukowina opuszcza ramiona bukowina łeb pochyla siwy czas odpływa z czasem smutek kona lecz wspomnienia wciąż pozostają żywe mija dzień koło się toczy marzeniami kładą się cienie i odradza się każdej nocy i odradza się każdej nocy sprzysiężenie górskiego kamienia ',\n",
       " 'wszystkich kuszą dzikie strony wielkie góry czyste rzeki życie wolne bez pośpiechu a z uporem w wielkich miastach duszą się zamknij dom z nami chodź chociaż ty wolnym bądź cóż ci trzeba buty masz zamknij dom z nami chodź pływać w czystej zimnej wodzie potem w słońcu suszyć się patrzeć w gwiazdy leżąc w trawie wreszcie iść wszystko jedno gdzie zamknij dom z nami chodź chociaż ty wolnym bądź cóż ci trzeba buty masz zamknij dom z nami chodź a jeśli gdzieś po latach spotkasz kogoś kto jak ty dziś słucha radia i to cały jego świat spojrzysz w oczy mu nie będziesz mógł zrozumieć jak się da wytrzymać tak zamknij dom z nami chodź chociaż ty wolnym bądź cóż ci trzeba buty masz zamknij dom z nami chodź ',\n",
       " ' a w beskidzie rozzłocony buk a w beskidzie rozzłocony buk będę chodził bukowiną z dłutem w ręku by w dziewczęcych twarzach uśmiech rzeźbić niech nie płaczą już niech się cieszą po kapliczkach moich dróg w beskidzie malowany cerkiewny dach w beskidzie zapach miodu w bukowych pniach tutaj wracam gdy ruda jesień na przełęcze swój tobół niesie słucham bicia dzwonów w przedwieczorny czas w beskidzie malowany wiatrami dom w beskidzie tutaj słowa inaczej brzmią kiedy krzyczę w jesienną ciszę kiedy wiatrem szeleszczą liście kiedy wolność się tuli w ciepło moich rąk gdy jak źrebak się tuli do mych rąk a w beskidzie zamyślony czas a w beskidzie zamyślony czas będę chodził gór poddaszem by zerwanych marzeń struny przewiązywać w niespokojne dłonie drzew niech mi grają na rozstajach moich dróg w beskidzie malowany cerkiewny dach w beskidzie zapach miodu w bukowych pniach tutaj wracam gdy ruda jesień na przełęcze swój tobół niesie słucham bicia dzwonów w przedwieczorny czas w beskidzie malowany wiatrami dom w beskidzie tutaj słowa inaczej brzmią kiedy krzyczę w jesienną ciszę kiedy wiatrem szeleszczą liście kiedy wolność się tuli w ciepło moich rąk gdy jak źrebak się tuli do mych rąk ',\n",
       " 'raz staruszka błądzącego w lesie ujrzał lisek przywiędły i blady i pomyślał znowu idzie wiesiek wiesiek idzie nie ma na to rady i podreptał do nory po ścieżce i powiedział stanąwszy przed chatą swojej żonie lisicy agnieszce wiesiek idzie nie ma rady na to zaś lisica zmartwiła się szczerze zamachała łapkami obiema matko boska bądź ostrożny jerzy wiesiek idzie rady na to nie ma może zjawić się tutaj już jutro lub pojutrze a może za tydzień może nieźle przetrzepać nam futro nie ma rady wiesiek wiesiek idzie a był sierpień pogoda prześliczna i tętniło życie w zagajnikach oprócz lisów nikt chyba nie myślał o nadejściu wieśka kłusownika ale cóż one żyły najdłużej łby na karkach miały nie od parady i wiedziały że prędzej czy później wiesiek przyjdzie nie ma na to rady ',\n",
       " 'sunęła poprzez czarne łąki sunęła przez spalony las mijała bram zwęglone szczątki płynęła przez wspomnienia miast biała lokomotywa skąd wzięła się w krainie śmierci ta żywa zjawa istny cud tu pośród pustych marnych wierszy tu gdzie już tylko czarny kurz biała lokomotywa ach czyj ach czyj to jest tak piękny hojny gest kto mi tu przysłał ją bym się wydostał stąd ach któż no któż to może być beze mnie kto nie umie żyć i bym zmartwychstał błaga mnie by mnie obudził jasny zew białej lokomotywy suniemy poprzez czarne łąki suniemy przez spalony las mijamy bram zwęglone szczątki płyniemy przez wspomnienia miast z białą lokomotywą gdzie brzęczą pszczoły pluszcze rzeka gdzie słońca blask i cienie drzew do tej co na mnie w życiu czeka do życia znowu nieś mnie nieś biała lokomotywo ach czyj ach czyj to jest tak piękny hojny gest kto mi tu przysłał ją bym się wydostał stąd ach któż no któż to może być beze mnie kto nie umie żyć i bym zmartwychstał błaga mnie by mnie obudził jasny zew białej lokomotywy ',\n",
       " 'co się stało z naszą klasą pyta adam w tel awiwie ciężko sprostać takim czasom ciężko w ogóle żyć uczciwie co się stało z naszą klasą wojtek w szwecji w pornoklubie pisze dobrze mi tu płacą za to co i tak wszak lubię za to co i tak wszak lubię kaśka z piotrkiem są w kanadzie bo tam mają perspektywy staszek w stanach sobie radzi paweł do paryża przywykł gośka z przemkiem ledwie przędą w maju będzie trzeci bachor próżno skarżą się urzędom że też chcieliby na zachód że też chcieliby na zachód za to magda jest w madrycie i wychodzi za hiszpana maciek w grudniu stracił życie gdy chodzili po mieszkaniach janusz ten co zawiść budził że go każda fala niesie jest chirurgiem leczy ludzi ale brat mu się powiesił ale brat mu się powiesił marek siedzi za odmowę bo nie strzelał do michała a ja piszę ich historię i to już jest klasa cała jeszcze filip fizyk w moskwie dziś nagrody różne zbiera jeździ kiedy chce do polski był przyjęty przez premiera był przyjęty przez premiera odnalazłem klasę całą na wygnaniu w kraju w grobie ale coś się pozmieniało każdy sobie żywot skrobie odnalazłem całą klasę wyrośniętą i dojrzałą rozdrapałem młodość naszą lecz za bardzo nie bolało lecz za bardzo nie bolało już nie chłopcy lecz mężczyźni już kobiety nie dziewczyny młodość szybko się zabliźni nie ma w tym niczyjej winy wszyscy są odpowiedzialni wszyscy mają w życiu cele wszyscy w miarę są normalni ale przecież to niewiele ale przecież to niewiele nie wiem sam co mi się marzy jaka z gwiazd nade mną świeci gdy wśród tych nieobcych twarzy szukam ciągle twarzy dzieci czemu wciąż przez ramię zerkam choć nie woła nikt kolego że ktoś ze mną zagra w berka lub przynajmniej w chowanego lub przynajmniej w chowanego własne pędy własne liście zapuszczamy każdy sobie i korzenie oczywiście na wygnaniuw krajuw grobie w dół na boki wzwyż ku słońcu na stracenie w prawo w lewo kto pamięta że to w końcu jedno i to samo drzewo jedno i to samo drzewo ',\n",
       " 'pijany poeta ma za złe że klaszczą że patrzą na niego ciekawie że każdy mu nietakt łaskawie wybaczą poeta wszak wariat jest prawie nie chodzi po ziemi wspóżyje z duchami ich mowę na wylot zna przecież i cóż że ogląda się wciąż za trunkami alkochol nie szkodzi poecie kochają go bardzo drwiąc z rąk jego ta drwina współczucia ma nazwę ugoszczą przytulą ukoją cierpienia a on mimo wszystko ma za złe do łez się zamartwiają że znów nic nie jadł że pali za dużo i nie śpi że w oczach mu tańczy szaleńcza zawieja a oni pragnęli by pieśni zakocha się szczerze trzy razy na tydzień i wstyd mu że tak zakłamany czasami w połowie wieczoru gdzieś wyjdzie lecz raczej się zdrzemnie pijany a oni się wtedy po cichu rozzłoszczą że nie dba gdy w krąg niego siedzą lecz czegoś mu jednak naprawdę zazdroszczą lecz czego zazdroszczą nie wiedzą ',\n",
       " 'były dwa kleszcze zdechły dwa kleszcze fajne były pośpiewajmy jeszcze ',\n",
       " 'gdy nie zostanie po mnie nic oprócz pożółkłych fotografii błękitny mnie przywita świt w miejscu co nie ma go na mapie a kiedy sypną na mnie piach gdy mnie okryją cztery deski to pójdę tam gdzie wiedzie szlak na połoniny na niebieskie powiezie mnie błękitny wóz ciągnięty przez błękitne konie przez świat błękitny będzie wiózł aż zaniebieszczy w dali błonie od zmartwień wolny i od trosk pójdę wygrzewać się na trawie a czasem gdy mi przyjdzie chęć z góry na ziemię się pogapię popatrzę jak wśród smukłych malw wiatr w przedwieczornej ciszy kona trochę mi tylko będzie żal że trawa u was tak zielona ',\n",
       " 'zniknęłaś gdzieś w domu nad wisłą pamiętam to tak dokładnie twoich czarnych oczu bliskość wciąż kocham cię jak irlandię a ty się temu nie dziwisz wiesz dobrze co byłoby dalej jakbyśmy byli szczęśliwi gdybym nie kochał cię wcale przed szczęściem żywić obawę z nadzieją że mi ją skradniesz wlokę ten ból przez włocławek kochając cię jak irlandię a ty się temu nie dziwisz wiesz dobrze co byłoby dalej jakbyśmy byli szczęśliwi gdybym nie kochał cię wcale gdzieś na ulicy fabrycznej spotkać nam się wypadnie lecz takie są widać wytyczne by kochać cię jak irlandię a ty się temu nie dziwisz wiesz dobrze co byłoby dalej jakbyśmy byli szczęśliwi gdybym nie kochał cię wcale czy mi to kiedyś wybaczysz działałem tak nieporadnie czy to dla ciebie coś znaczy że kocham cię jak irlandię a ty się temu nie dziwisz wiesz dobrze co byłoby dalej jakbyśmy byli szczęśliwi gdybym nie kochał cię wcale cię wcale ',\n",
       " ' jest port wielki jak świat co się zwie amsterdam marynarze od lat pieśni swe nucą tam jest jak świat wielki port marynarze w nim śpią jak daleki śpi fiord zanim świt zbudzi go jest port wielki jak świat marynarze w nim mrą umierają co świt pijąc piwo i klnąc jest port wielki jak świat co się zwie amsterdam marynarze od lat nowi rodzą się tam marynarze od lat złażą tam ze swych łajb obrus wielki jak świat czeka ich w każdej z knajp obnażają swe kły skłonne wgryźć się w tę noc w tłuste podbrzusza ryb w spasły księżyc i w noc do łapczywych ich łap wszystko wpada na żer tłuszcz skapuje kap kap z rybich wątrób i serc potem pijani w sztok w mrok odchodzą gdzieś a z bebechów ich wkrąg płynie czkawka i śmiech jest port wielki jak świat co się zwie amsterdam marynarze od lat tańce swe tańczą tam lubią to bez dwóch zdań lubią to bez zdań dwóch gdy o brzuchy swych pań ocierają swój brzuch potem buch kogoś w łeb aż na dwoje mu pękł bo wybrzydzał się kiep na harmonii mdły jęk akordeon też już wydał ostatni dech i znów obrus i tłuszcz i znów czkawka i śmiech jest port wielki jak świat co się zwie amsterdam marynarze od lat zdrowie pań piją tam pań tych zdrowie co noc piją w grudzień czy w maj które za złota trzos otwierają im raj a gin wódka i grog a grog wódka i gin rozpalają im wzrok skrzydeł przydają im żeby na skrzydłach tych mogli wzlecieć hen tam skąd się smarka na świat i na port amsterdam ',\n",
       " 'klucz ptaków na niebie wygląda wspaniale choć chmury zwiastują deszczową pogodę wiatr liście pozrywał i rzucił na trawę a niebo jest dziwnie różowe jesienny obrazek malują małe ręce las i ptaki i nic więcej jesienny obrazek malują małe ręce las i ptaki i nic więcej w tym małym obrazku zmieściło się wszystko co jesień ze sobą przyniosła na pola i słońce i deszcz i namiot niebieski rozbity pod starą topolą jesienny obrazek malują małe ręce las i ptaki i nic więcej jesienny obrazek malują małe ręce las i ptaki i nic więcej deszcz chyba już pada lecz słońce wciąż świeci zaraz powinna pojawić się tęcza to cały obrazek spod dziecinnej ręki i cała to o nim piosenka jesienny obrazek malują małe ręce las i ptaki i nic więcej jesienny obrazek malują małe ręce las i ptaki i nic więcej ',\n",
       " 'zimno tak że aż strach jakże rozgrzać się korowody chłodnych myśli oziębiają mnie nie pomaga łyk herbaty ani ciepły szal urojone z sopli kraty jak roztopić mam piosenka na rozgrzanie na rozgrzanie serc rozgrzewa mnie takie granie jak w domu ciepły piec w przytulnym cieple nutek w przytulnym cieple pauz z zimnego jak lód serca wypłynie czasem łza jak dziewczynka z zapałkami chcę ciepła miłości nie rozgrzeję się słowami tymi co ze złości nie rozbawią mnie pajace co na sznurkach skaczą chociaż wszystkim nam tak zimno dobrze dziś pajacom piosenka na rozgrzanie na rozgrzanie serc rozgrzewa mnie takie granie jak w domu ciepły piec w przytulnym cieple nutek w przytulnym cieple pauz z zimnego jak lód serca wypłynie czasem łza ',\n",
       " ' w kołnierz wtulam twarz chowam się przed miastem jego cienie żłobią w mojej twarzy wąwóz trzeszczy jak ułamek szkła mój codzienny niepokój jak wydostać się z cienia może wtedy gdyby koncert grać ten na trąbki i skrzypce tak by dźwięki ułożyły się w wiersz gdyby łyżką światła rozweselić to wszystko żeby we mnie zaśpiewało coś też żeby we mnie zaśpiewało coś też rośnie we mnie mgła jak ze studzien stu nie wiem ilu trzeba ksiąg by ją rozwiać jedno wiem że muszę biec póki sił mi wystarczy póki tylko ta nuta mam ją w sobie będę koncert grać ten na trąbki i skrzypce tak by dźwięki ułożyły się w wiersz będę łyżką światła rozweselać to wszystko żeby w tobie zaśpiewało coś też żeby w tobie zaśpiewało coś też ',\n",
       " ' w tym pokoju bardzo cicho dziś po trzech dniach nareszcie śpisz gdzieś za drzwiami został ból całych siebie chcemy dać kilku ludzi dobrze nas zna tylko czasem słabnie nam puls już dobrze dobrze już może trzeba upaść na twarz swoje rzeczy ubogiemu dać i zacząć malować bez farb przeklinamy dzień za dniem śpisz bo życie nie jest snem taki ciężar tylko zgina ci kark już dobrze dobrze już w kącie siedzi anioł stróż strzeże naszych ciał i dusz za godzinę muszę wyjść przyjdź po bliskość moich ust chcę ci dać trochę wiary w cud póki możesz moje wino pij już dobrze dobrze już ',\n",
       " 'nie chcę śpiewać o wietrze zagubionym w dolinach nie o gwiazdach co wieczór spadających na zbocza nie chcę głosić prawd zapomnianych by ktoś nie rzekł że jestem fałszywym prorokiem kto z was takich przyjaciół ma by mówić im bracia kto pamięta o słowie tak prostym jak człowiek nie chcę głosić prawd zapomnianych by ktoś nie rzekł że jestem fałszywym prorokiem w nurcie czasu płyniemy płytszy cichszy już oddech tu mielizna tam kamień i znów wir rok po roku nie chcę głosić prawd zapomnianych by ktoś nie rzekł że jestem fałszywym prorokiem póki nie jest zapóźno póki czasu choć trochę wyjdźcie z domów do słońca wpuśćcie światło do mroku poszukajcie prawd zapomnianych a znajdziecie prawdziwych proroków język gazety przyrósł nam do gardła językiem gazety widzą nasze oczy przemykamy w szarej mżawce dnia skuci losem ',\n",
       " ' w rozstrzelonej chacie rozpaliłem ogień z rozwalonych pieców pieśni wyniosłem węgle naciągnąłem na drzazgi gontów błękitną płachtę nieba będę malował od nowa wioskę w dolinie święty mikołaju opowiedz jak tu było jakie pieśni śpiewano gdzie się pasły konie a on nie chce gadać ze mną po polsku z wypalonych źrenic tylko deszcze płyną ej ślepcze nauczę swoje dziecko po łemkowsku będziecie razem żebrać w malowanych wioskach święty mikołaju opowiedz jak tu było jakie pieśni śpiewano gdzie się pasły konie ',\n",
       " 'być raz wielcy trzej wodzowie oni mieć dobre zdrowie i pół litra nieraz mały problem być oni mieć zawsze humor gdy ognista woda ciurkiem w siebie lać my być tam my być tu wielki być nasz manitou on nam dać ognista woda woda dać my ją pić pić do rana nasza wódzia ukochana my ją pić my ją pić a potem paść wielki wódz mała kopa z niego być kawał chłopa on z mustanga gdy był młody na skalp spaść on mieć uśmiechnięta gęba i świergolić jak ptak zięba gdy ognista woda ciurkiem w siebie lać my być tam my być tu wielki być nasz manitou on nam dać ognista woda woda dać my ją pić pić do rana nasza wódzia ukochana my ją pić my ją pić a potem paść wielki wódz iczuczuna on mieć nad głową łuna taki wielki umysłowiec z niego być ciągle knuć i kombinować i bez przerwy lamentować jak by na tym głupim świecie lepiej żyć my być tam my być tu wielki być nasz manitou on nam dać ognista woda woda dać my ją pić pić do rana nasza wódzia ukochana my ją pić my ją pić a potem paść wielki wódz mała stopa on uderzyć nieźle z kopa na hamówkach nikt do niego nie mieć szans jak uderzyć dobrze z kopa nieboszczyków leżeć kopa on być byk on być byk on być byk my być tam my być tu wielki być nasz manitou on nam dać ognista woda woda dać my ją pić pić do rana nasza wódzia ukochana my ją pić my ją pić a potem paść ledwie świt na niebie wstanie już na ścieżce są indianie każdy swoją ścieżkę zdrowia dobrze znać brać indiańska nie mieć kaca i wesołe świecić glaca gdy ognista woda ciurkiem w siebie lać my być tam my być tu wielki być nasz manitou on nam dać ognista woda woda dać my ją pić pić do rana nasza wódzia ukochana my ją pić my ją pić a potem paść ',\n",
       " 'się masz witam cię piękną sprawę mam pakuj bety swe i jedź ze mną tam rzuć kłopotów stos no nie wykręcaj się całuj wszystko w nos osobowym drugą klasą przejedziemy się na mazury mazury mazury popływamy tą łajbą z tektury na mazury gdzie wiatr silny wieje gdzie są ryby i grzyby i knieje tam gdzie fale nas bujają gdzie się ludzie opalają wschody słońca piękne są i komary w dupę tną gdzie przy ogniu gra muzyka i gorzała w gardle znika pan leśniczy nie wiadomo skąd woła do nas poszła won uszczelniłem dno lekko chodzi miecz węzy smrodów sto przewietrzyłem przecz ster nie spada już i grot luzuje się więc się ze mną rusz już nie będzie tak jak wtedy nie denerwuj się na mazury mazury mazury popływamy tą łajbą z tektury na mazury gdzie wiatr silny wieje gdzie są ryby i grzyby i knieje tam gdzie fale nas bujają gdzie się ludzie opalają wschody słońca piękne są i komary w dupę tną gdzie przy ogniu gra muzyka i gorzała w gardle znika pan leśniczy nie wiadomo skąd woła do nas poszła won skrzynkę piwa mam ty otwieracz weź napić ci się dam tylko mi ją nieś coś rozdziawił dziób i masz głupi wzrok no nie stój jak ten słup z węgorzewa na ruciane wykonamy skok na mazury mazury mazury popływamy tą łajbą z tektury na mazury gdzie wiatr silny wieje gdzie są ryby i grzyby i knieje tam gdzie fale nas bujają gdzie się ludzie opalają wschody słońca piękne są i komary w dupę tną gdzie przy ogniu gra muzyka i gorzała w gardle znika pan leśniczy nie wiadomo skąd woła do nas dzień dobry żeglarze ',\n",
       " 'złotym kobiercem wymoszczone góry jesień w doliny zeszła dziś nad ranem buki czerwienią zabarwiły chmury z latem się złotym właśnie pożegnałem we wtorek w schronisku po sezonie w doliny wczoraj zszedł ostatni gość za oknem plucha kubek parzy dłonie i tej herbaty i tych gór mam dość szaruga niebo powoli zasnuwa wiatr już gałęzie pootrząsał z liści pod wiatr pod górę znowu sam zasuwam może w schronisku spotkam kogoś z bliskich we wtorek w schronisku po sezonie w doliny wczoraj zszedł ostatni gość za oknem plucha kubek parzy dłonie i tej herbaty i tych gór mam dość ludzie tak wiele spraw muszą załatwić a czas sobie płynie wolno panta rhei do siebie tylko już nie umiem trafić kochać to więcej siebie dać czy mniej we wtorek w schronisku po sezonie w doliny wczoraj zszedł ostatni gość za oknem plucha kubek parzy dłonie i tej herbaty i tych gór mam dość ',\n",
       " 'raz staruszek spacerując w lesie ujrzał listek przywiędły i blady i pomyślał znowu idzie jesień jesień idzie nie ma na to rady i podreptał do chaty po dróżce i oznajmił stanąwszy przed chatą swojej żonie tak samo staruszce jesień idzie nie ma rady na to a staruszka zmartwiła się szczerze zamachała rękami obiema musisz zacząć chodzić w pulowerze jesień idzie rady na to nie ma może zrobić się chłodno już jutro lub pojutrze a może za tydzień trzeba będzie wyjąć z kufra futro nie ma rady jesień jesień idzie a był sierpień pogoda prześliczna wszystko w złocie trwało i w zieleni prócz staruszków nikt chyba nie myślał o mającej nastąpić jesieni ale cóż oni żyli najdłużej mieli swoje staruszkowe zasady i wiedzieli że prędzej czy później jesień przyjdzie nie ma na to rady ',\n",
       " 'przeczekamy jeszcze jedną zimę żeby znów móc się spotkać mój przyjacielu opowiedzieć co dobrego i zapomnieć o złych chwilach mój przyjacielu a gdy wiosną wyschną drogi dogonimy tych co przeszli obok przeczekamy ciszę między nami płoche słowa i rozmowy nieskończone chleba nigdy nam nie zbrakło popatrz znowu kwitnie jabłoń przyjacielu gwiazda spadła przeczekamy jeszcze jedno lato wciąż nie wierząc że na karku mamy jesień mój przyjacielu a dziewczynom co odeszły odeślemy listy z deszczu mój przyjacielu żeby życia zbyt nie trudzić to epilog dopiszemy garścią złudzeń przeczekamy ciszę między nami płoche słowa i rozmowy nieskończone chleba nigdy nam nie zbrakło popatrz znowu kwitnie jabłoń przyjacielu gwiazda spadła mój przyjacielu ',\n",
       " 'w słoneczny wietrzny dzień w mym mieście lunenberg w roku zrodził się miał piękny ostry dziób solidny mocny tors a ochrzczono go po prostu blue nose blue nose dzielne imę twe zna cię morze i ocean zna blue nose północnych szlaków król sława twoja w ślad za tobą szła tysiące przebył mil długich lat ten szkuner z oceanem za pan brat miał zawsze dosyć sił lecz jednak rafy cios powalił go i zginął tak blue nose blue nose dzielne imę twe zna cię morze i ocean zna blue nose północnych szlaków król sława twoja w ślad za tobą szła lecz by w legendzie tej zachować żywą treść to gdy z pochylni kiedyś szkuner zszedł zaszemrał gapiów tłum usłyszeli wiatru głos popatrzcie to po prostu blue nose blue nose znów poniesiesz nas znało morze i ocean znał blue nose będziesz królem znów dobry wiatr twym żaglom życie dał ',\n",
       " ' wolniej wolniej wstrzymaj konia dokąd pędzisz w stal odziany pewnie tam gdzie błyszczą w dali jeruzalem białe ściany pewnie myślisz że w świątyni zniewolony pan twój czeka żebyś przyszedł go ocalić żebyś przybył doń z daleka na na na na na na na na na na na na na na na na na na na na na na na na na na na na na na na wolniej wolniej wstrzymaj konia byłem dzisiaj w jeruzalem przemierzałem puste sale pana twego nie widziałem pan opuścił święte miasto przed minutą przed godziną w chłodnym gaju na pustyni z mahometem pije wino na na na na na na na na na na na na na na na na na na na na na na na na na na na na na na na wolniej wolniej wstrzymaj konia chcesz oblegać jeruzalem strzegą go wysokie wieże strzegą go mahometanie pan opuścił święte miasto na nic poświęcenie twoje po cóż niszczyć białe wieże po cóż ludzi niepokoić na na na na na na na na na na na na na na na na na na na na na na na na na na na na na na na wolniej wolniej wstrzymaj konia porzuć walkę niepotrzebną porzuć miecz i włócznię swoją i jedź ze mną i jedź ze mną bo gdy szlakiem ku północy podążają hufce ludne ja podnoszę dumnie głowę i odjeżdżam na południe na na na na na na na na na na na na na na na na na na na na na na na na na na na na na na na ',\n",
       " 'na tablicy ogłoszeń pod hasłem lokale przeczytałem przedwczoraj ogłoszenie ciekawe na tablicy ogłoszeń fioletowym flamastrem ktoś nabazgrał słów kilka dziwna była ich treść tam gdzie spokój jest święty no bo święci są pańscy szklanką ciepłej herbaty poczęstuje cię pan pomyślałem to świetnie takie niebo na ziemi grzechów nikt nie przelicza nikt nie szpera w szufladzie pomyślałem to świetnie i spojrzałem na adres lecz deszcz rozmył litery i już nie wiem gdzie jest tam gdzie spokój jest święty no bo święci są pańscy szklanką ciepłej herbaty poczęstuje cię pan gdy wróciłem do domu gdzie się błękit z betonem splata w babel wysoki sięgający do chmur zaparzyłem herbatę w swym pokoju nad światem myśląc nic nie straciłem pewnie tak jest i tam tam gdzie spokój jest święty no bo święci są pańscy szklanką ciepłej herbaty poczęstuje cię pan niebo do wynajęcia niebo z widokiem na raj niebo do wynajęcia niebo z widokiem niebo do wynajęcia niebo z widokiem na raj niebo do wynajęcia niebo niebo do wynajęcia niebo z widokiem na raj niebo do wynajęcia niebo ',\n",
       " 'lato zamknięte kluczem ptaków zostawia tylko swe wspomnienia jesień odważnie stawia kroki zaczyna mgłami dyszeć ziemia a w górach nie ma już nikogo niebo nasz straszy niepogodą lato do ciepłych stron umyka w skłębionych chmurach i stumykach ',\n",
       " 'jesteś cicha jak śnieg który pada na kwiaty jesienne dłonie twoje jak lek koją usta pragnieniem bezsenne lecz mi nie pić z twych łask dusza siedmiokroć tęsknotą otruta ociemniała na blask noc ma każda ciężka jak pokuta śpiewam o tobie co dzień długo w noc a gdy nad ranem zasnę mam we śnie swoim słonce radość i moc i twoje oczy jasne lecz gdy się zbudzę nie widzę twych rąk co pierś mi chcą ogrzewać i ciągle musze żyć tak sam wśród mąk bym mógł o tobie śpiewać szczęście wątłe jak mgły wicher mi stargał jako mgły rozwiejne najpiękniejsze me sny czyż być muszą zawsze beznadziejne ',\n",
       " ' dezyderata dezyderata przechodź spokojnie przez hałas i pośpiech i pamiętaj jaki spokój można znaleźć w ciszy o ile to możliwe bez wyrzekania się siebie bądź na dobrej stopie ze wszystkimi wypowiadaj swoją prawdę jasno i spokojnie wysłuchaj innych nawet tępych i nieświadomych oni też mają swoja opowieść oni też mają opowieść unikaj głośnych i napastliwych unikaj głośnych są udręką ducha niech twoje osiągnięcia zarówno jak plany będą dla ciebie źródłem radości bądź ostrożny w interesach bądź ostrożny w interesach na świecie bowiem pełno oszustwa bądź sobą zwłaszcza nie udawaj uczucia ani też nie podchodź cynicznie do miłości bo ona jest wieczna jak trawa bo ona jest wieczna unikaj głośnych i napastliwych unikaj głośnych są udręką ducha przyjmij spokojnie co ci lata doradzają z wdziękiem wyrzekając się spraw młodości jesteś dzieckiem wszechświata nie mniej niż drzewa i gwiazdy masz prawo być tutaj tak więc żyj w zgodzie z bogiem czymkolwiek on ci się wydaje w zgiełkliwym pomieszaniu życia zachowaj spokój w zgiełkliwym pomieszaniu życia zachowaj spokój ze swą duszą przy całej swej złudności znoju i rozwianych marzeniach jest to piękny świat jest to piękny świat znalezione w starym kościele świętego pawła w baltimore datowane tysiąc sześćset dziewiędziesiąty drugi rok przy całej swej złudności znoju i rozwianych marzeniach jest to piękny świat jest to piękny świat ',\n",
       " ' tysiąc osiemset sześćdziesiąty pierwszy w atlancie szał tysięcy młodych nóg generał lee podnosi w górę rękę jankesom śmierć tak nam dopomóż bóg na dworcu tłok sztandary i kobiety pociągi pełne chłopców żądnych krwi w kwietniowym słońcu błyszczą epolety wiwat południe wiwat stary lee scarlett czemu słowa takie zimne jakby w gardle okruch lodu stał scarlett wojna nie jest dla dziewczynek które nie potrafią grać va banque tysiąc osiemset sześćdziesiąty drugi jesienne słońce w epoletach lśni generał lee dochodzi do missouri do pennsylwanii wkracza stary lee artyleryjski ogień wkrótce zdławi jankeskie szczury w górach tennessee zwycięstwa bóg atlantę błogosławi wiwat południe wiwat stary lee scarlett czemu słowa takie zimne jakby w gardle okruch lodu stał scarlett wojna nie jest dla dziewczynek które nie potrafią grać va banque tysiąc osiemset sześćdziesiąty czwarty w krwi południowej tonie miasta bruk jankeskie psy nie wejdą do atlanty jankesom śmierć tak nam dopomóż bóg płonie atlanta w ogniu oszalałym sztandar obłażą wygłodzone wszy gwardia opuszcza miasto osłupiałe znak krzyża szablą kreśli stary lee scarlett czemu słowa takie zimne jakby w gardle okruch lodu stał scarlett wojna nie jest dla dziewczynek które nie potrafią grać va banque scarlett on powtarza twoje imię czując w ustach prochu smak scarlett miłość nie jest dla dziewczynek które nie potrafią grać va banque ',\n",
       " 'liści zielenią zagra nam wiatr a śpiewność ptaków tylko prawdę powie choć niepojęty ten stary świat choć nam nie wszystko chce zmieścić się w głowie to zatańcz ze mną na polanie ot tak poprostu to zatańcz ze mną na polanie choć raz prawdziwie zatańcz ze mną sobie spójrz drzewa takie są uśmiechnięte a trawa oświadcza się kwiatom choć niepojęte to piękno przepiękne oddają się same nie dając nic za to drzewa coś szepcą coś ciągle śpiewają i pełno w ich szumie jest twojej piękności choć troszeczkę o jesieni bają to i tak las pełen jest naszej miłości to zatańcz ze mną na polanie ot tak poprostu to zatańcz ze mną na polanie choć raz prawdziwie zatańcz ze mną sobie ',\n",
       " 'że spadnie z nieba to co chcesz mylisz się bracie i na pewno nie czekaj cudów przecież wiesz życie upływa a masz jedno tylko chcieć będziesz miał słońce co dnia tylko chcieć rozjaśnisz każdy mrok tylko chcieć twój cały będzie zodiak tylko chcieć a szczęście masz o krok kolory tęczy i złoto zbóż srebro księżyca i zapach róż dla ciebie wszystko nie pójdziesz dalej nawet krok gdy stoisz w miejscu to na pewno nie czekaj cudów przecież wiesz życie upływa a masz jedno tylko chcieć będziesz miał słońce co dnia tylko chcieć rozjaśnisz każdy mrok tylko chcieć twój cały będzie zodiak tylko chcieć a szczęście masz o krok kolory tęczy i złoto zbóż srebro księżyca i zapach róż dla ciebie wszystko nie czekaj jutra dzisiaj już obudź się bracie kwiaty więdną i już bez cudów przecież wiesz życie upływa a masz jedno tylko chcieć będziesz miał słońce co dnia tylko chcieć rozjaśnisz każdy mrok tylko chcieć twój cały będzie zodiak tylko chcieć a szczęście masz o krok kolory tęczy i złoto zbóż srebro księżyca i zapach róż dla ciebie wszystko ',\n",
       " 'spocznij ten za odwagę a ten za męstwo ten jest za dzielność ten za woli hart ten za niezłomność ten za nieugiętość ten za niewzruszoność mimo zmiany wart ten jest za upór a ten za wytrwałość ten jest za zaciętość ten za ducha moc ten za odporność ten za wytrzymałość ten za niestrudzoność w dzień i w noc ten za prawomyślność a ten za lojalność ten za milczenie a ten za hura ten za posłuszeństwo a ten za karność ten jest za nie a ten jest za tak ten nie pamiętam a ten nie powiem ten jest za darmo ten za złotych sto ten za chorobę a ten za zdrowie ten za dobry wzrok a ten za dobry słuch ten za kichnięcie a ten za wzdęcie ten za od oklasków zwichnięty bark ten za historycznych procesów pojęcie ten za twardy łeb ten za zgięty kark ten za jak wyżej a ten zapomniałem zresztą nieważne jak dają bierz chcesz bohaterem być życie całe nie nadstawiaj głowy nadstawiaj pierś ',\n",
       " 'po klęsce nie pierwszej podnosząc przyłbicę przechodzą jak we śnie ostatnie granice przez cło przemycają swój okrzyk bojowy i kulę ostatnią co w ustach się schowa przy stołach współczucia nurzają się w wine i obcym śpiewają o tej co nie zginie swą krew ocaloną oddają za darmo każdemu kto zechce połączyć ich z armią farbują mundury wędrują przez kraje i czasem strzelają do siebie nawzajem pod każdym sztandarem byle nie białym szukają zwycięztwa rozbite oddziały przychodzą po zmierzchu do kobiet im obcych a tam kędy przejdą urodzą się chłopcy gdy wrócą przygnani kolejną zawieją zobaczą że synów swych nie rozumieją spisują więc dla nich noc w noc pamiętniki nieprzetłumaczalne na obce języki i cierpią gdy śmieje się z nich świat zwycięski niepomni że mądry nie śmieje się z klęski ',\n",
       " 'wybiegani wysłuchani wybawieni siądźcie wkoło do ogniska mego stóp chcę powiedzieć wam o tamtej złej jesieni z której przyszedł ten harcerski leśny grób myśli mieli rozczochrane jak wy dzisiaj i mundury te dzisiejsze mieli też lecz stanęli w pogotowiu gdy padł wystrzał aby bronić tej największej z wielkich wież harcerze którym słowa na ustach zamierały harcerki którym uśmiech zabrał wojny czas jak ptaki po przestworzach losu szybowały i padały jak puszczony bez nadziei głaz mogli odejść mogli uciec w swoje jutro nikt by słowa im powiedzieć nie był śmiał lecz zostali chociaż było im tak trudno gdy za strzałem padał ciągle drugi strzał harcerze którym słowa na ustach zamierały harcerki którym uśmiech zabrał wojny czas jak ptaki po przestworzach losu szybowały i padały jak puszczony bez nadziei głaz to dla polski tak czuwali dniem i nocą polski sztandar osłaniali piersią swą i odeszli kiedy wzięto ich przemocą aby w ziemię wtopić całą duszę swą harcerze którym słowa na ustach zamierały harcerki którym uśmiech zabrał wojny czas jak ptaki po przestworzach losu szybowały i padały jak puszczony bez nadziei głaz niech im pokłon odda nasze pokolenie tym co umrzeć tam umieli mimo snów i gdy przyjdą by podeptać nam marzenia polski sztandar my osłońmy piersią znów harcerze którym słowa na ustach zamierały harcerki którym uśmiech zabrał wojny czas jak ptaki po przestworzach losu szybowały i padały jak puszczony bez nadziei głaz ',\n",
       " 'nie płacz w liście nie pisz że los ciebie kopnął nie ma sytuacji na ziemi bez wyjścia kiedy bóg drzwi zamyka to otwiera okno kiedy bóg drzwi zamyka to otwiera okno odetchnij popatrz spadają z obłoków małe wielkie nieszczęścia potrzebne do szczęścia a od zwykłych rzeczy naucz się spokoju i zapomnij że jesteś gdy mówisz że kochasz i zapomnij że jesteś gdy mówisz że kochasz kiedy bóg drzwi zamyka to otwiera okno więc zapomnij że jesteś gdy mówisz że kochasz ',\n",
       " 'na parterze w mojej chacie mieszkał kiedyś taki facet który dnia pewnego cicho do mnie rzekł gdy poderwać chcesz dziewczynę nie zapraszaj jej do kina tylko patrząc prosto w oczy szepnij słowa te jestem taki samotny jak palec albo pies kocham wiersze stachury i stary dobry jazz szczęścia w życiu nie miałem rzucały mnie dziewczyny szukam cichego portu gdzie okręt mój zawinie po tych słowach z miłosierdzia padłą już nie jedna twierdza i nie jedna cnota chyżo poszła w las ryba bierze na robaki a panienka na tekst taki który mówię zawsze patrząc prosto w twarz jestem taki samotny jak palec albo pies kocham wiersze stachury i stary dobry jazz szczęścia w życiu nie miałem rzucały mnie dziewczyny szukam cichego portu gdzie okręt mój zawinie gdy szał pierwszych zrywów minął zakochałem się w dziewczynie takiej z którą się na całe życie zostać chce chciałem rzec będziemy razem zrozumiała mnie od razu i jak echo wyszeptała słowa te jesteś taki samotny jak palec albo pies kochasz wiersze stachury i stary dobry jazz szczęścia w życiu nie miałeś rzucały cię dziewczyny szukasz cichego portu więc spływaj sukinsynu ',\n",
       " 'to dwudziesty czwarty był lutego poranna zrzedła mgła wyszło z niej siedem uzbrojonych kryp turecki niosły znak no i znów bijatyka no i znów bijatyka no i bijatyka cały dzień i porąbany dzień i porąbany łeb razem bracia aż po zmierzch już pierwszy skrada się do burt a zwie się goździk i z algieru pasza wysłał go żeby nam upuścił krwi następny zbliża się do burt a zwie się róży pąk plunęliśmy ze wszystkich rur bardzo prędko szedł na dno w naszych rękach dwa i dwa na dnie cała reszta zwiała gdzieś no a jeden z nich zabraliśmy na starej anglii brzeg ',\n",
       " 'czasem nagle smutniejesz to jakby dnia ubywa i nie wiem jak ci pomóc więc tylko proszę wybacz czasem łzy w twoich oczach na krótką chwilę goszczą i nie wiem czy coś mówić i nawet nie wiem po co puszczam więc wtedy latawce ze śmiechu mego śmieszne i znowu dnia przybywa powietrze staje się lżejsze i lżejsza staje się wędrówka z plecakiem wciąż coraz cięższym nad domem przysiadła tęcza na nieba niebieskiej gałęzi ',\n",
       " ' całe życie w niebo idzie mój połoniński pochód i buki srebrni jeźdźcy nad nimi wiosny sokół i nadal tamtej połoniny wiatr i chmur wiosennych grzywy i na chorągwi wspomnień twarz z włosami wiejącymi jak ciała nasze w mrocznym rytmie wznosiły się góry opadały tak dzieje się gdy wiosna przyjdzie wypala miłość stare trawy całe życie w niebo idzie mój połoniński pochód i buki srebrni jeźdźcy nad nimi wiosny sokół jak popiół rozwiały się grzechy w ciszy ktoś zawilce zasiał i tylko grzmią włosy przestrzeni w wielkich oknach mego świata jak ciała nasze w mrocznym rytmie wznosiły się góry opadały tak dzieje się gdy wiosna przyjdzie wypala miłość stare trawy ',\n",
       " ' letni deszcz po dachówkach szumi spać się kładzie każdy kto umie zasnąć zasnąć gdy pada letni deszcz rzeki się pod mostami cisną tysiące kropel drążą swe pismo na szybach na szybach kładzie cienie zmierzch jaworzyna górom się kłania spod obłoków szczyt odsłania pogoda będzie jutro będzie ładny świt rozchmurzyła się jaworzyna już nie płacze śmiać się zaczyna pogoda będzie jutro nie będzie smutny nikt noc się ściele na lasach mokrych gasną światła w oknach domów samotnych w nocy samotność gorsza jest ludzie się kryją w swoich myślach zamknięte drzwi zamknięte oczy sen blisko blisko za oknem szczeka pies jaworzyna górom się kłania spod obłoków szczyt odsłania pogoda będzie jutro będzie ładny świt rozchmurzyła się jaworzyna już nie płacze śmiać się zaczyna pogoda będzie jutro nie będzie smutny nikt ',\n",
       " 'był człowiek bez butów i dobry był człowiek samotnie swe życie nad myślą przetrudził jak ludzkim niedolom i biedom zapobiec wymyślił w świat poszedł pomagać chciał ludziom stój dokąd idziesz już nogi ustały stój przecież widzisz bez butów nic nie zdziałasz i królem się ostał poddani choć ślepi i cnotę i mądrość chwalili aż błazen z radością do nóg mu się czepił bez butów jest krzyknął i z tronu strącili stój dokąd idziesz gdy nikim się stałeś ty królem być mogłeś lecz butów nie miałeś kochankiem dla brzydkiej dziewczyny chciał zostać nie chciała go brzydka dziewczyna i nie zmógł miłości bez butów nie sprostał kochanek po cierniach się wspina stój dokąd idziesz z miłości wyzuty kochankiem być chciałeś lecz byłeś bez butów i księgi im pisał mądrości im prawił nauczył ich koła i skrótów a lud go w podzięce kijami oprawił nie możesz być mądrym bez butów stój dokąd idziesz z ranami na twarzy ty wciąż jesteś mądry choć o butach marzysz i chodził po świecie i życie swe chwalił nie stracił nadziei choć zblakły mu włosy aż trafił na miejsce gdzie butów nie znali i stał się równym wśród bosych stój dokąd idziesz gdzie szukasz nieba stój przecież widzisz że tu cię najbardziej potrzeba ',\n",
       " 'ty nie jesteś kliprem sławnym cutty sark czy betty louis w pacyfiku portach gwarnych nie zahuczy w głowie rum nie dla ciebie są cyklony hornu także nie opłyniesz w rejsie sławnym i szalonym szancie starej nie zaginiesz hej samantha hej samantha kiedy wiatr ci gra na wantach ty rysujesz wody tafle moje serce masz pod gaflem czasem ciężko prujesz wodę i twe żagle już nie nowe jesteś łajbą pełną wzruszeń jesteś łajbą co ma duszę ale teraz wyznać pora chociaż nie wiem czemu psiakość gdy cię nie ma na jezorach na jeziorach pusto jakoś gdy w wieczornej przyjdzie porze śpiewać zwrotki piosnki złudnej gdy cię nie ma na jeziorze to mazury nie są cudne hej samantha hej samantha kiedy wiatr ci gra na wantach ty rysujesz wody tafle moje serce masz pod gaflem czasem ciężko prujesz wodę i twe żagle już nie nowe jesteś łajbą pełną wzruszeń jesteś łajbą co ma duszę czasem kiedyś już zmęczona w chwili krótkiej przyjemności w złotych słońca stu ramionach ty wygrzewasz stare kości a gdy przyjdzie kres twych dróg nie zapłaczę na pogrzebie wiem że sprawi dobry bóg byś pływała dalej w niebie hej samantha hej samantha kiedy wiatr ci gra na wantach ty rysujesz wody tafle moje serce masz pod gaflem czasem ciężko prujesz wodę i twe żagle już nie nowe jesteś łajbą pełną wzruszeń jesteś łajbą co ma duszę co ma duszę co ma duszę ',\n",
       " 'herbata stygnie zapada mrok a pod piórem ciągle nic obowiązek obowiązkiem jest piosenka musi posiadać tekst gdyby chociaż mucha zjawiła się mogłabym ją zabić a później to opisać w moich słowach słoma czai się nie znaczą nic jeśli szukasz sensu prawdy w nich zawiedziesz się a może zmienić zasady gry chcesz usłyszeć słowa to sam je sobie wymyśl nabij diabła chmurę śmierci weź pomoże ci wnet twe myśli w słowa zmienią się wyśpiewasz je sam ',\n",
       " 'idzie diabeł ścieżką krzywą pełen myśli złych nie pożyczył mu na piwo nie pożyczył nikt słońce praży go od rana wiatr gorący dmucha diabeł się na nogach słania w ten piekelny upał idzie anioł wśród zieleni dobrze mu się wiedzie pełno drobnych ma w kieszeni i przyjaciół wszędzie nagle przystaneli obaj na górze pod śliwką i ujrzeli że im browar wyszedł na przeciwko nie ma szczęścia na tym świecie ni sprawiedliwości anioł pije piwo trzecie diabeł mu zazdrości rzecze diabeł postaw kufel bóg ci wynagrodzi my artyści w taki upał musimy żyć w zgodzie na to anioł zatrzepotał skrzydeł pióropuszem i powiada dam ci dychę w zamiam za twą duszę musiał diabeł aniołowi wściekłą duszę sprzedać i stworzyli sobie piekło z odrobiną nieba ',\n",
       " 'lulajże jezuniu moja perełko lulaj ulubione me pieścidełko lulajże jezuniu lulajże lulaj a ty go matulu w płaczu utulaj zamkijże znużone płaczem powieczki utulże zemdlone łkaniem usteczki lulajże jezuniu lulajże lulaj a ty go matulu w płaczu utulaj lulajże piękniuchny mój aniołeczku lulajże wdzięczniuchny świata kwiateczku lulajże jezuniu lulajże lulaj a ty go matulu w płaczu utulaj ',\n",
       " 'tydzień z hakiem dobrze było mi na świecie bo od rana do wieczora piłem wściekle aż mnie ścięło z nóg na amen tuż przy mecie i pojąłem cały drżąc że jestem w piekle w miejscu staną czas i lęk ogarną duszę za całego życia winny wieczną męką by uniknąć jej wiedziełem wypić muszę ale jak na złość nie było nic pod ręką wszyscy krewni i znajomi stali wokół pochylali swoje współczujące głowy powtarzając na okrągło tylko spokój nic ci się nie stanie przecież jesteś zdrowy potem przyszedł lekarz razem z tłumem gości każdy z nich ze sobą przyniósł flaszkę wódki i śpiewali że za siedem dni radości całą wieczność będę troski miał i smutki i słyszłem jak bawili się do rana jak wznosili tuż za ścianą moje zdrowie kiedy czułem jak sufitu twarz pijana drwiąco patrzy na mnie spod przymkniętych powiek czas nie mijał ale trwał z uporem czasu który dobrze wie że czasu ma w nadmiarze minął wiek nim myśl zrodziła się z hałasu by pogrążyć w jeszcze większym mnie koszmarze trzysta lat myślałem o tym co zrobiłem trzysta czego mi się zrobić nie udało trzecie trzysta się zbierałem na wysiłek żeby sprawdzić czy mnie słucha własne ciało kiedy wstałem puste było moje piekło śladu gości uczt ni wrzawy już nie słychać tysiąc lat minęło w końcu jak się rzekło więc najwyższy czas wyskoczyć na kielicha tydzień z hakiem dobrze było mi na świecie bo od rana do wieczora piłem wściekle aż mnie ścieło z nóg na amen tuż przy mecie i pojąłem cały drżąc że jestem w piekle w miejscu staną czas i lęk ogarną duszę za całego życia winy wieczną męką by uniknąć jej wiedziałem wypić muszę ale jak na złość nie było nic pod ręką ',\n",
       " 'jest czwarta nad ranem już kończy się grudzień list piszę do ciebie czy dobrze się czujesz w new yorku jest zimno poza tym w porządku muzyka na clinton street gra na okrągło podobno budujesz swój własny dom w głębi pustyni od życia nie chcesz już nic lecz musiałeś zachować wspomnienia a jane do dziś kosmyk włosów ma twych wiem gdy dawałeś go jej myślałeś już o tym by zwiać lecz niełatwo jest zwiać gdy tu byłeś ostatnio wyglądałeś jak starzec podniszczyłeś swój słynny niebieski prochowiec do każdego pociągu wychodziłeś na dworzec bez swej lili marlene pojechałeś do domu dałeś mojej kobiecie z twego życia zaledwie strzęp nie jest już moją żoną lecz twoją też nie wciąż widzę cię z różą w zębach choć wiem że to tani był greps lecz spodobał się jane jane pozdrawia cię też cóż mam ci powiedzieć mój bracie mój kacie sam nie wiem czy pisać czy nie brakuje mi ciebie przebaczam od siebie to dobrze żeś w drogę mi wszedł a może byś tak tutaj wpadł do mnie lub do jane pomyśl twój wróg sypia twardo a jego żona nudzi się więc dziękuję ci że wypędziłeś jej z oczu ten żal ja myślałem że musi być tak nie starałem się więc a jane do dziś kosmyk włosów ma twych wiem że gdy dawałeś go jej myślałeś już o tym by zwiać z poważaniem leonard cohen ',\n",
       " ' a a a wędrówką jedną życie jest człowieka idzie wciąż dalej wciąż dokąd skąd dokąd skąd dokąd skąd jak zjawa senna życie jest człowieka zjawia się dotknąć chcesz lecz ucieka lecz ucieka lecz ucieka to nic to nic to nic dopóki sił jednak iść przecież iść będę iść to nic to nic to nic dopóki sił będzie będę szedł będę biegł nie dam się wędrówką jedną życie jest człowieka idzie tam idzie tu brak mu tchu brak mu tchu brak mu tchu jak chmura zwiewna życie jest człowieka płynie wzwyż płynie w niż śmierć go czeka śmierć go czeka śmierć go czeka to nic to nic to nic dopóki sił jednak iść przecież iść będę iść to nic to nic to nic dopóki sił będę szedł będę biegł nie dam się a a a ',\n",
       " 'opadły mgły i pociąg ze snu się budzi górą snuje się dym przy ruszaniu szybkim się ktoś wywrócił ktoś tam śpi na koledze swym pies się włóczy po pod kołami bez głowy trzeba zmienić jazdy kierunek młotek niesie młotkowy a ciuchcia toczy toczy swój skład uroczy toczy toczy się skład ty co wisisz na lampie by stać mógł ktoś już dość już dość już dość nie ma tu tuneli drutów z prądem brak a więc wdrapuj się szybko na dach bo nowy dzień wstaje bo nowy dzień wstaje nowy dzień wstaje nowy dzień z czarnego snu już miasto się wynurza słońce rozpędza mrok na koleje polskie się ktoś oburza bo coraz większy jest tlok śpi na półce nad nami osób pięć pospołu ale półka urwać się nie może trzymamy ją od dołu a ciuchcia toczy toczy swój skład uroczy toczy toczy się skład ty co leżysz na dachu by stać mógł ktoś już dość już dość już dość usiądź sobie z brzegu i zrób miejsce nam bo my zaraz wdrapiemy się tam bo nowy dzień wstaje bo nowy dzień wstaje nowy dzień wstaje nowy dzień ',\n",
       " ' z brzękiem ostróg wjechałem do miasta pod jesień było czas złotych liści nastał w kieszeni worek srebra czas do domu wtem za plecami woła głos jej głos usiądź razem ze mną spróbuj mego wina z czereśni wiśni resztek lata choć jesień się zaczyna tyle tej jesieni jeszcze jest przed nami zdążysz wrócić do domu nim noc zawita nad drogami hej słońce stało w zenicie bił południowy żar a w gardle kurz przebytych dróg co tam spocznę chwilę przecież nie zaszkodzi do przejścia niedaleką jeszcze drogę mam a ona kusi usiądź razem ze mną spróbuj mego wina z czereśni wiśni resztek lata choć jesień się zaczyna tyle tej jesieni jeszcze jest przed nami zdążysz wrócić do domu nim noc zawita nad drogami hej zbudziłem się w czerwieniach zachodu pod starą karczmą co rynek zamyka zabrała moje srebro duszę i ostrogi zostało pragnienie i tępy głowy ból i pamięć jej słów usiądź razem ze mną spróbuj mego wina z czereśni wiśni resztek lata choć jesień się zaczyna tyle tej jesieni jeszcze jest przed nami zdążysz wrócić do domu nim noc zawita nad drogami hej ',\n",
       " ' tam gdzie najtęższej sośnie upić się czasem zdarzy gdzie wiatr jak winem z morza jodem dmie gdzie wierzba nad strumykiem rozgrzane chłodząc stopy północ bez trudu dojrzy w ładny dzień rzeźbiarz zamorski sławny przemierzał kiedyś lata wilgotnych butów znaczył każdy krok zakatarzonym marszem do domu swego wracał zgubił cudownych luster sto w najpiękniejszym spośród luster zanurzyłem dzbany puste zanim słońce cicho wzeszło na pogodę dzbany młodość dopijały w świat odbity świat wspaniały wrysowałem swe odbicie młode kiedyś już późnym latem na liście jesień spadła i po swojemu splotła wystrój dnia jak dzikich kaczek stado z odlotem się wstrzymała by się w mym lustrze przejrzeć jeszcze raz i każdy kto przechodził u lustra mego stawał rumieńcem barw wytaczał obraz swój i tylko zima biała odbicia nie znalazła znalazła chłodnych powiek lód w najpiękniejszym spośród luster zanurzyłem dzbany puste zanim słońce cicho wzeszło na pogodę dzbany młodość dopijały w świat odbity świat wspaniały wrysowałem swe odbicie młode ',\n",
       " 'rzeczny wir rwący prąd obca nazwa łatwy rytm lecz przejrzysty twój nurt jak kryniczny zdrój ach arbacie toś ty wiecznym przeznaczeniem mym w tobie radość i gniew w tobie śmiech i ból ach arbacie toś ty wiecznym przeznaczeniem mym w tobie radość i gniew w tobie śmiech i ból gdy przechodniów twych tłum sunie obok rojem pstrym tak pospieszny ich krok tak powszedni ślad ach arbacie toś ty wiarą i zbawieniem mym wyślizgany twój bruk to mój cały świat ach arbacie toś ty wiarą i zbawieniem mym wyślizgany twój bruk to mój cały świat czarów nie da się zdjąć mocą dobrą ani złą choćbym tysiąc śnił miast nie zamieszkam w nich ach arbacie toś ty ziemią obiecaną mą niezbadanych twych dróg nie przemierzy nikt ach arbacie toś ty ziemią obiecaną mą niezbadanych twych dróg nie przemierzy nikt ',\n",
       " 'był sobie raz pajączek co żywot wiódł radosny rozsnuwał co noc sieć swą od sosny aż do sosny kres szczęściu przynósł wietrzyk co nieraz sobie dmucha z jego bowiem sprawą do tej sieci wpadła mucha aaa aaa aaa aaa i tutaj nasz pajączek postąpił wbrew naturze miast wrąbać ją na obiad on w muszcze się zadurzył co było dalej myślcie i każdy jak potrafi ja o tym wam nie powiem bo nie lubię pornografii aaa aaa aaa aaa wystąpił ród pajęczy ratując konwenanse zabronił pajączkowi popełniać mezalianse przewidzieć skutku czynu pajączek już nie zdążył bo z lewej konwenanse a z prawej mucha w ciąży aaa aaa aaa aaa oj przykład to poważny i prosto z życia wzięty bo nie tylko nasz pajączek musi płacić alimenty historia pajączka niech czasem panów przejmie ruszajcie trochę głową gdy dziewczyna suknię zdejmie aaa aaa aaa aaa ',\n",
       " 'tej nocy anioł przyszedł do józefa zbudźcie dzieciątko co tak słodko śpi judea dziś to niebezpieczna strefa i policzone małych chłopców dni namiestnik herod ciągle drży w obawie że chociaż władzę dzierży jego dłoń i rzymski cesarz patrzy nań łaskawie to w rączkach dzieci może kryć się broń uciekali uciekali uciekali na osiołku przez pustyni żar jak najdalej jak najdalej jak najdalej ukryć dziecię bezcenny ich skarb ciężko ojczyznę wspominać w pustyni mieliśmy jakoś zapewniony byt choć czasem patrol mijał drzwi świątyni zawsze się modlić mógł pobożny żyd lecz może trzeba szlakiem iść wygnania tak jak przodkowie nasi kiedyś szli może nie tu jest ziemia obiecana może gdzie indziej będzie rósł nasz syn uciekali uciekali uciekali na osiołku przez pustyni żar jak najdalej jak najdalej jak najdalej ukryć dziecię bezcenny ich skarb jeszcze nie wiemy co nam przeznaczone lecz choć przeczucia czasem dręczą złe ojciec niebieski weźmie nas w obronę i znowu anioł zjawi się we śnie piasek przysypał szlaki do betlejem zabłądzić łatwo trudny każdy krok tak mało mamy tylko tę nadzieję która rozjaśnia nam codzienny mrok uciekali uciekali uciekali na osiołku przez pustyni żar jak najdalej jak najdalej jak najdalej ukryć dziecię bezcenny ich skarb ',\n",
       " 'idę samotny wśród gór zagubiony w świecie wiatr tylko ścieżki me zna słońce niebawem za horyzont się wyniesie światem zawładnie mgła gdy wśród ciemności jakiś ognik ujrzysz będzie to dobry znak nowych ludzi poznam od nich się nauczę gawęd starych tak jak świat niech każdy z was się dowie co traci nie będąc tu świerk szumem ci opowie co zaszło tu przed lat stu strumień orzeźwi ci stopy i on kiedyś wody dał spragnionym w górach wędrowcom co szli tędy tak jak ja góra za górą chowa swe oblicze lecz te dokładnie już znam żadna mi nie ujdzie wszystko zaliczę chociaż o drogi szmat wciąż lat przybywa i świat się też starzeje cóż naturalna to rzecz ktoś kto przeglądać będzie stare szpargały może przeczyta ten tekst niech każdy z was się dowie co traci nie będąc tu świerk szumem ci opowie co zaszło tu przed lat stu strumień orzeźwi ci stopy i on kiedyś wody dał spragnionym w górach wędrowcom co szli tędy tak jak ja ',\n",
       " 'potwierdzają to setne przykłady że westerny wciąż jeszcze są w modzie wysłuchajcie więc państwo ballady o tak zwanym najdzikszym zachodzie miasto było tam jakich tysiące wokół preria i skały naprzeciw jak gdzie indziej świeciło tam słońce marli starcy rodziły się dzieci i tym tylko od innych różni się ta ballada że w tym mieście gdzieś na prerii krańcach na jednego mieszkańca jeden szeryf przypadał jeden szeryf na jednego mieszkańca konsekwencje ten fakt miał ogromne bo nikt w mieście za spluwę nie chwytał i od dawna już każdy zapomniał jak wygląda prawdziwy bandyta choć finanse poniekąd leżały gospodarka i przemysł był na nic ale każdy czy duży czy mały czuł się za to bezpieczny bez granic bo tym tylko od innych różni się ta ballada że w tym mieście gdzieś na prerii krańcach na jednego mieszkańca jeden szeryf przypadał jeden szeryf na jednego mieszkańca jeśli państwa historia ta nudzi to pocieszcie się tym że nareszcie którejś nocy krzyk ludzi obudził bank rozbity bandyci są w mieście dobrzy ludzie na próżno wołacie nikt nie wstanie za spluwę nie chwyci skoro każdy świadomość zatracił czym się różnią od ludzi bandyci a tym tylko od innych różni się ta ballada że w tym mieście gdzieś na prerii krańcach na każdego człowieka nagle strach upadł blady od szeryfa do zwykłego mieszkańca potwierdzają to setne przykłady że westerny wciąż jeszcze są w modzie wysłuchaliście państwo ballady o tak zwanym najdzikszym zachodzie miasto było tam jakich tysiące ludzkie w nim krzyżowały się drogi lecz nie wszystkim świeciło tam słońce bo bandyci krążyli bez trwogi wyciągnijmy więc morał w tej balladzie ukryty gdy nie grozi nam żadne rififi że czasami najtrudniej rozpoznać bandytę gdy dokoła sami szeryfi ',\n",
       " 'dopala się świeca maleńki płomień drży powoli zza pieca wychodzą szare sny zacięła się płyta adapter się biedzi stukają w podłogę zmęczeni sąsiedzi więc idź już nie wracaj nie przeszkadzaj mi nie było cię długo przestałam liczyć dni wolałeś tę drugą kwiaciarkę z vis a vis zapomniał korytarz jak brzmią twoje kroki nie poznał cię nawet twój fotel głęboki więc po co tu siedzisz dziwisz nocne ćmy posłuchaj latarnie wołają cię zza mgły nie patrz tak na mnie wiesz przecież gdzie są drzwi potrafię bez ciebie oddychać i śpiewać choć coraz bezbarwniej jest ptakom na drzewach a tamte dwie krople to wcale nie są łzy ',\n",
       " 'wieczór w granatowym swym płaszczu gwiazdy już pozapalał z kątów wyłażą zrudziałe smutki a my gramy na swych gitarach i ciche nutki zbieramy by grały nam razem do taktu niebieskie myśli odganiamy bo przecież jeszcze nie czas jeszcze nie czas swe marzenia do walizek kłaść jeszcze nie czas by piosenki nasze śpiewał tylko wiatr jeszcze nie czas by gitary spały na dnie szaf póki tyle jest muzyki jeszcze w nas a kiedy zabraknie przyjaciół by wieczór przegadać do rana to przecież masz jeszcze swoją gitarę strun kilka melodii parę gdy piasek nie chce się wsypać pod oczy i do snu zaprosić to trzeba gdzieś odejść by dłużej nie płakać i smutku w swym sercu nie nosić jeszcze nie czas swe marzenia do walizek kłaść jeszcze nie czas by piosenki nasze śpiewał tylko wiatr jeszcze nie czas by gitary spały na dnie szaf póki tyle jest muzyki jeszcze w nas gdy włożą cię w dębową skrzynkę niech włożą razem z gitarą niech w niebie ci grają struny srebrzyste melodię twą ukochaną jeszcze nie czas swe marzenia do walizek kłaść jeszcze nie czas by piosenki nasze śpiewał tylko wiatr jeszcze nie czas by gitary spały na dnie szaf póki tyle jest muzyki jeszcze w nas ',\n",
       " ' do mnie tu przyjdź i słuchaj pieśni złożonej z tęsknot marzeń wyobraźni a jeśli chcesz to zabrzmi głośniej ty dodasz do niej miłość swą miły mój w deszczu do mnie biegł płynął rzeką ciemną szedł doliną miły mój ledwie dotknął mnie z jego palców błysnął dzień miła ma w deszczu do mnie szła po promieniu słońca prędko biegła miła ma na krosienkach dnia tka już nocy zwiewny szal ta wielka noc gdy pierwszy strach trzymał ciała nasze na odległość ramion dawno już dziś zszarzała zbladła wchodzimy razem w jasny dzień miły mój w deszczu do mnie biegł płynął rzeką ciemną szedł doliną miły mój ledwie dotknął mnie z jego palców błysnął dzień miła ma w deszczu do mnie szła po promieniu słońca prędko biegła miła ma na krosienkach dnia tka już nocy zwiewny szal gdy miły mój zgubi drogę i mówi do mnie daj mi rękę miła nie trzeba już nic więcej mówić dzielimy każdy śmiech i łzy miły mój w deszczu do mnie biegł płynął rzeką ciemną szedł doliną miły mój ledwie dotknął mnie z jego palców błysnął dzień miła ma w deszczu do mnie szła po promieniu słońca prędko biegła miła ma na krosienkach dnia tka już nocy zwiewny szal la la la ',\n",
       " ' gdy jestem sam myślami biegnę do mej najdroższej jak rzeka wiernej o o majka nie jestem ciebie wart majka zmieniłbym dla ciebie cały świat choć dni mijają i czas ucieka ty jesteś wierna wierna jak rzeka o o majka nie jestem ciebie wart majka zmieniłbym dla ciebie cały świat byłaś mą gwiazdą byłaś mą wiosną sennym marzeniem myślą radosną o o majka nie jestem ciebie wart majka zmieniłbym dla ciebie cały świat oddałbym wszystko bo jesteś inna za jeden uśmiech jedno spojrzenie o o majka nie jestem ciebie wart majka zmieniłbym dla ciebie cały świat ',\n",
       " 'leżysz wtulona w pościel coś cichutko mruczysz przez sen łóżko szerokie a pościel świeża za oknem prawie dzień a jeszcze niedawno koja w niej pachnący rybą koc fale bijące o pokład i bosmana zdarty głos to wszystko było minęło zostało tylko wspomnienie już nie poczuję wibracji pokładu gdy kable grają już tylko dom i ogródek i tak aż do śmierci a przecież stare żaglowce po morzach jeszcze pływają nie gniewaj się kochanie że trudno ze mną żyć że zapomniałem kupić mleko i gary zmyć lecz jeszcze niedawno pokład mym drugim domem był tam nie stało się w kolejkach tam nie było miejsca dla złych to wszystko było minęło zostało tylko wspomnienie już nie poczuję wibracji pokładu gdy kable grają już tylko dom i ogródek i tak aż do śmierci a przecież stare żaglowce po morzach jeszcze pływają upłynie sporo czasu nim przyzwyczaję się czterdzieści lat na morzu zamkniętych w jeden dzień skąd lekarz może wiedzieć że za morzem tęskno mi że duszę się na lądzie że śni mi się pokład pełen ryb to wszystko było minęło zostało tylko wspomnienie już nie poczuję wibracji pokładu gdy kable grają już tylko dom i ogródek i tak aż do śmierci a przecież stare żaglowce po morzach jeszcze pływają wiem masz do mnie żal mieliśmy do przyjaciół iść spotkałem kolegę z rejsu on w morze idzie dziś siedziałem potem na kei ze łzami patrzyłem na port jeszcze przyjdzie taki dzień kiedy opuszczę go a na razie to wszystko było minęło zostało tylko wspomnienie już nie poczuję wibracji pokładu gdy kable grają już tylko dom i ogródek i tak aż do śmierci a przecież stare żaglowce po morzach jeszcze pływają ',\n",
       " 'dla ciebie śpiewam piosenkę tę stary wieśniaku za to że gdy zimno było w życiu mym ty drewno swe oddałeś mi ty dałeś ogień wtedy gdy obywatele godni czci i bliźni nasi wszyscy w krąg zamykali przede mną swe drzwi to przecież nic to parę drew lecz starczy żeby ogrzać się a w duszy mej płonęły tak jak płonąłby cały las więc jeśli umrzesz kiedyś już gdy wieźć cię będzie czarny wóz niech przez niebiański cię wiedzie szlak aż do nieba bram dla ciebie śpiewam piosenkę tę dobra kobieto za to że gdy głodno było w życiu mym ty chleb swój oddałaś mi ty otworzyłaś mi swój dom gdy bliźni nasi wszyscy w krąg obywatele godni czci zamknęli przede mną swe drzwi to przecież nic to tylko chleb lecz starczy żeby najeść się a ja do dzisiaj w sercu mam ten zapach chleba i ten smak więc jeśli umrzesz kiedyś już gdy wieźć cię będzie czarny wóz niech przez niebiański cię wiedzie szlak aż do nieba bram dla ciebie śpiewam piosenkę tę obcy człowieku bowiem ty jedynie mi współczułeś gdy żandarmi złapali mnie ty jeden smutny miałeś wzrok gdy bliźni wszyscy nasi w krąg obywatele godni czci klaskali w swe dłonie co sił to przecież nic spojrzenie twe lecz taka dziwna moc w nim jest że blask twych oczu jeszcze dziś otuchy dodaje mi więc jeśli umrzesz kiedyś już gdy wieźć cię będzie czarny wóz niech przez niebiański cię wiedzie szlak aż do nieba bram ',\n",
       " 'gdy żre mnie nostalgia i chandra mnie tłucze i nuda się czai przy ścianie sowacza sowacza pojawia się skądyś na stole mym żuczek i nóżki swe drobne rozkracza rozkracza rozkracza i chodzi po gładkiej powierzchni czerniawy tu kropkę zostawi a tam drobny szlaczek bny szlaczek i co raz to w nóżkę podrapie się prawą lub wyrwie spod paszki swej kłaczek swej kłaczek swej kłaczek ja biorę go w dłonie ostrożnie lekutko boć mały to żuczek a nie olbrzym gacek brzym gacek a potem za udkiem wyrywam mu udko i kciukiem go miażdżę na placek na placek na placek ',\n",
       " 'gdy na rysach ujrzysz ze ździwieniem alpinistę w czarnym garniturze zamiast kiwać głową ze zdziwieniem daj mu prawdy słowa dwa nieduże włóż plecak to nic że ciężki i załóż koszulę w kratę w rajdowych starych spodniach idź na spotkanie z latem gdy turystów grono romantyczne gasi chandrę alkoholu strugą zamiast robić gesty dramatyczne to recytuj strofkę im niedługą włóż plecak to nic że ciężki i załóż koszulę w kratę w rajdowych starych spodniach idź na spotkanie z latem kiedy spłoszy ciszę rezerwatu tranzystora zgrzytu cała gama bądź spokojny nie trzeba dramatu dla słuchacza rada będzie mała włóż plecak to nic że ciężki i załóż koszulę w kratę w rajdowych starych spodniach idź na spotkanie z latem gdy polubisz fotel i kominek i pantofli spokojne człapanie będziesz żonę miał zamiast dziewczyny to zastosuj swoje przykazanie włóż plecak to nic że ciężki i załóż koszulę w kratę w rajdowych starych spodniach idź na spotkanie z latem ',\n",
       " 'chmury skłębione niosą mrozy i śnieg wiatr gwiżdże w nieszczelnych futrynach kolejny raz pociąg spóźnia się znak że znowu zaczyna się zima uuuuu zawirował świat jak płatki śniegu na dworze stare wspomnienia odżyły znów niewiele nam to jednak pomoże królowa śniegu srebrnym welonem swym przykryła prawie świat cały wystawić nos poza domu próg to wyczyn nie lada śmiały uuuuu zawirował świat jak płatki śniegu na dworze stare wspomnienia odżyły znów niewiele nam to jednak pomoże szare poranki i krótkie dni każde z nas ma dziś tylko dla siebie tysiąc listów stawił pieca żar w tym dwieście pięćdziesiąt od ciebie uuuuu zawirował świat jak płatki śniegu na dworze stare wspomnienia odżyły znów niewiele nam to jednak pomoże ',\n",
       " 'jest zakątek na tej ziemi gdzie powracać każdy chce gdzie króluje jej oblicze na nim cięte rysy dwie wzrok ma smutny zatroskany jakby chciała prosić cię byś w matczyną jej opiekę oddał się madonno czarna madonno jak dobrze twym dzieckiem być o pozwól czarna madonno w ramiona twoje się skryć w jej ramionach znajdziesz spokój i uchronisz się od zła bo dla wszystkich swoich dzieci ona serce czułe ma i opieką cię otoczy gdy jej oddasz serce swe gdy powtórzysz jej z radością słowa te madonno czarna madonno jak dobrze twym dzieckiem być o pozwól czarna madonno w ramiona twoje się skryć dziś gdy wokół nas niepokój gdzie się człowiek schronić ma gdzie pójść jak nie do matki która ukojenie da więc błagamy o madonno skieruj wzrok na dzieci swe i wysłuchaj jak śpiewamy prosząc cię madonno czarna madonno jak dobrze twym dzieckiem być o pozwól czarna madonno w ramiona twoje się skryć ',\n",
       " 'jezus malusieńki leży wśród stajenki płacze z zimna nie dała mu matula sukienki bo uboga była rąbek z głowy zdjęła w który dziecię owinąwszy siankiem je okryła nie ma kolebeczki ani poduszeczki we żłobie mu położyła siana pod główeczki ',\n",
       " 'będziesz zbierać kwiaty będziesz się uśmiechać będziesz liczyć gwiazdy będziesz na mnie czekać i ty właśnie ty będziesz moją panią i ty tylko ty będziesz moją panią będą ci grały skrzypce lipowe będą śpiewały jarzębinowe drzewa liście ptaki wszystkie będę z tobą tańczyć bajki opowiadać słońce z pomarańczy w twoje dłonie składać i ty właśnie ty będziesz moją panią i ty tylko ty będziesz moją panią będą ci grały nocą sierpniową wiatry strojone barwą słońca będą śpiewały śpiewały bez końca będziesz miała imię jak wiosenna róża będziesz miała miłość jak jesienna burza i ty właśnie ty będziesz moją panią i ty tylko ty będziesz moją panią ',\n",
       " 'nie pomni dziś filozof pan historyk i teolog kto pierwszy krzyknął wolność dam czy tyran czy też prorok i co na myśli człek ów miał też nikt z nas nie pamięta czy łańcuch co dwie ręce skuł czy rozerwane pęta lecz wolność wolny jak pięknie się odmienia wolność wolny przez wieki bez wytchnienia wolność wolny i nikt jej nie rozbudził bo wolność ludzie to tylko lep na ludzi bo ten co wisiał w cieniu drzew przed śmiercią się pocieszał że to za wolność chociaż też tak myślał ten co wieszał a ten co wydał rozkaz śmierć szampanem się uraczył bo wyrok brzmiał za wolność więc pan sędzia mu wybaczył lecz wolność wolny jak pięknie się odmienia wolność wolny przez wieki bez wytchnienia wolność wolny i nikt jej nie rozbudził bo wolność ludzie to tylko lep na ludzi i trwa to już tysiące lat i nic się tu nie zmienia krzyczymy przede wszystkim tak by spały nam sumienia choć każdy wiek przykłady dał te przypłacone głową by wierzyć że ta wolność to nie tylko piękne słowo lecz wolność wolny jak pięknie się odmienia wolność wolny przez wieki bez wytchnienia wolność wolny i nikt jej nie rozbudził bo wolność ludzie to tylko lep na ludzi więc leją się przez cały czas krwi purpurowe strugi bo zawsze jednym bywa śmierć by wolność była drugim i zawsze jakiś człowiek jest co w czasach niespokojnych zarzuca sobie pętlę bo naprawdę chce być wolnym lecz wolność wolny jak pięknie się odmienia wolność wolny przez wieki bez wytchnienia wolność wolny i nikt jej nie rozbudził bo wolność ludzie to tylko lep na ludzi ',\n",
       " 'gdzieś na rajdowym szlaku maj nas deszczem zapraszał w swe progi tęczę słońcem tkał na drutach deszczu kurzem ścielił nam rajdowe drogi to co było minęło to co było nie wróci tylko wiatr wędrowny wiatr nasze piosenki nuci ciche dźwięki gitary pozwalałem płonąć ognisku z dymem snuł się nasz refrem stary po uśpionym już wrzosowisku to co było minęło to co było nie wróci tylko wiatr wędrowny wiatr nasze piosenki nuci często w myślach wracamy do gitary ogniska i szlaków z biciem serca piosenek słuchamy zaglądamy do starych plecaków to co było minęło to co było nie wróci tylko wiatr wędrowny wiatr nasze piosenki nuci czas wędrówek za nami zmienił nas i przyjaciół pozmieniał wszyscy gdzieś się rozbiegli po świecie dziś zostały już tylko wspomnienia to co było minęło to co było nie wróci tylko wiatr wędrowny wiatr nasze piosenki nuci ',\n",
       " 'nie wierzcie piechocie że tak nie rozumna czasami bez tchu my zawsze w pochodzie gdy wiosna nad ziemią szaleje od bzu jak długo tak można bezdroża mokradła i błota i piach i wierzba przydrożna jak siostra pobladła zostaje we łzach nie wierzcie pogodzie gdy deszcze trzydniowe zaciągnie wśród drzew nie wierzcie piechocie gdy w pieśni bojowej odwaga i gniew nie wierzcie nie wierzcie gdy w sadach słowiki zakrzyczą co sił wy jeszcze nie wiecie co komu pisane i kto będzie żył uczyłaś ojczyzno że żyć trzeba umieć i słyszeć twój głos mój chłopcze mężczyzno a jednak niezgorszy przypada ci los my zawsze w pochodzie i tylko to jedno nas zrywa ze snu dlaczego w pochodzie gdy wiosna nad ziemią szaleje od bzu dlaczego w odwrocie gdy wiosna nad ziemią szaleje od bzu ',\n",
       " 'pewnie nie zdążę opłynąć świata nie są mi dane everesty sine ale do szczęścia wystarczyć może lekki podmuch nad niegocinem a ty miły szukasz czegoś stale na końcu świata albo jeszcze dalej w niebie przemierzając morza całe a to coś jest obok ciebie płyńcie koledzy w dalekie horny zorza otuli nad biegunami a moje szczęście bywa po prostu wschodem słońca nad wigrami a ty miły szukasz czegoś stale na końcu świata albo jeszcze dalej w niebie przemierzając morza całe a to coś jest obok ciebie nie chcą się spełniać wielkie marzenia chodzę po ziemi więc mocno mój kotku krótki jest opis mojego szczęścia to łajba z tobą w środku a ty miły szukasz czegoś stale na końcu świata albo jeszcze dalej w niebie przemierzając morza całe a ten ktoś jest obok ciebie ',\n",
       " 'w jesienną głogów czerwień w złotawą młodość brzozy wiatr z głowy czapkę zerwie pod stopy gór położy i zbudujemy dom bez strychów i bez piwnic zapłonie lampą krąg zapachem lasów grzybnych nie trzeba stawiać pieców nie musisz okien szklić i zbudujemy dom bo taki dom musi być i niebu się pokłonisz i wyżej wciąż bez słowa na wyciągniętej dłoni będziemy dom budować i zbudujemy dom bez strychów i bez piwnic zapłonie lampą krąg zapachem lasów grzybnych nie trzeba stawiać pieców nie musisz okien szklić i zbudujemy dom bo taki dom musi być i wzniesiesz twarz gdzie szczyty i wyżej wciąż bez słowa na ścieżkach mgłą okrytych będziemy dom budować i zbudujemy dom bez strychów i bez piwnic zapłonie lampą krąg zapachem lasów grzybnych nie trzeba stawiać pieców nie musisz okien szklić i zbudujemy dom bo taki dom musi być od lat już po kryjomu nawiedza nas nocami banalny sen o domu i rośnie razem z nami i zbudujemy dom bez strychów i bez piwnic zapłonie lampą krąg zapachem lasów grzybnych nie trzeba stawiać pieców nie musisz okien szklić i zbudujemy dom bo taki dom musi być ',\n",
       " 'ogniska już dogasa blask braterski splećmy krąg w wieczornej ciszy w świetle gwiazd ostatni uścisk rąk kto raz przyjaźni poznał moc nie będzie trwonił słów przy innym ogniu w inną noc do zobaczenia znów nie zgaśnie tej przyjaźni żar co połączyła nas nie pozwolimy by ją starł nieubłagany czas kto raz przyjaźni poznał moc nie będzie trwonił słów przy innym ogniu w inną noc do zobaczenia znów ',\n",
       " ' dlaczego nie mówimy o tym co nas boli otwarcie budowa ściany wokół siebie marna sztuka wrażliwe słowo czuły dotyk wystarczą czasami tylko tego pragnę tego szukam na miły bóg życie nie tylko po to jest by brać życie nie po to jest by bezczynnie trwać i aby żyć siebie samego trzeba dać problemy twoje moje nasze boje polityka a przecież każdy włos jak nasze lata policzony kto jest bez winy niechaj pierwszy rzuci kamieniem niech rzuci daleko raj gdy na człowieka się zamykam na miły bóg życie nie tylko po to jest by brać życie nie po to jest by bezczynnie trwać i aby żyć siebie samego trzeba dać ',\n",
       " ' chodzą ulicami ludzie maj przechodzą lipiec grudzień zagubieni wśród ulic bram przemarznięte grzeją dłonie dokądś pędzą za czymś gonią i budują wciąż domki z kart a tam w mech odziany kamień tam zaduma w wiatru graniu tam powietrze ma inny smak porzuć kroków rytm na bruku spróbuj znajdziesz jeśli szukać zechcesz nowy świat własny świat płyną ludzie miastem szarzy pozbawieni złudzeń marzeń omijają wciąż główny nurt kryją się w swych norach krecich i śnić nawet o karecie co lśni złotem nie potrafią już a tam w mech odziany kamień tam zaduma w wiatru graniu tam powietrze ma inny smak porzuć kroków rytm na bruku spróbuj znajdziesz jeśli szukać zechcesz nowy świat własny świat żyją ludzie asfalt depczą nikt nie krzyknie każdy szepcze drzwi zamknięte zaklepany krąg tylko czasem kropla z oczu po policzku w dół się stoczy i to dziwne drżenie rąk bo tam w mech odziany kamień tam zaduma w wiatru graniu tam powietrze ma inny smak ',\n",
       " 'o krok od źródła konają z pragnienia o krok od piekła szaleją z rozkoszy trzeźwieją z marzeń o krok od spełnienia o krok od celu własny cień ich płoszy krok od triumfu opuszczają głowy podnoszą głowy o krok od wyroku o krok od łaski tracą dar wymowy krok od przepaści przyspieszają kroku o krok od zemsty nagle wielcy duchem o krok od drogi błądzą w próżnych sporach o krok od czynu wolą frazy kruche o krok od jutra przeżywają wczoraj o krok od zgody pusta złość ich bierze o krok od wiedzy wdychają zabobon o krok od boga zaprzeczają wierze o krok od siebie nie chcą stać się sobą o krok od śmierci żywot im niedrogi o krok od życia śnią minione kaźnie gromadzą księgi o krok od pożogi o krok od klęski czują się najraźniej tak przez godzinę dzień miesiąc rok aż zrobią ten jeden nieuchronny krok tak przez godzinę dzień miesiąc rok aż zrobią ten jeden nieuchronny krok ',\n",
       " 'przepuściłem znów całą forsę swą na hiszpańską dziewkę z callao wyciągnęła ze mnie cały szmal i spłukałem na nią się do cna już znikają główki portu w którym stary został dom znów za rufą niknie w dali ukochany stały ląd dalej chłopcy rwijmy fały niech uderzy w żagle wiatr w morze znów wypływamy ile tam spędzimy lat już niejeden pokład mym domem był i niejeden bat me plecy bił choć robota ciężka i żarcie psie w callao po rejsie znajdziesz mnie już znikają główki portu w którym stary został dom znów za rufą niknie w dali ukochany stały ląd dalej chłopcy rwijmy fały niech uderzy w żagle wiatr w morze znów wypływamy ile tam spędzimy lat zaprószyłem tam nieraz głowę swą w barze u hiszpanki z callao butlę rumu wielką dała mi i ciągnęła ze mną aż po świt już znikają główki portu w którym stary został dom znów za rufą niknie w dali ukochany stały ląd dalej chłopcy rwijmy fały niech uderzy w żagle wiatr w morze znów wypływamy ile tam spędzimy lat a pod cape horn gdzie nas poniesie wiatr popłyniemy z sztormem za pan brat przez groźne burze śnieg i lód dojdziemy aż do piekła wrót choć zgarbieją z zimna ręce zadek mokry dzień i noc jedna myśl rozgrzewa serce o hiszpance z callao dalej chłopcy rwijmy fały niech uderzy w żagle wiatr w morze znów wypływamy ile tam spędzimy lat ',\n",
       " ' przyłączył się do nas na jednej z wędrówek razem z nami przemierzał górskie szlaki rzadko do kogoś odezwał się słowem lecz chyba mu dobrze było z nami raz kiedyś w schronisku gdy noc nas zdybała otworzył jakiś zeszyt wypłowiały spod palców spłynęły mu dźwięki gitary i słowa nieznane lecz bliskie bo zagrał swą balladę a w niej zamknął echa gór bo zagrał swą balladę górskich potoków szum od tego wieczoru już zawsze nam śpiewał o nim samym mówiły piosenki jakieś imię dziewczyny wspomnienia dużego miasta dym z ognisk i noce nieprzespane na jednym ze szlaków pożegnał się z nami odszedł drogą inną nieznaną odszedł jak majster bieda może kiedyś powróci zawsze na niego czekamy by zagrał swą balladę a w niej zamknął echa gór by zagrał swą balladę górskich potoków szum górskich potoków szum ',\n",
       " 'czym purpurowe maki na ciemną rzucał drogę sen miałem ale jaki przypomnieć już nie mogę twojeż to były usta moje to były dłonie głąb sadu mego pusta we wrotach księżyc płonie twojeż to były usta a moje były dłonie dni się za dniami dłużą noce w jeziorach witam kiedy ty kwitniesz różo ja nigdy nie zakwitam twojeż to były usta moje to były dłonie głąb sadu mego pusta we wrotach księżyc płonie twojeż to były usta a moje były dłonie ja nigdy nie zakwitam twójże to głos o różo słowo po słowie chwytam dni się za dniami dłużą ',\n",
       " 'jak daleko od źródeł swoich rzeka odpływa wyrzeźbiwszy własne granice niesie szlam wypłukany z ciemnych głębin i wzywa do radości słonecznym odbiciem ale płyną nią szczątki co na światło nieczułe bo obrosłe ciemnością i mułem obojętny brzeg płaski lecz nad wszystko wyniosły rzeki nurt nieuchronnie wyzyska karmi trawy i bagna co z nicości wyrosły więc na nicość niezmiennie nieczułe tak tworzą się z rzek rozlewiska duszny upał się szerzy w przerażonym powietrzu krążą chmury żarłocznych owadów nie odnaleźć tu brzegów ni obszarów nie zmierzyć ani wdychać oparów rozkładu ani wody źródlanej nie odnaleźć czystości ani głębi ni głębokości gdzie jest cel tych taplawisk co choć dążą do morza roztapiają się wciąż w grzęzawiska nurt się pławi w kałużach bagno bagnem odciska niemożliwe ni powódź ni pożar tak tworzą się z rzek rozlewiska żeby rzekę odszukać trzeba w niej się zanurzyć dać okleić się tym co nią płynie w dno muliste się wpatrzyć gdzie się prąd po nim struży bo co na dnie nigdy nie zginie ale rzeka to tylko źródła płynne jest ciało a gdzie dusza gdzie źródło zostało w źródle siła i trwanie ukojenie pragnienia dźwięk daleki a przecież jedyny więc za dźwiękiem pod prąd rzeki mętnej zgubionej trzeba czołgać się pełznąć i płynąć bo tylko się źródło nie zmienia bije wodą przeczystą z głębi ziemi zrodzoną i żyje wciąż wbrew rozlewiskom ',\n",
       " 'znów buty buty buty tupot nóg i ptaków oszalałych czarny wiatr kobiety stają wśród rozstajnych dróg piechocie odchodzącej patrzą w ślad czy słyszysz werbel werbel werbel gra żołnierzu żegnaj ją pożegnaj ją odchodzi pluton tylko mgła i mgła i tylko przeszłość nie zachodzi mgłą a męstwo nasze gdzie na miły bóg gdy przyjdzie wracać na rodzinny próg kobiety za pazuchę kładą je jak piskle ukradzone nam we śnie a gdzie kobiety nasze powiedz gdzie i gdy nadejdzie wytęskniony dzień witają w progu nas i wiodą tam gdzie wszystko ukradziono nam a nam nie łzy nie załamania rąk a my z nadzieją w nadchodzące dni a pośród pól żerują stada wron a pośród miast echami wojna brzmi i znów w zaułkach buty tupot nóg i ptaków oszałych czarny targ kobiety stoją u rozstajnych dróg w żołnierski podgolony patrzą kark ',\n",
       " 'lato z ptakami odchodzi wiatr skręca liście w warkocze dywanem okrywa szlaki szkarłaty wiesza na zboczach przyoblekam myśli w kolory w liści złoto w buków purpurę palę w ogniu letnie wspomnienia idę wymachując kosturem idę w góry cieszyć się życiem oddać dłoniom halnego włosy w szelest liści wsłuchać się pragnę w odlatujących ptaków głosy słony pot czuję w ustach dzień spracowany ucieka anioł zapala gwiazdy oświetla drogę człowieka już niedługo rozpalę ogień na rozległej górskiej polanie już niedługo szałas zielony wśród dostojnych buków powstanie idę w góry cieszyć się życiem oddać dłoniom halnego włosy w szelest liści wsłuchać się pragnę w odlatujących ptaków głosy ',\n",
       " 'na smyczy trzymam filozofów europy podparłam armią marmurowe piotra stropy mam psy sokoły konie kocham łów szalenie a wokół same zające i jelenie pałace stawiam głowy ścinam kiedy mi przyjdzie na to chęć mam biografów portrecistów i jeszcze jedno pragnę mieć stój katarzyno koronę carów sen taki jak ten może ci z głowy zdjąć kobietą jestem ponad miarę swoich czasów nie bawią mnie umizgi bladych lowelasów ich miękkich palców dotyk budzi obrzydzenie już wolę łowić zające i jelenie ze wstydu potem ten i ów rzekł o mnie niewyżyta niemra i pod batogiem nago biegł po śniegu dookoła kremla stój katarzyno koronę carów sen taki jak ten może ci z głowy zdjąć kochanka trzeba mi takiego jak imperium co by mnie brał tak jak ja daję całą pełnią co by i władcy i poddańca był wcieleniem i mi zastąpił zające i jelenie co by rozumiał tak jak ja ten głupi dwór rozdanych ról i pośród pochylonych głów dawał mi rozkosz albo ból stój katarzyno koronę carów sen taki jak ten może ci z głowy zdjąć gdyby się taki kochanek kiedyś znalazł wiem sama wiem kazałabym go ściąć ',\n",
       " 'płonie ognisko i szumią knieje drużynowy jest wśród nas opowiada starodawne dzieje bohaterski wskrzesza czasg a d o rycerstwie spod kresowych granic o obrońcach naszych polskich granic a ponad nami wiatr szumny wieje i dębowy huczy las już do odwrotu głos trąbki wzywa alarmując ze wszech stron wstaje wiara w ordynku szczęśliwa serca biją zgodny ton każda twarz się w uniesieniu płoni każdy laskę krzepko dzierży w dłoni a z młodzieńczej się piersi wyrywa pieśń potężna pieśń jak dzwon ',\n",
       " 'miejcie nadzieję nie tę lichą marną co rdzień spruchniały w wątły kwiat ubiera lecz tę niezłomną która tkwi jak ziarno przyszłych poświęceń w duszy bohatera miejcie odwagę nie tę jednodniową co w rozpaczliwym przedsięwzięciu pryska lecz tę co wiecznie z podniesioną głową nie da się zepchnąc ze swego stanowiska miejcie odwagę nie tę tchnącą szałem która na oślep leci bez oręża lecz tę co sama niezdobytym wałem przeciwne losy stałością zwycięża przestańmy własną pieścić się boleścią przestańmy ciągłym lamentem się poić kochać się w skargach jest rzeczą niewieścią mężom przystoi w milczeniu się zbroić lecz nie przestańmy czcić świętości swoje i przechowywać ideał czystości do nas należy dać im moc i zbroję by z kraju marzeń przeszły w rzeczywistość miejcie nadzieję nie tę lichą marną co rdzień spruchniały w wątły kwiat ubiera lecz tę niezłomną która tkwi jak ziarno przyszłych poświęceń w duszy bohatera ',\n",
       " ' la la la może się spotkamy znów po kilku latach może właśnie tutaj lub na końcu świata będziesz wtedy inna ja wciąż taki sam może nam się uda zacząć jeszcze raz dzisiaj muszę odejść już mnie nie zatrzymuj przez te wszystkie lata nic się nie zmieniło rozstawiłaś straże wokół moich snów daj mi wreszcie spokój dosyć mam już słów la la la wrócę tu na pewno gdy nadejdzie pora zapamiętaj tylko co mówiłem wczoraj zapamiętaj tylko że się nie zmieniłem myślę co myślałem wierzę w co wierzyłem wrócę gdy zrozumiesz już po kilku latach może właśnie tutaj będzie koniec świata wtedy będziesz inna ja wciąż taki sam może nam się uda zacząć jeszcze raz la la la ',\n",
       " 'kto pierwszy szedł przed siebie kto pierwszy cel wyznaczył kto pierwszy w nas rozpoznał kto wrogów kto przyjaciół kto pierwszy sławę wszelką i włości swe miał za nic a kto nie umiał zasnąć nim nie wymyślił granic kto pierwszy w noc bezsenną wymyślił wielką armię kto został bohaterem kto żył i umarł marnie kto pierwszy został panem kto pierwszy został sługą kto musiał wstawać wcześnie a kto mógł spać za długo zapatrzeni w słońce zapatrzeni w niebo zapatrzeni w tańcu zapatrzeni w siebie wciąż niepewni siebie siebie niewiadomi pytać wciąż będziemy pytać po kryjomu kto pierwszy szedł przed siebie kto pierwszy cel wyznaczył kto pierwszy w nas rozpoznał kto wrogów kto przyjaciół kto pierwszy możnym radził a kto był buntownikiem kto pierwszy został sobą kto pierwszy został nikim kto pierwszy był fakirem kto pierwszy astrologiem kto pierwszy został królem a kto chciał zostać bogiem kto z gwiazdozbioru wega patrząc na ziemię zgadnie kto pierwszy był człowiekiem kto będzie nim ostatni zapatrzeni w słońce zapatrzeni w niebo zapatrzeni w tańcu zapatrzeni w siebie wciąż niepewni siebie siebie niewiadomi pytać wciąż będziemy pytać po kryjomu ',\n",
       " 'w gdańska mewy wiatr i gotyk słońce świeci złotą smugą pan kapitan białej floty idzie przez ulicę długą idzie z marynarską fają w oczach ma szelmowskie błyski przekupki się w nim kochają podziwiają go turystki transatlantyki na oceanach a krążowniki w rejsach ćwiczebnych każdy z nich musi mieć kapitana nasz kapitan też jest potrzebny podskoczyły drzwi tawerny szmer uznania przebiegł salon wdzięk niezmierny szyk cholerny na rękawie złoty galon duże piwko panno helu jutro w rejs wyjdziemy w morze to przywiozę heli z helu i bursztyny i węgorze transatlantyki na oceanach a krążowniki w rejsach ćwiczebnych każdy z nich musi mieć kapitana nasz kapitan też jest potrzebny piwo w pianie bałtyk w pianie gdańsk za oknem kolorowy pańskie zdrowie kapitanie stary wilku zatokowy w gdańsku mewy wiatr i gotyk neptun siusia w swoją studnię pan kapitan białej floty ma dziś wolne popołudnie transatlantyki na oceanach a krążowniki w rejsach ćwiczebnych każdy z nich musi mieć kapitana nasz kapitan też jest potrzebny ',\n",
       " 'chodź człowieku coś ci powiem chodźcie wszystkie stany kolorowi biali czarni chodźcie zwłaszcza wy ludkowie przez na oścież bramy dla wszystkich starczy miejsca pod wielkim dachem nieba rozsiądźcie się na drogach na łąkach na rozłogach na polach błoniach i wygonach w blasku słońca w cieniu chmur rozsiądźcie się na niżu rozsiądźcie się na wyżu rozsiądźcie się na płaskowyżu w blasku słońca w cieniu chmur dla wszystkich starczy miejsca pod wielkim dachem nieba na ziemi którą ja i ty też zamieniliśmy w morze łez ',\n",
       " 'jesteś bitwą moją nieskończoną w której ciągle o przyczułek walczę jesteś drzwiami które otworzyłem a potem przycięły mi palce jesteś kartką z kalendarza zgubioną gdzieś pomiędzy szufladami i ulicą na której co dzień uciekałem między latarniami jesteś mgłą ogromną nie zmierzoną ciszą w huku i łoskotem w ciszy jesteś piórem i wyblakłą kartką którym i na której dzisiaj piszę jesteś kartką z kalendarza zgubioną gdzieś pomiędzy szufladami i ulicą na której co dzień uciekałem między latarniami przyszłaś do mnie a ja nie spostrzegłem dzisiaj tylko mogę mówić byłaś nie wiem czy na jawie wzięłaś mnie za rękę czy jak wszystko ty się tylko śniłaś jesteś kartką z kalendarza zgubioną gdzieś pomiędzy szufladami i ulicą na której co dzień uciekałem między latarniami ',\n",
       " 'nie bój się nie zabraknie to krajowa czysta ja widzisz przed wojną byłem komunista bo ja chciałem być kimś bo ja byłem żyd a jak żyd nie był kimś to ten żyd był nikt może stąd dla świata tyle z nas pożytku że bankierom i skrzypkom nie mówią ty żydku ja bankierem nie byłem ani wirtuozem wojnę w rosji przeżyłem oswoiłem się z mrozem i na własnych nogach przekroczyłem bug razem z armią czerwoną jako politruk ja byłem jak mojżesz niosłem prawa nowe na których się miało oprzeć odbudowę a potem mnie lojalnego komunistę przekwalifikowali na manikiurzystę ja kocham mozarta bóg to dla mnie bach a tam gdzie pracowałem tylko krew i strach spałem dobrze przez ścianę słysząc ludzkie krzyki a usnąć nie mogłem przy dźwiękach muzyki w następstwie października tak zwanych wydarzeń już nie byłem w urzędzie byłem dziennikarzem ja znałem języki nie mnie uczyć jak pisać wprost to co łatwiej można pisać wspak wtedy myśl się zrodził niechcący być może żem się z krajem tym związał jak mogłem najgorzej za tę hańbę zasługi warszawa czy kraków gomułka nam powiedział polska dla polaków już nie dla przybłędów pospolita rzecz wiesław jak faraon popędził nas precz i szli profesorowie uczeni pisarze pracownicu urzędu szli i dziennikarze w tel awiwie właśnie zza rogu z rozpędu wpadłem na byłego kolegę z urzędu i pod ścianę płaczu iść mi było wstyd czy ja komunista czy polak czy żyd nie umiałem jak on chwały czerpać teraz z tego że się z bankruta robi bohatera wyjechałem przeniosłem się tutaj do stanów mówią czym jest komunizm ucz amerykanów powiedz im co wiesz co na sumieniu masz a odkupisz grzechy i odzyskasz twarz a ja przecież nie umiem nawet ująć w słowa jak wygląda to com niszcząc budował i tak sam sobie zgotowałem zgubę meloman nie skrzypek nie bankier a ubek oficer polityczny nie russkij gieroj ani syjonista ani też i goj jak ja powiem jehowie za mną jahwe stań z tą polską związanym pępowiną hańb ',\n",
       " 'wersja polska kiedy kawboy nie ma konia kiedy kawboy nie ma konia nie wie po co żyje po co je jedź do miasta wielkiego do wielkiego miasta jedź tam kawboyom bez konia łatwiej żyć zapytają cię ludzie gdzie jest twój koń powiedz by się nie przypierdalali doń wersja angielska when the cowboy has no horses when the cowboy has no horses he doesnt know to be or not to be lets go to big city to big city lets go there without horses easier to live and the peoplell ask you where is your horse and you answer kiss my ass wersja łódzka kiedy aktor nie ma rola kiedy aktor nie ma rola nie wie po co żyje po co je kiedy aktor nie ma roli lub gdy rolę swą spierdoli nie wie po co żyje po co je jedź do miasta małego do małego miasta jedź tam aktorom bez rola łatwiej żyć zapytają koledzy gdzie sukces twój sukces mój biznes mój i ',\n",
       " ' gdziep daleko ameryka z ortodrom loksodroma na odkrycie swoje czeka gdziep za morzem przyczajona a my hej pochwyćmy wiatru powiew niech nam zawsze sprzyja niebo my mazurscy kolumbowie odkrywamy węgorzewo na wyprawę swoich marzeń wyruszyli z rann bryz nieugięci wprost żeglarze z lękiem gnali za horyzont a my hej pochwyćmy wiatru powiew by w nieznane miejsca płynć my mazurscy kolumbowie odkrywamy dzisiaj sztynort na wyprawie długiej przyszło znosić bunty i zwtpienia aż ktop w końcu z masztu krzyknł to magiczne słowo ziemia a my hej pochwyćmy wiatru powiew obce ldy nie s blisko my mazurscy kolumbowie odkrywamy dzip giżycko powrócili cali w glorii wieszcze mieli o czym pisać no i przeszli do historii bo przywieľli syfilisa a my hej pochwyćmy wiatru powiew fale sztormy to nie bajki my mazurscy kolumbowie odkrywamy mikołajki za kolumbem morskie mile za nim rejs co wart był życia jakichp mazur do odkrycia do odkrycia do odkrycia a g a ',\n",
       " 'jeśli nas matka boska nie obroni to co się stanie z tym narodem codzienne modły więc zanoszę do niej by ocaliła nas przed głodem przed głodem ust którym zabrakło chleba przed głodem serc w których nie mieszka miłość przed głodem zemsty której nam nie trzeba przed głodem władzy co jest tylko siłą jeśli nas matka boska nie obroni to co się stanie z polakami codzienne modły więc zanoszę do niej by ocaliła nas przed nami nami co toną tonąc innych topią co marzą innym odmawiając marzeń co z głową w pętli jeszcze nogą kopią by ślad zostawić na kopniętej twarzy jeśli nas matka boska nie obroni to co się stanie z tym narodem codzienne modły więc zanoszę do niej by ocaliła nas przed głodem ',\n",
       " 'przez afrykański busz nie przejdziesz ani rusz i nikt nie przedrze się bez noża jest tylko jeden mąż co piersią pruje gąszcz to noso noso noso nosorożec tropiki tropiki tropiki ach upalny jest wasz urok dziki dziki aha ha ha ha murzynów czarnych stu na bębnach bum bum bum co przy ognisku piją wodę w szuwarach słychać szum krokodyl wciąga brzuch a słoń wyciąga ciąga ciąga trąbę tropiki tropiki tropiki ach upalny jest wasz urok dziki dziki aha ha ha ha na dworze ciemna noc jakbyś nałożył koc i nic nie widać chociaż świeci lampa i nagle skoczył kot lecz to nie mógł być kot na pewno pewno pewno to był lampart tropiki tropiki tropiki ach upalny jest wasz urok dziki dziki aha ha ha ha ',\n",
       " 'ogniska już dogasa blask braterski splećmy krąg w wieczornej ciszy w świetle gwiazd ostatni uścisk rąk kto raz przyjaźni poznał moc nie będzie trwonić słów przy innym ogniu w inną noc do zobaczenia znów nie zgaśnie tej przyjaźni żar co połączyła nas nie pozwolimy by ją starł nieubłagany czas kto raz przyjaźni poznał moc nie będzie trwonić słów przy innym ogniu w inną noc do zobaczenia znów ',\n",
       " 'idzie diabeł ścieżką krętą pełen myśli złych nie pożyczył mu na piwo nie pożyczył nikt słońce smaży go od rana wiatr gorący dmucha diabeł się z pragnienia słania w ten piekielny upał idzie anioł wśród zieleni dobrze mu się wiedzie pełno grosza ma w kieszeni i przyjaciół wszędzie nagle przystanęli obaj na drodze pod śliwą zobaczyli że im wyszedł browar naprzeciwko nie ma szczęścia na tym świecie ni sprawiedliwości anioł pije piwo trzecie diabeł mu zazdrości postaw kufla mówi diabeł bóg ci wynagrodzi my artyści w taki upał żyć musimy w zgodzie na to anioł zatrzepotał skrzydeł pióropuszem i powiada dam ci dychę w zamian za twą duszę musiał diabeł aniołowi wściekłą duszę sprzedać i stworzyli sobie piekło z odrobiną nieba ',\n",
       " 'rozwichrzone nad głową sosny rosochate pędzą niebem chmurki owieczki skrzydlate senne oko jeziora zda się na wpół drzemie kolorowe sady słodkie niosą brzemię a nam czegóż to więcej potrzeba powiedz nam powiedz nam lesie i drogo piaszczysta powiedz powiedz powiedz powiedz nam połoniny zielone przepastne doliny ukwiecone łąki strojne jak dziewczyny płaczka wierzba przysiadła na przydrożnym rowie matka żegnająca ruszających w drogę a nam czegóż to więcej potrzeba powiedz nam powiedz nam lesie i drogo piaszczysta powiedz powiedz powiedz powiedz nam przemierzamy drożyny jak wędrowne ptaki co na niebie kluczem wyznaczają szlaki dokąd dokąd tak pędzisz uskrzydlony bracie pędzisz nie bez celu już we krwi to macie a nam czegóż to więcej potrzeba powiedz nam powiedz nam lesie i drogo piaszczysta powiedz powiedz powiedz powiedz nam ',\n",
       " 'spójrz odchodzi noc odchodzi tam gdzie rosną maki maków łan i bławatków modry wzór modry wzór na czerwonym dywanie posłuchaj gdzieś daleko ktoś gra zmienia wciąż rytm na przekór a jutro pójdziesz ze mną odmieniona przez świt uśmiechnięta rozmarzona zawstydzona jak nikt i zagrają nam muzyki wszystkich dni wszystkich nocy otulonych w dobry sen gdy do tańca razem znów będziemy szli a najdłuższy z tańców to jest właśnie ten kiedy grają nam muzyki wszystkich dni wszystkich nocy otulonych w dobry sen szept najcichszy szept oddać ma najgłębszą ciszę możesz nic nie mówić i tak wiem co się w myślach mych zapisze świeć świeć mi gwiazdo w tę noc nie chcę sama wchodzić w przyszłość a jutro kiedy będę odmieniona przez świt uśmiechnięta rozmarzona zawstydzona jak nikt oczarują nas pejzaże wszystkich zim wszystkich wiosen w których wieczne lato trwa aż zmęczeni mocno malowaniem tym rozbijemy o podłogę trochę szkła i zachwycą nas pejzaże wszystkich zim wszystkich wiosen w których wieczne lato trwa i zagrają nam muzyki wszystkich dni wszystkich nocy otulonych w dobry sen gdy do tańca razem znów będziemy szli a najdłuższy z tańców to jest właśnie ten kiedy grają nam muzyki wszystkich dni wszystkich nocy otulonych w dobry sen ',\n",
       " 'przez czarne miasta białe wsie po zaśnieżonych drogach przeciwko sobie armie dwie uparcie szły na wroga i siały armie śmierć ze sobą po miastach i po wioskach a w każdej armii kroczył dobosz co werbel miał i rozkaz doboszu graj doboszu idź choćby się świat zawalił trzeba nam iść i w werbel bić przed siebie dalej i dalej poprzez bitewny zgiełk i kurz do broni krzycz do broni bo tamten dobosz to twój wróg i śmierć mu werbel dzwoni aż wreszcie na rozstajach dróg armia się z armią zwarła i przyczajona w bębnach śmierć skoczyła im do gardła i krew na śniegu zbiegła strugą i zamilkły armie obie tylko dwa bębny długo długo warczały przeciw sobie doboszu graj doboszu idź choćby się świat zawalił trzeba nam iść i w werbel bić przed siebie dalej i dalej poprzez bitewny zgiełk i kurz do broni krzycz do broni bo tamten dobosz to twój wróg i śmierć mu werbel dzwoni koło dobosza dobosz legł na skraju wsi pod dębem i z drzewa się posypał śnieg i werblem zbudził bęben i zagrał bęben naprzód naprzód i toczy się po drogach a drugi mu wtóruje w marszu a drugi zagrał odzew doboszu graj doboszu idź choćby się świat zawalił trzeba nam iść i w werbel bić przed siebie dalej i dalej poprzez bitewny zgiełk i kurz do broni krzycz do broni bo tamten dobosz to twój wróg i śmierć mu werbel dzwoni spokojnie leżą armie dwie pod krzyżem na rozstajach i tylko nocą poprzez śnieg dwa bębny werblem grają jednaki odzew grają doboszu graj doboszu idź choćby się świat zawalił trzeba nam iść i w werbel bić przed siebie dalej i dalej poprzez bitewny zgiełk i kurz do broni krzycz do broni bo tamten dobosz to twój wróg i śmierć mu werbel dzwoni ',\n",
       " 'dusza moja kamienna i serce z kamienia i oczy zmrożone granitami szczytów zimne echo ulicy odbija kroki i kolana chłodzi posadzka kościoła i cóż mi powiesz panienko przeczysta jarzębino ikono leśna przydrożna leszczyno czegóż mnie nauczysz pod drewnianym dachem płomykiem lampki drżącym bukowym zapachem dłonie moje stalowe i nerwy ze stali zimna porcelana błyszczący widelec nawet krzyż na ścianę wykrojony z blachy i żelaznym gwoździem przybity do muru i cóż mi powiesz panienko przeczysta jarzębino ikono leśna przydrożna leszczyno czegóż mnie nauczysz pod drewnianym dachem płomykiem lampki drżącym bukowym zapachem nigdy nie zrozumiem waszych ciepłych dłoni i drewnianych łyżek nasiąkniętych zupą twarz przytulam do belek lecz ukłon do progu i wracam do siebie żelazną koleją i cóż mi powiesz panienko przeczysta jarzębino ikono leśna przydrożna leszczyno czegóż mnie nauczysz pod drewnianym dachem płomykiem lampki drżącym bukowym zapachem ',\n",
       " 'kiedy rum zaszumi w głowie cały świat nabiera treści wtedy chętnie słucha człowiek morskich opowieści kto chce niechaj słucha kto nie chce niech nie słucha jak balsam są dla ucha morskie opowieści jak spod helu raz dmuchnęło żagle zdarła moc nadludzka patrzę w koję mi przywiało nagą babkę z pucka niech drżą gitary struny niech wiatr grzywacze pieści gdy płyniemy pod banderą morskich opowieści pływał raz po morzu majtek czort rasputin bestia taka że sam kręcił kabestanem i to bez handszpaka hej tam kolejkę nalej hej tam kielichy wznieśmy to zrobi doskonale morskim opowieściom łajba to jest morski statek sztorm to wiatr co dmucha z gestem cierpi kraj na niedostatek morskich opowieści kto chce niechaj wierzy kto chce niech nie wierzy nam na tym nie zależy więc wypijmy jeszcze pływał raz marynarz który żywił się wyłącznie pieprzem sypał pieprz do konfitury i do zupy mlecznej może ktoś się będzie zżymał mówiąc że to zdrożne wieści ale to jest właśnie klimat morskich opowieści ',\n",
       " 'było ciemno więc niewiele sam widziałem i pamiętam też niewiele było ciemno wiem że z pochyloną głową stałem tak jak stoi się w kościele a więc stałem nie widziałem było ciemno lecz słyszałem wciąż ten głos ten głos ten głos podejdź bliżej więc podszedłem jak skruszony obywatel do przedstawiciela władzy podejdź bliżej już wiedziałem że ucieczka błyskawiczna tu niczemu nie zaradzi więc poszedłem posłuchałem było ciemno wciąż myślałem czyj ten głos ten głos ten głos to nie wróg był bo głos cichy i subtelny ale polski i nieskazitelny to nie bóg był ten by zaraz mnie zapytał czy mój światopogląd celny więc to nie był wróg na pewno bo nad głową tuż nade mną usłyszałem ten głos ten głos ten głos ty to masz szczęście że w tym momencie żyć ci przyszło w kraju nad wisłą ty to masz szczęście twój kraj szczęśliwy piękny prawdziwy ludzie uczynni w sercach niewinni twój kraj szczęśliwy było ciemno więc nie mogłem stwierdzić komu pomyliły się epoki lub stulecia było ciemno może to mickiewicz jaki bo tak zgrabnie romantyczną wiarę krzesał trochę niezorientowany bo w tym kraju tak kochanym dawno nie był już widziany może norwid bo coś plótł że łza gdzieś znad planety spada i groby przecieka ale skąd by skąd by wiedział że na jego słowa ktoś tu jeszcze może czekać teraz w m odzie nie norwidy filozofy okryjbidy więc czyj ten głos ten głos ten głos było ciemno więc sam nie wiem jak do domu wprost doszedłem i do siebie było ciemno a ja czułem się jak w niebie choć dlaczego nie wiem nie wiem z pochyloną głową stałem wierzcie ja nie zwariowałem lecz jak dziecko powtarzałem na głos na głos na głos ja to mam szczęście że w tym momencie żyć mi przyszło w kraju nad wisłą ja to mam szczęście mój kraj szczęśliwy piękny prawdziwy ludzie uczynni w sercach niewinni mój kraj szczęśliwy ',\n",
       " 'dzień kolejny minął dzień co nic nie przyniósł jeszcze się nie skończył a już nowy wyrósł tyle dni minęło tyle marzeń tyle ludzi przeszło tyle zdarzeń tyle marzeń sennych się nie spełniło tyle dobrych gwiazd ubyło tyle słów powiedział słów co nic nie znaczą może kogoś uraził czyjeś oczy płaczą tyle dni minęło tyle marzeń tyle ludzi przeszło tyle zdarzeń tyle marzeń sennych się nie spełniło tyle dobrych gwiazd ubyło znowu czas mija znowu minął dzień komu zaświecił słońcem dobrych oczu mgnień tyle dni minęło tyle marzeń tyle ludzi przeszło tyle zdarzeń tyle marzeń sennych się nie spełniło tyle dobrych gwiazd ubyło ',\n",
       " 'życie to jest teatr mówisz ciągle opowiadasz maski coraz inne coraz mylne się zakłada wszystko to zabawawszystko to jest jedna gra przy otwartych i zamkniętychdrzwiach to jest gra życie to nie teatr ja ci na to odpowiadam życie to nie tylko kolorowa maskarada życie jest straszniejszei piękniejsze jeszcze jest wszystko przy nim blednie blednie nawet sama śmierć ty i ja teatry to są dwa ty i ja ty ty prawdziwej nie uronisz łzy ty najwyżej w górę wznosisz brwi nawet kiedy źle ci jest to nie jest źle ja duszę na ramieniu ciągle mam cały zbudowany jestem z ran lecz kaleka nie ja jestem tylko ty dzisiaj bankiet u artystów ty się tam wybierasz gości będzie dużo niedostępna tylariera tańce alkohole pewnie flirty będą też drzwi otwarte zamkną potem się no i cześć wpadnę tam na chwilę zanim spuchnie atmosfera wódki dwie wypiję otem szybko sie pozbieram wyjdę na ulicę przy fontannie zmoczę łeb wyjdę na przestworza przecudowny stworzę wiersz ty i ja teatry to są dwa ty i ja ty ty prawdziwej nie uronisz łzy ty najwyżej w górę wznosisz brwi lecz nie zaraźliwy jest twój śmiech bo ty grasz inny refren p ',\n",
       " 'z monoklem w oku w podróż do wód ze śpiewem opon po nitkach dróg w salach lustrzanych po świt blady świt wielki bal białym latawcem w górę do gwiazd chmurką z dmuchawca do ptasich gniazd może jutro lecz dziś dziś wszystko mam niezmiennie kołysz mnie bezsennie kołysz mnie za ścianą pijany świat w koło kręci się niezmiennie kołysz mnie bezsennie kołysz mnie w różowy tęczowy niesiony wiatrem mknie lekki łabędzi puch w nim ja z twarzą w ekranie w nudę i fałsz w mydlanej pianie ulicznych plansz w piesko niebieski w rzuciki w krzyżyki ten raj w święta kolęda przyjęcia raut porannej twarzy wytworny kształt kłębi się wczoraj lecz ty ty chwilo trwaj niezmiennie kołysz mnie bezsennie kołysz mnie za ścianą pijany świat w koło kręci się niezmiennie kołysz mnie bezsennie kołysz mnie w różowy tęczowy niesiony wiatrem mknie lekki łabędzi puch w nim ja ',\n",
       " 'stoję na słońcu łapię w palce czas nitki babiego lata patrzę na świat przez szkło bez krat przez dno butelki włosy rozwiane głaszczą mi twarz świat jest bez końca zielony człowiek na słońcu to właśnie ja a może a może nie człowiek leżę na ziemi wdycham zapach traw obłoki skłębione zielone szkiełko całą prawdę zna wie dokąd idę schylony palce mi ziębną gdy przyjdzie świt nie wiem od rosy czy wstydu człowiek na ziemi to właśnie ja a może człowieka widmo lecę gdzieś w przepaść widzę czarne dno słyszę jak krew stęchnie w żyłach spływa po twarzy powietrza prąd to cel mnie znalazł i wybrał znalazłem drogę którą chcę przejść aż na drugą snu stronę zielone szkiełko przecina dłoń spadam na ziemię spadam na ziemię jak promień ',\n",
       " 'na na na na na na na na na na na na ja poeta i kachmyta milczę kiedy syn mnie pyta drogi ojcze ile trzeba wydać na kawałek chleba i czy można proszę taty taki chleb kupić na raty ja poeta i kachmyta milczę kiedy syn mnie pyta czy to prawda mój ty stary że na przykład taki paryż ma na każdym większym płocie rozlepione bezrobocie ja poeta i kachmyta milczę kiedy syn mnie pyta drogi ojcze ile trzeba wydać na kawałek chleba i czy można proszę taty taki chleb kupić na raty ja poeta i kachmyta milczę kiedy syn mnie pyta co jest lepsze w życiu tato skończyć studia czy łopatą wrzucać węgiel do kopalni lub wyżymać mózgi w pralni ja poeta i kachmyta milczę kiedy syn mnie pyta czy sportowa ostra miłość wpływa zgubnie na otyłość czy love story diabła warte musi skończyć się bękartem przestań pytać bo już nocka ja poeta i kachmyta milczę kiedy syn mnie pyta drogi ojcze ile trzeba wydać na kawałek chleba i czy można proszę taty taki chleb kupić na raty zamknij oczy possij smoczka chcesz to zmienię ci pieluszkę i pomodlę nad łóżeczkiem za obrońców naszych granic za rejtana i kochanie za najwyższą ludzką rację za umiłowaną partię ja poeta i kachmyta milczę kiedy syn mnie pyta drogi ojcze ile trzeba wydać na kawałek chleba i czy można proszę taty taki chleb kupić na raty ',\n",
       " 'na stole stoi wazonik pierdut w wazonik kamieniem jak pięknie wazonik zadzwoni cichutko spadając na ziemię na łóżku śpi sobie babcia lecz babcia jest trochę głucha lecz może mej babci pomoże gdy włożę jej druta do ucha to walczyk grzecznego kubusia znanego w całym miasteczku co nocą do majtek nie siusia i grzecznie się bawi w piaseczku dziadkowi co od lat trzydziestu fajeczkę ćmi nałogowo zamieniam tytoń amfora z mieszanką ciut ciut wybuchową gdy dziadek się w nocy obudził fajeczkę zapalił po cichu to tak mu buchnęło z cybucha że babci szukał na strychu to walczyk grzecznego kubusia znanego w całym miasteczku co nocą do majtek nie siusia i grzecznie się bawi w piaseczku mój tata to też jest aparat czasami nie wraca do domu lecz ja go tego oduczę do kawy wsypuję mu bromu o mamie mojej w tym względzie powiedzieć nie mogę nic złego na wszelki wypadek do zupy dolewam jej kwasu solnego to walczyk grzecznego kubusia znanego w całym miasteczku co nocą do majtek nie siusia i grzecznie się bawi w piaseczku na górze mieszka sąsiadka której nie lubi mamusia więc jutro jej z samego rana w butelkę po mleku nasiusiam malutką córeczkę sąsiadki po cichu w bramie zaszkoczę na siłę jej ściągnę majteczki i gumkę wyciągnę na procę to walczyk grzecznego kubusia znanego w całym miasteczku co nocą do majtek nie siusia i grzecznie się bawi w piaseczku i rośnie nam kubuś malutki i rośnie nam kubuś wspaniały i rośnie nam chluba narodu przepraszam dziś naród za mały ',\n",
       " 'kołysze nami ciepły wiatr i coraz wolniej płynie czas w sen już odpływa cały świat i tylko nie wiem kto tak gra wieczorny koncert stworzył świerszcz budząc znów wspomnień czas i błyszcząc w księżycowej mgle szczyty gór grzbiety fal nocy czas my otuleni w ciepły koc i zapatrzeni w setki gwiazd ogniska płomień topi noc i tylko nie wiem co tak gra wieczorny koncert stworzył świerszcz budząc znów wspomnień czas i błyszcząc w księżycowej mgle szczyty gór grzbiety fal nocy czas uciekły ptaki do swych gniazd kwiaty zasnęły pośród traw znużony czasem usnął las i chyba wiem już kto tak gra wieczorny koncert stworzył świerszcz budząc znów wspomnień czas i błyszcząc w księżycowej mgle szczyty gór grzbiety fal nocy czas ',\n",
       " 'żegnaj nam dostojny stary porcie rzeko mersey żegnaj nam zaciągnąłem się na rejs do kalifornii byłem tam już niejeden raz a więc żegnaj mi kochana ma za chwilę wypłyniemy w długi rejs ile miesięcy cię nie będę widział nie wiem sam lecz pamiętać zawsze będę cię zaciągnąłem się na herbaciany kliper dobry statek choć sławę ma złą a że kapitanem jest tam stary burgess pływającym piekłem wszyscy go zwą a więc żegnaj mi kochana ma za chwilę wypłyniemy w długi rejs ile miesięcy cię nie będę widział nie wiem sam lecz pamiętać zawsze będę cię z kapitanem tym płyniemy już nie pierwszy raz znamy się od wielu wielu lat jeśliś dobrym żeglarzem radę sobie dasz jeśli nie toś cholernie wpadł a więc żegnaj mi kochana ma za chwilę wypłyniemy w długi rejs ile miesięcy cię nie będę widział nie wiem sam lecz pamiętać zawsze będę cię żegnaj nam dostojny stary porcie rzeko mersey żegnaj nam wypływamy już na rejs do kalifornii gdy wrócimy opowiemy wam a więc żegnaj mi kochana ma za chwilę wypłyniemy w długi rejs ile miesięcy cię nie będę widział nie wiem sam lecz pamiętać zawsze będę cię ',\n",
       " 'na prerię szary spływa mrok po stepie wieje wiatr rozsiodłał konia stary cowboy przy ognisku siadł gdy płomień resztką sił się tlił dorzucił jeszcze parę drew wieczorne mgły niosą jego śpiew co mi tam wiatr co mi tam chłód byle był koń wiatronogi druh był colt lasso i bat co mi tam chłód co mi tam wiatr pamiętasz stary koniu gdym żebrakiem jeszcze był marzyłem sobie kupię dom jak człowiek będę żył pasałem bydło życie całe co dziś mam czy wiesz dwa colty bat ciebię i tę pieśń co mi tam wiatr co mi tam chłód byle był koń wiatronogi druh był colt lasso i bat co mi tam chłód co mi tam wiatr nad ranem wygnali znów cowboye bydło w step starego pochowali starej szkapie kula w łeb na morzu prerii w dali gdzieś cowboyów znika sznur wiatr niesie pieśń szumi jeszcze bór co mi tam wiatr co mi tam chłód byle był koń wiatronogi druh był colt lasso i bat co mi tam chłód co mi tam wiatr ',\n",
       " 'zanim mi sen na oczy spłynie moje myśli szybują przez lufcik żeby cię ujrzeć w ową chwilę gdy włosy czeszesz przed lustrem a kiedy zaśniesz w ciepłej pościeli zmęczone długim przelotem jak ptaki głowy w skrzydła wtulają patrząc na sen twój spokojny niech ci się przyśnią pory roku niech grają we śnie twoim i tańczą jesień prężąca liście do lotu lato w upale słonecznym a jeśli zima to w śniegu cała wiosna w miłków wiosennych łąkach śpij moje myśli nad tobą czuwają na parapecie za oknem ',\n",
       " 'zebrało się nas tutaj wielu takich jak ty siadaj z nami przyjacielu a zaśpiewamy ci rajd rajd bieszczadzki rajd czy to w słońce czy to w deszcz idziesz z nami przyjacielu bo sam chcesz każdy harcerz przeżyć chce ten bieszczadzki rajd aby wzmocnićswoje siły jemy dużo pajd rajd rajd bieszczadzki rajd czy to w słońce czy to w deszcz idziesz z nami przyjacielu bo sam chcesz czasem chleba nam brakuje ale fajno jest ktoś nas wtedy poratuje to braterski gest rajd rajd bieszczadzki rajd czy to w słońce czy to w deszcz idziesz z nami przyjacielu bo sam chcesz może kiedyś tu za rok wszysczy się spotkamy obsiądziemy ogień w koło i tak zaśpiewamy rajd rajd bieszczadzki rajd czy to w słońce czy to w deszcz idziesz z nami przyjacielu bo sam chcesz ',\n",
       " 'świt za oknem budzi ptaki od butelki wionie nudą chyba pójdę się położyć albo zbudzę tamtą rudą to wygląda na końcówę wszyscy dawno się pospali trzeba będzie coś z tym zrobić nie ma nawet co zapalić jeszcze jeden kieliszek jeszcze jedna flaszka to najlepszy na zmartwienia sposób jaki znam jeszcze jeden kieliszek znowu świt nas zastał nad butelką której nie możemy już wypić do dna trzeci raz na trzecim roku i to nawet nie na pewno starzy nie chcą na mnie łożyć nie wiem sam co będzie ze mną jak o wszystkim się dowiedzą wydziedziczą mnie napewno wojsko już się o mnie pyta zresztą jest mi wszystko jedno jeszcze jeden kieliszek jeszcze jedna flaszka to najlepszy na zmartwienia sposób jaki znam jeszcze jeden kieliszek znowu świt nas zastał nad butelką której nie możemy już wypić do dna wszyscy kumple siedzą w górach jedzą piją lulki palą ja się czasem zjawiam w szkole chyba w końcu mnie wywalą nie układa się z kobitą tak naprawdę już po wszystkim załapałem klimat końca chyba czas żebyśmy wyszli jeszcze jeden kieliszek jeszcze jedna flaszka to najlepszy na zmartwienia sposób jaki znam jeszcze jeden kieliszek znowu świt nas zastał nad butelką której nie możemy już wypić do dna aaa wypić do dna aaa wypić do dna uuu ',\n",
       " 'a jeśli dom będę miał to będzie bukowy koniecznie pachnący i słoneczny wieczorem usiądę wiatr gra a zegar na ścianie gwarzy dobrze się idzie panie zegarze tik tak tik tak tik tak świeca skwierczy i mruga przewrotnie więc puszczam oko do niej dobry humor dziś pani ma dobry humor dziś pani ma szukam szukania mi trzeba domu gitarą i piórem a góry nade mną jak niebo a niebo nade mną jak góry gdy głosy usłyszę u drzwi czyjekolwiek wejdźcie poproszę jestem zbieraczem głosów a dom mój bardzo lubi gdy śmiech ściany mu rozjaśnia i gędźby lubi i pieśni wpadnijcie na parę chwil kiedy los was zawiedzie w te strony bo dom mój otworem stoi dla takich jak my dla takich jak wy szukam szukania mi trzeba domu gitarą i piórem a góry nade mną jak niebo a niebo nade mną jak góry zaproszę dzień i noc zaproszę cztery wiatry dla wszystkich drzwi otwarte ktoś poda pierwszy ton zagramy na góry koncert buków porą pachnącą nasiąkną ściany grą a zmęczonym wędrownikom odpocząć pozwolą muzyką bo taki będzie mój dom bo taki będzie mój dom bo taki będzie mój dom szukam szukania mi trzeba domu gitarą i piórem a góry nade mną jak niebo a niebo nade mną jak góry ',\n",
       " 'nad jeziorem las otwiera wrota swe więc rozbij namiot i nie przejmuj się wokół ciebie bratnie serca są one pomogą zabić w tobie zło nie zapomnisz nigdy już tych lasów zielonych tej osady pośród wzgórz co tętni tak jak krew niech poniesie gromki śpiew nasz hymn ocalonych w tej osadzie pośród wzgórz gdzie czas nie liczy się już wciąż na nowo swój odkrywasz świat las dla ciebie zawsze jest jak brat a więc przystań i zastanów się co nowego niesie tobie nowy dzień nie zapomnisz nigdy już tych lasów zielonych tej osady pośród wzgórz co tętni tak jak krew niech poniesie gromki śpiew nasz hymn ocalonych w tej osadzie pośród wzgórz gdzie czas nie liczy się już gdy wyjechać masz już stąd to nie smuć się bo na pewno znów spotkamy się i znów życie dobrą lekcję da i znów zabrzmi piosnka ta nie zapomnisz nigdy już tych lasów zielonych tej osady pośród wzgórz co tętni tak jak krew niech poniesie gromki śpiew nasz hymn ocalonych w tej osadzie pośród wzgórz gdzie czas nie liczy się już ',\n",
       " 'święty święty święty blask kłujący w oczy święta święta święta ziemia co nas nosi święty kurz na drodze święty kij przy nodze święte krople potu święty kamień w polu przysiądź na nim panie święty płomyk rosy święte wędrowanie święty chleb chleba łamanie święta sól solą witanie święta cisza święty śpiew znojny łomot prawych serc słupy oczu zapatrzonych bicie powiek zadziwionych święty ruch i drobne stopy święta święta święta ziemia co nas nosi słońce i ludny niebieski zwierzyniec baran lew skorpion i ryby sferyczne droga mleczna obłok magellana meteory gwiazda przedporanna saturn i saturna dziwów wieniec trzy pierścienie i księżyców dziewięć neptun pluton uran mars merkury jowisz święty chleb chleba łamanie święta sól solą witanie święta cisza święty śpiew znojny łomot prawych serc słupy oczu zapatrzonych bicie powiek zadziwionych święty ruch i drobne stopy święta święta święta ziemia co nas nosi la la la ',\n",
       " 'skulony w jakiejś ciemnej jamie smaczniem sobie spał i spały małe wilczki dwa zupełnie ślepe jeszcze wtem stary wilk przewodnik co życie dobrze znał łeb podniósł warknął groźnie aż mną szarpnęły dreszcze poczułem nagle wokół siebie nienawistną woń woń która tłumi wszelki spokój zrywa wszystkie sny z daleka ktoś gdzieś krzyknął nagle krótki rozkaz goń i z czterech stron wypadły na nas cztery gończe psy obława obława na młode wilki obława te dzikie zapalczywe w gęstym lesie wychowane krąg śniegu wydeptany w tym kręgu plama krwawa ciała wilcze kłami gończych psów szarpane ten który rzucił na mnie się niewiele szczęścia miał bo wypadł prosto mi na kły i krew trysnęła z rany gdym teraz ile w łapach sił przed siebie prosto rwał ujrzałem małe wilczki dwa na strzępy rozszarpane zginęły ślepe ufne tak puszyste kłębki dwa bezradne na tym świecie złym nie wiedząc kto je zdławił i zginie także stary wilk choć życie dobrze zna bo z trzema naraz walczy psami i z ran trzech naraz krwawi obława obława na młode wilki obława te dzikie zapalczywe w gęstym lesie wychowane krąg śniegu wydeptany w tym kręgu plama krwawa ciała wilcze kłami gończych psów szarpane wypadłem na otwartą przestrzeń pianę z pyska tocząc lecz tutaj też ze wszystkich stron zła mnie otacza woń a myśliwemu co mnie dojrzał już się śmieją oczy i ręka pewna niezawodna podnosi w górę broń rzucam się w bok na oślep gnam aż ziemia spod łap tryska i wtedy pada pierwszy strzał co kark mi rozszarpuje wciąż pędzę słyszę jak on klnie i krew mi płynie z pyska on strzela po raz drugi lecz teraz już pudłuje obława obława na młode wilki obława te dzikie zapalczywe w gęstym lesie wychowane krąg śniegu wydeptany w tym kręgu plama krwawa ciała wilcze kłami gończych psów szarpane wyrwałem się z obławy tej schowałem w jakiś las lecz ile szczęścia miałem w tym to każdy chyba przyzna leżałem w śniegu jak nieżywy długi długi czas po strzale zaś na zawsze mi została krwawa blizna lecz nie skończyła się obława i nie śpią gończe psy i giną ciągle wilki młode na całym wielkim świecie nie dajcie z siebie zedrzeć skór brońcie się i wy o bracia wilcy brońcie się nim wszyscy wyginiecie obława obława na młode wilki obława te dzikie zapalczywe w gęstym lesie wychowane krąg śniegu wydeptany w tym kręgu plama krwawa ciała wilcze kłami gończych psów szarpane ',\n",
       " 'stoję na ulicy z nią stoję twarzą w twarz ktoś przechodzi trąca łokciem wzrokiem pluje w twarz szeptem mówię mała patrz cywilizowany świat potem obejmuję ją odpływamy w dal nie dochodzi obcy głos wolno płynie czas odpływamy w otchłań gwiazd mała zanuć to co ja tam tam tam tam tara tara tam tam tam tam tam tara tara tam stoję na ulicy z nią śmiechy wkoło nas ktoś przechodzi trąca łokciem pluje małej w twarz głośno mówię mała patrz cywilizowany świat potem mu przestawiam nos upadł ale wstał dookoła głosów sto ten w skórze to drań padam dzisiaj byłem sam mała nuci to co ja tam tam tam tam tara tara tam tam tam tam tam tara tara tam wtedy obejmuję ją odpływamy w dal nie dochodzi obcy głos wolno płynie czas odpływamy w otchłań gwiazd mała nuci to co ja tam tam tam tam tara tara tam tam tam tam tam tara tara tam ',\n",
       " 'wychodzę na rozstaje w zadumaniu trwam pochłonął mnie ich bezmiar pochłonęła dal a oczy ich widokiem nasycone są ukryte w palto wspomnień cichuteńko drżą naokoło mnie drogi i drogi buro ginące na końcu dnia drogi drogi ich mądrość ich cel i ja wychodzę na rozstaje w oniemieniu trwam jak trudno znaleźć w sobie kształt tego kim być mam tak ciężko słuchać siebie tego kim być chce tak głośno strach mi szepce że mogę zboczyć źle naokoło mnie drogi i drogi buro ginące na końcu dnia drogi drogi ich mądrość ich cel i ja wychodzę na rozstaje w osłupieniu trwam gdzie dojdę którędy i po co co dnia dokądś dążyć mam nasycę drogą siebie pomyślę dokąd iść wyznaczę sobie ścieżkę z którą zmierzę się dziś naokoło mnie drogi i drogi buro ginące na końcu dnia drogi drogi ich mądrość ich cel i ja ',\n",
       " 'gienek gra na gitarze miał być szewcem g lecz mu nie wyszło za oknem jesień przybija podkówki chyba na przyszłość gitara gienka jest taka cienka po prostu mało ma strun lecz gienek jej wierzy wie że struna pęka zwłaszcza gdy cienka i już gienek nie będzie już szewcem bo wbił sobie w głowę gwóźdź woli gitarę mieć za żonę z gitarą bierze ślub gitara gienka jest taka cienka po prostu mało ma strun lecz gienek jej wierzy wie że struna pęka zwłaszcza gdy cienka i już ',\n",
       " 'wujek euzebiusz dał mi kilka cegieł żebym zbudował zamek bo miałem kilka cegieł które dał mi wujek euzebiusz więc zbudowałem zamek na skalistym podłożu ale utonął w bagnie bo podłoże było skaliste prawie jak dusza wujka euzebiusza wujek euzebiusz je je je więc chciałem więcej cegieł od wujka euzebiusza ale wujek euzebiusz niestety utonął w bagnie bo podłoże było skaliste więc resztę cegieł wziąłem od ciotki matyldy ciotka matylda je je je więc zbudowałem zamek nowy na skalistym podłożu ale utonął w bagnie bo podłoże było skaliste prawie a ciotka matylda wyleciała w powietrze bo paliła fajkę w atmosferze pełnej metanu i była duża dziura do której wpadła ciotka matylda duża dziura je je je więc następne cegły wyłowiłem z bagna wędką ale ciotki matyldy i wujka euzebiusza nie wyłowiłem z bagna bo byli brzydcy i starzy i śmierdzieli tak bardzo jak śpiwór szymona śpiwór szymona je je je poszedłem po rozum do tłuszcza i zbudowalem cegielnię z cegieł wyjętych z bagna by zrobić więcej cegieł i zbudowałem zamek na skalistym podłożu ale utonął w bagnie bo podłoże było skaliste jak kamień nerkowy małego ślicznego zajączka kamień nerkowy je je je więc wyłowiłem osła i krowę prosto z bagna i poszła na dno cegielnia z zasady zachowania masy na dnie bagna a potem z osła i krowy wyłonił się nagle muł a z mułu zrobiłem cegły osioł i krowa je je je i zbudowałem zamek ale byłem sprytniejszy i postawiłem zamek na żabiej łapce i stał piękny zamek sięgął wieżami nieba i ten zamek stał tak długo aż grzmotnął w niego piorun grzmotnął piorun je je je ale zamek miał piorunochron piękny chromowy piorunochron długi jak kamień nerkowy małego ślicznego zajączka lecz było to stresujące szczególnie dla żabiej łapki która nagle skoczyła o pięć mil dalej żabia łapka je je je a pięć mil dalej też było skaliste bagno i zamek poszedł na dno bo nie wytrzymał napięcia powierzchniowego a pieśń już kończyć trzeba bo kartka nam się kończy na której są zapisane godziny porannego budzenia czarymary zmieniamy gitary ',\n",
       " 'słońce błyśnie między wschodem a zachodem mimochodem obrysuje miasto chmur jednych dziegciem dzień nakarmi innych miodem temu głowę wzniesie temu napnie sznur trochę starsze znów się stanie to co młode jakby strzepnął ptak kolejną kroplę z piór mimochodem mimochodem jakby strzepnął kroplę z piór tym pod nogi róż kobierzec tamtym kłodę pozostałym mimochodem byle co frustrat skargę śle laureat pisze odę raz się dobro jawi złem raz dobrem zło słowo wpada w morze słów jak kamień w wodę krążek myśli pozostawi brnąc na dno mimochodem mimochodem krążek myśli brnąc na dno cierpi syty niepojętym zdjęty głodem zgłodniałego mimochodem syci złość temu mostu przęsło temu dom z ogrodem komuś o coś chodzi za kimś chodzi coś na stracenie na pożytek i na szkodę jak złośliwie między psy rzucona kość mimochodem mimochodem między psy rzucona kość tańczą walczą zieją żarem zioną chłodem mimochodem spalą w pył zetną w lód swego boga za słomianą szarpią brodę by im dał nadziei źdźbło ładu łut sen za jawę biorą karę za nagrodę odtwarzając krótkie scherzo swe bez nut mimochodem mimochodem krótkie scherzo swe bez nut nic już więcej z tego rymu nie wywiodę mimochodem układając cierpką pieśń pocieszenie tylko dodam na osłodę że w niej drzemie mimochodem ważka treść chwila światła między wschodem a zachodem wobec której trudno tak po prostu przejść mimochodem mimochodem trudno tak po prostu przejść mimochodem mimochodem miasto chmur chwile szczęść ',\n",
       " ' zamieszkamy pod wspólnym dachem przed obcymi zamkniemy drzwi posadzimy przed domem kwiaty których nocą nie zerwie nikt przyniesiemy suchego drzewa żeby zimą nie było źle parę jabłek i trochę chleba co nam starczą na cały wiek przeczekamy każdy losu kaprys żeby potem żyć normalnie zamieszkajcie pod wspólnym dachem przed obcymi zamnijcie i posadźcie przed domem kwiaty których nocą nie zerwie nikt przygotujcie suchego drzewa żeby zimą nie było źle parę jabłek i trochę chleba co wam starczą na cały dzień ',\n",
       " 'mam mało czasu tak mało jak piachu w dziecięcej garści nad rzeką zwieram powieki zatrzymać obraz co z moich wspomnień ucieka bledną kolory i płynie płynie rzeka po szarej łące i płynie płynie nie realniejąc rzeką zielony zajączek biegnę wciąż biegnę przed siebie w siebie tęczę rozgarniam rękami letnim upałem wytrzeć do sucha spotniałą wilgotną pamięć bledną kolory i płynie płynie rzeka po szarej łące i płynie płynie nie realniejąc rzeką zielony zajączek rzeki jaszczurka w trawie się wije słońce się chyli zrudziałe wieczną zieloność zachować w oczach tak wiele pragnę tak mało bledną kolory i płynie płynie rzeka po szarej łące i płynie płynie nie realniejąc rzeką zielony zajączek bledną wspomnienia i płynie rzeka bez końca i bez początku nasyć me oczy kolorem rosy i drzwi mi otwórz zajączku ',\n",
       " ' jakby nigdy nic brodzę już w smudze cienia i widzę jak zachodzi słonko ojca i matki jakby nigdy nic przyjaciół paru na cmentarzach jakby nigdy nic kwitną na nich kwiatki jakby nigdy nic słońce świeci innym i kto inny ze światem się zżywa jakby nigdy nic żartujemy pijemy choć przy stole wciąż kogoś ubywa jakby nigdy nic kolejna jesień mija jakby nigdy nic życie ucieka jakby nigdy nic robię dobrą minę do złej gry i z nadzieją na jutro czekam ',\n",
       " 'jeśli w niebie krąży kruk wojnę nam wypowie wróg zabić kruka prosta rzecz to i wróg odejdzie precz zabić kruka prosta rzecz to i wróg odejdzie precz a kto chciałby strzelić doń musi załadować broń a jak trafi broń do rąk rychło przyjdzie dalszy ciąg dość wypalić bracie mój żeby kul zaświstał rój a tym kulom nie żal nas więc trafiają co i raz czy to w głowę czy to w brzuch wszystko jedno wróg czy druh wszystko jedno wróg czy druh wszystko rozniesione w puch krąży kruk w czerwonej mgle nie ma kto mu strzelić w łeb ',\n",
       " 'chłopcy z grabówka chłopcy z chylonii dzisiaj milicja użyła broni dzielnieśmy stali celnie rzucali janek wiśniewski padł na drzwiach ponieśli go świętojańską naprzeciw glinom naprzeciw tankom chłopcy stoczniowcy pomścijcie druha janek wiśniewski padł huczą petardy ścielą się gazy na robotników sypią się razy padają dzieci starcy kobiety janek wiśniewski padł jeden zraniony drugi zabity krew się polała grudniowym świtem to partia strzela do robotników janek wiśniewski padł stoczniowcy gdyni stoczniowcy gdańska idźcie do domu skończona walka świat się dowiedział nic nie powiedział janek wiśniewski padł nie płaczcie matki to nie na darmo nad stocznią sztandar z czarną kokardą za chleb i wolność i nową polskę janek wiśniewski padł ',\n",
       " 'po ulic mokrym ciemnym tle pod prószącymi latarniami ja wlokę cień cień wlecze mnie kałuże lśnią nam pod nogami dawno nie było nam tak źle zostaliśmy zupełnie sami ja wlokę cień cień wlecze mnie kałuże lśnią nam pod nogami ja się zawiodłem cień zawiódł się tak jest już z tymi dziewczynami i wlokę go on wlecze mnie kałuże lśnią nam pod nogami ja mówię z jej kaprysów drwię nie będzie kierowała nami i wlokę go on wlecze mnie kałuże lśnią nam pod nogami był czas gdy cień mój cieszył się jak ona mnie jej cień go mamił i wlokę go on wlecze mnie kałuże lśnią nam pod nogami a teraz mówi z żalu kpię lecz dobrze wiem że mówiąc kłamie więc wlokę cień cień wlecze mnie kałuże lśnią nam pod nogami tak pocieszamy wzajem się idąc długimi ulicami ja wlokę cień cień wlecze mnie kałuże lśnią nam pod nogami ',\n",
       " 'lata brudna przepocona sala gimnastyczna jednej z kanadyjskich szkół dziewczęta tańczą parami chłopcy trochę pijani podpierają drabinki gimnastyczne w kieszeniach pobrzękują butelki taniego wadliwego wina owocowego po a może nawet po centów frankie lane właśnie śpiewał o jesabel przypiąłem więc żelazny krzyż do piersi swej podszedłem do najwyższej z dziewcząt i najbardziej blond powiedziałem jeszcze nie znasz mnie i to twój wielki błąd więc czy pokażesz mi powiedz czy pokażesz mi gadaj czy pokażesz mi swe nagie ciało swoją kolekcję motyli swe majtki w kratkę a ja skoncentruję się teraz przed czekającym mnie w następnej zwrotce niełatwym zadaniu aktorskim z tekstu wynika bowiem że będę musiał wcielić się w rolę niewinnej jasnowłosej kanadyjskiej nastolatki chodź odtańczymy w najciemniejszy kąt tam może nie odepchnę twoich rąk wyraźnie czuję w twoim głosie wielki głód wszystkiego czego dotknąć zechcesz będziesz mógł lecz nie pokażę ci nigdy nie pokażę ci w życiu nie pokażę ci nagiego ciała kolekcji motyli majtek w kratkę tańczymy tak blisko zespół zagrał star dust konfetti baloniki lecą prosto w nas szepnęła masz minutę by zakochać się w tak uroczystej chwili muszę wierzyć że pokażesz jednak mi że pokażesz w końcu mi że pokażesz dzisiaj mi swe nagie ciało swoją kolekcję motyli swe majtki w kratkę ',\n",
       " 'kiedy w piątek słońce świeci serce mi do góry wzlata że w sobotę wezmę plecak w podróż do mojego świata bo ja mam tylko jeden świat słońce góry pola wiatr hej pola wiatr i nic mnie więcej nie obchodzi bom turystą się urodził dla mnie w mieście jest za ciasno wśród pojazdów kurzu spalin ja zielone wolę ścieżki pełne wszędzie słodkich malin i tak leżąc w lesie myślę niczym na wielkim dywanie czy przypadkiem za lat tysiąc coś z tym światem się nie stanie i chciałbym żeby ten mój świat przetrwał jeszcze z tysiąc lat i żeby mogły moje dzieci z tego świata też się cieszyć ',\n",
       " ' zrozum to co powiem spróbuj to zrozumieć dobrze jak życzenia najlepsze te urodzinowe albo noworoczne jeszcze lepsze może o północy gdy składane drżącym głosem niekłamane z nim będziesz szczęśliwsza dużo szczęśliwsza będziesz z nim ja cóż włóczęga niespokojny duch ze mną można tylko pójść na wrzosowisko i zapomnieć wszystko jaka epoka jaki wiek jaki rok jaki miesiąc jaki dzień jaka godzina kończy się a jaka zaczyna nie myśl że nie kocham lub że tylko trochę jak cię kocham nie powiem no bo nie wypowiem tak ogromnie bardzo jeszcze więcej może i dlatego właśnie żegnaj zrozum dobrze żegnaj z nim będziesz szczęśliwsza dużo szczęśliwsza będziesz z nim ja cóż włóczęga niespokojny duch ze mną można tylko pójść na wrzosowisko i zapomnieć wszystko jaka epoka jaki wiek jaki rok jaki miesiąc jaki dzień jaka godzina kończy się a jaka zaczyna ze mną można tylko w dali zniknąć cicho ',\n",
       " ' a jeśli mnie dom buczyną spięty tej nocy przyjmie w swoje progi zapalę gwiazdy w nocy głębi a sam zakwitnę górskim głogiem a jeśli mnie dom buczyną spięty tej nocy przyjmie w swoje progi zapalę gwiazdy w nocy głębi a sam zakwitnę głogiem beskid kołysze się i szumi i chwiać się będzie drżeniem nieba i horyzontu zmieni drogi i umrzeć moim słowom nie da do końca drogi swej noc zmierza i płoną drzewa w nocnym chłodzie czy gościem będę w nim czy muszę do domu swego wejść jak złodziej beskid woła znak mi daje wiem oto droga już niedługa i trwa świt złocąc wyświechtana jesiennym wiatrem biedna fuga ',\n",
       " ' ta pierwsza morska podróż do australii łotry przy burtach prostytutki w kojach wszyscy się bali łkali i rzygali w drodze do raju przewrotności twoja panie coś w jeszcze nam nieznanych planach miał czarne diabły strzegące wybrzeży edenu który przeznaczyłeś dla nas a w który nikt prawdę mówiąc nie wierzył czym żeśmy marni zasłużyli na to ten co zawisnąć miał za kradzież płaszcza płakał nad swoją niechybną zatratą nie widział ciebie w robaczywych masztach statku co tylko był więzieniem nowym tej co kupczyła ciałami swych dziatek ani przez mgnienie nie przyszło do głowy że to nadziei nie rozpaczy statek niejeden żołnierz z ponurej eskorty bo czym się ich los od naszego różnił wiedział że nigdy już nie ujrzy portu gdzie go podejmą karczmarze usłużni i płatne dziewki że zabraknie rumu zanim do celu przygnasz okręt szparki z marynarzami pili więc na umór i wbrew zakazom grali o więźniarki prawda nie wszyscy próby twe przetrwali ale też ciężkoś nas doświadczał panie nie oszczędzałeś nam wysokiej fali za którą mnogim przyszło w oceanie zakończyć żywot innym dziąsła zgniły wypadły zęby rozgorzały wrzody więc znaczą nasz zielony szlak mogiły szkorbutu szału francuskiej choroby nikt nie odnajdzie w ruchomych odchłaniach ciał nieszczęśników oprócz ciebie boże ich żywot grzeszny epitafiów wzbrania lecz ukarani więc wystarczy może żeś się posłużył starszliwym przykładem oni naprawdę dotarli do piekieł a umierając nie wierzył z nich żaden że w swym cierpieniu umiera człowiekiem ląd nam się wydał niegościnny dziki łotr bez honoru kobieta sprzedajna z dnia na dzień jak się stać ma osadnikiem nieznanych światów bo rozpoznać raj nam nie było łatwo znaleść w sobie siłę wbrew przeciwnościom bez słowa zachęty by mimo wszystko żyć nim nam odkryłeś kraj szczodry w zboże złoto i diamenty łajdacki pomiot łotrowskie nasienie czerpiąc ze spichrza twoich dóbr wszelakich choć tyle wiemy własnym doświadczeniem w nas jest raj piekło i do obu szlaki ',\n",
       " ' wsłuchany w twą cichą piosenkę wyszedłem na brzeg pierwszy raz wiedziałem już rzeko że kocham cię rzeko że odtąd pójdę z tobą o dobra rzeko o mądra wodo wiedziałaś gdzie stopy znużone prowadzić gdy sił już było brak brak wieże miast łuny świateł ich oczy zszarzałe nie raz witały mnie pustką żegnały milczeniem gdym stał się twoim nurtem o dobra rzeko o mądra wodo wiedziałaś gdzie stopy znużone prowadzić gdy sił już było brak brak po dziś dzień z tobą rzeko gdzież począł gdzie kres dał ci bóg ach życia mi braknie by szlak twój przemierzyć by poznać twą melodię o dobra rzeko o mądra wodo wiedziałaś gdzie stopy znużone prowadzić gdy sił już było brak brak ',\n",
       " 'przez szyby twych okien zapatrzonych w stawy przychodzi jesień cicho sennie i srebrzyście rozrzuca strzępy złota miedzy zeschłe trawy gdy modlę się o ciebie do żółknących liści blada mgła jesienna snuje się przez wrzosy i pieśń o barwnej ciszy w sercu wciąż mi dzwoni płynie wiatr alejami rozwiewa twe włosy jakby chciał się na pamięć nauczyć ich woni ostatnie już w tym roku kwiaty mrą pod płotem stary żuraw studzienny skrzypi gdzieś w oddali jakieś burze błękitne i czarne i złote przepływają w twych oczach nie znane mi wcale ',\n",
       " 'w osypanych śnieżnym puchem koleinach leśnych dróg wznieca wiatr nagłym podmuchem burze lśniących bielą smug świt przejrzysty wklęty w ciszę zatopiony w śnieżną jaśń blaskiem słońca w brzozach pisze oszronioną mroźną baśń tak się dziwnie w oczach mieni oszadziały cichy las pójdźmy w odmęt tej przestrzeni w której dotąd brakło nas niech nas mrozem wiatr owionie nim zaginie po nas ślad razem z nami w snach utonie zbłękitniały śnieżny świat zagubimy się w dąbrowie w białych słońcach w siwych mgłach i nikt o nas się nie dowie gdzieśmy byli w jakich snach ',\n",
       " 'ej ty ewo rajskie dziewczę nie wykręcisz się dzisiaj ogryzkiem miecz ognisty nie wisi nad nami michał w karty gra z cherbinem nie bądź z tych co tylko wzdychają klucz ściskając w kieszeni fartuszka niechaj tańczą dziś wszystkie drzewa nawet ciężka od upału grusza la la la la pod jabłonią wreszcie odpoczniemy w zbożu włosów ukryję się cały i będziemy świat błogosławić że jest dla nas znowu łaskawy a pod wieczór cicho przyjdą skrzydlaci wysłannicy pana nie jadłem żadnego ogryzka powiem skusiły mnie tylko jabłka ',\n",
       " ' na ścianie masz kolekcję swoich barwnych wspomnień suszony kwiat naszyjnik wiersz i liść już tyle lat przypinasz szpilką na tej słomie to wszystko co cenniejsze jest niż skarb pośrodku sam generał robert badenpowell rzeźbiony w drewnie lilijki smukły kształt jest krzyża znak i srebrny orzeł jest w koronie a zaraz pod nim harcerskich dziesięć praw ramię pręż słabość krusz i nie zawiedź w potrzebie podaj swą pomocną dłoń tym co liczą na ciebie zmieniaj świat zawsze bądź sprawiedliwy i odważny śmiało zwalczaj wszelkie zło niech twym bratem będzie każdy i świeć przykładem świeć i leć w przestworza leć i nieś ze sobą wieść że być harcerzem chcesz a gdy spyta cię ktoś skąd ten krzyż na twej piersi z dumą odpowiesz mu taki mają najdzielniejsi i choć mało mam lat w mym harcerskim mundurze bogu ludziom i ojczyźnie na ich wieczną chwałę służę i świeć przykładem świeć i leć w przestworza leć i nieś ze sobą wieść że być harcerzem chcesz ',\n",
       " 'już o nic nie zapytam nigdy więcej tylko co mam robić kto mi powie żeby powstrzymać ręce które mi się same wyrywają do niej a to ją złości a to ją drażni ona sobie tego nie życzy nie chce mych włości nie chce mych danin ona sobie tego nie życzy a kiedy mówię do niej pozwól poszukać pójdę wiatru w polu ona sobie sobie sobie tego tego nie życzy ona sobie tego nie życzy już o nic nie zapytam nigdy więcej tylko co mam robić kto mi powie żeby powstrzymać serce które mi się samo wprost wyrywa do niej a to ją złości a to ją drażni ona sobie tego nie życzy nie chce mych włości nie chce mych danin ona sobie tego nie życzy a kiedy mówię do niej pozwól poszukać pójdę wiatru w polu ona sobie sobie sobie tego tego nie życzy ona sobie tego nie życzy ',\n",
       " 'jak po nocnym niebie sunące białe obłoki nad lasem jak na szyi wędrowca apaszka szamotana wiatrem jak wyciągnięte tam powyżej gwiaździste ramiona wasze a tu są nasze a tu są nasze jak suchy szloch w tę dżdżystą noc jak winny li niewinny sumienia wyrzut że się żyje gdy umarło tylu tylu tylu jak suchy szloch w tę dżdżystą noc jak lizać rany celnie zadane jak lepić serce w proch potrzaskane jak suchy szloch w tę dżdżystą noc pudowy kamień pudowy kamień ja na nim stanę on na mnie stanie on na mnie stanie spod niego wstanę jak suchy szloch w tę dżdżystą noc jak złota kula nad wodami jak świt pod spuchniętymi powiekami jak zorze miłe śliczne polany jak słońca pierś jak garb swój nieść jak do was siostry mgławicowe ten zawodzący śpiew jak biec do końca potem odpoczniesz potem odpoczniesz cudne manowce cudne manowce cudne cudne manowce ',\n",
       " 'oczy me pełne ciebie jak polne krynice gdzie niebiosa swe jasne odbijają lice uszy me pełne ciebie jak muszla echowa co szumy oceanu w swej głębi chowa nozdrza me pełne ciebie jak duszne ogrody zapachu róż szkarłatnej królewskiej urody róż królewskiej urody usta me pełne ciebie jak pszczela pasieka pełna miodnego wina kwiatowego mleka dłonie me pełne ciebie jak plecione kosze gdzie jesień składa owoców rozkosze serce me pełne ciebie jak korona drzewa gniazd ptactwa co upojną miłości pieśń śpiewa upojną pieśń śpiewa dusza ma pełna ciebie jako wirów morze co nigdy uśpić swego szaleństwa nie może uśpić szaleństwa nie może ',\n",
       " 'jak dobrze nam zdobywać góry i młodą piersią chłonąć wiatr prężnymi stopy deptać chmury i palce ranić o szczyt tatr mieć w uszach szum strumieni śpiew a w żyłach rozognioną krew hejże hej hejże ha żyjmy więc póki czas bo kto wie bo kto wie kiedy znowu ujrzę was jak dobrze nam głęboką nocą wędrować jasną wstęgą szos patrzeć jak gwiazdy niebo złocą i czekać co przyniesie los mieć w uszach szum strumieni śpiew a w żyłach rozognioną krew hejże hej hejże ha żyjmy więc póki czas bo kto wie bo kto wie kiedy znowu ujrzę was jak dobrze nam tak przy ognisku tęczową wstęgę marzeń snuć patrzeć jak w niebo iskra tryska i wokół siebe przyjaźń czuć mieć w oczach blask i ogna żar a w duszy mieć młodości czar hejże hej hejże ha żyjmy więc póki czas bo kto wie bo kto wie kiedy znowu ujrzę was ',\n",
       " 'przy piwie w karczmie w limanowej zapatrzeni w siwe mgłu jesienne czekaliśmy na autobusowe ostatnie lata połączenie bóg przez okno złoty talar rzucił słońce na obrusie od dziewczyny w barze pożyczyłem uśmiech oddam w autobusie a po lesie wiatr rwie na strzępy pajęczyny nić a po polu wiatr rozsypuje kopce siane w pył do puszystych traw się tuli skrada się do pustych ptasich gniazd po strumieniach z wodą śpiewa lekkomyślny wiatr wpatrzeni w okno milczeliśmy wszyscy nikt nie przerywał czekania nawet gitary zacisnęły zęby wiedziały już nie będzie grania oczy dziewczyny szeptały zostań czas się zatrzyma w limanowej oddałem uśmiech przewróciłem kufel na stół talar spadł a po lesie wiatr rwie na strzępy pajęczyny nić a po polu wiatr rozsypuje kopce siane w pył do puszystych traw się tuli skrada się do pustych ptasich gniazd po strumieniach z wodą śpiewa lekkomyślny wiatr ',\n",
       " ' raz w przezroczysty dzień słoneczny jakiś nieboszczyk czy przechodzień ubrany czarno niedorzeczny w kwitnącym znalazł się ogrodzie przepłoszył dłonią ptasie śpiewy zatoczył się od mocnych woni a kiedy róży dojrzał krzewy bardzo głęboko się ukłonił patrzał i oto od spojrzenia gałązka pękiem strun zadrżała i z ciszy liścia z tego cienia pąsowa nagle popatrzała dwa pąki dwojga piersi strzegły uśmiech jak róża się rozwinął wargi gorąco krwią nabiegły i rosę z płatków spił jak wino drapieżnie bronią kolce dzikie rozchylił płatki drżącej róży i szorstkim liściem czy językiem w mięsistość płonnie się zanurzył trwało to dłużej od westchnienia a potem umknął niby złodziej zginął jak plama w światłocieniach dziwny nieboszczyk czy przechodzień ',\n",
       " 'gdy na rajd wyruszaliśmy wszyscy byli dobrej myśli buty mocno zawiązali i plecaki zarzucili pomyśleli jak to fajnie będzie siedzieć przy ognisku gdy na las się kładą cienie a nad głową iskra błyska kilometry już za nami a przed nami zachód słońca echo niesie nad górami pieśń radosną pieśń bez końca la la la la la la la la la la la la la la la la la la la la la la la la la la la la góry stały ponad nami całe w niebie postrzępionyme las zielony w nim po pępki banie cerkwi zanurzone rozbiliśmy swe namioty zaraz obok przy potoku rozpaliło się ognisko dym zakręcił łezkę w oku kilometry już za nami a przed nami zachód słońca echo niesie nad górami pieśń radosną pieśń bez końca la la la la la la la la la la la la la la la la la la la la la la la la la la la la a wieczorem z pierwszą gwiazdą wystrzeliły z bełtów korki kwaśno cierpkim smakiem wina przełamaliśmy bariery między nami a pewnymi dziewczynami co w namiocie obok miały swoje leża i nie były wcale brzydkie pierwsze lody już za nami a przed nami ranek blady echo niesie nad górami zew miłosnej serenady la la la la la la la la la la la la la la la la la la la la la la la la la la la la kiedy się obudziliśmy było dobrze już południe potok toczył za namiotem swoje wody porywiste gdy mnie dzisiaj ze snu budzi dziecka płacz a żona nęka podziękować chcę stachurze i krzysiowi myszkowskiemu la la la la la la la la la la la la la la la la la la la la la la la la la la la la la la la la la la la la la la la la la la la la la la la la la la la la la la la la ',\n",
       " 'kaszubskie noce nad nami lśniące harcerski krąg ogniska blask gdy się tu znajdziesz wtedy zrozumiesz że wszystko to łączy nas to szumi las kołysze drzewa fala jeziora brzegi zalewa tu mały giewont czoło pochyla a my siedzimy harcerska brać i choć ojczyzna jest tak daleko lecz nasze myśli wciąż do niej mkną tam też wśród nocy płoną ogniska harcerskie piosnki unosi wiatr to szumi las kołysze drzewa fala jeziora brzegi zalewa tu mały giewont czoło pochyla a my siedzimy harcerska brać a gdy drużyna znowu jest razem płonie ognisko gitara gra znów wspominamy pierwsze wyprawy trudy radości wspaniały czas to szumi las kołysze drzewa fala jeziora brzegi zalewa tu mały giewont czoło pochyla a my siedzimy harcerska brać czy ty pamiętasz pierwsze ognisko pierwsze spojrzenie cudowna noc gwiazdy na niebie byłeś tak blisko mówiłaś wtedy kocham cię a ja nie kaszubskie noce nad nami lśniące harcerski krąg ogniska blask gdy się tu znajdziesz wtedy zrozumiesz że wszystko to łączy nas ',\n",
       " 'już w gruzach leżą maurów posady naród ich dźwiga żelaza bronią się jeszcze twierdze grenady ale w grenadzie zaraza broni się jeszcze z wierz alpuhary almanzor z garstką rycerzy hiszpan pod miastem zatknął sztandary jutro do szturmu uderzy o wschodzi słońca ryknęły spiże rwą się okopy mur wali już z minaretów błysnęły krzyże hiszpanie zamku dostali jeden almanzor widząc swe roty zbite w upornej obronie przerżnął się między szable i groty uciekł i zmylił pogonie hiszpan na świeżej zamku ruinie pomiędzy gruzy i trupy zastawia ucztę kąpie się w winie rozdziela brańce i łupy wtem straż oddźwierna wodzom donosi że rycerz z obcej krainy o posłuchanie co rychlej prosi ważne przynosząc nowiny był to almazor król muzułmanów rzucił bezpieczne ukrycie sam się oddaje w ręce hiszpanów i tylko błaga o życie hiszpanie woła na waszym progu przychodzę czołem uderzyć przychodzę służyć waszemu bogu waszym prorokom uwierzyć niechaj rozgłosi sława przed światem że arab król zwalczony swoich zwyciężców chce zostać bratem wasalem obcej korony hiszpanie męstwo cenić umieją gdy alamnzora poznali wódz go uścisnął inni koleją jak towarzysza witali almanzor wszystkich wzajemnie witał wodza najczulej uścisnął objął za szyję za ręce chwytał na ustach jego zawisnął a wtem osłabnął padł na kolana ale rękami drżącemi wiążąc swój zawój do nóg hiszpana ciągnął się za nim po ziemi spojrzał dokoła wszystkich zadziwił zbladłe zsiniałe miał lice śmiechem okropnym usta wykrzywił krwią mu nabiegły źrenice patrzcie o giaury jam siny blady zgadnijcie czyim ja posłem jam was oszukał wracam z grenady ja wam zarazę przyniosłem pocałowniem wszczepiłem w duszę jad co was będzie pożerał pójdźcie i patrzcie na me katusze wy tak musicie umierać rzuca się krzyczy ściąga ramiona chciałby uściśnieniem wiecznym wszystkich hiszpanów przykuć do łona śmieje się śmiechem serdecznym śmiał się już skonał jeszcze powieki jeszcze się usta nie zwarły i śmiech piekielny został na wieki do zimnych liców przywarły hiszpanie trwożni z miasta uciekli dżuma za nimi w ślad biegła z gór alpuhary nim się wywleki reszta ich wojska poległa ',\n",
       " ' w malinowym chruśniaku przed ciekawym wzrokiem zapodziani po głowy przez długie godziny zrywaliśmy przybyłe tej nocy maliny palce miałaś na oślep skrawione ich sokiem bąk złośnik huczał basem jakby straszył kwiaty rdzawe guzy na słońcu wygrzewał liść chory złachmaniałych pajęczyn skrzyły się wisiory i szedł tyłem na grzbiecie jakiś żuk kosmaty duszno było od malin któreś szepcąc rwała a szept nasz tylko wówczas nacichał w ich woni gdym wargami wygarniał z podanej mi dłoni owoce przepojone wonią twego ciała i stały się maliny narzędziem pieszczoty tej pierwszej tej zdziwionej która w całym niebie nie zna innych upojeń oprócz samej siebie i chce się wciąż powtarzać dla własnej dziwoty i nie wiem jak się stało w którym okamgnieniu żeś dotknęła mi wargą spoconego czoła porwałem twoje dłonie oddałaś w skupieniu a chruśniał malinowy trwał wciąż dookoła ',\n",
       " 'byłem u wróżki piwna wysokie kręte schody ile mi jeszcze chciałem wiedzieć upłynie w wiśle wody jaka mnie kiedyś czeka bieda lub jakie urodzaje czy mi gitarę przyjdzie sprzedać czy lecieć na hawaje a wróżka puka w szkalną kulę i mówi do mnie czule przed tobą sława wieczna zabawa wszystko jak z nut pieniędzy w bród wspaniałe płyty piękne kobiety zdrowie jak dzwon wygodny tron żegnam staruszkę lekki cały i ruszam w dół po schodach nagle potykam się o mały wyjątek w jej prognozach i myślę tak spadając z hukiem niby dojrzała gruszka w końcu przyszedłem po naukę zatem niech żyje wróżka niech częściej puka w szklaną kulę i mówi do nas czule przed wami sława wieczna zabawa wszystko jak z nut pieniędzy w bród wspaniałe płyty piękne kobiety zdrowie jak dzwon wygodny tron ',\n",
       " 'i czegóż chcieć od tego wani wszak jego winy nie ma w tym wszystkiemu winna tamta pani że poszedł za nią tak jak w dym a pasowałoby mu wszystko juz lepiej wszystko niż ten traf że z cyrku złapie go artystka na linie tańcząc pośród braw gdy w pierwszym geście powitania nad głową wzniosła białą dłoń wciągnęło wanię pożądanie bez reszty w swą przepastną toń marusię swą porzucił najpierw a potem co noc aż do dnia z artystką szalał w chińskiej knajpie a tam marusia z żalu schła a wania tamtej na stół ciska meduzy i w trzech smakach drób nie wiedząc nic że ta artystka wciąż wodę z mózgu robi mu bo nie wierzymy w czas kochania że miłość biedy przyda nam ech wania wania biedny wania ot spójrz po linie idziesz sam ',\n",
       " ' po sztormach burzach nawałnicach szkwałach na dwóch bliźniaczych zamieszkałem skałach trzymam się obu w ciszy i zawiei skały rozpaczy i skały nadziei obie prastare i obie rzeźbione siłą żywiołów nieświadomych znaczeń skałą rozpaczy nadzieje stracone skałą nadziei przetrwane rozpacze po sztormach burzach nawałnicach szkwałach na dwóch bliźniaczych zamieszkałem skałach od świtu do zmierzchu od zmierzchu do świtu na skale grozy i skale zachwytu obie potężne i obie wspaniałe wbrew horyzontom posągowe pozy na skale grozy zachwyty zwietrzałe w skale zachwytu ciemna ruda grozy po sztormach burzach nawałnicach szkwałach na dwóch bliźniaczych zamieszkałem skałach czekały na mnie przecież od początku skała szaleństwa i skała rozsądku obie lekarstwem przeciw nudzie ducha obie modlitwy godne i przekleństwa w skale szaleństwa rozsądku grań krucha w skale rozsądku jaskinie szaleństwa po sztormach burzach nawałnicach szkwałach na dwóch bliźniaczych zamieszkałem skałach jedna dla drugiej lustrem i wyrzutem a przecież z jednej energii wyklute łączy je w głębiach niewidoczny korzeń którym na trwałe w sedno bytu wbite tam gdzie rozsądek rozpaczą i grozą nadzieja szaleństwem szaleństwo zachwytem ',\n",
       " 'zwyczaj to stary jak świat ogień ogień ogień rozpalmy blisko nas ogień ogień ogień dla spóźnionego wędrowca dla wszystkich spóźnionych w noc rozpalmy tu rozpalmy tu ogień ogień ogień pierwsza gwiazdka już wzeszła czas by ogień rozpalić lipy sosny i buki chylą gałęzie ku nam dla spóźnionego wędrowca dla wszystkich spóźnionych w noc rozpalmy tu rozpalmy tu ogień ogień ogień najpiękniejsze ogniska z trzaskiem sypią się skry wokół samych przyjaciół masz zaśpiewaj z nami i ty dla spóźnionego wędrowca dla wszystkich spóźnionych w noc rozpalmy tu rozpalmy tu ogień ogień ogień ',\n",
       " 'polityka mi wisi dorodnym kalafiorem błogosławieni cisi i ci co pyszczą w porę historia mnie nie bierze literatura nudzi ja tam dziś w nic nie wierzę a już na bank nie w ludzi nawet drzewa twardnieją by przeżyć co tu mówić o ludziach frajerzy a jak się urządzili ci z władz i z opozycji ten bił a tego bili obydwaj dziś w policji więc żaden mnie nie skusi na byle ćmojeboje błogosławieni głusi i ci co słyszą swoje nawet drzewa by przeżyć korzenie zapuszczają głęboko pod ziemię katabas kirchę wznosi nie dla nas a dla pana więc jakby sam się prosił by z glana kapelana mnie tego nikt nie wrzepi ja chcę mieć święty spokój błogosławieni ślepi i ci co widzą w mroku nawet drzewa rosną w ciemnościach w dupie mają na czyich kościach mnie nie rajcuje kasa kwatera czy gablota jak trafię skórę klasa pieroga wyłomotam wykaże test żem hivnik to w żyłę i odjadę błogosławieni sztywni i ci co żyją z czadem nawet drzewa próchnieją przedwcześnie a przecież istnieją bezgrzesznie ',\n",
       " 'oczywiście ci którzy stoją na szczycie schodów oni wiedzą oni wiedzą wszystko co innego my sprzątacze placów zakładnicy lepszej przyszłości którym ci ze szczytu schodów ukazują się rzadko zawsze z palcem na ustach jesteśmy cierpliwi żony nasze cerują niedzielną koszulę rozmawiamy o racjach żywności o piłce nożnej cenie butów a w sobotę przechylamy głowę w tył i pijemy nie jesteśmy z tych co zaciskają pięści potrząsają łańcuchami mówią i pytają namawiają do buntu rozgorączkowani wciąż mówią i pytają oto ich bajka rzucimy się na schody i zdobędziemy je szturmem będą się toczyć po schodach głowy tych którzy stali na szczycie i wreszcie zobaczymy co widać z tych wysokości jaką przyszłość jaką pustkę nie pragniemy widoku toczących się głów wiemy jak łatwo odrastają głowy i zawsze na szczycie zostaje jeden albo trzech a na dole aż czarno od mioteł i łopat czasem nam się marzy że ci ze szczytu schodów zejdą nisko to znaczy do nas gdy nad gazetą żujemy chleb i rzekną a teraz pomówmy jak człowiek z człowiekiem to nie jest prawda co wykrzykują afisze prawdę nosimy w zaciśniętych ustach okrutna jest i nazbyt ciężka więc dźwigamy ją sami nie jesteśmy szczęśliwi chętnie zostalibyśmy tutaj to są oczywiście marzenia mogą się spełnić albo nie spełnić więc dalej będziemy uprawiali nasz kwadrat ziemi nasz kwadrat kamienia z lekką głową papierosem za uchem i bez kropli nadziei w sercu ',\n",
       " ' stanęły pod mym oknem jak wiejscy muzykanci gwiazdy zielonooki sierpień po sadzie tańczył księżycem całowany sad się rozrzewnił lekki i cygański był taniec sierpnia łzy co nam z oczu zlecą ziemi o nas powiedzą chodźmy w drogę łzy w drodze obeschną łzy nie przynoszą ujmy a my w tę noc wędrujmy roziskrzoną rozśpiewaną bezkresną stanęły pod mym oknem jak wiejscy muzykanci gwiazdy zielonooki sierpień po sadzie tańczył raz złocistość w korze drzew drżała to sen ją płoszył ludzie mrużyli noc otwierała oczy łzy co nam z oczu zlecą ziemi o nas powiedzą chodźmy w drogę łzy w drodze obeschną łzy nie przynoszą ujmy a my w tę noc wędrujmy roziskrzoną rozśpiewaną bezkresną ',\n",
       " 'nino nam nie trzeba płakać szkoda naszych wspólnych łez bo już taka dola nasza że musimy rozstać się może z innym znajdziesz szczęście swe może inny szczęście ci da kochana nino ale proszę wspomnij szary zmierzch i tego który kochał cię ogorzały i osmalony z karabinem w ręku stał polski mundur w strzępach cały w ustach popiół w oczach łza może z innym znajdziesz szczęście swe może inny szczęście ci da kochana nino ale proszę wspomnij szary zmierzch i tego który kochał cię a jeśli będzie inaczej jeśli żądło kuli złej przetnie życie nie rozpaczaj ale błagam wspomnij mnie może z innym znajdziesz szczęście swe może inny szczęście ci da kochana nino ale proszę wspomnij szary zmierzch i tego który kochał cię ',\n",
       " 'nie o uśmiech mi chodzi choć się śmiałaś nie raz ale o to co kiedyś pojawiło się w nas coś co przyszło tak nagle i przeszło jak wiatr czego właśnie najbardziej mi brak przychodziłem co wieczór by posłuchać twych płyt o miłości w ogóle nie mówiliśmy nic wyjechałaś tak nagle i cichutko jak mysz zostawiłaś swój adres i list w taką w taką ciszę wszystkie gwiazdy na niebie policzę ciebie ciebie wołam chociaż cisza i pustka dookoła jesteś moim aniołem i miłością bez dna jesteś moją boginią którą widzę co dnia jakże długo mam czekać jak prosić cię mam każesz trwać w niepewności więc trwam w taką w taką ciszę wszystkie gwiazdy na niebie policzę ciebie ciebie wołam chociaż cisza i pustka dookoła choć dostaję twe listy zdjęć parę mam żyję jak grzeszny anioł w tłumie ludzi lecz sam jeszcze tli się nadzieja że spotkamy się znów do księżyca się śmiejąc przywołuję cię wróć w taką w taką ciszę wszystkie gwiazdy na niebie policzę ciebie ciebie wołam chociaż cisza i pustka dookoła ',\n",
       " ' zagram dla ciebie na każdej gitarze świata na ulic fletach na nitkach babiego lata wyśpiewam jak potrafię księżyce na rozstajach i wrześnie i stycznie i maje i zagubione dźwięki i barwy na płótnach vlamincka i słońce wędrujące promienia ścieżynką graj nam graj pieśni skrzydlata wiosna taniec nasz niesie po łąkach zatańczymy się w sobie do lata zatańczymy się w sobie bez końca a blask co oświetla me ręce gdy piszę nabrzmiał potrzebą rozerwania ciszy przez okno wyciekł pełna go teraz chmara wronia dziobi się w dziobów końcach a w ogonach ogoni a pieśń moja to niknie to wraca i nie wiem co bym zrobił gdybym ją utracił graj nam graj pieśni skrzydlata wiosna taniec nasz niesie po łąkach zatańczymy się w sobie do lata zatańczymy się w sobie bez końca ',\n",
       " 'zwodnico katarynko teój głos tak słodko brzmi ach dokąd katarynko wskazujesz drogę mi po różnych drogach wielu dreptałem w życiu dość lecz powiedz jak do celu mam w ciasnych butach dojść robota jest robotą a któż by bez niej żył roboty mamy potąd niech tylko starczy sił wiadomo bywa różnie wiadomo ma się dość a przydałby się uśmiech gdy życie daje w kość robota jest robotą ',\n",
       " 'długośmy na ten dzień czekali z nadzieją niecierpliwą w duszy kiedy bez stów towarzysz stalin na mapie fajką strzałki ruszy krzyk jeden pomknął wzdłuż granicy i zanim zmilkł zagrzmiały działa to w bój z szybkością nawałnicy armia czerwona wyruszała a cóż to za historia nowa zdumiona spyta europa jak to to chłopcy mołotowa i sojusznicy ribbentroppa zwycięstw się szlak ich serią znaczy sztandar wolności okrył chwałą głowami polskich posiadaczy brukują ukrainę całą pada podole w hołdach wołyń lud pieśnią wita ustrój nowy płoną majątki i kościoły i chrystus z kulą w tyle głowy nad polem bitwy dłonie wzniosą we wspólną pięść co dech zapiera nieprzeliczone dzieci soso niezwyciężony miot hitlera już starty z map wersalski bękart już wolny żyd i białorusin już nigdy więcej polska ręka ich do niczego nie przymusi nową im wolność głosi prawda świat cały wieść obiega w lot że jeden odtąd łączy sztandar gwiazdę sierp hakenkreuz i młot tych dni historia nie zapomni gdy stary ląd w zdumieniu zastygł i święcić będą nam potomni po pierwszym września siedemnasty ',\n",
       " 'zrywamy się przed świtem nie myśląc o śniadaniu milczący źli a przy tym zupełnie niewyspani okrągły księżyc drwi z nas jak puste dno butelki lecz nam to nie pierwszyzna idziemy po muszelki szlak wiedzie brzegiem morza na zachód w kołdrze mroku więc z tyłu pełznie zorza cierpliwie krok po kroku na piasku rosną cienie jak rozciągnięte szelki idziemy niestrudzenie idziemy po muszelki muszelki rzecz nietrwała po prawdzie nic nie warta ale córeczka chciała córeczka jest uparta z fal słońce się wychyla jak złota pierś modelki umyka nam ta chwila idziemy po muszelki palców u stóp maleństwa kaleczą się boleśnie co robić na przekleństwa za późno i za wcześnie na wątpliwości antrakt na cierpień bagatelki bo zgrzyta zębów mantra idziemy po muszelki pierś słońca już w zenicie wspiera się nam na plecach potężnym żarem życia jak samo serce pieca pot ciurka strumykami dziurawią piach kropelki wyschnięci na pergamin idziemy po muszelki w krąg wodorostów zieleń piętrzy się drwiącą warstwą i cuchnie a muszelek muszelek na lekarstwo nie w naszej widać mocy odnaleźć skarb tak wielki na skórze w chłodzie nocy pęcznieją nam bąbelki lecz córcia łapką gładką pieczeń skwierczącą klepie nie przejmuj się tak tatku jutro ci pójdzie lepiej los żaden nas nie zmoże choć przeszkód pełen wszelkich chwała ci dobry boże za drogę po muszelki ',\n",
       " 'dopóki nam ziemia kręci się dopóki jest tak czy siak panie ofiaruj każdemu z nas czego mu w życiu brak mędrcowi darować głowę racz tchórzowi dać konia chciej sypnij grosz szczęściarzom i mnie w opiece swej miej dopóki nam ziemia obraca się o panie daj nam znak władzy spragnionym uczyń by władza poszła im w smak hojnych puść między żebraków niech się poczują lżej daj kainowi skruchę i mnie w opiece swej miej ja wiem że ty wszystko możesz ja wierzę w twą moc i gest jak wierzy żołnierz zabity że w siódmym niebie jest jak zmysł każdy chłonie z wiarą twój ledwie słyszalny głos jak wszyscy wierzymy w ciebie nie wiedząc co niesie los panie zielonooki mój boże jedyny spraw dopóki nam ziemia toczy się zdumiona obrotem spraw dopóki czasu i prochu wciąż jeszcze wystarcza jej dajże nam wszystkim po trochu i mnie w opiece swej miej ',\n",
       " 'nie wierzyłem dobry boże że się zdarzyć tyle może że cię kiedyś mały synku będę miał spadłeś z nieba mi akurat kiedy szedłem z głową w chmurach niedospany skacowany i jak palec sam dam ci plecak pełen marzeń grać nauczę na gitarze na barana cię przeniosę przez świat smutny jak kalosze miejsca zagrzać nie umiałem trochę grałem malowałem życie mi się nieustannie wychylało z ram spadłeś z nieba mi akurat kiedy szedłem z głową w chmurach niedospany skacowany i jak palec sam dam ci plecak pełen marzeń grać nauczę na gitarze na barana cię przeniosę przez świat smutny jak kalosze może kiedyś ci opowiem kim są ludzie a kim człowiek o jaszczurkach w skórze kobiet które sączą jad może kiedyś a na razie dam ci plecak pełen marzeń i poniosę na barana przez parszywy świat dam ci plecak pełen marzeń grać nauczę na gitarze na barana cię przeniosę przez świat smutny jak kalosze ',\n",
       " 'w karczmie z widokiem na golgotę możesz się dzisiaj napić z łotrem leje się wino krwawe złote stoły i pyski świecą mokre ten ścisk to zysk dla gospodarza wieść się po mieście szerzy chyża że można ujrzeć tu zbrodniarza co właśnie wyłgał się od krzyża żyjemy dobra nasza co z życia chcesz za życia bierz pijmy za barabasza barabasz pije też pije lecz mowy nie odzyskał jeszcze nie pojął że ocalał dłoń która kubek wina ściska jakby ściskała łeb bretnala stopy pod stołem plącze w tańcu szaleńca co o drogę pyta każda z nich stopą jest skazańca a wolna żywa nieprzebita żyjemy dobra nasza co z życia chcesz za życia bierz pijmy za barabasza barabasz pije też piją mieszczanie i żebracy żołdacy odstawili włócznie i piją też po ciężkiej pracy bawi się całe miasto hucznie namiestnik dał dowody łaski bez łaski czymże byłby żywot toasty śpiewy i oklaski jest na tym świecie sprawiedliwość żyjemy dobra nasza co z życia chcesz za życia bierz pijmy za barabasza barabasz pije też ryknął barabasz śmiechem wreszcie ręce szeroko rozkrzyżował i poszła nowa wieść po mieście żyje żartuje bestia zdrowa słychać w pałacu co się święci próżno się piłat usnąć stara bezładnie tańczą mu w pamięci słowa polityka tłum i wiara żyjemy dobra nasza co z życia chcesz za życia bierz pijmy za barabasza barabasz pije też w karczmie z widokiem na golgotę blask świtu po skorupach skacze gospodarz przegnał precz hołotę i liczy zysk barabasz płacze w karczmie z widokiem na golgotę blask świtu po skorupach skacze gospodarz przegnał precz hołotę i liczy zysk barabasz płacze barabasz płacze żyjemy dobra nasza co z życia chcesz za życia bierz pijmy za barabasza barabasz człowiek też ',\n",
       " 'mędrcy świata monarchowie gdzie spiesznie dążycie powiedzcież nam trzej królowie chcecie widzieć dziecię ono w żłobie nie ma tronu i berła nie dzierży a proroctwo jego zgonu już się w świecie szerzy mędrcy świata złość okrutna dziecię prześladuje wieść okropna wieść to smutna herod spisek knuje nic monarchów nie odstrasza do betlejem spieszą gwiazda zbawcę im ogłasza nadzieją się cieszą przed maryją stoją społem niosą panu dary przed jezusem biją czołem składają ofiary trzykroć szczęśliwi królowie któż wam nie zazdrości cóż my damy kto nam powie pałając z miłości tak jak każą nam kapłani damy dar troisty modły pracę niosąc w dani i żar serca czysty to kadzidło mirrę złoto niesiem jezu szczerze co dajemy ci z ochotą od nas przyjm w ofierze ',\n",
       " 'a kiedy na państwo ościenne wyruszał nasz król królowa na drogę sucharów mu wór nasuszyła i dziury na szatach mężowskich starannie zaszyła i w dwóch zawiniątkach mu dała machorkę i sól a kiedy się żegnał i zamku przekroczyć miał próg objęła go czule i łzę uroniła rzęsistą a dajże im w kość bo okrzyczy cię lud pacyfistą i zabierz im słodkie pierniczki bo przecież to wróg pod wodzą kaprala oddziały czekają już dwa trzech smutnych żołnierzy i tyluż żołnierzy wesołych rzekł król furda prasa i radio i cztery żywioły victoria nas czeka i w ogóle chłopcy hurra nim zmilkły oklaski marszowa rozległa się pieśń po drodze do armii król rozkaz skierował odgórny wesołych żołnierzy dać kazał do intendentury a smutnych żołnierzy zostawił w piechocie i cześć i oto jutrzenka zwycięstwa już błyska zza chmur trzech smutnych żołnierzy spisano co prawda na manko a kapral moralny pion tracąc ożenił się z branką lecz łupem zwycięzców ogromny pierniczków padł wór więc grzmijcie orkiestry niech serca uderzą nam w takt niech smutek przelotny nam piersi radosnej nie gniecie cóż smutnym żołnierzom po życiu na wesołym świecie a słodkich pierniczków dla wszystkich nie starczy i tak ',\n",
       " 'dałeś mi panie zbroję dawny kuł płatnerz ją w wielu pogięta bojach w wielu ochrzczona krwią w wykutej dla giganta potykam się co krok bo jak sumienia szantaż uciska lewy bok lecz choć zaginął hełm i miecz dla ciała żadna w niej ostoja to przecież w końcu ważna rzecz zbroja magicznych na niej rytów dziś nie odczyta nikt ale wykuta z mitów i wieczna jest jak mit do ciała mi przywarła przeszkadza żyć i spać a tłum się cieszy z karła co chce giganta grać lecz choć zaginął hełm i miecz dla ciała żadna w niej ostoja to przecież w końcu ważna rzecz zbroja a taka w niej powaga dawno zaschniętej krwi że czuję jak wymaga i każe rosnąć mi być może nadaremnie lecz stanę w niej za stu zdejmij ją panie ze mnie jeśli umrę podczas snu bo choć zaginął hełm i miecz dla ciała żadna w niej ostoja to przecież w końcu ważna rzecz zbroja wrzasnęli hasło wojna zbudzili hufce hord zgwałcona noc spokojna ogląda pierwszy mord goreją świeże rany hańbiona płonie twarz lecz nam do obrony dany pamięci pancerz nasz więc choć za ciosem pada cios i wróg posiłki śle w konwojach nas przed upadkiem chroni wciąż zbroja wywlekli pudła z blachy napchali kul do luf i straszą sami w strachu strzelają do ciał i słów zabrońcie żyć wystrzałem niech zatryumfuje gwałt nad każdym wzejdzie ciałem pamięci żywej kształt choć słońce skrył bojowy gaz i żołdak pławi się w rozbojach wciąż przed upadkiem chroni nas zbroja wytresowali świnie kupili sobie psy i w pustych słów świątyni stawiają ołtarz krwi zawodzi przed bałwanem półślepy kapłan łgarz i z każdym nowym zdaniem hartuje pancerz nasz choć krwią zachłysnął się nasz czas choć myśli toną w paranojach jak zawsze chronić będzie nas zbroja ',\n",
       " ' chyba dobrze wiesz już jaką z dróg popłyniesz kiedy serce rośnie ci nadzieją że jeszcze są schowane gdzieś nieznane lądy które życie twe odmienią chyba dobrze wiesz już jaką z dróg wśród fal i białej piany statek twój popłynie a jeśli tak spotkamy się na jakiejś łajbie którą szczęście swe odkryjesz morza i oceany grzmią pieśni pożegnalny ton jeszcze nieraz zobaczymy się czas stawiać żagle i z portu wyruszyć nam w rejs w kolorowych światłach keja lśni i główki portu sennie mówią do widzenia a jutro gdy nastanie świt w rejs wyruszymy by odkrywać swe marzenia morza i oceany grzmią pieśni pożegnalny ton jeszcze nieraz zobaczymy się czas stawiać żagle i z portu wyruszyć nam w rejs nim ostatni akord wybrzmi już na pustej scenie nieme staną mikrofony ostatni raz śpiewamy dziś na pożegnanie wszystkim morzem urzeczonym morza i oceany grzmią pieśni pożegnalny ton jeszcze nieraz zobaczymy się czas stawiać żagle i z portu wyruszyć nam w rejs ',\n",
       " 'tam dokąd chciałem już nie dojdę szkoda zdzierać nóg już wędrówki naszej wspólnej nadchodzi kres wy pójdziecie inną drogą zostawicie mnie odejdziecie sam zostanę na rozstaju dróg hej przyjaciele przyjaciele hej zostańcie ze mną przecież wszystko to co miałem oddałem wam hej przyjaciele przyjaciele hej choć chwilę jedną znowu w życiu mi nie wyszło znowu będę sam znów spóźniłem się na pociąg i odjechał już tylko jego mglisty koniec zamajaczył mi stoję smutny na peronie z tą walizką jedną tak jak człowiek który zgubił od domu swego klucz hej przyjaciele przyjaciele hej zostańcie ze mną przecież wszystko to co miałem oddałem wam hej przyjaciele przyjaciele hej choć chwilę jedną znowu w życiu mi nie wyszło znowu będę sam tam dokąd chciałem już nie dojdę szkoda zdzierać nóg już wędrówki naszej wspólnej nadchodzi kres wy pójdziecie inną drogą zostawicie mnie zamazanych drogowskazów nie odczytam już hej przyjaciele przyjaciele hej zostańcie ze mną przecież wszystko to co miałem oddałem wam hej przyjaciele przyjaciele hej choć chwilę jedną znowu w życiu mi nie wyszło znowu będę sam ',\n",
       " 'krzątasz się po całej makatce że w bezruchu cię nie uchwycę do krwi masz powyszywane palce a pod oczami smutne księżyce mówisz mi czasem że wyjedziemy w góry gdzie słońce pszenice sieje lecz zawsze jakoś nam schodzi choć ciągle mamy jeszcze nadzieje a w mieście tylko jedna pora roku makatka mieszkania szara żyjemy całkiem parterowo na kredyt zaufania ',\n",
       " 'ty się pochyl różabóg ty się do mnie pochyl i i na ucho jak kolczyk różabóg aaa moje ucho ma dzban z niego pić tylko tobie nikomu a twój kolczyk jak ucho na dzban aaa o modlitwy mnie wabisz o wabisz że błysk noża w najpiękniejsze serce kozy aaa z tobą czystość zachować to gorzej każdy lew by się spalił już dawno las popiołu z jego grzywy nic więcej aaa ty się pochyl różabóg ty się do mnie pochyl we mnie wytryśniemy jak słońce wytryśnie aaa aaa ',\n",
       " 'są chwile gdy wolałabym martwym widzieć cię nie musiałabym się tobą dzielić nie nie gdybym mogła schowałabym twoje oczy w mojej kieszeni żebyś nie mógł oglądać tych które są dla nas zagrożeniem do pracy nie mogę puścić cię nie nie tam tyle kobiet każda w myślach gwałci cię złotą klatkę sprawię ci będę karmić owocami a do nogi przymocuję złotą kulę z diamentami ',\n",
       " 'brnąłem do ciebie barze przez mrozy i wiatry przez śnieżyce i zaspy fagarasz i tatry przez bezbarwne bez smaku kotlety sojowe i wreszcie mięso w barze o tyle lepsze od soi że aż odbiera mowę a teraz jeść nareszcie jeść mięsiwa nie soję smakowe kubki cieszą się a jelita z tęsknoty aż stoją cięlęcina wołowina zapachem swym nęci od mięsa krów szalonych krów wprost w głowie się kręci vivat mięso płyną przeze mnie kęsy rozkoszy dodając wielka jest kiełbasy moc o jej smaku nie wspominając tkwi w moim wnętrzu mięso z mięsa siła ogromna powstaje kwatermistrz soi z tesco fan nawet nie wie ile dobre mięso daje mięso mięso wspaniałe jest a soja nie całkiem jak soję zjesz to bardzo chcesz kwatermistrza uderzyć wałkiem marzy mi się marzy mi się z kiełbasą fasolka jeśli kwatermistrz soję da to będzie rozpierdolka ',\n",
       " 'zbierał człowiek na łące kwiaty pięknie pachnące kwiaty pięknie kwitnące zrywał człowiek na łące piękne kwiaty hej na łące piękne kwiaty najpierw były rumianki białe jak śnieg jest biały człowiek stał wśród rumianków człowiek biały był cały wśród rumianków cały biały wśród rumianków druga łąka zielona hej zielona tam trawa człowik rzucił rumianek jął zielonym się stawać hej zielonym hej się stawać hej zielonym ach cudowna jest zieleń pięknie żyć wśród zieleni jednak nudzi się człowiek życie pragnie odmienić hej odmienić życie pragnie hej odmienić hej zakwitły już maki maki piękne czerwone hej kuszące są maki człowiek ruszył w ich stronę hej w czerwone ruszył w stronę hej w czerwone maki zwiędły i zbladły koniec ich jakże marny człowiek czerwień porzucił żeby stanąć przy czarnym żeby stanąc hej przy czarnym żeby stanąć idzie człowiek po łące zrywa kwiaty pachnące wypatrując na polu spokojniejszych kolorów hej kolorów spokojniejszych hej kolorów ',\n",
       " 'na koniec rozwiązano teatr więc cała w sztucznych ogniach teraz kręci się arena cyrkowa naszych czasów metafora nic tu na pewno wszystko na niby małpka jest w cyrku idolem karzeł podkręca szatańską korbkę arena toczy się kołem niczym piłeczki w palcach żonglerów duszyczki nasze wirują w koło życie przestało być sztuką i stało się sztuczką cyrkową dwie siostry syjamskie prawda kłamstwo wbiegają w zwinnych podskokach nikt nie odróżni jednej od drugiej są w jednakowych trykotach bóg gdyby nawet w krzaku ognistym pojawił się między nami mówilibyśmy że to magik kolejną sztuczką nas mami lecz dokąd można w cyrku żyć pytamy stojąc na głowie słyszymy drwiący błazna śmiech i to jedyna odpowiedź ',\n",
       " 'z zimna drżąc przy domowym ognisku zasłuchani w głodowy kiszek marsz po ostatnim wypijmy kieliszku zanim świecy dotli się blask papierosa puśćmy dokoła przeczytajmy z zakazanych coś ksiąg bo nad ranem nikt przecież nie woła nikt nie wywoła nas stąd gdzie łajdak pokaja się szczerze gdzie złodziej odda swój łup gdzie ktoś zanim powie nie wierzę świętemu upadnie do stóp gdzie krzywdy nie będą pomszczone lecz wynagrodzone do cna gdzie dziecko bezpiecznie zrodzone siądzie obok jagnięcia i lwa otuleni w swoją obecność czując w ustach wspomnienia smak nie dbajmy o świadomą konieczność co w twarze sypie nam mak noc jest jedna i świt jest po nocy pod zamkniętą powieką trwa blask i nikomu nie zabraknie pomocy dopóki nie zabraknie mu nas gdzie zdrada to wtręt z obcej mowy podobnie jak przemoc i gwałt gdzie myśli nie chowa się w słowa lecz jawny jej daje się kształt gdzie rozpacz i ból są kojone i żadna nie kala się łza gdzie dziecko bezpiecznie zrodzone siądzie obok jagnięcia i lwa ktoś powie to senne marzenie nie ma nic prawdziwszego od snu więc w obecność swą otuleni wspólnie wyśnimy go tu ktoś powie to senne marzenie nie ma nic prawdziwszego od snu więc w obecność swą otuleni wspólnie wyśnimy go tu ',\n",
       " 'słuchajcie morscy bracia jak w linach śpiewa wiatr o strasznym losie majtka co zwał się jan van dyck pod nogą pokład chwiejny portowych tawern gwar północne morze wokół i przyjaźń w szklance grogu bogactwo tylko takie znał dowodził nim kapitan co morski zgłębił fach pochodził z amsterdamu i piękną córkę miał niejeden więc marynarz u stóp jej serce kładł kapitan był jak morze północne zimne morze żadnemu chłopcu nigdy nie był rad a gdy hiszpańskich królów z holandii wygnał lud kapitan powiódł okręt swój strzec amsterdamu wrót jesienny czas już nastał świat cały tonął we mgle wtem z masztu ktoś zawołał hiszpański widzę okręt krzyknęli więc hiszpanom śmierć usłyszał to kapitan na pokład spiesznie zbiegł znak krzyża skreślił szpadą i tak załodze rzekł ten z was co wrogi okręt na morza pośle dno zostanie nagrodzony bogactwem niezmierzonym za żonę pojmie córkę mą spojrzeli na grzywacze i w oczach mieli strach gdy nie chce nikt ja pójdę powiedział jan van dyck w jesienne morze skoczył popłynął poprzez toń łaskawe bądź mi morze i ocal mnie boże szepnął dziurawiąc galeonu dno wśród fal jan znowu płynie gdzie okręt czekać miał wtem widzi że jego okręt wziął kurs na amsterdam oszukał go kapitan miast córki śmierć mu dał dokoła tylko morze północne zimne morze i ludzkiej zdrady gorzki smak ',\n",
       " 'nie mam teraz czasu dla ciebie nie widziała cię długo matka jeszcze trochę poczekaj dorośnij opowiemy ci o tych wypadkach o tych dniach pełnych nadziei pełnych rozmów i sporów gorących o tych nocach kiepsko przespanych naszych sercach mocno bijących o tych ludziach którzy poczuli że są wreszcie teraz u siebie solidarnie walczą o dzisiaj i o jutro także dla ciebie więc się nie smuć i czekaj cierpliwie aż powrócisz w nasze objęcia w naszym domu który nie istniał bo w nim brak było prawdziwego szczęścia ',\n",
       " 'w dąbrowy gęstym listowiu błyska zielona skra trzepoce z wiatrem jak płomień mundur harcerski nasz czapka troszeczkę na bakier dusza rogata w niej wiatr polny w uszach i kwiaty w pachnących włosach drzew tam gdzie się kończy horyzont leży nieznany ląd ziemia jest trochę garbata więc go nie widać stąd kreską przebiega błękitną strzępioną pasmem gór żeglują ku tej granicy białe okręty chmur gdzie niskie niebo usypia na rosochatych pniach gdziekolwiek namiot rozpinam będzie kraina ta zieleń o zmroku wilgotna z niebieską plamką dnia cisza jak gwiazda ogromna w grzywie złocistych traw w dąbrowy gęstym listowiu błyska zielona skra trzepoce płomień zielony mundur harcerski nasz czapka troszeczkę na bakier lecz nie poprawiaj jej polny za uchem masz kwiatek duszy rogatej lżej ',\n",
       " 'opadły mgły i miasto ze snu się budzi górą czmycha już noc ktoś tam cicho czeka by ktoś powrócił do gwiazd jest bliżej niż krok pies się włóczy popod murami bezdomny niesie się tęsknota czyjaś na świata cztery strony a ziemia toczy toczy swój garb uroczy toczy toczy się los ty co płaczesz ażeby śmiać mógł się ktoś już dość już dość już dość odpędź czarne myśli dość już twoich łez niech to wszystko przepadnie we mgle bo nowy dzień wstaje bo nowy dzień wstaje nowy dzień wstaje nowy dzień z dusznego snu już miasto się wynurza słońce wschodzi gdzieś tam tramwaj na przystanku zakwitł jak róża uchodzą cienie do bram ciągną swoje wózki dwukółki mleczarze nad dachami snują się sny podlotków pełne marzeń a ziemia toczy toczy swój garb uroczy toczy toczy się los ty co płaczesz ażeby śmiać mógł się ktoś już dość już dość już dość odpędź czarne myśli porzuć błędny wzrok niech to wszystko zabierze już noc bo nowy dzień wstaje bo nowy dzień wstaje nowy dzień wstaje nowy dzień ',\n",
       " 'oceanie sinowłosy białe statki ku mnie wyślij dwa kamyki moje myśli na otwartych dłoniach niosę daj mi miejsce w głębi morza szczyptę lądu szczyptę skały tu zbuduję zamek biały tutaj gniazdo swe założę gdzieś daleko w stu stolicach żyją ludzie biją w dzwony niezliczone bataliony przyczajone na granicach marszałkowie szklanoocy palą owce i dziewczęta kto o kwiatach dziś pamięta szumią giełdy w głębi nocy w głębi morza zabłąkany nie chcę nic o ludziach słyszeć biały kolor kolor ciszy w moim zamku białe ściany w moim zamku gdzieś w ogrodzie będę czytać wschodnie baśnie zanim słońce w morzu zgaśnie żeby z morza powstać co dzień a gdy ludzie wypełnieni nienawiścią w jednej chwili zniszczą wszystko co stworzyli wielkim ogniem z wnętrza ziemi znikną lądy zniknie morze nie wie nikt co będzie potem w białych światach ja z powrotem w łonie matki się ułożę ',\n",
       " 'szliśmy tak już chyba szósty dzień przed nami stoi szczyt cel naszej drogi szliśmy tak już chyba szósty dzień po bokach wysychały siana stogi ani świeci słońce ani pada deszcz w tym roku góry jakieś takie szliśmy tak już chyba szósty dzień aż kapeć powiedział czas w doliny nam wyruszyć może napotkamy jakiś sklep i parę flaszek piwa uda się osuszyć a tam było jak w raju o której byś nie przyszedł zawsze piwo dają szliśmy tak już chyba szósty dzień a w każdej knajpie tak co najmniej cztery piwa za oknami ciągle sterczy szczyt a drogi jakoś wcale nie ubywa piwo albo góry powiedziałem odpowiedział oczywiście góry kelner jeszcze cztery piwa ani świeci słońce ani pada deszcz w tym roku góry jakieś takie ',\n",
       " 'idą skauci łez doliną nocką głuchą nocką siną raz dwa trzy hej druhowie gdzie idziecie czego szukacie po świecie raz dwa trzy my idziemy w zórz świtanie tam gdzie polski zmartwychwstanie raz dwa trzy ramię w ramię druhu miły w pełni mocy w pełni siły raz dwa trzy siła nasza w sercach będzie z nią zwyciężym wroga wszędzie raz dwa trzy poprzez burze i zawieje lepsza przyszłość polsce dnieje raz dwa trzy w zbożnej pracy w ducha trudzie rzucim światu pieśń o cudzie raz dwa trzy będziem śpiewać pieśń radości o wspaniałym dniu wolności raz dwa trzy raz dwa trzy raz dwa trzy ',\n",
       " 'gdziekolwiek będziesz cokolwiek się stanie będą miejsca w książkach i miejsca przy stole kasztan kiedy kwitnie lub owoc otwiera będą drzewa ulice ktoś nagle zawoła ktoś do drzwi zapuka pamięć przyniesie z kwiatem z godziną z kolorem gdziekolwiek będziesz cokolwiek się stanie gdziekolwiek będziesz gdziekolwiek będziesz cokolwiek się stanie będą miejsca w książkach i miejsca przy stole kasztan kiedy kwitnie lub owoc otwiera wciąż będzie początek bo wszędzie są mosty prawdziwe jak powietrze ode mnie do ciebie gdziekolwiek będę cokolwiek się stanie gdziekolwiek będę gdziekolwiek będziesz cokolwiek się stanie będą miejsca w książkach i miejsca przy stole kasztan kiedy kwitnie lub owoc otwiera będą drzewa ulice ktoś nagle zawoła ktoś do drzwi zapuka pamięć przyniesie z kwiatem z godziną z kolorem gdziekolwiek będziesz cokolwiek się stanie gdziekolwiek będziesz ',\n",
       " ' nocą każdą zapalasz kaganek płomień chwieje się tańczy i drga by wskazywać drogę zbłąkanym w oknie twoim się pali do dnia do dnia do dnia każdy z nas szuka gdzieś swego światła by mu drogę wskazało przez mrok każdy z nas wierzy w mały kaganek by móc prędzej w tę noc zrobić krok zrobić krok zrobić krok może kiedy i ty stąd wyruszysz przyjdzie nocą wędrować przez trakt jakoś raźniej ci będzie na duszy gdy światełko zobaczysz wśród chat wśród chat wśród chat każdy z nas szuka gdzieś swego światła by mu drogę wskazało przez mrok każdy z nas wierzy w mały kaganek by móc prędzej w tę noc zrobić krok zrobić krok zrobić krok ',\n",
       " 'będziemy szli nieprzerwanie w ulewie skwarze huraganie przez chwiejne mosty grząskie bagna chaszcze pustynie i mokradła będziemy szli przez zamiecie przez grudnie marce czerwce sierpnie upalne lata mroźne zimy będziemy szli nie zawrócimy z wiarą w następny zakręt drogi co znów okaże się nie ten w tajne przymierze z panem bogiem w naszego trudu jakiś sens będziemy szli bez wytchnienia upadający ze zmęczenia bez gromkich fanfar i okrzyków bez pozy dumnych wojowników będziemy szli wbrew logice powolnym marszem całe życie będziemy mówić że już dosyć i dalej dalej dalej kroczyć z wiarą w następny zakręt drogi co znów okaże się nie ten w tajne przymierze z panem bogiem w naszego trudu jakiś sens ',\n",
       " 'mówią o mnie w mieście co z niego za typ wciąż chodzi pijany pewnie nie wie co to wstyd brudny niedomyty w stajni ciągle śpi czego szukasz w naszym mieście idź do diabła mówią mi ludzie pełni cnót ludzie pełni cnót chciałem kiedyś zmądrzeć po ich stronie być spać w czystej pościeli co dzień świeże mleko pić naprawdę chciałem zmądrzeć po ich stronie być pomyślałem więc o żonie żeby stać się jednym z nich stać się jednym z nich stać się jednym z nich miałem na oku hacjendę wspaniałą mówię wam lecz nie chciała w niej zamieszkać żadna z pięknych dam wszystkie śmiały się wołając wołając za mną wciąż bardzo ładny frak masz billy ale kiepski byłby z ciebie kiepski byłby mąż kiepski byłby mąż whisky moja żono tyś najlepszą z dam już mnie nie opuścisz nie nie będę nigdy sam mówią whisky to nie wszystko można bez niej żyć lecz nie wiedzą ludzie o tym że najgorsze w świecie tym to samotnym być to samotnym być ',\n",
       " ' drogi mistrzu mistrzu mojej drogi mistrzu jerzy i mistrzu wojciechu przez was w górach schodziłem nogi nie mogąc złapać oddechu gór co stoją nigdy nie dogonię znikających punktów na mapie jakie miejsce nazwę swym domem jakim dotrę do niego szlakiem gór mi mało i trzeba mi więcej żeby przetrwać od zimy do zimy ktoś mnie skazał na wieczną wędrówkę po śladach które sam zostawiłem góry góry i ciągle mi nie dość skazanemu na gór dożywocie świat na dobre mi zbieszczadział szczyty wolnym mijają mnie krokiem pańscy święci święci bezpańscy święty jerzy mikołaju michale starodawni gór świętych mieszkańcy imię wasze pieśniami wychwalam gór co stoją nigdy nie dogonię znikających punktów na mapie i chaty by nazwać ją swym domem do której żaden szlak by nie trafił gór mi mało i trzeba mi więcej żeby przetrwać od zimy do zimy ktoś mnie skazał na wieczną wędrówkę po śladach które sam zostawiłem góry góry i ciągle mi nie dość skazanemu na gór dożywocie świat na dobre mi zbieszczadział szczyty wolnym mijają mnie krokiem ',\n",
       " ' kiedy myślę jak wielkim przypadkiem jest to nasze tutaj spotkanie to wydaje mi się że tylko cudem zdążyłeś na nie mój panie gdybyś się przecież urodził sto lat temu albo za rzeką i był pietruszką albo słoniem duszom byłoby za daleko ',\n",
       " ' tu w dolinach wstaje mgłą wilgotny dzień szczyty ogniem płoną stoki kryje cień mokre rosą trawy wypatrują dnia ciepła które pierwszy słońca promień da cicho potok gada gwarzy pośród skał o tym deszczu co z chmury trochę wody dał świerki zapatrzone w horyzontu kres głowy pragną wysoko jak najwyżej wznieść tęczą kwiatów barwny połoniny łan słońcem wypełniony jagodowy dzban pachnie świeżym sianem pokos pysznych traw owiec dzwoneczkami cisza niebu gra cicho potok gada gwarzy pośród skał o tym deszczu co z chmury trochę wody dał świerki zapatrzone w horyzontu kres głowy pragną wysoko jak najwyżej wznieść serenadą świerszczy kaskadami gwiazd noc w zadumie kroczy mroku ścieląc płaszcz wielkim wozem księżyc rusza na swój szlak pozłocistym sierpem gasi lampy dnia cicho potok gada gwarzy pośród skał o tym deszczu co z chmury trochę wody dał świerki zapatrzone w horyzontu kres głowy pragną wysoko jak najwyżej wznieść ',\n",
       " 'jadą auta małe duże roztrącają w krąg kałuże bo orzekli w radio spece będzie ciepło jak za piecem nie przekracza nikt sześćdziesiąt nie ma takich co się spieszą mają dziś obywatele leniwą niedzielę asfalt pachnie świeżym deszczem jak podłogi przedświąteczne co w nadwoziach aut seryjnych tworzy nastrój familijny ludzie dobrzy są od rana jak z audycji w jezioranach w taki dzień gdy wypadnie nawet złodziej nie kradnie pani lekkich obyczajów porzuciła wrota raju wraca wolno prosto z essen swoim pierwszym mercedesem puder spływa jej po twarzy i przeszkadza w jeździe marzyć jak tu łóżko wymościć by się oddać z miłości docent z chłopskim pochodzeniem jedzie w nowym volkswagenie jego dzieci widzą w rowie chłopca który je razowiec też by zjadły coś takiego coś innego coś wiejskiego ale tata się złości że chcą jeść tak jak prości dyplomatę sen rozbudził że ma żyć wśród prostych ludzi jedzie wolno wedle mody w dwa służbowe samochody szofer w randze porucznika sennie wiezie dostojnika drzemie pani jego żona i znudzona ochrona a chłopaki z braku zdarzeń grają w karty na radarze kto przegrywa ten ma z głowy plik mandatów kredytowych sierżant nie ma dzisiaj fartu więc prywatnie tak dla żartu wsadził blotki do ula i powiedział mam fula a po drodze mkną górnicy naukowcy urzędnicy nawet chłopi czując bluesa dołączyli na ursusach tylko czasem jakieś auto zjeżdża wolno w rowu stronę a kolumna jak salwą żegna zgubę klaksonem a na stacji benzynowej ajent włożył strój wyjściowy salutuje samochodom które dziś donikąd wiodą nie przekracza nikt sześćdziesiąt nie ma takich co się spieszą mają dziś obywatele leniwą niedzielę ',\n",
       " 'na tańcach ją poznałem długowłosą blond dziewczynę moich marzeń nie wiadomo skąd ona się tam wzięła piękna niczym kwiat czy jak syrena wyszła z morza czy ją przygnał wiatr żegnaj irlandio czas w drogę mi już w porcie gotowa stoi moja łódź na wielki ocean przyjdzie mi zaraz wyjść i pożegnać się z dziewczyną na lough sholin ująłem ją za rękę delikatną jak latem mały motyl albo róży kwiat poszedłem z nią na plażę wsłuchać się w szum fal pokazałem jasnowłosej wielki morza czar żegnaj irlandio czas w drogę mi już w porcie gotowa stoi moja łódź na wielki ocean przyjdzie mi zaraz wyjść i pożegnać się z dziewczyną na lough sholin za moment wyruszam w długi trudny rejs i z piękną mą dziewczyną przyjdzie rozstać się żagle pójdą w górę wiatr mnie pogna w przód i przez morza mnie powiedzie ty zostaniesz tu żegnaj irlandio czas w drogę mi już w porcie gotowa stoi moja łódź na wielki ocean przyjdzie mi zaraz wyjść i pożegnać się z dziewczyną na lough sholin ',\n",
       " 'a gdy patrzę tak śmiejesz się śmiejesz się dzień pogania noc świtem purpurowym ty jak czarny kot kończysz łowy nic mi do twych zdrad chociaż dziwi że ich gorzkawy smak ciągle kusi cię a gdy patrzę tak śmiejesz się nic mi do twych zdrad ale wiem choć papierków po cukierkach tu i ówdzie ślad marzy ci się bombonierka taka jak ja niby nic a jednak zerkasz jak się dostać do pudełka odkryć tajemnicę słodką delikatnie zdjąć złotko choć papierków po cukierkach ślad i tam i tu marzy ci się bombonierka istny cud żeby tak nasycić się ale wciąż w zapasie mieć i rozgryzać tę zagadkę tę zagadkę po ostatnią czekoladkę noc pogania dzień szafirowym zmierzchem tobie kocich gier nie dość jeszcze nic mi do twych zdrad chociaż dziwi że ostry kolor kłamstw nie razi cię a gdy patrzę tak śmiejesz się nic mi do twych zdrad ale wiem choć papierków po cukierkach tu i ówdzie ślad marzy ci się bombonierka taka jak ja niby nic a jednak zerkasz jak się dostać do pudełka odkryć tajemnicę słodką delikatnie zdjąć złotko choć papierków po cukierkach ślad i tam i tu marzy ci się bombonierka istny cud żeby tak nasycić się ale wciąż w zapasie mieć i rozgryzać tę zagadkę tę zagadkę po ostatnią czekoladkę ',\n",
       " 'zamkniemy w kręgu światło wysokich jasnych gwiazd zamkniemy w kręgu płomień ogniska ciepły blask zamkniemy w kręgu radość by nie uciekła stąd a potem bratnie słowo podamy z rąk do rąk zamkniemy w kręgu siłę niech nie opuszcza nas zamkniemy w kręgu wiarę że wróci dobry czas zamkniemy w kręgu pamięć by nie uciekła stąd a potem bratnie słowo podamy z rąk do rąk zamkniemy w kręgu drogi wytrwałość naszych nóg zamkniemy w kręgu słońce by rozpraszało chłód zamkniemy w kręgu przyjaźń by nie uciekła stąd a potem bratnie słowo podamy z rąk do rąk ',\n",
       " 'tak niewiele żądam tak niewiele pragnę tak niewiele widziałem tak niewiele zobaczę tak niewiele myślę tak niewiele znaczę tak niewiele słyszałem tak niewiele potrafię wolność kocham i rozumiem wolności oddać nie umiem tak niewiele miałem tak niewiele mam mogę stracić wszystko mogę zostać sam wolność kocham i rozumiem wolności oddać nie umiem ',\n",
       " ' ja nie wesoła ale z kokardą lecę do słońca hej leonardo a ja się kręcę bo stać nie warto naprzód planeto hej leonardo dość jest wszystkiego dojść można wszędzie dość jest wszystkiego dojść można wszędzie diabeł mnie trzyma targa za włosy dokąd wariatko chcesz dziś wyruszyć a ja gotowa ja z halabardą lecę do słońca hej leonardo dość jest wszystkiego dojść można wszędzie dość jest wszystkiego dojść można wszędzie panie w koronie panie z liczydłem nie chcę być mrówką ja chcę być szczygłem a moja sława droga i muzyka do brązowego życia pomyka dość jest wszystkiego dojść można wszędzie dość jest wszystkiego dojść można wszędzie przyszłam z bylekąd ale co z tego zmierzch jest daleko hej hej kolego odłóżmy sprawę kochany synku na jakieś dziesięć miejsc po przecinku dość jest wszystkiego dojść można wszędzie dość jest wszystkiego dojść można wszędzie ',\n",
       " 'porwały nas deszczem przegoniły wiatrem i zdały na siebie w przygodnym nam domu miejsca nie zagrzały w tym górskim niby niebie i dziury w tym niebie wiatrem łatane w bacówce tylko my sami i nic nie mówimy tylko dotyk ręki by nie psuć chwil co przed nami a mrok sprzymierzeniec przygarnął mi ciebie ciepło twoje ręce ech stara bacówko niebo w nas się rodzi przyjaźń czy coś więcej i dziury w tym niebie wiatrem łatane w bacówce tylko my sami i nic nie mówimy tylko dotyk ręki by nie psuć chwil co przed nami ',\n",
       " 'w swe miejsce nad rzeką zabiera cię zuzanna możesz słuchać plusku łodzi możesz zostać z nią do rana wiesz że trochę źle ma w głowie lecz dlatego chcesz być tutaj proponuje ci herbatę oraz chińskie pomarańcze i gdy właśnie chcesz powiedzieć że nie możesz jej pokochać zmienia twoją długość fali i pozwala mówić rzece że się zawsze w niej kochałeś i już chcesz z nią powędrować powędrować chcesz na oślep wiesz że ona ci zaufa bowiem ciała jej dotknąłeś myślą swą pan jezus był żeglarzem gdy przechadzał się po wodzie spędził lata na czuwaniu w swej samotnej wieży z drewna gdy upewnił się że tylko mogą widzieć go tonący rzekł żeglować będą ludzie aż ich morze wyswobodzi lecz zwątpił zanim jeszcze otworzyły się niebiosa zdradzony niemal ludzki jak kamień zapadł wtedy w mądrość swą i już chcesz z nim powędrować powędrować chcesz na oślep myślisz chyba mu zaufam bowiem dotknął twego ciała myślą swą dziś zuzanna za rękę prowadzi cię nad rzekę cała w piórach i w łachmanach z jakiejś akcji dobroczynnej słońce kapie złotym miodem na madonnę tej przystani są tu dzieci o poranku bohaterzy w wodorostach wszyscy dążą do miłości i podążać będą zawsze gdy zuzanna trzyma lustro i już chcesz z nią powędrować powędrować chcesz na oślep wiesz że można jej zaufać bo dotknęła twego ciała myślą swą ',\n",
       " 'idzie sobie wiosna słychać świergot ptaka ładna to piosenka tylko głupia taka już przyleciał bocian i w kałuży dłubie mnie to nie przeszkadza dalej będzie głupiej a a już jest wiosna a a dłuższe dnie a a kwiaty rosną a a głupie nie słońce raźniej świeci dym się w polu snuje zupełnie bez sensu ale się rymuje budzi się przyroda już zielono wszędzie bać się nie ma czego zaraz refren będzie a a już jest wiosna a a dłuższe dnie a a kwiaty rosną a a głupie nie rozmarzają rzeki płynie kra do morza zwrotka nie najgorsza tylko rymu nie ma stokrotki na polach już się cieszą dzieci bo dla nich jest wiosna dla was refren trzeci a a już jest wiosna a a dłuższe dnie a a kwiaty rosną a a głupie nie wiosna jest po zimie w myśl ludowych przysłów ja już nie mam zdrowia do tych idiotyzmów kończy się piosenka śniegu nie ma prawie śpiewać głupie teksty nawet ja potrafię a a już jest wiosna a a dłuższe dnie a a kwiaty rosną a a głupie nie ',\n",
       " 'i znowu nadzy i ona tuż obok spojrzałem na tamte wszystkie noce przykryj się choć prześcieradłem ja się już chyba nie zmienię już dawno było za późno zupełnie spokojny poszedłem zupełnie spokojny poszedłem nie zostawaj w raju do jesieni i nie próbuj wracać na wiosnę drzewa bez liści nie dają cienia anioły w swetrach nie są ulotne a przecież kręcą się światy gdzieś w końcu musi być lato szukałem tamtych miejsc do znudzenia aż wychodziłem dziury w butach a kiedy w końcu znalazłem brudne ulice oblazłe ściany nie były już nawet wspomnieniem a wszyscy ludzie obcy zupełnie spokojny poszedłem zupełnie spokojny poszedłem nie zostawaj w raju do jesieni i nie próbuj wracać na wiosnę drzewa bez liści nie dają cienia anioły w swetrach nie są ulotne a przecież kręcą się światy gdzieś w końcu musi być lato i znowu jesień i pora ruszyć pudełka pełne czarnobiałych zdjęć myśli słów i twarzy ludzkich gdzie ciebie znowu w świat goni tak szczerze mówiąc to nie wiem zupełnie spokojny poszedłem zupełnie spokojny poszedłem nie zostawaj w raju do jesieni i nie próbuj wracać na wiosnę drzewa bez liści nie dają cienia anioły w swetrach nie są ulotne a przecież kręcą się światy gdzieś w końcu musi być lato zupełnie spokojny poszedłem ',\n",
       " 'prześliczna dzieweczka na spacer raz szła gdy noc ją złapała wietrzysta i zła być może przestraszyłby ziąb i mrok ją lecz miała wszak mufkę prześliczną swą nie ruszaj to moje weź precz łapy swoje popsujesz ją boję się o mufkę swą więc szła w dół ulicy przez zamieć i mrok gdy jakiś młodzieniec z nią zrównał swój krok na widok jej uśmiech rozjaśnił mu twarz ach panno prześliczną wszak mufkę ty masz nie ruszaj to moje weź precz łapy swoje popsujesz ją boję się o mufkę swą wiem dobrze że mam mufkę śliczną jak sen co chłopców spojrzenia przyciąga co dzień różowym jedwabiem podszyta pod spodem a z wierzchu futerko co chroni przed chłodem nie ruszaj to moje weź precz łapy swoje popsujesz ją boję się o mufkę swą lecz mufka jest moja i nic do niej ci bo mama kazała jej strzec dobrze mi więc idź już w swą drogę i zostaw mnie już bo nie dam ci mufki i za tysiąc róż nie ruszaj to moje weź precz łapy swoje popsujesz ją boję się o mufkę swą lecz noc była zimna i pannie co szła zachciało się winka kieliszek lub dwa po winku zbyt mocnym zagościł sen w niej a chłopcy z jej mufką igrali że hej nie ruszaj to moje weź precz łapy swoje popsujesz ją boję się o mufkę swą zbudziwszy się w płacz uderzyła i jęk zepsuli mi mufkę i szew na niej pękł zszargali futerko i jedwab na fest i na nic ma mufka zapewne już jest nie ruszaj to moje weź precz łapy swoje popsujesz ją boję się o mufkę swą więc młode dziewczęta strzec trzeba się wam tych chłopców co z wami chcą być sam na sam przeminą raz dwa wina szum słodkie słówka a w darze zastanie wam dziurawa mufka nie ruszaj to moje weź precz łapy swoje popsujesz ją boję się o mufkę swą ',\n",
       " 'zbrodniczy spisek w gimnazjalnej klasie zagraża państwu w jego spokój godzi inspiratorów wkrótce wykryć da się wciąż niepoprawni polaczkowie młodzi ten levittoux był hersztem jak się zdaje przez niego w duszę sączy się trucizna śledztwo prowadźcie zgodnie ze zwyczajem w mig się przyzna prędko się przyzna drogi panie levittoux prawdę wyznać chciej gdy wspólników podasz tu sercu będzie lżej milczysz panie levittoux nie unikniesz kar młodzież wiodłeś ty ku złu smuci się nasz car mury kazamat dostatecznie grube żeby krzyk każdy wytłumić dokładnie błogosławiony kto przejdzie tę próbę a kto się złamie przekleństwo nań spadnie logika dziejów nakłada kajdany sprawiedliwości zgrzytają zasuwy i ciągle jedna myśl tłucze o ściany nic nie mówić nie mówić nie mówić wszakże panie levittoux nie działałeś sam gdy cię pozbawimy snu wszystko powiesz nam miejże rozum levittoux próżny jest twój trud żadnej strawy nie dać mu by go złamał głód na przesłuchaniu wziął czterysta pałek konieczny był tu bezpośredni przymus śledztwo da skutek jeśli jest wytrwałe bez końca przecież nie może się trzymać zwinięty w szmatę leży sztandar ciała szarpie go w strzępy ptaszysko dwugłowe krwią pokreślona pleców karta biała na niej napis nie powiem nie powiem w końcu z ciebie levittoux tryśnie zeznań zdrój zaznasz knuta dzień po dniu pęknie upór twój chciałeś uciec levittoux coś ci słabo szło krzycz do ostatniego tchu nas nie wzruszy to ponad siennikiem migoce kaganek mniej boli ogień niźli ran płomienie dziś sobie takie rozścielę posłanie co moją celę w jeden krzyk zamieni skąpo tu światła moskale mi dali ale wystarczy żeby spłonął człowiek patrzcie jak długo ten więzień się pali co już nic nie powie nie powie zwęglone resztki wyniesiono rano ból szybko wsiąka w kamień cytadeli po incydencie tym rozkaz wydano by więźniom światła nie dawać do celi ',\n",
       " 'w mieście jak ryby tramwaje a miasto jak studnia bez dna a niebo jak żuraw a niebo jak żuraw schyla się nocą i świtem powstaje nad rybną studnią bez dna zaułków lipcem sparzonych wyciszyć nie może zmrok zasiedli na ławkach zasiedli na ławkach ludzie co twarze dniem umęczone pod lipiec kładą i zmrok pod lipiec kładą i zmrok nie śpię bo spotkać chcę w mieście tę ciszę co gęsta jak noc rozmawiać z krokami swoimi krokami i oto idę nocy na przeciw bo wokół cisza i noc czekam aż neon przytłumi rozmyta latarnia dnia odnajdą się cienie odnajdą się cienie i ludźmi ulice zatłumią czekam na przyjście dnia czekam na przyjście dnia w mieście jak ryby tramwaje a miasto jak studnia bez dna a niebo jak żuraw a niebo jak żuraw schyla się nocą i świtem powstaje nad rybną studnią bez dna w mieście jak ryby tramwaje a miasto jak studnia bez dna a niebo jak żuraw a niebo jak żuraw schyla się nocą i świtem powstaje nad rybną studnią bez dna ',\n",
       " 'jest w warszawie oddział zwany żbikiem zna go świat zacnych mężów ród wybrany sam rycerzy kwiat każdy tu sie dobrze czuje jeśli chłop jak ćwik reguł trzy obowiązuje stosuj je toś żbik trzeba dzień i noc pracować dla pośpiechu stać obiad jadać tylko w święta a broń boże spać lecz to wszystko nie jest ważne każdy z nas to wie kto nie w żbiku na pociechę niechaj śpi i je niechaj patrzy sie z zazdrością jak tu dobrze nam a gdy chętkę już poczuje niech tu wstąpi sam pozna że kto wszedł do żbika stracił serce swe jaki morał stąd wynika o tym każdy wie ',\n",
       " 'po latach znów w tym samym mieście gdzie z nudów pękają trotuary wylądowałeś na swoje nieszczęście tu chodzą do tyłu miejskie zegary dworcowe upiory wtulone we wnękę poznają żeś wrócił z dalekiej podróży filozof pijak uściska ci rękę szczerbata cyganka za darmo powróży stare gazety na mokrym asfalcie ostatnia latarnia dawno już zgasła z ołowiu żołnierz zasnął na warcie na murze zatarte rewolucji hasła mieszczanie zamknięci na trzy spusty kawiarnia odstrasza wygasłym neonem czerwone żarówki na domu rozpusty tam nikt nie chodzi spać wieczorem na świecie spełniają się wszystkie marzenia tu wstaje się zawsze lewą nogą od lat nic tu się nie zmienia to miasto zawsze pozostaje sobą ',\n",
       " 'wczoraj byłem u malarki dom jak dom i drzwi jak drzwi jak u innych puste garnki i w komine stary dym jak u innych stara bieda jak u innych w oknie kit no i problem jak się nie dać gdy nadciągnie tu dzień zły ale za to na ścianach kwiaty ze wszystkich świata łąk a tuż obok koń pstrokaty na nim przy szabli dumny ktoś na martwych naturach ciasta którym zapachu tylko brak a wyżej podniebne miasto jak ciemnozłoty ptak wczoraj byłem u malarki i już wiem dokładnie wiem że najczęściej puste garnki są dla życia tylko tłem że się chowa stara bieda i tężeje w oknie kit znika problem jak się nie dać i pytanie z kim się bić kiedy rosną na ścianach kwiaty ze wszystkich świata łąk galopuje koń pstrokaty wymachuje szablą ktoś na martwych naturach ciasta już się migdałów czuje smak i fruwa podniebne miasto po wszystkich moich snach ',\n",
       " 'płynie rzeka wąwozem jak dnem koleiny która samą siebie żłobiła rosną ściany wąwozu z obu stron coraz wyżej tam na górze są ponoć równiny i im więcej tej wody tym się głębiej potoczy sama biorąc na siebie cień zboczy piach spod nurtu ucieka nurt po piachu się wije własna w czeluść ciągnie go siła ale jest ciągle rzeka na dnie rozpadliny jest i będzie będzie jak była bo źródło bo źródło wciąż bije a na ścianach wąwozu pasy barw i wyżłobień tej rzeki historia tych brzegów ślady głazów rozmytych cienie drzew powalonych muł zgarnięty pod siebie wbrew sobie a hen w dole blask nikły ciągle ziemię rozcina ziemia nad nim się zrastać zaczyna z obu stron żwir i glina by zatrzymać go w biegu woda syczy i wchłania lecz żyje i zakręca omija wsiąka wspina się pieni ale płynie wciąż płynie wbrew brzegom bo źródło bo źródło wciąż bije i są miejsca gdzie w szlamie woda niemal zastygła pod kożuchem brudnej zieleni tam ślad prędzej niż ten co zostawił go znika niewidoczne bagienne są sidła ale źródło wciąż bije tłoczy puls między stoki więc jest nurt choć ukryty dla oka nieba prawie nie widać czeluść chłodna i ciemna niech się sypią lawiny kamieni i niech łączą się zbocza bezlitosnych wąwozów bo cóż drąży kształt przyszłych przestrzeni jak nie rzeka podziemna groty w skałach wypłucze żyły złote odkryje bo źródło bo źródło wciąż bije ',\n",
       " 'przez ciemne szyby zagląda już mrok w łóżeczku mały chłopiec śpi sen jakiś dziwny wykrzywił mu twarz pod powiekami lśnią łzy wczoraj wieczorem dowiedział się że jest w orleanie taki dom wschodzącym słońcem nazywa się go mieszkają w nim chłopcy jak on w oknach ma kraty przy drzwiach stoi stróż i patrzy wzrokiem ponurym na małych chłopców więzienny ich strój na ogolone głowy ale nadzieja nie zgaśnie w nich pomimo więziennych murów cel wschodzące słońce zabłyśnie znów nad małym domem w kraju tym ',\n",
       " 'dawno minął czas resocjalizacji choć na spacer ciągle wyjść nie możesz sam mógłbyś jeszcze czasem dostać palpitacji lecz pamiętaj o tym lekarz to twój brat i znowu ci włożą kaftanik przez głowę i znowu karetka powiezie cię w dal psychiatra obejrzy postawi diagnozę pasami do łóżka przycisną tak achtak chciałbym znów biały kaftanik mieć i leczyć się leczyć się leczyć się na mózg byłeś jeszcze mały gdy dostałeś w głowę potem biały szpital minął czasu szmat i znów przy posiłku nie dali ci noża chcesz wyjść na korytarz a tu klamki brak i szedłeś przed siebie w asyście psychiatrów twą drogę wyznaczał korytarzy szlak na oddział zamknięty do innych wariatów patrzyłeś dokoła i myślałeś tak achtak chciałbym znów biały kaftanik mieć i leczyć się leczyć się leczyć się na mózg nie ma na co czekać nie ma co rozpaczać po co dłużej zwlekać jaki problem masz ty wciąż jesteś wariat lekarz się postarzał nie rozumiesz tego bo ci myśleć strach i pójdziesz przed siebie w asyście psychiatrów twą drogę wyznaczy korytarzy szlak na oddział zamknięty do innych wariatów popatrzysz wokoło i zanucisz tak ach jak dobrze znów biały kaftanik mieć i leczyć się leczyć się leczyć się na mózg ',\n",
       " 'znów chmury zmęczone przysiadły na grani ciężkimi brzuchami pieszczą górskie grzbiety już drzewa jęknęły smagnięte wichrami i trawy przerażone knują głośne szepty umilkły już ptaki w gniazdach cicho siedzą świat czeka w napięciu z licem pociemniałym zbudziły się biesy z driadami tańczą już błysk srebrnej nici zalśnił oniemiały pierwsze ciężkie krople dopadły już ziemi jak ślepi mocarze chcą powalić wszystko już strumienie wody leją się za nimi szumiąc potokami spływają z gór szybko nowa srebrna nić przecięła czerń nieba echo przerażone ryczy dzikim grzmotem drzewa w wiatru graniu szamoczą się z deszczem jak rycerze antyczni zmagając się z sobą jak turkot karety znów grzmot się przewalił i znów atakują kropli ciężkich fale a te co dopadły straciwszy swą siłę strumieniem wezbranym z góry odpływają i fala za falą i w dół jak lawina lecz sił już nie starcza ni kroplom ni wiatrom i nagle blask słońca przez chmury przenika i tęcza w deszczowych drobinkach jak flaga i cisza i spokój i znów świergot ptaka i słońce szaleje wśród zroszonej trawy i drzewa co z włosów wytrzepują krople i wszystko się cieszy po deszczowej kurzawie i cisza ',\n",
       " 'oto jest zbiór praw dżungli jak niebo wieczysty niemylny ginie wilk co je łamie wilk co ich słucha jest szczęśliwy i silny jak pnącza co pień opasują tak prawo wkoło nas się winie bo wilk jest siłą drużyny a siła wilka w drużynie pij do syta lecz w miarę kąp się codziennie od kity do głowy a pomnij że dzień jest od spania a noc przeznaczona na łowy niechaj się szakal łasi tygrysom lecz ty gdy wyrośniesz o szczenię pamiętaj że wilk jest łowcą i sam ma zdobywać jedzenie gdy spotkają się dwa stada i nie chcą sobie ustąpić uprzejmie leż spokojnie bo może starszyzna bezkrwawo spór ten rozejmie nora jest wilka schronieniem lecz gdy wykopał ją nazbyt widocznie rada mu prześle przestrogę ażeby się przeniósł niezwłocznie gdyś zaczął łów przed północą milcz nie budź lasu szczekaniem bo spłoszysz nam wszelką zwierzynę i my bez łupu zostaniem poluj dla siebie dla szczeniąt dla druhów krew taka nie brudzi lecz bez potrzeby nie poluj po siedmiokroć wara polować na ludzi gdy porwiesz zdobycz słabszemu nie pożeraj wszystkiego w próżności nędzarz jest w prawa opiece zostaw mu choć skórę i kości zdobycz drużyny ma służyć za jadło całej drużynie a kto tę zdobycz chciał unieść do własnej nory niech zginie wilczyca ma prawo do leża gdy samcom powiodą się łowy wolno jej żądać dziesięcin dla wilcząt i nigdy nie dozna odmowy wilk ojciec jest panem w swej norze to wolny myśliwiec włóczęga sądzi go jeno rada a władza drużyny go nie dosięga gdy prawo jest w czymś niedokładne szukajcie pomocy w swym herszcie on starszy mocniejszy i mędrszy więc jego przepisów się dzierżcie takie są prawa puszczańskie wyliczyć je niepodobieństwo lecz sercem prawa głową i koścem jest posłuszeństwo ',\n",
       " 'w stepie szerokim którego okiem nawet sokolim nie zmierzysz wstań unieś głowę wsłuchaj się w słowa pieśni o małym rycerzu choć mały całkiem rębacz wspaniały wyrósł nad pierwsze szermierze i wieki całe będą śpiewały pieśni o małym rycerzu ty któryś w boju i ty coś w znoju i ty co uczysz i mierzysz stań unieś głowę wsłuchaj się w słowa pieśni o małym rycerzu choć mały całkiem rębacz wspaniały wyrósł nad pierwsze szermierze i wieki całe będą śpiewały pieśni o małym rycerzu ',\n",
       " 'odchodził stary rok rozpoczynał się sezon na zjazdy i bale a biedny stary strauss w roku pańskim bieżącym nie szykował się wcale przeminął dawny walc i gdy świat gnał do przodu by powitać rok nowy poeta kumpel z polski wpadł z zaproszeniem do kraju na bal sylwestrowy ten bal zaczynał się polonezem jak dawniej od sali do sali poeta mówił wiersz nie słuchany poemat ktoś potem pochwalił a gdy się skończył pląs i na minut piętnaście pary tańczyć przestały zza stołu krzyknął ktoś ty artysta opowiedz nam lepiej jakiś kawał pomyślał stary strauss jak to ciężko być dzisiaj lyricznym poetą orkiestra disco gra i nie przebijesz się wierszem i prozą przez beton i rzekł artyście strauss w sali gdzie się przedchwilą coś wiązać zaczęło twe życie to jest bal nie umowa o dzieło gdy sam jesteś dzieło a taniec dalej trwał bruderszaftów zastępy odkładały się w głowach a jakiś starszy pan w pas czerwony wplątany nad stołami szybował a potem to był bal walc zapraszał do tańca lecz go nikt nie usłyszał poeta mówił wiersz jakiś pan artystę własnoręcznie uciszał zezłościł się pan strauss który miał nam przypomnieć swe modre dunaje powiedział co za kac wziął pół litra ze stołu i zapłakał nad krajem mój przedostatni walc który zbyt delikatnie prosił o ciszę mój przedostatni walc bo ostatni to chyba raj jeszcze usłyszę karnawał skończył się zasypiając po szafach sukienki motyle a poeta uczy się tańczyć w rytm rozespanych fabrycznych syren karnawał skończył się zasypiają po szafach sukienki motyle że nam się jeszcze chce tańczyć w rytm rozespanych fabrycznych syren na na na ',\n",
       " ' dawnych mistyków ludzkiej duszy pieśń księżyca ciemna strona słońce zabija na raty nas w nadfiolecie schodami do nieba zacząłem się piąć tam nie ma autostrady myślę o tobie a ptakiem jest myśl zbytek słów me światy są obce bez nocy i dnia tam wiersze z obłędu powstają lecz póki tu jestem proszę kochaj mnie dotykaj mnie dotykaj delikatnie bezszelestnie ciepłem palców dotykaj aksamitnie rzęs pokłonem nie przestawaj dotykaj całowaniem i oddechem tak jak lubisz dotykaj smugą włosów niby muślin bólowi zadaj ból kochaniem samotność można wypić do dna choć to trudne miłość prawdziwą daje tylko bóg i zrozumienie wszędzie go szukam dla niego chcę żyć wbrew potępieniom tęsknię za ciszą bezludnych wysp dzikich plaż me światy są obce bez nocy i dnia tam wiersze z obłędu powstają lecz póki tu jestem proszę kochaj mnie dotykaj mnie dotykaj delikatnie bezszelestnie ciepłem palców dotykaj aksamitnie rzęs pokłonem nie przestawaj dotykaj całowaniem i oddechem tak jak lubisz dotykaj smugą włosów niby muślin bólowi zadaj ból wiem że chcesz wspólnych snów dam ci je nie bój się nie bój się dziwne jest piękne wciąż twierdzę tak gorsząc dewotów na urodziny sam sobie dziś dam znak pokoju kochaniem samotność można wypić do dna choć to trudne więcej nic nie mów tylko przytul się dotykaj mnie dotykaj delikatnie bezszelestnie ciepłem palców dotykaj aksamitnie rzęs pokłonem nie przestawaj dotykaj całowaniem i oddechem tak jak lubisz dotykaj smugą włosów niby muślin bólowi zadaj ból i więcej nic nie mów tylko kochaj mnie jestem twój ',\n",
       " 'był szopen zdechł szopen fortepian wypadł przez okno ideał sięgnął bruku fajny był szkoda go ',\n",
       " ' szliśmy do siebie ty i ja a drogi nasze wciąż mroczne były lecz znalazł się ktoś i pomógł nam się spotkać wśród zielonej naszej równiny wyszliśmy piękni dla siebie i tacy zadziwieni nasze serca gorące bić równo zaczęły jakby same tylko były na ziemi a przecież mogłem być przed twoją erą a przecież mogłaś być przed moją erą zbiegliśmy razem ty i ja z gór ośnieżonych w ciepłą dolinę kto tak dobry był i pomógł nam się spotkać w tej oszalałej gęstwinie wyszliśmy nadzy dla siebie z nocy na światło dzienne nasze zegarki ślepe chodzić nagle zaczęły o jednej i tej samej godzinie a przecież mogłem być przed twoją erą a przecież mogłaś być przed moją erą ',\n",
       " 'ja nienawidzę fatalnego końca nie lubię kiedy los się śmieje w nos nie znosze pory roku dnia miesiąca gdy kością w gardle własny staje głos nie lubię gdy się draństwem chełpią dranie nie lubię gdy nieśmiali drżą jak liść ani gdy zaglądając mi przez ramię ktoś obcy razem ze mną czyta list nie lubię siebie gdy mnie tchórz obleci i wstyd i wstręt ogarnia wtedy mnie bardzo nie lubię gdy strzelają w plecy a kiedy między oczy także nie nie wierzę ludziom gdy za głośno klaszczą we mgle frazesów głupio mi i źle nie lubię gdy pod sierść mnie jacyś głaszczą i gdy żelazo zgrzyta mi po szkle odpycha mnie zarozumiała sytość i mierzi język co zapomniał słów takich zwyczajnych honor przyzwoitość o niechby je przypomniał sobie znów nie bawi mnie gdy dołki kopią w nocy gdy podstawiają nogę kiepski żart nie lubię i przemocy i niemocy tylko chrystusa mi na krzyżu żal w zaduchu plotek duszę się i krztuszę mam za złe pustym rozmemłanym dniom nie lubię gdy butami włażą w duszę a jeszcze bardziej kiedy plują w nią nie miłe mi igrzyska targowiska ich zgiełk i taniość i w rękawie nóż słyszałem że jutrzenka zmian na błyska lecz tego nie polubię nigdy już ',\n",
       " 'pirat z soli i goryczy w sieci świata się szamocze gwiazdy drżą księżniczce w oczach w pustym zamku sowa krzyczy on zza mórz przyzywa burze by mu szlak kreśliły w toni ona wdycha z linii dłoni bukiet tęsknot i odurzeń on zza mórz przyzywa burze z niewiadomych oddali płynie fala ku fali czy ją spotka czy minie w ciemnych wirów gęstwinie sztorm go rzuca na wybrzeże gdzie księżniczki stoi zamek ona mu otwiera bramę pirat ją w ramiona bierze tętnią ściany i sklepienia cieni szeptem i oddechem jego serce suchy wiecheć lecz jej serce jest z płomienia tętnią ściany i sklepienia fala z falą się zderza poszukując przymierza czy je znajdą splątane czy rozprysną się w pianę on ją trzyma ona krzyczy ona krzyczy kielich strąca tak się miesza w nich bez końca trunek tęsknot i goryczy usypiają o poranku oślepieni swym olśnieniem ścichły echa zgasły cienie milczy sowa w pustym zamku usypiają o poranku fala wtapia się w falę i zapada w oddale czy wśród burz i kipieli nic ich już nie rozdzieli on odpływa odurzony zdobyć dla niej złote grody bierze w drogę tęsknot słodycz jej czekanie smak ma słony czy on świat zdobędzie dla niej i księżniczka z nim odpłynie czy on wróci i zostanie czy za widnokręgiem zginie czy on świat zdobędzie dla niej płyną fale przed siebie i znikają w oddali nie pytajcie się fali o to czego nikt nie wie ',\n",
       " 'tam na skraju świata dziwy tam na skraju świata cuda byli tacy co wierzyli że tam dojdą że się uda ledwie przeszli kilka kroków i za siebie obejrzeli tak jak stali w jednej chwili w martwe głazy skamienieli hej hej na na na na na na na na na na i stoją tak już od lat pogrzebani w pamięci myśli mają kamienne i sny kamienne mają i nikt już nie wie jak długo we śnie kamiennym trwają prędko prędko pieśń się baje nie tak prędko koń wyskoczy kto zdobędzie wodę życia kto kamieniom pryśnie w oczy kto kamieniom pryśnie w oczy kto ich w ludzi pozamienia kto ich wyrwie z odrętwienia kto ich wreszcie oduroczy ',\n",
       " 'mrok zapada ciemna noc gwiazdy już na niebie świecą na dole lampy świecą więc światła jest co nieco więc czemu to plugastwo pęta się nie lubię wampirów jak jasna cholera jak spotkam natrzaskam po ryju to straszna hołota bo brzydsza od błota a wszystkim się rzuca na szyję nie lubię wampirów bo ryje to brzydkie a zęby ma gorsze od zwierzy te zęby wystają zahaczy w tramwaju i robią się dziury w odzieży ajajajajaj jak ja ich nie lubię czemu to łazi takie głupie gębę ma jakby ukradł małpie zęby takie że w plecy się podrapie nie lubię wampirów i innych straszydeł jak spotkam łeb wyrwę z płucami bo wyje to w nocy nie wiadomo po co i zgrzyta o marmur zębami ja wstaję codziennie na siódmą do pracy z siekierą się w nocy nie pętam ja wyspać się muszę lecz kiedyś się wkurzę wytłukę w niedziele i święta ajajajajaj jak ja ich nie lubię czemu to łazi takie głupie gębę ma jakby ukradł małpie zęby takie że w plecy się podrapie ',\n",
       " 'wchodzi pierwszy zalany drzwi się zamykają widać film ma urwany kica w kąt jak zając i w bełkocie wylali bez pije bo kac jest lepszy od stanów frustracji tylko kto mnie tak skurczył do rozmiarów liliputka przez judasza głos doszedł wódka tylko wódka wchodzi facet ubrany równo jak pod sznurek mówi bardzo przepraszam widać zna kulturę i się chłopom przedstawił macie tu aktora który żeby zarobić zgrywa amatora ktoś mi kurza twarz podmienił hamleta na krasnoludka przez judasza głos doszedł wódka tylko wódka po aktorze małolat jeszcze ma trądzik w domu rozłam powiada w buzię narkotyki jeszcze doszły do tego z wychowania dwóje synu rzecze mu artysta ja cię adoptuję kto urządził tak małego jaka na to odtrutka przez judasza głos doszedł wódka tylko wódka teraz znany dziennikarz każdy się przymyka nie wiadomo czy węszy czy się też nałykał nagle głos małolata przerwał jego ciszę pewnie pije bo trzeźwy tego nie napisze co się stało z redaktorem że się chwieje jak łódka przez judasza głos doszedł wódka tylko wódka teraz na strasznej bani elegancka pani nagle wszyscy do koła chłopcy malowani teraz wiem rzecze dama czemu karaj zaniemógł bowiem tutaj się skryły resztki gentelmanów ktoś was chłopcy najmilejsi znowy wystrychną na dudka przez judasza głos doszedł wódka tylko wódka teraz wielki uczony też ubzdryngolony ale mądrość w nim taka że aż bić pokłony póki talent mój rzecze w rękach decydentów ni do pracy powrotu ni do abstynętów kto mnie jeszcze raz przekona że przyczyny tkwią w s przez judasz głos doszedł wódka tylko wódka na to powstał socjolog co spał od południa który z braku etatu w szklarni się zatrudniał rzekł pisałem doktorat że nie problem w czystej i dlatego panowie jestem wciąż magistrem tylko praca jest odtrutką na taplanie się w smutkach przez judasza głos doszedł wódka tylko wódka i wsunęli się wszyscy pod świeżutkie kołdry wszyscy których zjednało zalewani mordy tylko biedny artysta ciągną wciąż do ludzi i z pijackim uporem śpiących chciał rozbudzić co nam szkodzi w tym życiu niech mi z was ktoś odpowie przez judasza głos doszedł pijcie kolorowe ',\n",
       " ' wesołych trąbek słychać granie natężasz ucha równasz krok a słowa same jak motyle sfruwają z warg i lecą w mrok któż namm gorącą piosnkę przysłał choć ziąb i rzeką płynie kra nadziei amatorski zespół co pod batutą serca gra w latach pożegnań w ciężkiej dobie żelazny deszcz tysiącem strug zacinał ostro w nasze twarze i w karki bezlitośnie tłukł kiedy ochrypną już dowódcy kto u żołnierzy posłuch ma nadziei amatorski zespół co pod batutą serca gra pogięte trąby i puzony pękł doboszowi w bębnie szew flecista drutem flet obwiązał lecz każdy pręży się jak lew łatany strój instrument kiepski ale najwięcej zbiera braw nadziei amatorski zespół co pod batutą serca gra ',\n",
       " 'bardzo śmiesznie jest umierać kiedy żyć byś chciał nosić miano oliviera kiedy jesteś brown jak zabawnie chcieć i nie móc lub nie chcieć i móc dziś romulus jutro remulus jutro trup dziś wódz chciałbyś lecieć za widnokrąg miasto ci się śni czemu żyć chcesz pionkio w korowodzie złych dni bardzo śmiesznie wstawać rano kiedy spać byś chciał i z twarzyczką zapłakaną wychodzić na raut jak zabawnie myśleć o czymś kiedy braknie ci słów prosto z pełni w sen wyskoczyć w roześmiany nów chciałbyś słońca musisz moknąć myśląc w to mi graj nie umieraj pinokio jeszcze jedną noc trwaj ',\n",
       " 'miałem dziesięć lat gdy usłyszał o mnie świat w mej piwnicy był nasz klub kumpel radio zniósł usłyszałem blue suede shoes i nie mogłem w nocy spać wiatr odnowy wiał darowano resztę kar znów się można było śmiać w kawiarniany gwar jak tornado jazz się wdarł i ja też chciałem grać ojciec bóg wie gdzie martenowski stawiał piec mnie paznokieć z palca zszedł z gryfu został wiór grałem milion różnych bzdur i poznałem co to seks pocztówkowy szał każdy z nas ich pięćset miał zamiast nowej pary jeans a w sobotnią noc był luksemburg chata szkło jakże się chciało żyć było nas trzech w każdym z nas inna krew ale jeden przyświecał nam cel za kilka lat mieć u stóp cały świat wszystkiego w bród alpagi łyk dyskusje po świt niecierpliwy w nas ciskał się duch ktoś dostał w nos to popłakał się ktoś coś działo się poróżniła nas za jej poli raksy twarz każdy by się zabić dał w pewną letnią noc gdzieś na dach wyniosłem koc i dostałem to com chciał powiedziała mi że kłopoty mogą być ja jej że egzamin mam odkręciła gaz nie zapukał nikt na czas znów jak pies byłem sam stu różnych ról czym ugasić mój ból nauczyło mnie życie jak nikt w wyrku na wznak przechlapałem swój czas najlepszy czas w knajpie dla braw klezmer kazał mi grać takie rzeczy że jeszcze mi wstyd pewnego dnia zrozumiałem że ja nie umiem nic słuchaj mnie tam pokonałem się sam oto wyśnił sie wielki mój sen tysięczny tłum spija słowa z mych ust kochają mnie w hotelu fan mówi na taśmie mam to jak w gardłach im rodzi się śpiew otwieram drzwi i nie mówię już nic do czterech ścian ',\n",
       " 'przy małej wiejskiej kapliczce stojącej wedle drogi ukląkł rzępoląc na skrzypkach wędrowny grajek ubogi od czasu do czasu grający bezzębne otwierał wargi to przekomarzał się z bogiem to znowu się korzył bez skargi hej panie boże coś wielkim gazdą nad gazdami po coś mi dał taką skrzypkę co jeno tumani i mami spraw to ażebym na zawsze umiał dziękować ci panie że sobie rzępolę jak mogę że daję ci na co mnie stanie a jeszcze bardziej chroń mnie i od najmniejszej zawiści że są na świecie grajkowie pełni szumniejszych myśli hej panie boże coś wielkim gazdą nad gazdami po coś mi dał taką skrzypkę co jeno tumani i mami i niechaj pomnę w mym życiu czy bliskim czy też dalekim żem człekiem jest przede wszystkim i niczym więcej jak człekiem spraw w końcu by przy tej kapliczce obok tej wiejskiej drogi klękał i grywał na skrzypkach wędrowny grajek ubogi hej panie boże coś wielkim gazdą nad gazdami po coś mi dał taką skrzypkę co jeno tumani i mami ',\n",
       " ' chwała najsampierw komu komu gloria na wysokościach chwała najsampierw tobie trawo przychylna każdemu kraino na dół od edenu gloria gloria chwała tobie słońce odyńcu samotny co wstajesz rano z trzęsawisk nocnych i w górę bieżysz w niebo sam się wzbijasz i chmury czarne białym kłem przebijasz i to wszystko bezkrwawo brawo brawo i to wszystko złociście i nikogo nie boli gloria gloria in exelsis soli z słońcem pochwalonym teraz pędźmy razem na nim na odyńcu galopujmy dalej chwała tobie wietrze wieczny ty młodziku sieroto świata ulubieńcze losu od złego ratuj i kąkoli w zbożu łagodnie kołysz tych co są na morzu gloria gloria in excelsis eoli z wiatrem pochwalonym teraz pędzimy społem na nim na koniku galopujemy polem chwała wam ptaszki śpiewające chwała wam ryby pluskające chwała wam zające na łące zakochane w biedronce chwała wam zimy wiosny lata i jesienie chwała temu co bez gniewu idzie poprzez śniegi deszcze blaski oraz cienie w piersi pod koszulą całe jego mienie gloria gloria ',\n",
       " 'na potoczkum prała na werboczkum kłała pomoży mi pane boże szczom sobi dumała jam sobi dumała chłopcia mołodoho a mene wydali za dida staroho jak mne wydawali tak mene kazali abyś moja doniu dida czestuwała ja dida czesuju czestuwaty muszu pomoży mi pane boże wiźmi z dida duszu wiźmi z dida duszu taj powiś na chruszu szczuby starym znaty jak mołodu braty zabrał boh staroho nie dał mołodoho pomoży mi pane boże widdaj choć staroho ',\n",
       " 'słuchaj maleństwo słuchaj dziecię jak mama kangurzyca płacze hohonie włóczą się po lesie na próżno szuka cię prosiaczek w gęstwinie jego hart nic niewart gdy krzyś się nudzi bo dojrzewa wielkie przekleństwo dorosłości określa marny los zwierzątek królik puchatka nie ugości a kłapouchy straci wątek nie będzie więcej filozofem gdy krzyś okaże się krzysztofem zabawa się wypełni trwogą krzysztof z weltschmerzem się boryka kłapouchemu urwie ogon z wściekłością prztyknie w nos królika a co najgorsze w tym przekleństwie całkiem zapomni o maleństwie tygrysek tranu nie dostanie namiętność całkiem nałogowa z pomocą nie pospieszy ani z pigułką przemądrzała sowa kto zresztą wie co stara bredzi gdy nikt jej nigdy nie odwiedzi kubuś puchatek jak do trunku nad dzbankiem miodu łepek skłania dla znacznie większych to rozumków sprawy są nie do rozwikłania małe co nieco nie wyjaśni jakże tu żyć po śmierci baśni kiedyś drewnianym pudłem duszy potrząśnie krzysztof jak skrzypcami może się nawet trochę wzruszy lecz raczej wzruszy ramionami bo chociaż baśń ożywią smyczki to tylko raz się gra w patyczki ',\n",
       " 'la la la jeśli chcesz z gardła kurz wypłukać tu każdy wskaże ci drogę w bok od przystanku pksu w prawo od szosy asfaltowej kuszą napisy ołówkiem kopiowym na drzwiach od dziesiątej otwartych dziś polecamy kotlet mielony i lokal kategorii czwartej lej się chmielu lej się chmielu nieś muzyko po bukowym lesie panna zosia ma w oczach dwa nieba trochę lata z nowej beczki przyniesie la la la w środku chłopaki rzucają łaciną o sufit i o cztery ściany dym z extra mocnych strzela jak szampan bledną obrusy lniane za to wieczorem gdy lipiec duszny okna otworzy na oścież gwiazdy wpadają do pełnych kufli poobgryzanych jak paznokcie lej się chmielu lej się chmielu nieś muzyko po bukowym lesie panna zosia ma w oczach dwa nieba trochę lata z nowej beczki przyniesie la la la kiedy chłopaki na nogach z waty wracają po mokrej kolacji świat się jak okręt morski kołysze gościniec dziwnie ślimaczy a czasem któryś ze strachem na wróble pogada o polityce jedynie cerkiew marszczy zgorszona szorstkie od gnotów lice lej się chmielu lej się chmielu nieś muzyko po bukowym lesie panna zosia ma w oczach dwa nieba trochę lata z nowej beczki przyniesie la la la ',\n",
       " 'nie czerń lecz szarość wszędzie ta nić szara się przędzie ona za mną przede mną i przy mnie ona rankiem w mej głowie w dłoniach i w pierwszym słowie niczym gołąb pocztowy powraca szarą nicią przeszyty i do świata przyszyty tak jak guzik do szarego płaszcza z szarej włóczki me myśli zagrzebane dni i tygodnie z szarej włóczki jesienie i lata nawet wiersz cały z tęczy nagły list radość szczęście co jak wzór na kilimie się złocą już za moment szarzeją są jak fatamorgana w zeschły liść się zmieniają i popiół z szarych nici ten kłębek który w szarą godzinę sennie zwijam pod głowę podkładam ludzie chorzy na szarość mój los chory na szarość mój dom moje miasto planeta boże cały ze złota przędący w kołowrotku czemu z siebie wysnuwasz nić szarą ojcze nasz wielobarwny w akselbantach w brokatach który błyszczysz i mienisz się cały jeśli trochę nas lubisz nachyl się nad wrzecionem dorzuć włosów anielskich do włóczki bo w nas szarość w oddechach szarość w snach i uśmiechach szarość w łzach modlitwie i hymnie ',\n",
       " 'raz pewien żołnierz sobie żył odważny i zawzięty lecz cóż zabawka tylko był z kartonu był wycięty choć zmieniać świat i zwalczać zło niezmiennie był gotowy stał ciągle wśród zabawek bo był tylko papierowy i w ogień gotów był jak w dym pójść za was bez namowy i mieliście sto pociech z nim bo był on papierowy i nie ujawniał przed nim sztab tajemnic swych wojskowych a czemu tak a temu tak że był on papierowy wyzywał los w pogardzie miał tchórzliwych maruderów i ognia ognia ciągle łkał choć przecież był z papieru niejeden wódz już w ogniu znikł niejeden szeregowy i poszedł w ogień zginął w mig żołnierzyk papierowy ',\n",
       " 'w dżunglach katangi i bagnach konga w stepach jemenu w piaskach sudanu gdzie śmierć swe żniwa zbiera codziennie walczą psy wojny najemni żołnierze czerwone łuny na niebie czarna dokoła noc i naprzód wciąż naprzód najemni żołnierze i vive la guerre i vive la morte gdy huczą działa świszczą pociski gdy serce wali jak opętane brudni od kurzu od potu ciemni biegną w ataku biegną w nieznane czerwone łuny na niebie czarna dokoła noc i naprzód wciąż naprzód najemni żołnierze i vive la guerre i vive la morte gdy przy ognisku przy ognisku siąda i dawne dzieje wspominać zaczną uśmiech rozjaśni zmęczone twarze gdy z bronią w ręku wśród dżungli zasną czerwone łuny na niebie czarna dokoła noc i naprzód wciąż naprzód najemni żołnierze i vive la guerre i vive la morte dla tych co w piaskach zambii i konga i dla tych co w bezimiennych grobach dla wszystkich którzy polegli w walce bóg wojny wieniec niesie laurowy czerwone łuny na niebie czarna dokoła noc i naprzód wciąż naprzód najemni żołnierze i vive la guerre i vive la morte czerwone łuny na niebie czarna dokoła noc i naprzód wciąż naprzód najemni żołnierze i vive la guerre i vive la morte ',\n",
       " 'mosty które pod osłoną nocy przerzuciliśmy do siebie porywa świt trwa potop jutrzenki po obu brzegach bezradnie biegamy ręce do siebie wyciągamy twoje oczy rozwarte szeroko rozstaniem oddalają się i serce za nimi podąża oglądając się raz po raz za siebie oglądając się za siebie przez niebo przebiega dreszcz niepokoju rozstępuje się świat na dwie połowy i coraz mniejsza staje się włosów chmura kasztanowa twoje oczy rozwarte szeroko rozstaniem oddalają się i serce za nimi podąża oglądając się raz po raz za siebie oglądając się za siebie i twoja ręka wyrwana z mojej do stacji zbliżają się robotnicy dnia powszedniego o twarzach przeraźliwie trzeźwych twoje oczy rozwarte szeroko rozstaniem oddalają się i serce za nimi podąża oglądając się raz po raz za siebie oglądając się za siebie ',\n",
       " 'w pociągu grudniowym gdzieś koło północy pomiędzy odjazdem a celem przykryłeś się paltem głęboko po oczy a wokół kolęda się ściele zimowa podróż zimowa mgła jak czarnobiała fotografia twa w powietrzu zamarza dym nikt nie wie gdzie rzym gdzie krym zimowa podróż zimowa podróż trwa gdy pociąg przystanie na stacji nieznanej co nagle wynuża się z bieli z podróżnym co czeka oparty o ścianę opłatkiem księżyca się dzielisz zimowa podróż zimowa mgła jak czarnobiała fotografia twa w powietrzu zamarza dym nikt nie wie gdzie rzym gdzie krym zimowa podróż zimowa podróż trwa ',\n",
       " ' jak fantastycznie być myśliwą potrząsać złotą płową grzywą i pierś w triumfie prężyć w dal ja także chce być femme fatale ja nie mam zbędnych wątpliwości zdrowe podejście do miłości mężczyzna to jest podłe bydle więc chyba pójdzie jak po mydle od zwierza do zwierza byle do mnie należał od duszy po pięty moją magią owładnięty na łowy na łowy co tam okres godowy na tygrysa na byka i niech gra muzyka gdy polowanie rozpoczynam cała w perfumach i rubinach trafiam na famy i na żony co lepszy obiekt to strzeżony więc chyba jednak pozostanę przy urzędowo własnym panu lecz z życia mu uczynie plamę za to marzenie zmarnowane od zwierza do zwierza byle do mnie należał od duszy po pięty moją magią owładnięty na łowy na łowy co tam okres godowy na tygrysa na byka i niech gra muzyka ',\n",
       " 'cichutko pomaleńku gdzie wiatr w gałęziach drzew dogania ciszę ptasich gniazd gdzie gwiazd milczących dal odległa niewiadoma ukryta w bezmiar swej piękności cichutko pomaleńku przez świata dziwny świat nie zważaj na okrutne oczy dnia ',\n",
       " ' w bukowinie góry w niebie postrzępionym w bukowinie rosną skrzydła świętym bukom minął dzień wiatrem z hal rozdzwoniony i nie mogę znaleźć bukowiny i nie mogę znaleźć chociaż gwiazdy mnie prowadzą ciągle szukam w bukowinie zarośnięte echem lasy w bukowinie liść zieleni się i złoci śpiewa czasem banior ciemnym basem i nie mogę znaleźć bukowiny i nie mogę znaleźć choć już szukam godzin krocie i dni krocie w bukowinie deszczem z chmur opada okrzyk ptasi zawieszony w niebie nocka gwiezdną gadkę górom gada i nie mogę znaleźć bukowiny i nie mogę znaleźć choć mnie woła bukowina wciąż do siebie ',\n",
       " 'pod wieczór dobrze było gdy na polu pełnym zbóż z diabłem się spotkał dobry pan i jego anioł stróż diabeł był zdrowy jak ten rydz po prostu czart na schwał anioł zalany w drobny mak na nogach ledwo stał uuu na nogach ledwo stał chłop gdy usłyszał pana głos poprosił ich na stronę i poczęstował z flachy wprost świeżutkim samogonem pociągnął zdrowo anioł stróż i flachę panu dał a czart do gardła nie lał nic a czart się tylko śmiał ha ha a czart się tylko śmiał robotnik co z roboty szedł przez drogi asfaltowe wyciągnął z torby chleba pół i tyleż wyborowej pociągnął zdrowo anioł stróż i flachę panu dał a czart do gardła nie lał nic a czart się tylko śmiał ha ha a czart się tylko śmiał ksiądz proboszcz który wracał z mszy prywatnym samochodem zaprosił na plebanię i ugościł starym miodem pociągnął zdrowo anioł stróż i flachę panu dał a czart do gardła nie lał nic a czart się tylko śmiał ha ha a czart się tylko śmiał minister wyznań witał się z panem jak z własnym bratem a potem piękny toast wzniósł wytwornym araratem pociągnął zdrowo anioł stróż i flachę panu dał a czart do gardła nie lał nic a czart się tylko śmiał ha ha a czart się tylko śmiał a rano gdy ich dopadł kac w przydrożnym wiejskim rowie anioł do pana rzecze tak mój dobry panie powiedz czy diabeł sobie wszył czy co że trzeźwym musi być pan odpowiedział spójrz na kraj on już nie musi pić ',\n",
       " ' kto wstawi się za nami u pana co drogami krętymi każe iść kto nas usprawiedliwi gdy pan się będzie dziwił że to już właśnie my ja wstawię się za tobą i z podniesioną głową dziękować będę że pan dał mi właśnie ciebie w radości i w potrzebie na lepsze i na złe a ty choć powiedz słowo że zawsze byłem z tobą bo chciałem tak i już i razem chleb jedliśmy i równym krokiem szliśmy wśród wichrów pośród burz ty wciąż mnie ratowałaś za rękę mnie trzymałaś gdy z drogi chciałem zejść a ja otuchy krople gdy oczy miałaś mokre nie raz musiałem nieść i tak będziemy stali aż w tej niebieskiej sali do walca zaczną grać ja wtedy z pierwszym taktem poproszę cię i raptem zaczniemy wirować wolniutko walcować i kręcąc się kręcić na palcach na pięcie troszeczkę bezmyślnie jak wiosną przebiśnieg ty nieco szalona cóż żona to żona i w mojej twa ręka niebieska piosenka za serca nas chwyta niebieska muzyka ',\n",
       " 'spulchnię ziemię na zboczu i pestkę winogron w niej złożę a gdy winnym owocem gronowa obrodzi mi wić zwołam wiernych przyjaciół i serce przed nimi otworzę bo doprawdy czyż warto inaczej na ziemi tej żyć cóż czym chata bogata darujcie że progi za niskie mówcie wprost czy się godzi siąść przy mnie ucztować i pić pan bóg grzechy wybaczy i winy odpuści mi wszystkie bo doprawdy czyż warto inaczej na ziemi tej żyć w czerni swej i czerwieni zaśpiewa mi znów moja dali runę w czerni i bieli do stóp jej niech przędzie swą nić i o wszystkim zapomnę i umrę z miłości i żalu bo doprawdy czyż warto inaczej na ziemi tej żyć a gdy zmierzch się zakłębi i cienie po kątach się splotą niech się cisną do oczu niech wiecznie pozwolą mi śnić płowy bawół i orzeł srebrzysty i pstrąg szczerozłoty bo doprawdy czyż warto inaczej na ziemi tej żyć ',\n",
       " 'opowieść będzie to prawdziwa chociaż dziwna legliśmy w sianie obok legła płeć przeciwna a wiatr złowrogi nucił pieśni swe złowieszcze że tu się mogą zdarzyć dziwne rzeczy jeszcze to będzie noc pełna niespodzianek w stodole tej na słomie i na sianie lecz chłopcom utrudzonym dziewcząt holowaniem nie w głowie były figle tylko spanie a że dzieczęta to wrażliwe są stworzenia nie spały pogrążone w sianie i marzeniach to będzie noc pełna niespodzianek w stodole tej na słomie i na sianie więc znawca kobiet wielki szczypaw wódz szczypawek zawezwał uszczypliwy naród na naradę by każdy w pracy mógł się wspiąć na wyżyny to będzie piękne do szczypania miał dziewczyny to będzie noc pełna niespodzianek w stodole tej na słomie i na sianie nic dziwnego że niejeden chłopak musiał zabawić się tej nocy w pana tadeusza a że niejeden całkiem niezłą miał w tym wprawę więc stracił armię wielki szczypaw wódz szczypawek to będzie noc pełna niespodzianek w stodole tej na słomie i na sianie ',\n",
       " ' przyszedł do mnie jak do swego twarz z powieści witkacego miał i dwie książki jak nie patrzeć bursa andrzej i wojaczek rafał w oczach miał zmęczenie światem i chciał ze mną tak jak z bratem iść w rozmowy szał więc od razu bez przymiarki takie słowne dwa ogarki mi dał siedząc zawsze siedź idąc zawsze idź pierwsze kroki stawiaj w chmurach choćbyś wiedział że nie wskórasz w takich chmurach nic absolutnie nic kiedy mówisz mów kiedy milczysz milcz niechaj wielka będzie cisza tak by każdy ją usłyszał głośniej niż twój krzyk więc kiedy milczysz milcz milczeliśmy przez godzinę popijając połowinę pod kwas gdy byliśmy już w rozpędzie wstał powiedział na mnie będzie już czas jeszcze na mnie spojrzał jak ten który miał miasteczka każdy wie gdzie na odchodnym bez przymiarki rzucił słowne dwa ogarki bym pamiętał że siedząc zawsze siedź idąc zawsze idź pierwsze kroki stawiaj w chmurach choćbyś wiedział że nie wskórasz w takich chmurach nic absolutnie nic kiedy mówisz mów kiedy milczysz milcz niechaj wielka będzie cisza tak by każdy ją usłyszał głośniej niż twój krzyk więc kiedy milczysz milcz ',\n",
       " 'trzy pierścienie dla królów elfów pod otwartym niebem siedem dla władców krasnali w ich kamiennych pałacach dziewięć dla śmiertelników ludzi śmiedci podległych jeden dla wladcy ciemności na czarnym tronie w krainie mordor gdzie zaległy cienie jeden by wszystkimi rządzić jeden by wszystkie odnaleźć jeden by wszystkie zgromadzić i w ciemności związać w krainie mordor gdzie zaległy cienie ',\n",
       " 'w znoju słońca mozolnie razem z ciszą dzwoni rozgrzanych płotów chrust pocałunek sam siebie składa mi na skroni sam bez pomocy ust z rozwalonej stodoły brzmi niebu przez szpary jaskółek płacz i śmiech do pokoju spłowiałe wzdymając kotary wyrywa się wiosny dech boże coś pod mym oknem na czarną godzinę wonny rozkwiecił bez przebacz że wbrew twej wiedzy i przed czasem ginę z woli mych własnych łez ',\n",
       " 'skin jest całkem łysy włosków on nie nosi glaca w słońcu błyszczy jakby kombajn kosił pejsów nie ma skin kitek nienawidzi boją się go rabi murzyni i żydzi najgorsza dla skina jest co roku zima jak on ją przetrzyma przecież włosków ni ma nałóż czapkę skinie skinie nałóz czapkę kiedy wicher wieje gdy pogoda w kratkę uszka ci się przeziębią kark zlodowaceje resztki myśli z mózgu wiaterek przewieje mamusia na drutach czapkę z wełny robi nałuż ją skinie gdy się ochłodzi wełna główkę grzeje ciepło jest pod czaszką i komórki szare wówczas nie zamarzną nasz skin był odważny czapki nie nałożył całą zimę biegał łysy wiosny już nie dożył główka mu zsiniała uszka odmroziły czaszka na pół pękła szwy wewnątrz puściły nałóż czapkę skinie skinie nałóz czapkę kiedy wicher wieje gdy pogoda w kratkę uszka ci się przeziębią kark zlodowaceje resztki myśli z mózgu wiaterek przewieje ']"
      ]
     },
     "execution_count": 20,
     "metadata": {},
     "output_type": "execute_result"
    }
   ],
   "source": [
    "lyrics_list=list(DF[\"lyrics\"])\n",
    "lyrics_list"
   ]
  },
  {
   "cell_type": "code",
   "execution_count": 21,
   "id": "3262216a",
   "metadata": {},
   "outputs": [
    {
     "data": {
      "text/plain": [
       "(447, 15146)"
      ]
     },
     "execution_count": 21,
     "metadata": {},
     "output_type": "execute_result"
    }
   ],
   "source": [
    "tfidf = TfidfVectorizer(stop_words=polish_stopwords) # usuwamy stopwords #mozna usunąć zbyc częste i zbyt rzadkie słowa max_df=20, min_df=3 \n",
    "tfidf_matrix=tfidf.fit_transform(lyrics_list)\n",
    "tfidf_matrix.shape #macierz rzadka "
   ]
  },
  {
   "cell_type": "code",
   "execution_count": 22,
   "id": "d0088677",
   "metadata": {},
   "outputs": [],
   "source": [
    "def get_svd_matrix(n_components, normalize=False):\n",
    "    svd = TruncatedSVD(n_components=n_components)\n",
    "    lsa_matrix = svd.fit_transform(tfidf_matrix)\n",
    "    print(f\"Explained Variance: {sum(svd.explained_variance_ratio_)}\")\n",
    "    if normalize:\n",
    "        normalizer = Normalizer()\n",
    "        norm_lsa_matrix = normalizer.fit_transform(lsa_matrix)\n",
    "        return norm_lsa_matrix\n",
    "    else:\n",
    "        return lsa_matrix"
   ]
  },
  {
   "cell_type": "code",
   "execution_count": 33,
   "id": "573d2203",
   "metadata": {},
   "outputs": [
    {
     "name": "stdout",
     "output_type": "stream",
     "text": [
      "Explained Variance: 0.9400873261070547\n"
     ]
    }
   ],
   "source": [
    "norm_lsa_matrix=get_svd_matrix(n_components=400, normalize=True)"
   ]
  },
  {
   "cell_type": "code",
   "execution_count": 34,
   "id": "c8ec6bf9",
   "metadata": {},
   "outputs": [
    {
     "data": {
      "text/plain": [
       "(447, 400)"
      ]
     },
     "execution_count": 34,
     "metadata": {},
     "output_type": "execute_result"
    }
   ],
   "source": [
    "norm_lsa_matrix.shape"
   ]
  },
  {
   "cell_type": "code",
   "execution_count": 35,
   "id": "3cdd6b5b",
   "metadata": {},
   "outputs": [
    {
     "data": {
      "application/vnd.plotly.v1+json": {
       "config": {
        "plotlyServerURL": "https://plot.ly"
       },
       "data": [
        {
         "hoverinfo": "text",
         "marker": {
          "color": "rgb(0,116,217)"
         },
         "mode": "lines",
         "type": "scatter",
         "x": [
          0,
          1.287558675128012,
          1.287558675128012,
          0
         ],
         "xaxis": "x",
         "y": [
          -5,
          -5,
          -15,
          -15
         ],
         "yaxis": "y"
        },
        {
         "hoverinfo": "text",
         "marker": {
          "color": "rgb(0,116,217)"
         },
         "mode": "lines",
         "type": "scatter",
         "x": [
          0,
          1.3430175675238398,
          1.3430175675238398,
          0
         ],
         "xaxis": "x",
         "y": [
          -25,
          -25,
          -35,
          -35
         ],
         "yaxis": "y"
        },
        {
         "hoverinfo": "text",
         "marker": {
          "color": "rgb(0,116,217)"
         },
         "mode": "lines",
         "type": "scatter",
         "x": [
          1.287558675128012,
          1.4027861202964138,
          1.4027861202964138,
          1.3430175675238398
         ],
         "xaxis": "x",
         "y": [
          -10,
          -10,
          -30,
          -30
         ],
         "yaxis": "y"
        },
        {
         "hoverinfo": "text",
         "marker": {
          "color": "rgb(0,116,217)"
         },
         "mode": "lines",
         "type": "scatter",
         "x": [
          0,
          1.2516941393591172,
          1.2516941393591172,
          0
         ],
         "xaxis": "x",
         "y": [
          -45,
          -45,
          -55,
          -55
         ],
         "yaxis": "y"
        },
        {
         "hoverinfo": "text",
         "marker": {
          "color": "rgb(0,116,217)"
         },
         "mode": "lines",
         "type": "scatter",
         "x": [
          0,
          1.2382118373289466,
          1.2382118373289466,
          0
         ],
         "xaxis": "x",
         "y": [
          -75,
          -75,
          -85,
          -85
         ],
         "yaxis": "y"
        },
        {
         "hoverinfo": "text",
         "marker": {
          "color": "rgb(0,116,217)"
         },
         "mode": "lines",
         "type": "scatter",
         "x": [
          0,
          1.4044530515730755,
          1.4044530515730755,
          1.2382118373289466
         ],
         "xaxis": "x",
         "y": [
          -65,
          -65,
          -80,
          -80
         ],
         "yaxis": "y"
        },
        {
         "hoverinfo": "text",
         "marker": {
          "color": "rgb(0,116,217)"
         },
         "mode": "lines",
         "type": "scatter",
         "x": [
          1.2516941393591172,
          1.4146176660525909,
          1.4146176660525909,
          1.4044530515730755
         ],
         "xaxis": "x",
         "y": [
          -50,
          -50,
          -72.5,
          -72.5
         ],
         "yaxis": "y"
        },
        {
         "hoverinfo": "text",
         "marker": {
          "color": "rgb(0,116,217)"
         },
         "mode": "lines",
         "type": "scatter",
         "x": [
          1.4027861202964138,
          1.4174426000951654,
          1.4174426000951654,
          1.4146176660525909
         ],
         "xaxis": "x",
         "y": [
          -20,
          -20,
          -61.25,
          -61.25
         ],
         "yaxis": "y"
        },
        {
         "hoverinfo": "text",
         "marker": {
          "color": "rgb(0,116,217)"
         },
         "mode": "lines",
         "type": "scatter",
         "x": [
          0,
          1.2150118653606674,
          1.2150118653606674,
          0
         ],
         "xaxis": "x",
         "y": [
          -95,
          -95,
          -105,
          -105
         ],
         "yaxis": "y"
        },
        {
         "hoverinfo": "text",
         "marker": {
          "color": "rgb(0,116,217)"
         },
         "mode": "lines",
         "type": "scatter",
         "x": [
          0,
          1.3554911320139345,
          1.3554911320139345,
          0
         ],
         "xaxis": "x",
         "y": [
          -115,
          -115,
          -125,
          -125
         ],
         "yaxis": "y"
        },
        {
         "hoverinfo": "text",
         "marker": {
          "color": "rgb(0,116,217)"
         },
         "mode": "lines",
         "type": "scatter",
         "x": [
          1.2150118653606674,
          1.3994582536065672,
          1.3994582536065672,
          1.3554911320139345
         ],
         "xaxis": "x",
         "y": [
          -100,
          -100,
          -120,
          -120
         ],
         "yaxis": "y"
        },
        {
         "hoverinfo": "text",
         "marker": {
          "color": "rgb(0,116,217)"
         },
         "mode": "lines",
         "type": "scatter",
         "x": [
          0,
          1.3428107097352948,
          1.3428107097352948,
          0
         ],
         "xaxis": "x",
         "y": [
          -135,
          -135,
          -145,
          -145
         ],
         "yaxis": "y"
        },
        {
         "hoverinfo": "text",
         "marker": {
          "color": "rgb(61,153,112)"
         },
         "mode": "lines",
         "type": "scatter",
         "x": [
          0,
          0.25496265938006907,
          0.25496265938006907,
          0
         ],
         "xaxis": "x",
         "y": [
          -175,
          -175,
          -185,
          -185
         ],
         "yaxis": "y"
        },
        {
         "hoverinfo": "text",
         "marker": {
          "color": "rgb(0,116,217)"
         },
         "mode": "lines",
         "type": "scatter",
         "x": [
          0,
          1.314564418663487,
          1.314564418663487,
          0.25496265938006907
         ],
         "xaxis": "x",
         "y": [
          -165,
          -165,
          -180,
          -180
         ],
         "yaxis": "y"
        },
        {
         "hoverinfo": "text",
         "marker": {
          "color": "rgb(0,116,217)"
         },
         "mode": "lines",
         "type": "scatter",
         "x": [
          0,
          1.3634643302705751,
          1.3634643302705751,
          1.314564418663487
         ],
         "xaxis": "x",
         "y": [
          -155,
          -155,
          -172.5,
          -172.5
         ],
         "yaxis": "y"
        },
        {
         "hoverinfo": "text",
         "marker": {
          "color": "rgb(0,116,217)"
         },
         "mode": "lines",
         "type": "scatter",
         "x": [
          1.3428107097352948,
          1.4000121703667903,
          1.4000121703667903,
          1.3634643302705751
         ],
         "xaxis": "x",
         "y": [
          -140,
          -140,
          -163.75,
          -163.75
         ],
         "yaxis": "y"
        },
        {
         "hoverinfo": "text",
         "marker": {
          "color": "rgb(0,116,217)"
         },
         "mode": "lines",
         "type": "scatter",
         "x": [
          1.3994582536065672,
          1.417393172260007,
          1.417393172260007,
          1.4000121703667903
         ],
         "xaxis": "x",
         "y": [
          -110,
          -110,
          -151.875,
          -151.875
         ],
         "yaxis": "y"
        },
        {
         "hoverinfo": "text",
         "marker": {
          "color": "rgb(0,116,217)"
         },
         "mode": "lines",
         "type": "scatter",
         "x": [
          0,
          1.3856112534074736,
          1.3856112534074736,
          0
         ],
         "xaxis": "x",
         "y": [
          -195,
          -195,
          -205,
          -205
         ],
         "yaxis": "y"
        },
        {
         "hoverinfo": "text",
         "marker": {
          "color": "rgb(0,116,217)"
         },
         "mode": "lines",
         "type": "scatter",
         "x": [
          0,
          1.3356658551580027,
          1.3356658551580027,
          0
         ],
         "xaxis": "x",
         "y": [
          -215,
          -215,
          -225,
          -225
         ],
         "yaxis": "y"
        },
        {
         "hoverinfo": "text",
         "marker": {
          "color": "rgb(0,116,217)"
         },
         "mode": "lines",
         "type": "scatter",
         "x": [
          0,
          1.3830646771076007,
          1.3830646771076007,
          0
         ],
         "xaxis": "x",
         "y": [
          -235,
          -235,
          -245,
          -245
         ],
         "yaxis": "y"
        },
        {
         "hoverinfo": "text",
         "marker": {
          "color": "rgb(0,116,217)"
         },
         "mode": "lines",
         "type": "scatter",
         "x": [
          1.3356658551580027,
          1.4001655975963692,
          1.4001655975963692,
          1.3830646771076007
         ],
         "xaxis": "x",
         "y": [
          -220,
          -220,
          -240,
          -240
         ],
         "yaxis": "y"
        },
        {
         "hoverinfo": "text",
         "marker": {
          "color": "rgb(0,116,217)"
         },
         "mode": "lines",
         "type": "scatter",
         "x": [
          1.3856112534074736,
          1.413359961060407,
          1.413359961060407,
          1.4001655975963692
         ],
         "xaxis": "x",
         "y": [
          -200,
          -200,
          -230,
          -230
         ],
         "yaxis": "y"
        },
        {
         "hoverinfo": "text",
         "marker": {
          "color": "rgb(0,116,217)"
         },
         "mode": "lines",
         "type": "scatter",
         "x": [
          0,
          1.3408306410776512,
          1.3408306410776512,
          0
         ],
         "xaxis": "x",
         "y": [
          -255,
          -255,
          -265,
          -265
         ],
         "yaxis": "y"
        },
        {
         "hoverinfo": "text",
         "marker": {
          "color": "rgb(0,116,217)"
         },
         "mode": "lines",
         "type": "scatter",
         "x": [
          0,
          1.3689806717588273,
          1.3689806717588273,
          0
         ],
         "xaxis": "x",
         "y": [
          -275,
          -275,
          -285,
          -285
         ],
         "yaxis": "y"
        },
        {
         "hoverinfo": "text",
         "marker": {
          "color": "rgb(0,116,217)"
         },
         "mode": "lines",
         "type": "scatter",
         "x": [
          1.3408306410776512,
          1.4111136448689552,
          1.4111136448689552,
          1.3689806717588273
         ],
         "xaxis": "x",
         "y": [
          -260,
          -260,
          -280,
          -280
         ],
         "yaxis": "y"
        },
        {
         "hoverinfo": "text",
         "marker": {
          "color": "rgb(0,116,217)"
         },
         "mode": "lines",
         "type": "scatter",
         "x": [
          0,
          1.3630093288959497,
          1.3630093288959497,
          0
         ],
         "xaxis": "x",
         "y": [
          -305,
          -305,
          -315,
          -315
         ],
         "yaxis": "y"
        },
        {
         "hoverinfo": "text",
         "marker": {
          "color": "rgb(0,116,217)"
         },
         "mode": "lines",
         "type": "scatter",
         "x": [
          0,
          1.4015646853031096,
          1.4015646853031096,
          1.3630093288959497
         ],
         "xaxis": "x",
         "y": [
          -295,
          -295,
          -310,
          -310
         ],
         "yaxis": "y"
        },
        {
         "hoverinfo": "text",
         "marker": {
          "color": "rgb(0,116,217)"
         },
         "mode": "lines",
         "type": "scatter",
         "x": [
          0,
          1.361868199199802,
          1.361868199199802,
          0
         ],
         "xaxis": "x",
         "y": [
          -335,
          -335,
          -345,
          -345
         ],
         "yaxis": "y"
        },
        {
         "hoverinfo": "text",
         "marker": {
          "color": "rgb(0,116,217)"
         },
         "mode": "lines",
         "type": "scatter",
         "x": [
          0,
          1.3785929776183061,
          1.3785929776183061,
          1.361868199199802
         ],
         "xaxis": "x",
         "y": [
          -325,
          -325,
          -340,
          -340
         ],
         "yaxis": "y"
        },
        {
         "hoverinfo": "text",
         "marker": {
          "color": "rgb(0,116,217)"
         },
         "mode": "lines",
         "type": "scatter",
         "x": [
          0,
          1.3822678426933412,
          1.3822678426933412,
          0
         ],
         "xaxis": "x",
         "y": [
          -355,
          -355,
          -365,
          -365
         ],
         "yaxis": "y"
        },
        {
         "hoverinfo": "text",
         "marker": {
          "color": "rgb(0,116,217)"
         },
         "mode": "lines",
         "type": "scatter",
         "x": [
          1.3785929776183061,
          1.4119579838408123,
          1.4119579838408123,
          1.3822678426933412
         ],
         "xaxis": "x",
         "y": [
          -332.5,
          -332.5,
          -360,
          -360
         ],
         "yaxis": "y"
        },
        {
         "hoverinfo": "text",
         "marker": {
          "color": "rgb(0,116,217)"
         },
         "mode": "lines",
         "type": "scatter",
         "x": [
          1.4015646853031096,
          1.4153896184102783,
          1.4153896184102783,
          1.4119579838408123
         ],
         "xaxis": "x",
         "y": [
          -302.5,
          -302.5,
          -346.25,
          -346.25
         ],
         "yaxis": "y"
        },
        {
         "hoverinfo": "text",
         "marker": {
          "color": "rgb(0,116,217)"
         },
         "mode": "lines",
         "type": "scatter",
         "x": [
          1.4111136448689552,
          1.417132950923858,
          1.417132950923858,
          1.4153896184102783
         ],
         "xaxis": "x",
         "y": [
          -270,
          -270,
          -324.375,
          -324.375
         ],
         "yaxis": "y"
        },
        {
         "hoverinfo": "text",
         "marker": {
          "color": "rgb(0,116,217)"
         },
         "mode": "lines",
         "type": "scatter",
         "x": [
          1.413359961060407,
          1.417355758432568,
          1.417355758432568,
          1.417132950923858
         ],
         "xaxis": "x",
         "y": [
          -215,
          -215,
          -297.1875,
          -297.1875
         ],
         "yaxis": "y"
        },
        {
         "hoverinfo": "text",
         "marker": {
          "color": "rgb(0,116,217)"
         },
         "mode": "lines",
         "type": "scatter",
         "x": [
          0,
          1.3001975181153567,
          1.3001975181153567,
          0
         ],
         "xaxis": "x",
         "y": [
          -375,
          -375,
          -385,
          -385
         ],
         "yaxis": "y"
        },
        {
         "hoverinfo": "text",
         "marker": {
          "color": "rgb(0,116,217)"
         },
         "mode": "lines",
         "type": "scatter",
         "x": [
          0,
          1.3266380468155166,
          1.3266380468155166,
          0
         ],
         "xaxis": "x",
         "y": [
          -395,
          -395,
          -405,
          -405
         ],
         "yaxis": "y"
        },
        {
         "hoverinfo": "text",
         "marker": {
          "color": "rgb(0,116,217)"
         },
         "mode": "lines",
         "type": "scatter",
         "x": [
          0,
          1.3668171742031032,
          1.3668171742031032,
          0
         ],
         "xaxis": "x",
         "y": [
          -415,
          -415,
          -425,
          -425
         ],
         "yaxis": "y"
        },
        {
         "hoverinfo": "text",
         "marker": {
          "color": "rgb(0,116,217)"
         },
         "mode": "lines",
         "type": "scatter",
         "x": [
          1.3266380468155166,
          1.4020562721782848,
          1.4020562721782848,
          1.3668171742031032
         ],
         "xaxis": "x",
         "y": [
          -400,
          -400,
          -420,
          -420
         ],
         "yaxis": "y"
        },
        {
         "hoverinfo": "text",
         "marker": {
          "color": "rgb(0,116,217)"
         },
         "mode": "lines",
         "type": "scatter",
         "x": [
          1.3001975181153567,
          1.4136285392444092,
          1.4136285392444092,
          1.4020562721782848
         ],
         "xaxis": "x",
         "y": [
          -380,
          -380,
          -410,
          -410
         ],
         "yaxis": "y"
        },
        {
         "hoverinfo": "text",
         "marker": {
          "color": "rgb(0,116,217)"
         },
         "mode": "lines",
         "type": "scatter",
         "x": [
          0,
          1.3734855431760464,
          1.3734855431760464,
          0
         ],
         "xaxis": "x",
         "y": [
          -435,
          -435,
          -445,
          -445
         ],
         "yaxis": "y"
        },
        {
         "hoverinfo": "text",
         "marker": {
          "color": "rgb(0,116,217)"
         },
         "mode": "lines",
         "type": "scatter",
         "x": [
          0,
          1.36069427691836,
          1.36069427691836,
          0
         ],
         "xaxis": "x",
         "y": [
          -455,
          -455,
          -465,
          -465
         ],
         "yaxis": "y"
        },
        {
         "hoverinfo": "text",
         "marker": {
          "color": "rgb(0,116,217)"
         },
         "mode": "lines",
         "type": "scatter",
         "x": [
          0,
          1.3746868522085414,
          1.3746868522085414,
          0
         ],
         "xaxis": "x",
         "y": [
          -475,
          -475,
          -485,
          -485
         ],
         "yaxis": "y"
        },
        {
         "hoverinfo": "text",
         "marker": {
          "color": "rgb(0,116,217)"
         },
         "mode": "lines",
         "type": "scatter",
         "x": [
          1.36069427691836,
          1.4067394994236415,
          1.4067394994236415,
          1.3746868522085414
         ],
         "xaxis": "x",
         "y": [
          -460,
          -460,
          -480,
          -480
         ],
         "yaxis": "y"
        },
        {
         "hoverinfo": "text",
         "marker": {
          "color": "rgb(0,116,217)"
         },
         "mode": "lines",
         "type": "scatter",
         "x": [
          1.3734855431760464,
          1.4137221866772893,
          1.4137221866772893,
          1.4067394994236415
         ],
         "xaxis": "x",
         "y": [
          -440,
          -440,
          -470,
          -470
         ],
         "yaxis": "y"
        },
        {
         "hoverinfo": "text",
         "marker": {
          "color": "rgb(0,116,217)"
         },
         "mode": "lines",
         "type": "scatter",
         "x": [
          1.4136285392444092,
          1.4192963795736493,
          1.4192963795736493,
          1.4137221866772893
         ],
         "xaxis": "x",
         "y": [
          -395,
          -395,
          -455,
          -455
         ],
         "yaxis": "y"
        },
        {
         "hoverinfo": "text",
         "marker": {
          "color": "rgb(0,116,217)"
         },
         "mode": "lines",
         "type": "scatter",
         "x": [
          1.417355758432568,
          1.4215298163185037,
          1.4215298163185037,
          1.4192963795736493
         ],
         "xaxis": "x",
         "y": [
          -256.09375,
          -256.09375,
          -425,
          -425
         ],
         "yaxis": "y"
        },
        {
         "hoverinfo": "text",
         "marker": {
          "color": "rgb(0,116,217)"
         },
         "mode": "lines",
         "type": "scatter",
         "x": [
          1.417393172260007,
          1.4252876464702384,
          1.4252876464702384,
          1.4215298163185037
         ],
         "xaxis": "x",
         "y": [
          -130.9375,
          -130.9375,
          -340.546875,
          -340.546875
         ],
         "yaxis": "y"
        },
        {
         "hoverinfo": "text",
         "marker": {
          "color": "rgb(0,116,217)"
         },
         "mode": "lines",
         "type": "scatter",
         "x": [
          1.4174426000951654,
          1.4273205907945066,
          1.4273205907945066,
          1.4252876464702384
         ],
         "xaxis": "x",
         "y": [
          -40.625,
          -40.625,
          -235.7421875,
          -235.7421875
         ],
         "yaxis": "y"
        },
        {
         "hoverinfo": "text",
         "marker": {
          "color": "rgb(0,116,217)"
         },
         "mode": "lines",
         "type": "scatter",
         "x": [
          0,
          1.309471234010719,
          1.309471234010719,
          0
         ],
         "xaxis": "x",
         "y": [
          -495,
          -495,
          -505,
          -505
         ],
         "yaxis": "y"
        },
        {
         "hoverinfo": "text",
         "marker": {
          "color": "rgb(0,116,217)"
         },
         "mode": "lines",
         "type": "scatter",
         "x": [
          0,
          1.3777704198727565,
          1.3777704198727565,
          0
         ],
         "xaxis": "x",
         "y": [
          -515,
          -515,
          -525,
          -525
         ],
         "yaxis": "y"
        },
        {
         "hoverinfo": "text",
         "marker": {
          "color": "rgb(0,116,217)"
         },
         "mode": "lines",
         "type": "scatter",
         "x": [
          1.309471234010719,
          1.406036923070622,
          1.406036923070622,
          1.3777704198727565
         ],
         "xaxis": "x",
         "y": [
          -500,
          -500,
          -520,
          -520
         ],
         "yaxis": "y"
        },
        {
         "hoverinfo": "text",
         "marker": {
          "color": "rgb(0,116,217)"
         },
         "mode": "lines",
         "type": "scatter",
         "x": [
          0,
          1.2773826908289998,
          1.2773826908289998,
          0
         ],
         "xaxis": "x",
         "y": [
          -535,
          -535,
          -545,
          -545
         ],
         "yaxis": "y"
        },
        {
         "hoverinfo": "text",
         "marker": {
          "color": "rgb(0,116,217)"
         },
         "mode": "lines",
         "type": "scatter",
         "x": [
          0,
          1.3066722904765715,
          1.3066722904765715,
          0
         ],
         "xaxis": "x",
         "y": [
          -565,
          -565,
          -575,
          -575
         ],
         "yaxis": "y"
        },
        {
         "hoverinfo": "text",
         "marker": {
          "color": "rgb(0,116,217)"
         },
         "mode": "lines",
         "type": "scatter",
         "x": [
          0,
          1.412808163025494,
          1.412808163025494,
          1.3066722904765715
         ],
         "xaxis": "x",
         "y": [
          -555,
          -555,
          -570,
          -570
         ],
         "yaxis": "y"
        },
        {
         "hoverinfo": "text",
         "marker": {
          "color": "rgb(0,116,217)"
         },
         "mode": "lines",
         "type": "scatter",
         "x": [
          1.2773826908289998,
          1.4140236951866718,
          1.4140236951866718,
          1.412808163025494
         ],
         "xaxis": "x",
         "y": [
          -540,
          -540,
          -562.5,
          -562.5
         ],
         "yaxis": "y"
        },
        {
         "hoverinfo": "text",
         "marker": {
          "color": "rgb(0,116,217)"
         },
         "mode": "lines",
         "type": "scatter",
         "x": [
          1.406036923070622,
          1.4187477074263404,
          1.4187477074263404,
          1.4140236951866718
         ],
         "xaxis": "x",
         "y": [
          -510,
          -510,
          -551.25,
          -551.25
         ],
         "yaxis": "y"
        },
        {
         "hoverinfo": "text",
         "marker": {
          "color": "rgb(0,116,217)"
         },
         "mode": "lines",
         "type": "scatter",
         "x": [
          0,
          1.2702986994700263,
          1.2702986994700263,
          0
         ],
         "xaxis": "x",
         "y": [
          -585,
          -585,
          -595,
          -595
         ],
         "yaxis": "y"
        },
        {
         "hoverinfo": "text",
         "marker": {
          "color": "rgb(0,116,217)"
         },
         "mode": "lines",
         "type": "scatter",
         "x": [
          0,
          1.3831783477943391,
          1.3831783477943391,
          0
         ],
         "xaxis": "x",
         "y": [
          -605,
          -605,
          -615,
          -615
         ],
         "yaxis": "y"
        },
        {
         "hoverinfo": "text",
         "marker": {
          "color": "rgb(0,116,217)"
         },
         "mode": "lines",
         "type": "scatter",
         "x": [
          1.2702986994700263,
          1.4062561636301467,
          1.4062561636301467,
          1.3831783477943391
         ],
         "xaxis": "x",
         "y": [
          -590,
          -590,
          -610,
          -610
         ],
         "yaxis": "y"
        },
        {
         "hoverinfo": "text",
         "marker": {
          "color": "rgb(0,116,217)"
         },
         "mode": "lines",
         "type": "scatter",
         "x": [
          0,
          1.3318349568208596,
          1.3318349568208596,
          0
         ],
         "xaxis": "x",
         "y": [
          -635,
          -635,
          -645,
          -645
         ],
         "yaxis": "y"
        },
        {
         "hoverinfo": "text",
         "marker": {
          "color": "rgb(0,116,217)"
         },
         "mode": "lines",
         "type": "scatter",
         "x": [
          0,
          1.3846251373032494,
          1.3846251373032494,
          1.3318349568208596
         ],
         "xaxis": "x",
         "y": [
          -625,
          -625,
          -640,
          -640
         ],
         "yaxis": "y"
        },
        {
         "hoverinfo": "text",
         "marker": {
          "color": "rgb(0,116,217)"
         },
         "mode": "lines",
         "type": "scatter",
         "x": [
          0,
          1.398279396978062,
          1.398279396978062,
          0
         ],
         "xaxis": "x",
         "y": [
          -665,
          -665,
          -675,
          -675
         ],
         "yaxis": "y"
        },
        {
         "hoverinfo": "text",
         "marker": {
          "color": "rgb(0,116,217)"
         },
         "mode": "lines",
         "type": "scatter",
         "x": [
          0,
          1.4123000546399238,
          1.4123000546399238,
          1.398279396978062
         ],
         "xaxis": "x",
         "y": [
          -655,
          -655,
          -670,
          -670
         ],
         "yaxis": "y"
        },
        {
         "hoverinfo": "text",
         "marker": {
          "color": "rgb(0,116,217)"
         },
         "mode": "lines",
         "type": "scatter",
         "x": [
          1.3846251373032494,
          1.4142808176157031,
          1.4142808176157031,
          1.4123000546399238
         ],
         "xaxis": "x",
         "y": [
          -632.5,
          -632.5,
          -662.5,
          -662.5
         ],
         "yaxis": "y"
        },
        {
         "hoverinfo": "text",
         "marker": {
          "color": "rgb(0,116,217)"
         },
         "mode": "lines",
         "type": "scatter",
         "x": [
          1.4062561636301467,
          1.4174624536953326,
          1.4174624536953326,
          1.4142808176157031
         ],
         "xaxis": "x",
         "y": [
          -600,
          -600,
          -647.5,
          -647.5
         ],
         "yaxis": "y"
        },
        {
         "hoverinfo": "text",
         "marker": {
          "color": "rgb(0,116,217)"
         },
         "mode": "lines",
         "type": "scatter",
         "x": [
          0,
          1.2908220963567454,
          1.2908220963567454,
          0
         ],
         "xaxis": "x",
         "y": [
          -685,
          -685,
          -695,
          -695
         ],
         "yaxis": "y"
        },
        {
         "hoverinfo": "text",
         "marker": {
          "color": "rgb(0,116,217)"
         },
         "mode": "lines",
         "type": "scatter",
         "x": [
          0,
          1.3805419503491219,
          1.3805419503491219,
          0
         ],
         "xaxis": "x",
         "y": [
          -705,
          -705,
          -715,
          -715
         ],
         "yaxis": "y"
        },
        {
         "hoverinfo": "text",
         "marker": {
          "color": "rgb(0,116,217)"
         },
         "mode": "lines",
         "type": "scatter",
         "x": [
          1.2908220963567454,
          1.409988978204576,
          1.409988978204576,
          1.3805419503491219
         ],
         "xaxis": "x",
         "y": [
          -690,
          -690,
          -710,
          -710
         ],
         "yaxis": "y"
        },
        {
         "hoverinfo": "text",
         "marker": {
          "color": "rgb(0,116,217)"
         },
         "mode": "lines",
         "type": "scatter",
         "x": [
          0,
          1.2941444608891708,
          1.2941444608891708,
          0
         ],
         "xaxis": "x",
         "y": [
          -735,
          -735,
          -745,
          -745
         ],
         "yaxis": "y"
        },
        {
         "hoverinfo": "text",
         "marker": {
          "color": "rgb(0,116,217)"
         },
         "mode": "lines",
         "type": "scatter",
         "x": [
          0,
          1.3550820637751237,
          1.3550820637751237,
          1.2941444608891708
         ],
         "xaxis": "x",
         "y": [
          -725,
          -725,
          -740,
          -740
         ],
         "yaxis": "y"
        },
        {
         "hoverinfo": "text",
         "marker": {
          "color": "rgb(0,116,217)"
         },
         "mode": "lines",
         "type": "scatter",
         "x": [
          0,
          1.102367920660542,
          1.102367920660542,
          0
         ],
         "xaxis": "x",
         "y": [
          -765,
          -765,
          -775,
          -775
         ],
         "yaxis": "y"
        },
        {
         "hoverinfo": "text",
         "marker": {
          "color": "rgb(0,116,217)"
         },
         "mode": "lines",
         "type": "scatter",
         "x": [
          0,
          1.3794317933987097,
          1.3794317933987097,
          1.102367920660542
         ],
         "xaxis": "x",
         "y": [
          -755,
          -755,
          -770,
          -770
         ],
         "yaxis": "y"
        },
        {
         "hoverinfo": "text",
         "marker": {
          "color": "rgb(0,116,217)"
         },
         "mode": "lines",
         "type": "scatter",
         "x": [
          1.3550820637751237,
          1.4139879838169616,
          1.4139879838169616,
          1.3794317933987097
         ],
         "xaxis": "x",
         "y": [
          -732.5,
          -732.5,
          -762.5,
          -762.5
         ],
         "yaxis": "y"
        },
        {
         "hoverinfo": "text",
         "marker": {
          "color": "rgb(0,116,217)"
         },
         "mode": "lines",
         "type": "scatter",
         "x": [
          1.409988978204576,
          1.4203215638020794,
          1.4203215638020794,
          1.4139879838169616
         ],
         "xaxis": "x",
         "y": [
          -700,
          -700,
          -747.5,
          -747.5
         ],
         "yaxis": "y"
        },
        {
         "hoverinfo": "text",
         "marker": {
          "color": "rgb(0,116,217)"
         },
         "mode": "lines",
         "type": "scatter",
         "x": [
          1.4174624536953326,
          1.422874454032315,
          1.422874454032315,
          1.4203215638020794
         ],
         "xaxis": "x",
         "y": [
          -623.75,
          -623.75,
          -723.75,
          -723.75
         ],
         "yaxis": "y"
        },
        {
         "hoverinfo": "text",
         "marker": {
          "color": "rgb(0,116,217)"
         },
         "mode": "lines",
         "type": "scatter",
         "x": [
          0,
          1.3059979694558501,
          1.3059979694558501,
          0
         ],
         "xaxis": "x",
         "y": [
          -795,
          -795,
          -805,
          -805
         ],
         "yaxis": "y"
        },
        {
         "hoverinfo": "text",
         "marker": {
          "color": "rgb(0,116,217)"
         },
         "mode": "lines",
         "type": "scatter",
         "x": [
          0,
          1.370787657200496,
          1.370787657200496,
          1.3059979694558501
         ],
         "xaxis": "x",
         "y": [
          -785,
          -785,
          -800,
          -800
         ],
         "yaxis": "y"
        },
        {
         "hoverinfo": "text",
         "marker": {
          "color": "rgb(0,116,217)"
         },
         "mode": "lines",
         "type": "scatter",
         "x": [
          0,
          1.3691609601851489,
          1.3691609601851489,
          0
         ],
         "xaxis": "x",
         "y": [
          -815,
          -815,
          -825,
          -825
         ],
         "yaxis": "y"
        },
        {
         "hoverinfo": "text",
         "marker": {
          "color": "rgb(0,116,217)"
         },
         "mode": "lines",
         "type": "scatter",
         "x": [
          0,
          1.3492622338722693,
          1.3492622338722693,
          0
         ],
         "xaxis": "x",
         "y": [
          -845,
          -845,
          -855,
          -855
         ],
         "yaxis": "y"
        },
        {
         "hoverinfo": "text",
         "marker": {
          "color": "rgb(0,116,217)"
         },
         "mode": "lines",
         "type": "scatter",
         "x": [
          0,
          1.3980667786208738,
          1.3980667786208738,
          1.3492622338722693
         ],
         "xaxis": "x",
         "y": [
          -835,
          -835,
          -850,
          -850
         ],
         "yaxis": "y"
        },
        {
         "hoverinfo": "text",
         "marker": {
          "color": "rgb(0,116,217)"
         },
         "mode": "lines",
         "type": "scatter",
         "x": [
          1.3691609601851489,
          1.4085953055075975,
          1.4085953055075975,
          1.3980667786208738
         ],
         "xaxis": "x",
         "y": [
          -820,
          -820,
          -842.5,
          -842.5
         ],
         "yaxis": "y"
        },
        {
         "hoverinfo": "text",
         "marker": {
          "color": "rgb(0,116,217)"
         },
         "mode": "lines",
         "type": "scatter",
         "x": [
          0,
          1.3501019645729642,
          1.3501019645729642,
          0
         ],
         "xaxis": "x",
         "y": [
          -865,
          -865,
          -875,
          -875
         ],
         "yaxis": "y"
        },
        {
         "hoverinfo": "text",
         "marker": {
          "color": "rgb(0,116,217)"
         },
         "mode": "lines",
         "type": "scatter",
         "x": [
          0,
          1.3242356569257565,
          1.3242356569257565,
          0
         ],
         "xaxis": "x",
         "y": [
          -905,
          -905,
          -915,
          -915
         ],
         "yaxis": "y"
        },
        {
         "hoverinfo": "text",
         "marker": {
          "color": "rgb(0,116,217)"
         },
         "mode": "lines",
         "type": "scatter",
         "x": [
          0,
          1.3773848256066954,
          1.3773848256066954,
          1.3242356569257565
         ],
         "xaxis": "x",
         "y": [
          -895,
          -895,
          -910,
          -910
         ],
         "yaxis": "y"
        },
        {
         "hoverinfo": "text",
         "marker": {
          "color": "rgb(0,116,217)"
         },
         "mode": "lines",
         "type": "scatter",
         "x": [
          0,
          1.3984538342373314,
          1.3984538342373314,
          1.3773848256066954
         ],
         "xaxis": "x",
         "y": [
          -885,
          -885,
          -902.5,
          -902.5
         ],
         "yaxis": "y"
        },
        {
         "hoverinfo": "text",
         "marker": {
          "color": "rgb(0,116,217)"
         },
         "mode": "lines",
         "type": "scatter",
         "x": [
          1.3501019645729642,
          1.4087700929173117,
          1.4087700929173117,
          1.3984538342373314
         ],
         "xaxis": "x",
         "y": [
          -870,
          -870,
          -893.75,
          -893.75
         ],
         "yaxis": "y"
        },
        {
         "hoverinfo": "text",
         "marker": {
          "color": "rgb(0,116,217)"
         },
         "mode": "lines",
         "type": "scatter",
         "x": [
          1.4085953055075975,
          1.417390759889187,
          1.417390759889187,
          1.4087700929173117
         ],
         "xaxis": "x",
         "y": [
          -831.25,
          -831.25,
          -881.875,
          -881.875
         ],
         "yaxis": "y"
        },
        {
         "hoverinfo": "text",
         "marker": {
          "color": "rgb(0,116,217)"
         },
         "mode": "lines",
         "type": "scatter",
         "x": [
          1.370787657200496,
          1.4182093164974947,
          1.4182093164974947,
          1.417390759889187
         ],
         "xaxis": "x",
         "y": [
          -792.5,
          -792.5,
          -856.5625,
          -856.5625
         ],
         "yaxis": "y"
        },
        {
         "hoverinfo": "text",
         "marker": {
          "color": "rgb(0,116,217)"
         },
         "mode": "lines",
         "type": "scatter",
         "x": [
          0,
          1.388071830683821,
          1.388071830683821,
          0
         ],
         "xaxis": "x",
         "y": [
          -925,
          -925,
          -935,
          -935
         ],
         "yaxis": "y"
        },
        {
         "hoverinfo": "text",
         "marker": {
          "color": "rgb(0,116,217)"
         },
         "mode": "lines",
         "type": "scatter",
         "x": [
          0,
          1.3294334691358716,
          1.3294334691358716,
          0
         ],
         "xaxis": "x",
         "y": [
          -955,
          -955,
          -965,
          -965
         ],
         "yaxis": "y"
        },
        {
         "hoverinfo": "text",
         "marker": {
          "color": "rgb(0,116,217)"
         },
         "mode": "lines",
         "type": "scatter",
         "x": [
          0,
          1.3934607743052596,
          1.3934607743052596,
          1.3294334691358716
         ],
         "xaxis": "x",
         "y": [
          -945,
          -945,
          -960,
          -960
         ],
         "yaxis": "y"
        },
        {
         "hoverinfo": "text",
         "marker": {
          "color": "rgb(0,116,217)"
         },
         "mode": "lines",
         "type": "scatter",
         "x": [
          1.388071830683821,
          1.4091357247762653,
          1.4091357247762653,
          1.3934607743052596
         ],
         "xaxis": "x",
         "y": [
          -930,
          -930,
          -952.5,
          -952.5
         ],
         "yaxis": "y"
        },
        {
         "hoverinfo": "text",
         "marker": {
          "color": "rgb(0,116,217)"
         },
         "mode": "lines",
         "type": "scatter",
         "x": [
          0,
          1.3623829345516016,
          1.3623829345516016,
          0
         ],
         "xaxis": "x",
         "y": [
          -975,
          -975,
          -985,
          -985
         ],
         "yaxis": "y"
        },
        {
         "hoverinfo": "text",
         "marker": {
          "color": "rgb(0,116,217)"
         },
         "mode": "lines",
         "type": "scatter",
         "x": [
          0,
          1.386017902388892,
          1.386017902388892,
          0
         ],
         "xaxis": "x",
         "y": [
          -995,
          -995,
          -1005,
          -1005
         ],
         "yaxis": "y"
        },
        {
         "hoverinfo": "text",
         "marker": {
          "color": "rgb(0,116,217)"
         },
         "mode": "lines",
         "type": "scatter",
         "x": [
          1.3623829345516016,
          1.4060450465265628,
          1.4060450465265628,
          1.386017902388892
         ],
         "xaxis": "x",
         "y": [
          -980,
          -980,
          -1000,
          -1000
         ],
         "yaxis": "y"
        },
        {
         "hoverinfo": "text",
         "marker": {
          "color": "rgb(0,116,217)"
         },
         "mode": "lines",
         "type": "scatter",
         "x": [
          0,
          1.31881418823108,
          1.31881418823108,
          0
         ],
         "xaxis": "x",
         "y": [
          -1015,
          -1015,
          -1025,
          -1025
         ],
         "yaxis": "y"
        },
        {
         "hoverinfo": "text",
         "marker": {
          "color": "rgb(0,116,217)"
         },
         "mode": "lines",
         "type": "scatter",
         "x": [
          0,
          1.3486552950447226,
          1.3486552950447226,
          0
         ],
         "xaxis": "x",
         "y": [
          -1035,
          -1035,
          -1045,
          -1045
         ],
         "yaxis": "y"
        },
        {
         "hoverinfo": "text",
         "marker": {
          "color": "rgb(255,65,54)"
         },
         "mode": "lines",
         "type": "scatter",
         "x": [
          0,
          0.06434041451767178,
          0.06434041451767178,
          0
         ],
         "xaxis": "x",
         "y": [
          -1065,
          -1065,
          -1075,
          -1075
         ],
         "yaxis": "y"
        },
        {
         "hoverinfo": "text",
         "marker": {
          "color": "rgb(0,116,217)"
         },
         "mode": "lines",
         "type": "scatter",
         "x": [
          0,
          1.358367672009474,
          1.358367672009474,
          0.06434041451767178
         ],
         "xaxis": "x",
         "y": [
          -1055,
          -1055,
          -1070,
          -1070
         ],
         "yaxis": "y"
        },
        {
         "hoverinfo": "text",
         "marker": {
          "color": "rgb(0,116,217)"
         },
         "mode": "lines",
         "type": "scatter",
         "x": [
          1.3486552950447226,
          1.4038916714896832,
          1.4038916714896832,
          1.358367672009474
         ],
         "xaxis": "x",
         "y": [
          -1040,
          -1040,
          -1062.5,
          -1062.5
         ],
         "yaxis": "y"
        },
        {
         "hoverinfo": "text",
         "marker": {
          "color": "rgb(0,116,217)"
         },
         "mode": "lines",
         "type": "scatter",
         "x": [
          1.31881418823108,
          1.4118806503048789,
          1.4118806503048789,
          1.4038916714896832
         ],
         "xaxis": "x",
         "y": [
          -1020,
          -1020,
          -1051.25,
          -1051.25
         ],
         "yaxis": "y"
        },
        {
         "hoverinfo": "text",
         "marker": {
          "color": "rgb(0,116,217)"
         },
         "mode": "lines",
         "type": "scatter",
         "x": [
          1.4060450465265628,
          1.4145929988765782,
          1.4145929988765782,
          1.4118806503048789
         ],
         "xaxis": "x",
         "y": [
          -990,
          -990,
          -1035.625,
          -1035.625
         ],
         "yaxis": "y"
        },
        {
         "hoverinfo": "text",
         "marker": {
          "color": "rgb(0,116,217)"
         },
         "mode": "lines",
         "type": "scatter",
         "x": [
          1.4091357247762653,
          1.419335546529531,
          1.419335546529531,
          1.4145929988765782
         ],
         "xaxis": "x",
         "y": [
          -941.25,
          -941.25,
          -1012.8125,
          -1012.8125
         ],
         "yaxis": "y"
        },
        {
         "hoverinfo": "text",
         "marker": {
          "color": "rgb(0,116,217)"
         },
         "mode": "lines",
         "type": "scatter",
         "x": [
          1.4182093164974947,
          1.4240822864909617,
          1.4240822864909617,
          1.419335546529531
         ],
         "xaxis": "x",
         "y": [
          -824.53125,
          -824.53125,
          -977.03125,
          -977.03125
         ],
         "yaxis": "y"
        },
        {
         "hoverinfo": "text",
         "marker": {
          "color": "rgb(0,116,217)"
         },
         "mode": "lines",
         "type": "scatter",
         "x": [
          1.422874454032315,
          1.4265878840902384,
          1.4265878840902384,
          1.4240822864909617
         ],
         "xaxis": "x",
         "y": [
          -673.75,
          -673.75,
          -900.78125,
          -900.78125
         ],
         "yaxis": "y"
        },
        {
         "hoverinfo": "text",
         "marker": {
          "color": "rgb(0,116,217)"
         },
         "mode": "lines",
         "type": "scatter",
         "x": [
          1.4187477074263404,
          1.4298292202256413,
          1.4298292202256413,
          1.4265878840902384
         ],
         "xaxis": "x",
         "y": [
          -530.625,
          -530.625,
          -787.265625,
          -787.265625
         ],
         "yaxis": "y"
        },
        {
         "hoverinfo": "text",
         "marker": {
          "color": "rgb(0,116,217)"
         },
         "mode": "lines",
         "type": "scatter",
         "x": [
          1.4273205907945066,
          1.4356915038766955,
          1.4356915038766955,
          1.4298292202256413
         ],
         "xaxis": "x",
         "y": [
          -138.18359375,
          -138.18359375,
          -658.9453125,
          -658.9453125
         ],
         "yaxis": "y"
        },
        {
         "hoverinfo": "text",
         "marker": {
          "color": "rgb(0,116,217)"
         },
         "mode": "lines",
         "type": "scatter",
         "x": [
          0,
          1.335357371128341,
          1.335357371128341,
          0
         ],
         "xaxis": "x",
         "y": [
          -1085,
          -1085,
          -1095,
          -1095
         ],
         "yaxis": "y"
        },
        {
         "hoverinfo": "text",
         "marker": {
          "color": "rgb(0,116,217)"
         },
         "mode": "lines",
         "type": "scatter",
         "x": [
          0,
          1.32910929993408,
          1.32910929993408,
          0
         ],
         "xaxis": "x",
         "y": [
          -1115,
          -1115,
          -1125,
          -1125
         ],
         "yaxis": "y"
        },
        {
         "hoverinfo": "text",
         "marker": {
          "color": "rgb(0,116,217)"
         },
         "mode": "lines",
         "type": "scatter",
         "x": [
          0,
          1.395941753535078,
          1.395941753535078,
          1.32910929993408
         ],
         "xaxis": "x",
         "y": [
          -1105,
          -1105,
          -1120,
          -1120
         ],
         "yaxis": "y"
        },
        {
         "hoverinfo": "text",
         "marker": {
          "color": "rgb(0,116,217)"
         },
         "mode": "lines",
         "type": "scatter",
         "x": [
          1.335357371128341,
          1.409335978077226,
          1.409335978077226,
          1.395941753535078
         ],
         "xaxis": "x",
         "y": [
          -1090,
          -1090,
          -1112.5,
          -1112.5
         ],
         "yaxis": "y"
        },
        {
         "hoverinfo": "text",
         "marker": {
          "color": "rgb(0,116,217)"
         },
         "mode": "lines",
         "type": "scatter",
         "x": [
          0,
          1.345800801885955,
          1.345800801885955,
          0
         ],
         "xaxis": "x",
         "y": [
          -1135,
          -1135,
          -1145,
          -1145
         ],
         "yaxis": "y"
        },
        {
         "hoverinfo": "text",
         "marker": {
          "color": "rgb(0,116,217)"
         },
         "mode": "lines",
         "type": "scatter",
         "x": [
          0,
          1.3433493183904852,
          1.3433493183904852,
          0
         ],
         "xaxis": "x",
         "y": [
          -1155,
          -1155,
          -1165,
          -1165
         ],
         "yaxis": "y"
        },
        {
         "hoverinfo": "text",
         "marker": {
          "color": "rgb(35,205,205)"
         },
         "mode": "lines",
         "type": "scatter",
         "x": [
          0,
          0.14628756927165742,
          0.14628756927165742,
          0
         ],
         "xaxis": "x",
         "y": [
          -1185,
          -1185,
          -1195,
          -1195
         ],
         "yaxis": "y"
        },
        {
         "hoverinfo": "text",
         "marker": {
          "color": "rgb(0,116,217)"
         },
         "mode": "lines",
         "type": "scatter",
         "x": [
          0,
          1.3624350687300817,
          1.3624350687300817,
          0.14628756927165742
         ],
         "xaxis": "x",
         "y": [
          -1175,
          -1175,
          -1190,
          -1190
         ],
         "yaxis": "y"
        },
        {
         "hoverinfo": "text",
         "marker": {
          "color": "rgb(0,116,217)"
         },
         "mode": "lines",
         "type": "scatter",
         "x": [
          1.3433493183904852,
          1.4095649843896245,
          1.4095649843896245,
          1.3624350687300817
         ],
         "xaxis": "x",
         "y": [
          -1160,
          -1160,
          -1182.5,
          -1182.5
         ],
         "yaxis": "y"
        },
        {
         "hoverinfo": "text",
         "marker": {
          "color": "rgb(0,116,217)"
         },
         "mode": "lines",
         "type": "scatter",
         "x": [
          1.345800801885955,
          1.4135101488377475,
          1.4135101488377475,
          1.4095649843896245
         ],
         "xaxis": "x",
         "y": [
          -1140,
          -1140,
          -1171.25,
          -1171.25
         ],
         "yaxis": "y"
        },
        {
         "hoverinfo": "text",
         "marker": {
          "color": "rgb(0,116,217)"
         },
         "mode": "lines",
         "type": "scatter",
         "x": [
          1.409335978077226,
          1.4172890758602228,
          1.4172890758602228,
          1.4135101488377475
         ],
         "xaxis": "x",
         "y": [
          -1101.25,
          -1101.25,
          -1155.625,
          -1155.625
         ],
         "yaxis": "y"
        },
        {
         "hoverinfo": "text",
         "marker": {
          "color": "rgb(0,116,217)"
         },
         "mode": "lines",
         "type": "scatter",
         "x": [
          0,
          1.3130673752382378,
          1.3130673752382378,
          0
         ],
         "xaxis": "x",
         "y": [
          -1205,
          -1205,
          -1215,
          -1215
         ],
         "yaxis": "y"
        },
        {
         "hoverinfo": "text",
         "marker": {
          "color": "rgb(0,116,217)"
         },
         "mode": "lines",
         "type": "scatter",
         "x": [
          0,
          1.3837873260871947,
          1.3837873260871947,
          0
         ],
         "xaxis": "x",
         "y": [
          -1225,
          -1225,
          -1235,
          -1235
         ],
         "yaxis": "y"
        },
        {
         "hoverinfo": "text",
         "marker": {
          "color": "rgb(0,116,217)"
         },
         "mode": "lines",
         "type": "scatter",
         "x": [
          1.3130673752382378,
          1.4087180575152116,
          1.4087180575152116,
          1.3837873260871947
         ],
         "xaxis": "x",
         "y": [
          -1210,
          -1210,
          -1230,
          -1230
         ],
         "yaxis": "y"
        },
        {
         "hoverinfo": "text",
         "marker": {
          "color": "rgb(0,116,217)"
         },
         "mode": "lines",
         "type": "scatter",
         "x": [
          0,
          1.369147783455808,
          1.369147783455808,
          0
         ],
         "xaxis": "x",
         "y": [
          -1245,
          -1245,
          -1255,
          -1255
         ],
         "yaxis": "y"
        },
        {
         "hoverinfo": "text",
         "marker": {
          "color": "rgb(0,116,217)"
         },
         "mode": "lines",
         "type": "scatter",
         "x": [
          0,
          1.3946493214175366,
          1.3946493214175366,
          0
         ],
         "xaxis": "x",
         "y": [
          -1265,
          -1265,
          -1275,
          -1275
         ],
         "yaxis": "y"
        },
        {
         "hoverinfo": "text",
         "marker": {
          "color": "rgb(0,116,217)"
         },
         "mode": "lines",
         "type": "scatter",
         "x": [
          1.369147783455808,
          1.409503156179114,
          1.409503156179114,
          1.3946493214175366
         ],
         "xaxis": "x",
         "y": [
          -1250,
          -1250,
          -1270,
          -1270
         ],
         "yaxis": "y"
        },
        {
         "hoverinfo": "text",
         "marker": {
          "color": "rgb(0,116,217)"
         },
         "mode": "lines",
         "type": "scatter",
         "x": [
          1.4087180575152116,
          1.4183923075098082,
          1.4183923075098082,
          1.409503156179114
         ],
         "xaxis": "x",
         "y": [
          -1220,
          -1220,
          -1260,
          -1260
         ],
         "yaxis": "y"
        },
        {
         "hoverinfo": "text",
         "marker": {
          "color": "rgb(0,116,217)"
         },
         "mode": "lines",
         "type": "scatter",
         "x": [
          1.4172890758602228,
          1.421628607708253,
          1.421628607708253,
          1.4183923075098082
         ],
         "xaxis": "x",
         "y": [
          -1128.4375,
          -1128.4375,
          -1240,
          -1240
         ],
         "yaxis": "y"
        },
        {
         "hoverinfo": "text",
         "marker": {
          "color": "rgb(0,116,217)"
         },
         "mode": "lines",
         "type": "scatter",
         "x": [
          0,
          1.3215541428702078,
          1.3215541428702078,
          0
         ],
         "xaxis": "x",
         "y": [
          -1285,
          -1285,
          -1295,
          -1295
         ],
         "yaxis": "y"
        },
        {
         "hoverinfo": "text",
         "marker": {
          "color": "rgb(0,116,217)"
         },
         "mode": "lines",
         "type": "scatter",
         "x": [
          0,
          1.3459885951712953,
          1.3459885951712953,
          0
         ],
         "xaxis": "x",
         "y": [
          -1315,
          -1315,
          -1325,
          -1325
         ],
         "yaxis": "y"
        },
        {
         "hoverinfo": "text",
         "marker": {
          "color": "rgb(0,116,217)"
         },
         "mode": "lines",
         "type": "scatter",
         "x": [
          0,
          1.3780855962313248,
          1.3780855962313248,
          1.3459885951712953
         ],
         "xaxis": "x",
         "y": [
          -1305,
          -1305,
          -1320,
          -1320
         ],
         "yaxis": "y"
        },
        {
         "hoverinfo": "text",
         "marker": {
          "color": "rgb(0,116,217)"
         },
         "mode": "lines",
         "type": "scatter",
         "x": [
          1.3215541428702078,
          1.4025240431543005,
          1.4025240431543005,
          1.3780855962313248
         ],
         "xaxis": "x",
         "y": [
          -1290,
          -1290,
          -1312.5,
          -1312.5
         ],
         "yaxis": "y"
        },
        {
         "hoverinfo": "text",
         "marker": {
          "color": "rgb(0,116,217)"
         },
         "mode": "lines",
         "type": "scatter",
         "x": [
          0,
          1.3693070403906313,
          1.3693070403906313,
          0
         ],
         "xaxis": "x",
         "y": [
          -1335,
          -1335,
          -1345,
          -1345
         ],
         "yaxis": "y"
        },
        {
         "hoverinfo": "text",
         "marker": {
          "color": "rgb(0,116,217)"
         },
         "mode": "lines",
         "type": "scatter",
         "x": [
          0,
          1.3615723460408198,
          1.3615723460408198,
          0
         ],
         "xaxis": "x",
         "y": [
          -1365,
          -1365,
          -1375,
          -1375
         ],
         "yaxis": "y"
        },
        {
         "hoverinfo": "text",
         "marker": {
          "color": "rgb(0,116,217)"
         },
         "mode": "lines",
         "type": "scatter",
         "x": [
          0,
          1.3899708819617778,
          1.3899708819617778,
          1.3615723460408198
         ],
         "xaxis": "x",
         "y": [
          -1355,
          -1355,
          -1370,
          -1370
         ],
         "yaxis": "y"
        },
        {
         "hoverinfo": "text",
         "marker": {
          "color": "rgb(0,116,217)"
         },
         "mode": "lines",
         "type": "scatter",
         "x": [
          1.3693070403906313,
          1.4082052706055344,
          1.4082052706055344,
          1.3899708819617778
         ],
         "xaxis": "x",
         "y": [
          -1340,
          -1340,
          -1362.5,
          -1362.5
         ],
         "yaxis": "y"
        },
        {
         "hoverinfo": "text",
         "marker": {
          "color": "rgb(0,116,217)"
         },
         "mode": "lines",
         "type": "scatter",
         "x": [
          0,
          1.318153511377454,
          1.318153511377454,
          0
         ],
         "xaxis": "x",
         "y": [
          -1395,
          -1395,
          -1405,
          -1405
         ],
         "yaxis": "y"
        },
        {
         "hoverinfo": "text",
         "marker": {
          "color": "rgb(0,116,217)"
         },
         "mode": "lines",
         "type": "scatter",
         "x": [
          0,
          1.38300457709518,
          1.38300457709518,
          1.318153511377454
         ],
         "xaxis": "x",
         "y": [
          -1385,
          -1385,
          -1400,
          -1400
         ],
         "yaxis": "y"
        },
        {
         "hoverinfo": "text",
         "marker": {
          "color": "rgb(0,116,217)"
         },
         "mode": "lines",
         "type": "scatter",
         "x": [
          0,
          1.3891642663952177,
          1.3891642663952177,
          0
         ],
         "xaxis": "x",
         "y": [
          -1425,
          -1425,
          -1435,
          -1435
         ],
         "yaxis": "y"
        },
        {
         "hoverinfo": "text",
         "marker": {
          "color": "rgb(0,116,217)"
         },
         "mode": "lines",
         "type": "scatter",
         "x": [
          0,
          1.4029000146557746,
          1.4029000146557746,
          1.3891642663952177
         ],
         "xaxis": "x",
         "y": [
          -1415,
          -1415,
          -1430,
          -1430
         ],
         "yaxis": "y"
        },
        {
         "hoverinfo": "text",
         "marker": {
          "color": "rgb(0,116,217)"
         },
         "mode": "lines",
         "type": "scatter",
         "x": [
          1.38300457709518,
          1.4123523522097474,
          1.4123523522097474,
          1.4029000146557746
         ],
         "xaxis": "x",
         "y": [
          -1392.5,
          -1392.5,
          -1422.5,
          -1422.5
         ],
         "yaxis": "y"
        },
        {
         "hoverinfo": "text",
         "marker": {
          "color": "rgb(0,116,217)"
         },
         "mode": "lines",
         "type": "scatter",
         "x": [
          1.4082052706055344,
          1.4172855387299907,
          1.4172855387299907,
          1.4123523522097474
         ],
         "xaxis": "x",
         "y": [
          -1351.25,
          -1351.25,
          -1407.5,
          -1407.5
         ],
         "yaxis": "y"
        },
        {
         "hoverinfo": "text",
         "marker": {
          "color": "rgb(0,116,217)"
         },
         "mode": "lines",
         "type": "scatter",
         "x": [
          1.4025240431543005,
          1.4218302981306963,
          1.4218302981306963,
          1.4172855387299907
         ],
         "xaxis": "x",
         "y": [
          -1301.25,
          -1301.25,
          -1379.375,
          -1379.375
         ],
         "yaxis": "y"
        },
        {
         "hoverinfo": "text",
         "marker": {
          "color": "rgb(0,116,217)"
         },
         "mode": "lines",
         "type": "scatter",
         "x": [
          1.421628607708253,
          1.426220391021583,
          1.426220391021583,
          1.4218302981306963
         ],
         "xaxis": "x",
         "y": [
          -1184.21875,
          -1184.21875,
          -1340.3125,
          -1340.3125
         ],
         "yaxis": "y"
        },
        {
         "hoverinfo": "text",
         "marker": {
          "color": "rgb(0,116,217)"
         },
         "mode": "lines",
         "type": "scatter",
         "x": [
          0,
          1.3911734276974614,
          1.3911734276974614,
          0
         ],
         "xaxis": "x",
         "y": [
          -1445,
          -1445,
          -1455,
          -1455
         ],
         "yaxis": "y"
        },
        {
         "hoverinfo": "text",
         "marker": {
          "color": "rgb(0,116,217)"
         },
         "mode": "lines",
         "type": "scatter",
         "x": [
          0,
          1.1679811632703048,
          1.1679811632703048,
          0
         ],
         "xaxis": "x",
         "y": [
          -1485,
          -1485,
          -1495,
          -1495
         ],
         "yaxis": "y"
        },
        {
         "hoverinfo": "text",
         "marker": {
          "color": "rgb(0,116,217)"
         },
         "mode": "lines",
         "type": "scatter",
         "x": [
          0,
          1.3820936430109492,
          1.3820936430109492,
          1.1679811632703048
         ],
         "xaxis": "x",
         "y": [
          -1475,
          -1475,
          -1490,
          -1490
         ],
         "yaxis": "y"
        },
        {
         "hoverinfo": "text",
         "marker": {
          "color": "rgb(0,116,217)"
         },
         "mode": "lines",
         "type": "scatter",
         "x": [
          0,
          1.4114564243318297,
          1.4114564243318297,
          1.3820936430109492
         ],
         "xaxis": "x",
         "y": [
          -1465,
          -1465,
          -1482.5,
          -1482.5
         ],
         "yaxis": "y"
        },
        {
         "hoverinfo": "text",
         "marker": {
          "color": "rgb(0,116,217)"
         },
         "mode": "lines",
         "type": "scatter",
         "x": [
          1.3911734276974614,
          1.4123489532327924,
          1.4123489532327924,
          1.4114564243318297
         ],
         "xaxis": "x",
         "y": [
          -1450,
          -1450,
          -1473.75,
          -1473.75
         ],
         "yaxis": "y"
        },
        {
         "hoverinfo": "text",
         "marker": {
          "color": "rgb(0,116,217)"
         },
         "mode": "lines",
         "type": "scatter",
         "x": [
          0,
          1.374781753831305,
          1.374781753831305,
          0
         ],
         "xaxis": "x",
         "y": [
          -1505,
          -1505,
          -1515,
          -1515
         ],
         "yaxis": "y"
        },
        {
         "hoverinfo": "text",
         "marker": {
          "color": "rgb(0,116,217)"
         },
         "mode": "lines",
         "type": "scatter",
         "x": [
          0,
          1.3161055239339916,
          1.3161055239339916,
          0
         ],
         "xaxis": "x",
         "y": [
          -1525,
          -1525,
          -1535,
          -1535
         ],
         "yaxis": "y"
        },
        {
         "hoverinfo": "text",
         "marker": {
          "color": "rgb(0,116,217)"
         },
         "mode": "lines",
         "type": "scatter",
         "x": [
          0,
          1.3928725665170418,
          1.3928725665170418,
          0
         ],
         "xaxis": "x",
         "y": [
          -1545,
          -1545,
          -1555,
          -1555
         ],
         "yaxis": "y"
        },
        {
         "hoverinfo": "text",
         "marker": {
          "color": "rgb(0,116,217)"
         },
         "mode": "lines",
         "type": "scatter",
         "x": [
          1.3161055239339916,
          1.4089212788711478,
          1.4089212788711478,
          1.3928725665170418
         ],
         "xaxis": "x",
         "y": [
          -1530,
          -1530,
          -1550,
          -1550
         ],
         "yaxis": "y"
        },
        {
         "hoverinfo": "text",
         "marker": {
          "color": "rgb(0,116,217)"
         },
         "mode": "lines",
         "type": "scatter",
         "x": [
          1.374781753831305,
          1.413183856961235,
          1.413183856961235,
          1.4089212788711478
         ],
         "xaxis": "x",
         "y": [
          -1510,
          -1510,
          -1540,
          -1540
         ],
         "yaxis": "y"
        },
        {
         "hoverinfo": "text",
         "marker": {
          "color": "rgb(0,116,217)"
         },
         "mode": "lines",
         "type": "scatter",
         "x": [
          1.4123489532327924,
          1.417086892946467,
          1.417086892946467,
          1.413183856961235
         ],
         "xaxis": "x",
         "y": [
          -1461.875,
          -1461.875,
          -1525,
          -1525
         ],
         "yaxis": "y"
        },
        {
         "hoverinfo": "text",
         "marker": {
          "color": "rgb(0,116,217)"
         },
         "mode": "lines",
         "type": "scatter",
         "x": [
          0,
          1.2713583033109972,
          1.2713583033109972,
          0
         ],
         "xaxis": "x",
         "y": [
          -1565,
          -1565,
          -1575,
          -1575
         ],
         "yaxis": "y"
        },
        {
         "hoverinfo": "text",
         "marker": {
          "color": "rgb(0,116,217)"
         },
         "mode": "lines",
         "type": "scatter",
         "x": [
          0,
          1.363486258423128,
          1.363486258423128,
          0
         ],
         "xaxis": "x",
         "y": [
          -1585,
          -1585,
          -1595,
          -1595
         ],
         "yaxis": "y"
        },
        {
         "hoverinfo": "text",
         "marker": {
          "color": "rgb(0,116,217)"
         },
         "mode": "lines",
         "type": "scatter",
         "x": [
          1.2713583033109972,
          1.406516715992119,
          1.406516715992119,
          1.363486258423128
         ],
         "xaxis": "x",
         "y": [
          -1570,
          -1570,
          -1590,
          -1590
         ],
         "yaxis": "y"
        },
        {
         "hoverinfo": "text",
         "marker": {
          "color": "rgb(0,116,217)"
         },
         "mode": "lines",
         "type": "scatter",
         "x": [
          0,
          1.3249302033517685,
          1.3249302033517685,
          0
         ],
         "xaxis": "x",
         "y": [
          -1605,
          -1605,
          -1615,
          -1615
         ],
         "yaxis": "y"
        },
        {
         "hoverinfo": "text",
         "marker": {
          "color": "rgb(0,116,217)"
         },
         "mode": "lines",
         "type": "scatter",
         "x": [
          0,
          1.3333442758832939,
          1.3333442758832939,
          0
         ],
         "xaxis": "x",
         "y": [
          -1625,
          -1625,
          -1635,
          -1635
         ],
         "yaxis": "y"
        },
        {
         "hoverinfo": "text",
         "marker": {
          "color": "rgb(0,116,217)"
         },
         "mode": "lines",
         "type": "scatter",
         "x": [
          1.3249302033517685,
          1.3951705875236344,
          1.3951705875236344,
          1.3333442758832939
         ],
         "xaxis": "x",
         "y": [
          -1610,
          -1610,
          -1630,
          -1630
         ],
         "yaxis": "y"
        },
        {
         "hoverinfo": "text",
         "marker": {
          "color": "rgb(0,116,217)"
         },
         "mode": "lines",
         "type": "scatter",
         "x": [
          0,
          1.3667936839011743,
          1.3667936839011743,
          0
         ],
         "xaxis": "x",
         "y": [
          -1645,
          -1645,
          -1655,
          -1655
         ],
         "yaxis": "y"
        },
        {
         "hoverinfo": "text",
         "marker": {
          "color": "rgb(0,116,217)"
         },
         "mode": "lines",
         "type": "scatter",
         "x": [
          0,
          1.3941471529340173,
          1.3941471529340173,
          0
         ],
         "xaxis": "x",
         "y": [
          -1665,
          -1665,
          -1675,
          -1675
         ],
         "yaxis": "y"
        },
        {
         "hoverinfo": "text",
         "marker": {
          "color": "rgb(0,116,217)"
         },
         "mode": "lines",
         "type": "scatter",
         "x": [
          1.3667936839011743,
          1.4119975679311287,
          1.4119975679311287,
          1.3941471529340173
         ],
         "xaxis": "x",
         "y": [
          -1650,
          -1650,
          -1670,
          -1670
         ],
         "yaxis": "y"
        },
        {
         "hoverinfo": "text",
         "marker": {
          "color": "rgb(0,116,217)"
         },
         "mode": "lines",
         "type": "scatter",
         "x": [
          1.3951705875236344,
          1.4164116165288567,
          1.4164116165288567,
          1.4119975679311287
         ],
         "xaxis": "x",
         "y": [
          -1620,
          -1620,
          -1660,
          -1660
         ],
         "yaxis": "y"
        },
        {
         "hoverinfo": "text",
         "marker": {
          "color": "rgb(0,116,217)"
         },
         "mode": "lines",
         "type": "scatter",
         "x": [
          1.406516715992119,
          1.4174864971313534,
          1.4174864971313534,
          1.4164116165288567
         ],
         "xaxis": "x",
         "y": [
          -1580,
          -1580,
          -1640,
          -1640
         ],
         "yaxis": "y"
        },
        {
         "hoverinfo": "text",
         "marker": {
          "color": "rgb(0,116,217)"
         },
         "mode": "lines",
         "type": "scatter",
         "x": [
          1.417086892946467,
          1.4227997600787772,
          1.4227997600787772,
          1.4174864971313534
         ],
         "xaxis": "x",
         "y": [
          -1493.4375,
          -1493.4375,
          -1610,
          -1610
         ],
         "yaxis": "y"
        },
        {
         "hoverinfo": "text",
         "marker": {
          "color": "rgb(0,116,217)"
         },
         "mode": "lines",
         "type": "scatter",
         "x": [
          0,
          1.3134293296917086,
          1.3134293296917086,
          0
         ],
         "xaxis": "x",
         "y": [
          -1685,
          -1685,
          -1695,
          -1695
         ],
         "yaxis": "y"
        },
        {
         "hoverinfo": "text",
         "marker": {
          "color": "rgb(0,116,217)"
         },
         "mode": "lines",
         "type": "scatter",
         "x": [
          0,
          1.3472738995384497,
          1.3472738995384497,
          0
         ],
         "xaxis": "x",
         "y": [
          -1705,
          -1705,
          -1715,
          -1715
         ],
         "yaxis": "y"
        },
        {
         "hoverinfo": "text",
         "marker": {
          "color": "rgb(0,116,217)"
         },
         "mode": "lines",
         "type": "scatter",
         "x": [
          1.3134293296917086,
          1.404589783223668,
          1.404589783223668,
          1.3472738995384497
         ],
         "xaxis": "x",
         "y": [
          -1690,
          -1690,
          -1710,
          -1710
         ],
         "yaxis": "y"
        },
        {
         "hoverinfo": "text",
         "marker": {
          "color": "rgb(0,116,217)"
         },
         "mode": "lines",
         "type": "scatter",
         "x": [
          0,
          1.3573730651591445,
          1.3573730651591445,
          0
         ],
         "xaxis": "x",
         "y": [
          -1725,
          -1725,
          -1735,
          -1735
         ],
         "yaxis": "y"
        },
        {
         "hoverinfo": "text",
         "marker": {
          "color": "rgb(133,20,75)"
         },
         "mode": "lines",
         "type": "scatter",
         "x": [
          0,
          0.3814902943054075,
          0.3814902943054075,
          0
         ],
         "xaxis": "x",
         "y": [
          -1745,
          -1745,
          -1755,
          -1755
         ],
         "yaxis": "y"
        },
        {
         "hoverinfo": "text",
         "marker": {
          "color": "rgb(0,116,217)"
         },
         "mode": "lines",
         "type": "scatter",
         "x": [
          0,
          1.3332233366892288,
          1.3332233366892288,
          0
         ],
         "xaxis": "x",
         "y": [
          -1765,
          -1765,
          -1775,
          -1775
         ],
         "yaxis": "y"
        },
        {
         "hoverinfo": "text",
         "marker": {
          "color": "rgb(0,116,217)"
         },
         "mode": "lines",
         "type": "scatter",
         "x": [
          0.3814902943054075,
          1.4139910729453624,
          1.4139910729453624,
          1.3332233366892288
         ],
         "xaxis": "x",
         "y": [
          -1750,
          -1750,
          -1770,
          -1770
         ],
         "yaxis": "y"
        },
        {
         "hoverinfo": "text",
         "marker": {
          "color": "rgb(0,116,217)"
         },
         "mode": "lines",
         "type": "scatter",
         "x": [
          1.3573730651591445,
          1.4157566084761954,
          1.4157566084761954,
          1.4139910729453624
         ],
         "xaxis": "x",
         "y": [
          -1730,
          -1730,
          -1760,
          -1760
         ],
         "yaxis": "y"
        },
        {
         "hoverinfo": "text",
         "marker": {
          "color": "rgb(0,116,217)"
         },
         "mode": "lines",
         "type": "scatter",
         "x": [
          1.404589783223668,
          1.4170418890638303,
          1.4170418890638303,
          1.4157566084761954
         ],
         "xaxis": "x",
         "y": [
          -1700,
          -1700,
          -1745,
          -1745
         ],
         "yaxis": "y"
        },
        {
         "hoverinfo": "text",
         "marker": {
          "color": "rgb(0,116,217)"
         },
         "mode": "lines",
         "type": "scatter",
         "x": [
          0,
          1.3033761149621927,
          1.3033761149621927,
          0
         ],
         "xaxis": "x",
         "y": [
          -1795,
          -1795,
          -1805,
          -1805
         ],
         "yaxis": "y"
        },
        {
         "hoverinfo": "text",
         "marker": {
          "color": "rgb(0,116,217)"
         },
         "mode": "lines",
         "type": "scatter",
         "x": [
          0,
          1.384820683488461,
          1.384820683488461,
          1.3033761149621927
         ],
         "xaxis": "x",
         "y": [
          -1785,
          -1785,
          -1800,
          -1800
         ],
         "yaxis": "y"
        },
        {
         "hoverinfo": "text",
         "marker": {
          "color": "rgb(0,116,217)"
         },
         "mode": "lines",
         "type": "scatter",
         "x": [
          0,
          1.3783428679558052,
          1.3783428679558052,
          0
         ],
         "xaxis": "x",
         "y": [
          -1815,
          -1815,
          -1825,
          -1825
         ],
         "yaxis": "y"
        },
        {
         "hoverinfo": "text",
         "marker": {
          "color": "rgb(0,116,217)"
         },
         "mode": "lines",
         "type": "scatter",
         "x": [
          0,
          1.345495534972895,
          1.345495534972895,
          0
         ],
         "xaxis": "x",
         "y": [
          -1845,
          -1845,
          -1855,
          -1855
         ],
         "yaxis": "y"
        },
        {
         "hoverinfo": "text",
         "marker": {
          "color": "rgb(0,116,217)"
         },
         "mode": "lines",
         "type": "scatter",
         "x": [
          0,
          1.38559402988379,
          1.38559402988379,
          1.345495534972895
         ],
         "xaxis": "x",
         "y": [
          -1835,
          -1835,
          -1850,
          -1850
         ],
         "yaxis": "y"
        },
        {
         "hoverinfo": "text",
         "marker": {
          "color": "rgb(0,116,217)"
         },
         "mode": "lines",
         "type": "scatter",
         "x": [
          1.3783428679558052,
          1.4070432520839993,
          1.4070432520839993,
          1.38559402988379
         ],
         "xaxis": "x",
         "y": [
          -1820,
          -1820,
          -1842.5,
          -1842.5
         ],
         "yaxis": "y"
        },
        {
         "hoverinfo": "text",
         "marker": {
          "color": "rgb(0,116,217)"
         },
         "mode": "lines",
         "type": "scatter",
         "x": [
          1.384820683488461,
          1.4149363517194427,
          1.4149363517194427,
          1.4070432520839993
         ],
         "xaxis": "x",
         "y": [
          -1792.5,
          -1792.5,
          -1831.25,
          -1831.25
         ],
         "yaxis": "y"
        },
        {
         "hoverinfo": "text",
         "marker": {
          "color": "rgb(0,116,217)"
         },
         "mode": "lines",
         "type": "scatter",
         "x": [
          0,
          1.2881615283542238,
          1.2881615283542238,
          0
         ],
         "xaxis": "x",
         "y": [
          -1875,
          -1875,
          -1885,
          -1885
         ],
         "yaxis": "y"
        },
        {
         "hoverinfo": "text",
         "marker": {
          "color": "rgb(0,116,217)"
         },
         "mode": "lines",
         "type": "scatter",
         "x": [
          0,
          1.3419309838170834,
          1.3419309838170834,
          1.2881615283542238
         ],
         "xaxis": "x",
         "y": [
          -1865,
          -1865,
          -1880,
          -1880
         ],
         "yaxis": "y"
        },
        {
         "hoverinfo": "text",
         "marker": {
          "color": "rgb(0,116,217)"
         },
         "mode": "lines",
         "type": "scatter",
         "x": [
          0,
          1.2934196119109795,
          1.2934196119109795,
          0
         ],
         "xaxis": "x",
         "y": [
          -1895,
          -1895,
          -1905,
          -1905
         ],
         "yaxis": "y"
        },
        {
         "hoverinfo": "text",
         "marker": {
          "color": "rgb(0,116,217)"
         },
         "mode": "lines",
         "type": "scatter",
         "x": [
          0,
          1.3686942418701211,
          1.3686942418701211,
          0
         ],
         "xaxis": "x",
         "y": [
          -1915,
          -1915,
          -1925,
          -1925
         ],
         "yaxis": "y"
        },
        {
         "hoverinfo": "text",
         "marker": {
          "color": "rgb(0,116,217)"
         },
         "mode": "lines",
         "type": "scatter",
         "x": [
          1.2934196119109795,
          1.4043517668851462,
          1.4043517668851462,
          1.3686942418701211
         ],
         "xaxis": "x",
         "y": [
          -1900,
          -1900,
          -1920,
          -1920
         ],
         "yaxis": "y"
        },
        {
         "hoverinfo": "text",
         "marker": {
          "color": "rgb(0,116,217)"
         },
         "mode": "lines",
         "type": "scatter",
         "x": [
          1.3419309838170834,
          1.415804317376861,
          1.415804317376861,
          1.4043517668851462
         ],
         "xaxis": "x",
         "y": [
          -1872.5,
          -1872.5,
          -1910,
          -1910
         ],
         "yaxis": "y"
        },
        {
         "hoverinfo": "text",
         "marker": {
          "color": "rgb(0,116,217)"
         },
         "mode": "lines",
         "type": "scatter",
         "x": [
          1.4149363517194427,
          1.419224463940093,
          1.419224463940093,
          1.415804317376861
         ],
         "xaxis": "x",
         "y": [
          -1811.875,
          -1811.875,
          -1891.25,
          -1891.25
         ],
         "yaxis": "y"
        },
        {
         "hoverinfo": "text",
         "marker": {
          "color": "rgb(0,116,217)"
         },
         "mode": "lines",
         "type": "scatter",
         "x": [
          1.4170418890638303,
          1.4217344675612649,
          1.4217344675612649,
          1.419224463940093
         ],
         "xaxis": "x",
         "y": [
          -1722.5,
          -1722.5,
          -1851.5625,
          -1851.5625
         ],
         "yaxis": "y"
        },
        {
         "hoverinfo": "text",
         "marker": {
          "color": "rgb(0,116,217)"
         },
         "mode": "lines",
         "type": "scatter",
         "x": [
          0,
          1.2817297214026413,
          1.2817297214026413,
          0
         ],
         "xaxis": "x",
         "y": [
          -1935,
          -1935,
          -1945,
          -1945
         ],
         "yaxis": "y"
        },
        {
         "hoverinfo": "text",
         "marker": {
          "color": "rgb(0,116,217)"
         },
         "mode": "lines",
         "type": "scatter",
         "x": [
          0,
          1.351944176265688,
          1.351944176265688,
          0
         ],
         "xaxis": "x",
         "y": [
          -1955,
          -1955,
          -1965,
          -1965
         ],
         "yaxis": "y"
        },
        {
         "hoverinfo": "text",
         "marker": {
          "color": "rgb(0,116,217)"
         },
         "mode": "lines",
         "type": "scatter",
         "x": [
          1.2817297214026413,
          1.4049707005134018,
          1.4049707005134018,
          1.351944176265688
         ],
         "xaxis": "x",
         "y": [
          -1940,
          -1940,
          -1960,
          -1960
         ],
         "yaxis": "y"
        },
        {
         "hoverinfo": "text",
         "marker": {
          "color": "rgb(0,116,217)"
         },
         "mode": "lines",
         "type": "scatter",
         "x": [
          0,
          1.394947076247008,
          1.394947076247008,
          0
         ],
         "xaxis": "x",
         "y": [
          -1975,
          -1975,
          -1985,
          -1985
         ],
         "yaxis": "y"
        },
        {
         "hoverinfo": "text",
         "marker": {
          "color": "rgb(0,116,217)"
         },
         "mode": "lines",
         "type": "scatter",
         "x": [
          0,
          1.3723865538329856,
          1.3723865538329856,
          0
         ],
         "xaxis": "x",
         "y": [
          -2005,
          -2005,
          -2015,
          -2015
         ],
         "yaxis": "y"
        },
        {
         "hoverinfo": "text",
         "marker": {
          "color": "rgb(0,116,217)"
         },
         "mode": "lines",
         "type": "scatter",
         "x": [
          0,
          1.3991506739483732,
          1.3991506739483732,
          1.3723865538329856
         ],
         "xaxis": "x",
         "y": [
          -1995,
          -1995,
          -2010,
          -2010
         ],
         "yaxis": "y"
        },
        {
         "hoverinfo": "text",
         "marker": {
          "color": "rgb(0,116,217)"
         },
         "mode": "lines",
         "type": "scatter",
         "x": [
          1.394947076247008,
          1.4120469586472097,
          1.4120469586472097,
          1.3991506739483732
         ],
         "xaxis": "x",
         "y": [
          -1980,
          -1980,
          -2002.5,
          -2002.5
         ],
         "yaxis": "y"
        },
        {
         "hoverinfo": "text",
         "marker": {
          "color": "rgb(0,116,217)"
         },
         "mode": "lines",
         "type": "scatter",
         "x": [
          0,
          1.3651662883471545,
          1.3651662883471545,
          0
         ],
         "xaxis": "x",
         "y": [
          -2025,
          -2025,
          -2035,
          -2035
         ],
         "yaxis": "y"
        },
        {
         "hoverinfo": "text",
         "marker": {
          "color": "rgb(0,116,217)"
         },
         "mode": "lines",
         "type": "scatter",
         "x": [
          0,
          1.3751883950392092,
          1.3751883950392092,
          0
         ],
         "xaxis": "x",
         "y": [
          -2045,
          -2045,
          -2055,
          -2055
         ],
         "yaxis": "y"
        },
        {
         "hoverinfo": "text",
         "marker": {
          "color": "rgb(0,116,217)"
         },
         "mode": "lines",
         "type": "scatter",
         "x": [
          1.3651662883471545,
          1.4128394097635057,
          1.4128394097635057,
          1.3751883950392092
         ],
         "xaxis": "x",
         "y": [
          -2030,
          -2030,
          -2050,
          -2050
         ],
         "yaxis": "y"
        },
        {
         "hoverinfo": "text",
         "marker": {
          "color": "rgb(0,116,217)"
         },
         "mode": "lines",
         "type": "scatter",
         "x": [
          1.4120469586472097,
          1.4155230188283596,
          1.4155230188283596,
          1.4128394097635057
         ],
         "xaxis": "x",
         "y": [
          -1991.25,
          -1991.25,
          -2040,
          -2040
         ],
         "yaxis": "y"
        },
        {
         "hoverinfo": "text",
         "marker": {
          "color": "rgb(0,116,217)"
         },
         "mode": "lines",
         "type": "scatter",
         "x": [
          1.4049707005134018,
          1.4180620169009006,
          1.4180620169009006,
          1.4155230188283596
         ],
         "xaxis": "x",
         "y": [
          -1950,
          -1950,
          -2015.625,
          -2015.625
         ],
         "yaxis": "y"
        },
        {
         "hoverinfo": "text",
         "marker": {
          "color": "rgb(0,116,217)"
         },
         "mode": "lines",
         "type": "scatter",
         "x": [
          0,
          1.294656090507293,
          1.294656090507293,
          0
         ],
         "xaxis": "x",
         "y": [
          -2075,
          -2075,
          -2085,
          -2085
         ],
         "yaxis": "y"
        },
        {
         "hoverinfo": "text",
         "marker": {
          "color": "rgb(0,116,217)"
         },
         "mode": "lines",
         "type": "scatter",
         "x": [
          0,
          1.399690942729556,
          1.399690942729556,
          1.294656090507293
         ],
         "xaxis": "x",
         "y": [
          -2065,
          -2065,
          -2080,
          -2080
         ],
         "yaxis": "y"
        },
        {
         "hoverinfo": "text",
         "marker": {
          "color": "rgb(0,116,217)"
         },
         "mode": "lines",
         "type": "scatter",
         "x": [
          0,
          1.3418915410934036,
          1.3418915410934036,
          0
         ],
         "xaxis": "x",
         "y": [
          -2095,
          -2095,
          -2105,
          -2105
         ],
         "yaxis": "y"
        },
        {
         "hoverinfo": "text",
         "marker": {
          "color": "rgb(0,116,217)"
         },
         "mode": "lines",
         "type": "scatter",
         "x": [
          0,
          1.3865421163087162,
          1.3865421163087162,
          0
         ],
         "xaxis": "x",
         "y": [
          -2115,
          -2115,
          -2125,
          -2125
         ],
         "yaxis": "y"
        },
        {
         "hoverinfo": "text",
         "marker": {
          "color": "rgb(0,116,217)"
         },
         "mode": "lines",
         "type": "scatter",
         "x": [
          1.3418915410934036,
          1.4084376625407624,
          1.4084376625407624,
          1.3865421163087162
         ],
         "xaxis": "x",
         "y": [
          -2100,
          -2100,
          -2120,
          -2120
         ],
         "yaxis": "y"
        },
        {
         "hoverinfo": "text",
         "marker": {
          "color": "rgb(0,116,217)"
         },
         "mode": "lines",
         "type": "scatter",
         "x": [
          1.399690942729556,
          1.4130791585508535,
          1.4130791585508535,
          1.4084376625407624
         ],
         "xaxis": "x",
         "y": [
          -2072.5,
          -2072.5,
          -2110,
          -2110
         ],
         "yaxis": "y"
        },
        {
         "hoverinfo": "text",
         "marker": {
          "color": "rgb(0,116,217)"
         },
         "mode": "lines",
         "type": "scatter",
         "x": [
          0,
          1.3432207608992388,
          1.3432207608992388,
          0
         ],
         "xaxis": "x",
         "y": [
          -2135,
          -2135,
          -2145,
          -2145
         ],
         "yaxis": "y"
        },
        {
         "hoverinfo": "text",
         "marker": {
          "color": "rgb(0,116,217)"
         },
         "mode": "lines",
         "type": "scatter",
         "x": [
          0,
          1.370407759939761,
          1.370407759939761,
          0
         ],
         "xaxis": "x",
         "y": [
          -2155,
          -2155,
          -2165,
          -2165
         ],
         "yaxis": "y"
        },
        {
         "hoverinfo": "text",
         "marker": {
          "color": "rgb(0,116,217)"
         },
         "mode": "lines",
         "type": "scatter",
         "x": [
          1.3432207608992388,
          1.4086289646947656,
          1.4086289646947656,
          1.370407759939761
         ],
         "xaxis": "x",
         "y": [
          -2140,
          -2140,
          -2160,
          -2160
         ],
         "yaxis": "y"
        },
        {
         "hoverinfo": "text",
         "marker": {
          "color": "rgb(0,116,217)"
         },
         "mode": "lines",
         "type": "scatter",
         "x": [
          0,
          1.3875912767678145,
          1.3875912767678145,
          0
         ],
         "xaxis": "x",
         "y": [
          -2175,
          -2175,
          -2185,
          -2185
         ],
         "yaxis": "y"
        },
        {
         "hoverinfo": "text",
         "marker": {
          "color": "rgb(255,220,0)"
         },
         "mode": "lines",
         "type": "scatter",
         "x": [
          0,
          0.6104369965298274,
          0.6104369965298274,
          0
         ],
         "xaxis": "x",
         "y": [
          -2195,
          -2195,
          -2205,
          -2205
         ],
         "yaxis": "y"
        },
        {
         "hoverinfo": "text",
         "marker": {
          "color": "rgb(0,116,217)"
         },
         "mode": "lines",
         "type": "scatter",
         "x": [
          0,
          1.3542520432483887,
          1.3542520432483887,
          0
         ],
         "xaxis": "x",
         "y": [
          -2215,
          -2215,
          -2225,
          -2225
         ],
         "yaxis": "y"
        },
        {
         "hoverinfo": "text",
         "marker": {
          "color": "rgb(0,116,217)"
         },
         "mode": "lines",
         "type": "scatter",
         "x": [
          0.6104369965298274,
          1.4044611356050969,
          1.4044611356050969,
          1.3542520432483887
         ],
         "xaxis": "x",
         "y": [
          -2200,
          -2200,
          -2220,
          -2220
         ],
         "yaxis": "y"
        },
        {
         "hoverinfo": "text",
         "marker": {
          "color": "rgb(0,116,217)"
         },
         "mode": "lines",
         "type": "scatter",
         "x": [
          1.3875912767678145,
          1.4121555390722664,
          1.4121555390722664,
          1.4044611356050969
         ],
         "xaxis": "x",
         "y": [
          -2180,
          -2180,
          -2210,
          -2210
         ],
         "yaxis": "y"
        },
        {
         "hoverinfo": "text",
         "marker": {
          "color": "rgb(0,116,217)"
         },
         "mode": "lines",
         "type": "scatter",
         "x": [
          1.4086289646947656,
          1.4157302032141517,
          1.4157302032141517,
          1.4121555390722664
         ],
         "xaxis": "x",
         "y": [
          -2150,
          -2150,
          -2195,
          -2195
         ],
         "yaxis": "y"
        },
        {
         "hoverinfo": "text",
         "marker": {
          "color": "rgb(0,116,217)"
         },
         "mode": "lines",
         "type": "scatter",
         "x": [
          1.4130791585508535,
          1.4196575740761992,
          1.4196575740761992,
          1.4157302032141517
         ],
         "xaxis": "x",
         "y": [
          -2091.25,
          -2091.25,
          -2172.5,
          -2172.5
         ],
         "yaxis": "y"
        },
        {
         "hoverinfo": "text",
         "marker": {
          "color": "rgb(0,116,217)"
         },
         "mode": "lines",
         "type": "scatter",
         "x": [
          1.4180620169009006,
          1.4239057219657696,
          1.4239057219657696,
          1.4196575740761992
         ],
         "xaxis": "x",
         "y": [
          -1982.8125,
          -1982.8125,
          -2131.875,
          -2131.875
         ],
         "yaxis": "y"
        },
        {
         "hoverinfo": "text",
         "marker": {
          "color": "rgb(0,116,217)"
         },
         "mode": "lines",
         "type": "scatter",
         "x": [
          1.4217344675612649,
          1.4266826727829978,
          1.4266826727829978,
          1.4239057219657696
         ],
         "xaxis": "x",
         "y": [
          -1787.03125,
          -1787.03125,
          -2057.34375,
          -2057.34375
         ],
         "yaxis": "y"
        },
        {
         "hoverinfo": "text",
         "marker": {
          "color": "rgb(0,116,217)"
         },
         "mode": "lines",
         "type": "scatter",
         "x": [
          1.4227997600787772,
          1.429414868176089,
          1.429414868176089,
          1.4266826727829978
         ],
         "xaxis": "x",
         "y": [
          -1551.71875,
          -1551.71875,
          -1922.1875,
          -1922.1875
         ],
         "yaxis": "y"
        },
        {
         "hoverinfo": "text",
         "marker": {
          "color": "rgb(0,116,217)"
         },
         "mode": "lines",
         "type": "scatter",
         "x": [
          1.426220391021583,
          1.436045833874229,
          1.436045833874229,
          1.429414868176089
         ],
         "xaxis": "x",
         "y": [
          -1262.265625,
          -1262.265625,
          -1736.953125,
          -1736.953125
         ],
         "yaxis": "y"
        },
        {
         "hoverinfo": "text",
         "marker": {
          "color": "rgb(0,116,217)"
         },
         "mode": "lines",
         "type": "scatter",
         "x": [
          1.4356915038766955,
          1.4421668980141784,
          1.4421668980141784,
          1.436045833874229
         ],
         "xaxis": "x",
         "y": [
          -398.564453125,
          -398.564453125,
          -1499.609375,
          -1499.609375
         ],
         "yaxis": "y"
        },
        {
         "hoverinfo": "text",
         "marker": {
          "color": "rgb(40,35,35)"
         },
         "mode": "lines",
         "type": "scatter",
         "x": [
          0,
          1.0018359386519458,
          1.0018359386519458,
          0
         ],
         "xaxis": "x",
         "y": [
          -2245,
          -2245,
          -2255,
          -2255
         ],
         "yaxis": "y"
        },
        {
         "hoverinfo": "text",
         "marker": {
          "color": "rgb(0,116,217)"
         },
         "mode": "lines",
         "type": "scatter",
         "x": [
          0,
          1.3277280476628628,
          1.3277280476628628,
          1.0018359386519458
         ],
         "xaxis": "x",
         "y": [
          -2235,
          -2235,
          -2250,
          -2250
         ],
         "yaxis": "y"
        },
        {
         "hoverinfo": "text",
         "marker": {
          "color": "rgb(0,116,217)"
         },
         "mode": "lines",
         "type": "scatter",
         "x": [
          0,
          1.3437896785125045,
          1.3437896785125045,
          0
         ],
         "xaxis": "x",
         "y": [
          -2265,
          -2265,
          -2275,
          -2275
         ],
         "yaxis": "y"
        },
        {
         "hoverinfo": "text",
         "marker": {
          "color": "rgb(0,116,217)"
         },
         "mode": "lines",
         "type": "scatter",
         "x": [
          0,
          1.3231471828238155,
          1.3231471828238155,
          0
         ],
         "xaxis": "x",
         "y": [
          -2295,
          -2295,
          -2305,
          -2305
         ],
         "yaxis": "y"
        },
        {
         "hoverinfo": "text",
         "marker": {
          "color": "rgb(0,116,217)"
         },
         "mode": "lines",
         "type": "scatter",
         "x": [
          0,
          1.36940593528317,
          1.36940593528317,
          1.3231471828238155
         ],
         "xaxis": "x",
         "y": [
          -2285,
          -2285,
          -2300,
          -2300
         ],
         "yaxis": "y"
        },
        {
         "hoverinfo": "text",
         "marker": {
          "color": "rgb(0,116,217)"
         },
         "mode": "lines",
         "type": "scatter",
         "x": [
          1.3437896785125045,
          1.3983940027969373,
          1.3983940027969373,
          1.36940593528317
         ],
         "xaxis": "x",
         "y": [
          -2270,
          -2270,
          -2292.5,
          -2292.5
         ],
         "yaxis": "y"
        },
        {
         "hoverinfo": "text",
         "marker": {
          "color": "rgb(0,116,217)"
         },
         "mode": "lines",
         "type": "scatter",
         "x": [
          1.3277280476628628,
          1.4172177616152597,
          1.4172177616152597,
          1.3983940027969373
         ],
         "xaxis": "x",
         "y": [
          -2242.5,
          -2242.5,
          -2281.25,
          -2281.25
         ],
         "yaxis": "y"
        },
        {
         "hoverinfo": "text",
         "marker": {
          "color": "rgb(0,116,217)"
         },
         "mode": "lines",
         "type": "scatter",
         "x": [
          0,
          1.3154473829828899,
          1.3154473829828899,
          0
         ],
         "xaxis": "x",
         "y": [
          -2325,
          -2325,
          -2335,
          -2335
         ],
         "yaxis": "y"
        },
        {
         "hoverinfo": "text",
         "marker": {
          "color": "rgb(0,116,217)"
         },
         "mode": "lines",
         "type": "scatter",
         "x": [
          0,
          1.3823832562078184,
          1.3823832562078184,
          1.3154473829828899
         ],
         "xaxis": "x",
         "y": [
          -2315,
          -2315,
          -2330,
          -2330
         ],
         "yaxis": "y"
        },
        {
         "hoverinfo": "text",
         "marker": {
          "color": "rgb(0,116,217)"
         },
         "mode": "lines",
         "type": "scatter",
         "x": [
          0,
          1.3885514027039507,
          1.3885514027039507,
          0
         ],
         "xaxis": "x",
         "y": [
          -2345,
          -2345,
          -2355,
          -2355
         ],
         "yaxis": "y"
        },
        {
         "hoverinfo": "text",
         "marker": {
          "color": "rgb(0,116,217)"
         },
         "mode": "lines",
         "type": "scatter",
         "x": [
          1.3823832562078184,
          1.4122782582900935,
          1.4122782582900935,
          1.3885514027039507
         ],
         "xaxis": "x",
         "y": [
          -2322.5,
          -2322.5,
          -2350,
          -2350
         ],
         "yaxis": "y"
        },
        {
         "hoverinfo": "text",
         "marker": {
          "color": "rgb(0,116,217)"
         },
         "mode": "lines",
         "type": "scatter",
         "x": [
          0,
          1.325677208921276,
          1.325677208921276,
          0
         ],
         "xaxis": "x",
         "y": [
          -2375,
          -2375,
          -2385,
          -2385
         ],
         "yaxis": "y"
        },
        {
         "hoverinfo": "text",
         "marker": {
          "color": "rgb(0,116,217)"
         },
         "mode": "lines",
         "type": "scatter",
         "x": [
          0,
          1.3530086055582593,
          1.3530086055582593,
          1.325677208921276
         ],
         "xaxis": "x",
         "y": [
          -2365,
          -2365,
          -2380,
          -2380
         ],
         "yaxis": "y"
        },
        {
         "hoverinfo": "text",
         "marker": {
          "color": "rgb(61,153,112)"
         },
         "mode": "lines",
         "type": "scatter",
         "x": [
          0,
          0.23210421925015767,
          0.23210421925015767,
          0
         ],
         "xaxis": "x",
         "y": [
          -2405,
          -2405,
          -2415,
          -2415
         ],
         "yaxis": "y"
        },
        {
         "hoverinfo": "text",
         "marker": {
          "color": "rgb(0,116,217)"
         },
         "mode": "lines",
         "type": "scatter",
         "x": [
          0,
          1.3766954618652736,
          1.3766954618652736,
          0.23210421925015767
         ],
         "xaxis": "x",
         "y": [
          -2395,
          -2395,
          -2410,
          -2410
         ],
         "yaxis": "y"
        },
        {
         "hoverinfo": "text",
         "marker": {
          "color": "rgb(0,116,217)"
         },
         "mode": "lines",
         "type": "scatter",
         "x": [
          1.3530086055582593,
          1.41368528617102,
          1.41368528617102,
          1.3766954618652736
         ],
         "xaxis": "x",
         "y": [
          -2372.5,
          -2372.5,
          -2402.5,
          -2402.5
         ],
         "yaxis": "y"
        },
        {
         "hoverinfo": "text",
         "marker": {
          "color": "rgb(0,116,217)"
         },
         "mode": "lines",
         "type": "scatter",
         "x": [
          1.4122782582900935,
          1.419924376899293,
          1.419924376899293,
          1.41368528617102
         ],
         "xaxis": "x",
         "y": [
          -2336.25,
          -2336.25,
          -2387.5,
          -2387.5
         ],
         "yaxis": "y"
        },
        {
         "hoverinfo": "text",
         "marker": {
          "color": "rgb(0,116,217)"
         },
         "mode": "lines",
         "type": "scatter",
         "x": [
          1.4172177616152597,
          1.4294729577282754,
          1.4294729577282754,
          1.419924376899293
         ],
         "xaxis": "x",
         "y": [
          -2261.875,
          -2261.875,
          -2361.875,
          -2361.875
         ],
         "yaxis": "y"
        },
        {
         "hoverinfo": "text",
         "marker": {
          "color": "rgb(255,65,54)"
         },
         "mode": "lines",
         "type": "scatter",
         "x": [
          0,
          0.36345968708358634,
          0.36345968708358634,
          0
         ],
         "xaxis": "x",
         "y": [
          -2465,
          -2465,
          -2475,
          -2475
         ],
         "yaxis": "y"
        },
        {
         "hoverinfo": "text",
         "marker": {
          "color": "rgb(255,65,54)"
         },
         "mode": "lines",
         "type": "scatter",
         "x": [
          0,
          0.7673809839752754,
          0.7673809839752754,
          0.36345968708358634
         ],
         "xaxis": "x",
         "y": [
          -2455,
          -2455,
          -2470,
          -2470
         ],
         "yaxis": "y"
        },
        {
         "hoverinfo": "text",
         "marker": {
          "color": "rgb(0,116,217)"
         },
         "mode": "lines",
         "type": "scatter",
         "x": [
          0,
          1.2133400777827597,
          1.2133400777827597,
          0.7673809839752754
         ],
         "xaxis": "x",
         "y": [
          -2445,
          -2445,
          -2462.5,
          -2462.5
         ],
         "yaxis": "y"
        },
        {
         "hoverinfo": "text",
         "marker": {
          "color": "rgb(0,116,217)"
         },
         "mode": "lines",
         "type": "scatter",
         "x": [
          0,
          1.311619816252177,
          1.311619816252177,
          1.2133400777827597
         ],
         "xaxis": "x",
         "y": [
          -2435,
          -2435,
          -2453.75,
          -2453.75
         ],
         "yaxis": "y"
        },
        {
         "hoverinfo": "text",
         "marker": {
          "color": "rgb(0,116,217)"
         },
         "mode": "lines",
         "type": "scatter",
         "x": [
          0,
          1.3572161348174712,
          1.3572161348174712,
          1.311619816252177
         ],
         "xaxis": "x",
         "y": [
          -2425,
          -2425,
          -2444.375,
          -2444.375
         ],
         "yaxis": "y"
        },
        {
         "hoverinfo": "text",
         "marker": {
          "color": "rgb(0,116,217)"
         },
         "mode": "lines",
         "type": "scatter",
         "x": [
          0,
          1.1297672676129253,
          1.1297672676129253,
          0
         ],
         "xaxis": "x",
         "y": [
          -2485,
          -2485,
          -2495,
          -2495
         ],
         "yaxis": "y"
        },
        {
         "hoverinfo": "text",
         "marker": {
          "color": "rgb(0,116,217)"
         },
         "mode": "lines",
         "type": "scatter",
         "x": [
          0,
          1.1626959794118548,
          1.1626959794118548,
          0
         ],
         "xaxis": "x",
         "y": [
          -2515,
          -2515,
          -2525,
          -2525
         ],
         "yaxis": "y"
        },
        {
         "hoverinfo": "text",
         "marker": {
          "color": "rgb(0,116,217)"
         },
         "mode": "lines",
         "type": "scatter",
         "x": [
          0,
          1.3790390455242927,
          1.3790390455242927,
          1.1626959794118548
         ],
         "xaxis": "x",
         "y": [
          -2505,
          -2505,
          -2520,
          -2520
         ],
         "yaxis": "y"
        },
        {
         "hoverinfo": "text",
         "marker": {
          "color": "rgb(0,116,217)"
         },
         "mode": "lines",
         "type": "scatter",
         "x": [
          1.1297672676129253,
          1.4114315298515794,
          1.4114315298515794,
          1.3790390455242927
         ],
         "xaxis": "x",
         "y": [
          -2490,
          -2490,
          -2512.5,
          -2512.5
         ],
         "yaxis": "y"
        },
        {
         "hoverinfo": "text",
         "marker": {
          "color": "rgb(0,116,217)"
         },
         "mode": "lines",
         "type": "scatter",
         "x": [
          1.3572161348174712,
          1.4236572291496785,
          1.4236572291496785,
          1.4114315298515794
         ],
         "xaxis": "x",
         "y": [
          -2434.6875,
          -2434.6875,
          -2501.25,
          -2501.25
         ],
         "yaxis": "y"
        },
        {
         "hoverinfo": "text",
         "marker": {
          "color": "rgb(35,205,205)"
         },
         "mode": "lines",
         "type": "scatter",
         "x": [
          0,
          1.0074030425585518,
          1.0074030425585518,
          0
         ],
         "xaxis": "x",
         "y": [
          -2555,
          -2555,
          -2565,
          -2565
         ],
         "yaxis": "y"
        },
        {
         "hoverinfo": "text",
         "marker": {
          "color": "rgb(0,116,217)"
         },
         "mode": "lines",
         "type": "scatter",
         "x": [
          0,
          1.1897512044975216,
          1.1897512044975216,
          1.0074030425585518
         ],
         "xaxis": "x",
         "y": [
          -2545,
          -2545,
          -2560,
          -2560
         ],
         "yaxis": "y"
        },
        {
         "hoverinfo": "text",
         "marker": {
          "color": "rgb(0,116,217)"
         },
         "mode": "lines",
         "type": "scatter",
         "x": [
          0,
          1.400070567658089,
          1.400070567658089,
          1.1897512044975216
         ],
         "xaxis": "x",
         "y": [
          -2535,
          -2535,
          -2552.5,
          -2552.5
         ],
         "yaxis": "y"
        },
        {
         "hoverinfo": "text",
         "marker": {
          "color": "rgb(0,116,217)"
         },
         "mode": "lines",
         "type": "scatter",
         "x": [
          0,
          1.2922237874178235,
          1.2922237874178235,
          0
         ],
         "xaxis": "x",
         "y": [
          -2575,
          -2575,
          -2585,
          -2585
         ],
         "yaxis": "y"
        },
        {
         "hoverinfo": "text",
         "marker": {
          "color": "rgb(0,116,217)"
         },
         "mode": "lines",
         "type": "scatter",
         "x": [
          0,
          1.344500147581581,
          1.344500147581581,
          0
         ],
         "xaxis": "x",
         "y": [
          -2595,
          -2595,
          -2605,
          -2605
         ],
         "yaxis": "y"
        },
        {
         "hoverinfo": "text",
         "marker": {
          "color": "rgb(0,116,217)"
         },
         "mode": "lines",
         "type": "scatter",
         "x": [
          1.2922237874178235,
          1.4093475587553206,
          1.4093475587553206,
          1.344500147581581
         ],
         "xaxis": "x",
         "y": [
          -2580,
          -2580,
          -2600,
          -2600
         ],
         "yaxis": "y"
        },
        {
         "hoverinfo": "text",
         "marker": {
          "color": "rgb(0,116,217)"
         },
         "mode": "lines",
         "type": "scatter",
         "x": [
          1.400070567658089,
          1.4183638943169028,
          1.4183638943169028,
          1.4093475587553206
         ],
         "xaxis": "x",
         "y": [
          -2543.75,
          -2543.75,
          -2590,
          -2590
         ],
         "yaxis": "y"
        },
        {
         "hoverinfo": "text",
         "marker": {
          "color": "rgb(61,153,112)"
         },
         "mode": "lines",
         "type": "scatter",
         "x": [
          0,
          0.8611610213639508,
          0.8611610213639508,
          0
         ],
         "xaxis": "x",
         "y": [
          -2615,
          -2615,
          -2625,
          -2625
         ],
         "yaxis": "y"
        },
        {
         "hoverinfo": "text",
         "marker": {
          "color": "rgb(0,116,217)"
         },
         "mode": "lines",
         "type": "scatter",
         "x": [
          0,
          1.3427468575362096,
          1.3427468575362096,
          0
         ],
         "xaxis": "x",
         "y": [
          -2635,
          -2635,
          -2645,
          -2645
         ],
         "yaxis": "y"
        },
        {
         "hoverinfo": "text",
         "marker": {
          "color": "rgb(0,116,217)"
         },
         "mode": "lines",
         "type": "scatter",
         "x": [
          0.8611610213639508,
          1.4068082912188602,
          1.4068082912188602,
          1.3427468575362096
         ],
         "xaxis": "x",
         "y": [
          -2620,
          -2620,
          -2640,
          -2640
         ],
         "yaxis": "y"
        },
        {
         "hoverinfo": "text",
         "marker": {
          "color": "rgb(0,116,217)"
         },
         "mode": "lines",
         "type": "scatter",
         "x": [
          0,
          1.3745505194577454,
          1.3745505194577454,
          0
         ],
         "xaxis": "x",
         "y": [
          -2665,
          -2665,
          -2675,
          -2675
         ],
         "yaxis": "y"
        },
        {
         "hoverinfo": "text",
         "marker": {
          "color": "rgb(0,116,217)"
         },
         "mode": "lines",
         "type": "scatter",
         "x": [
          0,
          1.412075070114803,
          1.412075070114803,
          1.3745505194577454
         ],
         "xaxis": "x",
         "y": [
          -2655,
          -2655,
          -2670,
          -2670
         ],
         "yaxis": "y"
        },
        {
         "hoverinfo": "text",
         "marker": {
          "color": "rgb(0,116,217)"
         },
         "mode": "lines",
         "type": "scatter",
         "x": [
          1.4068082912188602,
          1.4144712810656173,
          1.4144712810656173,
          1.412075070114803
         ],
         "xaxis": "x",
         "y": [
          -2630,
          -2630,
          -2662.5,
          -2662.5
         ],
         "yaxis": "y"
        },
        {
         "hoverinfo": "text",
         "marker": {
          "color": "rgb(0,116,217)"
         },
         "mode": "lines",
         "type": "scatter",
         "x": [
          0,
          1.3690605688936741,
          1.3690605688936741,
          0
         ],
         "xaxis": "x",
         "y": [
          -2685,
          -2685,
          -2695,
          -2695
         ],
         "yaxis": "y"
        },
        {
         "hoverinfo": "text",
         "marker": {
          "color": "rgb(0,116,217)"
         },
         "mode": "lines",
         "type": "scatter",
         "x": [
          0,
          1.2957813095285722,
          1.2957813095285722,
          0
         ],
         "xaxis": "x",
         "y": [
          -2705,
          -2705,
          -2715,
          -2715
         ],
         "yaxis": "y"
        },
        {
         "hoverinfo": "text",
         "marker": {
          "color": "rgb(0,116,217)"
         },
         "mode": "lines",
         "type": "scatter",
         "x": [
          0,
          1.3755880076639249,
          1.3755880076639249,
          0
         ],
         "xaxis": "x",
         "y": [
          -2725,
          -2725,
          -2735,
          -2735
         ],
         "yaxis": "y"
        },
        {
         "hoverinfo": "text",
         "marker": {
          "color": "rgb(0,116,217)"
         },
         "mode": "lines",
         "type": "scatter",
         "x": [
          1.2957813095285722,
          1.4103973355396642,
          1.4103973355396642,
          1.3755880076639249
         ],
         "xaxis": "x",
         "y": [
          -2710,
          -2710,
          -2730,
          -2730
         ],
         "yaxis": "y"
        },
        {
         "hoverinfo": "text",
         "marker": {
          "color": "rgb(0,116,217)"
         },
         "mode": "lines",
         "type": "scatter",
         "x": [
          1.3690605688936741,
          1.4111934590535111,
          1.4111934590535111,
          1.4103973355396642
         ],
         "xaxis": "x",
         "y": [
          -2690,
          -2690,
          -2720,
          -2720
         ],
         "yaxis": "y"
        },
        {
         "hoverinfo": "text",
         "marker": {
          "color": "rgb(255,65,54)"
         },
         "mode": "lines",
         "type": "scatter",
         "x": [
          0,
          0.6203449615431224,
          0.6203449615431224,
          0
         ],
         "xaxis": "x",
         "y": [
          -2745,
          -2745,
          -2755,
          -2755
         ],
         "yaxis": "y"
        },
        {
         "hoverinfo": "text",
         "marker": {
          "color": "rgb(0,116,217)"
         },
         "mode": "lines",
         "type": "scatter",
         "x": [
          0,
          1.3084626411490472,
          1.3084626411490472,
          0
         ],
         "xaxis": "x",
         "y": [
          -2765,
          -2765,
          -2775,
          -2775
         ],
         "yaxis": "y"
        },
        {
         "hoverinfo": "text",
         "marker": {
          "color": "rgb(0,116,217)"
         },
         "mode": "lines",
         "type": "scatter",
         "x": [
          0,
          1.3507585884987616,
          1.3507585884987616,
          0
         ],
         "xaxis": "x",
         "y": [
          -2795,
          -2795,
          -2805,
          -2805
         ],
         "yaxis": "y"
        },
        {
         "hoverinfo": "text",
         "marker": {
          "color": "rgb(0,116,217)"
         },
         "mode": "lines",
         "type": "scatter",
         "x": [
          0,
          1.3980722375304702,
          1.3980722375304702,
          1.3507585884987616
         ],
         "xaxis": "x",
         "y": [
          -2785,
          -2785,
          -2800,
          -2800
         ],
         "yaxis": "y"
        },
        {
         "hoverinfo": "text",
         "marker": {
          "color": "rgb(0,116,217)"
         },
         "mode": "lines",
         "type": "scatter",
         "x": [
          1.3084626411490472,
          1.4107033090116472,
          1.4107033090116472,
          1.3980722375304702
         ],
         "xaxis": "x",
         "y": [
          -2770,
          -2770,
          -2792.5,
          -2792.5
         ],
         "yaxis": "y"
        },
        {
         "hoverinfo": "text",
         "marker": {
          "color": "rgb(0,116,217)"
         },
         "mode": "lines",
         "type": "scatter",
         "x": [
          0.6203449615431224,
          1.4162858200528028,
          1.4162858200528028,
          1.4107033090116472
         ],
         "xaxis": "x",
         "y": [
          -2750,
          -2750,
          -2781.25,
          -2781.25
         ],
         "yaxis": "y"
        },
        {
         "hoverinfo": "text",
         "marker": {
          "color": "rgb(0,116,217)"
         },
         "mode": "lines",
         "type": "scatter",
         "x": [
          1.4111934590535111,
          1.4174534806912968,
          1.4174534806912968,
          1.4162858200528028
         ],
         "xaxis": "x",
         "y": [
          -2705,
          -2705,
          -2765.625,
          -2765.625
         ],
         "yaxis": "y"
        },
        {
         "hoverinfo": "text",
         "marker": {
          "color": "rgb(0,116,217)"
         },
         "mode": "lines",
         "type": "scatter",
         "x": [
          1.4144712810656173,
          1.423701668940055,
          1.423701668940055,
          1.4174534806912968
         ],
         "xaxis": "x",
         "y": [
          -2646.25,
          -2646.25,
          -2735.3125,
          -2735.3125
         ],
         "yaxis": "y"
        },
        {
         "hoverinfo": "text",
         "marker": {
          "color": "rgb(0,116,217)"
         },
         "mode": "lines",
         "type": "scatter",
         "x": [
          1.4183638943169028,
          1.4275018682587222,
          1.4275018682587222,
          1.423701668940055
         ],
         "xaxis": "x",
         "y": [
          -2566.875,
          -2566.875,
          -2690.78125,
          -2690.78125
         ],
         "yaxis": "y"
        },
        {
         "hoverinfo": "text",
         "marker": {
          "color": "rgb(0,116,217)"
         },
         "mode": "lines",
         "type": "scatter",
         "x": [
          1.4236572291496785,
          1.4325490237023406,
          1.4325490237023406,
          1.4275018682587222
         ],
         "xaxis": "x",
         "y": [
          -2467.96875,
          -2467.96875,
          -2628.828125,
          -2628.828125
         ],
         "yaxis": "y"
        },
        {
         "hoverinfo": "text",
         "marker": {
          "color": "rgb(0,116,217)"
         },
         "mode": "lines",
         "type": "scatter",
         "x": [
          1.4294729577282754,
          1.435989820578144,
          1.435989820578144,
          1.4325490237023406
         ],
         "xaxis": "x",
         "y": [
          -2311.875,
          -2311.875,
          -2548.3984375,
          -2548.3984375
         ],
         "yaxis": "y"
        },
        {
         "hoverinfo": "text",
         "marker": {
          "color": "rgb(0,116,217)"
         },
         "mode": "lines",
         "type": "scatter",
         "x": [
          0,
          1.3728224732824277,
          1.3728224732824277,
          0
         ],
         "xaxis": "x",
         "y": [
          -2815,
          -2815,
          -2825,
          -2825
         ],
         "yaxis": "y"
        },
        {
         "hoverinfo": "text",
         "marker": {
          "color": "rgb(0,116,217)"
         },
         "mode": "lines",
         "type": "scatter",
         "x": [
          0,
          1.317609811167804,
          1.317609811167804,
          0
         ],
         "xaxis": "x",
         "y": [
          -2835,
          -2835,
          -2845,
          -2845
         ],
         "yaxis": "y"
        },
        {
         "hoverinfo": "text",
         "marker": {
          "color": "rgb(0,116,217)"
         },
         "mode": "lines",
         "type": "scatter",
         "x": [
          0,
          1.3496950630420634,
          1.3496950630420634,
          0
         ],
         "xaxis": "x",
         "y": [
          -2855,
          -2855,
          -2865,
          -2865
         ],
         "yaxis": "y"
        },
        {
         "hoverinfo": "text",
         "marker": {
          "color": "rgb(0,116,217)"
         },
         "mode": "lines",
         "type": "scatter",
         "x": [
          1.317609811167804,
          1.3977950293217487,
          1.3977950293217487,
          1.3496950630420634
         ],
         "xaxis": "x",
         "y": [
          -2840,
          -2840,
          -2860,
          -2860
         ],
         "yaxis": "y"
        },
        {
         "hoverinfo": "text",
         "marker": {
          "color": "rgb(0,116,217)"
         },
         "mode": "lines",
         "type": "scatter",
         "x": [
          1.3728224732824277,
          1.4097496553007152,
          1.4097496553007152,
          1.3977950293217487
         ],
         "xaxis": "x",
         "y": [
          -2820,
          -2820,
          -2850,
          -2850
         ],
         "yaxis": "y"
        },
        {
         "hoverinfo": "text",
         "marker": {
          "color": "rgb(0,116,217)"
         },
         "mode": "lines",
         "type": "scatter",
         "x": [
          0,
          1.3636004239217194,
          1.3636004239217194,
          0
         ],
         "xaxis": "x",
         "y": [
          -2885,
          -2885,
          -2895,
          -2895
         ],
         "yaxis": "y"
        },
        {
         "hoverinfo": "text",
         "marker": {
          "color": "rgb(0,116,217)"
         },
         "mode": "lines",
         "type": "scatter",
         "x": [
          0,
          1.3941309928057648,
          1.3941309928057648,
          1.3636004239217194
         ],
         "xaxis": "x",
         "y": [
          -2875,
          -2875,
          -2890,
          -2890
         ],
         "yaxis": "y"
        },
        {
         "hoverinfo": "text",
         "marker": {
          "color": "rgb(0,116,217)"
         },
         "mode": "lines",
         "type": "scatter",
         "x": [
          0,
          1.291609087802394,
          1.291609087802394,
          0
         ],
         "xaxis": "x",
         "y": [
          -2905,
          -2905,
          -2915,
          -2915
         ],
         "yaxis": "y"
        },
        {
         "hoverinfo": "text",
         "marker": {
          "color": "rgb(0,116,217)"
         },
         "mode": "lines",
         "type": "scatter",
         "x": [
          0,
          1.351647903672978,
          1.351647903672978,
          0
         ],
         "xaxis": "x",
         "y": [
          -2925,
          -2925,
          -2935,
          -2935
         ],
         "yaxis": "y"
        },
        {
         "hoverinfo": "text",
         "marker": {
          "color": "rgb(0,116,217)"
         },
         "mode": "lines",
         "type": "scatter",
         "x": [
          1.291609087802394,
          1.4066972025141544,
          1.4066972025141544,
          1.351647903672978
         ],
         "xaxis": "x",
         "y": [
          -2910,
          -2910,
          -2930,
          -2930
         ],
         "yaxis": "y"
        },
        {
         "hoverinfo": "text",
         "marker": {
          "color": "rgb(0,116,217)"
         },
         "mode": "lines",
         "type": "scatter",
         "x": [
          1.3941309928057648,
          1.4149808252762404,
          1.4149808252762404,
          1.4066972025141544
         ],
         "xaxis": "x",
         "y": [
          -2882.5,
          -2882.5,
          -2920,
          -2920
         ],
         "yaxis": "y"
        },
        {
         "hoverinfo": "text",
         "marker": {
          "color": "rgb(0,116,217)"
         },
         "mode": "lines",
         "type": "scatter",
         "x": [
          1.4097496553007152,
          1.4162610657039385,
          1.4162610657039385,
          1.4149808252762404
         ],
         "xaxis": "x",
         "y": [
          -2835,
          -2835,
          -2901.25,
          -2901.25
         ],
         "yaxis": "y"
        },
        {
         "hoverinfo": "text",
         "marker": {
          "color": "rgb(0,116,217)"
         },
         "mode": "lines",
         "type": "scatter",
         "x": [
          0,
          1.3183127501156189,
          1.3183127501156189,
          0
         ],
         "xaxis": "x",
         "y": [
          -2955,
          -2955,
          -2965,
          -2965
         ],
         "yaxis": "y"
        },
        {
         "hoverinfo": "text",
         "marker": {
          "color": "rgb(0,116,217)"
         },
         "mode": "lines",
         "type": "scatter",
         "x": [
          0,
          1.3910213011960249,
          1.3910213011960249,
          1.3183127501156189
         ],
         "xaxis": "x",
         "y": [
          -2945,
          -2945,
          -2960,
          -2960
         ],
         "yaxis": "y"
        },
        {
         "hoverinfo": "text",
         "marker": {
          "color": "rgb(35,205,205)"
         },
         "mode": "lines",
         "type": "scatter",
         "x": [
          0,
          0.1096626381221586,
          0.1096626381221586,
          0
         ],
         "xaxis": "x",
         "y": [
          -2975,
          -2975,
          -2985,
          -2985
         ],
         "yaxis": "y"
        },
        {
         "hoverinfo": "text",
         "marker": {
          "color": "rgb(0,116,217)"
         },
         "mode": "lines",
         "type": "scatter",
         "x": [
          0,
          1.2521892826797594,
          1.2521892826797594,
          0
         ],
         "xaxis": "x",
         "y": [
          -3005,
          -3005,
          -3015,
          -3015
         ],
         "yaxis": "y"
        },
        {
         "hoverinfo": "text",
         "marker": {
          "color": "rgb(0,116,217)"
         },
         "mode": "lines",
         "type": "scatter",
         "x": [
          0,
          1.3583947896645137,
          1.3583947896645137,
          1.2521892826797594
         ],
         "xaxis": "x",
         "y": [
          -2995,
          -2995,
          -3010,
          -3010
         ],
         "yaxis": "y"
        },
        {
         "hoverinfo": "text",
         "marker": {
          "color": "rgb(0,116,217)"
         },
         "mode": "lines",
         "type": "scatter",
         "x": [
          0.1096626381221586,
          1.4096482096492386,
          1.4096482096492386,
          1.3583947896645137
         ],
         "xaxis": "x",
         "y": [
          -2980,
          -2980,
          -3002.5,
          -3002.5
         ],
         "yaxis": "y"
        },
        {
         "hoverinfo": "text",
         "marker": {
          "color": "rgb(0,116,217)"
         },
         "mode": "lines",
         "type": "scatter",
         "x": [
          1.3910213011960249,
          1.4148615501715887,
          1.4148615501715887,
          1.4096482096492386
         ],
         "xaxis": "x",
         "y": [
          -2952.5,
          -2952.5,
          -2991.25,
          -2991.25
         ],
         "yaxis": "y"
        },
        {
         "hoverinfo": "text",
         "marker": {
          "color": "rgb(0,116,217)"
         },
         "mode": "lines",
         "type": "scatter",
         "x": [
          0,
          1.30383160657722,
          1.30383160657722,
          0
         ],
         "xaxis": "x",
         "y": [
          -3035,
          -3035,
          -3045,
          -3045
         ],
         "yaxis": "y"
        },
        {
         "hoverinfo": "text",
         "marker": {
          "color": "rgb(0,116,217)"
         },
         "mode": "lines",
         "type": "scatter",
         "x": [
          0,
          1.405929151116383,
          1.405929151116383,
          1.30383160657722
         ],
         "xaxis": "x",
         "y": [
          -3025,
          -3025,
          -3040,
          -3040
         ],
         "yaxis": "y"
        },
        {
         "hoverinfo": "text",
         "marker": {
          "color": "rgb(133,20,75)"
         },
         "mode": "lines",
         "type": "scatter",
         "x": [
          0,
          0.06156556020116646,
          0.06156556020116646,
          0
         ],
         "xaxis": "x",
         "y": [
          -3065,
          -3065,
          -3075,
          -3075
         ],
         "yaxis": "y"
        },
        {
         "hoverinfo": "text",
         "marker": {
          "color": "rgb(255,220,0)"
         },
         "mode": "lines",
         "type": "scatter",
         "x": [
          0,
          0.5115084592991155,
          0.5115084592991155,
          0
         ],
         "xaxis": "x",
         "y": [
          -3085,
          -3085,
          -3095,
          -3095
         ],
         "yaxis": "y"
        },
        {
         "hoverinfo": "text",
         "marker": {
          "color": "rgb(0,116,217)"
         },
         "mode": "lines",
         "type": "scatter",
         "x": [
          0.06156556020116646,
          1.3794529315716069,
          1.3794529315716069,
          0.5115084592991155
         ],
         "xaxis": "x",
         "y": [
          -3070,
          -3070,
          -3090,
          -3090
         ],
         "yaxis": "y"
        },
        {
         "hoverinfo": "text",
         "marker": {
          "color": "rgb(0,116,217)"
         },
         "mode": "lines",
         "type": "scatter",
         "x": [
          0,
          1.4059383717207536,
          1.4059383717207536,
          1.3794529315716069
         ],
         "xaxis": "x",
         "y": [
          -3055,
          -3055,
          -3080,
          -3080
         ],
         "yaxis": "y"
        },
        {
         "hoverinfo": "text",
         "marker": {
          "color": "rgb(0,116,217)"
         },
         "mode": "lines",
         "type": "scatter",
         "x": [
          1.405929151116383,
          1.4148741124409692,
          1.4148741124409692,
          1.4059383717207536
         ],
         "xaxis": "x",
         "y": [
          -3032.5,
          -3032.5,
          -3067.5,
          -3067.5
         ],
         "yaxis": "y"
        },
        {
         "hoverinfo": "text",
         "marker": {
          "color": "rgb(0,116,217)"
         },
         "mode": "lines",
         "type": "scatter",
         "x": [
          1.4148615501715887,
          1.4193501343159514,
          1.4193501343159514,
          1.4148741124409692
         ],
         "xaxis": "x",
         "y": [
          -2971.875,
          -2971.875,
          -3050,
          -3050
         ],
         "yaxis": "y"
        },
        {
         "hoverinfo": "text",
         "marker": {
          "color": "rgb(0,116,217)"
         },
         "mode": "lines",
         "type": "scatter",
         "x": [
          1.4162610657039385,
          1.4242376159836858,
          1.4242376159836858,
          1.4193501343159514
         ],
         "xaxis": "x",
         "y": [
          -2868.125,
          -2868.125,
          -3010.9375,
          -3010.9375
         ],
         "yaxis": "y"
        },
        {
         "hoverinfo": "text",
         "marker": {
          "color": "rgb(40,35,35)"
         },
         "mode": "lines",
         "type": "scatter",
         "x": [
          0,
          0.9713081411899316,
          0.9713081411899316,
          0
         ],
         "xaxis": "x",
         "y": [
          -3125,
          -3125,
          -3135,
          -3135
         ],
         "yaxis": "y"
        },
        {
         "hoverinfo": "text",
         "marker": {
          "color": "rgb(0,116,217)"
         },
         "mode": "lines",
         "type": "scatter",
         "x": [
          0,
          1.3341460020079903,
          1.3341460020079903,
          0.9713081411899316
         ],
         "xaxis": "x",
         "y": [
          -3115,
          -3115,
          -3130,
          -3130
         ],
         "yaxis": "y"
        },
        {
         "hoverinfo": "text",
         "marker": {
          "color": "rgb(0,116,217)"
         },
         "mode": "lines",
         "type": "scatter",
         "x": [
          0,
          1.3693488081659302,
          1.3693488081659302,
          1.3341460020079903
         ],
         "xaxis": "x",
         "y": [
          -3105,
          -3105,
          -3122.5,
          -3122.5
         ],
         "yaxis": "y"
        },
        {
         "hoverinfo": "text",
         "marker": {
          "color": "rgb(0,116,217)"
         },
         "mode": "lines",
         "type": "scatter",
         "x": [
          0,
          1.3664533227339057,
          1.3664533227339057,
          0
         ],
         "xaxis": "x",
         "y": [
          -3155,
          -3155,
          -3165,
          -3165
         ],
         "yaxis": "y"
        },
        {
         "hoverinfo": "text",
         "marker": {
          "color": "rgb(0,116,217)"
         },
         "mode": "lines",
         "type": "scatter",
         "x": [
          0,
          1.397112469754569,
          1.397112469754569,
          1.3664533227339057
         ],
         "xaxis": "x",
         "y": [
          -3145,
          -3145,
          -3160,
          -3160
         ],
         "yaxis": "y"
        },
        {
         "hoverinfo": "text",
         "marker": {
          "color": "rgb(0,116,217)"
         },
         "mode": "lines",
         "type": "scatter",
         "x": [
          0,
          1.3445418650605159,
          1.3445418650605159,
          0
         ],
         "xaxis": "x",
         "y": [
          -3175,
          -3175,
          -3185,
          -3185
         ],
         "yaxis": "y"
        },
        {
         "hoverinfo": "text",
         "marker": {
          "color": "rgb(0,116,217)"
         },
         "mode": "lines",
         "type": "scatter",
         "x": [
          0,
          1.3795009644639713,
          1.3795009644639713,
          0
         ],
         "xaxis": "x",
         "y": [
          -3195,
          -3195,
          -3205,
          -3205
         ],
         "yaxis": "y"
        },
        {
         "hoverinfo": "text",
         "marker": {
          "color": "rgb(0,116,217)"
         },
         "mode": "lines",
         "type": "scatter",
         "x": [
          1.3445418650605159,
          1.4076557556805391,
          1.4076557556805391,
          1.3795009644639713
         ],
         "xaxis": "x",
         "y": [
          -3180,
          -3180,
          -3200,
          -3200
         ],
         "yaxis": "y"
        },
        {
         "hoverinfo": "text",
         "marker": {
          "color": "rgb(0,116,217)"
         },
         "mode": "lines",
         "type": "scatter",
         "x": [
          1.397112469754569,
          1.413328513070984,
          1.413328513070984,
          1.4076557556805391
         ],
         "xaxis": "x",
         "y": [
          -3152.5,
          -3152.5,
          -3190,
          -3190
         ],
         "yaxis": "y"
        },
        {
         "hoverinfo": "text",
         "marker": {
          "color": "rgb(0,116,217)"
         },
         "mode": "lines",
         "type": "scatter",
         "x": [
          0,
          1.1441884457272546,
          1.1441884457272546,
          0
         ],
         "xaxis": "x",
         "y": [
          -3225,
          -3225,
          -3235,
          -3235
         ],
         "yaxis": "y"
        },
        {
         "hoverinfo": "text",
         "marker": {
          "color": "rgb(0,116,217)"
         },
         "mode": "lines",
         "type": "scatter",
         "x": [
          0,
          1.364913097104518,
          1.364913097104518,
          1.1441884457272546
         ],
         "xaxis": "x",
         "y": [
          -3215,
          -3215,
          -3230,
          -3230
         ],
         "yaxis": "y"
        },
        {
         "hoverinfo": "text",
         "marker": {
          "color": "rgb(0,116,217)"
         },
         "mode": "lines",
         "type": "scatter",
         "x": [
          0,
          1.3688990357176607,
          1.3688990357176607,
          0
         ],
         "xaxis": "x",
         "y": [
          -3255,
          -3255,
          -3265,
          -3265
         ],
         "yaxis": "y"
        },
        {
         "hoverinfo": "text",
         "marker": {
          "color": "rgb(0,116,217)"
         },
         "mode": "lines",
         "type": "scatter",
         "x": [
          0,
          1.3851433685221637,
          1.3851433685221637,
          1.3688990357176607
         ],
         "xaxis": "x",
         "y": [
          -3245,
          -3245,
          -3260,
          -3260
         ],
         "yaxis": "y"
        },
        {
         "hoverinfo": "text",
         "marker": {
          "color": "rgb(0,116,217)"
         },
         "mode": "lines",
         "type": "scatter",
         "x": [
          1.364913097104518,
          1.4139826386875416,
          1.4139826386875416,
          1.3851433685221637
         ],
         "xaxis": "x",
         "y": [
          -3222.5,
          -3222.5,
          -3252.5,
          -3252.5
         ],
         "yaxis": "y"
        },
        {
         "hoverinfo": "text",
         "marker": {
          "color": "rgb(0,116,217)"
         },
         "mode": "lines",
         "type": "scatter",
         "x": [
          1.413328513070984,
          1.4193591428057812,
          1.4193591428057812,
          1.4139826386875416
         ],
         "xaxis": "x",
         "y": [
          -3171.25,
          -3171.25,
          -3237.5,
          -3237.5
         ],
         "yaxis": "y"
        },
        {
         "hoverinfo": "text",
         "marker": {
          "color": "rgb(0,116,217)"
         },
         "mode": "lines",
         "type": "scatter",
         "x": [
          1.3693488081659302,
          1.425589186075651,
          1.425589186075651,
          1.4193591428057812
         ],
         "xaxis": "x",
         "y": [
          -3113.75,
          -3113.75,
          -3204.375,
          -3204.375
         ],
         "yaxis": "y"
        },
        {
         "hoverinfo": "text",
         "marker": {
          "color": "rgb(0,116,217)"
         },
         "mode": "lines",
         "type": "scatter",
         "x": [
          1.4242376159836858,
          1.429608143382554,
          1.429608143382554,
          1.425589186075651
         ],
         "xaxis": "x",
         "y": [
          -2939.53125,
          -2939.53125,
          -3159.0625,
          -3159.0625
         ],
         "yaxis": "y"
        },
        {
         "hoverinfo": "text",
         "marker": {
          "color": "rgb(0,116,217)"
         },
         "mode": "lines",
         "type": "scatter",
         "x": [
          0,
          1.321178853837704,
          1.321178853837704,
          0
         ],
         "xaxis": "x",
         "y": [
          -3275,
          -3275,
          -3285,
          -3285
         ],
         "yaxis": "y"
        },
        {
         "hoverinfo": "text",
         "marker": {
          "color": "rgb(0,116,217)"
         },
         "mode": "lines",
         "type": "scatter",
         "x": [
          0,
          1.1936869391078708,
          1.1936869391078708,
          0
         ],
         "xaxis": "x",
         "y": [
          -3305,
          -3305,
          -3315,
          -3315
         ],
         "yaxis": "y"
        },
        {
         "hoverinfo": "text",
         "marker": {
          "color": "rgb(0,116,217)"
         },
         "mode": "lines",
         "type": "scatter",
         "x": [
          0,
          1.4034867321656723,
          1.4034867321656723,
          1.1936869391078708
         ],
         "xaxis": "x",
         "y": [
          -3295,
          -3295,
          -3310,
          -3310
         ],
         "yaxis": "y"
        },
        {
         "hoverinfo": "text",
         "marker": {
          "color": "rgb(0,116,217)"
         },
         "mode": "lines",
         "type": "scatter",
         "x": [
          1.321178853837704,
          1.413026649919297,
          1.413026649919297,
          1.4034867321656723
         ],
         "xaxis": "x",
         "y": [
          -3280,
          -3280,
          -3302.5,
          -3302.5
         ],
         "yaxis": "y"
        },
        {
         "hoverinfo": "text",
         "marker": {
          "color": "rgb(0,116,217)"
         },
         "mode": "lines",
         "type": "scatter",
         "x": [
          0,
          1.1288700695432083,
          1.1288700695432083,
          0
         ],
         "xaxis": "x",
         "y": [
          -3335,
          -3335,
          -3345,
          -3345
         ],
         "yaxis": "y"
        },
        {
         "hoverinfo": "text",
         "marker": {
          "color": "rgb(0,116,217)"
         },
         "mode": "lines",
         "type": "scatter",
         "x": [
          0,
          1.3946246318898854,
          1.3946246318898854,
          1.1288700695432083
         ],
         "xaxis": "x",
         "y": [
          -3325,
          -3325,
          -3340,
          -3340
         ],
         "yaxis": "y"
        },
        {
         "hoverinfo": "text",
         "marker": {
          "color": "rgb(0,116,217)"
         },
         "mode": "lines",
         "type": "scatter",
         "x": [
          0,
          1.2920706905147565,
          1.2920706905147565,
          0
         ],
         "xaxis": "x",
         "y": [
          -3355,
          -3355,
          -3365,
          -3365
         ],
         "yaxis": "y"
        },
        {
         "hoverinfo": "text",
         "marker": {
          "color": "rgb(0,116,217)"
         },
         "mode": "lines",
         "type": "scatter",
         "x": [
          0,
          1.3583000418673152,
          1.3583000418673152,
          0
         ],
         "xaxis": "x",
         "y": [
          -3375,
          -3375,
          -3385,
          -3385
         ],
         "yaxis": "y"
        },
        {
         "hoverinfo": "text",
         "marker": {
          "color": "rgb(0,116,217)"
         },
         "mode": "lines",
         "type": "scatter",
         "x": [
          1.2920706905147565,
          1.3959932057874265,
          1.3959932057874265,
          1.3583000418673152
         ],
         "xaxis": "x",
         "y": [
          -3360,
          -3360,
          -3380,
          -3380
         ],
         "yaxis": "y"
        },
        {
         "hoverinfo": "text",
         "marker": {
          "color": "rgb(0,116,217)"
         },
         "mode": "lines",
         "type": "scatter",
         "x": [
          1.3946246318898854,
          1.4168076077965501,
          1.4168076077965501,
          1.3959932057874265
         ],
         "xaxis": "x",
         "y": [
          -3332.5,
          -3332.5,
          -3370,
          -3370
         ],
         "yaxis": "y"
        },
        {
         "hoverinfo": "text",
         "marker": {
          "color": "rgb(0,116,217)"
         },
         "mode": "lines",
         "type": "scatter",
         "x": [
          1.413026649919297,
          1.4218686523493849,
          1.4218686523493849,
          1.4168076077965501
         ],
         "xaxis": "x",
         "y": [
          -3291.25,
          -3291.25,
          -3351.25,
          -3351.25
         ],
         "yaxis": "y"
        },
        {
         "hoverinfo": "text",
         "marker": {
          "color": "rgb(0,116,217)"
         },
         "mode": "lines",
         "type": "scatter",
         "x": [
          0,
          1.2806837835478964,
          1.2806837835478964,
          0
         ],
         "xaxis": "x",
         "y": [
          -3395,
          -3395,
          -3405,
          -3405
         ],
         "yaxis": "y"
        },
        {
         "hoverinfo": "text",
         "marker": {
          "color": "rgb(0,116,217)"
         },
         "mode": "lines",
         "type": "scatter",
         "x": [
          0,
          1.3221541898671312,
          1.3221541898671312,
          0
         ],
         "xaxis": "x",
         "y": [
          -3425,
          -3425,
          -3435,
          -3435
         ],
         "yaxis": "y"
        },
        {
         "hoverinfo": "text",
         "marker": {
          "color": "rgb(0,116,217)"
         },
         "mode": "lines",
         "type": "scatter",
         "x": [
          0,
          1.3756819801541613,
          1.3756819801541613,
          1.3221541898671312
         ],
         "xaxis": "x",
         "y": [
          -3415,
          -3415,
          -3430,
          -3430
         ],
         "yaxis": "y"
        },
        {
         "hoverinfo": "text",
         "marker": {
          "color": "rgb(0,116,217)"
         },
         "mode": "lines",
         "type": "scatter",
         "x": [
          1.2806837835478964,
          1.4090411742539388,
          1.4090411742539388,
          1.3756819801541613
         ],
         "xaxis": "x",
         "y": [
          -3400,
          -3400,
          -3422.5,
          -3422.5
         ],
         "yaxis": "y"
        },
        {
         "hoverinfo": "text",
         "marker": {
          "color": "rgb(61,153,112)"
         },
         "mode": "lines",
         "type": "scatter",
         "x": [
          0,
          0.38982206934848807,
          0.38982206934848807,
          0
         ],
         "xaxis": "x",
         "y": [
          -3445,
          -3445,
          -3455,
          -3455
         ],
         "yaxis": "y"
        },
        {
         "hoverinfo": "text",
         "marker": {
          "color": "rgb(0,116,217)"
         },
         "mode": "lines",
         "type": "scatter",
         "x": [
          0,
          1.313800430671044,
          1.313800430671044,
          0
         ],
         "xaxis": "x",
         "y": [
          -3465,
          -3465,
          -3475,
          -3475
         ],
         "yaxis": "y"
        },
        {
         "hoverinfo": "text",
         "marker": {
          "color": "rgb(0,116,217)"
         },
         "mode": "lines",
         "type": "scatter",
         "x": [
          0,
          1.3598191375537556,
          1.3598191375537556,
          0
         ],
         "xaxis": "x",
         "y": [
          -3485,
          -3485,
          -3495,
          -3495
         ],
         "yaxis": "y"
        },
        {
         "hoverinfo": "text",
         "marker": {
          "color": "rgb(0,116,217)"
         },
         "mode": "lines",
         "type": "scatter",
         "x": [
          1.313800430671044,
          1.4068681266454381,
          1.4068681266454381,
          1.3598191375537556
         ],
         "xaxis": "x",
         "y": [
          -3470,
          -3470,
          -3490,
          -3490
         ],
         "yaxis": "y"
        },
        {
         "hoverinfo": "text",
         "marker": {
          "color": "rgb(0,116,217)"
         },
         "mode": "lines",
         "type": "scatter",
         "x": [
          0.38982206934848807,
          1.4133852072854687,
          1.4133852072854687,
          1.4068681266454381
         ],
         "xaxis": "x",
         "y": [
          -3450,
          -3450,
          -3480,
          -3480
         ],
         "yaxis": "y"
        },
        {
         "hoverinfo": "text",
         "marker": {
          "color": "rgb(255,65,54)"
         },
         "mode": "lines",
         "type": "scatter",
         "x": [
          0,
          0.8149575585983703,
          0.8149575585983703,
          0
         ],
         "xaxis": "x",
         "y": [
          -3515,
          -3515,
          -3525,
          -3525
         ],
         "yaxis": "y"
        },
        {
         "hoverinfo": "text",
         "marker": {
          "color": "rgb(0,116,217)"
         },
         "mode": "lines",
         "type": "scatter",
         "x": [
          0,
          1.3854662626551955,
          1.3854662626551955,
          0.8149575585983703
         ],
         "xaxis": "x",
         "y": [
          -3505,
          -3505,
          -3520,
          -3520
         ],
         "yaxis": "y"
        },
        {
         "hoverinfo": "text",
         "marker": {
          "color": "rgb(0,116,217)"
         },
         "mode": "lines",
         "type": "scatter",
         "x": [
          0,
          1.2926898572162835,
          1.2926898572162835,
          0
         ],
         "xaxis": "x",
         "y": [
          -3535,
          -3535,
          -3545,
          -3545
         ],
         "yaxis": "y"
        },
        {
         "hoverinfo": "text",
         "marker": {
          "color": "rgb(0,116,217)"
         },
         "mode": "lines",
         "type": "scatter",
         "x": [
          0,
          1.2862671631506573,
          1.2862671631506573,
          0
         ],
         "xaxis": "x",
         "y": [
          -3555,
          -3555,
          -3565,
          -3565
         ],
         "yaxis": "y"
        },
        {
         "hoverinfo": "text",
         "marker": {
          "color": "rgb(0,116,217)"
         },
         "mode": "lines",
         "type": "scatter",
         "x": [
          0,
          1.3870783166567233,
          1.3870783166567233,
          0
         ],
         "xaxis": "x",
         "y": [
          -3575,
          -3575,
          -3585,
          -3585
         ],
         "yaxis": "y"
        },
        {
         "hoverinfo": "text",
         "marker": {
          "color": "rgb(0,116,217)"
         },
         "mode": "lines",
         "type": "scatter",
         "x": [
          1.2862671631506573,
          1.4094486063398184,
          1.4094486063398184,
          1.3870783166567233
         ],
         "xaxis": "x",
         "y": [
          -3560,
          -3560,
          -3580,
          -3580
         ],
         "yaxis": "y"
        },
        {
         "hoverinfo": "text",
         "marker": {
          "color": "rgb(0,116,217)"
         },
         "mode": "lines",
         "type": "scatter",
         "x": [
          1.2926898572162835,
          1.4116080667119253,
          1.4116080667119253,
          1.4094486063398184
         ],
         "xaxis": "x",
         "y": [
          -3540,
          -3540,
          -3570,
          -3570
         ],
         "yaxis": "y"
        },
        {
         "hoverinfo": "text",
         "marker": {
          "color": "rgb(0,116,217)"
         },
         "mode": "lines",
         "type": "scatter",
         "x": [
          1.3854662626551955,
          1.416444346630386,
          1.416444346630386,
          1.4116080667119253
         ],
         "xaxis": "x",
         "y": [
          -3512.5,
          -3512.5,
          -3555,
          -3555
         ],
         "yaxis": "y"
        },
        {
         "hoverinfo": "text",
         "marker": {
          "color": "rgb(0,116,217)"
         },
         "mode": "lines",
         "type": "scatter",
         "x": [
          1.4133852072854687,
          1.4219713208955242,
          1.4219713208955242,
          1.416444346630386
         ],
         "xaxis": "x",
         "y": [
          -3465,
          -3465,
          -3533.75,
          -3533.75
         ],
         "yaxis": "y"
        },
        {
         "hoverinfo": "text",
         "marker": {
          "color": "rgb(0,116,217)"
         },
         "mode": "lines",
         "type": "scatter",
         "x": [
          1.4090411742539388,
          1.4239072714565186,
          1.4239072714565186,
          1.4219713208955242
         ],
         "xaxis": "x",
         "y": [
          -3411.25,
          -3411.25,
          -3499.375,
          -3499.375
         ],
         "yaxis": "y"
        },
        {
         "hoverinfo": "text",
         "marker": {
          "color": "rgb(0,116,217)"
         },
         "mode": "lines",
         "type": "scatter",
         "x": [
          1.4218686523493849,
          1.4301053905451062,
          1.4301053905451062,
          1.4239072714565186
         ],
         "xaxis": "x",
         "y": [
          -3321.25,
          -3321.25,
          -3455.3125,
          -3455.3125
         ],
         "yaxis": "y"
        },
        {
         "hoverinfo": "text",
         "marker": {
          "color": "rgb(0,116,217)"
         },
         "mode": "lines",
         "type": "scatter",
         "x": [
          1.429608143382554,
          1.4394965677463807,
          1.4394965677463807,
          1.4301053905451062
         ],
         "xaxis": "x",
         "y": [
          -3049.296875,
          -3049.296875,
          -3388.28125,
          -3388.28125
         ],
         "yaxis": "y"
        },
        {
         "hoverinfo": "text",
         "marker": {
          "color": "rgb(0,116,217)"
         },
         "mode": "lines",
         "type": "scatter",
         "x": [
          1.435989820578144,
          1.4464485145334929,
          1.4464485145334929,
          1.4394965677463807
         ],
         "xaxis": "x",
         "y": [
          -2430.13671875,
          -2430.13671875,
          -3218.7890625,
          -3218.7890625
         ],
         "yaxis": "y"
        },
        {
         "hoverinfo": "text",
         "marker": {
          "color": "rgb(0,116,217)"
         },
         "mode": "lines",
         "type": "scatter",
         "x": [
          0,
          1.39212360955218,
          1.39212360955218,
          0
         ],
         "xaxis": "x",
         "y": [
          -3595,
          -3595,
          -3605,
          -3605
         ],
         "yaxis": "y"
        },
        {
         "hoverinfo": "text",
         "marker": {
          "color": "rgb(0,116,217)"
         },
         "mode": "lines",
         "type": "scatter",
         "x": [
          0,
          1.3043251102438462,
          1.3043251102438462,
          0
         ],
         "xaxis": "x",
         "y": [
          -3615,
          -3615,
          -3625,
          -3625
         ],
         "yaxis": "y"
        },
        {
         "hoverinfo": "text",
         "marker": {
          "color": "rgb(0,116,217)"
         },
         "mode": "lines",
         "type": "scatter",
         "x": [
          0,
          1.3385647293676806,
          1.3385647293676806,
          0
         ],
         "xaxis": "x",
         "y": [
          -3635,
          -3635,
          -3645,
          -3645
         ],
         "yaxis": "y"
        },
        {
         "hoverinfo": "text",
         "marker": {
          "color": "rgb(0,116,217)"
         },
         "mode": "lines",
         "type": "scatter",
         "x": [
          1.3043251102438462,
          1.4008032156517036,
          1.4008032156517036,
          1.3385647293676806
         ],
         "xaxis": "x",
         "y": [
          -3620,
          -3620,
          -3640,
          -3640
         ],
         "yaxis": "y"
        },
        {
         "hoverinfo": "text",
         "marker": {
          "color": "rgb(0,116,217)"
         },
         "mode": "lines",
         "type": "scatter",
         "x": [
          1.39212360955218,
          1.4123472720505899,
          1.4123472720505899,
          1.4008032156517036
         ],
         "xaxis": "x",
         "y": [
          -3600,
          -3600,
          -3630,
          -3630
         ],
         "yaxis": "y"
        },
        {
         "hoverinfo": "text",
         "marker": {
          "color": "rgb(0,116,217)"
         },
         "mode": "lines",
         "type": "scatter",
         "x": [
          0,
          1.2823027103172742,
          1.2823027103172742,
          0
         ],
         "xaxis": "x",
         "y": [
          -3655,
          -3655,
          -3665,
          -3665
         ],
         "yaxis": "y"
        },
        {
         "hoverinfo": "text",
         "marker": {
          "color": "rgb(0,116,217)"
         },
         "mode": "lines",
         "type": "scatter",
         "x": [
          0,
          1.3271911794160434,
          1.3271911794160434,
          0
         ],
         "xaxis": "x",
         "y": [
          -3675,
          -3675,
          -3685,
          -3685
         ],
         "yaxis": "y"
        },
        {
         "hoverinfo": "text",
         "marker": {
          "color": "rgb(0,116,217)"
         },
         "mode": "lines",
         "type": "scatter",
         "x": [
          1.2823027103172742,
          1.388451327545578,
          1.388451327545578,
          1.3271911794160434
         ],
         "xaxis": "x",
         "y": [
          -3660,
          -3660,
          -3680,
          -3680
         ],
         "yaxis": "y"
        },
        {
         "hoverinfo": "text",
         "marker": {
          "color": "rgb(0,116,217)"
         },
         "mode": "lines",
         "type": "scatter",
         "x": [
          0,
          1.3086554073122416,
          1.3086554073122416,
          0
         ],
         "xaxis": "x",
         "y": [
          -3695,
          -3695,
          -3705,
          -3705
         ],
         "yaxis": "y"
        },
        {
         "hoverinfo": "text",
         "marker": {
          "color": "rgb(0,116,217)"
         },
         "mode": "lines",
         "type": "scatter",
         "x": [
          0,
          1.3831261551993586,
          1.3831261551993586,
          0
         ],
         "xaxis": "x",
         "y": [
          -3715,
          -3715,
          -3725,
          -3725
         ],
         "yaxis": "y"
        },
        {
         "hoverinfo": "text",
         "marker": {
          "color": "rgb(0,116,217)"
         },
         "mode": "lines",
         "type": "scatter",
         "x": [
          1.3086554073122416,
          1.4069434095356885,
          1.4069434095356885,
          1.3831261551993586
         ],
         "xaxis": "x",
         "y": [
          -3700,
          -3700,
          -3720,
          -3720
         ],
         "yaxis": "y"
        },
        {
         "hoverinfo": "text",
         "marker": {
          "color": "rgb(0,116,217)"
         },
         "mode": "lines",
         "type": "scatter",
         "x": [
          1.388451327545578,
          1.416886741219489,
          1.416886741219489,
          1.4069434095356885
         ],
         "xaxis": "x",
         "y": [
          -3670,
          -3670,
          -3710,
          -3710
         ],
         "yaxis": "y"
        },
        {
         "hoverinfo": "text",
         "marker": {
          "color": "rgb(0,116,217)"
         },
         "mode": "lines",
         "type": "scatter",
         "x": [
          1.4123472720505899,
          1.4216825445502648,
          1.4216825445502648,
          1.416886741219489
         ],
         "xaxis": "x",
         "y": [
          -3615,
          -3615,
          -3690,
          -3690
         ],
         "yaxis": "y"
        },
        {
         "hoverinfo": "text",
         "marker": {
          "color": "rgb(0,116,217)"
         },
         "mode": "lines",
         "type": "scatter",
         "x": [
          0,
          1.3472375816016418,
          1.3472375816016418,
          0
         ],
         "xaxis": "x",
         "y": [
          -3745,
          -3745,
          -3755,
          -3755
         ],
         "yaxis": "y"
        },
        {
         "hoverinfo": "text",
         "marker": {
          "color": "rgb(0,116,217)"
         },
         "mode": "lines",
         "type": "scatter",
         "x": [
          0,
          1.3943953857533942,
          1.3943953857533942,
          1.3472375816016418
         ],
         "xaxis": "x",
         "y": [
          -3735,
          -3735,
          -3750,
          -3750
         ],
         "yaxis": "y"
        },
        {
         "hoverinfo": "text",
         "marker": {
          "color": "rgb(0,116,217)"
         },
         "mode": "lines",
         "type": "scatter",
         "x": [
          0,
          1.202117878724075,
          1.202117878724075,
          0
         ],
         "xaxis": "x",
         "y": [
          -3775,
          -3775,
          -3785,
          -3785
         ],
         "yaxis": "y"
        },
        {
         "hoverinfo": "text",
         "marker": {
          "color": "rgb(0,116,217)"
         },
         "mode": "lines",
         "type": "scatter",
         "x": [
          0,
          1.367261631069258,
          1.367261631069258,
          1.202117878724075
         ],
         "xaxis": "x",
         "y": [
          -3765,
          -3765,
          -3780,
          -3780
         ],
         "yaxis": "y"
        },
        {
         "hoverinfo": "text",
         "marker": {
          "color": "rgb(0,116,217)"
         },
         "mode": "lines",
         "type": "scatter",
         "x": [
          0,
          1.377171855077251,
          1.377171855077251,
          0
         ],
         "xaxis": "x",
         "y": [
          -3795,
          -3795,
          -3805,
          -3805
         ],
         "yaxis": "y"
        },
        {
         "hoverinfo": "text",
         "marker": {
          "color": "rgb(35,205,205)"
         },
         "mode": "lines",
         "type": "scatter",
         "x": [
          0,
          1.1446489689011263e-05,
          1.1446489689011263e-05,
          0
         ],
         "xaxis": "x",
         "y": [
          -3815,
          -3815,
          -3825,
          -3825
         ],
         "yaxis": "y"
        },
        {
         "hoverinfo": "text",
         "marker": {
          "color": "rgb(0,116,217)"
         },
         "mode": "lines",
         "type": "scatter",
         "x": [
          0,
          1.2184296550507763,
          1.2184296550507763,
          0
         ],
         "xaxis": "x",
         "y": [
          -3835,
          -3835,
          -3845,
          -3845
         ],
         "yaxis": "y"
        },
        {
         "hoverinfo": "text",
         "marker": {
          "color": "rgb(0,116,217)"
         },
         "mode": "lines",
         "type": "scatter",
         "x": [
          1.1446489689011263e-05,
          1.3899106931624126,
          1.3899106931624126,
          1.2184296550507763
         ],
         "xaxis": "x",
         "y": [
          -3820,
          -3820,
          -3840,
          -3840
         ],
         "yaxis": "y"
        },
        {
         "hoverinfo": "text",
         "marker": {
          "color": "rgb(0,116,217)"
         },
         "mode": "lines",
         "type": "scatter",
         "x": [
          1.377171855077251,
          1.4067166643315065,
          1.4067166643315065,
          1.3899106931624126
         ],
         "xaxis": "x",
         "y": [
          -3800,
          -3800,
          -3830,
          -3830
         ],
         "yaxis": "y"
        },
        {
         "hoverinfo": "text",
         "marker": {
          "color": "rgb(0,116,217)"
         },
         "mode": "lines",
         "type": "scatter",
         "x": [
          1.367261631069258,
          1.4149702978516094,
          1.4149702978516094,
          1.4067166643315065
         ],
         "xaxis": "x",
         "y": [
          -3772.5,
          -3772.5,
          -3815,
          -3815
         ],
         "yaxis": "y"
        },
        {
         "hoverinfo": "text",
         "marker": {
          "color": "rgb(0,116,217)"
         },
         "mode": "lines",
         "type": "scatter",
         "x": [
          1.3943953857533942,
          1.4191918820754583,
          1.4191918820754583,
          1.4149702978516094
         ],
         "xaxis": "x",
         "y": [
          -3742.5,
          -3742.5,
          -3793.75,
          -3793.75
         ],
         "yaxis": "y"
        },
        {
         "hoverinfo": "text",
         "marker": {
          "color": "rgb(0,116,217)"
         },
         "mode": "lines",
         "type": "scatter",
         "x": [
          0,
          1.233379448898384,
          1.233379448898384,
          0
         ],
         "xaxis": "x",
         "y": [
          -3865,
          -3865,
          -3875,
          -3875
         ],
         "yaxis": "y"
        },
        {
         "hoverinfo": "text",
         "marker": {
          "color": "rgb(0,116,217)"
         },
         "mode": "lines",
         "type": "scatter",
         "x": [
          0,
          1.3711411700079128,
          1.3711411700079128,
          1.233379448898384
         ],
         "xaxis": "x",
         "y": [
          -3855,
          -3855,
          -3870,
          -3870
         ],
         "yaxis": "y"
        },
        {
         "hoverinfo": "text",
         "marker": {
          "color": "rgb(0,116,217)"
         },
         "mode": "lines",
         "type": "scatter",
         "x": [
          0,
          1.365961588753114,
          1.365961588753114,
          0
         ],
         "xaxis": "x",
         "y": [
          -3895,
          -3895,
          -3905,
          -3905
         ],
         "yaxis": "y"
        },
        {
         "hoverinfo": "text",
         "marker": {
          "color": "rgb(0,116,217)"
         },
         "mode": "lines",
         "type": "scatter",
         "x": [
          0,
          1.3990075263078685,
          1.3990075263078685,
          1.365961588753114
         ],
         "xaxis": "x",
         "y": [
          -3885,
          -3885,
          -3900,
          -3900
         ],
         "yaxis": "y"
        },
        {
         "hoverinfo": "text",
         "marker": {
          "color": "rgb(0,116,217)"
         },
         "mode": "lines",
         "type": "scatter",
         "x": [
          1.3711411700079128,
          1.4134461813485866,
          1.4134461813485866,
          1.3990075263078685
         ],
         "xaxis": "x",
         "y": [
          -3862.5,
          -3862.5,
          -3892.5,
          -3892.5
         ],
         "yaxis": "y"
        },
        {
         "hoverinfo": "text",
         "marker": {
          "color": "rgb(0,116,217)"
         },
         "mode": "lines",
         "type": "scatter",
         "x": [
          0,
          1.3337135368974407,
          1.3337135368974407,
          0
         ],
         "xaxis": "x",
         "y": [
          -3925,
          -3925,
          -3935,
          -3935
         ],
         "yaxis": "y"
        },
        {
         "hoverinfo": "text",
         "marker": {
          "color": "rgb(0,116,217)"
         },
         "mode": "lines",
         "type": "scatter",
         "x": [
          0,
          1.371638316496319,
          1.371638316496319,
          1.3337135368974407
         ],
         "xaxis": "x",
         "y": [
          -3915,
          -3915,
          -3930,
          -3930
         ],
         "yaxis": "y"
        },
        {
         "hoverinfo": "text",
         "marker": {
          "color": "rgb(0,116,217)"
         },
         "mode": "lines",
         "type": "scatter",
         "x": [
          0,
          1.0541494048543236,
          1.0541494048543236,
          0
         ],
         "xaxis": "x",
         "y": [
          -3945,
          -3945,
          -3955,
          -3955
         ],
         "yaxis": "y"
        },
        {
         "hoverinfo": "text",
         "marker": {
          "color": "rgb(0,116,217)"
         },
         "mode": "lines",
         "type": "scatter",
         "x": [
          0,
          1.411156999957947,
          1.411156999957947,
          0
         ],
         "xaxis": "x",
         "y": [
          -3965,
          -3965,
          -3975,
          -3975
         ],
         "yaxis": "y"
        },
        {
         "hoverinfo": "text",
         "marker": {
          "color": "rgb(0,116,217)"
         },
         "mode": "lines",
         "type": "scatter",
         "x": [
          1.0541494048543236,
          1.4134500303419728,
          1.4134500303419728,
          1.411156999957947
         ],
         "xaxis": "x",
         "y": [
          -3950,
          -3950,
          -3970,
          -3970
         ],
         "yaxis": "y"
        },
        {
         "hoverinfo": "text",
         "marker": {
          "color": "rgb(0,116,217)"
         },
         "mode": "lines",
         "type": "scatter",
         "x": [
          1.371638316496319,
          1.415702411656751,
          1.415702411656751,
          1.4134500303419728
         ],
         "xaxis": "x",
         "y": [
          -3922.5,
          -3922.5,
          -3960,
          -3960
         ],
         "yaxis": "y"
        },
        {
         "hoverinfo": "text",
         "marker": {
          "color": "rgb(0,116,217)"
         },
         "mode": "lines",
         "type": "scatter",
         "x": [
          1.4134461813485866,
          1.422185036392186,
          1.422185036392186,
          1.415702411656751
         ],
         "xaxis": "x",
         "y": [
          -3877.5,
          -3877.5,
          -3941.25,
          -3941.25
         ],
         "yaxis": "y"
        },
        {
         "hoverinfo": "text",
         "marker": {
          "color": "rgb(0,116,217)"
         },
         "mode": "lines",
         "type": "scatter",
         "x": [
          1.4191918820754583,
          1.4267446220518252,
          1.4267446220518252,
          1.422185036392186
         ],
         "xaxis": "x",
         "y": [
          -3768.125,
          -3768.125,
          -3909.375,
          -3909.375
         ],
         "yaxis": "y"
        },
        {
         "hoverinfo": "text",
         "marker": {
          "color": "rgb(0,116,217)"
         },
         "mode": "lines",
         "type": "scatter",
         "x": [
          1.4216825445502648,
          1.4339490350105697,
          1.4339490350105697,
          1.4267446220518252
         ],
         "xaxis": "x",
         "y": [
          -3652.5,
          -3652.5,
          -3838.75,
          -3838.75
         ],
         "yaxis": "y"
        },
        {
         "hoverinfo": "text",
         "marker": {
          "color": "rgb(61,153,112)"
         },
         "mode": "lines",
         "type": "scatter",
         "x": [
          0,
          0.7552567618768229,
          0.7552567618768229,
          0
         ],
         "xaxis": "x",
         "y": [
          -4045,
          -4045,
          -4055,
          -4055
         ],
         "yaxis": "y"
        },
        {
         "hoverinfo": "text",
         "marker": {
          "color": "rgb(0,116,217)"
         },
         "mode": "lines",
         "type": "scatter",
         "x": [
          0,
          1.2707828924962306,
          1.2707828924962306,
          0.7552567618768229
         ],
         "xaxis": "x",
         "y": [
          -4035,
          -4035,
          -4050,
          -4050
         ],
         "yaxis": "y"
        },
        {
         "hoverinfo": "text",
         "marker": {
          "color": "rgb(0,116,217)"
         },
         "mode": "lines",
         "type": "scatter",
         "x": [
          0,
          1.289639721522227,
          1.289639721522227,
          1.2707828924962306
         ],
         "xaxis": "x",
         "y": [
          -4025,
          -4025,
          -4042.5,
          -4042.5
         ],
         "yaxis": "y"
        },
        {
         "hoverinfo": "text",
         "marker": {
          "color": "rgb(0,116,217)"
         },
         "mode": "lines",
         "type": "scatter",
         "x": [
          0,
          1.3592851580493737,
          1.3592851580493737,
          1.289639721522227
         ],
         "xaxis": "x",
         "y": [
          -4015,
          -4015,
          -4033.75,
          -4033.75
         ],
         "yaxis": "y"
        },
        {
         "hoverinfo": "text",
         "marker": {
          "color": "rgb(0,116,217)"
         },
         "mode": "lines",
         "type": "scatter",
         "x": [
          0,
          1.368537160252101,
          1.368537160252101,
          1.3592851580493737
         ],
         "xaxis": "x",
         "y": [
          -4005,
          -4005,
          -4024.375,
          -4024.375
         ],
         "yaxis": "y"
        },
        {
         "hoverinfo": "text",
         "marker": {
          "color": "rgb(0,116,217)"
         },
         "mode": "lines",
         "type": "scatter",
         "x": [
          0,
          1.381346312929618,
          1.381346312929618,
          1.368537160252101
         ],
         "xaxis": "x",
         "y": [
          -3995,
          -3995,
          -4014.6875,
          -4014.6875
         ],
         "yaxis": "y"
        },
        {
         "hoverinfo": "text",
         "marker": {
          "color": "rgb(0,116,217)"
         },
         "mode": "lines",
         "type": "scatter",
         "x": [
          0,
          1.3863733400651272,
          1.3863733400651272,
          1.381346312929618
         ],
         "xaxis": "x",
         "y": [
          -3985,
          -3985,
          -4004.84375,
          -4004.84375
         ],
         "yaxis": "y"
        },
        {
         "hoverinfo": "text",
         "marker": {
          "color": "rgb(0,116,217)"
         },
         "mode": "lines",
         "type": "scatter",
         "x": [
          0,
          1.3661597498091143,
          1.3661597498091143,
          0
         ],
         "xaxis": "x",
         "y": [
          -4065,
          -4065,
          -4075,
          -4075
         ],
         "yaxis": "y"
        },
        {
         "hoverinfo": "text",
         "marker": {
          "color": "rgb(0,116,217)"
         },
         "mode": "lines",
         "type": "scatter",
         "x": [
          0,
          1.3817432082240377,
          1.3817432082240377,
          0
         ],
         "xaxis": "x",
         "y": [
          -4085,
          -4085,
          -4095,
          -4095
         ],
         "yaxis": "y"
        },
        {
         "hoverinfo": "text",
         "marker": {
          "color": "rgb(0,116,217)"
         },
         "mode": "lines",
         "type": "scatter",
         "x": [
          1.3661597498091143,
          1.4073820492571611,
          1.4073820492571611,
          1.3817432082240377
         ],
         "xaxis": "x",
         "y": [
          -4070,
          -4070,
          -4090,
          -4090
         ],
         "yaxis": "y"
        },
        {
         "hoverinfo": "text",
         "marker": {
          "color": "rgb(0,116,217)"
         },
         "mode": "lines",
         "type": "scatter",
         "x": [
          0,
          1.0768706987888306,
          1.0768706987888306,
          0
         ],
         "xaxis": "x",
         "y": [
          -4105,
          -4105,
          -4115,
          -4115
         ],
         "yaxis": "y"
        },
        {
         "hoverinfo": "text",
         "marker": {
          "color": "rgb(0,116,217)"
         },
         "mode": "lines",
         "type": "scatter",
         "x": [
          0,
          1.3374011318741692,
          1.3374011318741692,
          0
         ],
         "xaxis": "x",
         "y": [
          -4135,
          -4135,
          -4145,
          -4145
         ],
         "yaxis": "y"
        },
        {
         "hoverinfo": "text",
         "marker": {
          "color": "rgb(0,116,217)"
         },
         "mode": "lines",
         "type": "scatter",
         "x": [
          0,
          1.4019464339813945,
          1.4019464339813945,
          1.3374011318741692
         ],
         "xaxis": "x",
         "y": [
          -4125,
          -4125,
          -4140,
          -4140
         ],
         "yaxis": "y"
        },
        {
         "hoverinfo": "text",
         "marker": {
          "color": "rgb(0,116,217)"
         },
         "mode": "lines",
         "type": "scatter",
         "x": [
          1.0768706987888306,
          1.415955312310524,
          1.415955312310524,
          1.4019464339813945
         ],
         "xaxis": "x",
         "y": [
          -4110,
          -4110,
          -4132.5,
          -4132.5
         ],
         "yaxis": "y"
        },
        {
         "hoverinfo": "text",
         "marker": {
          "color": "rgb(0,116,217)"
         },
         "mode": "lines",
         "type": "scatter",
         "x": [
          1.4073820492571611,
          1.4185498897847433,
          1.4185498897847433,
          1.415955312310524
         ],
         "xaxis": "x",
         "y": [
          -4080,
          -4080,
          -4121.25,
          -4121.25
         ],
         "yaxis": "y"
        },
        {
         "hoverinfo": "text",
         "marker": {
          "color": "rgb(0,116,217)"
         },
         "mode": "lines",
         "type": "scatter",
         "x": [
          1.3863733400651272,
          1.4231436761470684,
          1.4231436761470684,
          1.4185498897847433
         ],
         "xaxis": "x",
         "y": [
          -3994.921875,
          -3994.921875,
          -4100.625,
          -4100.625
         ],
         "yaxis": "y"
        },
        {
         "hoverinfo": "text",
         "marker": {
          "color": "rgb(0,116,217)"
         },
         "mode": "lines",
         "type": "scatter",
         "x": [
          0,
          1.1142502888280974,
          1.1142502888280974,
          0
         ],
         "xaxis": "x",
         "y": [
          -4155,
          -4155,
          -4165,
          -4165
         ],
         "yaxis": "y"
        },
        {
         "hoverinfo": "text",
         "marker": {
          "color": "rgb(0,116,217)"
         },
         "mode": "lines",
         "type": "scatter",
         "x": [
          0,
          1.284779449797848,
          1.284779449797848,
          0
         ],
         "xaxis": "x",
         "y": [
          -4185,
          -4185,
          -4195,
          -4195
         ],
         "yaxis": "y"
        },
        {
         "hoverinfo": "text",
         "marker": {
          "color": "rgb(0,116,217)"
         },
         "mode": "lines",
         "type": "scatter",
         "x": [
          0,
          1.3694853822923774,
          1.3694853822923774,
          1.284779449797848
         ],
         "xaxis": "x",
         "y": [
          -4175,
          -4175,
          -4190,
          -4190
         ],
         "yaxis": "y"
        },
        {
         "hoverinfo": "text",
         "marker": {
          "color": "rgb(0,116,217)"
         },
         "mode": "lines",
         "type": "scatter",
         "x": [
          1.1142502888280974,
          1.4130982328227109,
          1.4130982328227109,
          1.3694853822923774
         ],
         "xaxis": "x",
         "y": [
          -4160,
          -4160,
          -4182.5,
          -4182.5
         ],
         "yaxis": "y"
        },
        {
         "hoverinfo": "text",
         "marker": {
          "color": "rgb(0,116,217)"
         },
         "mode": "lines",
         "type": "scatter",
         "x": [
          0,
          1.2806297909294078,
          1.2806297909294078,
          0
         ],
         "xaxis": "x",
         "y": [
          -4215,
          -4215,
          -4225,
          -4225
         ],
         "yaxis": "y"
        },
        {
         "hoverinfo": "text",
         "marker": {
          "color": "rgb(0,116,217)"
         },
         "mode": "lines",
         "type": "scatter",
         "x": [
          0,
          1.3794697996704692,
          1.3794697996704692,
          1.2806297909294078
         ],
         "xaxis": "x",
         "y": [
          -4205,
          -4205,
          -4220,
          -4220
         ],
         "yaxis": "y"
        },
        {
         "hoverinfo": "text",
         "marker": {
          "color": "rgb(0,116,217)"
         },
         "mode": "lines",
         "type": "scatter",
         "x": [
          0,
          1.296092430916665,
          1.296092430916665,
          0
         ],
         "xaxis": "x",
         "y": [
          -4245,
          -4245,
          -4255,
          -4255
         ],
         "yaxis": "y"
        },
        {
         "hoverinfo": "text",
         "marker": {
          "color": "rgb(0,116,217)"
         },
         "mode": "lines",
         "type": "scatter",
         "x": [
          0,
          1.3336007201039537,
          1.3336007201039537,
          1.296092430916665
         ],
         "xaxis": "x",
         "y": [
          -4235,
          -4235,
          -4250,
          -4250
         ],
         "yaxis": "y"
        },
        {
         "hoverinfo": "text",
         "marker": {
          "color": "rgb(0,116,217)"
         },
         "mode": "lines",
         "type": "scatter",
         "x": [
          0,
          1.3651206431700564,
          1.3651206431700564,
          0
         ],
         "xaxis": "x",
         "y": [
          -4265,
          -4265,
          -4275,
          -4275
         ],
         "yaxis": "y"
        },
        {
         "hoverinfo": "text",
         "marker": {
          "color": "rgb(0,116,217)"
         },
         "mode": "lines",
         "type": "scatter",
         "x": [
          1.3336007201039537,
          1.4097595366145919,
          1.4097595366145919,
          1.3651206431700564
         ],
         "xaxis": "x",
         "y": [
          -4242.5,
          -4242.5,
          -4270,
          -4270
         ],
         "yaxis": "y"
        },
        {
         "hoverinfo": "text",
         "marker": {
          "color": "rgb(0,116,217)"
         },
         "mode": "lines",
         "type": "scatter",
         "x": [
          1.3794697996704692,
          1.4157348859842849,
          1.4157348859842849,
          1.4097595366145919
         ],
         "xaxis": "x",
         "y": [
          -4212.5,
          -4212.5,
          -4256.25,
          -4256.25
         ],
         "yaxis": "y"
        },
        {
         "hoverinfo": "text",
         "marker": {
          "color": "rgb(0,116,217)"
         },
         "mode": "lines",
         "type": "scatter",
         "x": [
          1.4130982328227109,
          1.4224564838692892,
          1.4224564838692892,
          1.4157348859842849
         ],
         "xaxis": "x",
         "y": [
          -4171.25,
          -4171.25,
          -4234.375,
          -4234.375
         ],
         "yaxis": "y"
        },
        {
         "hoverinfo": "text",
         "marker": {
          "color": "rgb(255,65,54)"
         },
         "mode": "lines",
         "type": "scatter",
         "x": [
          0,
          0.8611328301464871,
          0.8611328301464871,
          0
         ],
         "xaxis": "x",
         "y": [
          -4285,
          -4285,
          -4295,
          -4295
         ],
         "yaxis": "y"
        },
        {
         "hoverinfo": "text",
         "marker": {
          "color": "rgb(0,116,217)"
         },
         "mode": "lines",
         "type": "scatter",
         "x": [
          0,
          1.0991290873025152,
          1.0991290873025152,
          0
         ],
         "xaxis": "x",
         "y": [
          -4305,
          -4305,
          -4315,
          -4315
         ],
         "yaxis": "y"
        },
        {
         "hoverinfo": "text",
         "marker": {
          "color": "rgb(0,116,217)"
         },
         "mode": "lines",
         "type": "scatter",
         "x": [
          0,
          1.217593716835775,
          1.217593716835775,
          0
         ],
         "xaxis": "x",
         "y": [
          -4325,
          -4325,
          -4335,
          -4335
         ],
         "yaxis": "y"
        },
        {
         "hoverinfo": "text",
         "marker": {
          "color": "rgb(0,116,217)"
         },
         "mode": "lines",
         "type": "scatter",
         "x": [
          1.0991290873025152,
          1.4083877922556434,
          1.4083877922556434,
          1.217593716835775
         ],
         "xaxis": "x",
         "y": [
          -4310,
          -4310,
          -4330,
          -4330
         ],
         "yaxis": "y"
        },
        {
         "hoverinfo": "text",
         "marker": {
          "color": "rgb(0,116,217)"
         },
         "mode": "lines",
         "type": "scatter",
         "x": [
          0.8611328301464871,
          1.4163516067974244,
          1.4163516067974244,
          1.4083877922556434
         ],
         "xaxis": "x",
         "y": [
          -4290,
          -4290,
          -4320,
          -4320
         ],
         "yaxis": "y"
        },
        {
         "hoverinfo": "text",
         "marker": {
          "color": "rgb(0,116,217)"
         },
         "mode": "lines",
         "type": "scatter",
         "x": [
          0,
          1.2855767391713822,
          1.2855767391713822,
          0
         ],
         "xaxis": "x",
         "y": [
          -4345,
          -4345,
          -4355,
          -4355
         ],
         "yaxis": "y"
        },
        {
         "hoverinfo": "text",
         "marker": {
          "color": "rgb(0,116,217)"
         },
         "mode": "lines",
         "type": "scatter",
         "x": [
          0,
          1.339477872109399,
          1.339477872109399,
          0
         ],
         "xaxis": "x",
         "y": [
          -4365,
          -4365,
          -4375,
          -4375
         ],
         "yaxis": "y"
        },
        {
         "hoverinfo": "text",
         "marker": {
          "color": "rgb(0,116,217)"
         },
         "mode": "lines",
         "type": "scatter",
         "x": [
          0,
          1.3745017118262135,
          1.3745017118262135,
          0
         ],
         "xaxis": "x",
         "y": [
          -4385,
          -4385,
          -4395,
          -4395
         ],
         "yaxis": "y"
        },
        {
         "hoverinfo": "text",
         "marker": {
          "color": "rgb(0,116,217)"
         },
         "mode": "lines",
         "type": "scatter",
         "x": [
          1.339477872109399,
          1.4033777259682727,
          1.4033777259682727,
          1.3745017118262135
         ],
         "xaxis": "x",
         "y": [
          -4370,
          -4370,
          -4390,
          -4390
         ],
         "yaxis": "y"
        },
        {
         "hoverinfo": "text",
         "marker": {
          "color": "rgb(0,116,217)"
         },
         "mode": "lines",
         "type": "scatter",
         "x": [
          1.2855767391713822,
          1.4113060987769421,
          1.4113060987769421,
          1.4033777259682727
         ],
         "xaxis": "x",
         "y": [
          -4350,
          -4350,
          -4380,
          -4380
         ],
         "yaxis": "y"
        },
        {
         "hoverinfo": "text",
         "marker": {
          "color": "rgb(35,205,205)"
         },
         "mode": "lines",
         "type": "scatter",
         "x": [
          0,
          0.2240372065985732,
          0.2240372065985732,
          0
         ],
         "xaxis": "x",
         "y": [
          -4405,
          -4405,
          -4415,
          -4415
         ],
         "yaxis": "y"
        },
        {
         "hoverinfo": "text",
         "marker": {
          "color": "rgb(0,116,217)"
         },
         "mode": "lines",
         "type": "scatter",
         "x": [
          0,
          1.3488740737093348,
          1.3488740737093348,
          0
         ],
         "xaxis": "x",
         "y": [
          -4425,
          -4425,
          -4435,
          -4435
         ],
         "yaxis": "y"
        },
        {
         "hoverinfo": "text",
         "marker": {
          "color": "rgb(0,116,217)"
         },
         "mode": "lines",
         "type": "scatter",
         "x": [
          0.2240372065985732,
          1.3728762698425871,
          1.3728762698425871,
          1.3488740737093348
         ],
         "xaxis": "x",
         "y": [
          -4410,
          -4410,
          -4430,
          -4430
         ],
         "yaxis": "y"
        },
        {
         "hoverinfo": "text",
         "marker": {
          "color": "rgb(0,116,217)"
         },
         "mode": "lines",
         "type": "scatter",
         "x": [
          0,
          1.3075054061201128,
          1.3075054061201128,
          0
         ],
         "xaxis": "x",
         "y": [
          -4455,
          -4455,
          -4465,
          -4465
         ],
         "yaxis": "y"
        },
        {
         "hoverinfo": "text",
         "marker": {
          "color": "rgb(0,116,217)"
         },
         "mode": "lines",
         "type": "scatter",
         "x": [
          0,
          1.3967694206336252,
          1.3967694206336252,
          1.3075054061201128
         ],
         "xaxis": "x",
         "y": [
          -4445,
          -4445,
          -4460,
          -4460
         ],
         "yaxis": "y"
        },
        {
         "hoverinfo": "text",
         "marker": {
          "color": "rgb(0,116,217)"
         },
         "mode": "lines",
         "type": "scatter",
         "x": [
          1.3728762698425871,
          1.412243950565327,
          1.412243950565327,
          1.3967694206336252
         ],
         "xaxis": "x",
         "y": [
          -4420,
          -4420,
          -4452.5,
          -4452.5
         ],
         "yaxis": "y"
        },
        {
         "hoverinfo": "text",
         "marker": {
          "color": "rgb(0,116,217)"
         },
         "mode": "lines",
         "type": "scatter",
         "x": [
          1.4113060987769421,
          1.4190469078718935,
          1.4190469078718935,
          1.412243950565327
         ],
         "xaxis": "x",
         "y": [
          -4365,
          -4365,
          -4436.25,
          -4436.25
         ],
         "yaxis": "y"
        },
        {
         "hoverinfo": "text",
         "marker": {
          "color": "rgb(0,116,217)"
         },
         "mode": "lines",
         "type": "scatter",
         "x": [
          1.4163516067974244,
          1.4235855297077278,
          1.4235855297077278,
          1.4190469078718935
         ],
         "xaxis": "x",
         "y": [
          -4305,
          -4305,
          -4400.625,
          -4400.625
         ],
         "yaxis": "y"
        },
        {
         "hoverinfo": "text",
         "marker": {
          "color": "rgb(0,116,217)"
         },
         "mode": "lines",
         "type": "scatter",
         "x": [
          1.4224564838692892,
          1.4312322148442722,
          1.4312322148442722,
          1.4235855297077278
         ],
         "xaxis": "x",
         "y": [
          -4202.8125,
          -4202.8125,
          -4352.8125,
          -4352.8125
         ],
         "yaxis": "y"
        },
        {
         "hoverinfo": "text",
         "marker": {
          "color": "rgb(0,116,217)"
         },
         "mode": "lines",
         "type": "scatter",
         "x": [
          1.4231436761470684,
          1.4345388376576371,
          1.4345388376576371,
          1.4312322148442722
         ],
         "xaxis": "x",
         "y": [
          -4047.7734375,
          -4047.7734375,
          -4277.8125,
          -4277.8125
         ],
         "yaxis": "y"
        },
        {
         "hoverinfo": "text",
         "marker": {
          "color": "rgb(0,116,217)"
         },
         "mode": "lines",
         "type": "scatter",
         "x": [
          1.4339490350105697,
          1.4477478280668399,
          1.4477478280668399,
          1.4345388376576371
         ],
         "xaxis": "x",
         "y": [
          -3745.625,
          -3745.625,
          -4162.79296875,
          -4162.79296875
         ],
         "yaxis": "y"
        },
        {
         "hoverinfo": "text",
         "marker": {
          "color": "rgb(0,116,217)"
         },
         "mode": "lines",
         "type": "scatter",
         "x": [
          1.4464485145334929,
          1.459645332557871,
          1.459645332557871,
          1.4477478280668399
         ],
         "xaxis": "x",
         "y": [
          -2824.462890625,
          -2824.462890625,
          -3954.208984375,
          -3954.208984375
         ],
         "yaxis": "y"
        },
        {
         "hoverinfo": "text",
         "marker": {
          "color": "rgb(0,116,217)"
         },
         "mode": "lines",
         "type": "scatter",
         "x": [
          1.4421668980141784,
          1.4741597751011997,
          1.4741597751011997,
          1.459645332557871
         ],
         "xaxis": "x",
         "y": [
          -949.0869140625,
          -949.0869140625,
          -3389.3359375,
          -3389.3359375
         ],
         "yaxis": "y"
        }
       ],
       "layout": {
        "autosize": false,
        "height": 5000,
        "hovermode": "closest",
        "showlegend": false,
        "template": {
         "data": {
          "bar": [
           {
            "error_x": {
             "color": "#2a3f5f"
            },
            "error_y": {
             "color": "#2a3f5f"
            },
            "marker": {
             "line": {
              "color": "#E5ECF6",
              "width": 0.5
             },
             "pattern": {
              "fillmode": "overlay",
              "size": 10,
              "solidity": 0.2
             }
            },
            "type": "bar"
           }
          ],
          "barpolar": [
           {
            "marker": {
             "line": {
              "color": "#E5ECF6",
              "width": 0.5
             },
             "pattern": {
              "fillmode": "overlay",
              "size": 10,
              "solidity": 0.2
             }
            },
            "type": "barpolar"
           }
          ],
          "carpet": [
           {
            "aaxis": {
             "endlinecolor": "#2a3f5f",
             "gridcolor": "white",
             "linecolor": "white",
             "minorgridcolor": "white",
             "startlinecolor": "#2a3f5f"
            },
            "baxis": {
             "endlinecolor": "#2a3f5f",
             "gridcolor": "white",
             "linecolor": "white",
             "minorgridcolor": "white",
             "startlinecolor": "#2a3f5f"
            },
            "type": "carpet"
           }
          ],
          "choropleth": [
           {
            "colorbar": {
             "outlinewidth": 0,
             "ticks": ""
            },
            "type": "choropleth"
           }
          ],
          "contour": [
           {
            "colorbar": {
             "outlinewidth": 0,
             "ticks": ""
            },
            "colorscale": [
             [
              0,
              "#0d0887"
             ],
             [
              0.1111111111111111,
              "#46039f"
             ],
             [
              0.2222222222222222,
              "#7201a8"
             ],
             [
              0.3333333333333333,
              "#9c179e"
             ],
             [
              0.4444444444444444,
              "#bd3786"
             ],
             [
              0.5555555555555556,
              "#d8576b"
             ],
             [
              0.6666666666666666,
              "#ed7953"
             ],
             [
              0.7777777777777778,
              "#fb9f3a"
             ],
             [
              0.8888888888888888,
              "#fdca26"
             ],
             [
              1,
              "#f0f921"
             ]
            ],
            "type": "contour"
           }
          ],
          "contourcarpet": [
           {
            "colorbar": {
             "outlinewidth": 0,
             "ticks": ""
            },
            "type": "contourcarpet"
           }
          ],
          "heatmap": [
           {
            "colorbar": {
             "outlinewidth": 0,
             "ticks": ""
            },
            "colorscale": [
             [
              0,
              "#0d0887"
             ],
             [
              0.1111111111111111,
              "#46039f"
             ],
             [
              0.2222222222222222,
              "#7201a8"
             ],
             [
              0.3333333333333333,
              "#9c179e"
             ],
             [
              0.4444444444444444,
              "#bd3786"
             ],
             [
              0.5555555555555556,
              "#d8576b"
             ],
             [
              0.6666666666666666,
              "#ed7953"
             ],
             [
              0.7777777777777778,
              "#fb9f3a"
             ],
             [
              0.8888888888888888,
              "#fdca26"
             ],
             [
              1,
              "#f0f921"
             ]
            ],
            "type": "heatmap"
           }
          ],
          "heatmapgl": [
           {
            "colorbar": {
             "outlinewidth": 0,
             "ticks": ""
            },
            "colorscale": [
             [
              0,
              "#0d0887"
             ],
             [
              0.1111111111111111,
              "#46039f"
             ],
             [
              0.2222222222222222,
              "#7201a8"
             ],
             [
              0.3333333333333333,
              "#9c179e"
             ],
             [
              0.4444444444444444,
              "#bd3786"
             ],
             [
              0.5555555555555556,
              "#d8576b"
             ],
             [
              0.6666666666666666,
              "#ed7953"
             ],
             [
              0.7777777777777778,
              "#fb9f3a"
             ],
             [
              0.8888888888888888,
              "#fdca26"
             ],
             [
              1,
              "#f0f921"
             ]
            ],
            "type": "heatmapgl"
           }
          ],
          "histogram": [
           {
            "marker": {
             "pattern": {
              "fillmode": "overlay",
              "size": 10,
              "solidity": 0.2
             }
            },
            "type": "histogram"
           }
          ],
          "histogram2d": [
           {
            "colorbar": {
             "outlinewidth": 0,
             "ticks": ""
            },
            "colorscale": [
             [
              0,
              "#0d0887"
             ],
             [
              0.1111111111111111,
              "#46039f"
             ],
             [
              0.2222222222222222,
              "#7201a8"
             ],
             [
              0.3333333333333333,
              "#9c179e"
             ],
             [
              0.4444444444444444,
              "#bd3786"
             ],
             [
              0.5555555555555556,
              "#d8576b"
             ],
             [
              0.6666666666666666,
              "#ed7953"
             ],
             [
              0.7777777777777778,
              "#fb9f3a"
             ],
             [
              0.8888888888888888,
              "#fdca26"
             ],
             [
              1,
              "#f0f921"
             ]
            ],
            "type": "histogram2d"
           }
          ],
          "histogram2dcontour": [
           {
            "colorbar": {
             "outlinewidth": 0,
             "ticks": ""
            },
            "colorscale": [
             [
              0,
              "#0d0887"
             ],
             [
              0.1111111111111111,
              "#46039f"
             ],
             [
              0.2222222222222222,
              "#7201a8"
             ],
             [
              0.3333333333333333,
              "#9c179e"
             ],
             [
              0.4444444444444444,
              "#bd3786"
             ],
             [
              0.5555555555555556,
              "#d8576b"
             ],
             [
              0.6666666666666666,
              "#ed7953"
             ],
             [
              0.7777777777777778,
              "#fb9f3a"
             ],
             [
              0.8888888888888888,
              "#fdca26"
             ],
             [
              1,
              "#f0f921"
             ]
            ],
            "type": "histogram2dcontour"
           }
          ],
          "mesh3d": [
           {
            "colorbar": {
             "outlinewidth": 0,
             "ticks": ""
            },
            "type": "mesh3d"
           }
          ],
          "parcoords": [
           {
            "line": {
             "colorbar": {
              "outlinewidth": 0,
              "ticks": ""
             }
            },
            "type": "parcoords"
           }
          ],
          "pie": [
           {
            "automargin": true,
            "type": "pie"
           }
          ],
          "scatter": [
           {
            "fillpattern": {
             "fillmode": "overlay",
             "size": 10,
             "solidity": 0.2
            },
            "type": "scatter"
           }
          ],
          "scatter3d": [
           {
            "line": {
             "colorbar": {
              "outlinewidth": 0,
              "ticks": ""
             }
            },
            "marker": {
             "colorbar": {
              "outlinewidth": 0,
              "ticks": ""
             }
            },
            "type": "scatter3d"
           }
          ],
          "scattercarpet": [
           {
            "marker": {
             "colorbar": {
              "outlinewidth": 0,
              "ticks": ""
             }
            },
            "type": "scattercarpet"
           }
          ],
          "scattergeo": [
           {
            "marker": {
             "colorbar": {
              "outlinewidth": 0,
              "ticks": ""
             }
            },
            "type": "scattergeo"
           }
          ],
          "scattergl": [
           {
            "marker": {
             "colorbar": {
              "outlinewidth": 0,
              "ticks": ""
             }
            },
            "type": "scattergl"
           }
          ],
          "scattermapbox": [
           {
            "marker": {
             "colorbar": {
              "outlinewidth": 0,
              "ticks": ""
             }
            },
            "type": "scattermapbox"
           }
          ],
          "scatterpolar": [
           {
            "marker": {
             "colorbar": {
              "outlinewidth": 0,
              "ticks": ""
             }
            },
            "type": "scatterpolar"
           }
          ],
          "scatterpolargl": [
           {
            "marker": {
             "colorbar": {
              "outlinewidth": 0,
              "ticks": ""
             }
            },
            "type": "scatterpolargl"
           }
          ],
          "scatterternary": [
           {
            "marker": {
             "colorbar": {
              "outlinewidth": 0,
              "ticks": ""
             }
            },
            "type": "scatterternary"
           }
          ],
          "surface": [
           {
            "colorbar": {
             "outlinewidth": 0,
             "ticks": ""
            },
            "colorscale": [
             [
              0,
              "#0d0887"
             ],
             [
              0.1111111111111111,
              "#46039f"
             ],
             [
              0.2222222222222222,
              "#7201a8"
             ],
             [
              0.3333333333333333,
              "#9c179e"
             ],
             [
              0.4444444444444444,
              "#bd3786"
             ],
             [
              0.5555555555555556,
              "#d8576b"
             ],
             [
              0.6666666666666666,
              "#ed7953"
             ],
             [
              0.7777777777777778,
              "#fb9f3a"
             ],
             [
              0.8888888888888888,
              "#fdca26"
             ],
             [
              1,
              "#f0f921"
             ]
            ],
            "type": "surface"
           }
          ],
          "table": [
           {
            "cells": {
             "fill": {
              "color": "#EBF0F8"
             },
             "line": {
              "color": "white"
             }
            },
            "header": {
             "fill": {
              "color": "#C8D4E3"
             },
             "line": {
              "color": "white"
             }
            },
            "type": "table"
           }
          ]
         },
         "layout": {
          "annotationdefaults": {
           "arrowcolor": "#2a3f5f",
           "arrowhead": 0,
           "arrowwidth": 1
          },
          "autotypenumbers": "strict",
          "coloraxis": {
           "colorbar": {
            "outlinewidth": 0,
            "ticks": ""
           }
          },
          "colorscale": {
           "diverging": [
            [
             0,
             "#8e0152"
            ],
            [
             0.1,
             "#c51b7d"
            ],
            [
             0.2,
             "#de77ae"
            ],
            [
             0.3,
             "#f1b6da"
            ],
            [
             0.4,
             "#fde0ef"
            ],
            [
             0.5,
             "#f7f7f7"
            ],
            [
             0.6,
             "#e6f5d0"
            ],
            [
             0.7,
             "#b8e186"
            ],
            [
             0.8,
             "#7fbc41"
            ],
            [
             0.9,
             "#4d9221"
            ],
            [
             1,
             "#276419"
            ]
           ],
           "sequential": [
            [
             0,
             "#0d0887"
            ],
            [
             0.1111111111111111,
             "#46039f"
            ],
            [
             0.2222222222222222,
             "#7201a8"
            ],
            [
             0.3333333333333333,
             "#9c179e"
            ],
            [
             0.4444444444444444,
             "#bd3786"
            ],
            [
             0.5555555555555556,
             "#d8576b"
            ],
            [
             0.6666666666666666,
             "#ed7953"
            ],
            [
             0.7777777777777778,
             "#fb9f3a"
            ],
            [
             0.8888888888888888,
             "#fdca26"
            ],
            [
             1,
             "#f0f921"
            ]
           ],
           "sequentialminus": [
            [
             0,
             "#0d0887"
            ],
            [
             0.1111111111111111,
             "#46039f"
            ],
            [
             0.2222222222222222,
             "#7201a8"
            ],
            [
             0.3333333333333333,
             "#9c179e"
            ],
            [
             0.4444444444444444,
             "#bd3786"
            ],
            [
             0.5555555555555556,
             "#d8576b"
            ],
            [
             0.6666666666666666,
             "#ed7953"
            ],
            [
             0.7777777777777778,
             "#fb9f3a"
            ],
            [
             0.8888888888888888,
             "#fdca26"
            ],
            [
             1,
             "#f0f921"
            ]
           ]
          },
          "colorway": [
           "#636efa",
           "#EF553B",
           "#00cc96",
           "#ab63fa",
           "#FFA15A",
           "#19d3f3",
           "#FF6692",
           "#B6E880",
           "#FF97FF",
           "#FECB52"
          ],
          "font": {
           "color": "#2a3f5f"
          },
          "geo": {
           "bgcolor": "white",
           "lakecolor": "white",
           "landcolor": "#E5ECF6",
           "showlakes": true,
           "showland": true,
           "subunitcolor": "white"
          },
          "hoverlabel": {
           "align": "left"
          },
          "hovermode": "closest",
          "mapbox": {
           "style": "light"
          },
          "paper_bgcolor": "white",
          "plot_bgcolor": "#E5ECF6",
          "polar": {
           "angularaxis": {
            "gridcolor": "white",
            "linecolor": "white",
            "ticks": ""
           },
           "bgcolor": "#E5ECF6",
           "radialaxis": {
            "gridcolor": "white",
            "linecolor": "white",
            "ticks": ""
           }
          },
          "scene": {
           "xaxis": {
            "backgroundcolor": "#E5ECF6",
            "gridcolor": "white",
            "gridwidth": 2,
            "linecolor": "white",
            "showbackground": true,
            "ticks": "",
            "zerolinecolor": "white"
           },
           "yaxis": {
            "backgroundcolor": "#E5ECF6",
            "gridcolor": "white",
            "gridwidth": 2,
            "linecolor": "white",
            "showbackground": true,
            "ticks": "",
            "zerolinecolor": "white"
           },
           "zaxis": {
            "backgroundcolor": "#E5ECF6",
            "gridcolor": "white",
            "gridwidth": 2,
            "linecolor": "white",
            "showbackground": true,
            "ticks": "",
            "zerolinecolor": "white"
           }
          },
          "shapedefaults": {
           "line": {
            "color": "#2a3f5f"
           }
          },
          "ternary": {
           "aaxis": {
            "gridcolor": "white",
            "linecolor": "white",
            "ticks": ""
           },
           "baxis": {
            "gridcolor": "white",
            "linecolor": "white",
            "ticks": ""
           },
           "bgcolor": "#E5ECF6",
           "caxis": {
            "gridcolor": "white",
            "linecolor": "white",
            "ticks": ""
           }
          },
          "title": {
           "x": 0.05
          },
          "xaxis": {
           "automargin": true,
           "gridcolor": "white",
           "linecolor": "white",
           "ticks": "",
           "title": {
            "standoff": 15
           },
           "zerolinecolor": "white",
           "zerolinewidth": 2
          },
          "yaxis": {
           "automargin": true,
           "gridcolor": "white",
           "linecolor": "white",
           "ticks": "",
           "title": {
            "standoff": 15
           },
           "zerolinecolor": "white",
           "zerolinewidth": 2
          }
         }
        },
        "width": 900,
        "xaxis": {
         "mirror": "allticks",
         "rangemode": "tozero",
         "showgrid": false,
         "showline": true,
         "showticklabels": true,
         "ticks": "outside",
         "type": "linear",
         "zeroline": false
        },
        "yaxis": {
         "mirror": "allticks",
         "rangemode": "tozero",
         "showgrid": false,
         "showline": true,
         "showticklabels": true,
         "tickmode": "array",
         "ticks": "outside",
         "ticktext": [
          "List do Małego Księcia",
          "Mały Książę (3)",
          "Trzej wodzowie",
          "Tęsknota",
          "Pożegnanie Liverpoolu",
          "Jasnowłosa",
          "Nasza klasa '92",
          "Bosman",
          "Dziesięć w skali Beauforta",
          "Pamiątka ze spływu",
          "Zapada zmrok",
          "Mona",
          "Wędrówka z cieniem",
          "Bukowina II",
          "Żbik",
          "Nie brookliński most",
          "Koniec",
          "Piosenka z pociągu pośpiesznego \"Bi",
          "Opadły mgły wstaje nowy dzień",
          "Lekcja historii klasycznej",
          "Limeryk o narodach",
          "Klasówka z fragmentu wolności",
          "Ballada wrześniowa",
          "Mury",
          "Bez słów",
          "Ballada majowa",
          "Ballada antysojowa",
          "Gdy tak siedzimy",
          "Ballada o Dzikim Zachodzie",
          "Bagno",
          "Windą do nieba",
          "Dezyderata",
          "Znów wędrujemy",
          "Połów",
          "Ocean",
          "Łabędzi puch",
          "Pociąg grudniowy",
          "Miasto",
          "Wczoraj wieczorem",
          "Press gang",
          "Piosenka do śpiewania przy pokonywa",
          "Płyńmy w dół do starej maui",
          "Dwudziesty czwarty lutego",
          "Ona sobie tego nie życzy",
          "Nadaremność",
          "Już rozpaliło się ognisko",
          "Pijany poeta",
          "Nie -- prośba o rękę",
          "Wiatr i strzyga",
          "Bellonika z miastem",
          "Kołysanka dla Joanny I",
          "Jaką cenę...",
          "Ze szczytu schodów",
          "Tropiki",
          "Ballada o trzeźwym diable",
          "Coś jeszcze",
          "Byłoby miło",
          "Pietruszka",
          "Tango na głos, orkiestrę i jeszcze ",
          "Raport z izby otrzeźwień",
          "Drzewa",
          "Bóg się rodzi",
          "Karol Levittoux",
          "Dym z jałowca",
          "Koncert",
          "Madonna",
          "Makatka z aniołem",
          "Czarna Madonna",
          "Buty",
          "Dobosz",
          "Pod jodłą",
          "Ballada o Janku Wiśniewskim",
          "Nie rozdziobią nas kruki",
          "Świetlany krzyż",
          "Wakacyjna przypowieść z metafizyczn",
          "Nasza klasa",
          "Nie lubię",
          "Nie lubię wampirów",
          "Odeszły dziewczęta",
          "Czas",
          "Piosenka o zajączku",
          "Testament",
          "Biała baśń",
          "Mur 2",
          "Piosenka dla piosenki",
          "Stary cowboy",
          "Pójdźmy wszyscy do stajenki",
          "Wśród nocnej ciszy",
          "Kolęda",
          "Jezus malusieńki",
          "Do szopy, hej, pasterze",
          "Mędrcy świata",
          "Chłopaki nie płaczą",
          "Beskid",
          "Zielony płomień",
          "Świerszcz",
          "Gór mi mało",
          "Miłość",
          "Dla Michasia",
          "Alpuhara",
          "Księżniczka i pirat",
          "List o czekaniu",
          "Morskie opowieści",
          "Piosenka dla Wojtka Bellona",
          "Rondo czyli piosenka o kacu giganci",
          "Zielone szkiełko",
          "Jak dobrze nam",
          "Jak dobrze nam",
          "Zielona dolina",
          "Przepaść",
          "Ballada o róży",
          "Jest taki samotny dom",
          "Modlitwa jesienna",
          "Zamieszkamy pod wspólnym dachem",
          "Krąg",
          "Pytania syna poety",
          "Poeta i pan Strauss",
          "Bieszczadzki rajd",
          "Piosenka do przyjaciela",
          "Piosenka dla przyjaciela",
          "Barka",
          "Oczy me pełne...",
          "Jestem mały miś",
          "Włóczędzy",
          "Mniszek",
          "Nina",
          "Ambasadorowie",
          "Głupi Gienek",
          "Katarynka",
          "Leonardo",
          "Zabierz mnie na stację",
          "Samotny",
          "Autobiografia",
          "Ptaki ptakom",
          "Nadziei amatorski zespół",
          "1788",
          "Dokąd nas zaprowadzisz Panie",
          "Modlitwa o wschodzie słońca",
          "Piosenka mazowiecka",
          "W taką ciszę",
          "Modlitwa wędrownego grajka",
          "Żwawa piosenka o żuczku",
          "Marinette",
          "Wspomnienia",
          "Jesienne wspominanki",
          "W malinowym chruśniaku",
          "Na potoczku-m prała",
          "Pieśń o śnie",
          "Wędrówką życie jest człowieka",
          "Francois Villon",
          "Jaworzyna",
          "Ballada o smutnym skinie",
          "Powroty",
          "Piosenka o mufce",
          "Szanta dziewicy",
          "Blue nose",
          "Tylko chcieć",
          "Śmiech",
          "Wasza Wysokość Kobieto",
          "Bal",
          "Zegarmistrz światła",
          "Połoniny niebieskie",
          "Czarny blues o czwartej nad ranem",
          "Tyle mi zostało co mi nakapało",
          "Spotkanie w porcie",
          "Żal za Bułatem O.",
          "Modlitwa",
          "Piosenka napisana mimochodem",
          "Człowiek bez butów",
          "Sen Katarzyny II",
          "Śliczna higieniczna",
          "Jaka jesteś",
          "Creutzfeldt-Jakob",
          "Piosenka dla córki",
          "Gdy się Chrystus rodzi",
          "Gloria",
          "Biała sukienka",
          "Dwie skały",
          "Kochaj mnie i dotykaj",
          "Piosenka turystyczna 3",
          "Nocna piosenka o mieście",
          "Prawo dżungli",
          "Myśliwa",
          "Bombonierka",
          "Miejcie nadzieję",
          "Jak",
          "Dziś do ciebie",
          "Jedyne co mam",
          "Bukowina I",
          "Obława 2",
          "Obława",
          "Wróżba",
          "Zbroja",
          "*** [Wiodą, wiodą drogi w świat...]",
          "Rozstaje",
          "Hymn harcerski",
          "Harcerskie ideały",
          "Panna kminkowa",
          "Ballada o arenie cyrkowej",
          "Szara ballada",
          "Szczęście",
          "List do świata",
          "Odpowiedź na ankietę ,,Twój system ",
          "Burza",
          "Sześć błota stóp",
          "Nie wierzcie piechocie",
          "Goryl",
          "Ballada rajdowa",
          "Górska ballada",
          "Wojtka Bellona ostatnia ziemska pod",
          "Dni których nie znamy",
          "Tawerna pod pijaną zgrają",
          "Rozbite oddziały",
          "Bajka",
          "Ballada na urodziny",
          "Życie to nie teatr",
          "Sierpień",
          "U źródeł tęsknot",
          "Scarlett",
          "Moi przyjaciele",
          "Hej przyjaciele",
          "Przyjaciółko",
          "Polanka",
          "Między nami tyle śniegu",
          "Nuta z Ponidzia",
          "Wiosenna pieśń radości",
          "Piszę historyczną powieść",
          "Jesienna zaduma",
          "Słynny niebieski prochowiec",
          "List",
          "Czasem nagle smutniejesz",
          "Opowieść pewnego emigranta",
          "Czarny kot",
          "Piosenka turystyczna 1",
          "Piosenka na rozgrzanie",
          "Teksański",
          "Obok Ciebie",
          "W lesie listopadowym",
          "Pożegnanie Okudżawy",
          "Bawitko",
          "Pieśń na wyjście",
          "Pieśń na wejście",
          "Plastelina",
          "Najemnicy",
          "Makatka kusząca",
          "Bar w Beskidzie",
          "Pożegnanie 2",
          "Piosenka turystyczna 2",
          "Płacz moja wodo",
          "Rzeka",
          "Blues niepotrzebnych powrotów",
          "Wędrowiec",
          "Kocham Cię jak Irlandię",
          "Żegluj",
          "Powrót",
          "Piosenka bez tytułu",
          "Przemijanie",
          "Jest już za późno, nie jest za późn",
          "Jaki był ten dzień",
          "Kaszubskie noce",
          "Michał Wołodyjowski",
          "Szkic do portretu",
          "Piosenka wiosenna",
          "Przerwa w podróży",
          "Cichutko",
          "Dzielna Margot",
          "Kraków, Piwna 7",
          "Zazdrość",
          "Kim właściwie była ta piękna pani, ",
          "Pieśń gruzińska",
          "Kochać",
          "Gdy mnie kochać przestaniesz",
          "Kantyczka z lotu ptaka",
          "Osada",
          "Mucha w szklance lemoniady",
          "Baśń",
          "Gdańsk",
          "Morze Północne",
          "Broadway",
          "Fiddler's Green",
          "Amsterdam",
          "We wtorek w schronisku po sezonie",
          "Róża",
          "Sprzysiężeni",
          "Niedokończona jesienna fuga",
          "Pejzaże harasymowiczowskie",
          "Bartne",
          "Bar na stawach",
          "Hiszpańskie dziewczyny",
          "Emeryt",
          "Na Mazury",
          "Samantha",
          "Majster bieda",
          "Wizyta u malarki",
          "Pszczółka maja",
          "Blues dla małej",
          "Skóra",
          "Krajka (pełna wersja)",
          "Krajka",
          "Nie chodź tam",
          "Chodź pomaluj mój świat",
          "Zamknij dom",
          "Easy Rider",
          "Chory na wyobraźnię",
          "Biały kaftanik",
          "Idzie sobie królik",
          "Pod śliwką",
          "Anioł i diabeł",
          "Wiesiek idzie",
          "Jesień idzie",
          "Wiatr, wiosenny gitarzysta",
          "Wrzosowisko",
          "Będziesz moją panią",
          "Gdziekolwiek",
          "Bajka o głupim Jasiu",
          "Zbieg okoliczności łagodzących",
          "Niepokój",
          "Kołysanka",
          "Kubuś",
          "Kubuś Puchatek",
          "Ostatnia mruczanka albo spleen Kubu",
          "Zapiszę śniegiem w kominie",
          "Ach, kiedy znowu ruszą dla mnie dni",
          "Zima",
          "Wehikuł czasu",
          "Ballada o cześku piekarzu",
          "Niebieska piosenka",
          "Ballada o krzyżowcu",
          "Nocny kawboy",
          "*** [Trzy pierścienie dla królów el",
          "Źródło II",
          "Źródło",
          "Płonie ognisko i szumią knieje",
          "*** [Zaciągnijcie na oknie niebiesk",
          "Idą skauci",
          "Balonik",
          "Whisky",
          "Ci wszyscy ludzie",
          "Kara Barabasza",
          "Zaledwo wiem",
          "Motyle pocałunki",
          "Dylan -- pastisz",
          "Tobie albo zawieja w Michigan",
          "Deszcz jesienny",
          "Pajączek",
          "Noc albo oczekiwanie na śniadanie",
          "Wieczór",
          "Imperatyw",
          "Malarze",
          "Piosenka o Arbacie",
          "Jezioro",
          "O krok",
          "Kaganek",
          "Bieszczadzkie anioły",
          "Nowa",
          "Ogień",
          "Piosenka o papierowym żołnierzyku",
          "Kolekcja",
          "Majka",
          "Ballada o świętym Mikołaju",
          "Noc niespodzianek",
          "Hiszpanka z Callao",
          "Pożegnalny ton",
          "Ulice Londynu",
          "Zuzanna",
          "Pocałuj noc",
          "Kiedy mówisz",
          "Pożegnanie",
          "Jesienne wino",
          "Kołysanka dla misiaków",
          "Tolerancja",
          "Pijak",
          "Jak będę stary zgrzybiały...",
          "Piosenka o przyjaciołach, wietrze, ",
          "Spowiedź u księdza Bernardyna",
          "Bieszczady",
          "Piosenka dla juniora i jego gitary",
          "Jeszcze nie czas",
          "To co było minęło",
          "Jałta",
          "Wańka Morozow",
          "Pożegnanie",
          "Pieśń pożegnalna",
          "Zawsze tam gdzie ty",
          "Chyba już czas wracać do domu",
          "Pieśń XXIX",
          "Niebo do wynajęcia",
          "Sielanka o domu",
          "Świadkowie lata",
          "Zwiewność",
          "Noc w bacówce",
          "Dom wschodzącego słońca",
          "A my nie chcemy uciekać stąd",
          "Dom w górach",
          "Na błękicie jest polana",
          "Wędrowanie",
          "Gdy śliczna panna",
          "Lulajże Jezuniu",
          "Kamienie",
          "Mazurscy kolumbowie",
          "Pan Kmicic",
          "Ukraina",
          "Pacyfik",
          "Mister Stormalong",
          "Dżungla",
          "Ballada o człowieku z kwiatami",
          "Piosenka o mojej ulicy",
          "Moje miasto",
          "Beskid jesienią",
          "Na kredyt zaufania",
          "Cicha noc",
          "Sanctus",
          "Łemkowyna",
          "Jesień w górach",
          "Idąc zawsze idź",
          "Zawirował świat",
          "Kocham wolność",
          "Ballada o dziewczynie co piła gorąc",
          "Mur 1",
          "Jesienny obrazek",
          "Marchewkowe pole",
          "Szara lilijka",
          "Włóż plecak",
          "Nie patrz na to miła",
          "Leluchów",
          "Miły mój",
          "Bieszczadzki trakt",
          "Piechotą do lata",
          "Coś",
          "Fortepian Szopena",
          "Przechyły",
          "Śmiały Harpunnik",
          "O braciach którzy pytali się",
          "Korowód",
          "Gdybym miał gitarę",
          "Biała lokomotywa",
          "Pan Podbipięta",
          "Pan Wołodyjowski",
          "Rapsod o królu Warneńczyku",
          "Piosenka o królu i żołnierzach",
          "Ja mam tylko jeden świat",
          "Kiedy w piątek",
          "Gonić marzenia",
          "Lato z ptakami odchodzi",
          "Leniwa niedziela",
          "Wielki Wóz",
          "Piosenka dla starego wieśniaka"
         ],
         "tickvals": [
          -5,
          -15,
          -25,
          -35,
          -45,
          -55,
          -65,
          -75,
          -85,
          -95,
          -105,
          -115,
          -125,
          -135,
          -145,
          -155,
          -165,
          -175,
          -185,
          -195,
          -205,
          -215,
          -225,
          -235,
          -245,
          -255,
          -265,
          -275,
          -285,
          -295,
          -305,
          -315,
          -325,
          -335,
          -345,
          -355,
          -365,
          -375,
          -385,
          -395,
          -405,
          -415,
          -425,
          -435,
          -445,
          -455,
          -465,
          -475,
          -485,
          -495,
          -505,
          -515,
          -525,
          -535,
          -545,
          -555,
          -565,
          -575,
          -585,
          -595,
          -605,
          -615,
          -625,
          -635,
          -645,
          -655,
          -665,
          -675,
          -685,
          -695,
          -705,
          -715,
          -725,
          -735,
          -745,
          -755,
          -765,
          -775,
          -785,
          -795,
          -805,
          -815,
          -825,
          -835,
          -845,
          -855,
          -865,
          -875,
          -885,
          -895,
          -905,
          -915,
          -925,
          -935,
          -945,
          -955,
          -965,
          -975,
          -985,
          -995,
          -1005,
          -1015,
          -1025,
          -1035,
          -1045,
          -1055,
          -1065,
          -1075,
          -1085,
          -1095,
          -1105,
          -1115,
          -1125,
          -1135,
          -1145,
          -1155,
          -1165,
          -1175,
          -1185,
          -1195,
          -1205,
          -1215,
          -1225,
          -1235,
          -1245,
          -1255,
          -1265,
          -1275,
          -1285,
          -1295,
          -1305,
          -1315,
          -1325,
          -1335,
          -1345,
          -1355,
          -1365,
          -1375,
          -1385,
          -1395,
          -1405,
          -1415,
          -1425,
          -1435,
          -1445,
          -1455,
          -1465,
          -1475,
          -1485,
          -1495,
          -1505,
          -1515,
          -1525,
          -1535,
          -1545,
          -1555,
          -1565,
          -1575,
          -1585,
          -1595,
          -1605,
          -1615,
          -1625,
          -1635,
          -1645,
          -1655,
          -1665,
          -1675,
          -1685,
          -1695,
          -1705,
          -1715,
          -1725,
          -1735,
          -1745,
          -1755,
          -1765,
          -1775,
          -1785,
          -1795,
          -1805,
          -1815,
          -1825,
          -1835,
          -1845,
          -1855,
          -1865,
          -1875,
          -1885,
          -1895,
          -1905,
          -1915,
          -1925,
          -1935,
          -1945,
          -1955,
          -1965,
          -1975,
          -1985,
          -1995,
          -2005,
          -2015,
          -2025,
          -2035,
          -2045,
          -2055,
          -2065,
          -2075,
          -2085,
          -2095,
          -2105,
          -2115,
          -2125,
          -2135,
          -2145,
          -2155,
          -2165,
          -2175,
          -2185,
          -2195,
          -2205,
          -2215,
          -2225,
          -2235,
          -2245,
          -2255,
          -2265,
          -2275,
          -2285,
          -2295,
          -2305,
          -2315,
          -2325,
          -2335,
          -2345,
          -2355,
          -2365,
          -2375,
          -2385,
          -2395,
          -2405,
          -2415,
          -2425,
          -2435,
          -2445,
          -2455,
          -2465,
          -2475,
          -2485,
          -2495,
          -2505,
          -2515,
          -2525,
          -2535,
          -2545,
          -2555,
          -2565,
          -2575,
          -2585,
          -2595,
          -2605,
          -2615,
          -2625,
          -2635,
          -2645,
          -2655,
          -2665,
          -2675,
          -2685,
          -2695,
          -2705,
          -2715,
          -2725,
          -2735,
          -2745,
          -2755,
          -2765,
          -2775,
          -2785,
          -2795,
          -2805,
          -2815,
          -2825,
          -2835,
          -2845,
          -2855,
          -2865,
          -2875,
          -2885,
          -2895,
          -2905,
          -2915,
          -2925,
          -2935,
          -2945,
          -2955,
          -2965,
          -2975,
          -2985,
          -2995,
          -3005,
          -3015,
          -3025,
          -3035,
          -3045,
          -3055,
          -3065,
          -3075,
          -3085,
          -3095,
          -3105,
          -3115,
          -3125,
          -3135,
          -3145,
          -3155,
          -3165,
          -3175,
          -3185,
          -3195,
          -3205,
          -3215,
          -3225,
          -3235,
          -3245,
          -3255,
          -3265,
          -3275,
          -3285,
          -3295,
          -3305,
          -3315,
          -3325,
          -3335,
          -3345,
          -3355,
          -3365,
          -3375,
          -3385,
          -3395,
          -3405,
          -3415,
          -3425,
          -3435,
          -3445,
          -3455,
          -3465,
          -3475,
          -3485,
          -3495,
          -3505,
          -3515,
          -3525,
          -3535,
          -3545,
          -3555,
          -3565,
          -3575,
          -3585,
          -3595,
          -3605,
          -3615,
          -3625,
          -3635,
          -3645,
          -3655,
          -3665,
          -3675,
          -3685,
          -3695,
          -3705,
          -3715,
          -3725,
          -3735,
          -3745,
          -3755,
          -3765,
          -3775,
          -3785,
          -3795,
          -3805,
          -3815,
          -3825,
          -3835,
          -3845,
          -3855,
          -3865,
          -3875,
          -3885,
          -3895,
          -3905,
          -3915,
          -3925,
          -3935,
          -3945,
          -3955,
          -3965,
          -3975,
          -3985,
          -3995,
          -4005,
          -4015,
          -4025,
          -4035,
          -4045,
          -4055,
          -4065,
          -4075,
          -4085,
          -4095,
          -4105,
          -4115,
          -4125,
          -4135,
          -4145,
          -4155,
          -4165,
          -4175,
          -4185,
          -4195,
          -4205,
          -4215,
          -4225,
          -4235,
          -4245,
          -4255,
          -4265,
          -4275,
          -4285,
          -4295,
          -4305,
          -4315,
          -4325,
          -4335,
          -4345,
          -4355,
          -4365,
          -4375,
          -4385,
          -4395,
          -4405,
          -4415,
          -4425,
          -4435,
          -4445,
          -4455,
          -4465
         ],
         "type": "linear",
         "zeroline": false
        }
       }
      },
      "text/html": [
       "<div>                            <div id=\"3cb670fb-3e6a-4129-b4a9-1dd7f427995a\" class=\"plotly-graph-div\" style=\"height:5000px; width:900px;\"></div>            <script type=\"text/javascript\">                require([\"plotly\"], function(Plotly) {                    window.PLOTLYENV=window.PLOTLYENV || {};                                    if (document.getElementById(\"3cb670fb-3e6a-4129-b4a9-1dd7f427995a\")) {                    Plotly.newPlot(                        \"3cb670fb-3e6a-4129-b4a9-1dd7f427995a\",                        [{\"hoverinfo\":\"text\",\"marker\":{\"color\":\"rgb(0,116,217)\"},\"mode\":\"lines\",\"x\":[0.0,1.287558675128012,1.287558675128012,0.0],\"xaxis\":\"x\",\"y\":[-5.0,-5.0,-15.0,-15.0],\"yaxis\":\"y\",\"type\":\"scatter\"},{\"hoverinfo\":\"text\",\"marker\":{\"color\":\"rgb(0,116,217)\"},\"mode\":\"lines\",\"x\":[0.0,1.3430175675238398,1.3430175675238398,0.0],\"xaxis\":\"x\",\"y\":[-25.0,-25.0,-35.0,-35.0],\"yaxis\":\"y\",\"type\":\"scatter\"},{\"hoverinfo\":\"text\",\"marker\":{\"color\":\"rgb(0,116,217)\"},\"mode\":\"lines\",\"x\":[1.287558675128012,1.4027861202964138,1.4027861202964138,1.3430175675238398],\"xaxis\":\"x\",\"y\":[-10.0,-10.0,-30.0,-30.0],\"yaxis\":\"y\",\"type\":\"scatter\"},{\"hoverinfo\":\"text\",\"marker\":{\"color\":\"rgb(0,116,217)\"},\"mode\":\"lines\",\"x\":[0.0,1.2516941393591172,1.2516941393591172,0.0],\"xaxis\":\"x\",\"y\":[-45.0,-45.0,-55.0,-55.0],\"yaxis\":\"y\",\"type\":\"scatter\"},{\"hoverinfo\":\"text\",\"marker\":{\"color\":\"rgb(0,116,217)\"},\"mode\":\"lines\",\"x\":[0.0,1.2382118373289466,1.2382118373289466,0.0],\"xaxis\":\"x\",\"y\":[-75.0,-75.0,-85.0,-85.0],\"yaxis\":\"y\",\"type\":\"scatter\"},{\"hoverinfo\":\"text\",\"marker\":{\"color\":\"rgb(0,116,217)\"},\"mode\":\"lines\",\"x\":[0.0,1.4044530515730755,1.4044530515730755,1.2382118373289466],\"xaxis\":\"x\",\"y\":[-65.0,-65.0,-80.0,-80.0],\"yaxis\":\"y\",\"type\":\"scatter\"},{\"hoverinfo\":\"text\",\"marker\":{\"color\":\"rgb(0,116,217)\"},\"mode\":\"lines\",\"x\":[1.2516941393591172,1.4146176660525909,1.4146176660525909,1.4044530515730755],\"xaxis\":\"x\",\"y\":[-50.0,-50.0,-72.5,-72.5],\"yaxis\":\"y\",\"type\":\"scatter\"},{\"hoverinfo\":\"text\",\"marker\":{\"color\":\"rgb(0,116,217)\"},\"mode\":\"lines\",\"x\":[1.4027861202964138,1.4174426000951654,1.4174426000951654,1.4146176660525909],\"xaxis\":\"x\",\"y\":[-20.0,-20.0,-61.25,-61.25],\"yaxis\":\"y\",\"type\":\"scatter\"},{\"hoverinfo\":\"text\",\"marker\":{\"color\":\"rgb(0,116,217)\"},\"mode\":\"lines\",\"x\":[0.0,1.2150118653606674,1.2150118653606674,0.0],\"xaxis\":\"x\",\"y\":[-95.0,-95.0,-105.0,-105.0],\"yaxis\":\"y\",\"type\":\"scatter\"},{\"hoverinfo\":\"text\",\"marker\":{\"color\":\"rgb(0,116,217)\"},\"mode\":\"lines\",\"x\":[0.0,1.3554911320139345,1.3554911320139345,0.0],\"xaxis\":\"x\",\"y\":[-115.0,-115.0,-125.0,-125.0],\"yaxis\":\"y\",\"type\":\"scatter\"},{\"hoverinfo\":\"text\",\"marker\":{\"color\":\"rgb(0,116,217)\"},\"mode\":\"lines\",\"x\":[1.2150118653606674,1.3994582536065672,1.3994582536065672,1.3554911320139345],\"xaxis\":\"x\",\"y\":[-100.0,-100.0,-120.0,-120.0],\"yaxis\":\"y\",\"type\":\"scatter\"},{\"hoverinfo\":\"text\",\"marker\":{\"color\":\"rgb(0,116,217)\"},\"mode\":\"lines\",\"x\":[0.0,1.3428107097352948,1.3428107097352948,0.0],\"xaxis\":\"x\",\"y\":[-135.0,-135.0,-145.0,-145.0],\"yaxis\":\"y\",\"type\":\"scatter\"},{\"hoverinfo\":\"text\",\"marker\":{\"color\":\"rgb(61,153,112)\"},\"mode\":\"lines\",\"x\":[0.0,0.25496265938006907,0.25496265938006907,0.0],\"xaxis\":\"x\",\"y\":[-175.0,-175.0,-185.0,-185.0],\"yaxis\":\"y\",\"type\":\"scatter\"},{\"hoverinfo\":\"text\",\"marker\":{\"color\":\"rgb(0,116,217)\"},\"mode\":\"lines\",\"x\":[0.0,1.314564418663487,1.314564418663487,0.25496265938006907],\"xaxis\":\"x\",\"y\":[-165.0,-165.0,-180.0,-180.0],\"yaxis\":\"y\",\"type\":\"scatter\"},{\"hoverinfo\":\"text\",\"marker\":{\"color\":\"rgb(0,116,217)\"},\"mode\":\"lines\",\"x\":[0.0,1.3634643302705751,1.3634643302705751,1.314564418663487],\"xaxis\":\"x\",\"y\":[-155.0,-155.0,-172.5,-172.5],\"yaxis\":\"y\",\"type\":\"scatter\"},{\"hoverinfo\":\"text\",\"marker\":{\"color\":\"rgb(0,116,217)\"},\"mode\":\"lines\",\"x\":[1.3428107097352948,1.4000121703667903,1.4000121703667903,1.3634643302705751],\"xaxis\":\"x\",\"y\":[-140.0,-140.0,-163.75,-163.75],\"yaxis\":\"y\",\"type\":\"scatter\"},{\"hoverinfo\":\"text\",\"marker\":{\"color\":\"rgb(0,116,217)\"},\"mode\":\"lines\",\"x\":[1.3994582536065672,1.417393172260007,1.417393172260007,1.4000121703667903],\"xaxis\":\"x\",\"y\":[-110.0,-110.0,-151.875,-151.875],\"yaxis\":\"y\",\"type\":\"scatter\"},{\"hoverinfo\":\"text\",\"marker\":{\"color\":\"rgb(0,116,217)\"},\"mode\":\"lines\",\"x\":[0.0,1.3856112534074736,1.3856112534074736,0.0],\"xaxis\":\"x\",\"y\":[-195.0,-195.0,-205.0,-205.0],\"yaxis\":\"y\",\"type\":\"scatter\"},{\"hoverinfo\":\"text\",\"marker\":{\"color\":\"rgb(0,116,217)\"},\"mode\":\"lines\",\"x\":[0.0,1.3356658551580027,1.3356658551580027,0.0],\"xaxis\":\"x\",\"y\":[-215.0,-215.0,-225.0,-225.0],\"yaxis\":\"y\",\"type\":\"scatter\"},{\"hoverinfo\":\"text\",\"marker\":{\"color\":\"rgb(0,116,217)\"},\"mode\":\"lines\",\"x\":[0.0,1.3830646771076007,1.3830646771076007,0.0],\"xaxis\":\"x\",\"y\":[-235.0,-235.0,-245.0,-245.0],\"yaxis\":\"y\",\"type\":\"scatter\"},{\"hoverinfo\":\"text\",\"marker\":{\"color\":\"rgb(0,116,217)\"},\"mode\":\"lines\",\"x\":[1.3356658551580027,1.4001655975963692,1.4001655975963692,1.3830646771076007],\"xaxis\":\"x\",\"y\":[-220.0,-220.0,-240.0,-240.0],\"yaxis\":\"y\",\"type\":\"scatter\"},{\"hoverinfo\":\"text\",\"marker\":{\"color\":\"rgb(0,116,217)\"},\"mode\":\"lines\",\"x\":[1.3856112534074736,1.413359961060407,1.413359961060407,1.4001655975963692],\"xaxis\":\"x\",\"y\":[-200.0,-200.0,-230.0,-230.0],\"yaxis\":\"y\",\"type\":\"scatter\"},{\"hoverinfo\":\"text\",\"marker\":{\"color\":\"rgb(0,116,217)\"},\"mode\":\"lines\",\"x\":[0.0,1.3408306410776512,1.3408306410776512,0.0],\"xaxis\":\"x\",\"y\":[-255.0,-255.0,-265.0,-265.0],\"yaxis\":\"y\",\"type\":\"scatter\"},{\"hoverinfo\":\"text\",\"marker\":{\"color\":\"rgb(0,116,217)\"},\"mode\":\"lines\",\"x\":[0.0,1.3689806717588273,1.3689806717588273,0.0],\"xaxis\":\"x\",\"y\":[-275.0,-275.0,-285.0,-285.0],\"yaxis\":\"y\",\"type\":\"scatter\"},{\"hoverinfo\":\"text\",\"marker\":{\"color\":\"rgb(0,116,217)\"},\"mode\":\"lines\",\"x\":[1.3408306410776512,1.4111136448689552,1.4111136448689552,1.3689806717588273],\"xaxis\":\"x\",\"y\":[-260.0,-260.0,-280.0,-280.0],\"yaxis\":\"y\",\"type\":\"scatter\"},{\"hoverinfo\":\"text\",\"marker\":{\"color\":\"rgb(0,116,217)\"},\"mode\":\"lines\",\"x\":[0.0,1.3630093288959497,1.3630093288959497,0.0],\"xaxis\":\"x\",\"y\":[-305.0,-305.0,-315.0,-315.0],\"yaxis\":\"y\",\"type\":\"scatter\"},{\"hoverinfo\":\"text\",\"marker\":{\"color\":\"rgb(0,116,217)\"},\"mode\":\"lines\",\"x\":[0.0,1.4015646853031096,1.4015646853031096,1.3630093288959497],\"xaxis\":\"x\",\"y\":[-295.0,-295.0,-310.0,-310.0],\"yaxis\":\"y\",\"type\":\"scatter\"},{\"hoverinfo\":\"text\",\"marker\":{\"color\":\"rgb(0,116,217)\"},\"mode\":\"lines\",\"x\":[0.0,1.361868199199802,1.361868199199802,0.0],\"xaxis\":\"x\",\"y\":[-335.0,-335.0,-345.0,-345.0],\"yaxis\":\"y\",\"type\":\"scatter\"},{\"hoverinfo\":\"text\",\"marker\":{\"color\":\"rgb(0,116,217)\"},\"mode\":\"lines\",\"x\":[0.0,1.3785929776183061,1.3785929776183061,1.361868199199802],\"xaxis\":\"x\",\"y\":[-325.0,-325.0,-340.0,-340.0],\"yaxis\":\"y\",\"type\":\"scatter\"},{\"hoverinfo\":\"text\",\"marker\":{\"color\":\"rgb(0,116,217)\"},\"mode\":\"lines\",\"x\":[0.0,1.3822678426933412,1.3822678426933412,0.0],\"xaxis\":\"x\",\"y\":[-355.0,-355.0,-365.0,-365.0],\"yaxis\":\"y\",\"type\":\"scatter\"},{\"hoverinfo\":\"text\",\"marker\":{\"color\":\"rgb(0,116,217)\"},\"mode\":\"lines\",\"x\":[1.3785929776183061,1.4119579838408123,1.4119579838408123,1.3822678426933412],\"xaxis\":\"x\",\"y\":[-332.5,-332.5,-360.0,-360.0],\"yaxis\":\"y\",\"type\":\"scatter\"},{\"hoverinfo\":\"text\",\"marker\":{\"color\":\"rgb(0,116,217)\"},\"mode\":\"lines\",\"x\":[1.4015646853031096,1.4153896184102783,1.4153896184102783,1.4119579838408123],\"xaxis\":\"x\",\"y\":[-302.5,-302.5,-346.25,-346.25],\"yaxis\":\"y\",\"type\":\"scatter\"},{\"hoverinfo\":\"text\",\"marker\":{\"color\":\"rgb(0,116,217)\"},\"mode\":\"lines\",\"x\":[1.4111136448689552,1.417132950923858,1.417132950923858,1.4153896184102783],\"xaxis\":\"x\",\"y\":[-270.0,-270.0,-324.375,-324.375],\"yaxis\":\"y\",\"type\":\"scatter\"},{\"hoverinfo\":\"text\",\"marker\":{\"color\":\"rgb(0,116,217)\"},\"mode\":\"lines\",\"x\":[1.413359961060407,1.417355758432568,1.417355758432568,1.417132950923858],\"xaxis\":\"x\",\"y\":[-215.0,-215.0,-297.1875,-297.1875],\"yaxis\":\"y\",\"type\":\"scatter\"},{\"hoverinfo\":\"text\",\"marker\":{\"color\":\"rgb(0,116,217)\"},\"mode\":\"lines\",\"x\":[0.0,1.3001975181153567,1.3001975181153567,0.0],\"xaxis\":\"x\",\"y\":[-375.0,-375.0,-385.0,-385.0],\"yaxis\":\"y\",\"type\":\"scatter\"},{\"hoverinfo\":\"text\",\"marker\":{\"color\":\"rgb(0,116,217)\"},\"mode\":\"lines\",\"x\":[0.0,1.3266380468155166,1.3266380468155166,0.0],\"xaxis\":\"x\",\"y\":[-395.0,-395.0,-405.0,-405.0],\"yaxis\":\"y\",\"type\":\"scatter\"},{\"hoverinfo\":\"text\",\"marker\":{\"color\":\"rgb(0,116,217)\"},\"mode\":\"lines\",\"x\":[0.0,1.3668171742031032,1.3668171742031032,0.0],\"xaxis\":\"x\",\"y\":[-415.0,-415.0,-425.0,-425.0],\"yaxis\":\"y\",\"type\":\"scatter\"},{\"hoverinfo\":\"text\",\"marker\":{\"color\":\"rgb(0,116,217)\"},\"mode\":\"lines\",\"x\":[1.3266380468155166,1.4020562721782848,1.4020562721782848,1.3668171742031032],\"xaxis\":\"x\",\"y\":[-400.0,-400.0,-420.0,-420.0],\"yaxis\":\"y\",\"type\":\"scatter\"},{\"hoverinfo\":\"text\",\"marker\":{\"color\":\"rgb(0,116,217)\"},\"mode\":\"lines\",\"x\":[1.3001975181153567,1.4136285392444092,1.4136285392444092,1.4020562721782848],\"xaxis\":\"x\",\"y\":[-380.0,-380.0,-410.0,-410.0],\"yaxis\":\"y\",\"type\":\"scatter\"},{\"hoverinfo\":\"text\",\"marker\":{\"color\":\"rgb(0,116,217)\"},\"mode\":\"lines\",\"x\":[0.0,1.3734855431760464,1.3734855431760464,0.0],\"xaxis\":\"x\",\"y\":[-435.0,-435.0,-445.0,-445.0],\"yaxis\":\"y\",\"type\":\"scatter\"},{\"hoverinfo\":\"text\",\"marker\":{\"color\":\"rgb(0,116,217)\"},\"mode\":\"lines\",\"x\":[0.0,1.36069427691836,1.36069427691836,0.0],\"xaxis\":\"x\",\"y\":[-455.0,-455.0,-465.0,-465.0],\"yaxis\":\"y\",\"type\":\"scatter\"},{\"hoverinfo\":\"text\",\"marker\":{\"color\":\"rgb(0,116,217)\"},\"mode\":\"lines\",\"x\":[0.0,1.3746868522085414,1.3746868522085414,0.0],\"xaxis\":\"x\",\"y\":[-475.0,-475.0,-485.0,-485.0],\"yaxis\":\"y\",\"type\":\"scatter\"},{\"hoverinfo\":\"text\",\"marker\":{\"color\":\"rgb(0,116,217)\"},\"mode\":\"lines\",\"x\":[1.36069427691836,1.4067394994236415,1.4067394994236415,1.3746868522085414],\"xaxis\":\"x\",\"y\":[-460.0,-460.0,-480.0,-480.0],\"yaxis\":\"y\",\"type\":\"scatter\"},{\"hoverinfo\":\"text\",\"marker\":{\"color\":\"rgb(0,116,217)\"},\"mode\":\"lines\",\"x\":[1.3734855431760464,1.4137221866772893,1.4137221866772893,1.4067394994236415],\"xaxis\":\"x\",\"y\":[-440.0,-440.0,-470.0,-470.0],\"yaxis\":\"y\",\"type\":\"scatter\"},{\"hoverinfo\":\"text\",\"marker\":{\"color\":\"rgb(0,116,217)\"},\"mode\":\"lines\",\"x\":[1.4136285392444092,1.4192963795736493,1.4192963795736493,1.4137221866772893],\"xaxis\":\"x\",\"y\":[-395.0,-395.0,-455.0,-455.0],\"yaxis\":\"y\",\"type\":\"scatter\"},{\"hoverinfo\":\"text\",\"marker\":{\"color\":\"rgb(0,116,217)\"},\"mode\":\"lines\",\"x\":[1.417355758432568,1.4215298163185037,1.4215298163185037,1.4192963795736493],\"xaxis\":\"x\",\"y\":[-256.09375,-256.09375,-425.0,-425.0],\"yaxis\":\"y\",\"type\":\"scatter\"},{\"hoverinfo\":\"text\",\"marker\":{\"color\":\"rgb(0,116,217)\"},\"mode\":\"lines\",\"x\":[1.417393172260007,1.4252876464702384,1.4252876464702384,1.4215298163185037],\"xaxis\":\"x\",\"y\":[-130.9375,-130.9375,-340.546875,-340.546875],\"yaxis\":\"y\",\"type\":\"scatter\"},{\"hoverinfo\":\"text\",\"marker\":{\"color\":\"rgb(0,116,217)\"},\"mode\":\"lines\",\"x\":[1.4174426000951654,1.4273205907945066,1.4273205907945066,1.4252876464702384],\"xaxis\":\"x\",\"y\":[-40.625,-40.625,-235.7421875,-235.7421875],\"yaxis\":\"y\",\"type\":\"scatter\"},{\"hoverinfo\":\"text\",\"marker\":{\"color\":\"rgb(0,116,217)\"},\"mode\":\"lines\",\"x\":[0.0,1.309471234010719,1.309471234010719,0.0],\"xaxis\":\"x\",\"y\":[-495.0,-495.0,-505.0,-505.0],\"yaxis\":\"y\",\"type\":\"scatter\"},{\"hoverinfo\":\"text\",\"marker\":{\"color\":\"rgb(0,116,217)\"},\"mode\":\"lines\",\"x\":[0.0,1.3777704198727565,1.3777704198727565,0.0],\"xaxis\":\"x\",\"y\":[-515.0,-515.0,-525.0,-525.0],\"yaxis\":\"y\",\"type\":\"scatter\"},{\"hoverinfo\":\"text\",\"marker\":{\"color\":\"rgb(0,116,217)\"},\"mode\":\"lines\",\"x\":[1.309471234010719,1.406036923070622,1.406036923070622,1.3777704198727565],\"xaxis\":\"x\",\"y\":[-500.0,-500.0,-520.0,-520.0],\"yaxis\":\"y\",\"type\":\"scatter\"},{\"hoverinfo\":\"text\",\"marker\":{\"color\":\"rgb(0,116,217)\"},\"mode\":\"lines\",\"x\":[0.0,1.2773826908289998,1.2773826908289998,0.0],\"xaxis\":\"x\",\"y\":[-535.0,-535.0,-545.0,-545.0],\"yaxis\":\"y\",\"type\":\"scatter\"},{\"hoverinfo\":\"text\",\"marker\":{\"color\":\"rgb(0,116,217)\"},\"mode\":\"lines\",\"x\":[0.0,1.3066722904765715,1.3066722904765715,0.0],\"xaxis\":\"x\",\"y\":[-565.0,-565.0,-575.0,-575.0],\"yaxis\":\"y\",\"type\":\"scatter\"},{\"hoverinfo\":\"text\",\"marker\":{\"color\":\"rgb(0,116,217)\"},\"mode\":\"lines\",\"x\":[0.0,1.412808163025494,1.412808163025494,1.3066722904765715],\"xaxis\":\"x\",\"y\":[-555.0,-555.0,-570.0,-570.0],\"yaxis\":\"y\",\"type\":\"scatter\"},{\"hoverinfo\":\"text\",\"marker\":{\"color\":\"rgb(0,116,217)\"},\"mode\":\"lines\",\"x\":[1.2773826908289998,1.4140236951866718,1.4140236951866718,1.412808163025494],\"xaxis\":\"x\",\"y\":[-540.0,-540.0,-562.5,-562.5],\"yaxis\":\"y\",\"type\":\"scatter\"},{\"hoverinfo\":\"text\",\"marker\":{\"color\":\"rgb(0,116,217)\"},\"mode\":\"lines\",\"x\":[1.406036923070622,1.4187477074263404,1.4187477074263404,1.4140236951866718],\"xaxis\":\"x\",\"y\":[-510.0,-510.0,-551.25,-551.25],\"yaxis\":\"y\",\"type\":\"scatter\"},{\"hoverinfo\":\"text\",\"marker\":{\"color\":\"rgb(0,116,217)\"},\"mode\":\"lines\",\"x\":[0.0,1.2702986994700263,1.2702986994700263,0.0],\"xaxis\":\"x\",\"y\":[-585.0,-585.0,-595.0,-595.0],\"yaxis\":\"y\",\"type\":\"scatter\"},{\"hoverinfo\":\"text\",\"marker\":{\"color\":\"rgb(0,116,217)\"},\"mode\":\"lines\",\"x\":[0.0,1.3831783477943391,1.3831783477943391,0.0],\"xaxis\":\"x\",\"y\":[-605.0,-605.0,-615.0,-615.0],\"yaxis\":\"y\",\"type\":\"scatter\"},{\"hoverinfo\":\"text\",\"marker\":{\"color\":\"rgb(0,116,217)\"},\"mode\":\"lines\",\"x\":[1.2702986994700263,1.4062561636301467,1.4062561636301467,1.3831783477943391],\"xaxis\":\"x\",\"y\":[-590.0,-590.0,-610.0,-610.0],\"yaxis\":\"y\",\"type\":\"scatter\"},{\"hoverinfo\":\"text\",\"marker\":{\"color\":\"rgb(0,116,217)\"},\"mode\":\"lines\",\"x\":[0.0,1.3318349568208596,1.3318349568208596,0.0],\"xaxis\":\"x\",\"y\":[-635.0,-635.0,-645.0,-645.0],\"yaxis\":\"y\",\"type\":\"scatter\"},{\"hoverinfo\":\"text\",\"marker\":{\"color\":\"rgb(0,116,217)\"},\"mode\":\"lines\",\"x\":[0.0,1.3846251373032494,1.3846251373032494,1.3318349568208596],\"xaxis\":\"x\",\"y\":[-625.0,-625.0,-640.0,-640.0],\"yaxis\":\"y\",\"type\":\"scatter\"},{\"hoverinfo\":\"text\",\"marker\":{\"color\":\"rgb(0,116,217)\"},\"mode\":\"lines\",\"x\":[0.0,1.398279396978062,1.398279396978062,0.0],\"xaxis\":\"x\",\"y\":[-665.0,-665.0,-675.0,-675.0],\"yaxis\":\"y\",\"type\":\"scatter\"},{\"hoverinfo\":\"text\",\"marker\":{\"color\":\"rgb(0,116,217)\"},\"mode\":\"lines\",\"x\":[0.0,1.4123000546399238,1.4123000546399238,1.398279396978062],\"xaxis\":\"x\",\"y\":[-655.0,-655.0,-670.0,-670.0],\"yaxis\":\"y\",\"type\":\"scatter\"},{\"hoverinfo\":\"text\",\"marker\":{\"color\":\"rgb(0,116,217)\"},\"mode\":\"lines\",\"x\":[1.3846251373032494,1.4142808176157031,1.4142808176157031,1.4123000546399238],\"xaxis\":\"x\",\"y\":[-632.5,-632.5,-662.5,-662.5],\"yaxis\":\"y\",\"type\":\"scatter\"},{\"hoverinfo\":\"text\",\"marker\":{\"color\":\"rgb(0,116,217)\"},\"mode\":\"lines\",\"x\":[1.4062561636301467,1.4174624536953326,1.4174624536953326,1.4142808176157031],\"xaxis\":\"x\",\"y\":[-600.0,-600.0,-647.5,-647.5],\"yaxis\":\"y\",\"type\":\"scatter\"},{\"hoverinfo\":\"text\",\"marker\":{\"color\":\"rgb(0,116,217)\"},\"mode\":\"lines\",\"x\":[0.0,1.2908220963567454,1.2908220963567454,0.0],\"xaxis\":\"x\",\"y\":[-685.0,-685.0,-695.0,-695.0],\"yaxis\":\"y\",\"type\":\"scatter\"},{\"hoverinfo\":\"text\",\"marker\":{\"color\":\"rgb(0,116,217)\"},\"mode\":\"lines\",\"x\":[0.0,1.3805419503491219,1.3805419503491219,0.0],\"xaxis\":\"x\",\"y\":[-705.0,-705.0,-715.0,-715.0],\"yaxis\":\"y\",\"type\":\"scatter\"},{\"hoverinfo\":\"text\",\"marker\":{\"color\":\"rgb(0,116,217)\"},\"mode\":\"lines\",\"x\":[1.2908220963567454,1.409988978204576,1.409988978204576,1.3805419503491219],\"xaxis\":\"x\",\"y\":[-690.0,-690.0,-710.0,-710.0],\"yaxis\":\"y\",\"type\":\"scatter\"},{\"hoverinfo\":\"text\",\"marker\":{\"color\":\"rgb(0,116,217)\"},\"mode\":\"lines\",\"x\":[0.0,1.2941444608891708,1.2941444608891708,0.0],\"xaxis\":\"x\",\"y\":[-735.0,-735.0,-745.0,-745.0],\"yaxis\":\"y\",\"type\":\"scatter\"},{\"hoverinfo\":\"text\",\"marker\":{\"color\":\"rgb(0,116,217)\"},\"mode\":\"lines\",\"x\":[0.0,1.3550820637751237,1.3550820637751237,1.2941444608891708],\"xaxis\":\"x\",\"y\":[-725.0,-725.0,-740.0,-740.0],\"yaxis\":\"y\",\"type\":\"scatter\"},{\"hoverinfo\":\"text\",\"marker\":{\"color\":\"rgb(0,116,217)\"},\"mode\":\"lines\",\"x\":[0.0,1.102367920660542,1.102367920660542,0.0],\"xaxis\":\"x\",\"y\":[-765.0,-765.0,-775.0,-775.0],\"yaxis\":\"y\",\"type\":\"scatter\"},{\"hoverinfo\":\"text\",\"marker\":{\"color\":\"rgb(0,116,217)\"},\"mode\":\"lines\",\"x\":[0.0,1.3794317933987097,1.3794317933987097,1.102367920660542],\"xaxis\":\"x\",\"y\":[-755.0,-755.0,-770.0,-770.0],\"yaxis\":\"y\",\"type\":\"scatter\"},{\"hoverinfo\":\"text\",\"marker\":{\"color\":\"rgb(0,116,217)\"},\"mode\":\"lines\",\"x\":[1.3550820637751237,1.4139879838169616,1.4139879838169616,1.3794317933987097],\"xaxis\":\"x\",\"y\":[-732.5,-732.5,-762.5,-762.5],\"yaxis\":\"y\",\"type\":\"scatter\"},{\"hoverinfo\":\"text\",\"marker\":{\"color\":\"rgb(0,116,217)\"},\"mode\":\"lines\",\"x\":[1.409988978204576,1.4203215638020794,1.4203215638020794,1.4139879838169616],\"xaxis\":\"x\",\"y\":[-700.0,-700.0,-747.5,-747.5],\"yaxis\":\"y\",\"type\":\"scatter\"},{\"hoverinfo\":\"text\",\"marker\":{\"color\":\"rgb(0,116,217)\"},\"mode\":\"lines\",\"x\":[1.4174624536953326,1.422874454032315,1.422874454032315,1.4203215638020794],\"xaxis\":\"x\",\"y\":[-623.75,-623.75,-723.75,-723.75],\"yaxis\":\"y\",\"type\":\"scatter\"},{\"hoverinfo\":\"text\",\"marker\":{\"color\":\"rgb(0,116,217)\"},\"mode\":\"lines\",\"x\":[0.0,1.3059979694558501,1.3059979694558501,0.0],\"xaxis\":\"x\",\"y\":[-795.0,-795.0,-805.0,-805.0],\"yaxis\":\"y\",\"type\":\"scatter\"},{\"hoverinfo\":\"text\",\"marker\":{\"color\":\"rgb(0,116,217)\"},\"mode\":\"lines\",\"x\":[0.0,1.370787657200496,1.370787657200496,1.3059979694558501],\"xaxis\":\"x\",\"y\":[-785.0,-785.0,-800.0,-800.0],\"yaxis\":\"y\",\"type\":\"scatter\"},{\"hoverinfo\":\"text\",\"marker\":{\"color\":\"rgb(0,116,217)\"},\"mode\":\"lines\",\"x\":[0.0,1.3691609601851489,1.3691609601851489,0.0],\"xaxis\":\"x\",\"y\":[-815.0,-815.0,-825.0,-825.0],\"yaxis\":\"y\",\"type\":\"scatter\"},{\"hoverinfo\":\"text\",\"marker\":{\"color\":\"rgb(0,116,217)\"},\"mode\":\"lines\",\"x\":[0.0,1.3492622338722693,1.3492622338722693,0.0],\"xaxis\":\"x\",\"y\":[-845.0,-845.0,-855.0,-855.0],\"yaxis\":\"y\",\"type\":\"scatter\"},{\"hoverinfo\":\"text\",\"marker\":{\"color\":\"rgb(0,116,217)\"},\"mode\":\"lines\",\"x\":[0.0,1.3980667786208738,1.3980667786208738,1.3492622338722693],\"xaxis\":\"x\",\"y\":[-835.0,-835.0,-850.0,-850.0],\"yaxis\":\"y\",\"type\":\"scatter\"},{\"hoverinfo\":\"text\",\"marker\":{\"color\":\"rgb(0,116,217)\"},\"mode\":\"lines\",\"x\":[1.3691609601851489,1.4085953055075975,1.4085953055075975,1.3980667786208738],\"xaxis\":\"x\",\"y\":[-820.0,-820.0,-842.5,-842.5],\"yaxis\":\"y\",\"type\":\"scatter\"},{\"hoverinfo\":\"text\",\"marker\":{\"color\":\"rgb(0,116,217)\"},\"mode\":\"lines\",\"x\":[0.0,1.3501019645729642,1.3501019645729642,0.0],\"xaxis\":\"x\",\"y\":[-865.0,-865.0,-875.0,-875.0],\"yaxis\":\"y\",\"type\":\"scatter\"},{\"hoverinfo\":\"text\",\"marker\":{\"color\":\"rgb(0,116,217)\"},\"mode\":\"lines\",\"x\":[0.0,1.3242356569257565,1.3242356569257565,0.0],\"xaxis\":\"x\",\"y\":[-905.0,-905.0,-915.0,-915.0],\"yaxis\":\"y\",\"type\":\"scatter\"},{\"hoverinfo\":\"text\",\"marker\":{\"color\":\"rgb(0,116,217)\"},\"mode\":\"lines\",\"x\":[0.0,1.3773848256066954,1.3773848256066954,1.3242356569257565],\"xaxis\":\"x\",\"y\":[-895.0,-895.0,-910.0,-910.0],\"yaxis\":\"y\",\"type\":\"scatter\"},{\"hoverinfo\":\"text\",\"marker\":{\"color\":\"rgb(0,116,217)\"},\"mode\":\"lines\",\"x\":[0.0,1.3984538342373314,1.3984538342373314,1.3773848256066954],\"xaxis\":\"x\",\"y\":[-885.0,-885.0,-902.5,-902.5],\"yaxis\":\"y\",\"type\":\"scatter\"},{\"hoverinfo\":\"text\",\"marker\":{\"color\":\"rgb(0,116,217)\"},\"mode\":\"lines\",\"x\":[1.3501019645729642,1.4087700929173117,1.4087700929173117,1.3984538342373314],\"xaxis\":\"x\",\"y\":[-870.0,-870.0,-893.75,-893.75],\"yaxis\":\"y\",\"type\":\"scatter\"},{\"hoverinfo\":\"text\",\"marker\":{\"color\":\"rgb(0,116,217)\"},\"mode\":\"lines\",\"x\":[1.4085953055075975,1.417390759889187,1.417390759889187,1.4087700929173117],\"xaxis\":\"x\",\"y\":[-831.25,-831.25,-881.875,-881.875],\"yaxis\":\"y\",\"type\":\"scatter\"},{\"hoverinfo\":\"text\",\"marker\":{\"color\":\"rgb(0,116,217)\"},\"mode\":\"lines\",\"x\":[1.370787657200496,1.4182093164974947,1.4182093164974947,1.417390759889187],\"xaxis\":\"x\",\"y\":[-792.5,-792.5,-856.5625,-856.5625],\"yaxis\":\"y\",\"type\":\"scatter\"},{\"hoverinfo\":\"text\",\"marker\":{\"color\":\"rgb(0,116,217)\"},\"mode\":\"lines\",\"x\":[0.0,1.388071830683821,1.388071830683821,0.0],\"xaxis\":\"x\",\"y\":[-925.0,-925.0,-935.0,-935.0],\"yaxis\":\"y\",\"type\":\"scatter\"},{\"hoverinfo\":\"text\",\"marker\":{\"color\":\"rgb(0,116,217)\"},\"mode\":\"lines\",\"x\":[0.0,1.3294334691358716,1.3294334691358716,0.0],\"xaxis\":\"x\",\"y\":[-955.0,-955.0,-965.0,-965.0],\"yaxis\":\"y\",\"type\":\"scatter\"},{\"hoverinfo\":\"text\",\"marker\":{\"color\":\"rgb(0,116,217)\"},\"mode\":\"lines\",\"x\":[0.0,1.3934607743052596,1.3934607743052596,1.3294334691358716],\"xaxis\":\"x\",\"y\":[-945.0,-945.0,-960.0,-960.0],\"yaxis\":\"y\",\"type\":\"scatter\"},{\"hoverinfo\":\"text\",\"marker\":{\"color\":\"rgb(0,116,217)\"},\"mode\":\"lines\",\"x\":[1.388071830683821,1.4091357247762653,1.4091357247762653,1.3934607743052596],\"xaxis\":\"x\",\"y\":[-930.0,-930.0,-952.5,-952.5],\"yaxis\":\"y\",\"type\":\"scatter\"},{\"hoverinfo\":\"text\",\"marker\":{\"color\":\"rgb(0,116,217)\"},\"mode\":\"lines\",\"x\":[0.0,1.3623829345516016,1.3623829345516016,0.0],\"xaxis\":\"x\",\"y\":[-975.0,-975.0,-985.0,-985.0],\"yaxis\":\"y\",\"type\":\"scatter\"},{\"hoverinfo\":\"text\",\"marker\":{\"color\":\"rgb(0,116,217)\"},\"mode\":\"lines\",\"x\":[0.0,1.386017902388892,1.386017902388892,0.0],\"xaxis\":\"x\",\"y\":[-995.0,-995.0,-1005.0,-1005.0],\"yaxis\":\"y\",\"type\":\"scatter\"},{\"hoverinfo\":\"text\",\"marker\":{\"color\":\"rgb(0,116,217)\"},\"mode\":\"lines\",\"x\":[1.3623829345516016,1.4060450465265628,1.4060450465265628,1.386017902388892],\"xaxis\":\"x\",\"y\":[-980.0,-980.0,-1000.0,-1000.0],\"yaxis\":\"y\",\"type\":\"scatter\"},{\"hoverinfo\":\"text\",\"marker\":{\"color\":\"rgb(0,116,217)\"},\"mode\":\"lines\",\"x\":[0.0,1.31881418823108,1.31881418823108,0.0],\"xaxis\":\"x\",\"y\":[-1015.0,-1015.0,-1025.0,-1025.0],\"yaxis\":\"y\",\"type\":\"scatter\"},{\"hoverinfo\":\"text\",\"marker\":{\"color\":\"rgb(0,116,217)\"},\"mode\":\"lines\",\"x\":[0.0,1.3486552950447226,1.3486552950447226,0.0],\"xaxis\":\"x\",\"y\":[-1035.0,-1035.0,-1045.0,-1045.0],\"yaxis\":\"y\",\"type\":\"scatter\"},{\"hoverinfo\":\"text\",\"marker\":{\"color\":\"rgb(255,65,54)\"},\"mode\":\"lines\",\"x\":[0.0,0.06434041451767178,0.06434041451767178,0.0],\"xaxis\":\"x\",\"y\":[-1065.0,-1065.0,-1075.0,-1075.0],\"yaxis\":\"y\",\"type\":\"scatter\"},{\"hoverinfo\":\"text\",\"marker\":{\"color\":\"rgb(0,116,217)\"},\"mode\":\"lines\",\"x\":[0.0,1.358367672009474,1.358367672009474,0.06434041451767178],\"xaxis\":\"x\",\"y\":[-1055.0,-1055.0,-1070.0,-1070.0],\"yaxis\":\"y\",\"type\":\"scatter\"},{\"hoverinfo\":\"text\",\"marker\":{\"color\":\"rgb(0,116,217)\"},\"mode\":\"lines\",\"x\":[1.3486552950447226,1.4038916714896832,1.4038916714896832,1.358367672009474],\"xaxis\":\"x\",\"y\":[-1040.0,-1040.0,-1062.5,-1062.5],\"yaxis\":\"y\",\"type\":\"scatter\"},{\"hoverinfo\":\"text\",\"marker\":{\"color\":\"rgb(0,116,217)\"},\"mode\":\"lines\",\"x\":[1.31881418823108,1.4118806503048789,1.4118806503048789,1.4038916714896832],\"xaxis\":\"x\",\"y\":[-1020.0,-1020.0,-1051.25,-1051.25],\"yaxis\":\"y\",\"type\":\"scatter\"},{\"hoverinfo\":\"text\",\"marker\":{\"color\":\"rgb(0,116,217)\"},\"mode\":\"lines\",\"x\":[1.4060450465265628,1.4145929988765782,1.4145929988765782,1.4118806503048789],\"xaxis\":\"x\",\"y\":[-990.0,-990.0,-1035.625,-1035.625],\"yaxis\":\"y\",\"type\":\"scatter\"},{\"hoverinfo\":\"text\",\"marker\":{\"color\":\"rgb(0,116,217)\"},\"mode\":\"lines\",\"x\":[1.4091357247762653,1.419335546529531,1.419335546529531,1.4145929988765782],\"xaxis\":\"x\",\"y\":[-941.25,-941.25,-1012.8125,-1012.8125],\"yaxis\":\"y\",\"type\":\"scatter\"},{\"hoverinfo\":\"text\",\"marker\":{\"color\":\"rgb(0,116,217)\"},\"mode\":\"lines\",\"x\":[1.4182093164974947,1.4240822864909617,1.4240822864909617,1.419335546529531],\"xaxis\":\"x\",\"y\":[-824.53125,-824.53125,-977.03125,-977.03125],\"yaxis\":\"y\",\"type\":\"scatter\"},{\"hoverinfo\":\"text\",\"marker\":{\"color\":\"rgb(0,116,217)\"},\"mode\":\"lines\",\"x\":[1.422874454032315,1.4265878840902384,1.4265878840902384,1.4240822864909617],\"xaxis\":\"x\",\"y\":[-673.75,-673.75,-900.78125,-900.78125],\"yaxis\":\"y\",\"type\":\"scatter\"},{\"hoverinfo\":\"text\",\"marker\":{\"color\":\"rgb(0,116,217)\"},\"mode\":\"lines\",\"x\":[1.4187477074263404,1.4298292202256413,1.4298292202256413,1.4265878840902384],\"xaxis\":\"x\",\"y\":[-530.625,-530.625,-787.265625,-787.265625],\"yaxis\":\"y\",\"type\":\"scatter\"},{\"hoverinfo\":\"text\",\"marker\":{\"color\":\"rgb(0,116,217)\"},\"mode\":\"lines\",\"x\":[1.4273205907945066,1.4356915038766955,1.4356915038766955,1.4298292202256413],\"xaxis\":\"x\",\"y\":[-138.18359375,-138.18359375,-658.9453125,-658.9453125],\"yaxis\":\"y\",\"type\":\"scatter\"},{\"hoverinfo\":\"text\",\"marker\":{\"color\":\"rgb(0,116,217)\"},\"mode\":\"lines\",\"x\":[0.0,1.335357371128341,1.335357371128341,0.0],\"xaxis\":\"x\",\"y\":[-1085.0,-1085.0,-1095.0,-1095.0],\"yaxis\":\"y\",\"type\":\"scatter\"},{\"hoverinfo\":\"text\",\"marker\":{\"color\":\"rgb(0,116,217)\"},\"mode\":\"lines\",\"x\":[0.0,1.32910929993408,1.32910929993408,0.0],\"xaxis\":\"x\",\"y\":[-1115.0,-1115.0,-1125.0,-1125.0],\"yaxis\":\"y\",\"type\":\"scatter\"},{\"hoverinfo\":\"text\",\"marker\":{\"color\":\"rgb(0,116,217)\"},\"mode\":\"lines\",\"x\":[0.0,1.395941753535078,1.395941753535078,1.32910929993408],\"xaxis\":\"x\",\"y\":[-1105.0,-1105.0,-1120.0,-1120.0],\"yaxis\":\"y\",\"type\":\"scatter\"},{\"hoverinfo\":\"text\",\"marker\":{\"color\":\"rgb(0,116,217)\"},\"mode\":\"lines\",\"x\":[1.335357371128341,1.409335978077226,1.409335978077226,1.395941753535078],\"xaxis\":\"x\",\"y\":[-1090.0,-1090.0,-1112.5,-1112.5],\"yaxis\":\"y\",\"type\":\"scatter\"},{\"hoverinfo\":\"text\",\"marker\":{\"color\":\"rgb(0,116,217)\"},\"mode\":\"lines\",\"x\":[0.0,1.345800801885955,1.345800801885955,0.0],\"xaxis\":\"x\",\"y\":[-1135.0,-1135.0,-1145.0,-1145.0],\"yaxis\":\"y\",\"type\":\"scatter\"},{\"hoverinfo\":\"text\",\"marker\":{\"color\":\"rgb(0,116,217)\"},\"mode\":\"lines\",\"x\":[0.0,1.3433493183904852,1.3433493183904852,0.0],\"xaxis\":\"x\",\"y\":[-1155.0,-1155.0,-1165.0,-1165.0],\"yaxis\":\"y\",\"type\":\"scatter\"},{\"hoverinfo\":\"text\",\"marker\":{\"color\":\"rgb(35,205,205)\"},\"mode\":\"lines\",\"x\":[0.0,0.14628756927165742,0.14628756927165742,0.0],\"xaxis\":\"x\",\"y\":[-1185.0,-1185.0,-1195.0,-1195.0],\"yaxis\":\"y\",\"type\":\"scatter\"},{\"hoverinfo\":\"text\",\"marker\":{\"color\":\"rgb(0,116,217)\"},\"mode\":\"lines\",\"x\":[0.0,1.3624350687300817,1.3624350687300817,0.14628756927165742],\"xaxis\":\"x\",\"y\":[-1175.0,-1175.0,-1190.0,-1190.0],\"yaxis\":\"y\",\"type\":\"scatter\"},{\"hoverinfo\":\"text\",\"marker\":{\"color\":\"rgb(0,116,217)\"},\"mode\":\"lines\",\"x\":[1.3433493183904852,1.4095649843896245,1.4095649843896245,1.3624350687300817],\"xaxis\":\"x\",\"y\":[-1160.0,-1160.0,-1182.5,-1182.5],\"yaxis\":\"y\",\"type\":\"scatter\"},{\"hoverinfo\":\"text\",\"marker\":{\"color\":\"rgb(0,116,217)\"},\"mode\":\"lines\",\"x\":[1.345800801885955,1.4135101488377475,1.4135101488377475,1.4095649843896245],\"xaxis\":\"x\",\"y\":[-1140.0,-1140.0,-1171.25,-1171.25],\"yaxis\":\"y\",\"type\":\"scatter\"},{\"hoverinfo\":\"text\",\"marker\":{\"color\":\"rgb(0,116,217)\"},\"mode\":\"lines\",\"x\":[1.409335978077226,1.4172890758602228,1.4172890758602228,1.4135101488377475],\"xaxis\":\"x\",\"y\":[-1101.25,-1101.25,-1155.625,-1155.625],\"yaxis\":\"y\",\"type\":\"scatter\"},{\"hoverinfo\":\"text\",\"marker\":{\"color\":\"rgb(0,116,217)\"},\"mode\":\"lines\",\"x\":[0.0,1.3130673752382378,1.3130673752382378,0.0],\"xaxis\":\"x\",\"y\":[-1205.0,-1205.0,-1215.0,-1215.0],\"yaxis\":\"y\",\"type\":\"scatter\"},{\"hoverinfo\":\"text\",\"marker\":{\"color\":\"rgb(0,116,217)\"},\"mode\":\"lines\",\"x\":[0.0,1.3837873260871947,1.3837873260871947,0.0],\"xaxis\":\"x\",\"y\":[-1225.0,-1225.0,-1235.0,-1235.0],\"yaxis\":\"y\",\"type\":\"scatter\"},{\"hoverinfo\":\"text\",\"marker\":{\"color\":\"rgb(0,116,217)\"},\"mode\":\"lines\",\"x\":[1.3130673752382378,1.4087180575152116,1.4087180575152116,1.3837873260871947],\"xaxis\":\"x\",\"y\":[-1210.0,-1210.0,-1230.0,-1230.0],\"yaxis\":\"y\",\"type\":\"scatter\"},{\"hoverinfo\":\"text\",\"marker\":{\"color\":\"rgb(0,116,217)\"},\"mode\":\"lines\",\"x\":[0.0,1.369147783455808,1.369147783455808,0.0],\"xaxis\":\"x\",\"y\":[-1245.0,-1245.0,-1255.0,-1255.0],\"yaxis\":\"y\",\"type\":\"scatter\"},{\"hoverinfo\":\"text\",\"marker\":{\"color\":\"rgb(0,116,217)\"},\"mode\":\"lines\",\"x\":[0.0,1.3946493214175366,1.3946493214175366,0.0],\"xaxis\":\"x\",\"y\":[-1265.0,-1265.0,-1275.0,-1275.0],\"yaxis\":\"y\",\"type\":\"scatter\"},{\"hoverinfo\":\"text\",\"marker\":{\"color\":\"rgb(0,116,217)\"},\"mode\":\"lines\",\"x\":[1.369147783455808,1.409503156179114,1.409503156179114,1.3946493214175366],\"xaxis\":\"x\",\"y\":[-1250.0,-1250.0,-1270.0,-1270.0],\"yaxis\":\"y\",\"type\":\"scatter\"},{\"hoverinfo\":\"text\",\"marker\":{\"color\":\"rgb(0,116,217)\"},\"mode\":\"lines\",\"x\":[1.4087180575152116,1.4183923075098082,1.4183923075098082,1.409503156179114],\"xaxis\":\"x\",\"y\":[-1220.0,-1220.0,-1260.0,-1260.0],\"yaxis\":\"y\",\"type\":\"scatter\"},{\"hoverinfo\":\"text\",\"marker\":{\"color\":\"rgb(0,116,217)\"},\"mode\":\"lines\",\"x\":[1.4172890758602228,1.421628607708253,1.421628607708253,1.4183923075098082],\"xaxis\":\"x\",\"y\":[-1128.4375,-1128.4375,-1240.0,-1240.0],\"yaxis\":\"y\",\"type\":\"scatter\"},{\"hoverinfo\":\"text\",\"marker\":{\"color\":\"rgb(0,116,217)\"},\"mode\":\"lines\",\"x\":[0.0,1.3215541428702078,1.3215541428702078,0.0],\"xaxis\":\"x\",\"y\":[-1285.0,-1285.0,-1295.0,-1295.0],\"yaxis\":\"y\",\"type\":\"scatter\"},{\"hoverinfo\":\"text\",\"marker\":{\"color\":\"rgb(0,116,217)\"},\"mode\":\"lines\",\"x\":[0.0,1.3459885951712953,1.3459885951712953,0.0],\"xaxis\":\"x\",\"y\":[-1315.0,-1315.0,-1325.0,-1325.0],\"yaxis\":\"y\",\"type\":\"scatter\"},{\"hoverinfo\":\"text\",\"marker\":{\"color\":\"rgb(0,116,217)\"},\"mode\":\"lines\",\"x\":[0.0,1.3780855962313248,1.3780855962313248,1.3459885951712953],\"xaxis\":\"x\",\"y\":[-1305.0,-1305.0,-1320.0,-1320.0],\"yaxis\":\"y\",\"type\":\"scatter\"},{\"hoverinfo\":\"text\",\"marker\":{\"color\":\"rgb(0,116,217)\"},\"mode\":\"lines\",\"x\":[1.3215541428702078,1.4025240431543005,1.4025240431543005,1.3780855962313248],\"xaxis\":\"x\",\"y\":[-1290.0,-1290.0,-1312.5,-1312.5],\"yaxis\":\"y\",\"type\":\"scatter\"},{\"hoverinfo\":\"text\",\"marker\":{\"color\":\"rgb(0,116,217)\"},\"mode\":\"lines\",\"x\":[0.0,1.3693070403906313,1.3693070403906313,0.0],\"xaxis\":\"x\",\"y\":[-1335.0,-1335.0,-1345.0,-1345.0],\"yaxis\":\"y\",\"type\":\"scatter\"},{\"hoverinfo\":\"text\",\"marker\":{\"color\":\"rgb(0,116,217)\"},\"mode\":\"lines\",\"x\":[0.0,1.3615723460408198,1.3615723460408198,0.0],\"xaxis\":\"x\",\"y\":[-1365.0,-1365.0,-1375.0,-1375.0],\"yaxis\":\"y\",\"type\":\"scatter\"},{\"hoverinfo\":\"text\",\"marker\":{\"color\":\"rgb(0,116,217)\"},\"mode\":\"lines\",\"x\":[0.0,1.3899708819617778,1.3899708819617778,1.3615723460408198],\"xaxis\":\"x\",\"y\":[-1355.0,-1355.0,-1370.0,-1370.0],\"yaxis\":\"y\",\"type\":\"scatter\"},{\"hoverinfo\":\"text\",\"marker\":{\"color\":\"rgb(0,116,217)\"},\"mode\":\"lines\",\"x\":[1.3693070403906313,1.4082052706055344,1.4082052706055344,1.3899708819617778],\"xaxis\":\"x\",\"y\":[-1340.0,-1340.0,-1362.5,-1362.5],\"yaxis\":\"y\",\"type\":\"scatter\"},{\"hoverinfo\":\"text\",\"marker\":{\"color\":\"rgb(0,116,217)\"},\"mode\":\"lines\",\"x\":[0.0,1.318153511377454,1.318153511377454,0.0],\"xaxis\":\"x\",\"y\":[-1395.0,-1395.0,-1405.0,-1405.0],\"yaxis\":\"y\",\"type\":\"scatter\"},{\"hoverinfo\":\"text\",\"marker\":{\"color\":\"rgb(0,116,217)\"},\"mode\":\"lines\",\"x\":[0.0,1.38300457709518,1.38300457709518,1.318153511377454],\"xaxis\":\"x\",\"y\":[-1385.0,-1385.0,-1400.0,-1400.0],\"yaxis\":\"y\",\"type\":\"scatter\"},{\"hoverinfo\":\"text\",\"marker\":{\"color\":\"rgb(0,116,217)\"},\"mode\":\"lines\",\"x\":[0.0,1.3891642663952177,1.3891642663952177,0.0],\"xaxis\":\"x\",\"y\":[-1425.0,-1425.0,-1435.0,-1435.0],\"yaxis\":\"y\",\"type\":\"scatter\"},{\"hoverinfo\":\"text\",\"marker\":{\"color\":\"rgb(0,116,217)\"},\"mode\":\"lines\",\"x\":[0.0,1.4029000146557746,1.4029000146557746,1.3891642663952177],\"xaxis\":\"x\",\"y\":[-1415.0,-1415.0,-1430.0,-1430.0],\"yaxis\":\"y\",\"type\":\"scatter\"},{\"hoverinfo\":\"text\",\"marker\":{\"color\":\"rgb(0,116,217)\"},\"mode\":\"lines\",\"x\":[1.38300457709518,1.4123523522097474,1.4123523522097474,1.4029000146557746],\"xaxis\":\"x\",\"y\":[-1392.5,-1392.5,-1422.5,-1422.5],\"yaxis\":\"y\",\"type\":\"scatter\"},{\"hoverinfo\":\"text\",\"marker\":{\"color\":\"rgb(0,116,217)\"},\"mode\":\"lines\",\"x\":[1.4082052706055344,1.4172855387299907,1.4172855387299907,1.4123523522097474],\"xaxis\":\"x\",\"y\":[-1351.25,-1351.25,-1407.5,-1407.5],\"yaxis\":\"y\",\"type\":\"scatter\"},{\"hoverinfo\":\"text\",\"marker\":{\"color\":\"rgb(0,116,217)\"},\"mode\":\"lines\",\"x\":[1.4025240431543005,1.4218302981306963,1.4218302981306963,1.4172855387299907],\"xaxis\":\"x\",\"y\":[-1301.25,-1301.25,-1379.375,-1379.375],\"yaxis\":\"y\",\"type\":\"scatter\"},{\"hoverinfo\":\"text\",\"marker\":{\"color\":\"rgb(0,116,217)\"},\"mode\":\"lines\",\"x\":[1.421628607708253,1.426220391021583,1.426220391021583,1.4218302981306963],\"xaxis\":\"x\",\"y\":[-1184.21875,-1184.21875,-1340.3125,-1340.3125],\"yaxis\":\"y\",\"type\":\"scatter\"},{\"hoverinfo\":\"text\",\"marker\":{\"color\":\"rgb(0,116,217)\"},\"mode\":\"lines\",\"x\":[0.0,1.3911734276974614,1.3911734276974614,0.0],\"xaxis\":\"x\",\"y\":[-1445.0,-1445.0,-1455.0,-1455.0],\"yaxis\":\"y\",\"type\":\"scatter\"},{\"hoverinfo\":\"text\",\"marker\":{\"color\":\"rgb(0,116,217)\"},\"mode\":\"lines\",\"x\":[0.0,1.1679811632703048,1.1679811632703048,0.0],\"xaxis\":\"x\",\"y\":[-1485.0,-1485.0,-1495.0,-1495.0],\"yaxis\":\"y\",\"type\":\"scatter\"},{\"hoverinfo\":\"text\",\"marker\":{\"color\":\"rgb(0,116,217)\"},\"mode\":\"lines\",\"x\":[0.0,1.3820936430109492,1.3820936430109492,1.1679811632703048],\"xaxis\":\"x\",\"y\":[-1475.0,-1475.0,-1490.0,-1490.0],\"yaxis\":\"y\",\"type\":\"scatter\"},{\"hoverinfo\":\"text\",\"marker\":{\"color\":\"rgb(0,116,217)\"},\"mode\":\"lines\",\"x\":[0.0,1.4114564243318297,1.4114564243318297,1.3820936430109492],\"xaxis\":\"x\",\"y\":[-1465.0,-1465.0,-1482.5,-1482.5],\"yaxis\":\"y\",\"type\":\"scatter\"},{\"hoverinfo\":\"text\",\"marker\":{\"color\":\"rgb(0,116,217)\"},\"mode\":\"lines\",\"x\":[1.3911734276974614,1.4123489532327924,1.4123489532327924,1.4114564243318297],\"xaxis\":\"x\",\"y\":[-1450.0,-1450.0,-1473.75,-1473.75],\"yaxis\":\"y\",\"type\":\"scatter\"},{\"hoverinfo\":\"text\",\"marker\":{\"color\":\"rgb(0,116,217)\"},\"mode\":\"lines\",\"x\":[0.0,1.374781753831305,1.374781753831305,0.0],\"xaxis\":\"x\",\"y\":[-1505.0,-1505.0,-1515.0,-1515.0],\"yaxis\":\"y\",\"type\":\"scatter\"},{\"hoverinfo\":\"text\",\"marker\":{\"color\":\"rgb(0,116,217)\"},\"mode\":\"lines\",\"x\":[0.0,1.3161055239339916,1.3161055239339916,0.0],\"xaxis\":\"x\",\"y\":[-1525.0,-1525.0,-1535.0,-1535.0],\"yaxis\":\"y\",\"type\":\"scatter\"},{\"hoverinfo\":\"text\",\"marker\":{\"color\":\"rgb(0,116,217)\"},\"mode\":\"lines\",\"x\":[0.0,1.3928725665170418,1.3928725665170418,0.0],\"xaxis\":\"x\",\"y\":[-1545.0,-1545.0,-1555.0,-1555.0],\"yaxis\":\"y\",\"type\":\"scatter\"},{\"hoverinfo\":\"text\",\"marker\":{\"color\":\"rgb(0,116,217)\"},\"mode\":\"lines\",\"x\":[1.3161055239339916,1.4089212788711478,1.4089212788711478,1.3928725665170418],\"xaxis\":\"x\",\"y\":[-1530.0,-1530.0,-1550.0,-1550.0],\"yaxis\":\"y\",\"type\":\"scatter\"},{\"hoverinfo\":\"text\",\"marker\":{\"color\":\"rgb(0,116,217)\"},\"mode\":\"lines\",\"x\":[1.374781753831305,1.413183856961235,1.413183856961235,1.4089212788711478],\"xaxis\":\"x\",\"y\":[-1510.0,-1510.0,-1540.0,-1540.0],\"yaxis\":\"y\",\"type\":\"scatter\"},{\"hoverinfo\":\"text\",\"marker\":{\"color\":\"rgb(0,116,217)\"},\"mode\":\"lines\",\"x\":[1.4123489532327924,1.417086892946467,1.417086892946467,1.413183856961235],\"xaxis\":\"x\",\"y\":[-1461.875,-1461.875,-1525.0,-1525.0],\"yaxis\":\"y\",\"type\":\"scatter\"},{\"hoverinfo\":\"text\",\"marker\":{\"color\":\"rgb(0,116,217)\"},\"mode\":\"lines\",\"x\":[0.0,1.2713583033109972,1.2713583033109972,0.0],\"xaxis\":\"x\",\"y\":[-1565.0,-1565.0,-1575.0,-1575.0],\"yaxis\":\"y\",\"type\":\"scatter\"},{\"hoverinfo\":\"text\",\"marker\":{\"color\":\"rgb(0,116,217)\"},\"mode\":\"lines\",\"x\":[0.0,1.363486258423128,1.363486258423128,0.0],\"xaxis\":\"x\",\"y\":[-1585.0,-1585.0,-1595.0,-1595.0],\"yaxis\":\"y\",\"type\":\"scatter\"},{\"hoverinfo\":\"text\",\"marker\":{\"color\":\"rgb(0,116,217)\"},\"mode\":\"lines\",\"x\":[1.2713583033109972,1.406516715992119,1.406516715992119,1.363486258423128],\"xaxis\":\"x\",\"y\":[-1570.0,-1570.0,-1590.0,-1590.0],\"yaxis\":\"y\",\"type\":\"scatter\"},{\"hoverinfo\":\"text\",\"marker\":{\"color\":\"rgb(0,116,217)\"},\"mode\":\"lines\",\"x\":[0.0,1.3249302033517685,1.3249302033517685,0.0],\"xaxis\":\"x\",\"y\":[-1605.0,-1605.0,-1615.0,-1615.0],\"yaxis\":\"y\",\"type\":\"scatter\"},{\"hoverinfo\":\"text\",\"marker\":{\"color\":\"rgb(0,116,217)\"},\"mode\":\"lines\",\"x\":[0.0,1.3333442758832939,1.3333442758832939,0.0],\"xaxis\":\"x\",\"y\":[-1625.0,-1625.0,-1635.0,-1635.0],\"yaxis\":\"y\",\"type\":\"scatter\"},{\"hoverinfo\":\"text\",\"marker\":{\"color\":\"rgb(0,116,217)\"},\"mode\":\"lines\",\"x\":[1.3249302033517685,1.3951705875236344,1.3951705875236344,1.3333442758832939],\"xaxis\":\"x\",\"y\":[-1610.0,-1610.0,-1630.0,-1630.0],\"yaxis\":\"y\",\"type\":\"scatter\"},{\"hoverinfo\":\"text\",\"marker\":{\"color\":\"rgb(0,116,217)\"},\"mode\":\"lines\",\"x\":[0.0,1.3667936839011743,1.3667936839011743,0.0],\"xaxis\":\"x\",\"y\":[-1645.0,-1645.0,-1655.0,-1655.0],\"yaxis\":\"y\",\"type\":\"scatter\"},{\"hoverinfo\":\"text\",\"marker\":{\"color\":\"rgb(0,116,217)\"},\"mode\":\"lines\",\"x\":[0.0,1.3941471529340173,1.3941471529340173,0.0],\"xaxis\":\"x\",\"y\":[-1665.0,-1665.0,-1675.0,-1675.0],\"yaxis\":\"y\",\"type\":\"scatter\"},{\"hoverinfo\":\"text\",\"marker\":{\"color\":\"rgb(0,116,217)\"},\"mode\":\"lines\",\"x\":[1.3667936839011743,1.4119975679311287,1.4119975679311287,1.3941471529340173],\"xaxis\":\"x\",\"y\":[-1650.0,-1650.0,-1670.0,-1670.0],\"yaxis\":\"y\",\"type\":\"scatter\"},{\"hoverinfo\":\"text\",\"marker\":{\"color\":\"rgb(0,116,217)\"},\"mode\":\"lines\",\"x\":[1.3951705875236344,1.4164116165288567,1.4164116165288567,1.4119975679311287],\"xaxis\":\"x\",\"y\":[-1620.0,-1620.0,-1660.0,-1660.0],\"yaxis\":\"y\",\"type\":\"scatter\"},{\"hoverinfo\":\"text\",\"marker\":{\"color\":\"rgb(0,116,217)\"},\"mode\":\"lines\",\"x\":[1.406516715992119,1.4174864971313534,1.4174864971313534,1.4164116165288567],\"xaxis\":\"x\",\"y\":[-1580.0,-1580.0,-1640.0,-1640.0],\"yaxis\":\"y\",\"type\":\"scatter\"},{\"hoverinfo\":\"text\",\"marker\":{\"color\":\"rgb(0,116,217)\"},\"mode\":\"lines\",\"x\":[1.417086892946467,1.4227997600787772,1.4227997600787772,1.4174864971313534],\"xaxis\":\"x\",\"y\":[-1493.4375,-1493.4375,-1610.0,-1610.0],\"yaxis\":\"y\",\"type\":\"scatter\"},{\"hoverinfo\":\"text\",\"marker\":{\"color\":\"rgb(0,116,217)\"},\"mode\":\"lines\",\"x\":[0.0,1.3134293296917086,1.3134293296917086,0.0],\"xaxis\":\"x\",\"y\":[-1685.0,-1685.0,-1695.0,-1695.0],\"yaxis\":\"y\",\"type\":\"scatter\"},{\"hoverinfo\":\"text\",\"marker\":{\"color\":\"rgb(0,116,217)\"},\"mode\":\"lines\",\"x\":[0.0,1.3472738995384497,1.3472738995384497,0.0],\"xaxis\":\"x\",\"y\":[-1705.0,-1705.0,-1715.0,-1715.0],\"yaxis\":\"y\",\"type\":\"scatter\"},{\"hoverinfo\":\"text\",\"marker\":{\"color\":\"rgb(0,116,217)\"},\"mode\":\"lines\",\"x\":[1.3134293296917086,1.404589783223668,1.404589783223668,1.3472738995384497],\"xaxis\":\"x\",\"y\":[-1690.0,-1690.0,-1710.0,-1710.0],\"yaxis\":\"y\",\"type\":\"scatter\"},{\"hoverinfo\":\"text\",\"marker\":{\"color\":\"rgb(0,116,217)\"},\"mode\":\"lines\",\"x\":[0.0,1.3573730651591445,1.3573730651591445,0.0],\"xaxis\":\"x\",\"y\":[-1725.0,-1725.0,-1735.0,-1735.0],\"yaxis\":\"y\",\"type\":\"scatter\"},{\"hoverinfo\":\"text\",\"marker\":{\"color\":\"rgb(133,20,75)\"},\"mode\":\"lines\",\"x\":[0.0,0.3814902943054075,0.3814902943054075,0.0],\"xaxis\":\"x\",\"y\":[-1745.0,-1745.0,-1755.0,-1755.0],\"yaxis\":\"y\",\"type\":\"scatter\"},{\"hoverinfo\":\"text\",\"marker\":{\"color\":\"rgb(0,116,217)\"},\"mode\":\"lines\",\"x\":[0.0,1.3332233366892288,1.3332233366892288,0.0],\"xaxis\":\"x\",\"y\":[-1765.0,-1765.0,-1775.0,-1775.0],\"yaxis\":\"y\",\"type\":\"scatter\"},{\"hoverinfo\":\"text\",\"marker\":{\"color\":\"rgb(0,116,217)\"},\"mode\":\"lines\",\"x\":[0.3814902943054075,1.4139910729453624,1.4139910729453624,1.3332233366892288],\"xaxis\":\"x\",\"y\":[-1750.0,-1750.0,-1770.0,-1770.0],\"yaxis\":\"y\",\"type\":\"scatter\"},{\"hoverinfo\":\"text\",\"marker\":{\"color\":\"rgb(0,116,217)\"},\"mode\":\"lines\",\"x\":[1.3573730651591445,1.4157566084761954,1.4157566084761954,1.4139910729453624],\"xaxis\":\"x\",\"y\":[-1730.0,-1730.0,-1760.0,-1760.0],\"yaxis\":\"y\",\"type\":\"scatter\"},{\"hoverinfo\":\"text\",\"marker\":{\"color\":\"rgb(0,116,217)\"},\"mode\":\"lines\",\"x\":[1.404589783223668,1.4170418890638303,1.4170418890638303,1.4157566084761954],\"xaxis\":\"x\",\"y\":[-1700.0,-1700.0,-1745.0,-1745.0],\"yaxis\":\"y\",\"type\":\"scatter\"},{\"hoverinfo\":\"text\",\"marker\":{\"color\":\"rgb(0,116,217)\"},\"mode\":\"lines\",\"x\":[0.0,1.3033761149621927,1.3033761149621927,0.0],\"xaxis\":\"x\",\"y\":[-1795.0,-1795.0,-1805.0,-1805.0],\"yaxis\":\"y\",\"type\":\"scatter\"},{\"hoverinfo\":\"text\",\"marker\":{\"color\":\"rgb(0,116,217)\"},\"mode\":\"lines\",\"x\":[0.0,1.384820683488461,1.384820683488461,1.3033761149621927],\"xaxis\":\"x\",\"y\":[-1785.0,-1785.0,-1800.0,-1800.0],\"yaxis\":\"y\",\"type\":\"scatter\"},{\"hoverinfo\":\"text\",\"marker\":{\"color\":\"rgb(0,116,217)\"},\"mode\":\"lines\",\"x\":[0.0,1.3783428679558052,1.3783428679558052,0.0],\"xaxis\":\"x\",\"y\":[-1815.0,-1815.0,-1825.0,-1825.0],\"yaxis\":\"y\",\"type\":\"scatter\"},{\"hoverinfo\":\"text\",\"marker\":{\"color\":\"rgb(0,116,217)\"},\"mode\":\"lines\",\"x\":[0.0,1.345495534972895,1.345495534972895,0.0],\"xaxis\":\"x\",\"y\":[-1845.0,-1845.0,-1855.0,-1855.0],\"yaxis\":\"y\",\"type\":\"scatter\"},{\"hoverinfo\":\"text\",\"marker\":{\"color\":\"rgb(0,116,217)\"},\"mode\":\"lines\",\"x\":[0.0,1.38559402988379,1.38559402988379,1.345495534972895],\"xaxis\":\"x\",\"y\":[-1835.0,-1835.0,-1850.0,-1850.0],\"yaxis\":\"y\",\"type\":\"scatter\"},{\"hoverinfo\":\"text\",\"marker\":{\"color\":\"rgb(0,116,217)\"},\"mode\":\"lines\",\"x\":[1.3783428679558052,1.4070432520839993,1.4070432520839993,1.38559402988379],\"xaxis\":\"x\",\"y\":[-1820.0,-1820.0,-1842.5,-1842.5],\"yaxis\":\"y\",\"type\":\"scatter\"},{\"hoverinfo\":\"text\",\"marker\":{\"color\":\"rgb(0,116,217)\"},\"mode\":\"lines\",\"x\":[1.384820683488461,1.4149363517194427,1.4149363517194427,1.4070432520839993],\"xaxis\":\"x\",\"y\":[-1792.5,-1792.5,-1831.25,-1831.25],\"yaxis\":\"y\",\"type\":\"scatter\"},{\"hoverinfo\":\"text\",\"marker\":{\"color\":\"rgb(0,116,217)\"},\"mode\":\"lines\",\"x\":[0.0,1.2881615283542238,1.2881615283542238,0.0],\"xaxis\":\"x\",\"y\":[-1875.0,-1875.0,-1885.0,-1885.0],\"yaxis\":\"y\",\"type\":\"scatter\"},{\"hoverinfo\":\"text\",\"marker\":{\"color\":\"rgb(0,116,217)\"},\"mode\":\"lines\",\"x\":[0.0,1.3419309838170834,1.3419309838170834,1.2881615283542238],\"xaxis\":\"x\",\"y\":[-1865.0,-1865.0,-1880.0,-1880.0],\"yaxis\":\"y\",\"type\":\"scatter\"},{\"hoverinfo\":\"text\",\"marker\":{\"color\":\"rgb(0,116,217)\"},\"mode\":\"lines\",\"x\":[0.0,1.2934196119109795,1.2934196119109795,0.0],\"xaxis\":\"x\",\"y\":[-1895.0,-1895.0,-1905.0,-1905.0],\"yaxis\":\"y\",\"type\":\"scatter\"},{\"hoverinfo\":\"text\",\"marker\":{\"color\":\"rgb(0,116,217)\"},\"mode\":\"lines\",\"x\":[0.0,1.3686942418701211,1.3686942418701211,0.0],\"xaxis\":\"x\",\"y\":[-1915.0,-1915.0,-1925.0,-1925.0],\"yaxis\":\"y\",\"type\":\"scatter\"},{\"hoverinfo\":\"text\",\"marker\":{\"color\":\"rgb(0,116,217)\"},\"mode\":\"lines\",\"x\":[1.2934196119109795,1.4043517668851462,1.4043517668851462,1.3686942418701211],\"xaxis\":\"x\",\"y\":[-1900.0,-1900.0,-1920.0,-1920.0],\"yaxis\":\"y\",\"type\":\"scatter\"},{\"hoverinfo\":\"text\",\"marker\":{\"color\":\"rgb(0,116,217)\"},\"mode\":\"lines\",\"x\":[1.3419309838170834,1.415804317376861,1.415804317376861,1.4043517668851462],\"xaxis\":\"x\",\"y\":[-1872.5,-1872.5,-1910.0,-1910.0],\"yaxis\":\"y\",\"type\":\"scatter\"},{\"hoverinfo\":\"text\",\"marker\":{\"color\":\"rgb(0,116,217)\"},\"mode\":\"lines\",\"x\":[1.4149363517194427,1.419224463940093,1.419224463940093,1.415804317376861],\"xaxis\":\"x\",\"y\":[-1811.875,-1811.875,-1891.25,-1891.25],\"yaxis\":\"y\",\"type\":\"scatter\"},{\"hoverinfo\":\"text\",\"marker\":{\"color\":\"rgb(0,116,217)\"},\"mode\":\"lines\",\"x\":[1.4170418890638303,1.4217344675612649,1.4217344675612649,1.419224463940093],\"xaxis\":\"x\",\"y\":[-1722.5,-1722.5,-1851.5625,-1851.5625],\"yaxis\":\"y\",\"type\":\"scatter\"},{\"hoverinfo\":\"text\",\"marker\":{\"color\":\"rgb(0,116,217)\"},\"mode\":\"lines\",\"x\":[0.0,1.2817297214026413,1.2817297214026413,0.0],\"xaxis\":\"x\",\"y\":[-1935.0,-1935.0,-1945.0,-1945.0],\"yaxis\":\"y\",\"type\":\"scatter\"},{\"hoverinfo\":\"text\",\"marker\":{\"color\":\"rgb(0,116,217)\"},\"mode\":\"lines\",\"x\":[0.0,1.351944176265688,1.351944176265688,0.0],\"xaxis\":\"x\",\"y\":[-1955.0,-1955.0,-1965.0,-1965.0],\"yaxis\":\"y\",\"type\":\"scatter\"},{\"hoverinfo\":\"text\",\"marker\":{\"color\":\"rgb(0,116,217)\"},\"mode\":\"lines\",\"x\":[1.2817297214026413,1.4049707005134018,1.4049707005134018,1.351944176265688],\"xaxis\":\"x\",\"y\":[-1940.0,-1940.0,-1960.0,-1960.0],\"yaxis\":\"y\",\"type\":\"scatter\"},{\"hoverinfo\":\"text\",\"marker\":{\"color\":\"rgb(0,116,217)\"},\"mode\":\"lines\",\"x\":[0.0,1.394947076247008,1.394947076247008,0.0],\"xaxis\":\"x\",\"y\":[-1975.0,-1975.0,-1985.0,-1985.0],\"yaxis\":\"y\",\"type\":\"scatter\"},{\"hoverinfo\":\"text\",\"marker\":{\"color\":\"rgb(0,116,217)\"},\"mode\":\"lines\",\"x\":[0.0,1.3723865538329856,1.3723865538329856,0.0],\"xaxis\":\"x\",\"y\":[-2005.0,-2005.0,-2015.0,-2015.0],\"yaxis\":\"y\",\"type\":\"scatter\"},{\"hoverinfo\":\"text\",\"marker\":{\"color\":\"rgb(0,116,217)\"},\"mode\":\"lines\",\"x\":[0.0,1.3991506739483732,1.3991506739483732,1.3723865538329856],\"xaxis\":\"x\",\"y\":[-1995.0,-1995.0,-2010.0,-2010.0],\"yaxis\":\"y\",\"type\":\"scatter\"},{\"hoverinfo\":\"text\",\"marker\":{\"color\":\"rgb(0,116,217)\"},\"mode\":\"lines\",\"x\":[1.394947076247008,1.4120469586472097,1.4120469586472097,1.3991506739483732],\"xaxis\":\"x\",\"y\":[-1980.0,-1980.0,-2002.5,-2002.5],\"yaxis\":\"y\",\"type\":\"scatter\"},{\"hoverinfo\":\"text\",\"marker\":{\"color\":\"rgb(0,116,217)\"},\"mode\":\"lines\",\"x\":[0.0,1.3651662883471545,1.3651662883471545,0.0],\"xaxis\":\"x\",\"y\":[-2025.0,-2025.0,-2035.0,-2035.0],\"yaxis\":\"y\",\"type\":\"scatter\"},{\"hoverinfo\":\"text\",\"marker\":{\"color\":\"rgb(0,116,217)\"},\"mode\":\"lines\",\"x\":[0.0,1.3751883950392092,1.3751883950392092,0.0],\"xaxis\":\"x\",\"y\":[-2045.0,-2045.0,-2055.0,-2055.0],\"yaxis\":\"y\",\"type\":\"scatter\"},{\"hoverinfo\":\"text\",\"marker\":{\"color\":\"rgb(0,116,217)\"},\"mode\":\"lines\",\"x\":[1.3651662883471545,1.4128394097635057,1.4128394097635057,1.3751883950392092],\"xaxis\":\"x\",\"y\":[-2030.0,-2030.0,-2050.0,-2050.0],\"yaxis\":\"y\",\"type\":\"scatter\"},{\"hoverinfo\":\"text\",\"marker\":{\"color\":\"rgb(0,116,217)\"},\"mode\":\"lines\",\"x\":[1.4120469586472097,1.4155230188283596,1.4155230188283596,1.4128394097635057],\"xaxis\":\"x\",\"y\":[-1991.25,-1991.25,-2040.0,-2040.0],\"yaxis\":\"y\",\"type\":\"scatter\"},{\"hoverinfo\":\"text\",\"marker\":{\"color\":\"rgb(0,116,217)\"},\"mode\":\"lines\",\"x\":[1.4049707005134018,1.4180620169009006,1.4180620169009006,1.4155230188283596],\"xaxis\":\"x\",\"y\":[-1950.0,-1950.0,-2015.625,-2015.625],\"yaxis\":\"y\",\"type\":\"scatter\"},{\"hoverinfo\":\"text\",\"marker\":{\"color\":\"rgb(0,116,217)\"},\"mode\":\"lines\",\"x\":[0.0,1.294656090507293,1.294656090507293,0.0],\"xaxis\":\"x\",\"y\":[-2075.0,-2075.0,-2085.0,-2085.0],\"yaxis\":\"y\",\"type\":\"scatter\"},{\"hoverinfo\":\"text\",\"marker\":{\"color\":\"rgb(0,116,217)\"},\"mode\":\"lines\",\"x\":[0.0,1.399690942729556,1.399690942729556,1.294656090507293],\"xaxis\":\"x\",\"y\":[-2065.0,-2065.0,-2080.0,-2080.0],\"yaxis\":\"y\",\"type\":\"scatter\"},{\"hoverinfo\":\"text\",\"marker\":{\"color\":\"rgb(0,116,217)\"},\"mode\":\"lines\",\"x\":[0.0,1.3418915410934036,1.3418915410934036,0.0],\"xaxis\":\"x\",\"y\":[-2095.0,-2095.0,-2105.0,-2105.0],\"yaxis\":\"y\",\"type\":\"scatter\"},{\"hoverinfo\":\"text\",\"marker\":{\"color\":\"rgb(0,116,217)\"},\"mode\":\"lines\",\"x\":[0.0,1.3865421163087162,1.3865421163087162,0.0],\"xaxis\":\"x\",\"y\":[-2115.0,-2115.0,-2125.0,-2125.0],\"yaxis\":\"y\",\"type\":\"scatter\"},{\"hoverinfo\":\"text\",\"marker\":{\"color\":\"rgb(0,116,217)\"},\"mode\":\"lines\",\"x\":[1.3418915410934036,1.4084376625407624,1.4084376625407624,1.3865421163087162],\"xaxis\":\"x\",\"y\":[-2100.0,-2100.0,-2120.0,-2120.0],\"yaxis\":\"y\",\"type\":\"scatter\"},{\"hoverinfo\":\"text\",\"marker\":{\"color\":\"rgb(0,116,217)\"},\"mode\":\"lines\",\"x\":[1.399690942729556,1.4130791585508535,1.4130791585508535,1.4084376625407624],\"xaxis\":\"x\",\"y\":[-2072.5,-2072.5,-2110.0,-2110.0],\"yaxis\":\"y\",\"type\":\"scatter\"},{\"hoverinfo\":\"text\",\"marker\":{\"color\":\"rgb(0,116,217)\"},\"mode\":\"lines\",\"x\":[0.0,1.3432207608992388,1.3432207608992388,0.0],\"xaxis\":\"x\",\"y\":[-2135.0,-2135.0,-2145.0,-2145.0],\"yaxis\":\"y\",\"type\":\"scatter\"},{\"hoverinfo\":\"text\",\"marker\":{\"color\":\"rgb(0,116,217)\"},\"mode\":\"lines\",\"x\":[0.0,1.370407759939761,1.370407759939761,0.0],\"xaxis\":\"x\",\"y\":[-2155.0,-2155.0,-2165.0,-2165.0],\"yaxis\":\"y\",\"type\":\"scatter\"},{\"hoverinfo\":\"text\",\"marker\":{\"color\":\"rgb(0,116,217)\"},\"mode\":\"lines\",\"x\":[1.3432207608992388,1.4086289646947656,1.4086289646947656,1.370407759939761],\"xaxis\":\"x\",\"y\":[-2140.0,-2140.0,-2160.0,-2160.0],\"yaxis\":\"y\",\"type\":\"scatter\"},{\"hoverinfo\":\"text\",\"marker\":{\"color\":\"rgb(0,116,217)\"},\"mode\":\"lines\",\"x\":[0.0,1.3875912767678145,1.3875912767678145,0.0],\"xaxis\":\"x\",\"y\":[-2175.0,-2175.0,-2185.0,-2185.0],\"yaxis\":\"y\",\"type\":\"scatter\"},{\"hoverinfo\":\"text\",\"marker\":{\"color\":\"rgb(255,220,0)\"},\"mode\":\"lines\",\"x\":[0.0,0.6104369965298274,0.6104369965298274,0.0],\"xaxis\":\"x\",\"y\":[-2195.0,-2195.0,-2205.0,-2205.0],\"yaxis\":\"y\",\"type\":\"scatter\"},{\"hoverinfo\":\"text\",\"marker\":{\"color\":\"rgb(0,116,217)\"},\"mode\":\"lines\",\"x\":[0.0,1.3542520432483887,1.3542520432483887,0.0],\"xaxis\":\"x\",\"y\":[-2215.0,-2215.0,-2225.0,-2225.0],\"yaxis\":\"y\",\"type\":\"scatter\"},{\"hoverinfo\":\"text\",\"marker\":{\"color\":\"rgb(0,116,217)\"},\"mode\":\"lines\",\"x\":[0.6104369965298274,1.4044611356050969,1.4044611356050969,1.3542520432483887],\"xaxis\":\"x\",\"y\":[-2200.0,-2200.0,-2220.0,-2220.0],\"yaxis\":\"y\",\"type\":\"scatter\"},{\"hoverinfo\":\"text\",\"marker\":{\"color\":\"rgb(0,116,217)\"},\"mode\":\"lines\",\"x\":[1.3875912767678145,1.4121555390722664,1.4121555390722664,1.4044611356050969],\"xaxis\":\"x\",\"y\":[-2180.0,-2180.0,-2210.0,-2210.0],\"yaxis\":\"y\",\"type\":\"scatter\"},{\"hoverinfo\":\"text\",\"marker\":{\"color\":\"rgb(0,116,217)\"},\"mode\":\"lines\",\"x\":[1.4086289646947656,1.4157302032141517,1.4157302032141517,1.4121555390722664],\"xaxis\":\"x\",\"y\":[-2150.0,-2150.0,-2195.0,-2195.0],\"yaxis\":\"y\",\"type\":\"scatter\"},{\"hoverinfo\":\"text\",\"marker\":{\"color\":\"rgb(0,116,217)\"},\"mode\":\"lines\",\"x\":[1.4130791585508535,1.4196575740761992,1.4196575740761992,1.4157302032141517],\"xaxis\":\"x\",\"y\":[-2091.25,-2091.25,-2172.5,-2172.5],\"yaxis\":\"y\",\"type\":\"scatter\"},{\"hoverinfo\":\"text\",\"marker\":{\"color\":\"rgb(0,116,217)\"},\"mode\":\"lines\",\"x\":[1.4180620169009006,1.4239057219657696,1.4239057219657696,1.4196575740761992],\"xaxis\":\"x\",\"y\":[-1982.8125,-1982.8125,-2131.875,-2131.875],\"yaxis\":\"y\",\"type\":\"scatter\"},{\"hoverinfo\":\"text\",\"marker\":{\"color\":\"rgb(0,116,217)\"},\"mode\":\"lines\",\"x\":[1.4217344675612649,1.4266826727829978,1.4266826727829978,1.4239057219657696],\"xaxis\":\"x\",\"y\":[-1787.03125,-1787.03125,-2057.34375,-2057.34375],\"yaxis\":\"y\",\"type\":\"scatter\"},{\"hoverinfo\":\"text\",\"marker\":{\"color\":\"rgb(0,116,217)\"},\"mode\":\"lines\",\"x\":[1.4227997600787772,1.429414868176089,1.429414868176089,1.4266826727829978],\"xaxis\":\"x\",\"y\":[-1551.71875,-1551.71875,-1922.1875,-1922.1875],\"yaxis\":\"y\",\"type\":\"scatter\"},{\"hoverinfo\":\"text\",\"marker\":{\"color\":\"rgb(0,116,217)\"},\"mode\":\"lines\",\"x\":[1.426220391021583,1.436045833874229,1.436045833874229,1.429414868176089],\"xaxis\":\"x\",\"y\":[-1262.265625,-1262.265625,-1736.953125,-1736.953125],\"yaxis\":\"y\",\"type\":\"scatter\"},{\"hoverinfo\":\"text\",\"marker\":{\"color\":\"rgb(0,116,217)\"},\"mode\":\"lines\",\"x\":[1.4356915038766955,1.4421668980141784,1.4421668980141784,1.436045833874229],\"xaxis\":\"x\",\"y\":[-398.564453125,-398.564453125,-1499.609375,-1499.609375],\"yaxis\":\"y\",\"type\":\"scatter\"},{\"hoverinfo\":\"text\",\"marker\":{\"color\":\"rgb(40,35,35)\"},\"mode\":\"lines\",\"x\":[0.0,1.0018359386519458,1.0018359386519458,0.0],\"xaxis\":\"x\",\"y\":[-2245.0,-2245.0,-2255.0,-2255.0],\"yaxis\":\"y\",\"type\":\"scatter\"},{\"hoverinfo\":\"text\",\"marker\":{\"color\":\"rgb(0,116,217)\"},\"mode\":\"lines\",\"x\":[0.0,1.3277280476628628,1.3277280476628628,1.0018359386519458],\"xaxis\":\"x\",\"y\":[-2235.0,-2235.0,-2250.0,-2250.0],\"yaxis\":\"y\",\"type\":\"scatter\"},{\"hoverinfo\":\"text\",\"marker\":{\"color\":\"rgb(0,116,217)\"},\"mode\":\"lines\",\"x\":[0.0,1.3437896785125045,1.3437896785125045,0.0],\"xaxis\":\"x\",\"y\":[-2265.0,-2265.0,-2275.0,-2275.0],\"yaxis\":\"y\",\"type\":\"scatter\"},{\"hoverinfo\":\"text\",\"marker\":{\"color\":\"rgb(0,116,217)\"},\"mode\":\"lines\",\"x\":[0.0,1.3231471828238155,1.3231471828238155,0.0],\"xaxis\":\"x\",\"y\":[-2295.0,-2295.0,-2305.0,-2305.0],\"yaxis\":\"y\",\"type\":\"scatter\"},{\"hoverinfo\":\"text\",\"marker\":{\"color\":\"rgb(0,116,217)\"},\"mode\":\"lines\",\"x\":[0.0,1.36940593528317,1.36940593528317,1.3231471828238155],\"xaxis\":\"x\",\"y\":[-2285.0,-2285.0,-2300.0,-2300.0],\"yaxis\":\"y\",\"type\":\"scatter\"},{\"hoverinfo\":\"text\",\"marker\":{\"color\":\"rgb(0,116,217)\"},\"mode\":\"lines\",\"x\":[1.3437896785125045,1.3983940027969373,1.3983940027969373,1.36940593528317],\"xaxis\":\"x\",\"y\":[-2270.0,-2270.0,-2292.5,-2292.5],\"yaxis\":\"y\",\"type\":\"scatter\"},{\"hoverinfo\":\"text\",\"marker\":{\"color\":\"rgb(0,116,217)\"},\"mode\":\"lines\",\"x\":[1.3277280476628628,1.4172177616152597,1.4172177616152597,1.3983940027969373],\"xaxis\":\"x\",\"y\":[-2242.5,-2242.5,-2281.25,-2281.25],\"yaxis\":\"y\",\"type\":\"scatter\"},{\"hoverinfo\":\"text\",\"marker\":{\"color\":\"rgb(0,116,217)\"},\"mode\":\"lines\",\"x\":[0.0,1.3154473829828899,1.3154473829828899,0.0],\"xaxis\":\"x\",\"y\":[-2325.0,-2325.0,-2335.0,-2335.0],\"yaxis\":\"y\",\"type\":\"scatter\"},{\"hoverinfo\":\"text\",\"marker\":{\"color\":\"rgb(0,116,217)\"},\"mode\":\"lines\",\"x\":[0.0,1.3823832562078184,1.3823832562078184,1.3154473829828899],\"xaxis\":\"x\",\"y\":[-2315.0,-2315.0,-2330.0,-2330.0],\"yaxis\":\"y\",\"type\":\"scatter\"},{\"hoverinfo\":\"text\",\"marker\":{\"color\":\"rgb(0,116,217)\"},\"mode\":\"lines\",\"x\":[0.0,1.3885514027039507,1.3885514027039507,0.0],\"xaxis\":\"x\",\"y\":[-2345.0,-2345.0,-2355.0,-2355.0],\"yaxis\":\"y\",\"type\":\"scatter\"},{\"hoverinfo\":\"text\",\"marker\":{\"color\":\"rgb(0,116,217)\"},\"mode\":\"lines\",\"x\":[1.3823832562078184,1.4122782582900935,1.4122782582900935,1.3885514027039507],\"xaxis\":\"x\",\"y\":[-2322.5,-2322.5,-2350.0,-2350.0],\"yaxis\":\"y\",\"type\":\"scatter\"},{\"hoverinfo\":\"text\",\"marker\":{\"color\":\"rgb(0,116,217)\"},\"mode\":\"lines\",\"x\":[0.0,1.325677208921276,1.325677208921276,0.0],\"xaxis\":\"x\",\"y\":[-2375.0,-2375.0,-2385.0,-2385.0],\"yaxis\":\"y\",\"type\":\"scatter\"},{\"hoverinfo\":\"text\",\"marker\":{\"color\":\"rgb(0,116,217)\"},\"mode\":\"lines\",\"x\":[0.0,1.3530086055582593,1.3530086055582593,1.325677208921276],\"xaxis\":\"x\",\"y\":[-2365.0,-2365.0,-2380.0,-2380.0],\"yaxis\":\"y\",\"type\":\"scatter\"},{\"hoverinfo\":\"text\",\"marker\":{\"color\":\"rgb(61,153,112)\"},\"mode\":\"lines\",\"x\":[0.0,0.23210421925015767,0.23210421925015767,0.0],\"xaxis\":\"x\",\"y\":[-2405.0,-2405.0,-2415.0,-2415.0],\"yaxis\":\"y\",\"type\":\"scatter\"},{\"hoverinfo\":\"text\",\"marker\":{\"color\":\"rgb(0,116,217)\"},\"mode\":\"lines\",\"x\":[0.0,1.3766954618652736,1.3766954618652736,0.23210421925015767],\"xaxis\":\"x\",\"y\":[-2395.0,-2395.0,-2410.0,-2410.0],\"yaxis\":\"y\",\"type\":\"scatter\"},{\"hoverinfo\":\"text\",\"marker\":{\"color\":\"rgb(0,116,217)\"},\"mode\":\"lines\",\"x\":[1.3530086055582593,1.41368528617102,1.41368528617102,1.3766954618652736],\"xaxis\":\"x\",\"y\":[-2372.5,-2372.5,-2402.5,-2402.5],\"yaxis\":\"y\",\"type\":\"scatter\"},{\"hoverinfo\":\"text\",\"marker\":{\"color\":\"rgb(0,116,217)\"},\"mode\":\"lines\",\"x\":[1.4122782582900935,1.419924376899293,1.419924376899293,1.41368528617102],\"xaxis\":\"x\",\"y\":[-2336.25,-2336.25,-2387.5,-2387.5],\"yaxis\":\"y\",\"type\":\"scatter\"},{\"hoverinfo\":\"text\",\"marker\":{\"color\":\"rgb(0,116,217)\"},\"mode\":\"lines\",\"x\":[1.4172177616152597,1.4294729577282754,1.4294729577282754,1.419924376899293],\"xaxis\":\"x\",\"y\":[-2261.875,-2261.875,-2361.875,-2361.875],\"yaxis\":\"y\",\"type\":\"scatter\"},{\"hoverinfo\":\"text\",\"marker\":{\"color\":\"rgb(255,65,54)\"},\"mode\":\"lines\",\"x\":[0.0,0.36345968708358634,0.36345968708358634,0.0],\"xaxis\":\"x\",\"y\":[-2465.0,-2465.0,-2475.0,-2475.0],\"yaxis\":\"y\",\"type\":\"scatter\"},{\"hoverinfo\":\"text\",\"marker\":{\"color\":\"rgb(255,65,54)\"},\"mode\":\"lines\",\"x\":[0.0,0.7673809839752754,0.7673809839752754,0.36345968708358634],\"xaxis\":\"x\",\"y\":[-2455.0,-2455.0,-2470.0,-2470.0],\"yaxis\":\"y\",\"type\":\"scatter\"},{\"hoverinfo\":\"text\",\"marker\":{\"color\":\"rgb(0,116,217)\"},\"mode\":\"lines\",\"x\":[0.0,1.2133400777827597,1.2133400777827597,0.7673809839752754],\"xaxis\":\"x\",\"y\":[-2445.0,-2445.0,-2462.5,-2462.5],\"yaxis\":\"y\",\"type\":\"scatter\"},{\"hoverinfo\":\"text\",\"marker\":{\"color\":\"rgb(0,116,217)\"},\"mode\":\"lines\",\"x\":[0.0,1.311619816252177,1.311619816252177,1.2133400777827597],\"xaxis\":\"x\",\"y\":[-2435.0,-2435.0,-2453.75,-2453.75],\"yaxis\":\"y\",\"type\":\"scatter\"},{\"hoverinfo\":\"text\",\"marker\":{\"color\":\"rgb(0,116,217)\"},\"mode\":\"lines\",\"x\":[0.0,1.3572161348174712,1.3572161348174712,1.311619816252177],\"xaxis\":\"x\",\"y\":[-2425.0,-2425.0,-2444.375,-2444.375],\"yaxis\":\"y\",\"type\":\"scatter\"},{\"hoverinfo\":\"text\",\"marker\":{\"color\":\"rgb(0,116,217)\"},\"mode\":\"lines\",\"x\":[0.0,1.1297672676129253,1.1297672676129253,0.0],\"xaxis\":\"x\",\"y\":[-2485.0,-2485.0,-2495.0,-2495.0],\"yaxis\":\"y\",\"type\":\"scatter\"},{\"hoverinfo\":\"text\",\"marker\":{\"color\":\"rgb(0,116,217)\"},\"mode\":\"lines\",\"x\":[0.0,1.1626959794118548,1.1626959794118548,0.0],\"xaxis\":\"x\",\"y\":[-2515.0,-2515.0,-2525.0,-2525.0],\"yaxis\":\"y\",\"type\":\"scatter\"},{\"hoverinfo\":\"text\",\"marker\":{\"color\":\"rgb(0,116,217)\"},\"mode\":\"lines\",\"x\":[0.0,1.3790390455242927,1.3790390455242927,1.1626959794118548],\"xaxis\":\"x\",\"y\":[-2505.0,-2505.0,-2520.0,-2520.0],\"yaxis\":\"y\",\"type\":\"scatter\"},{\"hoverinfo\":\"text\",\"marker\":{\"color\":\"rgb(0,116,217)\"},\"mode\":\"lines\",\"x\":[1.1297672676129253,1.4114315298515794,1.4114315298515794,1.3790390455242927],\"xaxis\":\"x\",\"y\":[-2490.0,-2490.0,-2512.5,-2512.5],\"yaxis\":\"y\",\"type\":\"scatter\"},{\"hoverinfo\":\"text\",\"marker\":{\"color\":\"rgb(0,116,217)\"},\"mode\":\"lines\",\"x\":[1.3572161348174712,1.4236572291496785,1.4236572291496785,1.4114315298515794],\"xaxis\":\"x\",\"y\":[-2434.6875,-2434.6875,-2501.25,-2501.25],\"yaxis\":\"y\",\"type\":\"scatter\"},{\"hoverinfo\":\"text\",\"marker\":{\"color\":\"rgb(35,205,205)\"},\"mode\":\"lines\",\"x\":[0.0,1.0074030425585518,1.0074030425585518,0.0],\"xaxis\":\"x\",\"y\":[-2555.0,-2555.0,-2565.0,-2565.0],\"yaxis\":\"y\",\"type\":\"scatter\"},{\"hoverinfo\":\"text\",\"marker\":{\"color\":\"rgb(0,116,217)\"},\"mode\":\"lines\",\"x\":[0.0,1.1897512044975216,1.1897512044975216,1.0074030425585518],\"xaxis\":\"x\",\"y\":[-2545.0,-2545.0,-2560.0,-2560.0],\"yaxis\":\"y\",\"type\":\"scatter\"},{\"hoverinfo\":\"text\",\"marker\":{\"color\":\"rgb(0,116,217)\"},\"mode\":\"lines\",\"x\":[0.0,1.400070567658089,1.400070567658089,1.1897512044975216],\"xaxis\":\"x\",\"y\":[-2535.0,-2535.0,-2552.5,-2552.5],\"yaxis\":\"y\",\"type\":\"scatter\"},{\"hoverinfo\":\"text\",\"marker\":{\"color\":\"rgb(0,116,217)\"},\"mode\":\"lines\",\"x\":[0.0,1.2922237874178235,1.2922237874178235,0.0],\"xaxis\":\"x\",\"y\":[-2575.0,-2575.0,-2585.0,-2585.0],\"yaxis\":\"y\",\"type\":\"scatter\"},{\"hoverinfo\":\"text\",\"marker\":{\"color\":\"rgb(0,116,217)\"},\"mode\":\"lines\",\"x\":[0.0,1.344500147581581,1.344500147581581,0.0],\"xaxis\":\"x\",\"y\":[-2595.0,-2595.0,-2605.0,-2605.0],\"yaxis\":\"y\",\"type\":\"scatter\"},{\"hoverinfo\":\"text\",\"marker\":{\"color\":\"rgb(0,116,217)\"},\"mode\":\"lines\",\"x\":[1.2922237874178235,1.4093475587553206,1.4093475587553206,1.344500147581581],\"xaxis\":\"x\",\"y\":[-2580.0,-2580.0,-2600.0,-2600.0],\"yaxis\":\"y\",\"type\":\"scatter\"},{\"hoverinfo\":\"text\",\"marker\":{\"color\":\"rgb(0,116,217)\"},\"mode\":\"lines\",\"x\":[1.400070567658089,1.4183638943169028,1.4183638943169028,1.4093475587553206],\"xaxis\":\"x\",\"y\":[-2543.75,-2543.75,-2590.0,-2590.0],\"yaxis\":\"y\",\"type\":\"scatter\"},{\"hoverinfo\":\"text\",\"marker\":{\"color\":\"rgb(61,153,112)\"},\"mode\":\"lines\",\"x\":[0.0,0.8611610213639508,0.8611610213639508,0.0],\"xaxis\":\"x\",\"y\":[-2615.0,-2615.0,-2625.0,-2625.0],\"yaxis\":\"y\",\"type\":\"scatter\"},{\"hoverinfo\":\"text\",\"marker\":{\"color\":\"rgb(0,116,217)\"},\"mode\":\"lines\",\"x\":[0.0,1.3427468575362096,1.3427468575362096,0.0],\"xaxis\":\"x\",\"y\":[-2635.0,-2635.0,-2645.0,-2645.0],\"yaxis\":\"y\",\"type\":\"scatter\"},{\"hoverinfo\":\"text\",\"marker\":{\"color\":\"rgb(0,116,217)\"},\"mode\":\"lines\",\"x\":[0.8611610213639508,1.4068082912188602,1.4068082912188602,1.3427468575362096],\"xaxis\":\"x\",\"y\":[-2620.0,-2620.0,-2640.0,-2640.0],\"yaxis\":\"y\",\"type\":\"scatter\"},{\"hoverinfo\":\"text\",\"marker\":{\"color\":\"rgb(0,116,217)\"},\"mode\":\"lines\",\"x\":[0.0,1.3745505194577454,1.3745505194577454,0.0],\"xaxis\":\"x\",\"y\":[-2665.0,-2665.0,-2675.0,-2675.0],\"yaxis\":\"y\",\"type\":\"scatter\"},{\"hoverinfo\":\"text\",\"marker\":{\"color\":\"rgb(0,116,217)\"},\"mode\":\"lines\",\"x\":[0.0,1.412075070114803,1.412075070114803,1.3745505194577454],\"xaxis\":\"x\",\"y\":[-2655.0,-2655.0,-2670.0,-2670.0],\"yaxis\":\"y\",\"type\":\"scatter\"},{\"hoverinfo\":\"text\",\"marker\":{\"color\":\"rgb(0,116,217)\"},\"mode\":\"lines\",\"x\":[1.4068082912188602,1.4144712810656173,1.4144712810656173,1.412075070114803],\"xaxis\":\"x\",\"y\":[-2630.0,-2630.0,-2662.5,-2662.5],\"yaxis\":\"y\",\"type\":\"scatter\"},{\"hoverinfo\":\"text\",\"marker\":{\"color\":\"rgb(0,116,217)\"},\"mode\":\"lines\",\"x\":[0.0,1.3690605688936741,1.3690605688936741,0.0],\"xaxis\":\"x\",\"y\":[-2685.0,-2685.0,-2695.0,-2695.0],\"yaxis\":\"y\",\"type\":\"scatter\"},{\"hoverinfo\":\"text\",\"marker\":{\"color\":\"rgb(0,116,217)\"},\"mode\":\"lines\",\"x\":[0.0,1.2957813095285722,1.2957813095285722,0.0],\"xaxis\":\"x\",\"y\":[-2705.0,-2705.0,-2715.0,-2715.0],\"yaxis\":\"y\",\"type\":\"scatter\"},{\"hoverinfo\":\"text\",\"marker\":{\"color\":\"rgb(0,116,217)\"},\"mode\":\"lines\",\"x\":[0.0,1.3755880076639249,1.3755880076639249,0.0],\"xaxis\":\"x\",\"y\":[-2725.0,-2725.0,-2735.0,-2735.0],\"yaxis\":\"y\",\"type\":\"scatter\"},{\"hoverinfo\":\"text\",\"marker\":{\"color\":\"rgb(0,116,217)\"},\"mode\":\"lines\",\"x\":[1.2957813095285722,1.4103973355396642,1.4103973355396642,1.3755880076639249],\"xaxis\":\"x\",\"y\":[-2710.0,-2710.0,-2730.0,-2730.0],\"yaxis\":\"y\",\"type\":\"scatter\"},{\"hoverinfo\":\"text\",\"marker\":{\"color\":\"rgb(0,116,217)\"},\"mode\":\"lines\",\"x\":[1.3690605688936741,1.4111934590535111,1.4111934590535111,1.4103973355396642],\"xaxis\":\"x\",\"y\":[-2690.0,-2690.0,-2720.0,-2720.0],\"yaxis\":\"y\",\"type\":\"scatter\"},{\"hoverinfo\":\"text\",\"marker\":{\"color\":\"rgb(255,65,54)\"},\"mode\":\"lines\",\"x\":[0.0,0.6203449615431224,0.6203449615431224,0.0],\"xaxis\":\"x\",\"y\":[-2745.0,-2745.0,-2755.0,-2755.0],\"yaxis\":\"y\",\"type\":\"scatter\"},{\"hoverinfo\":\"text\",\"marker\":{\"color\":\"rgb(0,116,217)\"},\"mode\":\"lines\",\"x\":[0.0,1.3084626411490472,1.3084626411490472,0.0],\"xaxis\":\"x\",\"y\":[-2765.0,-2765.0,-2775.0,-2775.0],\"yaxis\":\"y\",\"type\":\"scatter\"},{\"hoverinfo\":\"text\",\"marker\":{\"color\":\"rgb(0,116,217)\"},\"mode\":\"lines\",\"x\":[0.0,1.3507585884987616,1.3507585884987616,0.0],\"xaxis\":\"x\",\"y\":[-2795.0,-2795.0,-2805.0,-2805.0],\"yaxis\":\"y\",\"type\":\"scatter\"},{\"hoverinfo\":\"text\",\"marker\":{\"color\":\"rgb(0,116,217)\"},\"mode\":\"lines\",\"x\":[0.0,1.3980722375304702,1.3980722375304702,1.3507585884987616],\"xaxis\":\"x\",\"y\":[-2785.0,-2785.0,-2800.0,-2800.0],\"yaxis\":\"y\",\"type\":\"scatter\"},{\"hoverinfo\":\"text\",\"marker\":{\"color\":\"rgb(0,116,217)\"},\"mode\":\"lines\",\"x\":[1.3084626411490472,1.4107033090116472,1.4107033090116472,1.3980722375304702],\"xaxis\":\"x\",\"y\":[-2770.0,-2770.0,-2792.5,-2792.5],\"yaxis\":\"y\",\"type\":\"scatter\"},{\"hoverinfo\":\"text\",\"marker\":{\"color\":\"rgb(0,116,217)\"},\"mode\":\"lines\",\"x\":[0.6203449615431224,1.4162858200528028,1.4162858200528028,1.4107033090116472],\"xaxis\":\"x\",\"y\":[-2750.0,-2750.0,-2781.25,-2781.25],\"yaxis\":\"y\",\"type\":\"scatter\"},{\"hoverinfo\":\"text\",\"marker\":{\"color\":\"rgb(0,116,217)\"},\"mode\":\"lines\",\"x\":[1.4111934590535111,1.4174534806912968,1.4174534806912968,1.4162858200528028],\"xaxis\":\"x\",\"y\":[-2705.0,-2705.0,-2765.625,-2765.625],\"yaxis\":\"y\",\"type\":\"scatter\"},{\"hoverinfo\":\"text\",\"marker\":{\"color\":\"rgb(0,116,217)\"},\"mode\":\"lines\",\"x\":[1.4144712810656173,1.423701668940055,1.423701668940055,1.4174534806912968],\"xaxis\":\"x\",\"y\":[-2646.25,-2646.25,-2735.3125,-2735.3125],\"yaxis\":\"y\",\"type\":\"scatter\"},{\"hoverinfo\":\"text\",\"marker\":{\"color\":\"rgb(0,116,217)\"},\"mode\":\"lines\",\"x\":[1.4183638943169028,1.4275018682587222,1.4275018682587222,1.423701668940055],\"xaxis\":\"x\",\"y\":[-2566.875,-2566.875,-2690.78125,-2690.78125],\"yaxis\":\"y\",\"type\":\"scatter\"},{\"hoverinfo\":\"text\",\"marker\":{\"color\":\"rgb(0,116,217)\"},\"mode\":\"lines\",\"x\":[1.4236572291496785,1.4325490237023406,1.4325490237023406,1.4275018682587222],\"xaxis\":\"x\",\"y\":[-2467.96875,-2467.96875,-2628.828125,-2628.828125],\"yaxis\":\"y\",\"type\":\"scatter\"},{\"hoverinfo\":\"text\",\"marker\":{\"color\":\"rgb(0,116,217)\"},\"mode\":\"lines\",\"x\":[1.4294729577282754,1.435989820578144,1.435989820578144,1.4325490237023406],\"xaxis\":\"x\",\"y\":[-2311.875,-2311.875,-2548.3984375,-2548.3984375],\"yaxis\":\"y\",\"type\":\"scatter\"},{\"hoverinfo\":\"text\",\"marker\":{\"color\":\"rgb(0,116,217)\"},\"mode\":\"lines\",\"x\":[0.0,1.3728224732824277,1.3728224732824277,0.0],\"xaxis\":\"x\",\"y\":[-2815.0,-2815.0,-2825.0,-2825.0],\"yaxis\":\"y\",\"type\":\"scatter\"},{\"hoverinfo\":\"text\",\"marker\":{\"color\":\"rgb(0,116,217)\"},\"mode\":\"lines\",\"x\":[0.0,1.317609811167804,1.317609811167804,0.0],\"xaxis\":\"x\",\"y\":[-2835.0,-2835.0,-2845.0,-2845.0],\"yaxis\":\"y\",\"type\":\"scatter\"},{\"hoverinfo\":\"text\",\"marker\":{\"color\":\"rgb(0,116,217)\"},\"mode\":\"lines\",\"x\":[0.0,1.3496950630420634,1.3496950630420634,0.0],\"xaxis\":\"x\",\"y\":[-2855.0,-2855.0,-2865.0,-2865.0],\"yaxis\":\"y\",\"type\":\"scatter\"},{\"hoverinfo\":\"text\",\"marker\":{\"color\":\"rgb(0,116,217)\"},\"mode\":\"lines\",\"x\":[1.317609811167804,1.3977950293217487,1.3977950293217487,1.3496950630420634],\"xaxis\":\"x\",\"y\":[-2840.0,-2840.0,-2860.0,-2860.0],\"yaxis\":\"y\",\"type\":\"scatter\"},{\"hoverinfo\":\"text\",\"marker\":{\"color\":\"rgb(0,116,217)\"},\"mode\":\"lines\",\"x\":[1.3728224732824277,1.4097496553007152,1.4097496553007152,1.3977950293217487],\"xaxis\":\"x\",\"y\":[-2820.0,-2820.0,-2850.0,-2850.0],\"yaxis\":\"y\",\"type\":\"scatter\"},{\"hoverinfo\":\"text\",\"marker\":{\"color\":\"rgb(0,116,217)\"},\"mode\":\"lines\",\"x\":[0.0,1.3636004239217194,1.3636004239217194,0.0],\"xaxis\":\"x\",\"y\":[-2885.0,-2885.0,-2895.0,-2895.0],\"yaxis\":\"y\",\"type\":\"scatter\"},{\"hoverinfo\":\"text\",\"marker\":{\"color\":\"rgb(0,116,217)\"},\"mode\":\"lines\",\"x\":[0.0,1.3941309928057648,1.3941309928057648,1.3636004239217194],\"xaxis\":\"x\",\"y\":[-2875.0,-2875.0,-2890.0,-2890.0],\"yaxis\":\"y\",\"type\":\"scatter\"},{\"hoverinfo\":\"text\",\"marker\":{\"color\":\"rgb(0,116,217)\"},\"mode\":\"lines\",\"x\":[0.0,1.291609087802394,1.291609087802394,0.0],\"xaxis\":\"x\",\"y\":[-2905.0,-2905.0,-2915.0,-2915.0],\"yaxis\":\"y\",\"type\":\"scatter\"},{\"hoverinfo\":\"text\",\"marker\":{\"color\":\"rgb(0,116,217)\"},\"mode\":\"lines\",\"x\":[0.0,1.351647903672978,1.351647903672978,0.0],\"xaxis\":\"x\",\"y\":[-2925.0,-2925.0,-2935.0,-2935.0],\"yaxis\":\"y\",\"type\":\"scatter\"},{\"hoverinfo\":\"text\",\"marker\":{\"color\":\"rgb(0,116,217)\"},\"mode\":\"lines\",\"x\":[1.291609087802394,1.4066972025141544,1.4066972025141544,1.351647903672978],\"xaxis\":\"x\",\"y\":[-2910.0,-2910.0,-2930.0,-2930.0],\"yaxis\":\"y\",\"type\":\"scatter\"},{\"hoverinfo\":\"text\",\"marker\":{\"color\":\"rgb(0,116,217)\"},\"mode\":\"lines\",\"x\":[1.3941309928057648,1.4149808252762404,1.4149808252762404,1.4066972025141544],\"xaxis\":\"x\",\"y\":[-2882.5,-2882.5,-2920.0,-2920.0],\"yaxis\":\"y\",\"type\":\"scatter\"},{\"hoverinfo\":\"text\",\"marker\":{\"color\":\"rgb(0,116,217)\"},\"mode\":\"lines\",\"x\":[1.4097496553007152,1.4162610657039385,1.4162610657039385,1.4149808252762404],\"xaxis\":\"x\",\"y\":[-2835.0,-2835.0,-2901.25,-2901.25],\"yaxis\":\"y\",\"type\":\"scatter\"},{\"hoverinfo\":\"text\",\"marker\":{\"color\":\"rgb(0,116,217)\"},\"mode\":\"lines\",\"x\":[0.0,1.3183127501156189,1.3183127501156189,0.0],\"xaxis\":\"x\",\"y\":[-2955.0,-2955.0,-2965.0,-2965.0],\"yaxis\":\"y\",\"type\":\"scatter\"},{\"hoverinfo\":\"text\",\"marker\":{\"color\":\"rgb(0,116,217)\"},\"mode\":\"lines\",\"x\":[0.0,1.3910213011960249,1.3910213011960249,1.3183127501156189],\"xaxis\":\"x\",\"y\":[-2945.0,-2945.0,-2960.0,-2960.0],\"yaxis\":\"y\",\"type\":\"scatter\"},{\"hoverinfo\":\"text\",\"marker\":{\"color\":\"rgb(35,205,205)\"},\"mode\":\"lines\",\"x\":[0.0,0.1096626381221586,0.1096626381221586,0.0],\"xaxis\":\"x\",\"y\":[-2975.0,-2975.0,-2985.0,-2985.0],\"yaxis\":\"y\",\"type\":\"scatter\"},{\"hoverinfo\":\"text\",\"marker\":{\"color\":\"rgb(0,116,217)\"},\"mode\":\"lines\",\"x\":[0.0,1.2521892826797594,1.2521892826797594,0.0],\"xaxis\":\"x\",\"y\":[-3005.0,-3005.0,-3015.0,-3015.0],\"yaxis\":\"y\",\"type\":\"scatter\"},{\"hoverinfo\":\"text\",\"marker\":{\"color\":\"rgb(0,116,217)\"},\"mode\":\"lines\",\"x\":[0.0,1.3583947896645137,1.3583947896645137,1.2521892826797594],\"xaxis\":\"x\",\"y\":[-2995.0,-2995.0,-3010.0,-3010.0],\"yaxis\":\"y\",\"type\":\"scatter\"},{\"hoverinfo\":\"text\",\"marker\":{\"color\":\"rgb(0,116,217)\"},\"mode\":\"lines\",\"x\":[0.1096626381221586,1.4096482096492386,1.4096482096492386,1.3583947896645137],\"xaxis\":\"x\",\"y\":[-2980.0,-2980.0,-3002.5,-3002.5],\"yaxis\":\"y\",\"type\":\"scatter\"},{\"hoverinfo\":\"text\",\"marker\":{\"color\":\"rgb(0,116,217)\"},\"mode\":\"lines\",\"x\":[1.3910213011960249,1.4148615501715887,1.4148615501715887,1.4096482096492386],\"xaxis\":\"x\",\"y\":[-2952.5,-2952.5,-2991.25,-2991.25],\"yaxis\":\"y\",\"type\":\"scatter\"},{\"hoverinfo\":\"text\",\"marker\":{\"color\":\"rgb(0,116,217)\"},\"mode\":\"lines\",\"x\":[0.0,1.30383160657722,1.30383160657722,0.0],\"xaxis\":\"x\",\"y\":[-3035.0,-3035.0,-3045.0,-3045.0],\"yaxis\":\"y\",\"type\":\"scatter\"},{\"hoverinfo\":\"text\",\"marker\":{\"color\":\"rgb(0,116,217)\"},\"mode\":\"lines\",\"x\":[0.0,1.405929151116383,1.405929151116383,1.30383160657722],\"xaxis\":\"x\",\"y\":[-3025.0,-3025.0,-3040.0,-3040.0],\"yaxis\":\"y\",\"type\":\"scatter\"},{\"hoverinfo\":\"text\",\"marker\":{\"color\":\"rgb(133,20,75)\"},\"mode\":\"lines\",\"x\":[0.0,0.06156556020116646,0.06156556020116646,0.0],\"xaxis\":\"x\",\"y\":[-3065.0,-3065.0,-3075.0,-3075.0],\"yaxis\":\"y\",\"type\":\"scatter\"},{\"hoverinfo\":\"text\",\"marker\":{\"color\":\"rgb(255,220,0)\"},\"mode\":\"lines\",\"x\":[0.0,0.5115084592991155,0.5115084592991155,0.0],\"xaxis\":\"x\",\"y\":[-3085.0,-3085.0,-3095.0,-3095.0],\"yaxis\":\"y\",\"type\":\"scatter\"},{\"hoverinfo\":\"text\",\"marker\":{\"color\":\"rgb(0,116,217)\"},\"mode\":\"lines\",\"x\":[0.06156556020116646,1.3794529315716069,1.3794529315716069,0.5115084592991155],\"xaxis\":\"x\",\"y\":[-3070.0,-3070.0,-3090.0,-3090.0],\"yaxis\":\"y\",\"type\":\"scatter\"},{\"hoverinfo\":\"text\",\"marker\":{\"color\":\"rgb(0,116,217)\"},\"mode\":\"lines\",\"x\":[0.0,1.4059383717207536,1.4059383717207536,1.3794529315716069],\"xaxis\":\"x\",\"y\":[-3055.0,-3055.0,-3080.0,-3080.0],\"yaxis\":\"y\",\"type\":\"scatter\"},{\"hoverinfo\":\"text\",\"marker\":{\"color\":\"rgb(0,116,217)\"},\"mode\":\"lines\",\"x\":[1.405929151116383,1.4148741124409692,1.4148741124409692,1.4059383717207536],\"xaxis\":\"x\",\"y\":[-3032.5,-3032.5,-3067.5,-3067.5],\"yaxis\":\"y\",\"type\":\"scatter\"},{\"hoverinfo\":\"text\",\"marker\":{\"color\":\"rgb(0,116,217)\"},\"mode\":\"lines\",\"x\":[1.4148615501715887,1.4193501343159514,1.4193501343159514,1.4148741124409692],\"xaxis\":\"x\",\"y\":[-2971.875,-2971.875,-3050.0,-3050.0],\"yaxis\":\"y\",\"type\":\"scatter\"},{\"hoverinfo\":\"text\",\"marker\":{\"color\":\"rgb(0,116,217)\"},\"mode\":\"lines\",\"x\":[1.4162610657039385,1.4242376159836858,1.4242376159836858,1.4193501343159514],\"xaxis\":\"x\",\"y\":[-2868.125,-2868.125,-3010.9375,-3010.9375],\"yaxis\":\"y\",\"type\":\"scatter\"},{\"hoverinfo\":\"text\",\"marker\":{\"color\":\"rgb(40,35,35)\"},\"mode\":\"lines\",\"x\":[0.0,0.9713081411899316,0.9713081411899316,0.0],\"xaxis\":\"x\",\"y\":[-3125.0,-3125.0,-3135.0,-3135.0],\"yaxis\":\"y\",\"type\":\"scatter\"},{\"hoverinfo\":\"text\",\"marker\":{\"color\":\"rgb(0,116,217)\"},\"mode\":\"lines\",\"x\":[0.0,1.3341460020079903,1.3341460020079903,0.9713081411899316],\"xaxis\":\"x\",\"y\":[-3115.0,-3115.0,-3130.0,-3130.0],\"yaxis\":\"y\",\"type\":\"scatter\"},{\"hoverinfo\":\"text\",\"marker\":{\"color\":\"rgb(0,116,217)\"},\"mode\":\"lines\",\"x\":[0.0,1.3693488081659302,1.3693488081659302,1.3341460020079903],\"xaxis\":\"x\",\"y\":[-3105.0,-3105.0,-3122.5,-3122.5],\"yaxis\":\"y\",\"type\":\"scatter\"},{\"hoverinfo\":\"text\",\"marker\":{\"color\":\"rgb(0,116,217)\"},\"mode\":\"lines\",\"x\":[0.0,1.3664533227339057,1.3664533227339057,0.0],\"xaxis\":\"x\",\"y\":[-3155.0,-3155.0,-3165.0,-3165.0],\"yaxis\":\"y\",\"type\":\"scatter\"},{\"hoverinfo\":\"text\",\"marker\":{\"color\":\"rgb(0,116,217)\"},\"mode\":\"lines\",\"x\":[0.0,1.397112469754569,1.397112469754569,1.3664533227339057],\"xaxis\":\"x\",\"y\":[-3145.0,-3145.0,-3160.0,-3160.0],\"yaxis\":\"y\",\"type\":\"scatter\"},{\"hoverinfo\":\"text\",\"marker\":{\"color\":\"rgb(0,116,217)\"},\"mode\":\"lines\",\"x\":[0.0,1.3445418650605159,1.3445418650605159,0.0],\"xaxis\":\"x\",\"y\":[-3175.0,-3175.0,-3185.0,-3185.0],\"yaxis\":\"y\",\"type\":\"scatter\"},{\"hoverinfo\":\"text\",\"marker\":{\"color\":\"rgb(0,116,217)\"},\"mode\":\"lines\",\"x\":[0.0,1.3795009644639713,1.3795009644639713,0.0],\"xaxis\":\"x\",\"y\":[-3195.0,-3195.0,-3205.0,-3205.0],\"yaxis\":\"y\",\"type\":\"scatter\"},{\"hoverinfo\":\"text\",\"marker\":{\"color\":\"rgb(0,116,217)\"},\"mode\":\"lines\",\"x\":[1.3445418650605159,1.4076557556805391,1.4076557556805391,1.3795009644639713],\"xaxis\":\"x\",\"y\":[-3180.0,-3180.0,-3200.0,-3200.0],\"yaxis\":\"y\",\"type\":\"scatter\"},{\"hoverinfo\":\"text\",\"marker\":{\"color\":\"rgb(0,116,217)\"},\"mode\":\"lines\",\"x\":[1.397112469754569,1.413328513070984,1.413328513070984,1.4076557556805391],\"xaxis\":\"x\",\"y\":[-3152.5,-3152.5,-3190.0,-3190.0],\"yaxis\":\"y\",\"type\":\"scatter\"},{\"hoverinfo\":\"text\",\"marker\":{\"color\":\"rgb(0,116,217)\"},\"mode\":\"lines\",\"x\":[0.0,1.1441884457272546,1.1441884457272546,0.0],\"xaxis\":\"x\",\"y\":[-3225.0,-3225.0,-3235.0,-3235.0],\"yaxis\":\"y\",\"type\":\"scatter\"},{\"hoverinfo\":\"text\",\"marker\":{\"color\":\"rgb(0,116,217)\"},\"mode\":\"lines\",\"x\":[0.0,1.364913097104518,1.364913097104518,1.1441884457272546],\"xaxis\":\"x\",\"y\":[-3215.0,-3215.0,-3230.0,-3230.0],\"yaxis\":\"y\",\"type\":\"scatter\"},{\"hoverinfo\":\"text\",\"marker\":{\"color\":\"rgb(0,116,217)\"},\"mode\":\"lines\",\"x\":[0.0,1.3688990357176607,1.3688990357176607,0.0],\"xaxis\":\"x\",\"y\":[-3255.0,-3255.0,-3265.0,-3265.0],\"yaxis\":\"y\",\"type\":\"scatter\"},{\"hoverinfo\":\"text\",\"marker\":{\"color\":\"rgb(0,116,217)\"},\"mode\":\"lines\",\"x\":[0.0,1.3851433685221637,1.3851433685221637,1.3688990357176607],\"xaxis\":\"x\",\"y\":[-3245.0,-3245.0,-3260.0,-3260.0],\"yaxis\":\"y\",\"type\":\"scatter\"},{\"hoverinfo\":\"text\",\"marker\":{\"color\":\"rgb(0,116,217)\"},\"mode\":\"lines\",\"x\":[1.364913097104518,1.4139826386875416,1.4139826386875416,1.3851433685221637],\"xaxis\":\"x\",\"y\":[-3222.5,-3222.5,-3252.5,-3252.5],\"yaxis\":\"y\",\"type\":\"scatter\"},{\"hoverinfo\":\"text\",\"marker\":{\"color\":\"rgb(0,116,217)\"},\"mode\":\"lines\",\"x\":[1.413328513070984,1.4193591428057812,1.4193591428057812,1.4139826386875416],\"xaxis\":\"x\",\"y\":[-3171.25,-3171.25,-3237.5,-3237.5],\"yaxis\":\"y\",\"type\":\"scatter\"},{\"hoverinfo\":\"text\",\"marker\":{\"color\":\"rgb(0,116,217)\"},\"mode\":\"lines\",\"x\":[1.3693488081659302,1.425589186075651,1.425589186075651,1.4193591428057812],\"xaxis\":\"x\",\"y\":[-3113.75,-3113.75,-3204.375,-3204.375],\"yaxis\":\"y\",\"type\":\"scatter\"},{\"hoverinfo\":\"text\",\"marker\":{\"color\":\"rgb(0,116,217)\"},\"mode\":\"lines\",\"x\":[1.4242376159836858,1.429608143382554,1.429608143382554,1.425589186075651],\"xaxis\":\"x\",\"y\":[-2939.53125,-2939.53125,-3159.0625,-3159.0625],\"yaxis\":\"y\",\"type\":\"scatter\"},{\"hoverinfo\":\"text\",\"marker\":{\"color\":\"rgb(0,116,217)\"},\"mode\":\"lines\",\"x\":[0.0,1.321178853837704,1.321178853837704,0.0],\"xaxis\":\"x\",\"y\":[-3275.0,-3275.0,-3285.0,-3285.0],\"yaxis\":\"y\",\"type\":\"scatter\"},{\"hoverinfo\":\"text\",\"marker\":{\"color\":\"rgb(0,116,217)\"},\"mode\":\"lines\",\"x\":[0.0,1.1936869391078708,1.1936869391078708,0.0],\"xaxis\":\"x\",\"y\":[-3305.0,-3305.0,-3315.0,-3315.0],\"yaxis\":\"y\",\"type\":\"scatter\"},{\"hoverinfo\":\"text\",\"marker\":{\"color\":\"rgb(0,116,217)\"},\"mode\":\"lines\",\"x\":[0.0,1.4034867321656723,1.4034867321656723,1.1936869391078708],\"xaxis\":\"x\",\"y\":[-3295.0,-3295.0,-3310.0,-3310.0],\"yaxis\":\"y\",\"type\":\"scatter\"},{\"hoverinfo\":\"text\",\"marker\":{\"color\":\"rgb(0,116,217)\"},\"mode\":\"lines\",\"x\":[1.321178853837704,1.413026649919297,1.413026649919297,1.4034867321656723],\"xaxis\":\"x\",\"y\":[-3280.0,-3280.0,-3302.5,-3302.5],\"yaxis\":\"y\",\"type\":\"scatter\"},{\"hoverinfo\":\"text\",\"marker\":{\"color\":\"rgb(0,116,217)\"},\"mode\":\"lines\",\"x\":[0.0,1.1288700695432083,1.1288700695432083,0.0],\"xaxis\":\"x\",\"y\":[-3335.0,-3335.0,-3345.0,-3345.0],\"yaxis\":\"y\",\"type\":\"scatter\"},{\"hoverinfo\":\"text\",\"marker\":{\"color\":\"rgb(0,116,217)\"},\"mode\":\"lines\",\"x\":[0.0,1.3946246318898854,1.3946246318898854,1.1288700695432083],\"xaxis\":\"x\",\"y\":[-3325.0,-3325.0,-3340.0,-3340.0],\"yaxis\":\"y\",\"type\":\"scatter\"},{\"hoverinfo\":\"text\",\"marker\":{\"color\":\"rgb(0,116,217)\"},\"mode\":\"lines\",\"x\":[0.0,1.2920706905147565,1.2920706905147565,0.0],\"xaxis\":\"x\",\"y\":[-3355.0,-3355.0,-3365.0,-3365.0],\"yaxis\":\"y\",\"type\":\"scatter\"},{\"hoverinfo\":\"text\",\"marker\":{\"color\":\"rgb(0,116,217)\"},\"mode\":\"lines\",\"x\":[0.0,1.3583000418673152,1.3583000418673152,0.0],\"xaxis\":\"x\",\"y\":[-3375.0,-3375.0,-3385.0,-3385.0],\"yaxis\":\"y\",\"type\":\"scatter\"},{\"hoverinfo\":\"text\",\"marker\":{\"color\":\"rgb(0,116,217)\"},\"mode\":\"lines\",\"x\":[1.2920706905147565,1.3959932057874265,1.3959932057874265,1.3583000418673152],\"xaxis\":\"x\",\"y\":[-3360.0,-3360.0,-3380.0,-3380.0],\"yaxis\":\"y\",\"type\":\"scatter\"},{\"hoverinfo\":\"text\",\"marker\":{\"color\":\"rgb(0,116,217)\"},\"mode\":\"lines\",\"x\":[1.3946246318898854,1.4168076077965501,1.4168076077965501,1.3959932057874265],\"xaxis\":\"x\",\"y\":[-3332.5,-3332.5,-3370.0,-3370.0],\"yaxis\":\"y\",\"type\":\"scatter\"},{\"hoverinfo\":\"text\",\"marker\":{\"color\":\"rgb(0,116,217)\"},\"mode\":\"lines\",\"x\":[1.413026649919297,1.4218686523493849,1.4218686523493849,1.4168076077965501],\"xaxis\":\"x\",\"y\":[-3291.25,-3291.25,-3351.25,-3351.25],\"yaxis\":\"y\",\"type\":\"scatter\"},{\"hoverinfo\":\"text\",\"marker\":{\"color\":\"rgb(0,116,217)\"},\"mode\":\"lines\",\"x\":[0.0,1.2806837835478964,1.2806837835478964,0.0],\"xaxis\":\"x\",\"y\":[-3395.0,-3395.0,-3405.0,-3405.0],\"yaxis\":\"y\",\"type\":\"scatter\"},{\"hoverinfo\":\"text\",\"marker\":{\"color\":\"rgb(0,116,217)\"},\"mode\":\"lines\",\"x\":[0.0,1.3221541898671312,1.3221541898671312,0.0],\"xaxis\":\"x\",\"y\":[-3425.0,-3425.0,-3435.0,-3435.0],\"yaxis\":\"y\",\"type\":\"scatter\"},{\"hoverinfo\":\"text\",\"marker\":{\"color\":\"rgb(0,116,217)\"},\"mode\":\"lines\",\"x\":[0.0,1.3756819801541613,1.3756819801541613,1.3221541898671312],\"xaxis\":\"x\",\"y\":[-3415.0,-3415.0,-3430.0,-3430.0],\"yaxis\":\"y\",\"type\":\"scatter\"},{\"hoverinfo\":\"text\",\"marker\":{\"color\":\"rgb(0,116,217)\"},\"mode\":\"lines\",\"x\":[1.2806837835478964,1.4090411742539388,1.4090411742539388,1.3756819801541613],\"xaxis\":\"x\",\"y\":[-3400.0,-3400.0,-3422.5,-3422.5],\"yaxis\":\"y\",\"type\":\"scatter\"},{\"hoverinfo\":\"text\",\"marker\":{\"color\":\"rgb(61,153,112)\"},\"mode\":\"lines\",\"x\":[0.0,0.38982206934848807,0.38982206934848807,0.0],\"xaxis\":\"x\",\"y\":[-3445.0,-3445.0,-3455.0,-3455.0],\"yaxis\":\"y\",\"type\":\"scatter\"},{\"hoverinfo\":\"text\",\"marker\":{\"color\":\"rgb(0,116,217)\"},\"mode\":\"lines\",\"x\":[0.0,1.313800430671044,1.313800430671044,0.0],\"xaxis\":\"x\",\"y\":[-3465.0,-3465.0,-3475.0,-3475.0],\"yaxis\":\"y\",\"type\":\"scatter\"},{\"hoverinfo\":\"text\",\"marker\":{\"color\":\"rgb(0,116,217)\"},\"mode\":\"lines\",\"x\":[0.0,1.3598191375537556,1.3598191375537556,0.0],\"xaxis\":\"x\",\"y\":[-3485.0,-3485.0,-3495.0,-3495.0],\"yaxis\":\"y\",\"type\":\"scatter\"},{\"hoverinfo\":\"text\",\"marker\":{\"color\":\"rgb(0,116,217)\"},\"mode\":\"lines\",\"x\":[1.313800430671044,1.4068681266454381,1.4068681266454381,1.3598191375537556],\"xaxis\":\"x\",\"y\":[-3470.0,-3470.0,-3490.0,-3490.0],\"yaxis\":\"y\",\"type\":\"scatter\"},{\"hoverinfo\":\"text\",\"marker\":{\"color\":\"rgb(0,116,217)\"},\"mode\":\"lines\",\"x\":[0.38982206934848807,1.4133852072854687,1.4133852072854687,1.4068681266454381],\"xaxis\":\"x\",\"y\":[-3450.0,-3450.0,-3480.0,-3480.0],\"yaxis\":\"y\",\"type\":\"scatter\"},{\"hoverinfo\":\"text\",\"marker\":{\"color\":\"rgb(255,65,54)\"},\"mode\":\"lines\",\"x\":[0.0,0.8149575585983703,0.8149575585983703,0.0],\"xaxis\":\"x\",\"y\":[-3515.0,-3515.0,-3525.0,-3525.0],\"yaxis\":\"y\",\"type\":\"scatter\"},{\"hoverinfo\":\"text\",\"marker\":{\"color\":\"rgb(0,116,217)\"},\"mode\":\"lines\",\"x\":[0.0,1.3854662626551955,1.3854662626551955,0.8149575585983703],\"xaxis\":\"x\",\"y\":[-3505.0,-3505.0,-3520.0,-3520.0],\"yaxis\":\"y\",\"type\":\"scatter\"},{\"hoverinfo\":\"text\",\"marker\":{\"color\":\"rgb(0,116,217)\"},\"mode\":\"lines\",\"x\":[0.0,1.2926898572162835,1.2926898572162835,0.0],\"xaxis\":\"x\",\"y\":[-3535.0,-3535.0,-3545.0,-3545.0],\"yaxis\":\"y\",\"type\":\"scatter\"},{\"hoverinfo\":\"text\",\"marker\":{\"color\":\"rgb(0,116,217)\"},\"mode\":\"lines\",\"x\":[0.0,1.2862671631506573,1.2862671631506573,0.0],\"xaxis\":\"x\",\"y\":[-3555.0,-3555.0,-3565.0,-3565.0],\"yaxis\":\"y\",\"type\":\"scatter\"},{\"hoverinfo\":\"text\",\"marker\":{\"color\":\"rgb(0,116,217)\"},\"mode\":\"lines\",\"x\":[0.0,1.3870783166567233,1.3870783166567233,0.0],\"xaxis\":\"x\",\"y\":[-3575.0,-3575.0,-3585.0,-3585.0],\"yaxis\":\"y\",\"type\":\"scatter\"},{\"hoverinfo\":\"text\",\"marker\":{\"color\":\"rgb(0,116,217)\"},\"mode\":\"lines\",\"x\":[1.2862671631506573,1.4094486063398184,1.4094486063398184,1.3870783166567233],\"xaxis\":\"x\",\"y\":[-3560.0,-3560.0,-3580.0,-3580.0],\"yaxis\":\"y\",\"type\":\"scatter\"},{\"hoverinfo\":\"text\",\"marker\":{\"color\":\"rgb(0,116,217)\"},\"mode\":\"lines\",\"x\":[1.2926898572162835,1.4116080667119253,1.4116080667119253,1.4094486063398184],\"xaxis\":\"x\",\"y\":[-3540.0,-3540.0,-3570.0,-3570.0],\"yaxis\":\"y\",\"type\":\"scatter\"},{\"hoverinfo\":\"text\",\"marker\":{\"color\":\"rgb(0,116,217)\"},\"mode\":\"lines\",\"x\":[1.3854662626551955,1.416444346630386,1.416444346630386,1.4116080667119253],\"xaxis\":\"x\",\"y\":[-3512.5,-3512.5,-3555.0,-3555.0],\"yaxis\":\"y\",\"type\":\"scatter\"},{\"hoverinfo\":\"text\",\"marker\":{\"color\":\"rgb(0,116,217)\"},\"mode\":\"lines\",\"x\":[1.4133852072854687,1.4219713208955242,1.4219713208955242,1.416444346630386],\"xaxis\":\"x\",\"y\":[-3465.0,-3465.0,-3533.75,-3533.75],\"yaxis\":\"y\",\"type\":\"scatter\"},{\"hoverinfo\":\"text\",\"marker\":{\"color\":\"rgb(0,116,217)\"},\"mode\":\"lines\",\"x\":[1.4090411742539388,1.4239072714565186,1.4239072714565186,1.4219713208955242],\"xaxis\":\"x\",\"y\":[-3411.25,-3411.25,-3499.375,-3499.375],\"yaxis\":\"y\",\"type\":\"scatter\"},{\"hoverinfo\":\"text\",\"marker\":{\"color\":\"rgb(0,116,217)\"},\"mode\":\"lines\",\"x\":[1.4218686523493849,1.4301053905451062,1.4301053905451062,1.4239072714565186],\"xaxis\":\"x\",\"y\":[-3321.25,-3321.25,-3455.3125,-3455.3125],\"yaxis\":\"y\",\"type\":\"scatter\"},{\"hoverinfo\":\"text\",\"marker\":{\"color\":\"rgb(0,116,217)\"},\"mode\":\"lines\",\"x\":[1.429608143382554,1.4394965677463807,1.4394965677463807,1.4301053905451062],\"xaxis\":\"x\",\"y\":[-3049.296875,-3049.296875,-3388.28125,-3388.28125],\"yaxis\":\"y\",\"type\":\"scatter\"},{\"hoverinfo\":\"text\",\"marker\":{\"color\":\"rgb(0,116,217)\"},\"mode\":\"lines\",\"x\":[1.435989820578144,1.4464485145334929,1.4464485145334929,1.4394965677463807],\"xaxis\":\"x\",\"y\":[-2430.13671875,-2430.13671875,-3218.7890625,-3218.7890625],\"yaxis\":\"y\",\"type\":\"scatter\"},{\"hoverinfo\":\"text\",\"marker\":{\"color\":\"rgb(0,116,217)\"},\"mode\":\"lines\",\"x\":[0.0,1.39212360955218,1.39212360955218,0.0],\"xaxis\":\"x\",\"y\":[-3595.0,-3595.0,-3605.0,-3605.0],\"yaxis\":\"y\",\"type\":\"scatter\"},{\"hoverinfo\":\"text\",\"marker\":{\"color\":\"rgb(0,116,217)\"},\"mode\":\"lines\",\"x\":[0.0,1.3043251102438462,1.3043251102438462,0.0],\"xaxis\":\"x\",\"y\":[-3615.0,-3615.0,-3625.0,-3625.0],\"yaxis\":\"y\",\"type\":\"scatter\"},{\"hoverinfo\":\"text\",\"marker\":{\"color\":\"rgb(0,116,217)\"},\"mode\":\"lines\",\"x\":[0.0,1.3385647293676806,1.3385647293676806,0.0],\"xaxis\":\"x\",\"y\":[-3635.0,-3635.0,-3645.0,-3645.0],\"yaxis\":\"y\",\"type\":\"scatter\"},{\"hoverinfo\":\"text\",\"marker\":{\"color\":\"rgb(0,116,217)\"},\"mode\":\"lines\",\"x\":[1.3043251102438462,1.4008032156517036,1.4008032156517036,1.3385647293676806],\"xaxis\":\"x\",\"y\":[-3620.0,-3620.0,-3640.0,-3640.0],\"yaxis\":\"y\",\"type\":\"scatter\"},{\"hoverinfo\":\"text\",\"marker\":{\"color\":\"rgb(0,116,217)\"},\"mode\":\"lines\",\"x\":[1.39212360955218,1.4123472720505899,1.4123472720505899,1.4008032156517036],\"xaxis\":\"x\",\"y\":[-3600.0,-3600.0,-3630.0,-3630.0],\"yaxis\":\"y\",\"type\":\"scatter\"},{\"hoverinfo\":\"text\",\"marker\":{\"color\":\"rgb(0,116,217)\"},\"mode\":\"lines\",\"x\":[0.0,1.2823027103172742,1.2823027103172742,0.0],\"xaxis\":\"x\",\"y\":[-3655.0,-3655.0,-3665.0,-3665.0],\"yaxis\":\"y\",\"type\":\"scatter\"},{\"hoverinfo\":\"text\",\"marker\":{\"color\":\"rgb(0,116,217)\"},\"mode\":\"lines\",\"x\":[0.0,1.3271911794160434,1.3271911794160434,0.0],\"xaxis\":\"x\",\"y\":[-3675.0,-3675.0,-3685.0,-3685.0],\"yaxis\":\"y\",\"type\":\"scatter\"},{\"hoverinfo\":\"text\",\"marker\":{\"color\":\"rgb(0,116,217)\"},\"mode\":\"lines\",\"x\":[1.2823027103172742,1.388451327545578,1.388451327545578,1.3271911794160434],\"xaxis\":\"x\",\"y\":[-3660.0,-3660.0,-3680.0,-3680.0],\"yaxis\":\"y\",\"type\":\"scatter\"},{\"hoverinfo\":\"text\",\"marker\":{\"color\":\"rgb(0,116,217)\"},\"mode\":\"lines\",\"x\":[0.0,1.3086554073122416,1.3086554073122416,0.0],\"xaxis\":\"x\",\"y\":[-3695.0,-3695.0,-3705.0,-3705.0],\"yaxis\":\"y\",\"type\":\"scatter\"},{\"hoverinfo\":\"text\",\"marker\":{\"color\":\"rgb(0,116,217)\"},\"mode\":\"lines\",\"x\":[0.0,1.3831261551993586,1.3831261551993586,0.0],\"xaxis\":\"x\",\"y\":[-3715.0,-3715.0,-3725.0,-3725.0],\"yaxis\":\"y\",\"type\":\"scatter\"},{\"hoverinfo\":\"text\",\"marker\":{\"color\":\"rgb(0,116,217)\"},\"mode\":\"lines\",\"x\":[1.3086554073122416,1.4069434095356885,1.4069434095356885,1.3831261551993586],\"xaxis\":\"x\",\"y\":[-3700.0,-3700.0,-3720.0,-3720.0],\"yaxis\":\"y\",\"type\":\"scatter\"},{\"hoverinfo\":\"text\",\"marker\":{\"color\":\"rgb(0,116,217)\"},\"mode\":\"lines\",\"x\":[1.388451327545578,1.416886741219489,1.416886741219489,1.4069434095356885],\"xaxis\":\"x\",\"y\":[-3670.0,-3670.0,-3710.0,-3710.0],\"yaxis\":\"y\",\"type\":\"scatter\"},{\"hoverinfo\":\"text\",\"marker\":{\"color\":\"rgb(0,116,217)\"},\"mode\":\"lines\",\"x\":[1.4123472720505899,1.4216825445502648,1.4216825445502648,1.416886741219489],\"xaxis\":\"x\",\"y\":[-3615.0,-3615.0,-3690.0,-3690.0],\"yaxis\":\"y\",\"type\":\"scatter\"},{\"hoverinfo\":\"text\",\"marker\":{\"color\":\"rgb(0,116,217)\"},\"mode\":\"lines\",\"x\":[0.0,1.3472375816016418,1.3472375816016418,0.0],\"xaxis\":\"x\",\"y\":[-3745.0,-3745.0,-3755.0,-3755.0],\"yaxis\":\"y\",\"type\":\"scatter\"},{\"hoverinfo\":\"text\",\"marker\":{\"color\":\"rgb(0,116,217)\"},\"mode\":\"lines\",\"x\":[0.0,1.3943953857533942,1.3943953857533942,1.3472375816016418],\"xaxis\":\"x\",\"y\":[-3735.0,-3735.0,-3750.0,-3750.0],\"yaxis\":\"y\",\"type\":\"scatter\"},{\"hoverinfo\":\"text\",\"marker\":{\"color\":\"rgb(0,116,217)\"},\"mode\":\"lines\",\"x\":[0.0,1.202117878724075,1.202117878724075,0.0],\"xaxis\":\"x\",\"y\":[-3775.0,-3775.0,-3785.0,-3785.0],\"yaxis\":\"y\",\"type\":\"scatter\"},{\"hoverinfo\":\"text\",\"marker\":{\"color\":\"rgb(0,116,217)\"},\"mode\":\"lines\",\"x\":[0.0,1.367261631069258,1.367261631069258,1.202117878724075],\"xaxis\":\"x\",\"y\":[-3765.0,-3765.0,-3780.0,-3780.0],\"yaxis\":\"y\",\"type\":\"scatter\"},{\"hoverinfo\":\"text\",\"marker\":{\"color\":\"rgb(0,116,217)\"},\"mode\":\"lines\",\"x\":[0.0,1.377171855077251,1.377171855077251,0.0],\"xaxis\":\"x\",\"y\":[-3795.0,-3795.0,-3805.0,-3805.0],\"yaxis\":\"y\",\"type\":\"scatter\"},{\"hoverinfo\":\"text\",\"marker\":{\"color\":\"rgb(35,205,205)\"},\"mode\":\"lines\",\"x\":[0.0,1.1446489689011263e-05,1.1446489689011263e-05,0.0],\"xaxis\":\"x\",\"y\":[-3815.0,-3815.0,-3825.0,-3825.0],\"yaxis\":\"y\",\"type\":\"scatter\"},{\"hoverinfo\":\"text\",\"marker\":{\"color\":\"rgb(0,116,217)\"},\"mode\":\"lines\",\"x\":[0.0,1.2184296550507763,1.2184296550507763,0.0],\"xaxis\":\"x\",\"y\":[-3835.0,-3835.0,-3845.0,-3845.0],\"yaxis\":\"y\",\"type\":\"scatter\"},{\"hoverinfo\":\"text\",\"marker\":{\"color\":\"rgb(0,116,217)\"},\"mode\":\"lines\",\"x\":[1.1446489689011263e-05,1.3899106931624126,1.3899106931624126,1.2184296550507763],\"xaxis\":\"x\",\"y\":[-3820.0,-3820.0,-3840.0,-3840.0],\"yaxis\":\"y\",\"type\":\"scatter\"},{\"hoverinfo\":\"text\",\"marker\":{\"color\":\"rgb(0,116,217)\"},\"mode\":\"lines\",\"x\":[1.377171855077251,1.4067166643315065,1.4067166643315065,1.3899106931624126],\"xaxis\":\"x\",\"y\":[-3800.0,-3800.0,-3830.0,-3830.0],\"yaxis\":\"y\",\"type\":\"scatter\"},{\"hoverinfo\":\"text\",\"marker\":{\"color\":\"rgb(0,116,217)\"},\"mode\":\"lines\",\"x\":[1.367261631069258,1.4149702978516094,1.4149702978516094,1.4067166643315065],\"xaxis\":\"x\",\"y\":[-3772.5,-3772.5,-3815.0,-3815.0],\"yaxis\":\"y\",\"type\":\"scatter\"},{\"hoverinfo\":\"text\",\"marker\":{\"color\":\"rgb(0,116,217)\"},\"mode\":\"lines\",\"x\":[1.3943953857533942,1.4191918820754583,1.4191918820754583,1.4149702978516094],\"xaxis\":\"x\",\"y\":[-3742.5,-3742.5,-3793.75,-3793.75],\"yaxis\":\"y\",\"type\":\"scatter\"},{\"hoverinfo\":\"text\",\"marker\":{\"color\":\"rgb(0,116,217)\"},\"mode\":\"lines\",\"x\":[0.0,1.233379448898384,1.233379448898384,0.0],\"xaxis\":\"x\",\"y\":[-3865.0,-3865.0,-3875.0,-3875.0],\"yaxis\":\"y\",\"type\":\"scatter\"},{\"hoverinfo\":\"text\",\"marker\":{\"color\":\"rgb(0,116,217)\"},\"mode\":\"lines\",\"x\":[0.0,1.3711411700079128,1.3711411700079128,1.233379448898384],\"xaxis\":\"x\",\"y\":[-3855.0,-3855.0,-3870.0,-3870.0],\"yaxis\":\"y\",\"type\":\"scatter\"},{\"hoverinfo\":\"text\",\"marker\":{\"color\":\"rgb(0,116,217)\"},\"mode\":\"lines\",\"x\":[0.0,1.365961588753114,1.365961588753114,0.0],\"xaxis\":\"x\",\"y\":[-3895.0,-3895.0,-3905.0,-3905.0],\"yaxis\":\"y\",\"type\":\"scatter\"},{\"hoverinfo\":\"text\",\"marker\":{\"color\":\"rgb(0,116,217)\"},\"mode\":\"lines\",\"x\":[0.0,1.3990075263078685,1.3990075263078685,1.365961588753114],\"xaxis\":\"x\",\"y\":[-3885.0,-3885.0,-3900.0,-3900.0],\"yaxis\":\"y\",\"type\":\"scatter\"},{\"hoverinfo\":\"text\",\"marker\":{\"color\":\"rgb(0,116,217)\"},\"mode\":\"lines\",\"x\":[1.3711411700079128,1.4134461813485866,1.4134461813485866,1.3990075263078685],\"xaxis\":\"x\",\"y\":[-3862.5,-3862.5,-3892.5,-3892.5],\"yaxis\":\"y\",\"type\":\"scatter\"},{\"hoverinfo\":\"text\",\"marker\":{\"color\":\"rgb(0,116,217)\"},\"mode\":\"lines\",\"x\":[0.0,1.3337135368974407,1.3337135368974407,0.0],\"xaxis\":\"x\",\"y\":[-3925.0,-3925.0,-3935.0,-3935.0],\"yaxis\":\"y\",\"type\":\"scatter\"},{\"hoverinfo\":\"text\",\"marker\":{\"color\":\"rgb(0,116,217)\"},\"mode\":\"lines\",\"x\":[0.0,1.371638316496319,1.371638316496319,1.3337135368974407],\"xaxis\":\"x\",\"y\":[-3915.0,-3915.0,-3930.0,-3930.0],\"yaxis\":\"y\",\"type\":\"scatter\"},{\"hoverinfo\":\"text\",\"marker\":{\"color\":\"rgb(0,116,217)\"},\"mode\":\"lines\",\"x\":[0.0,1.0541494048543236,1.0541494048543236,0.0],\"xaxis\":\"x\",\"y\":[-3945.0,-3945.0,-3955.0,-3955.0],\"yaxis\":\"y\",\"type\":\"scatter\"},{\"hoverinfo\":\"text\",\"marker\":{\"color\":\"rgb(0,116,217)\"},\"mode\":\"lines\",\"x\":[0.0,1.411156999957947,1.411156999957947,0.0],\"xaxis\":\"x\",\"y\":[-3965.0,-3965.0,-3975.0,-3975.0],\"yaxis\":\"y\",\"type\":\"scatter\"},{\"hoverinfo\":\"text\",\"marker\":{\"color\":\"rgb(0,116,217)\"},\"mode\":\"lines\",\"x\":[1.0541494048543236,1.4134500303419728,1.4134500303419728,1.411156999957947],\"xaxis\":\"x\",\"y\":[-3950.0,-3950.0,-3970.0,-3970.0],\"yaxis\":\"y\",\"type\":\"scatter\"},{\"hoverinfo\":\"text\",\"marker\":{\"color\":\"rgb(0,116,217)\"},\"mode\":\"lines\",\"x\":[1.371638316496319,1.415702411656751,1.415702411656751,1.4134500303419728],\"xaxis\":\"x\",\"y\":[-3922.5,-3922.5,-3960.0,-3960.0],\"yaxis\":\"y\",\"type\":\"scatter\"},{\"hoverinfo\":\"text\",\"marker\":{\"color\":\"rgb(0,116,217)\"},\"mode\":\"lines\",\"x\":[1.4134461813485866,1.422185036392186,1.422185036392186,1.415702411656751],\"xaxis\":\"x\",\"y\":[-3877.5,-3877.5,-3941.25,-3941.25],\"yaxis\":\"y\",\"type\":\"scatter\"},{\"hoverinfo\":\"text\",\"marker\":{\"color\":\"rgb(0,116,217)\"},\"mode\":\"lines\",\"x\":[1.4191918820754583,1.4267446220518252,1.4267446220518252,1.422185036392186],\"xaxis\":\"x\",\"y\":[-3768.125,-3768.125,-3909.375,-3909.375],\"yaxis\":\"y\",\"type\":\"scatter\"},{\"hoverinfo\":\"text\",\"marker\":{\"color\":\"rgb(0,116,217)\"},\"mode\":\"lines\",\"x\":[1.4216825445502648,1.4339490350105697,1.4339490350105697,1.4267446220518252],\"xaxis\":\"x\",\"y\":[-3652.5,-3652.5,-3838.75,-3838.75],\"yaxis\":\"y\",\"type\":\"scatter\"},{\"hoverinfo\":\"text\",\"marker\":{\"color\":\"rgb(61,153,112)\"},\"mode\":\"lines\",\"x\":[0.0,0.7552567618768229,0.7552567618768229,0.0],\"xaxis\":\"x\",\"y\":[-4045.0,-4045.0,-4055.0,-4055.0],\"yaxis\":\"y\",\"type\":\"scatter\"},{\"hoverinfo\":\"text\",\"marker\":{\"color\":\"rgb(0,116,217)\"},\"mode\":\"lines\",\"x\":[0.0,1.2707828924962306,1.2707828924962306,0.7552567618768229],\"xaxis\":\"x\",\"y\":[-4035.0,-4035.0,-4050.0,-4050.0],\"yaxis\":\"y\",\"type\":\"scatter\"},{\"hoverinfo\":\"text\",\"marker\":{\"color\":\"rgb(0,116,217)\"},\"mode\":\"lines\",\"x\":[0.0,1.289639721522227,1.289639721522227,1.2707828924962306],\"xaxis\":\"x\",\"y\":[-4025.0,-4025.0,-4042.5,-4042.5],\"yaxis\":\"y\",\"type\":\"scatter\"},{\"hoverinfo\":\"text\",\"marker\":{\"color\":\"rgb(0,116,217)\"},\"mode\":\"lines\",\"x\":[0.0,1.3592851580493737,1.3592851580493737,1.289639721522227],\"xaxis\":\"x\",\"y\":[-4015.0,-4015.0,-4033.75,-4033.75],\"yaxis\":\"y\",\"type\":\"scatter\"},{\"hoverinfo\":\"text\",\"marker\":{\"color\":\"rgb(0,116,217)\"},\"mode\":\"lines\",\"x\":[0.0,1.368537160252101,1.368537160252101,1.3592851580493737],\"xaxis\":\"x\",\"y\":[-4005.0,-4005.0,-4024.375,-4024.375],\"yaxis\":\"y\",\"type\":\"scatter\"},{\"hoverinfo\":\"text\",\"marker\":{\"color\":\"rgb(0,116,217)\"},\"mode\":\"lines\",\"x\":[0.0,1.381346312929618,1.381346312929618,1.368537160252101],\"xaxis\":\"x\",\"y\":[-3995.0,-3995.0,-4014.6875,-4014.6875],\"yaxis\":\"y\",\"type\":\"scatter\"},{\"hoverinfo\":\"text\",\"marker\":{\"color\":\"rgb(0,116,217)\"},\"mode\":\"lines\",\"x\":[0.0,1.3863733400651272,1.3863733400651272,1.381346312929618],\"xaxis\":\"x\",\"y\":[-3985.0,-3985.0,-4004.84375,-4004.84375],\"yaxis\":\"y\",\"type\":\"scatter\"},{\"hoverinfo\":\"text\",\"marker\":{\"color\":\"rgb(0,116,217)\"},\"mode\":\"lines\",\"x\":[0.0,1.3661597498091143,1.3661597498091143,0.0],\"xaxis\":\"x\",\"y\":[-4065.0,-4065.0,-4075.0,-4075.0],\"yaxis\":\"y\",\"type\":\"scatter\"},{\"hoverinfo\":\"text\",\"marker\":{\"color\":\"rgb(0,116,217)\"},\"mode\":\"lines\",\"x\":[0.0,1.3817432082240377,1.3817432082240377,0.0],\"xaxis\":\"x\",\"y\":[-4085.0,-4085.0,-4095.0,-4095.0],\"yaxis\":\"y\",\"type\":\"scatter\"},{\"hoverinfo\":\"text\",\"marker\":{\"color\":\"rgb(0,116,217)\"},\"mode\":\"lines\",\"x\":[1.3661597498091143,1.4073820492571611,1.4073820492571611,1.3817432082240377],\"xaxis\":\"x\",\"y\":[-4070.0,-4070.0,-4090.0,-4090.0],\"yaxis\":\"y\",\"type\":\"scatter\"},{\"hoverinfo\":\"text\",\"marker\":{\"color\":\"rgb(0,116,217)\"},\"mode\":\"lines\",\"x\":[0.0,1.0768706987888306,1.0768706987888306,0.0],\"xaxis\":\"x\",\"y\":[-4105.0,-4105.0,-4115.0,-4115.0],\"yaxis\":\"y\",\"type\":\"scatter\"},{\"hoverinfo\":\"text\",\"marker\":{\"color\":\"rgb(0,116,217)\"},\"mode\":\"lines\",\"x\":[0.0,1.3374011318741692,1.3374011318741692,0.0],\"xaxis\":\"x\",\"y\":[-4135.0,-4135.0,-4145.0,-4145.0],\"yaxis\":\"y\",\"type\":\"scatter\"},{\"hoverinfo\":\"text\",\"marker\":{\"color\":\"rgb(0,116,217)\"},\"mode\":\"lines\",\"x\":[0.0,1.4019464339813945,1.4019464339813945,1.3374011318741692],\"xaxis\":\"x\",\"y\":[-4125.0,-4125.0,-4140.0,-4140.0],\"yaxis\":\"y\",\"type\":\"scatter\"},{\"hoverinfo\":\"text\",\"marker\":{\"color\":\"rgb(0,116,217)\"},\"mode\":\"lines\",\"x\":[1.0768706987888306,1.415955312310524,1.415955312310524,1.4019464339813945],\"xaxis\":\"x\",\"y\":[-4110.0,-4110.0,-4132.5,-4132.5],\"yaxis\":\"y\",\"type\":\"scatter\"},{\"hoverinfo\":\"text\",\"marker\":{\"color\":\"rgb(0,116,217)\"},\"mode\":\"lines\",\"x\":[1.4073820492571611,1.4185498897847433,1.4185498897847433,1.415955312310524],\"xaxis\":\"x\",\"y\":[-4080.0,-4080.0,-4121.25,-4121.25],\"yaxis\":\"y\",\"type\":\"scatter\"},{\"hoverinfo\":\"text\",\"marker\":{\"color\":\"rgb(0,116,217)\"},\"mode\":\"lines\",\"x\":[1.3863733400651272,1.4231436761470684,1.4231436761470684,1.4185498897847433],\"xaxis\":\"x\",\"y\":[-3994.921875,-3994.921875,-4100.625,-4100.625],\"yaxis\":\"y\",\"type\":\"scatter\"},{\"hoverinfo\":\"text\",\"marker\":{\"color\":\"rgb(0,116,217)\"},\"mode\":\"lines\",\"x\":[0.0,1.1142502888280974,1.1142502888280974,0.0],\"xaxis\":\"x\",\"y\":[-4155.0,-4155.0,-4165.0,-4165.0],\"yaxis\":\"y\",\"type\":\"scatter\"},{\"hoverinfo\":\"text\",\"marker\":{\"color\":\"rgb(0,116,217)\"},\"mode\":\"lines\",\"x\":[0.0,1.284779449797848,1.284779449797848,0.0],\"xaxis\":\"x\",\"y\":[-4185.0,-4185.0,-4195.0,-4195.0],\"yaxis\":\"y\",\"type\":\"scatter\"},{\"hoverinfo\":\"text\",\"marker\":{\"color\":\"rgb(0,116,217)\"},\"mode\":\"lines\",\"x\":[0.0,1.3694853822923774,1.3694853822923774,1.284779449797848],\"xaxis\":\"x\",\"y\":[-4175.0,-4175.0,-4190.0,-4190.0],\"yaxis\":\"y\",\"type\":\"scatter\"},{\"hoverinfo\":\"text\",\"marker\":{\"color\":\"rgb(0,116,217)\"},\"mode\":\"lines\",\"x\":[1.1142502888280974,1.4130982328227109,1.4130982328227109,1.3694853822923774],\"xaxis\":\"x\",\"y\":[-4160.0,-4160.0,-4182.5,-4182.5],\"yaxis\":\"y\",\"type\":\"scatter\"},{\"hoverinfo\":\"text\",\"marker\":{\"color\":\"rgb(0,116,217)\"},\"mode\":\"lines\",\"x\":[0.0,1.2806297909294078,1.2806297909294078,0.0],\"xaxis\":\"x\",\"y\":[-4215.0,-4215.0,-4225.0,-4225.0],\"yaxis\":\"y\",\"type\":\"scatter\"},{\"hoverinfo\":\"text\",\"marker\":{\"color\":\"rgb(0,116,217)\"},\"mode\":\"lines\",\"x\":[0.0,1.3794697996704692,1.3794697996704692,1.2806297909294078],\"xaxis\":\"x\",\"y\":[-4205.0,-4205.0,-4220.0,-4220.0],\"yaxis\":\"y\",\"type\":\"scatter\"},{\"hoverinfo\":\"text\",\"marker\":{\"color\":\"rgb(0,116,217)\"},\"mode\":\"lines\",\"x\":[0.0,1.296092430916665,1.296092430916665,0.0],\"xaxis\":\"x\",\"y\":[-4245.0,-4245.0,-4255.0,-4255.0],\"yaxis\":\"y\",\"type\":\"scatter\"},{\"hoverinfo\":\"text\",\"marker\":{\"color\":\"rgb(0,116,217)\"},\"mode\":\"lines\",\"x\":[0.0,1.3336007201039537,1.3336007201039537,1.296092430916665],\"xaxis\":\"x\",\"y\":[-4235.0,-4235.0,-4250.0,-4250.0],\"yaxis\":\"y\",\"type\":\"scatter\"},{\"hoverinfo\":\"text\",\"marker\":{\"color\":\"rgb(0,116,217)\"},\"mode\":\"lines\",\"x\":[0.0,1.3651206431700564,1.3651206431700564,0.0],\"xaxis\":\"x\",\"y\":[-4265.0,-4265.0,-4275.0,-4275.0],\"yaxis\":\"y\",\"type\":\"scatter\"},{\"hoverinfo\":\"text\",\"marker\":{\"color\":\"rgb(0,116,217)\"},\"mode\":\"lines\",\"x\":[1.3336007201039537,1.4097595366145919,1.4097595366145919,1.3651206431700564],\"xaxis\":\"x\",\"y\":[-4242.5,-4242.5,-4270.0,-4270.0],\"yaxis\":\"y\",\"type\":\"scatter\"},{\"hoverinfo\":\"text\",\"marker\":{\"color\":\"rgb(0,116,217)\"},\"mode\":\"lines\",\"x\":[1.3794697996704692,1.4157348859842849,1.4157348859842849,1.4097595366145919],\"xaxis\":\"x\",\"y\":[-4212.5,-4212.5,-4256.25,-4256.25],\"yaxis\":\"y\",\"type\":\"scatter\"},{\"hoverinfo\":\"text\",\"marker\":{\"color\":\"rgb(0,116,217)\"},\"mode\":\"lines\",\"x\":[1.4130982328227109,1.4224564838692892,1.4224564838692892,1.4157348859842849],\"xaxis\":\"x\",\"y\":[-4171.25,-4171.25,-4234.375,-4234.375],\"yaxis\":\"y\",\"type\":\"scatter\"},{\"hoverinfo\":\"text\",\"marker\":{\"color\":\"rgb(255,65,54)\"},\"mode\":\"lines\",\"x\":[0.0,0.8611328301464871,0.8611328301464871,0.0],\"xaxis\":\"x\",\"y\":[-4285.0,-4285.0,-4295.0,-4295.0],\"yaxis\":\"y\",\"type\":\"scatter\"},{\"hoverinfo\":\"text\",\"marker\":{\"color\":\"rgb(0,116,217)\"},\"mode\":\"lines\",\"x\":[0.0,1.0991290873025152,1.0991290873025152,0.0],\"xaxis\":\"x\",\"y\":[-4305.0,-4305.0,-4315.0,-4315.0],\"yaxis\":\"y\",\"type\":\"scatter\"},{\"hoverinfo\":\"text\",\"marker\":{\"color\":\"rgb(0,116,217)\"},\"mode\":\"lines\",\"x\":[0.0,1.217593716835775,1.217593716835775,0.0],\"xaxis\":\"x\",\"y\":[-4325.0,-4325.0,-4335.0,-4335.0],\"yaxis\":\"y\",\"type\":\"scatter\"},{\"hoverinfo\":\"text\",\"marker\":{\"color\":\"rgb(0,116,217)\"},\"mode\":\"lines\",\"x\":[1.0991290873025152,1.4083877922556434,1.4083877922556434,1.217593716835775],\"xaxis\":\"x\",\"y\":[-4310.0,-4310.0,-4330.0,-4330.0],\"yaxis\":\"y\",\"type\":\"scatter\"},{\"hoverinfo\":\"text\",\"marker\":{\"color\":\"rgb(0,116,217)\"},\"mode\":\"lines\",\"x\":[0.8611328301464871,1.4163516067974244,1.4163516067974244,1.4083877922556434],\"xaxis\":\"x\",\"y\":[-4290.0,-4290.0,-4320.0,-4320.0],\"yaxis\":\"y\",\"type\":\"scatter\"},{\"hoverinfo\":\"text\",\"marker\":{\"color\":\"rgb(0,116,217)\"},\"mode\":\"lines\",\"x\":[0.0,1.2855767391713822,1.2855767391713822,0.0],\"xaxis\":\"x\",\"y\":[-4345.0,-4345.0,-4355.0,-4355.0],\"yaxis\":\"y\",\"type\":\"scatter\"},{\"hoverinfo\":\"text\",\"marker\":{\"color\":\"rgb(0,116,217)\"},\"mode\":\"lines\",\"x\":[0.0,1.339477872109399,1.339477872109399,0.0],\"xaxis\":\"x\",\"y\":[-4365.0,-4365.0,-4375.0,-4375.0],\"yaxis\":\"y\",\"type\":\"scatter\"},{\"hoverinfo\":\"text\",\"marker\":{\"color\":\"rgb(0,116,217)\"},\"mode\":\"lines\",\"x\":[0.0,1.3745017118262135,1.3745017118262135,0.0],\"xaxis\":\"x\",\"y\":[-4385.0,-4385.0,-4395.0,-4395.0],\"yaxis\":\"y\",\"type\":\"scatter\"},{\"hoverinfo\":\"text\",\"marker\":{\"color\":\"rgb(0,116,217)\"},\"mode\":\"lines\",\"x\":[1.339477872109399,1.4033777259682727,1.4033777259682727,1.3745017118262135],\"xaxis\":\"x\",\"y\":[-4370.0,-4370.0,-4390.0,-4390.0],\"yaxis\":\"y\",\"type\":\"scatter\"},{\"hoverinfo\":\"text\",\"marker\":{\"color\":\"rgb(0,116,217)\"},\"mode\":\"lines\",\"x\":[1.2855767391713822,1.4113060987769421,1.4113060987769421,1.4033777259682727],\"xaxis\":\"x\",\"y\":[-4350.0,-4350.0,-4380.0,-4380.0],\"yaxis\":\"y\",\"type\":\"scatter\"},{\"hoverinfo\":\"text\",\"marker\":{\"color\":\"rgb(35,205,205)\"},\"mode\":\"lines\",\"x\":[0.0,0.2240372065985732,0.2240372065985732,0.0],\"xaxis\":\"x\",\"y\":[-4405.0,-4405.0,-4415.0,-4415.0],\"yaxis\":\"y\",\"type\":\"scatter\"},{\"hoverinfo\":\"text\",\"marker\":{\"color\":\"rgb(0,116,217)\"},\"mode\":\"lines\",\"x\":[0.0,1.3488740737093348,1.3488740737093348,0.0],\"xaxis\":\"x\",\"y\":[-4425.0,-4425.0,-4435.0,-4435.0],\"yaxis\":\"y\",\"type\":\"scatter\"},{\"hoverinfo\":\"text\",\"marker\":{\"color\":\"rgb(0,116,217)\"},\"mode\":\"lines\",\"x\":[0.2240372065985732,1.3728762698425871,1.3728762698425871,1.3488740737093348],\"xaxis\":\"x\",\"y\":[-4410.0,-4410.0,-4430.0,-4430.0],\"yaxis\":\"y\",\"type\":\"scatter\"},{\"hoverinfo\":\"text\",\"marker\":{\"color\":\"rgb(0,116,217)\"},\"mode\":\"lines\",\"x\":[0.0,1.3075054061201128,1.3075054061201128,0.0],\"xaxis\":\"x\",\"y\":[-4455.0,-4455.0,-4465.0,-4465.0],\"yaxis\":\"y\",\"type\":\"scatter\"},{\"hoverinfo\":\"text\",\"marker\":{\"color\":\"rgb(0,116,217)\"},\"mode\":\"lines\",\"x\":[0.0,1.3967694206336252,1.3967694206336252,1.3075054061201128],\"xaxis\":\"x\",\"y\":[-4445.0,-4445.0,-4460.0,-4460.0],\"yaxis\":\"y\",\"type\":\"scatter\"},{\"hoverinfo\":\"text\",\"marker\":{\"color\":\"rgb(0,116,217)\"},\"mode\":\"lines\",\"x\":[1.3728762698425871,1.412243950565327,1.412243950565327,1.3967694206336252],\"xaxis\":\"x\",\"y\":[-4420.0,-4420.0,-4452.5,-4452.5],\"yaxis\":\"y\",\"type\":\"scatter\"},{\"hoverinfo\":\"text\",\"marker\":{\"color\":\"rgb(0,116,217)\"},\"mode\":\"lines\",\"x\":[1.4113060987769421,1.4190469078718935,1.4190469078718935,1.412243950565327],\"xaxis\":\"x\",\"y\":[-4365.0,-4365.0,-4436.25,-4436.25],\"yaxis\":\"y\",\"type\":\"scatter\"},{\"hoverinfo\":\"text\",\"marker\":{\"color\":\"rgb(0,116,217)\"},\"mode\":\"lines\",\"x\":[1.4163516067974244,1.4235855297077278,1.4235855297077278,1.4190469078718935],\"xaxis\":\"x\",\"y\":[-4305.0,-4305.0,-4400.625,-4400.625],\"yaxis\":\"y\",\"type\":\"scatter\"},{\"hoverinfo\":\"text\",\"marker\":{\"color\":\"rgb(0,116,217)\"},\"mode\":\"lines\",\"x\":[1.4224564838692892,1.4312322148442722,1.4312322148442722,1.4235855297077278],\"xaxis\":\"x\",\"y\":[-4202.8125,-4202.8125,-4352.8125,-4352.8125],\"yaxis\":\"y\",\"type\":\"scatter\"},{\"hoverinfo\":\"text\",\"marker\":{\"color\":\"rgb(0,116,217)\"},\"mode\":\"lines\",\"x\":[1.4231436761470684,1.4345388376576371,1.4345388376576371,1.4312322148442722],\"xaxis\":\"x\",\"y\":[-4047.7734375,-4047.7734375,-4277.8125,-4277.8125],\"yaxis\":\"y\",\"type\":\"scatter\"},{\"hoverinfo\":\"text\",\"marker\":{\"color\":\"rgb(0,116,217)\"},\"mode\":\"lines\",\"x\":[1.4339490350105697,1.4477478280668399,1.4477478280668399,1.4345388376576371],\"xaxis\":\"x\",\"y\":[-3745.625,-3745.625,-4162.79296875,-4162.79296875],\"yaxis\":\"y\",\"type\":\"scatter\"},{\"hoverinfo\":\"text\",\"marker\":{\"color\":\"rgb(0,116,217)\"},\"mode\":\"lines\",\"x\":[1.4464485145334929,1.459645332557871,1.459645332557871,1.4477478280668399],\"xaxis\":\"x\",\"y\":[-2824.462890625,-2824.462890625,-3954.208984375,-3954.208984375],\"yaxis\":\"y\",\"type\":\"scatter\"},{\"hoverinfo\":\"text\",\"marker\":{\"color\":\"rgb(0,116,217)\"},\"mode\":\"lines\",\"x\":[1.4421668980141784,1.4741597751011997,1.4741597751011997,1.459645332557871],\"xaxis\":\"x\",\"y\":[-949.0869140625,-949.0869140625,-3389.3359375,-3389.3359375],\"yaxis\":\"y\",\"type\":\"scatter\"}],                        {\"autosize\":false,\"height\":5000,\"hovermode\":\"closest\",\"showlegend\":false,\"width\":900,\"xaxis\":{\"mirror\":\"allticks\",\"rangemode\":\"tozero\",\"showgrid\":false,\"showline\":true,\"showticklabels\":true,\"ticks\":\"outside\",\"type\":\"linear\",\"zeroline\":false},\"yaxis\":{\"mirror\":\"allticks\",\"rangemode\":\"tozero\",\"showgrid\":false,\"showline\":true,\"showticklabels\":true,\"tickmode\":\"array\",\"ticks\":\"outside\",\"ticktext\":[\"List do Ma\\u0142ego Ksi\\u0119cia\",\"Ma\\u0142y Ksi\\u0105\\u017c\\u0119 (3)\",\"Trzej wodzowie\",\"T\\u0119sknota\",\"Po\\u017cegnanie Liverpoolu\",\"Jasnow\\u0142osa\",\"Nasza klasa '92\",\"Bosman\",\"Dziesi\\u0119\\u0107 w skali Beauforta\",\"Pami\\u0105tka ze sp\\u0142ywu\",\"Zapada zmrok\",\"Mona\",\"W\\u0119dr\\u00f3wka z cieniem\",\"Bukowina II\",\"\\u017bbik\",\"Nie brookli\\u0144ski most\",\"Koniec\",\"Piosenka z poci\\u0105gu po\\u015bpiesznego \\\"Bi\",\"Opad\\u0142y mg\\u0142y wstaje nowy dzie\\u0144\",\"Lekcja historii klasycznej\",\"Limeryk o narodach\",\"Klas\\u00f3wka z fragmentu wolno\\u015bci\",\"Ballada wrze\\u015bniowa\",\"Mury\",\"Bez s\\u0142\\u00f3w\",\"Ballada majowa\",\"Ballada antysojowa\",\"Gdy tak siedzimy\",\"Ballada o Dzikim Zachodzie\",\"Bagno\",\"Wind\\u0105 do nieba\",\"Dezyderata\",\"Zn\\u00f3w w\\u0119drujemy\",\"Po\\u0142\\u00f3w\",\"Ocean\",\"\\u0141ab\\u0119dzi puch\",\"Poci\\u0105g grudniowy\",\"Miasto\",\"Wczoraj wieczorem\",\"Press gang\",\"Piosenka do \\u015bpiewania przy pokonywa\",\"P\\u0142y\\u0144my w d\\u00f3\\u0142 do starej maui\",\"Dwudziesty czwarty lutego\",\"Ona sobie tego nie \\u017cyczy\",\"Nadaremno\\u015b\\u0107\",\"Ju\\u017c rozpali\\u0142o si\\u0119 ognisko\",\"Pijany poeta\",\"Nie -- pro\\u015bba o r\\u0119k\\u0119\",\"Wiatr i strzyga\",\"Bellonika z miastem\",\"Ko\\u0142ysanka dla Joanny I\",\"Jak\\u0105 cen\\u0119...\",\"Ze szczytu schod\\u00f3w\",\"Tropiki\",\"Ballada o trze\\u017awym diable\",\"Co\\u015b jeszcze\",\"By\\u0142oby mi\\u0142o\",\"Pietruszka\",\"Tango na g\\u0142os, orkiestr\\u0119 i jeszcze \",\"Raport z izby otrze\\u017awie\\u0144\",\"Drzewa\",\"B\\u00f3g si\\u0119 rodzi\",\"Karol Levittoux\",\"Dym z ja\\u0142owca\",\"Koncert\",\"Madonna\",\"Makatka z anio\\u0142em\",\"Czarna Madonna\",\"Buty\",\"Dobosz\",\"Pod jod\\u0142\\u0105\",\"Ballada o Janku Wi\\u015bniewskim\",\"Nie rozdziobi\\u0105 nas kruki\",\"\\u015awietlany krzy\\u017c\",\"Wakacyjna przypowie\\u015b\\u0107 z metafizyczn\",\"Nasza klasa\",\"Nie lubi\\u0119\",\"Nie lubi\\u0119 wampir\\u00f3w\",\"Odesz\\u0142y dziewcz\\u0119ta\",\"Czas\",\"Piosenka o zaj\\u0105czku\",\"Testament\",\"Bia\\u0142a ba\\u015b\\u0144\",\"Mur 2\",\"Piosenka dla piosenki\",\"Stary cowboy\",\"P\\u00f3jd\\u017amy wszyscy do stajenki\",\"W\\u015br\\u00f3d nocnej ciszy\",\"Kol\\u0119da\",\"Jezus malusie\\u0144ki\",\"Do szopy, hej, pasterze\",\"M\\u0119drcy \\u015bwiata\",\"Ch\\u0142opaki nie p\\u0142acz\\u0105\",\"Beskid\",\"Zielony p\\u0142omie\\u0144\",\"\\u015awierszcz\",\"G\\u00f3r mi ma\\u0142o\",\"Mi\\u0142o\\u015b\\u0107\",\"Dla Michasia\",\"Alpuhara\",\"Ksi\\u0119\\u017cniczka i pirat\",\"List o czekaniu\",\"Morskie opowie\\u015bci\",\"Piosenka dla Wojtka Bellona\",\"Rondo czyli piosenka o kacu giganci\",\"Zielone szkie\\u0142ko\",\"Jak dobrze nam\",\"Jak dobrze nam\",\"Zielona dolina\",\"Przepa\\u015b\\u0107\",\"Ballada o r\\u00f3\\u017cy\",\"Jest taki samotny dom\",\"Modlitwa jesienna\",\"Zamieszkamy pod wsp\\u00f3lnym dachem\",\"Kr\\u0105g\",\"Pytania syna poety\",\"Poeta i pan Strauss\",\"Bieszczadzki rajd\",\"Piosenka do przyjaciela\",\"Piosenka dla przyjaciela\",\"Barka\",\"Oczy me pe\\u0142ne...\",\"Jestem ma\\u0142y mi\\u015b\",\"W\\u0142\\u00f3cz\\u0119dzy\",\"Mniszek\",\"Nina\",\"Ambasadorowie\",\"G\\u0142upi Gienek\",\"Katarynka\",\"Leonardo\",\"Zabierz mnie na stacj\\u0119\",\"Samotny\",\"Autobiografia\",\"Ptaki ptakom\",\"Nadziei amatorski zesp\\u00f3\\u0142\",\"1788\",\"Dok\\u0105d nas zaprowadzisz Panie\",\"Modlitwa o wschodzie s\\u0142o\\u0144ca\",\"Piosenka mazowiecka\",\"W tak\\u0105 cisz\\u0119\",\"Modlitwa w\\u0119drownego grajka\",\"\\u017bwawa piosenka o \\u017cuczku\",\"Marinette\",\"Wspomnienia\",\"Jesienne wspominanki\",\"W malinowym chru\\u015bniaku\",\"Na potoczku-m pra\\u0142a\",\"Pie\\u015b\\u0144 o \\u015bnie\",\"W\\u0119dr\\u00f3wk\\u0105 \\u017cycie jest cz\\u0142owieka\",\"Francois Villon\",\"Jaworzyna\",\"Ballada o smutnym skinie\",\"Powroty\",\"Piosenka o mufce\",\"Szanta dziewicy\",\"Blue nose\",\"Tylko chcie\\u0107\",\"\\u015amiech\",\"Wasza Wysoko\\u015b\\u0107 Kobieto\",\"Bal\",\"Zegarmistrz \\u015bwiat\\u0142a\",\"Po\\u0142oniny niebieskie\",\"Czarny blues o czwartej nad ranem\",\"Tyle mi zosta\\u0142o co mi nakapa\\u0142o\",\"Spotkanie w porcie\",\"\\u017bal za Bu\\u0142atem O.\",\"Modlitwa\",\"Piosenka napisana mimochodem\",\"Cz\\u0142owiek bez but\\u00f3w\",\"Sen Katarzyny II\",\"\\u015aliczna higieniczna\",\"Jaka jeste\\u015b\",\"Creutzfeldt-Jakob\",\"Piosenka dla c\\u00f3rki\",\"Gdy si\\u0119 Chrystus rodzi\",\"Gloria\",\"Bia\\u0142a sukienka\",\"Dwie ska\\u0142y\",\"Kochaj mnie i dotykaj\",\"Piosenka turystyczna 3\",\"Nocna piosenka o mie\\u015bcie\",\"Prawo d\\u017cungli\",\"My\\u015bliwa\",\"Bombonierka\",\"Miejcie nadziej\\u0119\",\"Jak\",\"Dzi\\u015b do ciebie\",\"Jedyne co mam\",\"Bukowina I\",\"Ob\\u0142awa 2\",\"Ob\\u0142awa\",\"Wr\\u00f3\\u017cba\",\"Zbroja\",\"*** [Wiod\\u0105, wiod\\u0105 drogi w \\u015bwiat...]\",\"Rozstaje\",\"Hymn harcerski\",\"Harcerskie idea\\u0142y\",\"Panna kminkowa\",\"Ballada o arenie cyrkowej\",\"Szara ballada\",\"Szcz\\u0119\\u015bcie\",\"List do \\u015bwiata\",\"Odpowied\\u017a na ankiet\\u0119 ,,Tw\\u00f3j system \",\"Burza\",\"Sze\\u015b\\u0107 b\\u0142ota st\\u00f3p\",\"Nie wierzcie piechocie\",\"Goryl\",\"Ballada rajdowa\",\"G\\u00f3rska ballada\",\"Wojtka Bellona ostatnia ziemska pod\",\"Dni kt\\u00f3rych nie znamy\",\"Tawerna pod pijan\\u0105 zgraj\\u0105\",\"Rozbite oddzia\\u0142y\",\"Bajka\",\"Ballada na urodziny\",\"\\u017bycie to nie teatr\",\"Sierpie\\u0144\",\"U \\u017ar\\u00f3de\\u0142 t\\u0119sknot\",\"Scarlett\",\"Moi przyjaciele\",\"Hej przyjaciele\",\"Przyjaci\\u00f3\\u0142ko\",\"Polanka\",\"Mi\\u0119dzy nami tyle \\u015bniegu\",\"Nuta z Ponidzia\",\"Wiosenna pie\\u015b\\u0144 rado\\u015bci\",\"Pisz\\u0119 historyczn\\u0105 powie\\u015b\\u0107\",\"Jesienna zaduma\",\"S\\u0142ynny niebieski prochowiec\",\"List\",\"Czasem nagle smutniejesz\",\"Opowie\\u015b\\u0107 pewnego emigranta\",\"Czarny kot\",\"Piosenka turystyczna 1\",\"Piosenka na rozgrzanie\",\"Teksa\\u0144ski\",\"Obok Ciebie\",\"W lesie listopadowym\",\"Po\\u017cegnanie Okud\\u017cawy\",\"Bawitko\",\"Pie\\u015b\\u0144 na wyj\\u015bcie\",\"Pie\\u015b\\u0144 na wej\\u015bcie\",\"Plastelina\",\"Najemnicy\",\"Makatka kusz\\u0105ca\",\"Bar w Beskidzie\",\"Po\\u017cegnanie 2\",\"Piosenka turystyczna 2\",\"P\\u0142acz moja wodo\",\"Rzeka\",\"Blues niepotrzebnych powrot\\u00f3w\",\"W\\u0119drowiec\",\"Kocham Ci\\u0119 jak Irlandi\\u0119\",\"\\u017begluj\",\"Powr\\u00f3t\",\"Piosenka bez tytu\\u0142u\",\"Przemijanie\",\"Jest ju\\u017c za p\\u00f3\\u017ano, nie jest za p\\u00f3\\u017an\",\"Jaki by\\u0142 ten dzie\\u0144\",\"Kaszubskie noce\",\"Micha\\u0142 Wo\\u0142odyjowski\",\"Szkic do portretu\",\"Piosenka wiosenna\",\"Przerwa w podr\\u00f3\\u017cy\",\"Cichutko\",\"Dzielna Margot\",\"Krak\\u00f3w, Piwna 7\",\"Zazdro\\u015b\\u0107\",\"Kim w\\u0142a\\u015bciwie by\\u0142a ta pi\\u0119kna pani, \",\"Pie\\u015b\\u0144 gruzi\\u0144ska\",\"Kocha\\u0107\",\"Gdy mnie kocha\\u0107 przestaniesz\",\"Kantyczka z lotu ptaka\",\"Osada\",\"Mucha w szklance lemoniady\",\"Ba\\u015b\\u0144\",\"Gda\\u0144sk\",\"Morze P\\u00f3\\u0142nocne\",\"Broadway\",\"Fiddler's Green\",\"Amsterdam\",\"We wtorek w schronisku po sezonie\",\"R\\u00f3\\u017ca\",\"Sprzysi\\u0119\\u017ceni\",\"Niedoko\\u0144czona jesienna fuga\",\"Pejza\\u017ce harasymowiczowskie\",\"Bartne\",\"Bar na stawach\",\"Hiszpa\\u0144skie dziewczyny\",\"Emeryt\",\"Na Mazury\",\"Samantha\",\"Majster bieda\",\"Wizyta u malarki\",\"Pszcz\\u00f3\\u0142ka maja\",\"Blues dla ma\\u0142ej\",\"Sk\\u00f3ra\",\"Krajka (pe\\u0142na wersja)\",\"Krajka\",\"Nie chod\\u017a tam\",\"Chod\\u017a pomaluj m\\u00f3j \\u015bwiat\",\"Zamknij dom\",\"Easy Rider\",\"Chory na wyobra\\u017ani\\u0119\",\"Bia\\u0142y kaftanik\",\"Idzie sobie kr\\u00f3lik\",\"Pod \\u015bliwk\\u0105\",\"Anio\\u0142 i diabe\\u0142\",\"Wiesiek idzie\",\"Jesie\\u0144 idzie\",\"Wiatr, wiosenny gitarzysta\",\"Wrzosowisko\",\"B\\u0119dziesz moj\\u0105 pani\\u0105\",\"Gdziekolwiek\",\"Bajka o g\\u0142upim Jasiu\",\"Zbieg okoliczno\\u015bci \\u0142agodz\\u0105cych\",\"Niepok\\u00f3j\",\"Ko\\u0142ysanka\",\"Kubu\\u015b\",\"Kubu\\u015b Puchatek\",\"Ostatnia mruczanka albo spleen Kubu\",\"Zapisz\\u0119 \\u015bniegiem w kominie\",\"Ach, kiedy znowu rusz\\u0105 dla mnie dni\",\"Zima\",\"Wehiku\\u0142 czasu\",\"Ballada o cze\\u015bku piekarzu\",\"Niebieska piosenka\",\"Ballada o krzy\\u017cowcu\",\"Nocny kawboy\",\"*** [Trzy pier\\u015bcienie dla kr\\u00f3l\\u00f3w el\",\"\\u0179r\\u00f3d\\u0142o II\",\"\\u0179r\\u00f3d\\u0142o\",\"P\\u0142onie ognisko i szumi\\u0105 knieje\",\"*** [Zaci\\u0105gnijcie na oknie niebiesk\",\"Id\\u0105 skauci\",\"Balonik\",\"Whisky\",\"Ci wszyscy ludzie\",\"Kara Barabasza\",\"Zaledwo wiem\",\"Motyle poca\\u0142unki\",\"Dylan -- pastisz\",\"Tobie albo zawieja w Michigan\",\"Deszcz jesienny\",\"Paj\\u0105czek\",\"Noc albo oczekiwanie na \\u015bniadanie\",\"Wiecz\\u00f3r\",\"Imperatyw\",\"Malarze\",\"Piosenka o Arbacie\",\"Jezioro\",\"O krok\",\"Kaganek\",\"Bieszczadzkie anio\\u0142y\",\"Nowa\",\"Ogie\\u0144\",\"Piosenka o papierowym \\u017co\\u0142nierzyku\",\"Kolekcja\",\"Majka\",\"Ballada o \\u015bwi\\u0119tym Miko\\u0142aju\",\"Noc niespodzianek\",\"Hiszpanka z Callao\",\"Po\\u017cegnalny ton\",\"Ulice Londynu\",\"Zuzanna\",\"Poca\\u0142uj noc\",\"Kiedy m\\u00f3wisz\",\"Po\\u017cegnanie\",\"Jesienne wino\",\"Ko\\u0142ysanka dla misiak\\u00f3w\",\"Tolerancja\",\"Pijak\",\"Jak b\\u0119d\\u0119 stary zgrzybia\\u0142y...\",\"Piosenka o przyjacio\\u0142ach, wietrze, \",\"Spowied\\u017a u ksi\\u0119dza Bernardyna\",\"Bieszczady\",\"Piosenka dla juniora i jego gitary\",\"Jeszcze nie czas\",\"To co by\\u0142o min\\u0119\\u0142o\",\"Ja\\u0142ta\",\"Wa\\u0144ka Morozow\",\"Po\\u017cegnanie\",\"Pie\\u015b\\u0144 po\\u017cegnalna\",\"Zawsze tam gdzie ty\",\"Chyba ju\\u017c czas wraca\\u0107 do domu\",\"Pie\\u015b\\u0144 XXIX\",\"Niebo do wynaj\\u0119cia\",\"Sielanka o domu\",\"\\u015awiadkowie lata\",\"Zwiewno\\u015b\\u0107\",\"Noc w bac\\u00f3wce\",\"Dom wschodz\\u0105cego s\\u0142o\\u0144ca\",\"A my nie chcemy ucieka\\u0107 st\\u0105d\",\"Dom w g\\u00f3rach\",\"Na b\\u0142\\u0119kicie jest polana\",\"W\\u0119drowanie\",\"Gdy \\u015bliczna panna\",\"Lulaj\\u017ce Jezuniu\",\"Kamienie\",\"Mazurscy kolumbowie\",\"Pan Kmicic\",\"Ukraina\",\"Pacyfik\",\"Mister Stormalong\",\"D\\u017cungla\",\"Ballada o cz\\u0142owieku z kwiatami\",\"Piosenka o mojej ulicy\",\"Moje miasto\",\"Beskid jesieni\\u0105\",\"Na kredyt zaufania\",\"Cicha noc\",\"Sanctus\",\"\\u0141emkowyna\",\"Jesie\\u0144 w g\\u00f3rach\",\"Id\\u0105c zawsze id\\u017a\",\"Zawirowa\\u0142 \\u015bwiat\",\"Kocham wolno\\u015b\\u0107\",\"Ballada o dziewczynie co pi\\u0142a gor\\u0105c\",\"Mur 1\",\"Jesienny obrazek\",\"Marchewkowe pole\",\"Szara lilijka\",\"W\\u0142\\u00f3\\u017c plecak\",\"Nie patrz na to mi\\u0142a\",\"Leluch\\u00f3w\",\"Mi\\u0142y m\\u00f3j\",\"Bieszczadzki trakt\",\"Piechot\\u0105 do lata\",\"Co\\u015b\",\"Fortepian Szopena\",\"Przechy\\u0142y\",\"\\u015amia\\u0142y Harpunnik\",\"O braciach kt\\u00f3rzy pytali si\\u0119\",\"Korow\\u00f3d\",\"Gdybym mia\\u0142 gitar\\u0119\",\"Bia\\u0142a lokomotywa\",\"Pan Podbipi\\u0119ta\",\"Pan Wo\\u0142odyjowski\",\"Rapsod o kr\\u00f3lu Warne\\u0144czyku\",\"Piosenka o kr\\u00f3lu i \\u017co\\u0142nierzach\",\"Ja mam tylko jeden \\u015bwiat\",\"Kiedy w pi\\u0105tek\",\"Goni\\u0107 marzenia\",\"Lato z ptakami odchodzi\",\"Leniwa niedziela\",\"Wielki W\\u00f3z\",\"Piosenka dla starego wie\\u015bniaka\"],\"tickvals\":[-5.0,-15.0,-25.0,-35.0,-45.0,-55.0,-65.0,-75.0,-85.0,-95.0,-105.0,-115.0,-125.0,-135.0,-145.0,-155.0,-165.0,-175.0,-185.0,-195.0,-205.0,-215.0,-225.0,-235.0,-245.0,-255.0,-265.0,-275.0,-285.0,-295.0,-305.0,-315.0,-325.0,-335.0,-345.0,-355.0,-365.0,-375.0,-385.0,-395.0,-405.0,-415.0,-425.0,-435.0,-445.0,-455.0,-465.0,-475.0,-485.0,-495.0,-505.0,-515.0,-525.0,-535.0,-545.0,-555.0,-565.0,-575.0,-585.0,-595.0,-605.0,-615.0,-625.0,-635.0,-645.0,-655.0,-665.0,-675.0,-685.0,-695.0,-705.0,-715.0,-725.0,-735.0,-745.0,-755.0,-765.0,-775.0,-785.0,-795.0,-805.0,-815.0,-825.0,-835.0,-845.0,-855.0,-865.0,-875.0,-885.0,-895.0,-905.0,-915.0,-925.0,-935.0,-945.0,-955.0,-965.0,-975.0,-985.0,-995.0,-1005.0,-1015.0,-1025.0,-1035.0,-1045.0,-1055.0,-1065.0,-1075.0,-1085.0,-1095.0,-1105.0,-1115.0,-1125.0,-1135.0,-1145.0,-1155.0,-1165.0,-1175.0,-1185.0,-1195.0,-1205.0,-1215.0,-1225.0,-1235.0,-1245.0,-1255.0,-1265.0,-1275.0,-1285.0,-1295.0,-1305.0,-1315.0,-1325.0,-1335.0,-1345.0,-1355.0,-1365.0,-1375.0,-1385.0,-1395.0,-1405.0,-1415.0,-1425.0,-1435.0,-1445.0,-1455.0,-1465.0,-1475.0,-1485.0,-1495.0,-1505.0,-1515.0,-1525.0,-1535.0,-1545.0,-1555.0,-1565.0,-1575.0,-1585.0,-1595.0,-1605.0,-1615.0,-1625.0,-1635.0,-1645.0,-1655.0,-1665.0,-1675.0,-1685.0,-1695.0,-1705.0,-1715.0,-1725.0,-1735.0,-1745.0,-1755.0,-1765.0,-1775.0,-1785.0,-1795.0,-1805.0,-1815.0,-1825.0,-1835.0,-1845.0,-1855.0,-1865.0,-1875.0,-1885.0,-1895.0,-1905.0,-1915.0,-1925.0,-1935.0,-1945.0,-1955.0,-1965.0,-1975.0,-1985.0,-1995.0,-2005.0,-2015.0,-2025.0,-2035.0,-2045.0,-2055.0,-2065.0,-2075.0,-2085.0,-2095.0,-2105.0,-2115.0,-2125.0,-2135.0,-2145.0,-2155.0,-2165.0,-2175.0,-2185.0,-2195.0,-2205.0,-2215.0,-2225.0,-2235.0,-2245.0,-2255.0,-2265.0,-2275.0,-2285.0,-2295.0,-2305.0,-2315.0,-2325.0,-2335.0,-2345.0,-2355.0,-2365.0,-2375.0,-2385.0,-2395.0,-2405.0,-2415.0,-2425.0,-2435.0,-2445.0,-2455.0,-2465.0,-2475.0,-2485.0,-2495.0,-2505.0,-2515.0,-2525.0,-2535.0,-2545.0,-2555.0,-2565.0,-2575.0,-2585.0,-2595.0,-2605.0,-2615.0,-2625.0,-2635.0,-2645.0,-2655.0,-2665.0,-2675.0,-2685.0,-2695.0,-2705.0,-2715.0,-2725.0,-2735.0,-2745.0,-2755.0,-2765.0,-2775.0,-2785.0,-2795.0,-2805.0,-2815.0,-2825.0,-2835.0,-2845.0,-2855.0,-2865.0,-2875.0,-2885.0,-2895.0,-2905.0,-2915.0,-2925.0,-2935.0,-2945.0,-2955.0,-2965.0,-2975.0,-2985.0,-2995.0,-3005.0,-3015.0,-3025.0,-3035.0,-3045.0,-3055.0,-3065.0,-3075.0,-3085.0,-3095.0,-3105.0,-3115.0,-3125.0,-3135.0,-3145.0,-3155.0,-3165.0,-3175.0,-3185.0,-3195.0,-3205.0,-3215.0,-3225.0,-3235.0,-3245.0,-3255.0,-3265.0,-3275.0,-3285.0,-3295.0,-3305.0,-3315.0,-3325.0,-3335.0,-3345.0,-3355.0,-3365.0,-3375.0,-3385.0,-3395.0,-3405.0,-3415.0,-3425.0,-3435.0,-3445.0,-3455.0,-3465.0,-3475.0,-3485.0,-3495.0,-3505.0,-3515.0,-3525.0,-3535.0,-3545.0,-3555.0,-3565.0,-3575.0,-3585.0,-3595.0,-3605.0,-3615.0,-3625.0,-3635.0,-3645.0,-3655.0,-3665.0,-3675.0,-3685.0,-3695.0,-3705.0,-3715.0,-3725.0,-3735.0,-3745.0,-3755.0,-3765.0,-3775.0,-3785.0,-3795.0,-3805.0,-3815.0,-3825.0,-3835.0,-3845.0,-3855.0,-3865.0,-3875.0,-3885.0,-3895.0,-3905.0,-3915.0,-3925.0,-3935.0,-3945.0,-3955.0,-3965.0,-3975.0,-3985.0,-3995.0,-4005.0,-4015.0,-4025.0,-4035.0,-4045.0,-4055.0,-4065.0,-4075.0,-4085.0,-4095.0,-4105.0,-4115.0,-4125.0,-4135.0,-4145.0,-4155.0,-4165.0,-4175.0,-4185.0,-4195.0,-4205.0,-4215.0,-4225.0,-4235.0,-4245.0,-4255.0,-4265.0,-4275.0,-4285.0,-4295.0,-4305.0,-4315.0,-4325.0,-4335.0,-4345.0,-4355.0,-4365.0,-4375.0,-4385.0,-4395.0,-4405.0,-4415.0,-4425.0,-4435.0,-4445.0,-4455.0,-4465.0],\"type\":\"linear\",\"zeroline\":false},\"template\":{\"data\":{\"histogram2dcontour\":[{\"type\":\"histogram2dcontour\",\"colorbar\":{\"outlinewidth\":0,\"ticks\":\"\"},\"colorscale\":[[0.0,\"#0d0887\"],[0.1111111111111111,\"#46039f\"],[0.2222222222222222,\"#7201a8\"],[0.3333333333333333,\"#9c179e\"],[0.4444444444444444,\"#bd3786\"],[0.5555555555555556,\"#d8576b\"],[0.6666666666666666,\"#ed7953\"],[0.7777777777777778,\"#fb9f3a\"],[0.8888888888888888,\"#fdca26\"],[1.0,\"#f0f921\"]]}],\"choropleth\":[{\"type\":\"choropleth\",\"colorbar\":{\"outlinewidth\":0,\"ticks\":\"\"}}],\"histogram2d\":[{\"type\":\"histogram2d\",\"colorbar\":{\"outlinewidth\":0,\"ticks\":\"\"},\"colorscale\":[[0.0,\"#0d0887\"],[0.1111111111111111,\"#46039f\"],[0.2222222222222222,\"#7201a8\"],[0.3333333333333333,\"#9c179e\"],[0.4444444444444444,\"#bd3786\"],[0.5555555555555556,\"#d8576b\"],[0.6666666666666666,\"#ed7953\"],[0.7777777777777778,\"#fb9f3a\"],[0.8888888888888888,\"#fdca26\"],[1.0,\"#f0f921\"]]}],\"heatmap\":[{\"type\":\"heatmap\",\"colorbar\":{\"outlinewidth\":0,\"ticks\":\"\"},\"colorscale\":[[0.0,\"#0d0887\"],[0.1111111111111111,\"#46039f\"],[0.2222222222222222,\"#7201a8\"],[0.3333333333333333,\"#9c179e\"],[0.4444444444444444,\"#bd3786\"],[0.5555555555555556,\"#d8576b\"],[0.6666666666666666,\"#ed7953\"],[0.7777777777777778,\"#fb9f3a\"],[0.8888888888888888,\"#fdca26\"],[1.0,\"#f0f921\"]]}],\"heatmapgl\":[{\"type\":\"heatmapgl\",\"colorbar\":{\"outlinewidth\":0,\"ticks\":\"\"},\"colorscale\":[[0.0,\"#0d0887\"],[0.1111111111111111,\"#46039f\"],[0.2222222222222222,\"#7201a8\"],[0.3333333333333333,\"#9c179e\"],[0.4444444444444444,\"#bd3786\"],[0.5555555555555556,\"#d8576b\"],[0.6666666666666666,\"#ed7953\"],[0.7777777777777778,\"#fb9f3a\"],[0.8888888888888888,\"#fdca26\"],[1.0,\"#f0f921\"]]}],\"contourcarpet\":[{\"type\":\"contourcarpet\",\"colorbar\":{\"outlinewidth\":0,\"ticks\":\"\"}}],\"contour\":[{\"type\":\"contour\",\"colorbar\":{\"outlinewidth\":0,\"ticks\":\"\"},\"colorscale\":[[0.0,\"#0d0887\"],[0.1111111111111111,\"#46039f\"],[0.2222222222222222,\"#7201a8\"],[0.3333333333333333,\"#9c179e\"],[0.4444444444444444,\"#bd3786\"],[0.5555555555555556,\"#d8576b\"],[0.6666666666666666,\"#ed7953\"],[0.7777777777777778,\"#fb9f3a\"],[0.8888888888888888,\"#fdca26\"],[1.0,\"#f0f921\"]]}],\"surface\":[{\"type\":\"surface\",\"colorbar\":{\"outlinewidth\":0,\"ticks\":\"\"},\"colorscale\":[[0.0,\"#0d0887\"],[0.1111111111111111,\"#46039f\"],[0.2222222222222222,\"#7201a8\"],[0.3333333333333333,\"#9c179e\"],[0.4444444444444444,\"#bd3786\"],[0.5555555555555556,\"#d8576b\"],[0.6666666666666666,\"#ed7953\"],[0.7777777777777778,\"#fb9f3a\"],[0.8888888888888888,\"#fdca26\"],[1.0,\"#f0f921\"]]}],\"mesh3d\":[{\"type\":\"mesh3d\",\"colorbar\":{\"outlinewidth\":0,\"ticks\":\"\"}}],\"scatter\":[{\"fillpattern\":{\"fillmode\":\"overlay\",\"size\":10,\"solidity\":0.2},\"type\":\"scatter\"}],\"parcoords\":[{\"type\":\"parcoords\",\"line\":{\"colorbar\":{\"outlinewidth\":0,\"ticks\":\"\"}}}],\"scatterpolargl\":[{\"type\":\"scatterpolargl\",\"marker\":{\"colorbar\":{\"outlinewidth\":0,\"ticks\":\"\"}}}],\"bar\":[{\"error_x\":{\"color\":\"#2a3f5f\"},\"error_y\":{\"color\":\"#2a3f5f\"},\"marker\":{\"line\":{\"color\":\"#E5ECF6\",\"width\":0.5},\"pattern\":{\"fillmode\":\"overlay\",\"size\":10,\"solidity\":0.2}},\"type\":\"bar\"}],\"scattergeo\":[{\"type\":\"scattergeo\",\"marker\":{\"colorbar\":{\"outlinewidth\":0,\"ticks\":\"\"}}}],\"scatterpolar\":[{\"type\":\"scatterpolar\",\"marker\":{\"colorbar\":{\"outlinewidth\":0,\"ticks\":\"\"}}}],\"histogram\":[{\"marker\":{\"pattern\":{\"fillmode\":\"overlay\",\"size\":10,\"solidity\":0.2}},\"type\":\"histogram\"}],\"scattergl\":[{\"type\":\"scattergl\",\"marker\":{\"colorbar\":{\"outlinewidth\":0,\"ticks\":\"\"}}}],\"scatter3d\":[{\"type\":\"scatter3d\",\"line\":{\"colorbar\":{\"outlinewidth\":0,\"ticks\":\"\"}},\"marker\":{\"colorbar\":{\"outlinewidth\":0,\"ticks\":\"\"}}}],\"scattermapbox\":[{\"type\":\"scattermapbox\",\"marker\":{\"colorbar\":{\"outlinewidth\":0,\"ticks\":\"\"}}}],\"scatterternary\":[{\"type\":\"scatterternary\",\"marker\":{\"colorbar\":{\"outlinewidth\":0,\"ticks\":\"\"}}}],\"scattercarpet\":[{\"type\":\"scattercarpet\",\"marker\":{\"colorbar\":{\"outlinewidth\":0,\"ticks\":\"\"}}}],\"carpet\":[{\"aaxis\":{\"endlinecolor\":\"#2a3f5f\",\"gridcolor\":\"white\",\"linecolor\":\"white\",\"minorgridcolor\":\"white\",\"startlinecolor\":\"#2a3f5f\"},\"baxis\":{\"endlinecolor\":\"#2a3f5f\",\"gridcolor\":\"white\",\"linecolor\":\"white\",\"minorgridcolor\":\"white\",\"startlinecolor\":\"#2a3f5f\"},\"type\":\"carpet\"}],\"table\":[{\"cells\":{\"fill\":{\"color\":\"#EBF0F8\"},\"line\":{\"color\":\"white\"}},\"header\":{\"fill\":{\"color\":\"#C8D4E3\"},\"line\":{\"color\":\"white\"}},\"type\":\"table\"}],\"barpolar\":[{\"marker\":{\"line\":{\"color\":\"#E5ECF6\",\"width\":0.5},\"pattern\":{\"fillmode\":\"overlay\",\"size\":10,\"solidity\":0.2}},\"type\":\"barpolar\"}],\"pie\":[{\"automargin\":true,\"type\":\"pie\"}]},\"layout\":{\"autotypenumbers\":\"strict\",\"colorway\":[\"#636efa\",\"#EF553B\",\"#00cc96\",\"#ab63fa\",\"#FFA15A\",\"#19d3f3\",\"#FF6692\",\"#B6E880\",\"#FF97FF\",\"#FECB52\"],\"font\":{\"color\":\"#2a3f5f\"},\"hovermode\":\"closest\",\"hoverlabel\":{\"align\":\"left\"},\"paper_bgcolor\":\"white\",\"plot_bgcolor\":\"#E5ECF6\",\"polar\":{\"bgcolor\":\"#E5ECF6\",\"angularaxis\":{\"gridcolor\":\"white\",\"linecolor\":\"white\",\"ticks\":\"\"},\"radialaxis\":{\"gridcolor\":\"white\",\"linecolor\":\"white\",\"ticks\":\"\"}},\"ternary\":{\"bgcolor\":\"#E5ECF6\",\"aaxis\":{\"gridcolor\":\"white\",\"linecolor\":\"white\",\"ticks\":\"\"},\"baxis\":{\"gridcolor\":\"white\",\"linecolor\":\"white\",\"ticks\":\"\"},\"caxis\":{\"gridcolor\":\"white\",\"linecolor\":\"white\",\"ticks\":\"\"}},\"coloraxis\":{\"colorbar\":{\"outlinewidth\":0,\"ticks\":\"\"}},\"colorscale\":{\"sequential\":[[0.0,\"#0d0887\"],[0.1111111111111111,\"#46039f\"],[0.2222222222222222,\"#7201a8\"],[0.3333333333333333,\"#9c179e\"],[0.4444444444444444,\"#bd3786\"],[0.5555555555555556,\"#d8576b\"],[0.6666666666666666,\"#ed7953\"],[0.7777777777777778,\"#fb9f3a\"],[0.8888888888888888,\"#fdca26\"],[1.0,\"#f0f921\"]],\"sequentialminus\":[[0.0,\"#0d0887\"],[0.1111111111111111,\"#46039f\"],[0.2222222222222222,\"#7201a8\"],[0.3333333333333333,\"#9c179e\"],[0.4444444444444444,\"#bd3786\"],[0.5555555555555556,\"#d8576b\"],[0.6666666666666666,\"#ed7953\"],[0.7777777777777778,\"#fb9f3a\"],[0.8888888888888888,\"#fdca26\"],[1.0,\"#f0f921\"]],\"diverging\":[[0,\"#8e0152\"],[0.1,\"#c51b7d\"],[0.2,\"#de77ae\"],[0.3,\"#f1b6da\"],[0.4,\"#fde0ef\"],[0.5,\"#f7f7f7\"],[0.6,\"#e6f5d0\"],[0.7,\"#b8e186\"],[0.8,\"#7fbc41\"],[0.9,\"#4d9221\"],[1,\"#276419\"]]},\"xaxis\":{\"gridcolor\":\"white\",\"linecolor\":\"white\",\"ticks\":\"\",\"title\":{\"standoff\":15},\"zerolinecolor\":\"white\",\"automargin\":true,\"zerolinewidth\":2},\"yaxis\":{\"gridcolor\":\"white\",\"linecolor\":\"white\",\"ticks\":\"\",\"title\":{\"standoff\":15},\"zerolinecolor\":\"white\",\"automargin\":true,\"zerolinewidth\":2},\"scene\":{\"xaxis\":{\"backgroundcolor\":\"#E5ECF6\",\"gridcolor\":\"white\",\"linecolor\":\"white\",\"showbackground\":true,\"ticks\":\"\",\"zerolinecolor\":\"white\",\"gridwidth\":2},\"yaxis\":{\"backgroundcolor\":\"#E5ECF6\",\"gridcolor\":\"white\",\"linecolor\":\"white\",\"showbackground\":true,\"ticks\":\"\",\"zerolinecolor\":\"white\",\"gridwidth\":2},\"zaxis\":{\"backgroundcolor\":\"#E5ECF6\",\"gridcolor\":\"white\",\"linecolor\":\"white\",\"showbackground\":true,\"ticks\":\"\",\"zerolinecolor\":\"white\",\"gridwidth\":2}},\"shapedefaults\":{\"line\":{\"color\":\"#2a3f5f\"}},\"annotationdefaults\":{\"arrowcolor\":\"#2a3f5f\",\"arrowhead\":0,\"arrowwidth\":1},\"geo\":{\"bgcolor\":\"white\",\"landcolor\":\"#E5ECF6\",\"subunitcolor\":\"white\",\"showland\":true,\"showlakes\":true,\"lakecolor\":\"white\"},\"title\":{\"x\":0.05},\"mapbox\":{\"style\":\"light\"}}}},                        {\"responsive\": true}                    ).then(function(){\n",
       "                            \n",
       "var gd = document.getElementById('3cb670fb-3e6a-4129-b4a9-1dd7f427995a');\n",
       "var x = new MutationObserver(function (mutations, observer) {{\n",
       "        var display = window.getComputedStyle(gd).display;\n",
       "        if (!display || display === 'none') {{\n",
       "            console.log([gd, 'removed!']);\n",
       "            Plotly.purge(gd);\n",
       "            observer.disconnect();\n",
       "        }}\n",
       "}});\n",
       "\n",
       "// Listen for the removal of the full notebook cells\n",
       "var notebookContainer = gd.closest('#notebook-container');\n",
       "if (notebookContainer) {{\n",
       "    x.observe(notebookContainer, {childList: true});\n",
       "}}\n",
       "\n",
       "// Listen for the clearing of the current output cell\n",
       "var outputEl = gd.closest('.output');\n",
       "if (outputEl) {{\n",
       "    x.observe(outputEl, {childList: true});\n",
       "}}\n",
       "\n",
       "                        })                };                });            </script>        </div>"
      ]
     },
     "metadata": {},
     "output_type": "display_data"
    }
   ],
   "source": [
    "def plot_dendrogram(lsa_matrix,song_names):\n",
    "\n",
    "    fig = ff.create_dendrogram(lsa_matrix,\n",
    "                               orientation='left',\n",
    "                               labels=song_names,\n",
    "                               linkagefun=lambda x: sch.linkage(x, 'complete'),\n",
    "                               distfun=lambda x: ss.distance.pdist(x, metric='euclidean')\n",
    "                              )\n",
    "    fig.update_layout(width=900, height=5000)\n",
    "    fig.show()\n",
    "    \n",
    "plot_dendrogram(norm_lsa_matrix, song_names)"
   ]
  },
  {
   "cell_type": "markdown",
   "id": "71ae6c8e",
   "metadata": {},
   "source": [
    "Piosenki powstałe na podstawie innej:\n",
    "\n",
    "   * Opadły mgły i Piosenka z pociągu pośpiesznego \"Bieszczady\" z Katowic do Zagórza przez Kraków Płaszów, Tarnów, Stróże\n",
    "   * jesień idzie i wiesiek idzie"
   ]
  },
  {
   "cell_type": "markdown",
   "id": "5106c040",
   "metadata": {},
   "source": [
    "Wyłapałam pliki o tej samej/bardzo podobnej treści\n",
    "Takie same pliki:\n",
    "    * Pożegnanie 3 i pieśń pożegnalna\n",
    "    * ja mam tylko jedeń świat i KIedy w piątek\n",
    "    * pod śliwą oraz anioł i diabeł\n",
    "    * Krajka i Krajka pełna wersja\n",
    "    * piosenka do przyjaciela i piosenka dla przyjaciela\n",
    "    * Jak dobrze nam x2"
   ]
  },
  {
   "cell_type": "code",
   "execution_count": 44,
   "id": "5ec0787c",
   "metadata": {},
   "outputs": [],
   "source": [
    "song=\"song.xml\""
   ]
  },
  {
   "cell_type": "code",
   "execution_count": 46,
   "id": "4be0d1aa",
   "metadata": {},
   "outputs": [
    {
     "data": {
      "text/plain": [
       "('', 'song.xml')"
      ]
     },
     "execution_count": 46,
     "metadata": {},
     "output_type": "execute_result"
    }
   ],
   "source": [
    "os.path.split(song)"
   ]
  },
  {
   "cell_type": "code",
   "execution_count": 1,
   "id": "9df1ad8c",
   "metadata": {},
   "outputs": [],
   "source": [
    "?exit"
   ]
  },
  {
   "cell_type": "code",
   "execution_count": null,
   "id": "edd0e266",
   "metadata": {},
   "outputs": [],
   "source": []
  }
 ],
 "metadata": {
  "kernelspec": {
   "display_name": "Python 3 (ipykernel)",
   "language": "python",
   "name": "python3"
  },
  "language_info": {
   "codemirror_mode": {
    "name": "ipython",
    "version": 3
   },
   "file_extension": ".py",
   "mimetype": "text/x-python",
   "name": "python",
   "nbconvert_exporter": "python",
   "pygments_lexer": "ipython3",
   "version": "3.9.13"
  },
  "toc": {
   "base_numbering": 1,
   "nav_menu": {},
   "number_sections": false,
   "sideBar": true,
   "skip_h1_title": true,
   "title_cell": "Table of Contents",
   "title_sidebar": "Contents",
   "toc_cell": false,
   "toc_position": {},
   "toc_section_display": true,
   "toc_window_display": false
  },
  "varInspector": {
   "cols": {
    "lenName": 16,
    "lenType": 16,
    "lenVar": 40
   },
   "kernels_config": {
    "python": {
     "delete_cmd_postfix": "",
     "delete_cmd_prefix": "del ",
     "library": "var_list.py",
     "varRefreshCmd": "print(var_dic_list())"
    },
    "r": {
     "delete_cmd_postfix": ") ",
     "delete_cmd_prefix": "rm(",
     "library": "var_list.r",
     "varRefreshCmd": "cat(var_dic_list()) "
    }
   },
   "types_to_exclude": [
    "module",
    "function",
    "builtin_function_or_method",
    "instance",
    "_Feature"
   ],
   "window_display": false
  }
 },
 "nbformat": 4,
 "nbformat_minor": 5
}
